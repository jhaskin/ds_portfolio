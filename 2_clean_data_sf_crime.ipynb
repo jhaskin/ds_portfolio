{
 "cells": [
  {
   "cell_type": "markdown",
   "metadata": {},
   "source": [
    "# Clean San Francisco Crime data \n",
    "- Jim Haskin\n",
    "\n",
    "- GA-Data Science\n",
    "- Dec 2015\n",
    "\n",
    "- 2/17/2016"
   ]
  },
  {
   "cell_type": "markdown",
   "metadata": {},
   "source": [
    "## Method\n",
    "- I have collected the incident reports of the San Franciso Police Department from the SF OpenData website. https://data.sfgov.org/data?category=Public%20Safety. I have the records from January, 2003 until the beginning of 2016.\n",
    "- I cleaned and reformated the fields.\n",
    "- I summerized the report to generate a daily report of the number of incidents and another factor I am calling Crime Level. Each incident is given a score based on how violent it is. Murders and assaults are rated high. Traffic violations and non-criminal incidents are rated low. These scores are summed and then normalized to a scale of 0 - 10."
   ]
  },
  {
   "cell_type": "markdown",
   "metadata": {},
   "source": [
    "# Working Notes\n",
    "## features to add or create\n",
    "- shift - when during the day did the event occure\n",
    "- crime_level - how severe is the crime - use catagory and description features\n",
    "- month\n",
    "- day of month\n",
    "\n",
    "## consolidate to daily totals\n",
    "- date\n",
    "- day of week\n",
    "- month\n",
    "- day\n",
    "- total_crime_level - daily total\n",
    "- shift_crime_level - daily total for each shift\n",
    "\n",
    "## merge with weather info by date\n"
   ]
  },
  {
   "cell_type": "markdown",
   "metadata": {},
   "source": [
    "## Data source\n",
    "- Data downloaded from SF Open Data site. File includes incidents from 1/1/2003 until the present \n",
    "- SFPD_Incidents_-_from_1_January_2003.csv\n",
    "- https://data.sfgov.org/data?category=Public%20Safety\n",
    "\n",
    "\n",
    "FieldName|Type|Description                             \n",
    "---------------|------------|---------------------\n",
    "IncidntNum|string|Police assigned number\n",
    "Category|string|General Crime category\n",
    "Descript|string|Secondary category/details\n",
    "DayOfWeek|string|Day of week event occured\n",
    "Date|string|Date in format : 01/18/2016\n",
    "Time|string|Time in format : 23:52\n",
    "PdDistrict|string|Police District that event occured in\n",
    "Resolution|int|How case was resolved\n",
    "Address|string|Address of event\n",
    "X|float|Longitude \n",
    "Y|float|Latitude\n",
    "Location|string|Latitude,Longitude in character pair\n",
    "PdId|int|Police Department ID number\n"
   ]
  },
  {
   "cell_type": "code",
   "execution_count": 1,
   "metadata": {
    "collapsed": true
   },
   "outputs": [],
   "source": [
    "import pandas as pd\n",
    "import numpy as np\n",
    "import seaborn as sb\n",
    "%matplotlib inline"
   ]
  },
  {
   "cell_type": "code",
   "execution_count": 2,
   "metadata": {
    "collapsed": false
   },
   "outputs": [
    {
     "name": "stdout",
     "output_type": "stream",
     "text": [
      "IncidntNum,Category,Descript,DayOfWeek,Date,Time,PdDistrict,Resolution,Address,X,Y,Location,PdId\r\n",
      "160051264,WARRANTS,WARRANT ARREST,Monday,01/18/2016,23:52,CENTRAL,\"ARREST, BOOKED\",400 Block of POWELL ST,-122.408568445228,37.7887594214703,\"(37.7887594214703, -122.408568445228)\",16005126463010\r\n"
     ]
    }
   ],
   "source": [
    "! head -2 SFPD_Incidents_-_from_1_January_2003.csv\n"
   ]
  },
  {
   "cell_type": "code",
   "execution_count": 3,
   "metadata": {
    "collapsed": false,
    "scrolled": true
   },
   "outputs": [
    {
     "name": "stdout",
     "output_type": "stream",
     "text": [
      "031353484,OTHER OFFENSES,OBSCENE PHONE CALLS(S),Wednesday,01/01/2003,00:01,TARAVAL,NONE,1500 Block of 41ST AV,-122.5003001196,37.7578465298467,\"(37.7578465298467, -122.5003001196)\",3135348419050\r\n",
      "030320997,SUSPICIOUS OCC,SUSPICIOUS OCCURRENCE,Wednesday,01/01/2003,00:01,SOUTHERN,NONE,0 Block of LAFAYETTE ST,-122.416608653757,37.7725681063387,\"(37.7725681063387, -122.416608653757)\",3032099764070\r\n"
     ]
    }
   ],
   "source": [
    "! tail -2 SFPD_Incidents_-_from_1_January_2003.csv\n",
    "\n"
   ]
  },
  {
   "cell_type": "markdown",
   "metadata": {},
   "source": [
    "### Read in Crime data"
   ]
  },
  {
   "cell_type": "code",
   "execution_count": 4,
   "metadata": {
    "collapsed": true
   },
   "outputs": [],
   "source": [
    "sf_data = pd.read_csv('SFPD_Incidents_-_from_1_January_2003.csv', index_col=0)    # has header, commas, index"
   ]
  },
  {
   "cell_type": "markdown",
   "metadata": {},
   "source": [
    "### Convert to lower case\n",
    "- Feature names\n",
    "- Feature values that I'm working with"
   ]
  },
  {
   "cell_type": "code",
   "execution_count": 5,
   "metadata": {
    "collapsed": false
   },
   "outputs": [
    {
     "data": {
      "text/html": [
       "<div>\n",
       "<table border=\"1\" class=\"dataframe\">\n",
       "  <thead>\n",
       "    <tr style=\"text-align: right;\">\n",
       "      <th></th>\n",
       "      <th>category</th>\n",
       "      <th>descript</th>\n",
       "      <th>dayofweek</th>\n",
       "      <th>date</th>\n",
       "      <th>time</th>\n",
       "      <th>pddistrict</th>\n",
       "      <th>resolution</th>\n",
       "      <th>address</th>\n",
       "      <th>x</th>\n",
       "      <th>y</th>\n",
       "      <th>location</th>\n",
       "      <th>pdid</th>\n",
       "    </tr>\n",
       "    <tr>\n",
       "      <th>IncidntNum</th>\n",
       "      <th></th>\n",
       "      <th></th>\n",
       "      <th></th>\n",
       "      <th></th>\n",
       "      <th></th>\n",
       "      <th></th>\n",
       "      <th></th>\n",
       "      <th></th>\n",
       "      <th></th>\n",
       "      <th></th>\n",
       "      <th></th>\n",
       "      <th></th>\n",
       "    </tr>\n",
       "  </thead>\n",
       "  <tbody>\n",
       "    <tr>\n",
       "      <th>160051264</th>\n",
       "      <td>warrants</td>\n",
       "      <td>warrant arrest</td>\n",
       "      <td>monday</td>\n",
       "      <td>01/18/2016</td>\n",
       "      <td>23:52</td>\n",
       "      <td>CENTRAL</td>\n",
       "      <td>ARREST, BOOKED</td>\n",
       "      <td>400 Block of POWELL ST</td>\n",
       "      <td>-122.408568</td>\n",
       "      <td>37.788759</td>\n",
       "      <td>(37.7887594214703, -122.408568445228)</td>\n",
       "      <td>16005126463010</td>\n",
       "    </tr>\n",
       "    <tr>\n",
       "      <th>160051242</th>\n",
       "      <td>robbery</td>\n",
       "      <td>robbery, bodily force</td>\n",
       "      <td>monday</td>\n",
       "      <td>01/18/2016</td>\n",
       "      <td>23:40</td>\n",
       "      <td>TENDERLOIN</td>\n",
       "      <td>NONE</td>\n",
       "      <td>100 Block of STOCKTON ST</td>\n",
       "      <td>-122.406428</td>\n",
       "      <td>37.787109</td>\n",
       "      <td>(37.78710945429, -122.40642786236)</td>\n",
       "      <td>16005124203074</td>\n",
       "    </tr>\n",
       "  </tbody>\n",
       "</table>\n",
       "</div>"
      ],
      "text/plain": [
       "            category               descript dayofweek        date   time  \\\n",
       "IncidntNum                                                                 \n",
       "160051264   warrants         warrant arrest    monday  01/18/2016  23:52   \n",
       "160051242    robbery  robbery, bodily force    monday  01/18/2016  23:40   \n",
       "\n",
       "            pddistrict      resolution                   address           x  \\\n",
       "IncidntNum                                                                     \n",
       "160051264      CENTRAL  ARREST, BOOKED    400 Block of POWELL ST -122.408568   \n",
       "160051242   TENDERLOIN            NONE  100 Block of STOCKTON ST -122.406428   \n",
       "\n",
       "                    y                               location            pdid  \n",
       "IncidntNum                                                                    \n",
       "160051264   37.788759  (37.7887594214703, -122.408568445228)  16005126463010  \n",
       "160051242   37.787109     (37.78710945429, -122.40642786236)  16005124203074  "
      ]
     },
     "execution_count": 5,
     "metadata": {},
     "output_type": "execute_result"
    }
   ],
   "source": [
    "sf_data.columns = sf_data.columns.str.lower()\n",
    "sf_data['category'] = sf_data['category'].str.lower()\n",
    "sf_data['descript'] = sf_data['descript'].str.lower()\n",
    "sf_data['dayofweek'] = sf_data['dayofweek'].str.lower()\n",
    "sf_data.head(2)"
   ]
  },
  {
   "cell_type": "markdown",
   "metadata": {},
   "source": [
    "### Investigate data"
   ]
  },
  {
   "cell_type": "code",
   "execution_count": 6,
   "metadata": {
    "collapsed": false
   },
   "outputs": [
    {
     "name": "stdout",
     "output_type": "stream",
     "text": [
      "<class 'pandas.core.frame.DataFrame'>\n",
      "Int64Index: 1866570 entries, 160051264 to 30320997\n",
      "Data columns (total 12 columns):\n",
      "category      object\n",
      "descript      object\n",
      "dayofweek     object\n",
      "date          object\n",
      "time          object\n",
      "pddistrict    object\n",
      "resolution    object\n",
      "address       object\n",
      "x             float64\n",
      "y             float64\n",
      "location      object\n",
      "pdid          int64\n",
      "dtypes: float64(2), int64(1), object(9)\n",
      "memory usage: 185.1+ MB\n"
     ]
    }
   ],
   "source": [
    "sf_data.info()"
   ]
  },
  {
   "cell_type": "markdown",
   "metadata": {},
   "source": [
    "### Observations\n",
    "- 1,866,570 records \n",
    "- date and time in string format\n",
    "- other fields look appropriate"
   ]
  },
  {
   "cell_type": "markdown",
   "metadata": {},
   "source": [
    "## Clean features"
   ]
  },
  {
   "cell_type": "markdown",
   "metadata": {
    "collapsed": true
   },
   "source": [
    "### Convert date to datetime"
   ]
  },
  {
   "cell_type": "code",
   "execution_count": 7,
   "metadata": {
    "collapsed": false
   },
   "outputs": [],
   "source": [
    "sf_data['date'] = pd.to_datetime(sf_data['date'])"
   ]
  },
  {
   "cell_type": "markdown",
   "metadata": {},
   "source": [
    "## New Features"
   ]
  },
  {
   "cell_type": "markdown",
   "metadata": {},
   "source": [
    "### Add the hour as numeric"
   ]
  },
  {
   "cell_type": "code",
   "execution_count": 8,
   "metadata": {
    "collapsed": true
   },
   "outputs": [],
   "source": [
    "sf_data['hour'] = sf_data['time'].str[0:2].astype(int)"
   ]
  },
  {
   "cell_type": "markdown",
   "metadata": {},
   "source": [
    "### Add month, day and year features"
   ]
  },
  {
   "cell_type": "code",
   "execution_count": 9,
   "metadata": {
    "collapsed": false,
    "scrolled": true
   },
   "outputs": [
    {
     "data": {
      "text/html": [
       "<div>\n",
       "<table border=\"1\" class=\"dataframe\">\n",
       "  <thead>\n",
       "    <tr style=\"text-align: right;\">\n",
       "      <th></th>\n",
       "      <th>category</th>\n",
       "      <th>descript</th>\n",
       "      <th>dayofweek</th>\n",
       "      <th>date</th>\n",
       "      <th>time</th>\n",
       "      <th>pddistrict</th>\n",
       "      <th>resolution</th>\n",
       "      <th>address</th>\n",
       "      <th>x</th>\n",
       "      <th>y</th>\n",
       "      <th>location</th>\n",
       "      <th>pdid</th>\n",
       "      <th>hour</th>\n",
       "      <th>month</th>\n",
       "      <th>day</th>\n",
       "      <th>year</th>\n",
       "    </tr>\n",
       "    <tr>\n",
       "      <th>IncidntNum</th>\n",
       "      <th></th>\n",
       "      <th></th>\n",
       "      <th></th>\n",
       "      <th></th>\n",
       "      <th></th>\n",
       "      <th></th>\n",
       "      <th></th>\n",
       "      <th></th>\n",
       "      <th></th>\n",
       "      <th></th>\n",
       "      <th></th>\n",
       "      <th></th>\n",
       "      <th></th>\n",
       "      <th></th>\n",
       "      <th></th>\n",
       "      <th></th>\n",
       "    </tr>\n",
       "  </thead>\n",
       "  <tbody>\n",
       "    <tr>\n",
       "      <th>160051264</th>\n",
       "      <td>warrants</td>\n",
       "      <td>warrant arrest</td>\n",
       "      <td>monday</td>\n",
       "      <td>2016-01-18</td>\n",
       "      <td>23:52</td>\n",
       "      <td>CENTRAL</td>\n",
       "      <td>ARREST, BOOKED</td>\n",
       "      <td>400 Block of POWELL ST</td>\n",
       "      <td>-122.408568</td>\n",
       "      <td>37.788759</td>\n",
       "      <td>(37.7887594214703, -122.408568445228)</td>\n",
       "      <td>16005126463010</td>\n",
       "      <td>23</td>\n",
       "      <td>1</td>\n",
       "      <td>18</td>\n",
       "      <td>2016</td>\n",
       "    </tr>\n",
       "    <tr>\n",
       "      <th>160051242</th>\n",
       "      <td>robbery</td>\n",
       "      <td>robbery, bodily force</td>\n",
       "      <td>monday</td>\n",
       "      <td>2016-01-18</td>\n",
       "      <td>23:40</td>\n",
       "      <td>TENDERLOIN</td>\n",
       "      <td>NONE</td>\n",
       "      <td>100 Block of STOCKTON ST</td>\n",
       "      <td>-122.406428</td>\n",
       "      <td>37.787109</td>\n",
       "      <td>(37.78710945429, -122.40642786236)</td>\n",
       "      <td>16005124203074</td>\n",
       "      <td>23</td>\n",
       "      <td>1</td>\n",
       "      <td>18</td>\n",
       "      <td>2016</td>\n",
       "    </tr>\n",
       "  </tbody>\n",
       "</table>\n",
       "</div>"
      ],
      "text/plain": [
       "            category               descript dayofweek       date   time  \\\n",
       "IncidntNum                                                                \n",
       "160051264   warrants         warrant arrest    monday 2016-01-18  23:52   \n",
       "160051242    robbery  robbery, bodily force    monday 2016-01-18  23:40   \n",
       "\n",
       "            pddistrict      resolution                   address           x  \\\n",
       "IncidntNum                                                                     \n",
       "160051264      CENTRAL  ARREST, BOOKED    400 Block of POWELL ST -122.408568   \n",
       "160051242   TENDERLOIN            NONE  100 Block of STOCKTON ST -122.406428   \n",
       "\n",
       "                    y                               location            pdid  \\\n",
       "IncidntNum                                                                     \n",
       "160051264   37.788759  (37.7887594214703, -122.408568445228)  16005126463010   \n",
       "160051242   37.787109     (37.78710945429, -122.40642786236)  16005124203074   \n",
       "\n",
       "            hour  month  day  year  \n",
       "IncidntNum                          \n",
       "160051264     23      1   18  2016  \n",
       "160051242     23      1   18  2016  "
      ]
     },
     "execution_count": 9,
     "metadata": {},
     "output_type": "execute_result"
    }
   ],
   "source": [
    "#tdf['Date'].dtype\n",
    "sf_data['month'] = sf_data['date'].dt.month\n",
    "sf_data['day'] = sf_data['date'].dt.day\n",
    "sf_data['year'] = sf_data['date'].dt.year\n",
    "sf_data.head(2)"
   ]
  },
  {
   "cell_type": "code",
   "execution_count": 10,
   "metadata": {
    "collapsed": false
   },
   "outputs": [
    {
     "data": {
      "text/plain": [
       "count    1866570.000000\n",
       "mean        2009.062880\n",
       "std            3.821668\n",
       "min         2003.000000\n",
       "25%         2006.000000\n",
       "50%         2009.000000\n",
       "75%         2012.000000\n",
       "max         2016.000000\n",
       "Name: year, dtype: float64"
      ]
     },
     "execution_count": 10,
     "metadata": {},
     "output_type": "execute_result"
    }
   ],
   "source": [
    "sf_data['year'].describe()"
   ]
  },
  {
   "cell_type": "code",
   "execution_count": 11,
   "metadata": {
    "collapsed": false
   },
   "outputs": [
    {
     "data": {
      "text/plain": [
       "2015    153879\n",
       "2013    152812\n",
       "2014    150161\n",
       "2003    149176\n",
       "2004    148148\n",
       "2005    142186\n",
       "2008    141311\n",
       "2012    140858\n",
       "2009    139861\n",
       "2006    137853\n",
       "2007    137639\n",
       "2010    133525\n",
       "2011    132699\n",
       "2016      6462\n",
       "Name: year, dtype: int64"
      ]
     },
     "execution_count": 11,
     "metadata": {},
     "output_type": "execute_result"
    }
   ],
   "source": [
    "sf_data['year'].value_counts()"
   ]
  },
  {
   "cell_type": "markdown",
   "metadata": {},
   "source": [
    "### Create shift feature\n",
    "- For more detailed analysis or workforce planning, add feature that records the shift that event occured.\n",
    "- 3rd shift - Midnight to 7:59am\n",
    "- 1st shift - 8:00am - 3:59pm\n",
    "- 2nd shift - 4:00pm - 11:59pm"
   ]
  },
  {
   "cell_type": "code",
   "execution_count": 12,
   "metadata": {
    "collapsed": true
   },
   "outputs": [],
   "source": [
    "def calc_shift(hour):\n",
    "    shift = hour//8\n",
    "    if shift == 0:\n",
    "        shift = 3\n",
    "    return 'shift_' + str(shift)\n",
    "        "
   ]
  },
  {
   "cell_type": "code",
   "execution_count": 13,
   "metadata": {
    "collapsed": false
   },
   "outputs": [],
   "source": [
    "sf_data['shift'] = sf_data['hour'].apply(calc_shift)\n",
    "# or leave shift as hour//8. so that it sorts into time order, but label shift0 as third shift\n",
    "#sf_data['shift'] = sf_data['hour'].apply(lambda x : x//8)"
   ]
  },
  {
   "cell_type": "code",
   "execution_count": 14,
   "metadata": {
    "collapsed": false
   },
   "outputs": [
    {
     "data": {
      "text/html": [
       "<div>\n",
       "<table border=\"1\" class=\"dataframe\">\n",
       "  <thead>\n",
       "    <tr style=\"text-align: right;\">\n",
       "      <th></th>\n",
       "      <th>category</th>\n",
       "      <th>descript</th>\n",
       "      <th>dayofweek</th>\n",
       "      <th>date</th>\n",
       "      <th>time</th>\n",
       "      <th>pddistrict</th>\n",
       "      <th>resolution</th>\n",
       "      <th>address</th>\n",
       "      <th>x</th>\n",
       "      <th>y</th>\n",
       "      <th>location</th>\n",
       "      <th>pdid</th>\n",
       "      <th>hour</th>\n",
       "      <th>month</th>\n",
       "      <th>day</th>\n",
       "      <th>year</th>\n",
       "      <th>shift</th>\n",
       "    </tr>\n",
       "    <tr>\n",
       "      <th>IncidntNum</th>\n",
       "      <th></th>\n",
       "      <th></th>\n",
       "      <th></th>\n",
       "      <th></th>\n",
       "      <th></th>\n",
       "      <th></th>\n",
       "      <th></th>\n",
       "      <th></th>\n",
       "      <th></th>\n",
       "      <th></th>\n",
       "      <th></th>\n",
       "      <th></th>\n",
       "      <th></th>\n",
       "      <th></th>\n",
       "      <th></th>\n",
       "      <th></th>\n",
       "      <th></th>\n",
       "    </tr>\n",
       "  </thead>\n",
       "  <tbody>\n",
       "    <tr>\n",
       "      <th>30005882</th>\n",
       "      <td>vehicle theft</td>\n",
       "      <td>vehicle, recovered, auto</td>\n",
       "      <td>wednesday</td>\n",
       "      <td>2003-01-01</td>\n",
       "      <td>16:00</td>\n",
       "      <td>TARAVAL</td>\n",
       "      <td>NONE</td>\n",
       "      <td>1700 Block of 48TH AV</td>\n",
       "      <td>-122.507539</td>\n",
       "      <td>37.753788</td>\n",
       "      <td>(37.7537879722664, -122.507539443431)</td>\n",
       "      <td>3000588207041</td>\n",
       "      <td>16</td>\n",
       "      <td>1</td>\n",
       "      <td>1</td>\n",
       "      <td>2003</td>\n",
       "      <td>shift_2</td>\n",
       "    </tr>\n",
       "    <tr>\n",
       "      <th>30005882</th>\n",
       "      <td>vehicle theft</td>\n",
       "      <td>stolen automobile</td>\n",
       "      <td>wednesday</td>\n",
       "      <td>2003-01-01</td>\n",
       "      <td>16:00</td>\n",
       "      <td>TARAVAL</td>\n",
       "      <td>NONE</td>\n",
       "      <td>1700 Block of 48TH AV</td>\n",
       "      <td>-122.507539</td>\n",
       "      <td>37.753788</td>\n",
       "      <td>(37.7537879722664, -122.507539443431)</td>\n",
       "      <td>3000588207021</td>\n",
       "      <td>16</td>\n",
       "      <td>1</td>\n",
       "      <td>1</td>\n",
       "      <td>2003</td>\n",
       "      <td>shift_2</td>\n",
       "    </tr>\n",
       "  </tbody>\n",
       "</table>\n",
       "</div>"
      ],
      "text/plain": [
       "                 category                  descript  dayofweek       date  \\\n",
       "IncidntNum                                                                  \n",
       "30005882    vehicle theft  vehicle, recovered, auto  wednesday 2003-01-01   \n",
       "30005882    vehicle theft         stolen automobile  wednesday 2003-01-01   \n",
       "\n",
       "             time pddistrict resolution                address           x  \\\n",
       "IncidntNum                                                                   \n",
       "30005882    16:00    TARAVAL       NONE  1700 Block of 48TH AV -122.507539   \n",
       "30005882    16:00    TARAVAL       NONE  1700 Block of 48TH AV -122.507539   \n",
       "\n",
       "                    y                               location           pdid  \\\n",
       "IncidntNum                                                                    \n",
       "30005882    37.753788  (37.7537879722664, -122.507539443431)  3000588207041   \n",
       "30005882    37.753788  (37.7537879722664, -122.507539443431)  3000588207021   \n",
       "\n",
       "            hour  month  day  year    shift  \n",
       "IncidntNum                                   \n",
       "30005882      16      1    1  2003  shift_2  \n",
       "30005882      16      1    1  2003  shift_2  "
      ]
     },
     "execution_count": 14,
     "metadata": {},
     "output_type": "execute_result"
    }
   ],
   "source": [
    "sf_data[sf_data['shift']=='shift_2'].tail(2)"
   ]
  },
  {
   "cell_type": "code",
   "execution_count": null,
   "metadata": {
    "collapsed": true
   },
   "outputs": [],
   "source": []
  },
  {
   "cell_type": "markdown",
   "metadata": {},
   "source": [
    "### Create crime_level from category and description\n",
    "Instead of only calculating the number of incidents, create crime level feature that weights the incident by the severity/violence of the crime\n",
    "- Could be used to help with workforce planning.\n",
    "- This is very subjective..."
   ]
  },
  {
   "cell_type": "code",
   "execution_count": 15,
   "metadata": {
    "collapsed": false
   },
   "outputs": [
    {
     "data": {
      "text/html": [
       "<div>\n",
       "<table border=\"1\" class=\"dataframe\">\n",
       "  <thead>\n",
       "    <tr style=\"text-align: right;\">\n",
       "      <th></th>\n",
       "      <th>category</th>\n",
       "      <th>descript</th>\n",
       "      <th>dayofweek</th>\n",
       "      <th>date</th>\n",
       "      <th>time</th>\n",
       "      <th>pddistrict</th>\n",
       "      <th>resolution</th>\n",
       "      <th>address</th>\n",
       "      <th>x</th>\n",
       "      <th>y</th>\n",
       "      <th>location</th>\n",
       "      <th>pdid</th>\n",
       "      <th>hour</th>\n",
       "      <th>month</th>\n",
       "      <th>day</th>\n",
       "      <th>year</th>\n",
       "      <th>shift</th>\n",
       "    </tr>\n",
       "    <tr>\n",
       "      <th>IncidntNum</th>\n",
       "      <th></th>\n",
       "      <th></th>\n",
       "      <th></th>\n",
       "      <th></th>\n",
       "      <th></th>\n",
       "      <th></th>\n",
       "      <th></th>\n",
       "      <th></th>\n",
       "      <th></th>\n",
       "      <th></th>\n",
       "      <th></th>\n",
       "      <th></th>\n",
       "      <th></th>\n",
       "      <th></th>\n",
       "      <th></th>\n",
       "      <th></th>\n",
       "      <th></th>\n",
       "    </tr>\n",
       "  </thead>\n",
       "  <tbody>\n",
       "    <tr>\n",
       "      <th>160051264</th>\n",
       "      <td>warrants</td>\n",
       "      <td>warrant arrest</td>\n",
       "      <td>monday</td>\n",
       "      <td>2016-01-18</td>\n",
       "      <td>23:52</td>\n",
       "      <td>CENTRAL</td>\n",
       "      <td>ARREST, BOOKED</td>\n",
       "      <td>400 Block of POWELL ST</td>\n",
       "      <td>-122.408568</td>\n",
       "      <td>37.788759</td>\n",
       "      <td>(37.7887594214703, -122.408568445228)</td>\n",
       "      <td>16005126463010</td>\n",
       "      <td>23</td>\n",
       "      <td>1</td>\n",
       "      <td>18</td>\n",
       "      <td>2016</td>\n",
       "      <td>shift_2</td>\n",
       "    </tr>\n",
       "    <tr>\n",
       "      <th>160051242</th>\n",
       "      <td>robbery</td>\n",
       "      <td>robbery, bodily force</td>\n",
       "      <td>monday</td>\n",
       "      <td>2016-01-18</td>\n",
       "      <td>23:40</td>\n",
       "      <td>TENDERLOIN</td>\n",
       "      <td>NONE</td>\n",
       "      <td>100 Block of STOCKTON ST</td>\n",
       "      <td>-122.406428</td>\n",
       "      <td>37.787109</td>\n",
       "      <td>(37.78710945429, -122.40642786236)</td>\n",
       "      <td>16005124203074</td>\n",
       "      <td>23</td>\n",
       "      <td>1</td>\n",
       "      <td>18</td>\n",
       "      <td>2016</td>\n",
       "      <td>shift_2</td>\n",
       "    </tr>\n",
       "    <tr>\n",
       "      <th>160051305</th>\n",
       "      <td>disorderly conduct</td>\n",
       "      <td>committing public nuisance</td>\n",
       "      <td>monday</td>\n",
       "      <td>2016-01-18</td>\n",
       "      <td>23:30</td>\n",
       "      <td>MISSION</td>\n",
       "      <td>ARREST, BOOKED</td>\n",
       "      <td>500 Block of SHOTWELL ST</td>\n",
       "      <td>-122.415922</td>\n",
       "      <td>37.759612</td>\n",
       "      <td>(37.7596123168685, -122.415921585459)</td>\n",
       "      <td>16005130519010</td>\n",
       "      <td>23</td>\n",
       "      <td>1</td>\n",
       "      <td>18</td>\n",
       "      <td>2016</td>\n",
       "      <td>shift_2</td>\n",
       "    </tr>\n",
       "  </tbody>\n",
       "</table>\n",
       "</div>"
      ],
      "text/plain": [
       "                      category                    descript dayofweek  \\\n",
       "IncidntNum                                                             \n",
       "160051264             warrants              warrant arrest    monday   \n",
       "160051242              robbery       robbery, bodily force    monday   \n",
       "160051305   disorderly conduct  committing public nuisance    monday   \n",
       "\n",
       "                 date   time  pddistrict      resolution  \\\n",
       "IncidntNum                                                 \n",
       "160051264  2016-01-18  23:52     CENTRAL  ARREST, BOOKED   \n",
       "160051242  2016-01-18  23:40  TENDERLOIN            NONE   \n",
       "160051305  2016-01-18  23:30     MISSION  ARREST, BOOKED   \n",
       "\n",
       "                             address           x          y  \\\n",
       "IncidntNum                                                    \n",
       "160051264     400 Block of POWELL ST -122.408568  37.788759   \n",
       "160051242   100 Block of STOCKTON ST -122.406428  37.787109   \n",
       "160051305   500 Block of SHOTWELL ST -122.415922  37.759612   \n",
       "\n",
       "                                         location            pdid  hour  \\\n",
       "IncidntNum                                                                \n",
       "160051264   (37.7887594214703, -122.408568445228)  16005126463010    23   \n",
       "160051242      (37.78710945429, -122.40642786236)  16005124203074    23   \n",
       "160051305   (37.7596123168685, -122.415921585459)  16005130519010    23   \n",
       "\n",
       "            month  day  year    shift  \n",
       "IncidntNum                             \n",
       "160051264       1   18  2016  shift_2  \n",
       "160051242       1   18  2016  shift_2  \n",
       "160051305       1   18  2016  shift_2  "
      ]
     },
     "execution_count": 15,
     "metadata": {},
     "output_type": "execute_result"
    }
   ],
   "source": [
    "# temp \n",
    "#sf_data['crime_level'] = x : np.random.random_integers(1,6)\n",
    "#sf_data['crime_level'] = np.random.choice(range(1, 6), sf_data.shape[0])\n",
    "\n",
    "sf_data.head(3)"
   ]
  },
  {
   "cell_type": "code",
   "execution_count": 16,
   "metadata": {
    "collapsed": false
   },
   "outputs": [
    {
     "data": {
      "text/plain": [
       "larceny/theft                  379973\n",
       "other offenses                 266265\n",
       "non-criminal                   198314\n",
       "assault                        163366\n",
       "vehicle theft                  113270\n",
       "drug/narcotic                  110787\n",
       "vandalism                       95234\n",
       "warrants                        88857\n",
       "burglary                        78010\n",
       "suspicious occ                  66959\n",
       "missing person                  54917\n",
       "robbery                         48291\n",
       "fraud                           35588\n",
       "forgery/counterfeiting          21707\n",
       "secondary codes                 21368\n",
       "weapon laws                     18318\n",
       "trespass                        15570\n",
       "prostitution                    15490\n",
       "stolen property                  9960\n",
       "sex offenses, forcible           9418\n",
       "drunkenness                      8963\n",
       "disorderly conduct               8912\n",
       "recovered vehicle                6346\n",
       "driving under the influence      4905\n",
       "kidnapping                       4818\n",
       "runaway                          3972\n",
       "liquor laws                      3837\n",
       "arson                            3240\n",
       "embezzlement                     2565\n",
       "loitering                        2341\n",
       "suicide                          1121\n",
       "family offenses                  1075\n",
       "bad checks                        854\n",
       "bribery                           660\n",
       "extortion                         609\n",
       "sex offenses, non forcible        330\n",
       "gambling                          304\n",
       "pornography/obscene mat            46\n",
       "trea                               10\n",
       "Name: category, dtype: int64"
      ]
     },
     "execution_count": 16,
     "metadata": {},
     "output_type": "execute_result"
    }
   ],
   "source": [
    "sf_data['category'].value_counts()"
   ]
  },
  {
   "cell_type": "code",
   "execution_count": 17,
   "metadata": {
    "collapsed": false,
    "scrolled": true
   },
   "outputs": [
    {
     "data": {
      "text/plain": [
       "grand theft from locked auto                               132525\n",
       "petty theft from locked auto                                42584\n",
       "petty theft of property                                     35267\n",
       "grand theft of property                                     23804\n",
       "petty theft from a building                                 21582\n",
       "petty theft shoplifting                                     20400\n",
       "grand theft from a building                                 19993\n",
       "grand theft from person                                     14965\n",
       "grand theft pickpocket                                      11845\n",
       "grand theft from unlocked auto                              10136\n",
       "petty theft with prior                                       8196\n",
       "petty theft from unlocked auto                               5580\n",
       "grand theft bicycle                                          5349\n",
       "attempted theft from locked vehicle                          4695\n",
       "grand theft shoplifting                                      4564\n",
       "petty theft bicycle                                          3390\n",
       "lost property, petty theft                                   2847\n",
       "grand theft pursesnatch                                      1493\n",
       "theft of computers or cell phones                            1456\n",
       "lost property, grand theft                                   1376\n",
       "grand theft auto strip                                       1301\n",
       "petty theft auto strip                                       1158\n",
       "theft from merchant or library                                851\n",
       "theft of checks or credit cards                               621\n",
       "attempted shoplifting                                         471\n",
       "attempted theft from a building                               433\n",
       "attempted petty theft of property                             324\n",
       "embezzlement from dependent or elder adult by caretaker       294\n",
       "license plate or tab, theft of                                280\n",
       "attempted theft from unlocked vehicle                         263\n",
       "                                                            ...  \n",
       "theft of animals (general)                                    145\n",
       "attempted auto strip                                          127\n",
       "theft, grand, of firearm                                      100\n",
       "grand theft by prostitute                                      95\n",
       "theft of utility services                                      91\n",
       "grand theft motorcycle strip                                   85\n",
       "grand theft coin operated machine                              81\n",
       "attempted grand theft pursesnatch                              78\n",
       "attempted grand theft pickpocket                               77\n",
       "theft, bicycle, <$50, no serial number                         76\n",
       "petty theft motorcycle strip                                   54\n",
       "attempted theft coin operated machine                          48\n",
       "theft, bicycle, <$50, serial number known                      43\n",
       "petty theft phone booth                                        41\n",
       "theft, drunk roll, $200-$400                                   34\n",
       "theft, grand, by fiduciary, >$400 in 12 months                 31\n",
       "theft of telecommunication services, incl. clone phone         29\n",
       "theft, drunk roll, $50-$200                                    23\n",
       "theft, drunk roll, >$400                                       22\n",
       "theft, drunk roll, <$50                                        20\n",
       "theft, boat                                                    18\n",
       "grand theft phone booth                                        15\n",
       "trade secrets, theft or unauthorized copying                   12\n",
       "theft of written instrument                                    12\n",
       "attempted motorcycle strip                                      8\n",
       "theft, grand, agricultural                                      3\n",
       "attempted theft phone booth                                     3\n",
       "theft, drunk roll, att.                                         3\n",
       "looting during state of emergency                               2\n",
       "theft, animal, att.                                             2\n",
       "Name: descript, dtype: int64"
      ]
     },
     "execution_count": 17,
     "metadata": {},
     "output_type": "execute_result"
    }
   ],
   "source": [
    "sf_data[sf_data['category']=='larceny/theft']['descript'].value_counts()"
   ]
  },
  {
   "cell_type": "code",
   "execution_count": 18,
   "metadata": {
    "collapsed": false
   },
   "outputs": [
    {
     "data": {
      "text/plain": [
       "drivers license, suspended or revoked                                        56931\n",
       "traffic violation                                                            34099\n",
       "resisting arrest                                                             18531\n",
       "miscellaneous investigation                                                  17488\n",
       "probation violation                                                          16314\n",
       "lost/stolen license plate                                                    13961\n",
       "violation of restraining order                                               12076\n",
       "traffic violation arrest                                                     11468\n",
       "parole violation                                                             10190\n",
       "conspiracy                                                                    6472\n",
       "false personation to receive money or property                                5553\n",
       "obscene phone calls(s)                                                        5200\n",
       "violation of municipal code                                                   4798\n",
       "harassing phone calls                                                         4547\n",
       "possession of burglary tools                                                  4539\n",
       "violation of municipal police code                                            3857\n",
       "false personation                                                             3690\n",
       "miscellaneous state misdemeanor                                               3642\n",
       "false evidence of vehicle registration                                        2526\n",
       "fraudulent game or trick, obtaining money or property                         2204\n",
       "permit violation, police (general)                                            1767\n",
       "obstructions on streets/sidewalks                                             1510\n",
       "failure to register as sex offender                                           1446\n",
       "tampering with a vehicle                                                      1419\n",
       "peddling without a license                                                    1298\n",
       "stay away order violation, dv related                                         1242\n",
       "indecent exposure                                                             1192\n",
       "danger of leading immoral life                                                 934\n",
       "violation of park code                                                         913\n",
       "reckless driving                                                               899\n",
       "                                                                             ...  \n",
       "injury to railroads/railroad bridges                                             5\n",
       "food stamps, misuse of                                                           5\n",
       "hazardous materials, spill load                                                  4\n",
       "illegal charitable solicitations                                                 4\n",
       "hazardous materials, dump oil into sewers                                        4\n",
       "hazardous materials,  dump any substance into water                              4\n",
       "soliciting minor to commit felony                                                3\n",
       "dog, fighting;  owning, fighting, or attending fight                             3\n",
       "school student or employee entering  campus after suspension or dismissal        3\n",
       "permit violation, valet parking                                                  3\n",
       "hazardous materials, spill on roadway                                            3\n",
       "push-cart peddler permit violation                                               3\n",
       "permit violation, second-hand dealer                                             3\n",
       "school grounds, entry by sex offender                                            2\n",
       "encounter studio ordinance violation                                             2\n",
       "hazardous materials, failure to comply w/regulations                             2\n",
       "escape from hospital with force                                                  2\n",
       "school bus, entry to commit crime or refusal to leave                            2\n",
       "loudspeaker or sound truck permit violation                                      2\n",
       "wearing the apparel of opposite sex to deceive                                   2\n",
       "police broadcast, interception to commit crime                                   2\n",
       "food stamps, unlawful use by retailer                                            2\n",
       "chop shop, own or operate                                                        2\n",
       "money laundering                                                                 2\n",
       "hazardous materials, store without permit                                        1\n",
       "permit violation, advertising handbill distribution                              1\n",
       "violation of calif unemployment insurance act                                    1\n",
       "unsolicited fax advertising                                                      1\n",
       "refusal to identify                                                              1\n",
       "hazardous materials, transport without permit                                    1\n",
       "Name: descript, dtype: int64"
      ]
     },
     "execution_count": 18,
     "metadata": {},
     "output_type": "execute_result"
    }
   ],
   "source": [
    "sf_data[sf_data['category']=='other offenses']['descript'].value_counts()"
   ]
  },
  {
   "cell_type": "code",
   "execution_count": 19,
   "metadata": {
    "collapsed": false
   },
   "outputs": [
    {
     "data": {
      "text/plain": [
       "lost property                                         67112\n",
       "aided case, mental disturbed                          46243\n",
       "found property                                        26490\n",
       "aided case                                            11611\n",
       "death report, cause unknown                            9114\n",
       "case closure                                           5171\n",
       "stay away or court order, non-dv related               3427\n",
       "aided case, dog bite                                   2913\n",
       "civil sidewalks, citation                              2668\n",
       "property for identification                            2558\n",
       "aided case, injured person                             2221\n",
       "death report, natural causes                           2052\n",
       "civil sidewalks, warning                               2026\n",
       "courtesy report                                        2019\n",
       "aided case -property for destruction                   1846\n",
       "fire report                                            1690\n",
       "located property                                       1572\n",
       "tarasoff report                                        1423\n",
       "search warrant service                                 1247\n",
       "turned in gun                                          1057\n",
       "traffic accident                                        906\n",
       "shelter                                                 747\n",
       "impounded vehicle                                       649\n",
       "aided case, sick person                                 527\n",
       "license plate, recovered                                259\n",
       "license plate, found                                    233\n",
       "misplaced vehicle                                       123\n",
       "civil sidewalks, booking                                 97\n",
       "civil sidewalks, violation                               61\n",
       "truant, habitual                                         61\n",
       "death, accidental                                        36\n",
       "death, non-manslaughter auto accident                    29\n",
       "demonstration, video evidence, misc. investigation       25\n",
       "accidental shooting                                      24\n",
       "youth court                                              22\n",
       "auto impounded                                           18\n",
       "megan's law notification                                 18\n",
       "death report, in custody                                 12\n",
       "accidental burns                                          7\n",
       "Name: descript, dtype: int64"
      ]
     },
     "execution_count": 19,
     "metadata": {},
     "output_type": "execute_result"
    }
   ],
   "source": [
    "sf_data[sf_data['category']=='non-criminal']['descript'].value_counts()"
   ]
  },
  {
   "cell_type": "code",
   "execution_count": 20,
   "metadata": {
    "collapsed": false
   },
   "outputs": [
    {
     "data": {
      "text/plain": [
       "poss of loaded firearm                                     4113\n",
       "carrying a concealed weapon                                2017\n",
       "exhibiting deadly weapon in a threating manner             2016\n",
       "poss of firearm by convicted felon/addict/alien            1538\n",
       "poss of prohibited weapon                                  1399\n",
       "discharge firearm at an inhabited dwelling                 1181\n",
       "possession of air gun                                       868\n",
       "loitering while carrying concealed weapon                   735\n",
       "discharge firearm within city limits                        631\n",
       "poss of deadly weapon with intent to assault                530\n",
       "firearm, loaded, in vehicle, possession or use              502\n",
       "carrying of concealed weapon by convicted felon             346\n",
       "ammunition, poss. by prohibited person                      325\n",
       "weapon, possess or bring other on school grounds            230\n",
       "switchblade knife, possession                               190\n",
       "firearm, armed while possessing controlled substance        172\n",
       "located explosive device                                    162\n",
       "weapon, deadly, carrying with intent to commit assault      151\n",
       "weapon, assault, possession, manufacture, or sale           143\n",
       "poss of tear gas weapon                                     129\n",
       "firearm with altered identification                         126\n",
       "firearm, carrying loaded with intent to commit felony        88\n",
       "suspicious package                                           77\n",
       "tampering with marks on firearm                              75\n",
       "weapon, deadly, exhibiting to resist arrest                  68\n",
       "possession of explosive device                               58\n",
       "flammable or explosive device, possession                    58\n",
       "possession of caustic chemical                               50\n",
       "firearm, negligent discharge                                 43\n",
       "destruction of property with explosives                      39\n",
       "firearm possession in school zone                            38\n",
       "poss of fire bomb                                            38\n",
       "violation of restrictions on a firearm transfer              34\n",
       "weapon, possessing in public building or open meeting        32\n",
       "possession of machine gun                                    29\n",
       "commission of felony while armed                             26\n",
       "weapon, taking or attempting to take from peace officer      19\n",
       "firearm, possession of while wearing mask                    10\n",
       "weapon, assault, registration or transfer violation           9\n",
       "poss of firearm silencer                                      6\n",
       "illegal transportaion of explosives                           6\n",
       "destructive device, possession of materials                   5\n",
       "armor penetrating ammunition, possession                      2\n",
       "weapon, deadly, possession of to violate 136.1 pc             2\n",
       "sniper scope, possession of                                   1\n",
       "bombing of police building                                    1\n",
       "Name: descript, dtype: int64"
      ]
     },
     "execution_count": 20,
     "metadata": {},
     "output_type": "execute_result"
    }
   ],
   "source": [
    "sf_data[sf_data['category']=='weapon laws']['descript'].value_counts()"
   ]
  },
  {
   "cell_type": "code",
   "execution_count": 21,
   "metadata": {
    "collapsed": false
   },
   "outputs": [
    {
     "data": {
      "text/plain": [
       "domestic violence                         15743\n",
       "juvenile involved                          1891\n",
       "gang activity                              1643\n",
       "prejudice-based incident                   1404\n",
       "atm related crime                           588\n",
       "battery by juvenile suspect                  53\n",
       "weapons possession by juvenile suspect       26\n",
       "assault by juvenile suspect                  18\n",
       "shooting by juvenile suspect                  2\n",
       "Name: descript, dtype: int64"
      ]
     },
     "execution_count": 21,
     "metadata": {},
     "output_type": "execute_result"
    }
   ],
   "source": [
    "sf_data[sf_data['category']=='secondary codes']['descript'].value_counts()"
   ]
  },
  {
   "cell_type": "code",
   "execution_count": 22,
   "metadata": {
    "collapsed": false
   },
   "outputs": [
    {
     "data": {
      "text/plain": [
       "desertion of child                                        269\n",
       "children, abandonment & neglect of (general)              232\n",
       "minor without proper parental care                        215\n",
       "abandonment of child                                      201\n",
       "failure to provide for child                               84\n",
       "immoral acts or drunk in presence of child                 38\n",
       "concealment/removal of child without consent               32\n",
       "failure to provide for parents                              3\n",
       "harassing child or ward because of person's employment      1\n",
       "Name: descript, dtype: int64"
      ]
     },
     "execution_count": 22,
     "metadata": {},
     "output_type": "execute_result"
    }
   ],
   "source": [
    "sf_data[sf_data['category']=='family offenses']['descript'].value_counts()"
   ]
  },
  {
   "cell_type": "markdown",
   "metadata": {},
   "source": [
    "### Assign a Crime level to each catagory"
   ]
  },
  {
   "cell_type": "code",
   "execution_count": 23,
   "metadata": {
    "collapsed": false
   },
   "outputs": [],
   "source": [
    "levels = {'larceny/theft' : 2,                \n",
    "          'other offenses' : 1,                 \n",
    "          'non-criminal' : 1,\n",
    "          'assault' :  4,                        \n",
    "          'vehicle theft' : 2,                 \n",
    "          'drug/narcotic' : 2,                 \n",
    "          'vandalism' : 2,                       \n",
    "          'warrants' : 1,                        \n",
    "          'burglary' : 2,                        \n",
    "          'suspicious occ' : 2,                 \n",
    "          'missing person' : 1,                 \n",
    "          'robbery' : 2,                         \n",
    "          'fraud' : 2,                          \n",
    "          'forgery/counterfeiting' : 2,         \n",
    "          'secondary codes' :  4,              \n",
    "          'weapon laws' :  3,                    \n",
    "          'trespass' :  2,                       \n",
    "          'prostitution' :  2,                  \n",
    "          'stolen property' :  2,                 \n",
    "          'sex offenses, forcible' : 4,          \n",
    "          'drunkenness' :  1,                     \n",
    "          'disorderly conduct'  : 1,              \n",
    "          'recovered vehicle' :  1,              \n",
    "          'driving under the influence' :  1,      \n",
    "          'kidnapping' :  3,                      \n",
    "          'runaway' :  1,                          \n",
    "          'liquor laws' : 1,                     \n",
    "          'arson' : 3,                           \n",
    "          'embezzlement' : 1,                    \n",
    "          'loitering' : 1,                      \n",
    "          'suicide' :  1,                         \n",
    "          'family offenses' : 3,                  \n",
    "          'bad checks' : 1,                 \n",
    "          'bribery' : 1,                          \n",
    "          'extortion' : 2,                        \n",
    "          'sex offenses, non forcible' : 2,       \n",
    "          'gambling' : 1,                          \n",
    "          'pornography/obscene mat' : 2,          \n",
    "          'trea' : 1}"
   ]
  },
  {
   "cell_type": "code",
   "execution_count": 24,
   "metadata": {
    "collapsed": true
   },
   "outputs": [],
   "source": [
    "sf_data['crime_level'] = sf_data['category'].map(lambda x : levels[x])\n"
   ]
  },
  {
   "cell_type": "markdown",
   "metadata": {},
   "source": [
    "### Was a Gun Used\n",
    "- Just wanted to know\n",
    "- May be useful for other analysis"
   ]
  },
  {
   "cell_type": "code",
   "execution_count": 25,
   "metadata": {
    "collapsed": false
   },
   "outputs": [
    {
     "data": {
      "text/plain": [
       "False    1850561\n",
       "True       16009\n",
       "Name: gun, dtype: int64"
      ]
     },
     "execution_count": 25,
     "metadata": {},
     "output_type": "execute_result"
    }
   ],
   "source": [
    "sf_data['gun'] = sf_data['descript'].apply(lambda x: x.find('gun') != -1 )\n",
    "sf_data['gun'].value_counts()\n"
   ]
  },
  {
   "cell_type": "code",
   "execution_count": 26,
   "metadata": {
    "collapsed": false
   },
   "outputs": [
    {
     "data": {
      "text/html": [
       "<div>\n",
       "<table border=\"1\" class=\"dataframe\">\n",
       "  <thead>\n",
       "    <tr style=\"text-align: right;\">\n",
       "      <th></th>\n",
       "      <th>category</th>\n",
       "      <th>descript</th>\n",
       "      <th>dayofweek</th>\n",
       "      <th>date</th>\n",
       "      <th>time</th>\n",
       "      <th>pddistrict</th>\n",
       "      <th>resolution</th>\n",
       "      <th>address</th>\n",
       "      <th>x</th>\n",
       "      <th>y</th>\n",
       "      <th>location</th>\n",
       "      <th>pdid</th>\n",
       "      <th>hour</th>\n",
       "      <th>month</th>\n",
       "      <th>day</th>\n",
       "      <th>year</th>\n",
       "      <th>shift</th>\n",
       "      <th>crime_level</th>\n",
       "      <th>gun</th>\n",
       "    </tr>\n",
       "    <tr>\n",
       "      <th>IncidntNum</th>\n",
       "      <th></th>\n",
       "      <th></th>\n",
       "      <th></th>\n",
       "      <th></th>\n",
       "      <th></th>\n",
       "      <th></th>\n",
       "      <th></th>\n",
       "      <th></th>\n",
       "      <th></th>\n",
       "      <th></th>\n",
       "      <th></th>\n",
       "      <th></th>\n",
       "      <th></th>\n",
       "      <th></th>\n",
       "      <th></th>\n",
       "      <th></th>\n",
       "      <th></th>\n",
       "      <th></th>\n",
       "      <th></th>\n",
       "    </tr>\n",
       "  </thead>\n",
       "  <tbody>\n",
       "    <tr>\n",
       "      <th>160051264</th>\n",
       "      <td>warrants</td>\n",
       "      <td>warrant arrest</td>\n",
       "      <td>monday</td>\n",
       "      <td>2016-01-18</td>\n",
       "      <td>23:52</td>\n",
       "      <td>CENTRAL</td>\n",
       "      <td>ARREST, BOOKED</td>\n",
       "      <td>400 Block of POWELL ST</td>\n",
       "      <td>-122.408568</td>\n",
       "      <td>37.788759</td>\n",
       "      <td>(37.7887594214703, -122.408568445228)</td>\n",
       "      <td>16005126463010</td>\n",
       "      <td>23</td>\n",
       "      <td>1</td>\n",
       "      <td>18</td>\n",
       "      <td>2016</td>\n",
       "      <td>shift_2</td>\n",
       "      <td>1</td>\n",
       "      <td>False</td>\n",
       "    </tr>\n",
       "    <tr>\n",
       "      <th>160051242</th>\n",
       "      <td>robbery</td>\n",
       "      <td>robbery, bodily force</td>\n",
       "      <td>monday</td>\n",
       "      <td>2016-01-18</td>\n",
       "      <td>23:40</td>\n",
       "      <td>TENDERLOIN</td>\n",
       "      <td>NONE</td>\n",
       "      <td>100 Block of STOCKTON ST</td>\n",
       "      <td>-122.406428</td>\n",
       "      <td>37.787109</td>\n",
       "      <td>(37.78710945429, -122.40642786236)</td>\n",
       "      <td>16005124203074</td>\n",
       "      <td>23</td>\n",
       "      <td>1</td>\n",
       "      <td>18</td>\n",
       "      <td>2016</td>\n",
       "      <td>shift_2</td>\n",
       "      <td>2</td>\n",
       "      <td>False</td>\n",
       "    </tr>\n",
       "    <tr>\n",
       "      <th>160051305</th>\n",
       "      <td>disorderly conduct</td>\n",
       "      <td>committing public nuisance</td>\n",
       "      <td>monday</td>\n",
       "      <td>2016-01-18</td>\n",
       "      <td>23:30</td>\n",
       "      <td>MISSION</td>\n",
       "      <td>ARREST, BOOKED</td>\n",
       "      <td>500 Block of SHOTWELL ST</td>\n",
       "      <td>-122.415922</td>\n",
       "      <td>37.759612</td>\n",
       "      <td>(37.7596123168685, -122.415921585459)</td>\n",
       "      <td>16005130519010</td>\n",
       "      <td>23</td>\n",
       "      <td>1</td>\n",
       "      <td>18</td>\n",
       "      <td>2016</td>\n",
       "      <td>shift_2</td>\n",
       "      <td>1</td>\n",
       "      <td>False</td>\n",
       "    </tr>\n",
       "    <tr>\n",
       "      <th>160051258</th>\n",
       "      <td>robbery</td>\n",
       "      <td>attempted robbery on the street with a gun</td>\n",
       "      <td>monday</td>\n",
       "      <td>2016-01-18</td>\n",
       "      <td>23:30</td>\n",
       "      <td>BAYVIEW</td>\n",
       "      <td>NONE</td>\n",
       "      <td>BANCROFT AV / KEITH ST</td>\n",
       "      <td>-122.392791</td>\n",
       "      <td>37.725605</td>\n",
       "      <td>(37.7256051449087, -122.392791275294)</td>\n",
       "      <td>16005125803411</td>\n",
       "      <td>23</td>\n",
       "      <td>1</td>\n",
       "      <td>18</td>\n",
       "      <td>2016</td>\n",
       "      <td>shift_2</td>\n",
       "      <td>2</td>\n",
       "      <td>True</td>\n",
       "    </tr>\n",
       "    <tr>\n",
       "      <th>160051258</th>\n",
       "      <td>assault</td>\n",
       "      <td>aggravated assault with a gun</td>\n",
       "      <td>monday</td>\n",
       "      <td>2016-01-18</td>\n",
       "      <td>23:30</td>\n",
       "      <td>BAYVIEW</td>\n",
       "      <td>NONE</td>\n",
       "      <td>BANCROFT AV / KEITH ST</td>\n",
       "      <td>-122.392791</td>\n",
       "      <td>37.725605</td>\n",
       "      <td>(37.7256051449087, -122.392791275294)</td>\n",
       "      <td>16005125804011</td>\n",
       "      <td>23</td>\n",
       "      <td>1</td>\n",
       "      <td>18</td>\n",
       "      <td>2016</td>\n",
       "      <td>shift_2</td>\n",
       "      <td>4</td>\n",
       "      <td>True</td>\n",
       "    </tr>\n",
       "  </tbody>\n",
       "</table>\n",
       "</div>"
      ],
      "text/plain": [
       "                      category                                    descript  \\\n",
       "IncidntNum                                                                   \n",
       "160051264             warrants                              warrant arrest   \n",
       "160051242              robbery                       robbery, bodily force   \n",
       "160051305   disorderly conduct                  committing public nuisance   \n",
       "160051258              robbery  attempted robbery on the street with a gun   \n",
       "160051258              assault               aggravated assault with a gun   \n",
       "\n",
       "           dayofweek       date   time  pddistrict      resolution  \\\n",
       "IncidntNum                                                           \n",
       "160051264     monday 2016-01-18  23:52     CENTRAL  ARREST, BOOKED   \n",
       "160051242     monday 2016-01-18  23:40  TENDERLOIN            NONE   \n",
       "160051305     monday 2016-01-18  23:30     MISSION  ARREST, BOOKED   \n",
       "160051258     monday 2016-01-18  23:30     BAYVIEW            NONE   \n",
       "160051258     monday 2016-01-18  23:30     BAYVIEW            NONE   \n",
       "\n",
       "                             address           x          y  \\\n",
       "IncidntNum                                                    \n",
       "160051264     400 Block of POWELL ST -122.408568  37.788759   \n",
       "160051242   100 Block of STOCKTON ST -122.406428  37.787109   \n",
       "160051305   500 Block of SHOTWELL ST -122.415922  37.759612   \n",
       "160051258     BANCROFT AV / KEITH ST -122.392791  37.725605   \n",
       "160051258     BANCROFT AV / KEITH ST -122.392791  37.725605   \n",
       "\n",
       "                                         location            pdid  hour  \\\n",
       "IncidntNum                                                                \n",
       "160051264   (37.7887594214703, -122.408568445228)  16005126463010    23   \n",
       "160051242      (37.78710945429, -122.40642786236)  16005124203074    23   \n",
       "160051305   (37.7596123168685, -122.415921585459)  16005130519010    23   \n",
       "160051258   (37.7256051449087, -122.392791275294)  16005125803411    23   \n",
       "160051258   (37.7256051449087, -122.392791275294)  16005125804011    23   \n",
       "\n",
       "            month  day  year    shift  crime_level    gun  \n",
       "IncidntNum                                                 \n",
       "160051264       1   18  2016  shift_2            1  False  \n",
       "160051242       1   18  2016  shift_2            2  False  \n",
       "160051305       1   18  2016  shift_2            1  False  \n",
       "160051258       1   18  2016  shift_2            2   True  \n",
       "160051258       1   18  2016  shift_2            4   True  "
      ]
     },
     "execution_count": 26,
     "metadata": {},
     "output_type": "execute_result"
    }
   ],
   "source": [
    "sf_data.head()"
   ]
  },
  {
   "cell_type": "markdown",
   "metadata": {
    "collapsed": true
   },
   "source": [
    "## Consolidate into daily records\n",
    "Group the incidents by day and count the Number of incidents and the sum of the crime_level"
   ]
  },
  {
   "cell_type": "markdown",
   "metadata": {
    "collapsed": false
   },
   "source": [
    "### Group by the day\n",
    "\n",
    "To group by day and shift, uncomment code marked #SHIFT"
   ]
  },
  {
   "cell_type": "code",
   "execution_count": 27,
   "metadata": {
    "collapsed": false
   },
   "outputs": [
    {
     "data": {
      "text/html": [
       "<div>\n",
       "<table border=\"1\" class=\"dataframe\">\n",
       "  <thead>\n",
       "    <tr>\n",
       "      <th></th>\n",
       "      <th colspan=\"2\" halign=\"left\">crime_level</th>\n",
       "    </tr>\n",
       "    <tr>\n",
       "      <th></th>\n",
       "      <th>sum</th>\n",
       "      <th>count</th>\n",
       "    </tr>\n",
       "    <tr>\n",
       "      <th>date</th>\n",
       "      <th></th>\n",
       "      <th></th>\n",
       "    </tr>\n",
       "  </thead>\n",
       "  <tbody>\n",
       "    <tr>\n",
       "      <th>2003-01-01</th>\n",
       "      <td>1254</td>\n",
       "      <td>622</td>\n",
       "    </tr>\n",
       "    <tr>\n",
       "      <th>2003-01-02</th>\n",
       "      <td>750</td>\n",
       "      <td>411</td>\n",
       "    </tr>\n",
       "    <tr>\n",
       "      <th>2003-01-03</th>\n",
       "      <td>799</td>\n",
       "      <td>440</td>\n",
       "    </tr>\n",
       "    <tr>\n",
       "      <th>2003-01-04</th>\n",
       "      <td>674</td>\n",
       "      <td>347</td>\n",
       "    </tr>\n",
       "    <tr>\n",
       "      <th>2003-01-05</th>\n",
       "      <td>755</td>\n",
       "      <td>377</td>\n",
       "    </tr>\n",
       "  </tbody>\n",
       "</table>\n",
       "</div>"
      ],
      "text/plain": [
       "           crime_level      \n",
       "                   sum count\n",
       "date                        \n",
       "2003-01-01        1254   622\n",
       "2003-01-02         750   411\n",
       "2003-01-03         799   440\n",
       "2003-01-04         674   347\n",
       "2003-01-05         755   377"
      ]
     },
     "execution_count": 27,
     "metadata": {},
     "output_type": "execute_result"
    }
   ],
   "source": [
    "day_group = sf_data.groupby(['date'])[['crime_level']].agg(['sum', 'count'])\n",
    "#SHIFT day_group = sf_data.groupby(['date','shift'])[['crime_level']].agg(['sum', 'count'])\n",
    "day_group.head()"
   ]
  },
  {
   "cell_type": "code",
   "execution_count": 28,
   "metadata": {
    "collapsed": false
   },
   "outputs": [],
   "source": [
    "# unstack to bring shift from rows to columns\n",
    "#SHIFT day_group = day_group.unstack(level=-1)\n",
    "#SHIFT day_group.head()"
   ]
  },
  {
   "cell_type": "code",
   "execution_count": 29,
   "metadata": {
    "collapsed": false
   },
   "outputs": [
    {
     "data": {
      "text/plain": [
       "array([('crime_level', 'sum'), ('crime_level', 'count')], dtype=object)"
      ]
     },
     "execution_count": 29,
     "metadata": {},
     "output_type": "execute_result"
    }
   ],
   "source": [
    "day_group.columns.values"
   ]
  },
  {
   "cell_type": "code",
   "execution_count": 30,
   "metadata": {
    "collapsed": false
   },
   "outputs": [
    {
     "data": {
      "text/html": [
       "<div>\n",
       "<table border=\"1\" class=\"dataframe\">\n",
       "  <thead>\n",
       "    <tr style=\"text-align: right;\">\n",
       "      <th></th>\n",
       "      <th>crime_level_sum</th>\n",
       "      <th>crime_level_count</th>\n",
       "    </tr>\n",
       "    <tr>\n",
       "      <th>date</th>\n",
       "      <th></th>\n",
       "      <th></th>\n",
       "    </tr>\n",
       "  </thead>\n",
       "  <tbody>\n",
       "    <tr>\n",
       "      <th>2003-01-01</th>\n",
       "      <td>1254</td>\n",
       "      <td>622</td>\n",
       "    </tr>\n",
       "    <tr>\n",
       "      <th>2003-01-02</th>\n",
       "      <td>750</td>\n",
       "      <td>411</td>\n",
       "    </tr>\n",
       "  </tbody>\n",
       "</table>\n",
       "</div>"
      ],
      "text/plain": [
       "            crime_level_sum  crime_level_count\n",
       "date                                          \n",
       "2003-01-01             1254                622\n",
       "2003-01-02              750                411"
      ]
     },
     "execution_count": 30,
     "metadata": {},
     "output_type": "execute_result"
    }
   ],
   "source": [
    "day_group.columns = ['_'.join(col).strip() for col in day_group.columns.values]\n",
    "day_group.head(2)\n"
   ]
  },
  {
   "cell_type": "markdown",
   "metadata": {},
   "source": [
    "### Create a crime level that is on the scale of 0 to 10"
   ]
  },
  {
   "cell_type": "code",
   "execution_count": 39,
   "metadata": {
    "collapsed": false
   },
   "outputs": [
    {
     "data": {
      "text/html": [
       "<div>\n",
       "<table border=\"1\" class=\"dataframe\">\n",
       "  <thead>\n",
       "    <tr style=\"text-align: right;\">\n",
       "      <th></th>\n",
       "      <th>crime_level_sum</th>\n",
       "      <th>crime_level_count</th>\n",
       "      <th>crime_level</th>\n",
       "    </tr>\n",
       "    <tr>\n",
       "      <th>date</th>\n",
       "      <th></th>\n",
       "      <th></th>\n",
       "      <th></th>\n",
       "    </tr>\n",
       "  </thead>\n",
       "  <tbody>\n",
       "    <tr>\n",
       "      <th>2003-01-01</th>\n",
       "      <td>1254</td>\n",
       "      <td>622</td>\n",
       "      <td>10.000000</td>\n",
       "    </tr>\n",
       "    <tr>\n",
       "      <th>2003-01-02</th>\n",
       "      <td>750</td>\n",
       "      <td>411</td>\n",
       "      <td>5.974441</td>\n",
       "    </tr>\n",
       "    <tr>\n",
       "      <th>2003-01-03</th>\n",
       "      <td>799</td>\n",
       "      <td>440</td>\n",
       "      <td>6.365815</td>\n",
       "    </tr>\n",
       "    <tr>\n",
       "      <th>2003-01-04</th>\n",
       "      <td>674</td>\n",
       "      <td>347</td>\n",
       "      <td>5.367412</td>\n",
       "    </tr>\n",
       "    <tr>\n",
       "      <th>2003-01-05</th>\n",
       "      <td>755</td>\n",
       "      <td>377</td>\n",
       "      <td>6.014377</td>\n",
       "    </tr>\n",
       "  </tbody>\n",
       "</table>\n",
       "</div>"
      ],
      "text/plain": [
       "            crime_level_sum  crime_level_count  crime_level\n",
       "date                                                       \n",
       "2003-01-01             1254                622    10.000000\n",
       "2003-01-02              750                411     5.974441\n",
       "2003-01-03              799                440     6.365815\n",
       "2003-01-04              674                347     5.367412\n",
       "2003-01-05              755                377     6.014377"
      ]
     },
     "execution_count": 39,
     "metadata": {},
     "output_type": "execute_result"
    }
   ],
   "source": [
    "high_crime = day_group['crime_level_sum'].max()\n",
    "low_crime = day_group['crime_level_sum'].min()\n",
    "day_group['crime_level'] = (day_group['crime_level_sum'] - low_crime) * 10 / (high_crime - low_crime)\n",
    "day_group.head()"
   ]
  },
  {
   "cell_type": "code",
   "execution_count": 31,
   "metadata": {
    "collapsed": false
   },
   "outputs": [],
   "source": [
    "# Sum up the 3 shift info into day totals\n",
    "#SHIFT day_group['crime_level_sum_day'] = day_group['crime_level_sum_shift_1'] + \n",
    "#                                   day_group['crime_level_sum_shift_2'] + \n",
    "#                                   day_group['crime_level_sum_shift_3']\n",
    "#day_group['crime_level_count_day'] = day_group['crime_level_count_shift_1'] + \n",
    "#                                     day_group['crime_level_count_shift_2'] + \n",
    "#                                     day_group['crime_level_count_shift_3']        \n",
    "#day_group.head(2)"
   ]
  },
  {
   "cell_type": "markdown",
   "metadata": {},
   "source": [
    "### Add in the other fields that are not crime rate\n",
    "Features that are needed for further analysis\n",
    "- day, month, year and dayofweek"
   ]
  },
  {
   "cell_type": "code",
   "execution_count": 40,
   "metadata": {
    "collapsed": false
   },
   "outputs": [
    {
     "data": {
      "text/html": [
       "<div>\n",
       "<table border=\"1\" class=\"dataframe\">\n",
       "  <thead>\n",
       "    <tr style=\"text-align: right;\">\n",
       "      <th></th>\n",
       "      <th>dayofweek</th>\n",
       "      <th>day</th>\n",
       "      <th>month</th>\n",
       "      <th>year</th>\n",
       "    </tr>\n",
       "    <tr>\n",
       "      <th>date</th>\n",
       "      <th></th>\n",
       "      <th></th>\n",
       "      <th></th>\n",
       "      <th></th>\n",
       "    </tr>\n",
       "  </thead>\n",
       "  <tbody>\n",
       "    <tr>\n",
       "      <th>2003-01-01</th>\n",
       "      <td>wednesday</td>\n",
       "      <td>1</td>\n",
       "      <td>1</td>\n",
       "      <td>2003</td>\n",
       "    </tr>\n",
       "    <tr>\n",
       "      <th>2003-01-02</th>\n",
       "      <td>thursday</td>\n",
       "      <td>2</td>\n",
       "      <td>1</td>\n",
       "      <td>2003</td>\n",
       "    </tr>\n",
       "    <tr>\n",
       "      <th>2003-01-03</th>\n",
       "      <td>friday</td>\n",
       "      <td>3</td>\n",
       "      <td>1</td>\n",
       "      <td>2003</td>\n",
       "    </tr>\n",
       "    <tr>\n",
       "      <th>2003-01-04</th>\n",
       "      <td>saturday</td>\n",
       "      <td>4</td>\n",
       "      <td>1</td>\n",
       "      <td>2003</td>\n",
       "    </tr>\n",
       "    <tr>\n",
       "      <th>2003-01-05</th>\n",
       "      <td>sunday</td>\n",
       "      <td>5</td>\n",
       "      <td>1</td>\n",
       "      <td>2003</td>\n",
       "    </tr>\n",
       "  </tbody>\n",
       "</table>\n",
       "</div>"
      ],
      "text/plain": [
       "            dayofweek  day  month  year\n",
       "date                                   \n",
       "2003-01-01  wednesday    1      1  2003\n",
       "2003-01-02   thursday    2      1  2003\n",
       "2003-01-03     friday    3      1  2003\n",
       "2003-01-04   saturday    4      1  2003\n",
       "2003-01-05     sunday    5      1  2003"
      ]
     },
     "execution_count": 40,
     "metadata": {},
     "output_type": "execute_result"
    }
   ],
   "source": [
    "day_group_static = sf_data.groupby(['date'])[['dayofweek','day', 'month', 'year']].min()\n",
    "day_group_static.head()"
   ]
  },
  {
   "cell_type": "markdown",
   "metadata": {},
   "source": [
    "### merge crimelevel df with other fields\n",
    "- day_group\n",
    "- day_group_static"
   ]
  },
  {
   "cell_type": "code",
   "execution_count": 41,
   "metadata": {
    "collapsed": false
   },
   "outputs": [
    {
     "data": {
      "text/html": [
       "<div>\n",
       "<table border=\"1\" class=\"dataframe\">\n",
       "  <thead>\n",
       "    <tr style=\"text-align: right;\">\n",
       "      <th></th>\n",
       "      <th>crime_level_sum</th>\n",
       "      <th>crime_level_count</th>\n",
       "      <th>crime_level</th>\n",
       "      <th>dayofweek</th>\n",
       "      <th>day</th>\n",
       "      <th>month</th>\n",
       "      <th>year</th>\n",
       "    </tr>\n",
       "    <tr>\n",
       "      <th>date</th>\n",
       "      <th></th>\n",
       "      <th></th>\n",
       "      <th></th>\n",
       "      <th></th>\n",
       "      <th></th>\n",
       "      <th></th>\n",
       "      <th></th>\n",
       "    </tr>\n",
       "  </thead>\n",
       "  <tbody>\n",
       "    <tr>\n",
       "      <th>2003-01-01</th>\n",
       "      <td>1254</td>\n",
       "      <td>622</td>\n",
       "      <td>10.000000</td>\n",
       "      <td>wednesday</td>\n",
       "      <td>1</td>\n",
       "      <td>1</td>\n",
       "      <td>2003</td>\n",
       "    </tr>\n",
       "    <tr>\n",
       "      <th>2003-01-02</th>\n",
       "      <td>750</td>\n",
       "      <td>411</td>\n",
       "      <td>5.974441</td>\n",
       "      <td>thursday</td>\n",
       "      <td>2</td>\n",
       "      <td>1</td>\n",
       "      <td>2003</td>\n",
       "    </tr>\n",
       "    <tr>\n",
       "      <th>2003-01-03</th>\n",
       "      <td>799</td>\n",
       "      <td>440</td>\n",
       "      <td>6.365815</td>\n",
       "      <td>friday</td>\n",
       "      <td>3</td>\n",
       "      <td>1</td>\n",
       "      <td>2003</td>\n",
       "    </tr>\n",
       "    <tr>\n",
       "      <th>2003-01-04</th>\n",
       "      <td>674</td>\n",
       "      <td>347</td>\n",
       "      <td>5.367412</td>\n",
       "      <td>saturday</td>\n",
       "      <td>4</td>\n",
       "      <td>1</td>\n",
       "      <td>2003</td>\n",
       "    </tr>\n",
       "    <tr>\n",
       "      <th>2003-01-05</th>\n",
       "      <td>755</td>\n",
       "      <td>377</td>\n",
       "      <td>6.014377</td>\n",
       "      <td>sunday</td>\n",
       "      <td>5</td>\n",
       "      <td>1</td>\n",
       "      <td>2003</td>\n",
       "    </tr>\n",
       "  </tbody>\n",
       "</table>\n",
       "</div>"
      ],
      "text/plain": [
       "            crime_level_sum  crime_level_count  crime_level  dayofweek  day  \\\n",
       "date                                                                          \n",
       "2003-01-01             1254                622    10.000000  wednesday    1   \n",
       "2003-01-02              750                411     5.974441   thursday    2   \n",
       "2003-01-03              799                440     6.365815     friday    3   \n",
       "2003-01-04              674                347     5.367412   saturday    4   \n",
       "2003-01-05              755                377     6.014377     sunday    5   \n",
       "\n",
       "            month  year  \n",
       "date                     \n",
       "2003-01-01      1  2003  \n",
       "2003-01-02      1  2003  \n",
       "2003-01-03      1  2003  \n",
       "2003-01-04      1  2003  \n",
       "2003-01-05      1  2003  "
      ]
     },
     "execution_count": 41,
     "metadata": {},
     "output_type": "execute_result"
    }
   ],
   "source": [
    "data = pd.concat([day_group, day_group_static], axis=1, join_axes=[day_group.index])\n",
    "data.head()"
   ]
  },
  {
   "cell_type": "markdown",
   "metadata": {},
   "source": [
    "## Review new data"
   ]
  },
  {
   "cell_type": "code",
   "execution_count": 42,
   "metadata": {
    "collapsed": false
   },
   "outputs": [
    {
     "data": {
      "text/html": [
       "<div>\n",
       "<table border=\"1\" class=\"dataframe\">\n",
       "  <thead>\n",
       "    <tr style=\"text-align: right;\">\n",
       "      <th></th>\n",
       "      <th>crime_level_sum</th>\n",
       "      <th>crime_level_count</th>\n",
       "      <th>crime_level</th>\n",
       "      <th>day</th>\n",
       "      <th>month</th>\n",
       "      <th>year</th>\n",
       "    </tr>\n",
       "  </thead>\n",
       "  <tbody>\n",
       "    <tr>\n",
       "      <th>count</th>\n",
       "      <td>4765.000000</td>\n",
       "      <td>4765.000000</td>\n",
       "      <td>4765.000000</td>\n",
       "      <td>4765.000000</td>\n",
       "      <td>4765.000000</td>\n",
       "      <td>4765.000000</td>\n",
       "    </tr>\n",
       "    <tr>\n",
       "      <th>mean</th>\n",
       "      <td>733.631060</td>\n",
       "      <td>391.725079</td>\n",
       "      <td>5.843699</td>\n",
       "      <td>15.706611</td>\n",
       "      <td>6.502413</td>\n",
       "      <td>2009.025813</td>\n",
       "    </tr>\n",
       "    <tr>\n",
       "      <th>std</th>\n",
       "      <td>92.795111</td>\n",
       "      <td>49.040628</td>\n",
       "      <td>0.741175</td>\n",
       "      <td>8.798708</td>\n",
       "      <td>3.459470</td>\n",
       "      <td>3.759785</td>\n",
       "    </tr>\n",
       "    <tr>\n",
       "      <th>min</th>\n",
       "      <td>2.000000</td>\n",
       "      <td>2.000000</td>\n",
       "      <td>0.000000</td>\n",
       "      <td>1.000000</td>\n",
       "      <td>1.000000</td>\n",
       "      <td>2003.000000</td>\n",
       "    </tr>\n",
       "    <tr>\n",
       "      <th>25%</th>\n",
       "      <td>673.000000</td>\n",
       "      <td>360.000000</td>\n",
       "      <td>5.359425</td>\n",
       "      <td>8.000000</td>\n",
       "      <td>4.000000</td>\n",
       "      <td>2006.000000</td>\n",
       "    </tr>\n",
       "    <tr>\n",
       "      <th>50%</th>\n",
       "      <td>730.000000</td>\n",
       "      <td>391.000000</td>\n",
       "      <td>5.814696</td>\n",
       "      <td>16.000000</td>\n",
       "      <td>7.000000</td>\n",
       "      <td>2009.000000</td>\n",
       "    </tr>\n",
       "    <tr>\n",
       "      <th>75%</th>\n",
       "      <td>788.000000</td>\n",
       "      <td>422.000000</td>\n",
       "      <td>6.277955</td>\n",
       "      <td>23.000000</td>\n",
       "      <td>10.000000</td>\n",
       "      <td>2012.000000</td>\n",
       "    </tr>\n",
       "    <tr>\n",
       "      <th>max</th>\n",
       "      <td>1254.000000</td>\n",
       "      <td>650.000000</td>\n",
       "      <td>10.000000</td>\n",
       "      <td>31.000000</td>\n",
       "      <td>12.000000</td>\n",
       "      <td>2016.000000</td>\n",
       "    </tr>\n",
       "  </tbody>\n",
       "</table>\n",
       "</div>"
      ],
      "text/plain": [
       "       crime_level_sum  crime_level_count  crime_level          day  \\\n",
       "count      4765.000000        4765.000000  4765.000000  4765.000000   \n",
       "mean        733.631060         391.725079     5.843699    15.706611   \n",
       "std          92.795111          49.040628     0.741175     8.798708   \n",
       "min           2.000000           2.000000     0.000000     1.000000   \n",
       "25%         673.000000         360.000000     5.359425     8.000000   \n",
       "50%         730.000000         391.000000     5.814696    16.000000   \n",
       "75%         788.000000         422.000000     6.277955    23.000000   \n",
       "max        1254.000000         650.000000    10.000000    31.000000   \n",
       "\n",
       "             month         year  \n",
       "count  4765.000000  4765.000000  \n",
       "mean      6.502413  2009.025813  \n",
       "std       3.459470     3.759785  \n",
       "min       1.000000  2003.000000  \n",
       "25%       4.000000  2006.000000  \n",
       "50%       7.000000  2009.000000  \n",
       "75%      10.000000  2012.000000  \n",
       "max      12.000000  2016.000000  "
      ]
     },
     "execution_count": 42,
     "metadata": {},
     "output_type": "execute_result"
    }
   ],
   "source": [
    "data.describe()"
   ]
  },
  {
   "cell_type": "markdown",
   "metadata": {},
   "source": [
    "### Observations\n",
    "- minimum crime level count is 2. That seems unreasonable that there would only be 2 incidents on a day."
   ]
  },
  {
   "cell_type": "code",
   "execution_count": 43,
   "metadata": {
    "collapsed": false
   },
   "outputs": [
    {
     "data": {
      "text/html": [
       "<div>\n",
       "<table border=\"1\" class=\"dataframe\">\n",
       "  <thead>\n",
       "    <tr style=\"text-align: right;\">\n",
       "      <th></th>\n",
       "      <th>crime_level_sum</th>\n",
       "      <th>crime_level_count</th>\n",
       "      <th>crime_level</th>\n",
       "      <th>dayofweek</th>\n",
       "      <th>day</th>\n",
       "      <th>month</th>\n",
       "      <th>year</th>\n",
       "    </tr>\n",
       "    <tr>\n",
       "      <th>date</th>\n",
       "      <th></th>\n",
       "      <th></th>\n",
       "      <th></th>\n",
       "      <th></th>\n",
       "      <th></th>\n",
       "      <th></th>\n",
       "      <th></th>\n",
       "    </tr>\n",
       "  </thead>\n",
       "  <tbody>\n",
       "    <tr>\n",
       "      <th>2007-12-16</th>\n",
       "      <td>2</td>\n",
       "      <td>2</td>\n",
       "      <td>0.000000</td>\n",
       "      <td>sunday</td>\n",
       "      <td>16</td>\n",
       "      <td>12</td>\n",
       "      <td>2007</td>\n",
       "    </tr>\n",
       "    <tr>\n",
       "      <th>2008-08-01</th>\n",
       "      <td>10</td>\n",
       "      <td>8</td>\n",
       "      <td>0.063898</td>\n",
       "      <td>friday</td>\n",
       "      <td>1</td>\n",
       "      <td>8</td>\n",
       "      <td>2008</td>\n",
       "    </tr>\n",
       "    <tr>\n",
       "      <th>2013-12-25</th>\n",
       "      <td>314</td>\n",
       "      <td>152</td>\n",
       "      <td>2.492013</td>\n",
       "      <td>wednesday</td>\n",
       "      <td>25</td>\n",
       "      <td>12</td>\n",
       "      <td>2013</td>\n",
       "    </tr>\n",
       "    <tr>\n",
       "      <th>2011-12-25</th>\n",
       "      <td>327</td>\n",
       "      <td>168</td>\n",
       "      <td>2.595847</td>\n",
       "      <td>sunday</td>\n",
       "      <td>25</td>\n",
       "      <td>12</td>\n",
       "      <td>2011</td>\n",
       "    </tr>\n",
       "    <tr>\n",
       "      <th>2013-12-24</th>\n",
       "      <td>308</td>\n",
       "      <td>173</td>\n",
       "      <td>2.444089</td>\n",
       "      <td>tuesday</td>\n",
       "      <td>24</td>\n",
       "      <td>12</td>\n",
       "      <td>2013</td>\n",
       "    </tr>\n",
       "    <tr>\n",
       "      <th>2010-12-25</th>\n",
       "      <td>355</td>\n",
       "      <td>175</td>\n",
       "      <td>2.819489</td>\n",
       "      <td>saturday</td>\n",
       "      <td>25</td>\n",
       "      <td>12</td>\n",
       "      <td>2010</td>\n",
       "    </tr>\n",
       "    <tr>\n",
       "      <th>2013-12-23</th>\n",
       "      <td>379</td>\n",
       "      <td>187</td>\n",
       "      <td>3.011182</td>\n",
       "      <td>monday</td>\n",
       "      <td>23</td>\n",
       "      <td>12</td>\n",
       "      <td>2013</td>\n",
       "    </tr>\n",
       "    <tr>\n",
       "      <th>2008-12-25</th>\n",
       "      <td>403</td>\n",
       "      <td>199</td>\n",
       "      <td>3.202875</td>\n",
       "      <td>thursday</td>\n",
       "      <td>25</td>\n",
       "      <td>12</td>\n",
       "      <td>2008</td>\n",
       "    </tr>\n",
       "    <tr>\n",
       "      <th>2007-12-25</th>\n",
       "      <td>395</td>\n",
       "      <td>212</td>\n",
       "      <td>3.138978</td>\n",
       "      <td>tuesday</td>\n",
       "      <td>25</td>\n",
       "      <td>12</td>\n",
       "      <td>2007</td>\n",
       "    </tr>\n",
       "    <tr>\n",
       "      <th>2012-12-25</th>\n",
       "      <td>403</td>\n",
       "      <td>217</td>\n",
       "      <td>3.202875</td>\n",
       "      <td>tuesday</td>\n",
       "      <td>25</td>\n",
       "      <td>12</td>\n",
       "      <td>2012</td>\n",
       "    </tr>\n",
       "  </tbody>\n",
       "</table>\n",
       "</div>"
      ],
      "text/plain": [
       "            crime_level_sum  crime_level_count  crime_level  dayofweek  day  \\\n",
       "date                                                                          \n",
       "2007-12-16                2                  2     0.000000     sunday   16   \n",
       "2008-08-01               10                  8     0.063898     friday    1   \n",
       "2013-12-25              314                152     2.492013  wednesday   25   \n",
       "2011-12-25              327                168     2.595847     sunday   25   \n",
       "2013-12-24              308                173     2.444089    tuesday   24   \n",
       "2010-12-25              355                175     2.819489   saturday   25   \n",
       "2013-12-23              379                187     3.011182     monday   23   \n",
       "2008-12-25              403                199     3.202875   thursday   25   \n",
       "2007-12-25              395                212     3.138978    tuesday   25   \n",
       "2012-12-25              403                217     3.202875    tuesday   25   \n",
       "\n",
       "            month  year  \n",
       "date                     \n",
       "2007-12-16     12  2007  \n",
       "2008-08-01      8  2008  \n",
       "2013-12-25     12  2013  \n",
       "2011-12-25     12  2011  \n",
       "2013-12-24     12  2013  \n",
       "2010-12-25     12  2010  \n",
       "2013-12-23     12  2013  \n",
       "2008-12-25     12  2008  \n",
       "2007-12-25     12  2007  \n",
       "2012-12-25     12  2012  "
      ]
     },
     "execution_count": 43,
     "metadata": {},
     "output_type": "execute_result"
    }
   ],
   "source": [
    "data.sort_values('crime_level_count', ascending=True).head(10)"
   ]
  },
  {
   "cell_type": "markdown",
   "metadata": {},
   "source": [
    "### Remove the two days that appear to be missing data\n",
    "- there were 2 days that only had 2 and 8 incidents. \n",
    "- remove them since there must be missing data from those 2 days."
   ]
  },
  {
   "cell_type": "code",
   "execution_count": 45,
   "metadata": {
    "collapsed": false
   },
   "outputs": [
    {
     "data": {
      "text/plain": [
       "(4763, 7)"
      ]
     },
     "execution_count": 45,
     "metadata": {},
     "output_type": "execute_result"
    }
   ],
   "source": [
    "data = data[data['crime_level_count'] > 10]\n",
    "data.shape"
   ]
  },
  {
   "cell_type": "markdown",
   "metadata": {},
   "source": [
    "## Write final data to file"
   ]
  },
  {
   "cell_type": "code",
   "execution_count": 46,
   "metadata": {
    "collapsed": true
   },
   "outputs": [],
   "source": [
    "data.to_csv('sf_crime_clean.csv')"
   ]
  },
  {
   "cell_type": "code",
   "execution_count": null,
   "metadata": {
    "collapsed": true
   },
   "outputs": [],
   "source": []
  }
 ],
 "metadata": {
  "kernelspec": {
   "display_name": "Python 2",
   "language": "python",
   "name": "python2"
  },
  "language_info": {
   "codemirror_mode": {
    "name": "ipython",
    "version": 2
   },
   "file_extension": ".py",
   "mimetype": "text/x-python",
   "name": "python",
   "nbconvert_exporter": "python",
   "pygments_lexer": "ipython2",
   "version": "2.7.11"
  }
 },
 "nbformat": 4,
 "nbformat_minor": 0
}
