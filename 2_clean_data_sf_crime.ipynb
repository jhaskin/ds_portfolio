{
 "cells": [
  {
   "cell_type": "markdown",
   "metadata": {},
   "source": [
    "# Clean San Francisco Crime data \n",
    "- Jim Haskin\n",
    "\n",
    "- GA-Data Science\n",
    "- Dec 2015\n",
    "\n",
    "- 2/17/2016"
   ]
  },
  {
   "cell_type": "markdown",
   "metadata": {},
   "source": [
    "## Method\n",
    "- I have collected the incident reports of the San Franciso Police Department from the SF OpenData website. https://data.sfgov.org/data?category=Public%20Safety. I have the records from January, 2003 until the beginning of 2016.\n",
    "- I cleaned and reformated the fields.\n",
    "- I summerized the report to generate a daily report of the number of incidents and another factor I am calling Crime Level. Each incident is given a score based on how violent it is. Murders and assaults are rated high. Traffic violations and non-criminal incidents are rated low. These scores are summed and then normalized to a scale of 0 - 10.\n",
    "- Also added other crime measuring variables that can be used to narrow the reseach to different subsets of crime.\n",
    "- 'gun_level' is an example. These are explained below."
   ]
  },
  {
   "cell_type": "markdown",
   "metadata": {},
   "source": [
    "# Sections\n"
   ]
  },
  {
   "cell_type": "markdown",
   "metadata": {},
   "source": [
    "- [Data Source](#Data-Source)\n",
    "- [Clean Data](#Clean-Data)\n",
    "- [New Features for Raw Data](#New-Features-for-Raw-data)\n",
    "- [Corrrections for Raw data](#Corrections-for-Raw-data)\n",
    "- [Create Crime Measuring Variables](#Create-Crime-Measuring-Variables)\n",
    "- [Consolidate into daily records](#Consolidate-into-daily-records)\n",
    "- [Corrections for Daily records](#Corrections-for-Daily-records)\n",
    "- [New Features for Daily records](#New-Features-for-Daily-records)\n",
    "- [Normalize Levels](#Normalize-Levels)\n",
    "- [Write final data to file](#Write-final-data-to-file)\n",
    "- [qq](#qq)"
   ]
  },
  {
   "cell_type": "markdown",
   "metadata": {},
   "source": [
    "# Working Notes\n",
    "## features to add or create\n",
    "- month\n",
    "\n",
    "\n"
   ]
  },
  {
   "cell_type": "markdown",
   "metadata": {},
   "source": [
    "## Data Source\n",
    "[[back to top](#Sections)]\n",
    "\n",
    "- Data downloaded from SF Open Data site. File includes incidents from 1/1/2003 until the present \n",
    "- SFPD_Incidents_-_from_1_January_2003.csv\n",
    "- https://data.sfgov.org/data?category=Public%20Safety\n",
    "\n",
    "\n",
    "FieldName|Type|Description                             \n",
    "---------------|------------|---------------------\n",
    "IncidntNum|string|Police assigned number\n",
    "Category|string|General Crime category\n",
    "Descript|string|Secondary category/details\n",
    "DayOfWeek|string|Day of week event occured\n",
    "Date|string|Date in format : 01/18/2016\n",
    "Time|string|Time in format : 23:52\n",
    "PdDistrict|string|Police District that event occured in\n",
    "Resolution|int|How case was resolved\n",
    "Address|string|Address of event\n",
    "X|float|Longitude \n",
    "Y|float|Latitude\n",
    "Location|string|Latitude,Longitude in character pair\n",
    "PdId|int|Police Department ID number\n"
   ]
  },
  {
   "cell_type": "code",
   "execution_count": 1,
   "metadata": {
    "collapsed": true
   },
   "outputs": [],
   "source": [
    "import pandas as pd\n",
    "import numpy as np\n",
    "import seaborn as sb\n",
    "%matplotlib inline"
   ]
  },
  {
   "cell_type": "code",
   "execution_count": 2,
   "metadata": {
    "collapsed": false
   },
   "outputs": [
    {
     "name": "stdout",
     "output_type": "stream",
     "text": [
      "IncidntNum,Category,Descript,DayOfWeek,Date,Time,PdDistrict,Resolution,Address,X,Y,Location,PdId\r\n",
      "160051264,WARRANTS,WARRANT ARREST,Monday,01/18/2016,23:52,CENTRAL,\"ARREST, BOOKED\",400 Block of POWELL ST,-122.408568445228,37.7887594214703,\"(37.7887594214703, -122.408568445228)\",16005126463010\r\n"
     ]
    }
   ],
   "source": [
    "! head -2 SFPD_Incidents_-_from_1_January_2003.csv\n"
   ]
  },
  {
   "cell_type": "code",
   "execution_count": 3,
   "metadata": {
    "collapsed": false,
    "scrolled": true
   },
   "outputs": [
    {
     "name": "stdout",
     "output_type": "stream",
     "text": [
      "031353484,OTHER OFFENSES,OBSCENE PHONE CALLS(S),Wednesday,01/01/2003,00:01,TARAVAL,NONE,1500 Block of 41ST AV,-122.5003001196,37.7578465298467,\"(37.7578465298467, -122.5003001196)\",3135348419050\r\n",
      "030320997,SUSPICIOUS OCC,SUSPICIOUS OCCURRENCE,Wednesday,01/01/2003,00:01,SOUTHERN,NONE,0 Block of LAFAYETTE ST,-122.416608653757,37.7725681063387,\"(37.7725681063387, -122.416608653757)\",3032099764070\r\n"
     ]
    }
   ],
   "source": [
    "! tail -2 SFPD_Incidents_-_from_1_January_2003.csv\n",
    "\n"
   ]
  },
  {
   "cell_type": "markdown",
   "metadata": {},
   "source": [
    "### Read in Crime data"
   ]
  },
  {
   "cell_type": "code",
   "execution_count": 4,
   "metadata": {
    "collapsed": true
   },
   "outputs": [],
   "source": [
    "sf_data = pd.read_csv('SFPD_Incidents_-_from_1_January_2003.csv', index_col=0)    # has header, commas, index"
   ]
  },
  {
   "cell_type": "markdown",
   "metadata": {},
   "source": [
    "## Clean Data\n",
    "[[back to top](#Sections)]"
   ]
  },
  {
   "cell_type": "markdown",
   "metadata": {},
   "source": [
    "### Convert to lower case\n",
    "- Feature names\n",
    "- Feature values that I'm working with"
   ]
  },
  {
   "cell_type": "code",
   "execution_count": 5,
   "metadata": {
    "collapsed": false
   },
   "outputs": [
    {
     "data": {
      "text/html": [
       "<div>\n",
       "<table border=\"1\" class=\"dataframe\">\n",
       "  <thead>\n",
       "    <tr style=\"text-align: right;\">\n",
       "      <th></th>\n",
       "      <th>category</th>\n",
       "      <th>descript</th>\n",
       "      <th>dayofweek</th>\n",
       "      <th>date</th>\n",
       "      <th>time</th>\n",
       "      <th>pddistrict</th>\n",
       "      <th>resolution</th>\n",
       "      <th>address</th>\n",
       "      <th>x</th>\n",
       "      <th>y</th>\n",
       "      <th>location</th>\n",
       "      <th>pdid</th>\n",
       "    </tr>\n",
       "    <tr>\n",
       "      <th>IncidntNum</th>\n",
       "      <th></th>\n",
       "      <th></th>\n",
       "      <th></th>\n",
       "      <th></th>\n",
       "      <th></th>\n",
       "      <th></th>\n",
       "      <th></th>\n",
       "      <th></th>\n",
       "      <th></th>\n",
       "      <th></th>\n",
       "      <th></th>\n",
       "      <th></th>\n",
       "    </tr>\n",
       "  </thead>\n",
       "  <tbody>\n",
       "    <tr>\n",
       "      <th>160051264</th>\n",
       "      <td>warrants</td>\n",
       "      <td>warrant arrest</td>\n",
       "      <td>monday</td>\n",
       "      <td>01/18/2016</td>\n",
       "      <td>23:52</td>\n",
       "      <td>CENTRAL</td>\n",
       "      <td>ARREST, BOOKED</td>\n",
       "      <td>400 Block of POWELL ST</td>\n",
       "      <td>-122.408568</td>\n",
       "      <td>37.788759</td>\n",
       "      <td>(37.7887594214703, -122.408568445228)</td>\n",
       "      <td>16005126463010</td>\n",
       "    </tr>\n",
       "    <tr>\n",
       "      <th>160051242</th>\n",
       "      <td>robbery</td>\n",
       "      <td>robbery, bodily force</td>\n",
       "      <td>monday</td>\n",
       "      <td>01/18/2016</td>\n",
       "      <td>23:40</td>\n",
       "      <td>TENDERLOIN</td>\n",
       "      <td>NONE</td>\n",
       "      <td>100 Block of STOCKTON ST</td>\n",
       "      <td>-122.406428</td>\n",
       "      <td>37.787109</td>\n",
       "      <td>(37.78710945429, -122.40642786236)</td>\n",
       "      <td>16005124203074</td>\n",
       "    </tr>\n",
       "  </tbody>\n",
       "</table>\n",
       "</div>"
      ],
      "text/plain": [
       "            category               descript dayofweek        date   time  \\\n",
       "IncidntNum                                                                 \n",
       "160051264   warrants         warrant arrest    monday  01/18/2016  23:52   \n",
       "160051242    robbery  robbery, bodily force    monday  01/18/2016  23:40   \n",
       "\n",
       "            pddistrict      resolution                   address           x  \\\n",
       "IncidntNum                                                                     \n",
       "160051264      CENTRAL  ARREST, BOOKED    400 Block of POWELL ST -122.408568   \n",
       "160051242   TENDERLOIN            NONE  100 Block of STOCKTON ST -122.406428   \n",
       "\n",
       "                    y                               location            pdid  \n",
       "IncidntNum                                                                    \n",
       "160051264   37.788759  (37.7887594214703, -122.408568445228)  16005126463010  \n",
       "160051242   37.787109     (37.78710945429, -122.40642786236)  16005124203074  "
      ]
     },
     "execution_count": 5,
     "metadata": {},
     "output_type": "execute_result"
    }
   ],
   "source": [
    "sf_data.columns = sf_data.columns.str.lower()\n",
    "sf_data['category'] = sf_data['category'].str.lower()\n",
    "sf_data['descript'] = sf_data['descript'].str.lower()\n",
    "sf_data['dayofweek'] = sf_data['dayofweek'].str.lower()\n",
    "sf_data.head(2)"
   ]
  },
  {
   "cell_type": "markdown",
   "metadata": {},
   "source": [
    "### Investigate data"
   ]
  },
  {
   "cell_type": "code",
   "execution_count": 6,
   "metadata": {
    "collapsed": false
   },
   "outputs": [
    {
     "name": "stdout",
     "output_type": "stream",
     "text": [
      "<class 'pandas.core.frame.DataFrame'>\n",
      "Int64Index: 1866570 entries, 160051264 to 30320997\n",
      "Data columns (total 12 columns):\n",
      "category      object\n",
      "descript      object\n",
      "dayofweek     object\n",
      "date          object\n",
      "time          object\n",
      "pddistrict    object\n",
      "resolution    object\n",
      "address       object\n",
      "x             float64\n",
      "y             float64\n",
      "location      object\n",
      "pdid          int64\n",
      "dtypes: float64(2), int64(1), object(9)\n",
      "memory usage: 185.1+ MB\n"
     ]
    }
   ],
   "source": [
    "sf_data.info()"
   ]
  },
  {
   "cell_type": "code",
   "execution_count": null,
   "metadata": {
    "collapsed": true
   },
   "outputs": [],
   "source": []
  },
  {
   "cell_type": "markdown",
   "metadata": {},
   "source": [
    "### Observations\n",
    "- 1,866,570 records \n",
    "- date and time in string format\n",
    "- other fields look appropriate"
   ]
  },
  {
   "cell_type": "markdown",
   "metadata": {
    "collapsed": true
   },
   "source": [
    "### Convert date to datetime"
   ]
  },
  {
   "cell_type": "code",
   "execution_count": 7,
   "metadata": {
    "collapsed": false
   },
   "outputs": [],
   "source": [
    "sf_data['date'] = pd.to_datetime(sf_data['date'])"
   ]
  },
  {
   "cell_type": "markdown",
   "metadata": {},
   "source": [
    "## New Features for Raw data\n",
    "[[back to top](#Sections)]"
   ]
  },
  {
   "cell_type": "markdown",
   "metadata": {},
   "source": [
    "### Add the hour as numeric"
   ]
  },
  {
   "cell_type": "code",
   "execution_count": 8,
   "metadata": {
    "collapsed": true
   },
   "outputs": [],
   "source": [
    "sf_data['hour'] = sf_data['time'].str[0:2].astype(int)"
   ]
  },
  {
   "cell_type": "markdown",
   "metadata": {},
   "source": [
    "### Add month, day and year features"
   ]
  },
  {
   "cell_type": "code",
   "execution_count": 9,
   "metadata": {
    "collapsed": false,
    "scrolled": true
   },
   "outputs": [
    {
     "data": {
      "text/html": [
       "<div>\n",
       "<table border=\"1\" class=\"dataframe\">\n",
       "  <thead>\n",
       "    <tr style=\"text-align: right;\">\n",
       "      <th></th>\n",
       "      <th>category</th>\n",
       "      <th>descript</th>\n",
       "      <th>dayofweek</th>\n",
       "      <th>date</th>\n",
       "      <th>time</th>\n",
       "      <th>pddistrict</th>\n",
       "      <th>resolution</th>\n",
       "      <th>address</th>\n",
       "      <th>x</th>\n",
       "      <th>y</th>\n",
       "      <th>location</th>\n",
       "      <th>pdid</th>\n",
       "      <th>hour</th>\n",
       "      <th>month</th>\n",
       "      <th>day</th>\n",
       "      <th>year</th>\n",
       "    </tr>\n",
       "    <tr>\n",
       "      <th>IncidntNum</th>\n",
       "      <th></th>\n",
       "      <th></th>\n",
       "      <th></th>\n",
       "      <th></th>\n",
       "      <th></th>\n",
       "      <th></th>\n",
       "      <th></th>\n",
       "      <th></th>\n",
       "      <th></th>\n",
       "      <th></th>\n",
       "      <th></th>\n",
       "      <th></th>\n",
       "      <th></th>\n",
       "      <th></th>\n",
       "      <th></th>\n",
       "      <th></th>\n",
       "    </tr>\n",
       "  </thead>\n",
       "  <tbody>\n",
       "    <tr>\n",
       "      <th>160051264</th>\n",
       "      <td>warrants</td>\n",
       "      <td>warrant arrest</td>\n",
       "      <td>monday</td>\n",
       "      <td>2016-01-18</td>\n",
       "      <td>23:52</td>\n",
       "      <td>CENTRAL</td>\n",
       "      <td>ARREST, BOOKED</td>\n",
       "      <td>400 Block of POWELL ST</td>\n",
       "      <td>-122.408568</td>\n",
       "      <td>37.788759</td>\n",
       "      <td>(37.7887594214703, -122.408568445228)</td>\n",
       "      <td>16005126463010</td>\n",
       "      <td>23</td>\n",
       "      <td>1</td>\n",
       "      <td>18</td>\n",
       "      <td>2016</td>\n",
       "    </tr>\n",
       "    <tr>\n",
       "      <th>160051242</th>\n",
       "      <td>robbery</td>\n",
       "      <td>robbery, bodily force</td>\n",
       "      <td>monday</td>\n",
       "      <td>2016-01-18</td>\n",
       "      <td>23:40</td>\n",
       "      <td>TENDERLOIN</td>\n",
       "      <td>NONE</td>\n",
       "      <td>100 Block of STOCKTON ST</td>\n",
       "      <td>-122.406428</td>\n",
       "      <td>37.787109</td>\n",
       "      <td>(37.78710945429, -122.40642786236)</td>\n",
       "      <td>16005124203074</td>\n",
       "      <td>23</td>\n",
       "      <td>1</td>\n",
       "      <td>18</td>\n",
       "      <td>2016</td>\n",
       "    </tr>\n",
       "  </tbody>\n",
       "</table>\n",
       "</div>"
      ],
      "text/plain": [
       "            category               descript dayofweek       date   time  \\\n",
       "IncidntNum                                                                \n",
       "160051264   warrants         warrant arrest    monday 2016-01-18  23:52   \n",
       "160051242    robbery  robbery, bodily force    monday 2016-01-18  23:40   \n",
       "\n",
       "            pddistrict      resolution                   address           x  \\\n",
       "IncidntNum                                                                     \n",
       "160051264      CENTRAL  ARREST, BOOKED    400 Block of POWELL ST -122.408568   \n",
       "160051242   TENDERLOIN            NONE  100 Block of STOCKTON ST -122.406428   \n",
       "\n",
       "                    y                               location            pdid  \\\n",
       "IncidntNum                                                                     \n",
       "160051264   37.788759  (37.7887594214703, -122.408568445228)  16005126463010   \n",
       "160051242   37.787109     (37.78710945429, -122.40642786236)  16005124203074   \n",
       "\n",
       "            hour  month  day  year  \n",
       "IncidntNum                          \n",
       "160051264     23      1   18  2016  \n",
       "160051242     23      1   18  2016  "
      ]
     },
     "execution_count": 9,
     "metadata": {},
     "output_type": "execute_result"
    }
   ],
   "source": [
    "#tdf['Date'].dtype\n",
    "sf_data['month'] = sf_data['date'].dt.month\n",
    "sf_data['day'] = sf_data['date'].dt.day\n",
    "sf_data['year'] = sf_data['date'].dt.year\n",
    "sf_data.head(2)"
   ]
  },
  {
   "cell_type": "markdown",
   "metadata": {},
   "source": [
    "### Create shift feature\n",
    "- For more detailed analysis or workforce planning, add feature that records the shift that event occured.\n",
    "- 3rd shift - Midnight to 7:59am\n",
    "- 1st shift - 8:00am - 3:59pm\n",
    "- 2nd shift - 4:00pm - 11:59pm\n",
    "\n",
    "NOTE: The below discussion of the approximate times in the incident reporting may make this unreliable"
   ]
  },
  {
   "cell_type": "code",
   "execution_count": 10,
   "metadata": {
    "collapsed": true
   },
   "outputs": [],
   "source": [
    "def calc_shift(hour):\n",
    "    shift = hour//8\n",
    "    if shift == 0:\n",
    "        shift = 3\n",
    "    return 'shift_' + str(shift)\n",
    "        "
   ]
  },
  {
   "cell_type": "code",
   "execution_count": 11,
   "metadata": {
    "collapsed": false
   },
   "outputs": [],
   "source": [
    "sf_data['shift'] = sf_data['hour'].apply(calc_shift)\n",
    "# or leave shift as hour//8. so that it sorts into time order, but label shift0 as third shift\n",
    "#sf_data['shift'] = sf_data['hour'].apply(lambda x : x//8)"
   ]
  },
  {
   "cell_type": "code",
   "execution_count": 12,
   "metadata": {
    "collapsed": false,
    "scrolled": true
   },
   "outputs": [
    {
     "data": {
      "text/html": [
       "<div>\n",
       "<table border=\"1\" class=\"dataframe\">\n",
       "  <thead>\n",
       "    <tr style=\"text-align: right;\">\n",
       "      <th></th>\n",
       "      <th>category</th>\n",
       "      <th>descript</th>\n",
       "      <th>dayofweek</th>\n",
       "      <th>date</th>\n",
       "      <th>time</th>\n",
       "      <th>pddistrict</th>\n",
       "      <th>resolution</th>\n",
       "      <th>address</th>\n",
       "      <th>x</th>\n",
       "      <th>y</th>\n",
       "      <th>location</th>\n",
       "      <th>pdid</th>\n",
       "      <th>hour</th>\n",
       "      <th>month</th>\n",
       "      <th>day</th>\n",
       "      <th>year</th>\n",
       "      <th>shift</th>\n",
       "    </tr>\n",
       "    <tr>\n",
       "      <th>IncidntNum</th>\n",
       "      <th></th>\n",
       "      <th></th>\n",
       "      <th></th>\n",
       "      <th></th>\n",
       "      <th></th>\n",
       "      <th></th>\n",
       "      <th></th>\n",
       "      <th></th>\n",
       "      <th></th>\n",
       "      <th></th>\n",
       "      <th></th>\n",
       "      <th></th>\n",
       "      <th></th>\n",
       "      <th></th>\n",
       "      <th></th>\n",
       "      <th></th>\n",
       "      <th></th>\n",
       "    </tr>\n",
       "  </thead>\n",
       "  <tbody>\n",
       "    <tr>\n",
       "      <th>30005882</th>\n",
       "      <td>vehicle theft</td>\n",
       "      <td>vehicle, recovered, auto</td>\n",
       "      <td>wednesday</td>\n",
       "      <td>2003-01-01</td>\n",
       "      <td>16:00</td>\n",
       "      <td>TARAVAL</td>\n",
       "      <td>NONE</td>\n",
       "      <td>1700 Block of 48TH AV</td>\n",
       "      <td>-122.507539</td>\n",
       "      <td>37.753788</td>\n",
       "      <td>(37.7537879722664, -122.507539443431)</td>\n",
       "      <td>3000588207041</td>\n",
       "      <td>16</td>\n",
       "      <td>1</td>\n",
       "      <td>1</td>\n",
       "      <td>2003</td>\n",
       "      <td>shift_2</td>\n",
       "    </tr>\n",
       "    <tr>\n",
       "      <th>30005882</th>\n",
       "      <td>vehicle theft</td>\n",
       "      <td>stolen automobile</td>\n",
       "      <td>wednesday</td>\n",
       "      <td>2003-01-01</td>\n",
       "      <td>16:00</td>\n",
       "      <td>TARAVAL</td>\n",
       "      <td>NONE</td>\n",
       "      <td>1700 Block of 48TH AV</td>\n",
       "      <td>-122.507539</td>\n",
       "      <td>37.753788</td>\n",
       "      <td>(37.7537879722664, -122.507539443431)</td>\n",
       "      <td>3000588207021</td>\n",
       "      <td>16</td>\n",
       "      <td>1</td>\n",
       "      <td>1</td>\n",
       "      <td>2003</td>\n",
       "      <td>shift_2</td>\n",
       "    </tr>\n",
       "  </tbody>\n",
       "</table>\n",
       "</div>"
      ],
      "text/plain": [
       "                 category                  descript  dayofweek       date  \\\n",
       "IncidntNum                                                                  \n",
       "30005882    vehicle theft  vehicle, recovered, auto  wednesday 2003-01-01   \n",
       "30005882    vehicle theft         stolen automobile  wednesday 2003-01-01   \n",
       "\n",
       "             time pddistrict resolution                address           x  \\\n",
       "IncidntNum                                                                   \n",
       "30005882    16:00    TARAVAL       NONE  1700 Block of 48TH AV -122.507539   \n",
       "30005882    16:00    TARAVAL       NONE  1700 Block of 48TH AV -122.507539   \n",
       "\n",
       "                    y                               location           pdid  \\\n",
       "IncidntNum                                                                    \n",
       "30005882    37.753788  (37.7537879722664, -122.507539443431)  3000588207041   \n",
       "30005882    37.753788  (37.7537879722664, -122.507539443431)  3000588207021   \n",
       "\n",
       "            hour  month  day  year    shift  \n",
       "IncidntNum                                   \n",
       "30005882      16      1    1  2003  shift_2  \n",
       "30005882      16      1    1  2003  shift_2  "
      ]
     },
     "execution_count": 12,
     "metadata": {},
     "output_type": "execute_result"
    }
   ],
   "source": [
    "sf_data[sf_data['shift']=='shift_2'].tail(2)"
   ]
  },
  {
   "cell_type": "code",
   "execution_count": null,
   "metadata": {
    "collapsed": true
   },
   "outputs": [],
   "source": []
  },
  {
   "cell_type": "code",
   "execution_count": null,
   "metadata": {
    "collapsed": true
   },
   "outputs": [],
   "source": []
  },
  {
   "cell_type": "code",
   "execution_count": 13,
   "metadata": {
    "collapsed": true
   },
   "outputs": [],
   "source": [
    "copy = sf_data.copy()"
   ]
  },
  {
   "cell_type": "code",
   "execution_count": 14,
   "metadata": {
    "collapsed": false
   },
   "outputs": [
    {
     "data": {
      "text/plain": [
       "count    1866570.000000\n",
       "mean        2009.062880\n",
       "std            3.821668\n",
       "min         2003.000000\n",
       "25%         2006.000000\n",
       "50%         2009.000000\n",
       "75%         2012.000000\n",
       "max         2016.000000\n",
       "Name: year, dtype: float64"
      ]
     },
     "execution_count": 14,
     "metadata": {},
     "output_type": "execute_result"
    }
   ],
   "source": [
    "sf_data['year'].describe()"
   ]
  },
  {
   "cell_type": "code",
   "execution_count": 15,
   "metadata": {
    "collapsed": false
   },
   "outputs": [
    {
     "data": {
      "text/plain": [
       "2015    153879\n",
       "2013    152812\n",
       "2014    150161\n",
       "2003    149176\n",
       "2004    148148\n",
       "2005    142186\n",
       "2008    141311\n",
       "2012    140858\n",
       "2009    139861\n",
       "2006    137853\n",
       "2007    137639\n",
       "2010    133525\n",
       "2011    132699\n",
       "2016      6462\n",
       "Name: year, dtype: int64"
      ]
     },
     "execution_count": 15,
     "metadata": {},
     "output_type": "execute_result"
    }
   ],
   "source": [
    "sf_data['year'].value_counts()"
   ]
  },
  {
   "cell_type": "markdown",
   "metadata": {},
   "source": [
    "## Corrections for Raw data\n",
    "[[back to top](#Sections)]\n",
    "\n",
    "After analysing the data in the 5_analysis notebook several anomalys appeared. They caused me to remove some data as explained below."
   ]
  },
  {
   "cell_type": "markdown",
   "metadata": {},
   "source": [
    "### Investigate Day 1 anomaly\n",
    "- While investigating the data in Part 2, I found a large spike in the number of incidents on the first day of the month.\n",
    "- Investigate and reslove"
   ]
  },
  {
   "cell_type": "code",
   "execution_count": 16,
   "metadata": {
    "collapsed": false
   },
   "outputs": [
    {
     "data": {
      "text/plain": [
       "1     72766\n",
       "15    63578\n",
       "20    62161\n",
       "16    61410\n",
       "17    61359\n",
       "Name: day, dtype: int64"
      ]
     },
     "execution_count": 16,
     "metadata": {},
     "output_type": "execute_result"
    }
   ],
   "source": [
    "sf_data['day'].value_counts().head()"
   ]
  },
  {
   "cell_type": "code",
   "execution_count": 17,
   "metadata": {
    "collapsed": false
   },
   "outputs": [
    {
     "data": {
      "text/plain": [
       "00:01    6934\n",
       "12:00    4053\n",
       "08:00    1977\n",
       "09:00    1837\n",
       "18:00    1281\n",
       "17:00    1247\n",
       "Name: time, dtype: int64"
      ]
     },
     "execution_count": 17,
     "metadata": {},
     "output_type": "execute_result"
    }
   ],
   "source": [
    "sf_data[sf_data['day']==1]['time'].value_counts().head(6)"
   ]
  },
  {
   "cell_type": "code",
   "execution_count": 18,
   "metadata": {
    "collapsed": false
   },
   "outputs": [
    {
     "data": {
      "text/plain": [
       "12:00    48318\n",
       "00:01    47451\n",
       "18:00    40872\n",
       "17:00    35815\n",
       "19:00    34903\n",
       "20:00    34794\n",
       "22:00    33674\n",
       "Name: time, dtype: int64"
      ]
     },
     "execution_count": 18,
     "metadata": {},
     "output_type": "execute_result"
    }
   ],
   "source": [
    "sf_data['time'].value_counts().head(7)"
   ]
  },
  {
   "cell_type": "code",
   "execution_count": 19,
   "metadata": {
    "collapsed": false
   },
   "outputs": [
    {
     "data": {
      "text/plain": [
       "category      6934\n",
       "descript      6934\n",
       "dayofweek     6934\n",
       "date          6934\n",
       "time          6934\n",
       "pddistrict    6934\n",
       "resolution    6934\n",
       "address       6934\n",
       "x             6934\n",
       "y             6934\n",
       "location      6934\n",
       "pdid          6934\n",
       "hour          6934\n",
       "month         6934\n",
       "day           6934\n",
       "year          6934\n",
       "shift         6934\n",
       "dtype: int64"
      ]
     },
     "execution_count": 19,
     "metadata": {},
     "output_type": "execute_result"
    }
   ],
   "source": [
    "sf_data[(sf_data['day']==1) & (sf_data['time']=='00:01')].count()"
   ]
  },
  {
   "cell_type": "markdown",
   "metadata": {},
   "source": [
    "### observations\n",
    "- 6934 records recorded on the the first of the month at 00:01.\n",
    "- This is ~10% of the records for the 1st and 0.37% of total records.\n",
    "- My hypotosis is that some incidents were reported later and when the exact date and time were not know, they were recorded this way.\n",
    "- Since my model is based on the day of the incident, these records are not reliable. \n",
    "- If I remove them the counts are more in line with the other days of the month.\n",
    "- Also appears that many of the times in the records may be approximate. (Many at 12:00). This will not effect the daily totals, but could be a problem if I try to divide the day into shifts.\n",
    "\n",
    "### results\n",
    "- Remove the records in question"
   ]
  },
  {
   "cell_type": "code",
   "execution_count": 20,
   "metadata": {
    "collapsed": false
   },
   "outputs": [
    {
     "data": {
      "text/plain": [
       "category      6934\n",
       "descript      6934\n",
       "dayofweek     6934\n",
       "date          6934\n",
       "time          6934\n",
       "pddistrict    6934\n",
       "resolution    6934\n",
       "address       6934\n",
       "x             6934\n",
       "y             6934\n",
       "location      6934\n",
       "pdid          6934\n",
       "hour          6934\n",
       "month         6934\n",
       "day           6934\n",
       "year          6934\n",
       "shift         6934\n",
       "dtype: int64"
      ]
     },
     "execution_count": 20,
     "metadata": {},
     "output_type": "execute_result"
    }
   ],
   "source": [
    "sf_data[(sf_data['day']==1) & (sf_data['time']=='00:01')].count()"
   ]
  },
  {
   "cell_type": "code",
   "execution_count": 21,
   "metadata": {
    "collapsed": false
   },
   "outputs": [
    {
     "data": {
      "text/plain": [
       "category      0\n",
       "descript      0\n",
       "dayofweek     0\n",
       "date          0\n",
       "time          0\n",
       "pddistrict    0\n",
       "resolution    0\n",
       "address       0\n",
       "x             0\n",
       "y             0\n",
       "location      0\n",
       "pdid          0\n",
       "hour          0\n",
       "month         0\n",
       "day           0\n",
       "year          0\n",
       "shift         0\n",
       "dtype: int64"
      ]
     },
     "execution_count": 21,
     "metadata": {},
     "output_type": "execute_result"
    }
   ],
   "source": [
    "sf_data = sf_data.drop(sf_data[(sf_data['day']==1) & (sf_data['time']=='00:01')].index)\n",
    "sf_data[(sf_data['day']==1) & (sf_data['time']=='00:01')].count()"
   ]
  },
  {
   "cell_type": "code",
   "execution_count": null,
   "metadata": {
    "collapsed": true
   },
   "outputs": [],
   "source": []
  },
  {
   "cell_type": "markdown",
   "metadata": {},
   "source": [
    "## Create Crime Measuring Variables\n",
    "[[back to top](#Sections)]\n",
    "\n",
    "Instead of only calculating the number of incidents per day I have created several other measurements that could be used for analysis and modeling. These can be used to help with workforce planning. These are very subjective and could use domain knowledge to help tune these measurements\n",
    "- Create crime level feature that weights the incident by the severity/violence of the crime\n",
    "- Create a weather crime level. I select categories that I feel may be weather related.\n",
    "- Create a Violent crime feature based on a list of violent/emotional words.\n",
    "- Create a gun related feature\n"
   ]
  },
  {
   "cell_type": "markdown",
   "metadata": {
    "collapsed": false
   },
   "source": [
    "### Investigate the categories and their sub descriptions"
   ]
  },
  {
   "cell_type": "code",
   "execution_count": 22,
   "metadata": {
    "collapsed": false,
    "scrolled": true
   },
   "outputs": [
    {
     "data": {
      "text/plain": [
       "larceny/theft                  379182\n",
       "other offenses                 264937\n",
       "non-criminal                   197349\n",
       "assault                        162750\n",
       "vehicle theft                  113192\n",
       "drug/narcotic                  110768\n",
       "vandalism                       95006\n",
       "warrants                        88832\n",
       "burglary                        77862\n",
       "suspicious occ                  66303\n",
       "missing person                  54751\n",
       "robbery                         48277\n",
       "fraud                           35053\n",
       "secondary codes                 21238\n",
       "forgery/counterfeiting          21126\n",
       "weapon laws                     18307\n",
       "trespass                        15557\n",
       "prostitution                    15475\n",
       "stolen property                  9944\n",
       "sex offenses, forcible           9119\n",
       "drunkenness                      8961\n",
       "disorderly conduct               8883\n",
       "recovered vehicle                6343\n",
       "driving under the influence      4905\n",
       "kidnapping                       4795\n",
       "runaway                          3971\n",
       "liquor laws                      3835\n",
       "arson                            3239\n",
       "embezzlement                     2409\n",
       "loitering                        2338\n",
       "suicide                          1119\n",
       "family offenses                  1065\n",
       "bad checks                        832\n",
       "bribery                           659\n",
       "extortion                         588\n",
       "sex offenses, non forcible        305\n",
       "gambling                          304\n",
       "pornography/obscene mat            45\n",
       "trea                               10\n",
       "Name: category, dtype: int64"
      ]
     },
     "execution_count": 22,
     "metadata": {},
     "output_type": "execute_result"
    }
   ],
   "source": [
    "sf_data['category'].value_counts()"
   ]
  },
  {
   "cell_type": "code",
   "execution_count": 23,
   "metadata": {
    "collapsed": false
   },
   "outputs": [
    {
     "data": {
      "text/plain": [
       "grand theft from locked auto                               132399\n",
       "petty theft from locked auto                                42554\n",
       "petty theft of property                                     35174\n",
       "grand theft of property                                     23709\n",
       "petty theft from a building                                 21477\n",
       "petty theft shoplifting                                     20397\n",
       "grand theft from a building                                 19830\n",
       "grand theft from person                                     14933\n",
       "grand theft pickpocket                                      11840\n",
       "grand theft from unlocked auto                              10127\n",
       "petty theft with prior                                       8196\n",
       "petty theft from unlocked auto                               5572\n",
       "grand theft bicycle                                          5342\n",
       "attempted theft from locked vehicle                          4692\n",
       "grand theft shoplifting                                      4563\n",
       "petty theft bicycle                                          3381\n",
       "lost property, petty theft                                   2837\n",
       "grand theft pursesnatch                                      1493\n",
       "theft of computers or cell phones                            1453\n",
       "lost property, grand theft                                   1371\n",
       "grand theft auto strip                                       1298\n",
       "petty theft auto strip                                       1153\n",
       "theft from merchant or library                                849\n",
       "theft of checks or credit cards                               602\n",
       "attempted shoplifting                                         471\n",
       "attempted theft from a building                               433\n",
       "attempted petty theft of property                             323\n",
       "license plate or tab, theft of                                279\n",
       "attempted theft from unlocked vehicle                         262\n",
       "embezzlement from dependent or elder adult by caretaker       251\n",
       "                                                            ...  \n",
       "theft of animals (general)                                    145\n",
       "attempted auto strip                                          127\n",
       "theft, grand, of firearm                                       97\n",
       "grand theft by prostitute                                      95\n",
       "theft of utility services                                      89\n",
       "grand theft motorcycle strip                                   85\n",
       "grand theft coin operated machine                              80\n",
       "attempted grand theft pursesnatch                              78\n",
       "attempted grand theft pickpocket                               77\n",
       "theft, bicycle, <$50, no serial number                         76\n",
       "petty theft motorcycle strip                                   53\n",
       "attempted theft coin operated machine                          47\n",
       "theft, bicycle, <$50, serial number known                      43\n",
       "petty theft phone booth                                        41\n",
       "theft, drunk roll, $200-$400                                   34\n",
       "theft, grand, by fiduciary, >$400 in 12 months                 31\n",
       "theft of telecommunication services, incl. clone phone         28\n",
       "theft, drunk roll, $50-$200                                    23\n",
       "theft, drunk roll, >$400                                       22\n",
       "theft, drunk roll, <$50                                        20\n",
       "theft, boat                                                    18\n",
       "grand theft phone booth                                        15\n",
       "trade secrets, theft or unauthorized copying                   12\n",
       "theft of written instrument                                    12\n",
       "attempted motorcycle strip                                      8\n",
       "theft, grand, agricultural                                      3\n",
       "attempted theft phone booth                                     3\n",
       "theft, drunk roll, att.                                         3\n",
       "looting during state of emergency                               2\n",
       "theft, animal, att.                                             2\n",
       "Name: descript, dtype: int64"
      ]
     },
     "execution_count": 23,
     "metadata": {},
     "output_type": "execute_result"
    }
   ],
   "source": [
    "sf_data[sf_data['category']=='larceny/theft']['descript'].value_counts()"
   ]
  },
  {
   "cell_type": "code",
   "execution_count": 24,
   "metadata": {
    "collapsed": false
   },
   "outputs": [
    {
     "data": {
      "text/plain": [
       "robbery on the street, strongarm                     13925\n",
       "robbery, bodily force                                 9543\n",
       "robbery on the street with a gun                      4308\n",
       "attempted robbery on the street with bodily force     2359\n",
       "robbery, armed with a gun                             2333\n",
       "attempted robbery with bodily force                   1626\n",
       "robbery on the street with a knife                    1543\n",
       "robbery on the street with a dangerous weapon         1382\n",
       "robbery, armed with a knife                           1126\n",
       "robbery of a commercial establishment, strongarm       874\n",
       "robbery, armed with a dangerous weapon                 852\n",
       "robbery of a chain store with bodily force             719\n",
       "robbery of a commercial establishment with a gun       693\n",
       "attempted robbery on the street with a gun             684\n",
       "carjacking with a gun                                  500\n",
       "robbery of a residence with bodily force               485\n",
       "attempted robbery on the street w/deadly weapon        373\n",
       "attempted robbery with a gun                           360\n",
       "attempted robbery on the street with a knife           349\n",
       "carjacking with bodily force                           332\n",
       "robbery of a residence with a gun                      323\n",
       "attempted robbery with a knife                         254\n",
       "robbery of a chain store with a gun                    230\n",
       "robbery of a bank with bodily force                    226\n",
       "attempted robbery with a deadly weapon                 213\n",
       "robbery of a bank with a gun                           204\n",
       "robbery of a service station with a gun                190\n",
       "robbery of a bank with a dangerous weapon              176\n",
       "robbery of a commercial establishment w/ a knife       173\n",
       "robbery of a chain store with a dangerous weapon       164\n",
       "                                                     ...  \n",
       "robbery of a service station with bodily force          52\n",
       "carjacking with a dangerous weapon                      50\n",
       "attempted robbery chain store with a gun                47\n",
       "attempted robbery of a bank with a deadly weapon        36\n",
       "attempted robbery comm. establishment w/knife           33\n",
       "attempted robbery chain store with deadly weapon        31\n",
       "attempted robbery of a bank with a gun                  29\n",
       "robbery,  atm, other weapon                             29\n",
       "robbery,  atm, gun                                      22\n",
       "attempted robbery residence with a deadly weapon        20\n",
       "robbery of a service station w/dangerous weapon         20\n",
       "attempted robbery residence with a knife                18\n",
       "robbery of a service station with a knife               14\n",
       "robbery,  atm, knife                                    14\n",
       "attempted robbery service station with a gun            12\n",
       "attempted robbery chain store with a knife              12\n",
       "robbery of a bank with a knife                          12\n",
       "attempted robbery service station w/bodily force         9\n",
       "attempted robbery of a bank with a knife                 8\n",
       "attempted robbery service station w/deadly weapon        7\n",
       "robbery, vehicle for hire, att., w/ force                7\n",
       "attempted robbery service station with a knife           6\n",
       "robbery,  atm, knife, att.                               6\n",
       "robbery, vehicle for hire, att., w/ other weapon         4\n",
       "robbery, vehicle for hire, att., w/ gun                  3\n",
       "robbery,  atm, gun, att.                                 2\n",
       "assault to rob with bodily force                         1\n",
       "assault to rob bank with a gun                           1\n",
       "assault to rob on the street w/deadly weapon             1\n",
       "robbery, vehicle for hire, att., w/ knife                1\n",
       "Name: descript, dtype: int64"
      ]
     },
     "execution_count": 24,
     "metadata": {},
     "output_type": "execute_result"
    }
   ],
   "source": [
    "sf_data[sf_data['category']=='robbery']['descript'].value_counts()"
   ]
  },
  {
   "cell_type": "code",
   "execution_count": 25,
   "metadata": {
    "collapsed": false
   },
   "outputs": [
    {
     "data": {
      "text/plain": [
       "battery                                                        57689\n",
       "threats against life                                           30545\n",
       "inflict injury on cohabitee                                    15128\n",
       "aggravated assault with a deadly weapon                        13729\n",
       "aggravated assault with bodily force                           10492\n",
       "battery, former spouse or dating relationship                   6069\n",
       "aggravated assault with a knife                                 5196\n",
       "child abuse (physical)                                          2824\n",
       "battery of a police officer                                     2818\n",
       "aggravated assault with a gun                                   2208\n",
       "threatening phone call(s)                                       1806\n",
       "stalking                                                        1744\n",
       "battery with serious injuries                                   1726\n",
       "elder adult or dependent abuse (not embezzlement or theft)      1372\n",
       "assault                                                         1101\n",
       "assault with caustic chemicals                                   891\n",
       "false imprisonment                                               828\n",
       "attempted simple assault                                         716\n",
       "attempted homicide with a gun                                    629\n",
       "shooting into inhabited dwelling or occupied vehicle             548\n",
       "assault on a police officer with a deadly weapon                 491\n",
       "assault, aggravated, w/ gun                                      465\n",
       "threat or force to resist executive officer                      451\n",
       "attempted homicide with a knife                                  362\n",
       "aggravated assault of police officer,bodily force                341\n",
       "threats to school teachers                                       312\n",
       "child, inflicting injury resulting in traumatic condition        304\n",
       "willful cruelty to child                                         245\n",
       "discharging in grossly negligent manner                          224\n",
       "unlawful dissuading/threatening of a witness                     187\n",
       "                                                               ...  \n",
       "attempted homicide with bodily force                             101\n",
       "firearm, discharging at occupied bldg, vehicle, or aircraft       95\n",
       "mayhem with bodily force                                          83\n",
       "mayhem with a deadly weapon                                       74\n",
       "attempted mayhem with a deadly weapon                             50\n",
       "aggravated assault on police officer with a knife                 43\n",
       "mayhem with a knife                                               36\n",
       "attempted mayhem with a knife                                     33\n",
       "battery during labor dispute                                      31\n",
       "attempted mayhem with bodily force                                22\n",
       "assault, aggravated, on police officer, w/ gun                    19\n",
       "civil rights, incl. injury, threat, or damage (hate crimes)       16\n",
       "assault by poisoning                                              15\n",
       "aggravated assault on police officer with a gun                   14\n",
       "trespass within 30 days of credible threat                        14\n",
       "threat to state official or judge                                 13\n",
       "assault by police officer                                         10\n",
       "terrorizing by arson or explosive device                           7\n",
       "lasers, discharging or lights at aircraft                          6\n",
       "mayhem with a gun                                                  5\n",
       "assault, aggravated, w/ semi auto                                  5\n",
       "terrorizing by marking private property                            4\n",
       "assault, aggravated, w/ machine gun                                3\n",
       "attempted mayhem with a gun                                        3\n",
       "attempted homicide with explosives                                 2\n",
       "aggravated assault of police officer, sniping                      2\n",
       "assault or attempted murder upon gov't officers                    2\n",
       "assault, aggravated, on police officer, w/ full auto               1\n",
       "assault, aggravated, on police officer, w/ semi auto               1\n",
       "attempted homicide by sniping                                      1\n",
       "Name: descript, dtype: int64"
      ]
     },
     "execution_count": 25,
     "metadata": {},
     "output_type": "execute_result"
    }
   ],
   "source": [
    "sf_data[sf_data['category']=='assault']['descript'].value_counts()"
   ]
  },
  {
   "cell_type": "code",
   "execution_count": 26,
   "metadata": {
    "collapsed": false
   },
   "outputs": [
    {
     "data": {
      "text/plain": [
       "battery                                                        57689\n",
       "threats against life                                           30545\n",
       "inflict injury on cohabitee                                    15128\n",
       "aggravated assault with a deadly weapon                        13729\n",
       "aggravated assault with bodily force                           10492\n",
       "battery, former spouse or dating relationship                   6069\n",
       "aggravated assault with a knife                                 5196\n",
       "child abuse (physical)                                          2824\n",
       "battery of a police officer                                     2818\n",
       "aggravated assault with a gun                                   2208\n",
       "threatening phone call(s)                                       1806\n",
       "stalking                                                        1744\n",
       "battery with serious injuries                                   1726\n",
       "elder adult or dependent abuse (not embezzlement or theft)      1372\n",
       "assault                                                         1101\n",
       "assault with caustic chemicals                                   891\n",
       "false imprisonment                                               828\n",
       "attempted simple assault                                         716\n",
       "attempted homicide with a gun                                    629\n",
       "shooting into inhabited dwelling or occupied vehicle             548\n",
       "assault on a police officer with a deadly weapon                 491\n",
       "assault, aggravated, w/ gun                                      465\n",
       "threat or force to resist executive officer                      451\n",
       "attempted homicide with a knife                                  362\n",
       "aggravated assault of police officer,bodily force                341\n",
       "threats to school teachers                                       312\n",
       "child, inflicting injury resulting in traumatic condition        304\n",
       "willful cruelty to child                                         245\n",
       "discharging in grossly negligent manner                          224\n",
       "unlawful dissuading/threatening of a witness                     187\n",
       "                                                               ...  \n",
       "attempted homicide with bodily force                             101\n",
       "firearm, discharging at occupied bldg, vehicle, or aircraft       95\n",
       "mayhem with bodily force                                          83\n",
       "mayhem with a deadly weapon                                       74\n",
       "attempted mayhem with a deadly weapon                             50\n",
       "aggravated assault on police officer with a knife                 43\n",
       "mayhem with a knife                                               36\n",
       "attempted mayhem with a knife                                     33\n",
       "battery during labor dispute                                      31\n",
       "attempted mayhem with bodily force                                22\n",
       "assault, aggravated, on police officer, w/ gun                    19\n",
       "civil rights, incl. injury, threat, or damage (hate crimes)       16\n",
       "assault by poisoning                                              15\n",
       "aggravated assault on police officer with a gun                   14\n",
       "trespass within 30 days of credible threat                        14\n",
       "threat to state official or judge                                 13\n",
       "assault by police officer                                         10\n",
       "terrorizing by arson or explosive device                           7\n",
       "lasers, discharging or lights at aircraft                          6\n",
       "mayhem with a gun                                                  5\n",
       "assault, aggravated, w/ semi auto                                  5\n",
       "terrorizing by marking private property                            4\n",
       "assault, aggravated, w/ machine gun                                3\n",
       "attempted mayhem with a gun                                        3\n",
       "attempted homicide with explosives                                 2\n",
       "aggravated assault of police officer, sniping                      2\n",
       "assault or attempted murder upon gov't officers                    2\n",
       "assault, aggravated, on police officer, w/ full auto               1\n",
       "assault, aggravated, on police officer, w/ semi auto               1\n",
       "attempted homicide by sniping                                      1\n",
       "Name: descript, dtype: int64"
      ]
     },
     "execution_count": 26,
     "metadata": {},
     "output_type": "execute_result"
    }
   ],
   "source": [
    "sf_data[sf_data['category']=='assault']['descript'].value_counts()"
   ]
  },
  {
   "cell_type": "code",
   "execution_count": 27,
   "metadata": {
    "collapsed": false
   },
   "outputs": [
    {
     "data": {
      "text/plain": [
       "battery                                                        57689\n",
       "threats against life                                           30545\n",
       "inflict injury on cohabitee                                    15128\n",
       "aggravated assault with a deadly weapon                        13729\n",
       "aggravated assault with bodily force                           10492\n",
       "battery, former spouse or dating relationship                   6069\n",
       "aggravated assault with a knife                                 5196\n",
       "child abuse (physical)                                          2824\n",
       "battery of a police officer                                     2818\n",
       "aggravated assault with a gun                                   2208\n",
       "threatening phone call(s)                                       1806\n",
       "stalking                                                        1744\n",
       "battery with serious injuries                                   1726\n",
       "elder adult or dependent abuse (not embezzlement or theft)      1372\n",
       "assault                                                         1101\n",
       "assault with caustic chemicals                                   891\n",
       "false imprisonment                                               828\n",
       "attempted simple assault                                         716\n",
       "attempted homicide with a gun                                    629\n",
       "shooting into inhabited dwelling or occupied vehicle             548\n",
       "assault on a police officer with a deadly weapon                 491\n",
       "assault, aggravated, w/ gun                                      465\n",
       "threat or force to resist executive officer                      451\n",
       "attempted homicide with a knife                                  362\n",
       "aggravated assault of police officer,bodily force                341\n",
       "threats to school teachers                                       312\n",
       "child, inflicting injury resulting in traumatic condition        304\n",
       "willful cruelty to child                                         245\n",
       "discharging in grossly negligent manner                          224\n",
       "unlawful dissuading/threatening of a witness                     187\n",
       "                                                               ...  \n",
       "attempted homicide with bodily force                             101\n",
       "firearm, discharging at occupied bldg, vehicle, or aircraft       95\n",
       "mayhem with bodily force                                          83\n",
       "mayhem with a deadly weapon                                       74\n",
       "attempted mayhem with a deadly weapon                             50\n",
       "aggravated assault on police officer with a knife                 43\n",
       "mayhem with a knife                                               36\n",
       "attempted mayhem with a knife                                     33\n",
       "battery during labor dispute                                      31\n",
       "attempted mayhem with bodily force                                22\n",
       "assault, aggravated, on police officer, w/ gun                    19\n",
       "civil rights, incl. injury, threat, or damage (hate crimes)       16\n",
       "assault by poisoning                                              15\n",
       "aggravated assault on police officer with a gun                   14\n",
       "trespass within 30 days of credible threat                        14\n",
       "threat to state official or judge                                 13\n",
       "assault by police officer                                         10\n",
       "terrorizing by arson or explosive device                           7\n",
       "lasers, discharging or lights at aircraft                          6\n",
       "mayhem with a gun                                                  5\n",
       "assault, aggravated, w/ semi auto                                  5\n",
       "terrorizing by marking private property                            4\n",
       "assault, aggravated, w/ machine gun                                3\n",
       "attempted mayhem with a gun                                        3\n",
       "attempted homicide with explosives                                 2\n",
       "aggravated assault of police officer, sniping                      2\n",
       "assault or attempted murder upon gov't officers                    2\n",
       "assault, aggravated, on police officer, w/ full auto               1\n",
       "assault, aggravated, on police officer, w/ semi auto               1\n",
       "attempted homicide by sniping                                      1\n",
       "Name: descript, dtype: int64"
      ]
     },
     "execution_count": 27,
     "metadata": {},
     "output_type": "execute_result"
    }
   ],
   "source": [
    "sf_data[sf_data['category']=='assault']['descript'].value_counts()"
   ]
  },
  {
   "cell_type": "code",
   "execution_count": 28,
   "metadata": {
    "collapsed": false
   },
   "outputs": [
    {
     "data": {
      "text/plain": [
       "committing public nuisance                              2729\n",
       "disturbing the peace                                    1974\n",
       "maintaining a public nuisance after notification        1629\n",
       "disturbing the peace, fighting                          1025\n",
       "maintaining a public nuisance                            819\n",
       "disturbing the peace, commotion                          358\n",
       "disturbing the peace, swearing                           339\n",
       "disturbing religious meetings                              9\n",
       "disturbance of non-religious, non-political assembly       1\n",
       "Name: descript, dtype: int64"
      ]
     },
     "execution_count": 28,
     "metadata": {},
     "output_type": "execute_result"
    }
   ],
   "source": [
    "sf_data[sf_data['category']=='disorderly conduct']['descript'].value_counts()"
   ]
  },
  {
   "cell_type": "code",
   "execution_count": 29,
   "metadata": {
    "collapsed": false,
    "scrolled": true
   },
   "outputs": [
    {
     "data": {
      "text/plain": [
       "under influence of alcohol in a public place    8961\n",
       "Name: descript, dtype: int64"
      ]
     },
     "execution_count": 29,
     "metadata": {},
     "output_type": "execute_result"
    }
   ],
   "source": [
    "sf_data[sf_data['category']=='drunkenness']['descript'].value_counts()"
   ]
  },
  {
   "cell_type": "code",
   "execution_count": 30,
   "metadata": {
    "collapsed": false
   },
   "outputs": [
    {
     "data": {
      "text/plain": [
       "sexual battery                                       3139\n",
       "forcible rape, bodily force                          1476\n",
       "child abuse sexual                                    827\n",
       "assault to rape with bodily force                     617\n",
       "oral copulation                                       333\n",
       "annoy or molest children                              290\n",
       "attempted rape, bodily force                          287\n",
       "child abuse, pornography                              277\n",
       "oral copulation, unlawful (adult victim)              263\n",
       "sodomy (adult victim)                                 245\n",
       "penetration, forced, with object                      222\n",
       "sodomy                                                199\n",
       "sexual assault, aggravated, of child                  163\n",
       "engaging in lewd act                                  131\n",
       "sexual assault, administering drug to commit          129\n",
       "child abuse, exploitation                             128\n",
       "forcible rape, armed with a sharp instrument          120\n",
       "forcible rape, armed with a dangerous weapon           74\n",
       "assault to commit mayhem or specific sex offenses      44\n",
       "forcible rape, armed with a gun                        38\n",
       "assault to rape with a dangerous weapon                30\n",
       "rape, spousal                                          24\n",
       "assault to rape with a sharp instrument                19\n",
       "attempted rape, armed with a sharp instrument          16\n",
       "assault to rape with a gun                             11\n",
       "attempted rape, armed with a dangerous weapon           9\n",
       "attempted rape with a gun                               8\n",
       "Name: descript, dtype: int64"
      ]
     },
     "execution_count": 30,
     "metadata": {},
     "output_type": "execute_result"
    }
   ],
   "source": [
    "sf_data[sf_data['category']=='sex offenses, forcible']['descript'].value_counts()"
   ]
  },
  {
   "cell_type": "code",
   "execution_count": 31,
   "metadata": {
    "collapsed": false
   },
   "outputs": [
    {
     "data": {
      "text/plain": [
       "solicits for act of prostitution                   6807\n",
       "solicits to visit house of prostitution            5089\n",
       "loitering for purpose of prostitution              2448\n",
       "engaging in lewd conduct - prostitution related     301\n",
       "human trafficking                                   239\n",
       "pimping                                             191\n",
       "pandering                                           141\n",
       "indecent exposure - prostitution related             94\n",
       "solicits lewd act                                    82\n",
       "inmate/keeper of house of prostitution               64\n",
       "placing wife in house of prostitution                12\n",
       "disorderly house, keeping                             3\n",
       "procurement, pimping, & pandering                     2\n",
       "purchase female for the purpose of prostitution       2\n",
       "Name: descript, dtype: int64"
      ]
     },
     "execution_count": 31,
     "metadata": {},
     "output_type": "execute_result"
    }
   ],
   "source": [
    "sf_data[sf_data['category']=='prostitution']['descript'].value_counts()"
   ]
  },
  {
   "cell_type": "code",
   "execution_count": 32,
   "metadata": {
    "collapsed": false
   },
   "outputs": [
    {
     "data": {
      "text/plain": [
       "possession of narcotics paraphernalia                20638\n",
       "possession of base/rock cocaine                      14122\n",
       "possession of marijuana                              11289\n",
       "sale of base/rock cocaine                             8813\n",
       "possession of meth-amphetamine                        7627\n",
       "possession of base/rock cocaine for sale              7390\n",
       "possession of marijuana for sales                     5664\n",
       "possession of controlled substance                    4272\n",
       "possession of heroin                                  4132\n",
       "possession of cocaine                                 3005\n",
       "sale of marijuana                                     2900\n",
       "possession of meth-amphetamine for sale               2387\n",
       "possession of controlled substance for sale           2207\n",
       "possession of heroin for sales                        1823\n",
       "sale of controlled substance                          1568\n",
       "possession of cocaine for sales                       1312\n",
       "sale of heroin                                        1207\n",
       "controlled substance violation, loitering for         1081\n",
       "maintaining premise where narcotics are sold/used      842\n",
       "transportation of marijuana                            686\n",
       "sale of cocaine                                        633\n",
       "loitering where narcotics are sold/used                591\n",
       "under influence of drugs in a public place             586\n",
       "planting/cultivating marijuana                         577\n",
       "possession of amphetamine for sales                    568\n",
       "transportation of cocaine                              538\n",
       "under the influence of controlled substances           420\n",
       "transportation of meth-amphetamine                     413\n",
       "sale of meth-amphetamine                               319\n",
       "possession of amphetamine                              293\n",
       "                                                     ...  \n",
       "money offense related to narcotics trafficking          56\n",
       "sale of hallucinogenic                                  51\n",
       "sales cocaine base/schoolyard trafficking act vio       44\n",
       "sale of opiates                                         37\n",
       "failure to register as narcotics addict                 33\n",
       "prescription, forge or alter (4390 b&p)                 24\n",
       "sale of methadone                                       24\n",
       "encouraging minor to use marijuana                      22\n",
       "possession of opium derivative for sales                15\n",
       "transportation of hallucinogenic                        12\n",
       "transportation of opiates                               11\n",
       "possession of opium for sales                           11\n",
       "encouraging minor to use cocaine                        10\n",
       "transportation of methadone                             10\n",
       "encourage minor to use barbituates                       8\n",
       "possession of barbituates                                8\n",
       "transportation of amphetamine                            7\n",
       "encourage minor to use controlled substance              5\n",
       "possession of barbituates for sales                      5\n",
       "sale of opium derivative                                 5\n",
       "drug lab apparatus, possession                           4\n",
       "sale of barbituates                                      4\n",
       "sale of opium                                            3\n",
       "planting/cultivating peyote                              1\n",
       "transportation of opium                                  1\n",
       "encourage minor to use amphetamine                       1\n",
       "encourage minor to use meth-amphetamine                  1\n",
       "encourage minor to use heroin                            1\n",
       "encourage minor to use hallucinogenic                    1\n",
       "encourage minor to use opiates                           1\n",
       "Name: descript, dtype: int64"
      ]
     },
     "execution_count": 32,
     "metadata": {},
     "output_type": "execute_result"
    }
   ],
   "source": [
    "sf_data[sf_data['category']=='drug/narcotic']['descript'].value_counts()"
   ]
  },
  {
   "cell_type": "code",
   "execution_count": 33,
   "metadata": {
    "collapsed": false
   },
   "outputs": [
    {
     "data": {
      "text/plain": [
       "lost property                                         66498\n",
       "aided case, mental disturbed                          46230\n",
       "found property                                        26441\n",
       "aided case                                            11603\n",
       "death report, cause unknown                            9085\n",
       "case closure                                           5039\n",
       "stay away or court order, non-dv related               3422\n",
       "aided case, dog bite                                   2910\n",
       "civil sidewalks, citation                              2667\n",
       "property for identification                            2552\n",
       "aided case, injured person                             2220\n",
       "death report, natural causes                           2048\n",
       "civil sidewalks, warning                               2026\n",
       "courtesy report                                        1933\n",
       "aided case -property for destruction                   1846\n",
       "fire report                                            1690\n",
       "located property                                       1570\n",
       "tarasoff report                                        1421\n",
       "search warrant service                                 1244\n",
       "turned in gun                                          1056\n",
       "traffic accident                                        906\n",
       "shelter                                                 743\n",
       "impounded vehicle                                       648\n",
       "aided case, sick person                                 527\n",
       "license plate, recovered                                259\n",
       "license plate, found                                    233\n",
       "misplaced vehicle                                       123\n",
       "civil sidewalks, booking                                 97\n",
       "civil sidewalks, violation                               61\n",
       "truant, habitual                                         60\n",
       "death, accidental                                        36\n",
       "death, non-manslaughter auto accident                    29\n",
       "demonstration, video evidence, misc. investigation       25\n",
       "accidental shooting                                      24\n",
       "youth court                                              22\n",
       "auto impounded                                           18\n",
       "megan's law notification                                 18\n",
       "death report, in custody                                 12\n",
       "accidental burns                                          7\n",
       "Name: descript, dtype: int64"
      ]
     },
     "execution_count": 33,
     "metadata": {},
     "output_type": "execute_result"
    }
   ],
   "source": [
    "sf_data[sf_data['category']=='non-criminal']['descript'].value_counts()"
   ]
  },
  {
   "cell_type": "code",
   "execution_count": 34,
   "metadata": {
    "collapsed": false
   },
   "outputs": [
    {
     "data": {
      "text/plain": [
       "poss of loaded firearm                                     4109\n",
       "carrying a concealed weapon                                2017\n",
       "exhibiting deadly weapon in a threating manner             2015\n",
       "poss of firearm by convicted felon/addict/alien            1538\n",
       "poss of prohibited weapon                                  1398\n",
       "discharge firearm at an inhabited dwelling                 1179\n",
       "possession of air gun                                       867\n",
       "loitering while carrying concealed weapon                   735\n",
       "discharge firearm within city limits                        630\n",
       "poss of deadly weapon with intent to assault                530\n",
       "firearm, loaded, in vehicle, possession or use              502\n",
       "carrying of concealed weapon by convicted felon             345\n",
       "ammunition, poss. by prohibited person                      325\n",
       "weapon, possess or bring other on school grounds            230\n",
       "switchblade knife, possession                               190\n",
       "firearm, armed while possessing controlled substance        172\n",
       "located explosive device                                    162\n",
       "weapon, deadly, carrying with intent to commit assault      151\n",
       "weapon, assault, possession, manufacture, or sale           143\n",
       "poss of tear gas weapon                                     129\n",
       "firearm with altered identification                         126\n",
       "firearm, carrying loaded with intent to commit felony        88\n",
       "suspicious package                                           77\n",
       "tampering with marks on firearm                              75\n",
       "weapon, deadly, exhibiting to resist arrest                  68\n",
       "possession of explosive device                               58\n",
       "flammable or explosive device, possession                    58\n",
       "possession of caustic chemical                               50\n",
       "firearm, negligent discharge                                 43\n",
       "destruction of property with explosives                      39\n",
       "firearm possession in school zone                            38\n",
       "poss of fire bomb                                            38\n",
       "violation of restrictions on a firearm transfer              34\n",
       "weapon, possessing in public building or open meeting        32\n",
       "possession of machine gun                                    29\n",
       "commission of felony while armed                             26\n",
       "weapon, taking or attempting to take from peace officer      19\n",
       "firearm, possession of while wearing mask                    10\n",
       "weapon, assault, registration or transfer violation           9\n",
       "poss of firearm silencer                                      6\n",
       "illegal transportaion of explosives                           6\n",
       "destructive device, possession of materials                   5\n",
       "armor penetrating ammunition, possession                      2\n",
       "weapon, deadly, possession of to violate 136.1 pc             2\n",
       "sniper scope, possession of                                   1\n",
       "bombing of police building                                    1\n",
       "Name: descript, dtype: int64"
      ]
     },
     "execution_count": 34,
     "metadata": {},
     "output_type": "execute_result"
    }
   ],
   "source": [
    "sf_data[sf_data['category']=='weapon laws']['descript'].value_counts()"
   ]
  },
  {
   "cell_type": "code",
   "execution_count": 35,
   "metadata": {
    "collapsed": false
   },
   "outputs": [
    {
     "data": {
      "text/plain": [
       "domestic violence                         15631\n",
       "juvenile involved                          1885\n",
       "gang activity                              1641\n",
       "prejudice-based incident                   1397\n",
       "atm related crime                           585\n",
       "battery by juvenile suspect                  53\n",
       "weapons possession by juvenile suspect       26\n",
       "assault by juvenile suspect                  18\n",
       "shooting by juvenile suspect                  2\n",
       "Name: descript, dtype: int64"
      ]
     },
     "execution_count": 35,
     "metadata": {},
     "output_type": "execute_result"
    }
   ],
   "source": [
    "sf_data[sf_data['category']=='secondary codes']['descript'].value_counts()"
   ]
  },
  {
   "cell_type": "code",
   "execution_count": 36,
   "metadata": {
    "collapsed": false
   },
   "outputs": [
    {
     "data": {
      "text/plain": [
       "desertion of child                                        266\n",
       "children, abandonment & neglect of (general)              230\n",
       "minor without proper parental care                        214\n",
       "abandonment of child                                      200\n",
       "failure to provide for child                               82\n",
       "immoral acts or drunk in presence of child                 38\n",
       "concealment/removal of child without consent               31\n",
       "failure to provide for parents                              3\n",
       "harassing child or ward because of person's employment      1\n",
       "Name: descript, dtype: int64"
      ]
     },
     "execution_count": 36,
     "metadata": {},
     "output_type": "execute_result"
    }
   ],
   "source": [
    "sf_data[sf_data['category']=='family offenses']['descript'].value_counts()"
   ]
  },
  {
   "cell_type": "code",
   "execution_count": null,
   "metadata": {
    "collapsed": true
   },
   "outputs": [],
   "source": []
  },
  {
   "cell_type": "markdown",
   "metadata": {},
   "source": [
    "### Assign a Crime level and if Weather related to each catagory\n",
    "- First number is the crime level in the range 1-4 : Higher number is more violent\n",
    "- Second number (0/1) indicates if I believe the crime would be effected by the weather"
   ]
  },
  {
   "cell_type": "code",
   "execution_count": 37,
   "metadata": {
    "collapsed": false
   },
   "outputs": [],
   "source": [
    "levels = {'larceny/theft' : [2,0],                \n",
    "          'other offenses' : [1,0],                 \n",
    "          'non-criminal' : [1,0],\n",
    "          'assault' :  [4,1],                        \n",
    "          'vehicle theft' : [2,0],                 \n",
    "          'drug/narcotic' : [2,0],                 \n",
    "          'vandalism' : [2,1],                       \n",
    "          'warrants' : [1,0],                        \n",
    "          'burglary' : [2,0],                        \n",
    "          'suspicious occ' : [2,0],                 \n",
    "          'missing person' : [1,0],                 \n",
    "          'robbery' : [2,1],                         \n",
    "          'fraud' : [2,0],                          \n",
    "          'forgery/counterfeiting' : [2,0],         \n",
    "          'secondary codes' :  [4,1],              \n",
    "          'weapon laws' :  [3,1],                    \n",
    "          'trespass' :  [2,0],                       \n",
    "          'prostitution' :  [2,0],                  \n",
    "          'stolen property' :  [2,0],                 \n",
    "          'sex offenses, forcible' : [4,1],          \n",
    "          'drunkenness' :  [1,1],                     \n",
    "          'disorderly conduct'  : [1,1],              \n",
    "          'recovered vehicle' :  [1,0],              \n",
    "          'driving under the influence' :  [1,0],      \n",
    "          'kidnapping' :  [3,0],                      \n",
    "          'runaway' :  [1,0],                          \n",
    "          'liquor laws' : [1,0],                     \n",
    "          'arson' : [3,1],                           \n",
    "          'embezzlement' : [1,0],                    \n",
    "          'loitering' : [1,0],                      \n",
    "          'suicide' :  [1,1],                         \n",
    "          'family offenses' : [3,1],                  \n",
    "          'bad checks' : [1,0],                 \n",
    "          'bribery' : [1,0],                          \n",
    "          'extortion' : [2,0],                        \n",
    "          'sex offenses, non forcible' : [2,1],       \n",
    "          'gambling' : [1,0],                          \n",
    "          'pornography/obscene mat' : [2,0],          \n",
    "          'trea' : [1,0]}"
   ]
  },
  {
   "cell_type": "markdown",
   "metadata": {},
   "source": [
    "### Map these levels to the incidents"
   ]
  },
  {
   "cell_type": "code",
   "execution_count": 38,
   "metadata": {
    "collapsed": false
   },
   "outputs": [],
   "source": [
    "sf_data['crime_level'] = sf_data['category'].map(lambda x : levels[x][0])\n",
    "sf_data['weather_crime'] = sf_data['category'].map(lambda x : levels[x][1])\n",
    "\n"
   ]
  },
  {
   "cell_type": "markdown",
   "metadata": {},
   "source": [
    "### Tag incidents using the following list of words\n",
    "- Words were selected from reviewing the incident descriptions looking for words that are more violent or could be triggered by emotions"
   ]
  },
  {
   "cell_type": "code",
   "execution_count": 39,
   "metadata": {
    "collapsed": true
   },
   "outputs": [],
   "source": [
    "v_words = ['assault', 'battery', 'drunk', 'abuse', 'forced', 'rape', 'shootin',\n",
    "           'violence', 'harassing', 'threat', 'threating', 'threats', 'resist', 'resisting',\n",
    "           'destruction', 'weapons', 'gun', 'knife', 'armed', 'deadly', 'drunkenness',\n",
    "           'bomb', 'bombing', 'influence', 'looting', 'disorderly', 'force', 'forcible',\n",
    "           'fighting', 'injurues', 'nusance', 'homicide', 'alcohol', 'rape', 'mayhem',\n",
    "           'abuse', 'cruelty', 'lewd', 'molest', 'distubing']\n",
    "       "
   ]
  },
  {
   "cell_type": "code",
   "execution_count": 40,
   "metadata": {
    "collapsed": false
   },
   "outputs": [
    {
     "data": {
      "text/plain": [
       "False    1573321\n",
       "True      286313\n",
       "Name: v_word, dtype: int64"
      ]
     },
     "execution_count": 40,
     "metadata": {},
     "output_type": "execute_result"
    }
   ],
   "source": [
    "sf_data['v_word'] = sf_data['descript'].apply(lambda x: any(word in x for word in v_words) )\n",
    "sf_data['v_word'].value_counts()\n",
    "\n"
   ]
  },
  {
   "cell_type": "markdown",
   "metadata": {},
   "source": [
    "### Tag incidents where a Gun was used\n",
    "- Just wanted to know\n",
    "- May be useful for other analysis"
   ]
  },
  {
   "cell_type": "code",
   "execution_count": 41,
   "metadata": {
    "collapsed": false
   },
   "outputs": [
    {
     "data": {
      "text/plain": [
       "False    1843633\n",
       "True       16001\n",
       "Name: gun, dtype: int64"
      ]
     },
     "execution_count": 41,
     "metadata": {},
     "output_type": "execute_result"
    }
   ],
   "source": [
    "sf_data['gun'] = sf_data['descript'].apply(lambda x: x.find('gun') != -1 )\n",
    "sf_data['gun'].value_counts()\n"
   ]
  },
  {
   "cell_type": "code",
   "execution_count": 42,
   "metadata": {
    "collapsed": false
   },
   "outputs": [
    {
     "data": {
      "text/html": [
       "<div>\n",
       "<table border=\"1\" class=\"dataframe\">\n",
       "  <thead>\n",
       "    <tr style=\"text-align: right;\">\n",
       "      <th></th>\n",
       "      <th>category</th>\n",
       "      <th>descript</th>\n",
       "      <th>dayofweek</th>\n",
       "      <th>date</th>\n",
       "      <th>time</th>\n",
       "      <th>pddistrict</th>\n",
       "      <th>resolution</th>\n",
       "      <th>address</th>\n",
       "      <th>x</th>\n",
       "      <th>y</th>\n",
       "      <th>...</th>\n",
       "      <th>pdid</th>\n",
       "      <th>hour</th>\n",
       "      <th>month</th>\n",
       "      <th>day</th>\n",
       "      <th>year</th>\n",
       "      <th>shift</th>\n",
       "      <th>crime_level</th>\n",
       "      <th>weather_crime</th>\n",
       "      <th>v_word</th>\n",
       "      <th>gun</th>\n",
       "    </tr>\n",
       "    <tr>\n",
       "      <th>IncidntNum</th>\n",
       "      <th></th>\n",
       "      <th></th>\n",
       "      <th></th>\n",
       "      <th></th>\n",
       "      <th></th>\n",
       "      <th></th>\n",
       "      <th></th>\n",
       "      <th></th>\n",
       "      <th></th>\n",
       "      <th></th>\n",
       "      <th></th>\n",
       "      <th></th>\n",
       "      <th></th>\n",
       "      <th></th>\n",
       "      <th></th>\n",
       "      <th></th>\n",
       "      <th></th>\n",
       "      <th></th>\n",
       "      <th></th>\n",
       "      <th></th>\n",
       "      <th></th>\n",
       "    </tr>\n",
       "  </thead>\n",
       "  <tbody>\n",
       "    <tr>\n",
       "      <th>160051264</th>\n",
       "      <td>warrants</td>\n",
       "      <td>warrant arrest</td>\n",
       "      <td>monday</td>\n",
       "      <td>2016-01-18</td>\n",
       "      <td>23:52</td>\n",
       "      <td>CENTRAL</td>\n",
       "      <td>ARREST, BOOKED</td>\n",
       "      <td>400 Block of POWELL ST</td>\n",
       "      <td>-122.408568</td>\n",
       "      <td>37.788759</td>\n",
       "      <td>...</td>\n",
       "      <td>16005126463010</td>\n",
       "      <td>23</td>\n",
       "      <td>1</td>\n",
       "      <td>18</td>\n",
       "      <td>2016</td>\n",
       "      <td>shift_2</td>\n",
       "      <td>1</td>\n",
       "      <td>0</td>\n",
       "      <td>False</td>\n",
       "      <td>False</td>\n",
       "    </tr>\n",
       "    <tr>\n",
       "      <th>160051242</th>\n",
       "      <td>robbery</td>\n",
       "      <td>robbery, bodily force</td>\n",
       "      <td>monday</td>\n",
       "      <td>2016-01-18</td>\n",
       "      <td>23:40</td>\n",
       "      <td>TENDERLOIN</td>\n",
       "      <td>NONE</td>\n",
       "      <td>100 Block of STOCKTON ST</td>\n",
       "      <td>-122.406428</td>\n",
       "      <td>37.787109</td>\n",
       "      <td>...</td>\n",
       "      <td>16005124203074</td>\n",
       "      <td>23</td>\n",
       "      <td>1</td>\n",
       "      <td>18</td>\n",
       "      <td>2016</td>\n",
       "      <td>shift_2</td>\n",
       "      <td>2</td>\n",
       "      <td>1</td>\n",
       "      <td>True</td>\n",
       "      <td>False</td>\n",
       "    </tr>\n",
       "    <tr>\n",
       "      <th>160051305</th>\n",
       "      <td>disorderly conduct</td>\n",
       "      <td>committing public nuisance</td>\n",
       "      <td>monday</td>\n",
       "      <td>2016-01-18</td>\n",
       "      <td>23:30</td>\n",
       "      <td>MISSION</td>\n",
       "      <td>ARREST, BOOKED</td>\n",
       "      <td>500 Block of SHOTWELL ST</td>\n",
       "      <td>-122.415922</td>\n",
       "      <td>37.759612</td>\n",
       "      <td>...</td>\n",
       "      <td>16005130519010</td>\n",
       "      <td>23</td>\n",
       "      <td>1</td>\n",
       "      <td>18</td>\n",
       "      <td>2016</td>\n",
       "      <td>shift_2</td>\n",
       "      <td>1</td>\n",
       "      <td>1</td>\n",
       "      <td>False</td>\n",
       "      <td>False</td>\n",
       "    </tr>\n",
       "    <tr>\n",
       "      <th>160051258</th>\n",
       "      <td>robbery</td>\n",
       "      <td>attempted robbery on the street with a gun</td>\n",
       "      <td>monday</td>\n",
       "      <td>2016-01-18</td>\n",
       "      <td>23:30</td>\n",
       "      <td>BAYVIEW</td>\n",
       "      <td>NONE</td>\n",
       "      <td>BANCROFT AV / KEITH ST</td>\n",
       "      <td>-122.392791</td>\n",
       "      <td>37.725605</td>\n",
       "      <td>...</td>\n",
       "      <td>16005125803411</td>\n",
       "      <td>23</td>\n",
       "      <td>1</td>\n",
       "      <td>18</td>\n",
       "      <td>2016</td>\n",
       "      <td>shift_2</td>\n",
       "      <td>2</td>\n",
       "      <td>1</td>\n",
       "      <td>True</td>\n",
       "      <td>True</td>\n",
       "    </tr>\n",
       "    <tr>\n",
       "      <th>160051258</th>\n",
       "      <td>assault</td>\n",
       "      <td>aggravated assault with a gun</td>\n",
       "      <td>monday</td>\n",
       "      <td>2016-01-18</td>\n",
       "      <td>23:30</td>\n",
       "      <td>BAYVIEW</td>\n",
       "      <td>NONE</td>\n",
       "      <td>BANCROFT AV / KEITH ST</td>\n",
       "      <td>-122.392791</td>\n",
       "      <td>37.725605</td>\n",
       "      <td>...</td>\n",
       "      <td>16005125804011</td>\n",
       "      <td>23</td>\n",
       "      <td>1</td>\n",
       "      <td>18</td>\n",
       "      <td>2016</td>\n",
       "      <td>shift_2</td>\n",
       "      <td>4</td>\n",
       "      <td>1</td>\n",
       "      <td>True</td>\n",
       "      <td>True</td>\n",
       "    </tr>\n",
       "  </tbody>\n",
       "</table>\n",
       "<p>5 rows × 21 columns</p>\n",
       "</div>"
      ],
      "text/plain": [
       "                      category                                    descript  \\\n",
       "IncidntNum                                                                   \n",
       "160051264             warrants                              warrant arrest   \n",
       "160051242              robbery                       robbery, bodily force   \n",
       "160051305   disorderly conduct                  committing public nuisance   \n",
       "160051258              robbery  attempted robbery on the street with a gun   \n",
       "160051258              assault               aggravated assault with a gun   \n",
       "\n",
       "           dayofweek       date   time  pddistrict      resolution  \\\n",
       "IncidntNum                                                           \n",
       "160051264     monday 2016-01-18  23:52     CENTRAL  ARREST, BOOKED   \n",
       "160051242     monday 2016-01-18  23:40  TENDERLOIN            NONE   \n",
       "160051305     monday 2016-01-18  23:30     MISSION  ARREST, BOOKED   \n",
       "160051258     monday 2016-01-18  23:30     BAYVIEW            NONE   \n",
       "160051258     monday 2016-01-18  23:30     BAYVIEW            NONE   \n",
       "\n",
       "                             address           x          y  ...    \\\n",
       "IncidntNum                                                   ...     \n",
       "160051264     400 Block of POWELL ST -122.408568  37.788759  ...     \n",
       "160051242   100 Block of STOCKTON ST -122.406428  37.787109  ...     \n",
       "160051305   500 Block of SHOTWELL ST -122.415922  37.759612  ...     \n",
       "160051258     BANCROFT AV / KEITH ST -122.392791  37.725605  ...     \n",
       "160051258     BANCROFT AV / KEITH ST -122.392791  37.725605  ...     \n",
       "\n",
       "                      pdid  hour  month  day  year    shift crime_level  \\\n",
       "IncidntNum                                                                \n",
       "160051264   16005126463010    23      1   18  2016  shift_2           1   \n",
       "160051242   16005124203074    23      1   18  2016  shift_2           2   \n",
       "160051305   16005130519010    23      1   18  2016  shift_2           1   \n",
       "160051258   16005125803411    23      1   18  2016  shift_2           2   \n",
       "160051258   16005125804011    23      1   18  2016  shift_2           4   \n",
       "\n",
       "            weather_crime  v_word    gun  \n",
       "IncidntNum                                \n",
       "160051264               0   False  False  \n",
       "160051242               1    True  False  \n",
       "160051305               1   False  False  \n",
       "160051258               1    True   True  \n",
       "160051258               1    True   True  \n",
       "\n",
       "[5 rows x 21 columns]"
      ]
     },
     "execution_count": 42,
     "metadata": {},
     "output_type": "execute_result"
    }
   ],
   "source": [
    "sf_data.head()"
   ]
  },
  {
   "cell_type": "markdown",
   "metadata": {
    "collapsed": true
   },
   "source": [
    "## Consolidate into daily records\n",
    "[[back to top](#Sections)]\n",
    "\n",
    "Group the incidents by day and count the Number of incidents and the sum of the crime_level"
   ]
  },
  {
   "cell_type": "markdown",
   "metadata": {
    "collapsed": false
   },
   "source": [
    "### Group by the day\n",
    "- Aggregate by the sum and count for my measuring variables\n",
    "- To group by day and shift, uncomment code marked #SHIFT"
   ]
  },
  {
   "cell_type": "code",
   "execution_count": 43,
   "metadata": {
    "collapsed": false
   },
   "outputs": [
    {
     "data": {
      "text/html": [
       "<div>\n",
       "<table border=\"1\" class=\"dataframe\">\n",
       "  <thead>\n",
       "    <tr>\n",
       "      <th></th>\n",
       "      <th colspan=\"2\" halign=\"left\">crime_level</th>\n",
       "      <th colspan=\"2\" halign=\"left\">weather_crime</th>\n",
       "      <th colspan=\"2\" halign=\"left\">v_word</th>\n",
       "      <th colspan=\"2\" halign=\"left\">gun</th>\n",
       "    </tr>\n",
       "    <tr>\n",
       "      <th></th>\n",
       "      <th>sum</th>\n",
       "      <th>count</th>\n",
       "      <th>sum</th>\n",
       "      <th>count</th>\n",
       "      <th>sum</th>\n",
       "      <th>count</th>\n",
       "      <th>sum</th>\n",
       "      <th>count</th>\n",
       "    </tr>\n",
       "    <tr>\n",
       "      <th>date</th>\n",
       "      <th></th>\n",
       "      <th></th>\n",
       "      <th></th>\n",
       "      <th></th>\n",
       "      <th></th>\n",
       "      <th></th>\n",
       "      <th></th>\n",
       "      <th></th>\n",
       "    </tr>\n",
       "  </thead>\n",
       "  <tbody>\n",
       "    <tr>\n",
       "      <th>2003-01-01</th>\n",
       "      <td>1066</td>\n",
       "      <td>541</td>\n",
       "      <td>143</td>\n",
       "      <td>541</td>\n",
       "      <td>131</td>\n",
       "      <td>541</td>\n",
       "      <td>5</td>\n",
       "      <td>541</td>\n",
       "    </tr>\n",
       "    <tr>\n",
       "      <th>2003-01-02</th>\n",
       "      <td>750</td>\n",
       "      <td>411</td>\n",
       "      <td>72</td>\n",
       "      <td>411</td>\n",
       "      <td>52</td>\n",
       "      <td>411</td>\n",
       "      <td>1</td>\n",
       "      <td>411</td>\n",
       "    </tr>\n",
       "    <tr>\n",
       "      <th>2003-01-03</th>\n",
       "      <td>799</td>\n",
       "      <td>440</td>\n",
       "      <td>84</td>\n",
       "      <td>440</td>\n",
       "      <td>60</td>\n",
       "      <td>440</td>\n",
       "      <td>0</td>\n",
       "      <td>440</td>\n",
       "    </tr>\n",
       "    <tr>\n",
       "      <th>2003-01-04</th>\n",
       "      <td>674</td>\n",
       "      <td>347</td>\n",
       "      <td>65</td>\n",
       "      <td>347</td>\n",
       "      <td>58</td>\n",
       "      <td>347</td>\n",
       "      <td>3</td>\n",
       "      <td>347</td>\n",
       "    </tr>\n",
       "    <tr>\n",
       "      <th>2003-01-05</th>\n",
       "      <td>755</td>\n",
       "      <td>377</td>\n",
       "      <td>102</td>\n",
       "      <td>377</td>\n",
       "      <td>71</td>\n",
       "      <td>377</td>\n",
       "      <td>2</td>\n",
       "      <td>377</td>\n",
       "    </tr>\n",
       "  </tbody>\n",
       "</table>\n",
       "</div>"
      ],
      "text/plain": [
       "           crime_level       weather_crime       v_word       gun      \n",
       "                   sum count           sum count    sum count sum count\n",
       "date                                                                   \n",
       "2003-01-01        1066   541           143   541    131   541   5   541\n",
       "2003-01-02         750   411            72   411     52   411   1   411\n",
       "2003-01-03         799   440            84   440     60   440   0   440\n",
       "2003-01-04         674   347            65   347     58   347   3   347\n",
       "2003-01-05         755   377           102   377     71   377   2   377"
      ]
     },
     "execution_count": 43,
     "metadata": {},
     "output_type": "execute_result"
    }
   ],
   "source": [
    "day_group = sf_data.groupby(['date'])[['crime_level','weather_crime', 'v_word', 'gun']].agg(['sum', 'count'])\n",
    "\n",
    "\n",
    "#SHIFT day_group = sf_data.groupby(['date','shift'])[['crime_level']].agg(['sum', 'count'])\n",
    "day_group.head()"
   ]
  },
  {
   "cell_type": "code",
   "execution_count": 44,
   "metadata": {
    "collapsed": false
   },
   "outputs": [],
   "source": [
    "# unstack to bring shift from rows to columns\n",
    "#SHIFT day_group = day_group.unstack(level=-1)\n",
    "#SHIFT day_group.head()"
   ]
  },
  {
   "cell_type": "code",
   "execution_count": 45,
   "metadata": {
    "collapsed": false
   },
   "outputs": [
    {
     "data": {
      "text/plain": [
       "array([('crime_level', 'sum'), ('crime_level', 'count'),\n",
       "       ('weather_crime', 'sum'), ('weather_crime', 'count'),\n",
       "       ('v_word', 'sum'), ('v_word', 'count'), ('gun', 'sum'),\n",
       "       ('gun', 'count')], dtype=object)"
      ]
     },
     "execution_count": 45,
     "metadata": {},
     "output_type": "execute_result"
    }
   ],
   "source": [
    "day_group.columns.values"
   ]
  },
  {
   "cell_type": "code",
   "execution_count": 46,
   "metadata": {
    "collapsed": false
   },
   "outputs": [
    {
     "data": {
      "text/html": [
       "<div>\n",
       "<table border=\"1\" class=\"dataframe\">\n",
       "  <thead>\n",
       "    <tr style=\"text-align: right;\">\n",
       "      <th></th>\n",
       "      <th>crime_level_sum</th>\n",
       "      <th>crime_level_count</th>\n",
       "      <th>weather_crime_sum</th>\n",
       "      <th>v_word_sum</th>\n",
       "      <th>gun_sum</th>\n",
       "    </tr>\n",
       "    <tr>\n",
       "      <th>date</th>\n",
       "      <th></th>\n",
       "      <th></th>\n",
       "      <th></th>\n",
       "      <th></th>\n",
       "      <th></th>\n",
       "    </tr>\n",
       "  </thead>\n",
       "  <tbody>\n",
       "    <tr>\n",
       "      <th>2003-01-01</th>\n",
       "      <td>1066</td>\n",
       "      <td>541</td>\n",
       "      <td>143</td>\n",
       "      <td>131</td>\n",
       "      <td>5</td>\n",
       "    </tr>\n",
       "    <tr>\n",
       "      <th>2003-01-02</th>\n",
       "      <td>750</td>\n",
       "      <td>411</td>\n",
       "      <td>72</td>\n",
       "      <td>52</td>\n",
       "      <td>1</td>\n",
       "    </tr>\n",
       "  </tbody>\n",
       "</table>\n",
       "</div>"
      ],
      "text/plain": [
       "            crime_level_sum  crime_level_count  weather_crime_sum  v_word_sum  \\\n",
       "date                                                                            \n",
       "2003-01-01             1066                541                143         131   \n",
       "2003-01-02              750                411                 72          52   \n",
       "\n",
       "            gun_sum  \n",
       "date                 \n",
       "2003-01-01        5  \n",
       "2003-01-02        1  "
      ]
     },
     "execution_count": 46,
     "metadata": {},
     "output_type": "execute_result"
    }
   ],
   "source": [
    "day_group.columns = ['_'.join(col).strip() for col in day_group.columns.values]\n",
    "# drop the weaher_crime_count - it just counts all records\n",
    "day_group.drop(['weather_crime_count', 'v_word_count', 'gun_count'], axis=1, inplace=True)\n",
    "day_group.head(2)\n"
   ]
  },
  {
   "cell_type": "code",
   "execution_count": 47,
   "metadata": {
    "collapsed": false
   },
   "outputs": [],
   "source": [
    "# Sum up the 3 shift info into day totals\n",
    "#SHIFT day_group['crime_level_sum_day'] = day_group['crime_level_sum_shift_1'] + \n",
    "#                                   day_group['crime_level_sum_shift_2'] + \n",
    "#                                   day_group['crime_level_sum_shift_3']\n",
    "#day_group['crime_level_count_day'] = day_group['crime_level_count_shift_1'] + \n",
    "#                                     day_group['crime_level_count_shift_2'] + \n",
    "#                                     day_group['crime_level_count_shift_3']        \n",
    "#day_group.head(2)"
   ]
  },
  {
   "cell_type": "markdown",
   "metadata": {},
   "source": [
    "### Add in the other fields that are not crime rate\n",
    "Features that are needed for further analysis\n",
    "- day, month, year and dayofweek"
   ]
  },
  {
   "cell_type": "code",
   "execution_count": 48,
   "metadata": {
    "collapsed": false
   },
   "outputs": [
    {
     "data": {
      "text/html": [
       "<div>\n",
       "<table border=\"1\" class=\"dataframe\">\n",
       "  <thead>\n",
       "    <tr style=\"text-align: right;\">\n",
       "      <th></th>\n",
       "      <th>dayofweek</th>\n",
       "      <th>day</th>\n",
       "      <th>month</th>\n",
       "      <th>year</th>\n",
       "    </tr>\n",
       "    <tr>\n",
       "      <th>date</th>\n",
       "      <th></th>\n",
       "      <th></th>\n",
       "      <th></th>\n",
       "      <th></th>\n",
       "    </tr>\n",
       "  </thead>\n",
       "  <tbody>\n",
       "    <tr>\n",
       "      <th>2003-01-01</th>\n",
       "      <td>wednesday</td>\n",
       "      <td>1</td>\n",
       "      <td>1</td>\n",
       "      <td>2003</td>\n",
       "    </tr>\n",
       "    <tr>\n",
       "      <th>2003-01-02</th>\n",
       "      <td>thursday</td>\n",
       "      <td>2</td>\n",
       "      <td>1</td>\n",
       "      <td>2003</td>\n",
       "    </tr>\n",
       "    <tr>\n",
       "      <th>2003-01-03</th>\n",
       "      <td>friday</td>\n",
       "      <td>3</td>\n",
       "      <td>1</td>\n",
       "      <td>2003</td>\n",
       "    </tr>\n",
       "    <tr>\n",
       "      <th>2003-01-04</th>\n",
       "      <td>saturday</td>\n",
       "      <td>4</td>\n",
       "      <td>1</td>\n",
       "      <td>2003</td>\n",
       "    </tr>\n",
       "    <tr>\n",
       "      <th>2003-01-05</th>\n",
       "      <td>sunday</td>\n",
       "      <td>5</td>\n",
       "      <td>1</td>\n",
       "      <td>2003</td>\n",
       "    </tr>\n",
       "  </tbody>\n",
       "</table>\n",
       "</div>"
      ],
      "text/plain": [
       "            dayofweek  day  month  year\n",
       "date                                   \n",
       "2003-01-01  wednesday    1      1  2003\n",
       "2003-01-02   thursday    2      1  2003\n",
       "2003-01-03     friday    3      1  2003\n",
       "2003-01-04   saturday    4      1  2003\n",
       "2003-01-05     sunday    5      1  2003"
      ]
     },
     "execution_count": 48,
     "metadata": {},
     "output_type": "execute_result"
    }
   ],
   "source": [
    "day_group_static = sf_data.groupby(['date'])[['dayofweek','day', 'month', 'year']].min()\n",
    "day_group_static.head()"
   ]
  },
  {
   "cell_type": "markdown",
   "metadata": {},
   "source": [
    "## New Features for Daily records\n",
    "[[back to top](#Sections)]\n",
    "\n",
    "After analysis and modeling there were some features that I need that have to be created in this step of data preparation."
   ]
  },
  {
   "cell_type": "markdown",
   "metadata": {},
   "source": [
    "### Add in the 'end_of_week' feature\n",
    "- Reduce the 7 features for the day of the week to just one that represents the end of the week, Fri, Sat, Sun. when the crime level jumps up"
   ]
  },
  {
   "cell_type": "code",
   "execution_count": 61,
   "metadata": {
    "collapsed": true
   },
   "outputs": [],
   "source": [
    "def eow(s):\n",
    "    if s =='friday' or s == 'saturday' or s == 'sunday':\n",
    "        return True\n",
    "    else:\n",
    "        return False"
   ]
  },
  {
   "cell_type": "code",
   "execution_count": 62,
   "metadata": {
    "collapsed": false
   },
   "outputs": [],
   "source": [
    "day_group_static.loc[:,'end_of_week'] = day_group_static['dayofweek'].map(eow)\n",
    "\n"
   ]
  },
  {
   "cell_type": "markdown",
   "metadata": {},
   "source": [
    "### merge crimelevel df with other fields\n",
    "- day_group\n",
    "- day_group_static"
   ]
  },
  {
   "cell_type": "code",
   "execution_count": 63,
   "metadata": {
    "collapsed": false
   },
   "outputs": [
    {
     "data": {
      "text/html": [
       "<div>\n",
       "<table border=\"1\" class=\"dataframe\">\n",
       "  <thead>\n",
       "    <tr style=\"text-align: right;\">\n",
       "      <th></th>\n",
       "      <th>crime_level_sum</th>\n",
       "      <th>crime_level_count</th>\n",
       "      <th>weather_crime_sum</th>\n",
       "      <th>v_word_sum</th>\n",
       "      <th>gun_sum</th>\n",
       "      <th>dayofweek</th>\n",
       "      <th>day</th>\n",
       "      <th>month</th>\n",
       "      <th>year</th>\n",
       "      <th>end_of_week</th>\n",
       "    </tr>\n",
       "    <tr>\n",
       "      <th>date</th>\n",
       "      <th></th>\n",
       "      <th></th>\n",
       "      <th></th>\n",
       "      <th></th>\n",
       "      <th></th>\n",
       "      <th></th>\n",
       "      <th></th>\n",
       "      <th></th>\n",
       "      <th></th>\n",
       "      <th></th>\n",
       "    </tr>\n",
       "  </thead>\n",
       "  <tbody>\n",
       "    <tr>\n",
       "      <th>2003-01-01</th>\n",
       "      <td>1066</td>\n",
       "      <td>541</td>\n",
       "      <td>143</td>\n",
       "      <td>131</td>\n",
       "      <td>5</td>\n",
       "      <td>wednesday</td>\n",
       "      <td>1</td>\n",
       "      <td>1</td>\n",
       "      <td>2003</td>\n",
       "      <td>False</td>\n",
       "    </tr>\n",
       "    <tr>\n",
       "      <th>2003-01-02</th>\n",
       "      <td>750</td>\n",
       "      <td>411</td>\n",
       "      <td>72</td>\n",
       "      <td>52</td>\n",
       "      <td>1</td>\n",
       "      <td>thursday</td>\n",
       "      <td>2</td>\n",
       "      <td>1</td>\n",
       "      <td>2003</td>\n",
       "      <td>False</td>\n",
       "    </tr>\n",
       "    <tr>\n",
       "      <th>2003-01-03</th>\n",
       "      <td>799</td>\n",
       "      <td>440</td>\n",
       "      <td>84</td>\n",
       "      <td>60</td>\n",
       "      <td>0</td>\n",
       "      <td>friday</td>\n",
       "      <td>3</td>\n",
       "      <td>1</td>\n",
       "      <td>2003</td>\n",
       "      <td>True</td>\n",
       "    </tr>\n",
       "    <tr>\n",
       "      <th>2003-01-04</th>\n",
       "      <td>674</td>\n",
       "      <td>347</td>\n",
       "      <td>65</td>\n",
       "      <td>58</td>\n",
       "      <td>3</td>\n",
       "      <td>saturday</td>\n",
       "      <td>4</td>\n",
       "      <td>1</td>\n",
       "      <td>2003</td>\n",
       "      <td>True</td>\n",
       "    </tr>\n",
       "    <tr>\n",
       "      <th>2003-01-05</th>\n",
       "      <td>755</td>\n",
       "      <td>377</td>\n",
       "      <td>102</td>\n",
       "      <td>71</td>\n",
       "      <td>2</td>\n",
       "      <td>sunday</td>\n",
       "      <td>5</td>\n",
       "      <td>1</td>\n",
       "      <td>2003</td>\n",
       "      <td>True</td>\n",
       "    </tr>\n",
       "  </tbody>\n",
       "</table>\n",
       "</div>"
      ],
      "text/plain": [
       "            crime_level_sum  crime_level_count  weather_crime_sum  v_word_sum  \\\n",
       "date                                                                            \n",
       "2003-01-01             1066                541                143         131   \n",
       "2003-01-02              750                411                 72          52   \n",
       "2003-01-03              799                440                 84          60   \n",
       "2003-01-04              674                347                 65          58   \n",
       "2003-01-05              755                377                102          71   \n",
       "\n",
       "            gun_sum  dayofweek  day  month  year end_of_week  \n",
       "date                                                          \n",
       "2003-01-01        5  wednesday    1      1  2003       False  \n",
       "2003-01-02        1   thursday    2      1  2003       False  \n",
       "2003-01-03        0     friday    3      1  2003        True  \n",
       "2003-01-04        3   saturday    4      1  2003        True  \n",
       "2003-01-05        2     sunday    5      1  2003        True  "
      ]
     },
     "execution_count": 63,
     "metadata": {},
     "output_type": "execute_result"
    }
   ],
   "source": [
    "data = pd.concat([day_group, day_group_static], axis=1, join_axes=[day_group.index])\n",
    "data.head()"
   ]
  },
  {
   "cell_type": "markdown",
   "metadata": {},
   "source": [
    "## Corrections for Daily records\n",
    "[[back to top](#Sections)]"
   ]
  },
  {
   "cell_type": "markdown",
   "metadata": {},
   "source": [
    "After looking at the data here and in the 5_analysis notebook several anomalys appeared. They caused me to remove some data as explained below."
   ]
  },
  {
   "cell_type": "markdown",
   "metadata": {},
   "source": [
    "### Observations"
   ]
  },
  {
   "cell_type": "code",
   "execution_count": 64,
   "metadata": {
    "collapsed": false
   },
   "outputs": [
    {
     "data": {
      "text/html": [
       "<div>\n",
       "<table border=\"1\" class=\"dataframe\">\n",
       "  <thead>\n",
       "    <tr style=\"text-align: right;\">\n",
       "      <th></th>\n",
       "      <th>crime_level_sum</th>\n",
       "      <th>crime_level_count</th>\n",
       "      <th>weather_crime_sum</th>\n",
       "      <th>v_word_sum</th>\n",
       "      <th>gun_sum</th>\n",
       "      <th>day</th>\n",
       "      <th>month</th>\n",
       "      <th>year</th>\n",
       "      <th>end_of_week</th>\n",
       "    </tr>\n",
       "  </thead>\n",
       "  <tbody>\n",
       "    <tr>\n",
       "      <th>count</th>\n",
       "      <td>4765.000000</td>\n",
       "      <td>4765.000000</td>\n",
       "      <td>4765.000000</td>\n",
       "      <td>4765.000000</td>\n",
       "      <td>4765.000000</td>\n",
       "      <td>4765.000000</td>\n",
       "      <td>4765.000000</td>\n",
       "      <td>4765.000000</td>\n",
       "      <td>4765</td>\n",
       "    </tr>\n",
       "    <tr>\n",
       "      <th>mean</th>\n",
       "      <td>730.839454</td>\n",
       "      <td>390.269465</td>\n",
       "      <td>79.384890</td>\n",
       "      <td>60.086674</td>\n",
       "      <td>3.358027</td>\n",
       "      <td>15.706611</td>\n",
       "      <td>6.502413</td>\n",
       "      <td>2009.025813</td>\n",
       "      <td>0.428751</td>\n",
       "    </tr>\n",
       "    <tr>\n",
       "      <th>std</th>\n",
       "      <td>88.840986</td>\n",
       "      <td>47.094029</td>\n",
       "      <td>14.074783</td>\n",
       "      <td>11.273555</td>\n",
       "      <td>2.150567</td>\n",
       "      <td>8.798708</td>\n",
       "      <td>3.459470</td>\n",
       "      <td>3.759785</td>\n",
       "      <td>0.49495</td>\n",
       "    </tr>\n",
       "    <tr>\n",
       "      <th>min</th>\n",
       "      <td>2.000000</td>\n",
       "      <td>2.000000</td>\n",
       "      <td>0.000000</td>\n",
       "      <td>0.000000</td>\n",
       "      <td>0.000000</td>\n",
       "      <td>1.000000</td>\n",
       "      <td>1.000000</td>\n",
       "      <td>2003.000000</td>\n",
       "      <td>False</td>\n",
       "    </tr>\n",
       "    <tr>\n",
       "      <th>25%</th>\n",
       "      <td>673.000000</td>\n",
       "      <td>360.000000</td>\n",
       "      <td>70.000000</td>\n",
       "      <td>52.000000</td>\n",
       "      <td>2.000000</td>\n",
       "      <td>8.000000</td>\n",
       "      <td>4.000000</td>\n",
       "      <td>2006.000000</td>\n",
       "      <td>0</td>\n",
       "    </tr>\n",
       "    <tr>\n",
       "      <th>50%</th>\n",
       "      <td>729.000000</td>\n",
       "      <td>390.000000</td>\n",
       "      <td>79.000000</td>\n",
       "      <td>59.000000</td>\n",
       "      <td>3.000000</td>\n",
       "      <td>16.000000</td>\n",
       "      <td>7.000000</td>\n",
       "      <td>2009.000000</td>\n",
       "      <td>0</td>\n",
       "    </tr>\n",
       "    <tr>\n",
       "      <th>75%</th>\n",
       "      <td>785.000000</td>\n",
       "      <td>420.000000</td>\n",
       "      <td>88.000000</td>\n",
       "      <td>67.000000</td>\n",
       "      <td>5.000000</td>\n",
       "      <td>23.000000</td>\n",
       "      <td>10.000000</td>\n",
       "      <td>2012.000000</td>\n",
       "      <td>1</td>\n",
       "    </tr>\n",
       "    <tr>\n",
       "      <th>max</th>\n",
       "      <td>1196.000000</td>\n",
       "      <td>593.000000</td>\n",
       "      <td>158.000000</td>\n",
       "      <td>131.000000</td>\n",
       "      <td>17.000000</td>\n",
       "      <td>31.000000</td>\n",
       "      <td>12.000000</td>\n",
       "      <td>2016.000000</td>\n",
       "      <td>True</td>\n",
       "    </tr>\n",
       "  </tbody>\n",
       "</table>\n",
       "</div>"
      ],
      "text/plain": [
       "       crime_level_sum  crime_level_count  weather_crime_sum   v_word_sum  \\\n",
       "count      4765.000000        4765.000000        4765.000000  4765.000000   \n",
       "mean        730.839454         390.269465          79.384890    60.086674   \n",
       "std          88.840986          47.094029          14.074783    11.273555   \n",
       "min           2.000000           2.000000           0.000000     0.000000   \n",
       "25%         673.000000         360.000000          70.000000    52.000000   \n",
       "50%         729.000000         390.000000          79.000000    59.000000   \n",
       "75%         785.000000         420.000000          88.000000    67.000000   \n",
       "max        1196.000000         593.000000         158.000000   131.000000   \n",
       "\n",
       "           gun_sum          day        month         year end_of_week  \n",
       "count  4765.000000  4765.000000  4765.000000  4765.000000        4765  \n",
       "mean      3.358027    15.706611     6.502413  2009.025813    0.428751  \n",
       "std       2.150567     8.798708     3.459470     3.759785     0.49495  \n",
       "min       0.000000     1.000000     1.000000  2003.000000       False  \n",
       "25%       2.000000     8.000000     4.000000  2006.000000           0  \n",
       "50%       3.000000    16.000000     7.000000  2009.000000           0  \n",
       "75%       5.000000    23.000000    10.000000  2012.000000           1  \n",
       "max      17.000000    31.000000    12.000000  2016.000000        True  "
      ]
     },
     "execution_count": 64,
     "metadata": {},
     "output_type": "execute_result"
    }
   ],
   "source": [
    "data.describe()"
   ]
  },
  {
   "cell_type": "markdown",
   "metadata": {},
   "source": [
    "#### Outliers\n",
    "#### Minimum crime level count is 2. \n",
    "- That seems unreasonable that there would only be 2 incidents on a day."
   ]
  },
  {
   "cell_type": "code",
   "execution_count": 65,
   "metadata": {
    "collapsed": false,
    "scrolled": true
   },
   "outputs": [
    {
     "data": {
      "text/html": [
       "<div>\n",
       "<table border=\"1\" class=\"dataframe\">\n",
       "  <thead>\n",
       "    <tr style=\"text-align: right;\">\n",
       "      <th></th>\n",
       "      <th>crime_level_sum</th>\n",
       "      <th>crime_level_count</th>\n",
       "      <th>weather_crime_sum</th>\n",
       "      <th>v_word_sum</th>\n",
       "      <th>gun_sum</th>\n",
       "      <th>dayofweek</th>\n",
       "      <th>day</th>\n",
       "      <th>month</th>\n",
       "      <th>year</th>\n",
       "      <th>end_of_week</th>\n",
       "    </tr>\n",
       "    <tr>\n",
       "      <th>date</th>\n",
       "      <th></th>\n",
       "      <th></th>\n",
       "      <th></th>\n",
       "      <th></th>\n",
       "      <th></th>\n",
       "      <th></th>\n",
       "      <th></th>\n",
       "      <th></th>\n",
       "      <th></th>\n",
       "      <th></th>\n",
       "    </tr>\n",
       "  </thead>\n",
       "  <tbody>\n",
       "    <tr>\n",
       "      <th>2007-12-16</th>\n",
       "      <td>2</td>\n",
       "      <td>2</td>\n",
       "      <td>0</td>\n",
       "      <td>0</td>\n",
       "      <td>0</td>\n",
       "      <td>sunday</td>\n",
       "      <td>16</td>\n",
       "      <td>12</td>\n",
       "      <td>2007</td>\n",
       "      <td>True</td>\n",
       "    </tr>\n",
       "    <tr>\n",
       "      <th>2008-08-01</th>\n",
       "      <td>8</td>\n",
       "      <td>6</td>\n",
       "      <td>0</td>\n",
       "      <td>0</td>\n",
       "      <td>0</td>\n",
       "      <td>friday</td>\n",
       "      <td>1</td>\n",
       "      <td>8</td>\n",
       "      <td>2008</td>\n",
       "      <td>True</td>\n",
       "    </tr>\n",
       "    <tr>\n",
       "      <th>2013-12-24</th>\n",
       "      <td>308</td>\n",
       "      <td>173</td>\n",
       "      <td>18</td>\n",
       "      <td>18</td>\n",
       "      <td>0</td>\n",
       "      <td>tuesday</td>\n",
       "      <td>24</td>\n",
       "      <td>12</td>\n",
       "      <td>2013</td>\n",
       "      <td>False</td>\n",
       "    </tr>\n",
       "    <tr>\n",
       "      <th>2013-12-25</th>\n",
       "      <td>314</td>\n",
       "      <td>152</td>\n",
       "      <td>39</td>\n",
       "      <td>29</td>\n",
       "      <td>2</td>\n",
       "      <td>wednesday</td>\n",
       "      <td>25</td>\n",
       "      <td>12</td>\n",
       "      <td>2013</td>\n",
       "      <td>False</td>\n",
       "    </tr>\n",
       "    <tr>\n",
       "      <th>2011-12-25</th>\n",
       "      <td>327</td>\n",
       "      <td>168</td>\n",
       "      <td>47</td>\n",
       "      <td>28</td>\n",
       "      <td>1</td>\n",
       "      <td>sunday</td>\n",
       "      <td>25</td>\n",
       "      <td>12</td>\n",
       "      <td>2011</td>\n",
       "      <td>True</td>\n",
       "    </tr>\n",
       "    <tr>\n",
       "      <th>2010-12-25</th>\n",
       "      <td>355</td>\n",
       "      <td>175</td>\n",
       "      <td>46</td>\n",
       "      <td>32</td>\n",
       "      <td>0</td>\n",
       "      <td>saturday</td>\n",
       "      <td>25</td>\n",
       "      <td>12</td>\n",
       "      <td>2010</td>\n",
       "      <td>True</td>\n",
       "    </tr>\n",
       "    <tr>\n",
       "      <th>2013-12-23</th>\n",
       "      <td>379</td>\n",
       "      <td>187</td>\n",
       "      <td>46</td>\n",
       "      <td>47</td>\n",
       "      <td>1</td>\n",
       "      <td>monday</td>\n",
       "      <td>23</td>\n",
       "      <td>12</td>\n",
       "      <td>2013</td>\n",
       "      <td>False</td>\n",
       "    </tr>\n",
       "    <tr>\n",
       "      <th>2007-12-25</th>\n",
       "      <td>395</td>\n",
       "      <td>212</td>\n",
       "      <td>52</td>\n",
       "      <td>39</td>\n",
       "      <td>4</td>\n",
       "      <td>tuesday</td>\n",
       "      <td>25</td>\n",
       "      <td>12</td>\n",
       "      <td>2007</td>\n",
       "      <td>False</td>\n",
       "    </tr>\n",
       "    <tr>\n",
       "      <th>2011-11-24</th>\n",
       "      <td>397</td>\n",
       "      <td>222</td>\n",
       "      <td>45</td>\n",
       "      <td>39</td>\n",
       "      <td>2</td>\n",
       "      <td>thursday</td>\n",
       "      <td>24</td>\n",
       "      <td>11</td>\n",
       "      <td>2011</td>\n",
       "      <td>False</td>\n",
       "    </tr>\n",
       "    <tr>\n",
       "      <th>2008-12-25</th>\n",
       "      <td>403</td>\n",
       "      <td>199</td>\n",
       "      <td>60</td>\n",
       "      <td>42</td>\n",
       "      <td>4</td>\n",
       "      <td>thursday</td>\n",
       "      <td>25</td>\n",
       "      <td>12</td>\n",
       "      <td>2008</td>\n",
       "      <td>False</td>\n",
       "    </tr>\n",
       "    <tr>\n",
       "      <th>2012-12-25</th>\n",
       "      <td>403</td>\n",
       "      <td>217</td>\n",
       "      <td>46</td>\n",
       "      <td>39</td>\n",
       "      <td>0</td>\n",
       "      <td>tuesday</td>\n",
       "      <td>25</td>\n",
       "      <td>12</td>\n",
       "      <td>2012</td>\n",
       "      <td>False</td>\n",
       "    </tr>\n",
       "    <tr>\n",
       "      <th>2004-12-25</th>\n",
       "      <td>420</td>\n",
       "      <td>232</td>\n",
       "      <td>38</td>\n",
       "      <td>21</td>\n",
       "      <td>1</td>\n",
       "      <td>saturday</td>\n",
       "      <td>25</td>\n",
       "      <td>12</td>\n",
       "      <td>2004</td>\n",
       "      <td>True</td>\n",
       "    </tr>\n",
       "    <tr>\n",
       "      <th>2009-12-25</th>\n",
       "      <td>441</td>\n",
       "      <td>231</td>\n",
       "      <td>60</td>\n",
       "      <td>40</td>\n",
       "      <td>2</td>\n",
       "      <td>friday</td>\n",
       "      <td>25</td>\n",
       "      <td>12</td>\n",
       "      <td>2009</td>\n",
       "      <td>True</td>\n",
       "    </tr>\n",
       "    <tr>\n",
       "      <th>2005-12-25</th>\n",
       "      <td>445</td>\n",
       "      <td>223</td>\n",
       "      <td>51</td>\n",
       "      <td>53</td>\n",
       "      <td>3</td>\n",
       "      <td>sunday</td>\n",
       "      <td>25</td>\n",
       "      <td>12</td>\n",
       "      <td>2005</td>\n",
       "      <td>True</td>\n",
       "    </tr>\n",
       "    <tr>\n",
       "      <th>2013-12-26</th>\n",
       "      <td>446</td>\n",
       "      <td>249</td>\n",
       "      <td>37</td>\n",
       "      <td>29</td>\n",
       "      <td>1</td>\n",
       "      <td>thursday</td>\n",
       "      <td>26</td>\n",
       "      <td>12</td>\n",
       "      <td>2013</td>\n",
       "      <td>False</td>\n",
       "    </tr>\n",
       "    <tr>\n",
       "      <th>2011-07-11</th>\n",
       "      <td>446</td>\n",
       "      <td>260</td>\n",
       "      <td>48</td>\n",
       "      <td>24</td>\n",
       "      <td>2</td>\n",
       "      <td>monday</td>\n",
       "      <td>11</td>\n",
       "      <td>7</td>\n",
       "      <td>2011</td>\n",
       "      <td>False</td>\n",
       "    </tr>\n",
       "    <tr>\n",
       "      <th>2010-07-08</th>\n",
       "      <td>451</td>\n",
       "      <td>253</td>\n",
       "      <td>47</td>\n",
       "      <td>41</td>\n",
       "      <td>2</td>\n",
       "      <td>thursday</td>\n",
       "      <td>8</td>\n",
       "      <td>7</td>\n",
       "      <td>2010</td>\n",
       "      <td>False</td>\n",
       "    </tr>\n",
       "    <tr>\n",
       "      <th>2006-11-23</th>\n",
       "      <td>454</td>\n",
       "      <td>249</td>\n",
       "      <td>52</td>\n",
       "      <td>34</td>\n",
       "      <td>1</td>\n",
       "      <td>thursday</td>\n",
       "      <td>23</td>\n",
       "      <td>11</td>\n",
       "      <td>2006</td>\n",
       "      <td>False</td>\n",
       "    </tr>\n",
       "    <tr>\n",
       "      <th>2008-11-27</th>\n",
       "      <td>465</td>\n",
       "      <td>263</td>\n",
       "      <td>55</td>\n",
       "      <td>30</td>\n",
       "      <td>1</td>\n",
       "      <td>thursday</td>\n",
       "      <td>27</td>\n",
       "      <td>11</td>\n",
       "      <td>2008</td>\n",
       "      <td>False</td>\n",
       "    </tr>\n",
       "    <tr>\n",
       "      <th>2006-12-25</th>\n",
       "      <td>466</td>\n",
       "      <td>237</td>\n",
       "      <td>61</td>\n",
       "      <td>48</td>\n",
       "      <td>3</td>\n",
       "      <td>monday</td>\n",
       "      <td>25</td>\n",
       "      <td>12</td>\n",
       "      <td>2006</td>\n",
       "      <td>False</td>\n",
       "    </tr>\n",
       "    <tr>\n",
       "      <th>2003-12-25</th>\n",
       "      <td>469</td>\n",
       "      <td>234</td>\n",
       "      <td>60</td>\n",
       "      <td>42</td>\n",
       "      <td>4</td>\n",
       "      <td>thursday</td>\n",
       "      <td>25</td>\n",
       "      <td>12</td>\n",
       "      <td>2003</td>\n",
       "      <td>False</td>\n",
       "    </tr>\n",
       "    <tr>\n",
       "      <th>2015-12-19</th>\n",
       "      <td>472</td>\n",
       "      <td>243</td>\n",
       "      <td>58</td>\n",
       "      <td>38</td>\n",
       "      <td>2</td>\n",
       "      <td>saturday</td>\n",
       "      <td>19</td>\n",
       "      <td>12</td>\n",
       "      <td>2015</td>\n",
       "      <td>True</td>\n",
       "    </tr>\n",
       "    <tr>\n",
       "      <th>2010-11-25</th>\n",
       "      <td>473</td>\n",
       "      <td>259</td>\n",
       "      <td>51</td>\n",
       "      <td>34</td>\n",
       "      <td>0</td>\n",
       "      <td>thursday</td>\n",
       "      <td>25</td>\n",
       "      <td>11</td>\n",
       "      <td>2010</td>\n",
       "      <td>False</td>\n",
       "    </tr>\n",
       "    <tr>\n",
       "      <th>2010-04-04</th>\n",
       "      <td>474</td>\n",
       "      <td>232</td>\n",
       "      <td>69</td>\n",
       "      <td>44</td>\n",
       "      <td>3</td>\n",
       "      <td>sunday</td>\n",
       "      <td>4</td>\n",
       "      <td>4</td>\n",
       "      <td>2010</td>\n",
       "      <td>True</td>\n",
       "    </tr>\n",
       "    <tr>\n",
       "      <th>2010-04-11</th>\n",
       "      <td>477</td>\n",
       "      <td>252</td>\n",
       "      <td>61</td>\n",
       "      <td>51</td>\n",
       "      <td>2</td>\n",
       "      <td>sunday</td>\n",
       "      <td>11</td>\n",
       "      <td>4</td>\n",
       "      <td>2010</td>\n",
       "      <td>True</td>\n",
       "    </tr>\n",
       "    <tr>\n",
       "      <th>2008-06-16</th>\n",
       "      <td>478</td>\n",
       "      <td>248</td>\n",
       "      <td>57</td>\n",
       "      <td>35</td>\n",
       "      <td>3</td>\n",
       "      <td>monday</td>\n",
       "      <td>16</td>\n",
       "      <td>6</td>\n",
       "      <td>2008</td>\n",
       "      <td>False</td>\n",
       "    </tr>\n",
       "    <tr>\n",
       "      <th>2012-11-22</th>\n",
       "      <td>479</td>\n",
       "      <td>247</td>\n",
       "      <td>62</td>\n",
       "      <td>47</td>\n",
       "      <td>0</td>\n",
       "      <td>thursday</td>\n",
       "      <td>22</td>\n",
       "      <td>11</td>\n",
       "      <td>2012</td>\n",
       "      <td>False</td>\n",
       "    </tr>\n",
       "    <tr>\n",
       "      <th>2009-12-26</th>\n",
       "      <td>488</td>\n",
       "      <td>268</td>\n",
       "      <td>62</td>\n",
       "      <td>42</td>\n",
       "      <td>4</td>\n",
       "      <td>saturday</td>\n",
       "      <td>26</td>\n",
       "      <td>12</td>\n",
       "      <td>2009</td>\n",
       "      <td>True</td>\n",
       "    </tr>\n",
       "    <tr>\n",
       "      <th>2015-12-25</th>\n",
       "      <td>491</td>\n",
       "      <td>260</td>\n",
       "      <td>62</td>\n",
       "      <td>50</td>\n",
       "      <td>6</td>\n",
       "      <td>friday</td>\n",
       "      <td>25</td>\n",
       "      <td>12</td>\n",
       "      <td>2015</td>\n",
       "      <td>True</td>\n",
       "    </tr>\n",
       "    <tr>\n",
       "      <th>2008-06-18</th>\n",
       "      <td>492</td>\n",
       "      <td>276</td>\n",
       "      <td>45</td>\n",
       "      <td>35</td>\n",
       "      <td>3</td>\n",
       "      <td>wednesday</td>\n",
       "      <td>18</td>\n",
       "      <td>6</td>\n",
       "      <td>2008</td>\n",
       "      <td>False</td>\n",
       "    </tr>\n",
       "  </tbody>\n",
       "</table>\n",
       "</div>"
      ],
      "text/plain": [
       "            crime_level_sum  crime_level_count  weather_crime_sum  v_word_sum  \\\n",
       "date                                                                            \n",
       "2007-12-16                2                  2                  0           0   \n",
       "2008-08-01                8                  6                  0           0   \n",
       "2013-12-24              308                173                 18          18   \n",
       "2013-12-25              314                152                 39          29   \n",
       "2011-12-25              327                168                 47          28   \n",
       "2010-12-25              355                175                 46          32   \n",
       "2013-12-23              379                187                 46          47   \n",
       "2007-12-25              395                212                 52          39   \n",
       "2011-11-24              397                222                 45          39   \n",
       "2008-12-25              403                199                 60          42   \n",
       "2012-12-25              403                217                 46          39   \n",
       "2004-12-25              420                232                 38          21   \n",
       "2009-12-25              441                231                 60          40   \n",
       "2005-12-25              445                223                 51          53   \n",
       "2013-12-26              446                249                 37          29   \n",
       "2011-07-11              446                260                 48          24   \n",
       "2010-07-08              451                253                 47          41   \n",
       "2006-11-23              454                249                 52          34   \n",
       "2008-11-27              465                263                 55          30   \n",
       "2006-12-25              466                237                 61          48   \n",
       "2003-12-25              469                234                 60          42   \n",
       "2015-12-19              472                243                 58          38   \n",
       "2010-11-25              473                259                 51          34   \n",
       "2010-04-04              474                232                 69          44   \n",
       "2010-04-11              477                252                 61          51   \n",
       "2008-06-16              478                248                 57          35   \n",
       "2012-11-22              479                247                 62          47   \n",
       "2009-12-26              488                268                 62          42   \n",
       "2015-12-25              491                260                 62          50   \n",
       "2008-06-18              492                276                 45          35   \n",
       "\n",
       "            gun_sum  dayofweek  day  month  year end_of_week  \n",
       "date                                                          \n",
       "2007-12-16        0     sunday   16     12  2007        True  \n",
       "2008-08-01        0     friday    1      8  2008        True  \n",
       "2013-12-24        0    tuesday   24     12  2013       False  \n",
       "2013-12-25        2  wednesday   25     12  2013       False  \n",
       "2011-12-25        1     sunday   25     12  2011        True  \n",
       "2010-12-25        0   saturday   25     12  2010        True  \n",
       "2013-12-23        1     monday   23     12  2013       False  \n",
       "2007-12-25        4    tuesday   25     12  2007       False  \n",
       "2011-11-24        2   thursday   24     11  2011       False  \n",
       "2008-12-25        4   thursday   25     12  2008       False  \n",
       "2012-12-25        0    tuesday   25     12  2012       False  \n",
       "2004-12-25        1   saturday   25     12  2004        True  \n",
       "2009-12-25        2     friday   25     12  2009        True  \n",
       "2005-12-25        3     sunday   25     12  2005        True  \n",
       "2013-12-26        1   thursday   26     12  2013       False  \n",
       "2011-07-11        2     monday   11      7  2011       False  \n",
       "2010-07-08        2   thursday    8      7  2010       False  \n",
       "2006-11-23        1   thursday   23     11  2006       False  \n",
       "2008-11-27        1   thursday   27     11  2008       False  \n",
       "2006-12-25        3     monday   25     12  2006       False  \n",
       "2003-12-25        4   thursday   25     12  2003       False  \n",
       "2015-12-19        2   saturday   19     12  2015        True  \n",
       "2010-11-25        0   thursday   25     11  2010       False  \n",
       "2010-04-04        3     sunday    4      4  2010        True  \n",
       "2010-04-11        2     sunday   11      4  2010        True  \n",
       "2008-06-16        3     monday   16      6  2008       False  \n",
       "2012-11-22        0   thursday   22     11  2012       False  \n",
       "2009-12-26        4   saturday   26     12  2009        True  \n",
       "2015-12-25        6     friday   25     12  2015        True  \n",
       "2008-06-18        3  wednesday   18      6  2008       False  "
      ]
     },
     "execution_count": 65,
     "metadata": {},
     "output_type": "execute_result"
    }
   ],
   "source": [
    "data.sort_values('crime_level_sum', ascending=True).head(30)"
   ]
  },
  {
   "cell_type": "markdown",
   "metadata": {},
   "source": [
    "#### Remove the two days that appear to be missing data\n",
    "- there were 2 days that only had 2 and 8 incidents. \n",
    "- remove them since there must be missing data from those 2 days."
   ]
  },
  {
   "cell_type": "code",
   "execution_count": 66,
   "metadata": {
    "collapsed": false
   },
   "outputs": [
    {
     "data": {
      "text/plain": [
       "(4763, 10)"
      ]
     },
     "execution_count": 66,
     "metadata": {},
     "output_type": "execute_result"
    }
   ],
   "source": [
    "data = data[data['crime_level_count'] > 10]\n",
    "data.shape"
   ]
  },
  {
   "cell_type": "markdown",
   "metadata": {},
   "source": [
    "#### Several really low scores \n",
    "- After looking at data saw that almost all the low scores where for December 25.\n",
    "- Reasonable to assume that officers know that Christmas is a special day\n",
    "- drop data with crime level less than 250, so Christmas does not skew results"
   ]
  },
  {
   "cell_type": "code",
   "execution_count": 67,
   "metadata": {
    "collapsed": false
   },
   "outputs": [
    {
     "data": {
      "text/plain": [
       "(4743, 10)"
      ]
     },
     "execution_count": 67,
     "metadata": {},
     "output_type": "execute_result"
    }
   ],
   "source": [
    "data = data[data['crime_level_count'] > 250]\n",
    "data.shape"
   ]
  },
  {
   "cell_type": "markdown",
   "metadata": {},
   "source": [
    "#### Several really high scores \n",
    "- After looking at data saw that there are just a few days that spiked very high.\n",
    "- Although I beleive that reporting to be true, these few days are probably not related to weather.\n",
    "- drop data with crime level above 550, to remove these anomalys\n"
   ]
  },
  {
   "cell_type": "code",
   "execution_count": 68,
   "metadata": {
    "collapsed": false
   },
   "outputs": [
    {
     "data": {
      "text/plain": [
       "(4740, 10)"
      ]
     },
     "execution_count": 68,
     "metadata": {},
     "output_type": "execute_result"
    }
   ],
   "source": [
    "data = data[data['crime_level_count'] < 550]\n",
    "data.shape"
   ]
  },
  {
   "cell_type": "markdown",
   "metadata": {},
   "source": []
  },
  {
   "cell_type": "code",
   "execution_count": null,
   "metadata": {
    "collapsed": false
   },
   "outputs": [],
   "source": []
  },
  {
   "cell_type": "markdown",
   "metadata": {},
   "source": [
    "## Normalize Levels\n",
    "[[back to top](#Sections)]"
   ]
  },
  {
   "cell_type": "markdown",
   "metadata": {},
   "source": [
    "### Normalize crime level and weather crime level to a scale of 0 to 10\n",
    "- This would be easier for explaination. Knowing a day is a crime level 7 vs a normal 5 is easiler to understand than today is a 567 vs a 387"
   ]
  },
  {
   "cell_type": "code",
   "execution_count": 69,
   "metadata": {
    "collapsed": false
   },
   "outputs": [
    {
     "data": {
      "text/html": [
       "<div>\n",
       "<table border=\"1\" class=\"dataframe\">\n",
       "  <thead>\n",
       "    <tr style=\"text-align: right;\">\n",
       "      <th></th>\n",
       "      <th>crime_level_sum</th>\n",
       "      <th>crime_level_count</th>\n",
       "      <th>weather_crime_sum</th>\n",
       "      <th>v_word_sum</th>\n",
       "      <th>gun_sum</th>\n",
       "      <th>dayofweek</th>\n",
       "      <th>day</th>\n",
       "      <th>month</th>\n",
       "      <th>year</th>\n",
       "      <th>end_of_week</th>\n",
       "      <th>crime_level</th>\n",
       "      <th>weather_crime_level</th>\n",
       "    </tr>\n",
       "    <tr>\n",
       "      <th>date</th>\n",
       "      <th></th>\n",
       "      <th></th>\n",
       "      <th></th>\n",
       "      <th></th>\n",
       "      <th></th>\n",
       "      <th></th>\n",
       "      <th></th>\n",
       "      <th></th>\n",
       "      <th></th>\n",
       "      <th></th>\n",
       "      <th></th>\n",
       "      <th></th>\n",
       "    </tr>\n",
       "  </thead>\n",
       "  <tbody>\n",
       "    <tr>\n",
       "      <th>2003-01-01</th>\n",
       "      <td>1066</td>\n",
       "      <td>541</td>\n",
       "      <td>143</td>\n",
       "      <td>131</td>\n",
       "      <td>5</td>\n",
       "      <td>wednesday</td>\n",
       "      <td>1</td>\n",
       "      <td>1</td>\n",
       "      <td>2003</td>\n",
       "      <td>False</td>\n",
       "      <td>10.000000</td>\n",
       "      <td>8.717949</td>\n",
       "    </tr>\n",
       "    <tr>\n",
       "      <th>2003-01-02</th>\n",
       "      <td>750</td>\n",
       "      <td>411</td>\n",
       "      <td>72</td>\n",
       "      <td>52</td>\n",
       "      <td>1</td>\n",
       "      <td>thursday</td>\n",
       "      <td>2</td>\n",
       "      <td>1</td>\n",
       "      <td>2003</td>\n",
       "      <td>False</td>\n",
       "      <td>4.903226</td>\n",
       "      <td>2.649573</td>\n",
       "    </tr>\n",
       "    <tr>\n",
       "      <th>2003-01-03</th>\n",
       "      <td>799</td>\n",
       "      <td>440</td>\n",
       "      <td>84</td>\n",
       "      <td>60</td>\n",
       "      <td>0</td>\n",
       "      <td>friday</td>\n",
       "      <td>3</td>\n",
       "      <td>1</td>\n",
       "      <td>2003</td>\n",
       "      <td>True</td>\n",
       "      <td>5.693548</td>\n",
       "      <td>3.675214</td>\n",
       "    </tr>\n",
       "    <tr>\n",
       "      <th>2003-01-04</th>\n",
       "      <td>674</td>\n",
       "      <td>347</td>\n",
       "      <td>65</td>\n",
       "      <td>58</td>\n",
       "      <td>3</td>\n",
       "      <td>saturday</td>\n",
       "      <td>4</td>\n",
       "      <td>1</td>\n",
       "      <td>2003</td>\n",
       "      <td>True</td>\n",
       "      <td>3.677419</td>\n",
       "      <td>2.051282</td>\n",
       "    </tr>\n",
       "    <tr>\n",
       "      <th>2003-01-05</th>\n",
       "      <td>755</td>\n",
       "      <td>377</td>\n",
       "      <td>102</td>\n",
       "      <td>71</td>\n",
       "      <td>2</td>\n",
       "      <td>sunday</td>\n",
       "      <td>5</td>\n",
       "      <td>1</td>\n",
       "      <td>2003</td>\n",
       "      <td>True</td>\n",
       "      <td>4.983871</td>\n",
       "      <td>5.213675</td>\n",
       "    </tr>\n",
       "  </tbody>\n",
       "</table>\n",
       "</div>"
      ],
      "text/plain": [
       "            crime_level_sum  crime_level_count  weather_crime_sum  v_word_sum  \\\n",
       "date                                                                            \n",
       "2003-01-01             1066                541                143         131   \n",
       "2003-01-02              750                411                 72          52   \n",
       "2003-01-03              799                440                 84          60   \n",
       "2003-01-04              674                347                 65          58   \n",
       "2003-01-05              755                377                102          71   \n",
       "\n",
       "            gun_sum  dayofweek  day  month  year end_of_week  crime_level  \\\n",
       "date                                                                        \n",
       "2003-01-01        5  wednesday    1      1  2003       False    10.000000   \n",
       "2003-01-02        1   thursday    2      1  2003       False     4.903226   \n",
       "2003-01-03        0     friday    3      1  2003        True     5.693548   \n",
       "2003-01-04        3   saturday    4      1  2003        True     3.677419   \n",
       "2003-01-05        2     sunday    5      1  2003        True     4.983871   \n",
       "\n",
       "            weather_crime_level  \n",
       "date                             \n",
       "2003-01-01             8.717949  \n",
       "2003-01-02             2.649573  \n",
       "2003-01-03             3.675214  \n",
       "2003-01-04             2.051282  \n",
       "2003-01-05             5.213675  "
      ]
     },
     "execution_count": 69,
     "metadata": {},
     "output_type": "execute_result"
    }
   ],
   "source": [
    "high_crime = data['crime_level_sum'].max()\n",
    "low_crime = data['crime_level_sum'].min()\n",
    "data['crime_level'] = (data['crime_level_sum'] - low_crime) * 10 / (high_crime - low_crime)\n",
    "high_w_crime = data['weather_crime_sum'].max()\n",
    "low_w_crime = data['weather_crime_sum'].min()\n",
    "data['weather_crime_level'] = (data['weather_crime_sum'] - low_w_crime) * 10 / (high_w_crime - low_w_crime)\n",
    "data.head()"
   ]
  },
  {
   "cell_type": "markdown",
   "metadata": {},
   "source": [
    "## Write final data to file\n",
    "[[back to top](#Sections)]"
   ]
  },
  {
   "cell_type": "code",
   "execution_count": 70,
   "metadata": {
    "collapsed": true
   },
   "outputs": [],
   "source": [
    "data.to_csv('sf_crime_clean.csv')"
   ]
  },
  {
   "cell_type": "code",
   "execution_count": 71,
   "metadata": {
    "collapsed": false
   },
   "outputs": [
    {
     "data": {
      "text/plain": [
       "crime_level_sum                                                   122882\n",
       "crime_level_count                                                  65251\n",
       "weather_crime_sum                                                  14016\n",
       "v_word_sum                                                         10748\n",
       "gun_sum                                                              563\n",
       "dayofweek              wednesdaysaturdaysaturdaytuesdaythursdaysunday...\n",
       "day                                                                  155\n",
       "month                                                                996\n",
       "year                                                              311399\n",
       "end_of_week                                                           65\n",
       "crime_level                                                      866.968\n",
       "weather_crime_level                                              654.786\n",
       "dtype: object"
      ]
     },
     "execution_count": 71,
     "metadata": {},
     "output_type": "execute_result"
    }
   ],
   "source": [
    "data[data['day']==1].sum()"
   ]
  },
  {
   "cell_type": "code",
   "execution_count": 72,
   "metadata": {
    "collapsed": false
   },
   "outputs": [
    {
     "data": {
      "text/plain": [
       "crime_level_sum         758.292994\n",
       "crime_level_count       404.955414\n",
       "weather_crime_sum        80.987261\n",
       "v_word_sum               61.707006\n",
       "gun_sum                   3.280255\n",
       "day                      15.000000\n",
       "month                     6.464968\n",
       "year                   2009.044586\n",
       "end_of_week               0.426752\n",
       "crime_level               5.036984\n",
       "weather_crime_level       3.417715\n",
       "dtype: float64"
      ]
     },
     "execution_count": 72,
     "metadata": {},
     "output_type": "execute_result"
    }
   ],
   "source": [
    "data[data['day']==15].mean()"
   ]
  },
  {
   "cell_type": "code",
   "execution_count": null,
   "metadata": {
    "collapsed": true
   },
   "outputs": [],
   "source": []
  },
  {
   "cell_type": "code",
   "execution_count": null,
   "metadata": {
    "collapsed": true
   },
   "outputs": [],
   "source": []
  }
 ],
 "metadata": {
  "kernelspec": {
   "display_name": "Python 2",
   "language": "python",
   "name": "python2"
  },
  "language_info": {
   "codemirror_mode": {
    "name": "ipython",
    "version": 2
   },
   "file_extension": ".py",
   "mimetype": "text/x-python",
   "name": "python",
   "nbconvert_exporter": "python",
   "pygments_lexer": "ipython2",
   "version": "2.7.11"
  }
 },
 "nbformat": 4,
 "nbformat_minor": 0
}
