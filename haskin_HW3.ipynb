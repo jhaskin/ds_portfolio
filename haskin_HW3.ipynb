{
 "cells": [
  {
   "cell_type": "markdown",
   "metadata": {},
   "source": [
    "# HW #3 - Pima Indian Diabetes Analysis - Revisited\n",
    "- Jim Haskin\n",
    "- GA-Data Science\n",
    "- Dec 2015\n",
    "- 2/29/2016"
   ]
  },
  {
   "cell_type": "markdown",
   "metadata": {},
   "source": [
    "## Assignment\n",
    "- 1 - Give an overall summary of your performance from HW2 on the dataset\n",
    "- 2 - Do you see any areas for improvement?\n",
    "- 3 - Run k-Means on the dataset and describe your results\n",
    "- 4 - Run PCA on the dataset and describe your results\n",
    "- 5 - Use the cluster outputs you got from running k-means as a new feature. Rerun your \"worst\" and \"best\" model from HW2, including this new feature along with your old features. Describe your results.\n",
    "- 6 - Use the PCA outputs you got from running PCA above as your features. Rerun your \"worst\" and \"best\" model from HW2, with the PCA features instead of your old features. Describe your results.\n",
    "- 7 - Give your conclusions on the use of k-Means and PCA on the Diabetes dataset"
   ]
  },
  {
   "cell_type": "markdown",
   "metadata": {},
   "source": [
    "## 1 - Give an overall summary of your performance from HW2 on the dataset\n",
    "Below is the chart I had for the final run of Homework # 2\n"
   ]
  },
  {
   "cell_type": "markdown",
   "metadata": {},
   "source": [
    "3nd run add back insulin|model|recall|precision|f1|accuracy|time|LC comments\n",
    "------------|-----|------|---------|--|--------|----|-----------\n",
    "add 3 halos|knn\t|0.655172\t|0.678571\t|0.666667\t|0.748344\t|2450.51\t|slight varience, Traing up to 100%\n",
    "Tuning-recall|logreg\t|0.810345\t|0.671429\t|0.734375\t|0.774834\t|33.3404\t|low variance. score ~65. 5% gap\n",
    "|nb\t|0.724138\t|0.666667\t|0.694215\t|0.615894\t|104.664\t|low variance. score ~60. 5pt gap between train...\n",
    "|rf\t|0.562718\t|0.76087\t|0.673077\t|0.562718\t|4892.99\t|very slight variance."
   ]
  },
  {
   "cell_type": "markdown",
   "metadata": {},
   "source": [
    "- Adding in the three halo effect brought up the recall scores of all models. \n",
    "- Random Forest was still laging behind.\n",
    "- knn and Logreg both beat the accuracy score of just picking no (65%) by about 10%, but recall scores were quite different."
   ]
  },
  {
   "cell_type": "markdown",
   "metadata": {},
   "source": [
    "## 2 - Do you see any areas for improvement?\n",
    "\n",
    "\n"
   ]
  },
  {
   "cell_type": "markdown",
   "metadata": {
    "collapsed": true
   },
   "source": [
    "#### Scoring / BenchMark\n",
    "- I might switch to an F1 score. Normally for cancer you would be very concerned with the False Negatives, but since this is such a strange case (rates much higher than normal population) might want to see a more general scoring.\n",
    "- Should use a dummy classifier to get a better idea of the dummy score for recall and f1. Just looking at accuracy is not enough info. Not sure I really did any better.\n",
    "\n",
    "#### Features\n",
    "- Should spend more time looking at features.\n",
    "- Maybe add more halo.\n",
    "- Look at coefficents and Importance Scores, try to eliminate a couple of features.\n",
    "- Question if adding too many halos that have to do with glucose is biasing the results.\n",
    "\n",
    "#### Modeling\n",
    "- LogReg had the large jump of 15% when I added the 3 halo effects. Looking back I may have not tuned it correctly. Too small a C value may have canceled out all the coefficients and made prediction invalid. High Bias."
   ]
  },
  {
   "cell_type": "markdown",
   "metadata": {
    "collapsed": true
   },
   "source": [
    "## 2 - Changes to HW2\n",
    "- Went in and retuned the parms for the LogReg. Changed until the Learning curve looked better and we had 5 coefficients with non zero values.\n",
    "- New scores were .60 Recall and .78 accuracy. Big drop in recall. NB and knn both have better scores now.\n",
    "- Also went back and did DummyClassifier and found that on the test set I got Recall = .25 and accuracy = .57. The dummy recall of .25 makes my models look better against the dummy, but recall of 60% is not very good for detecting cancer.\n",
    "\n",
    "#### Will use these new numbers for HW3 comparison\n",
    "- Now logreg is tied with rf for worst.\n",
    "- Will add in NB, even though I already did rf and Logreg. !!!!!!"
   ]
  },
  {
   "cell_type": "markdown",
   "metadata": {},
   "source": [
    "3nd run add back insulin|model|recall|precision|f1|accuracy|time|LC comments\n",
    "------------|-----|------|---------|--|--------|----|-----------\n",
    "add 3 halos|knn\t|0.655172\t|0.678571\t|0.666667\t|0.748344\t|2450.51\t|slight varience, Traing up to 100%\n",
    "Tuning-recall|logreg\t|0.603448\t|0.795455\t|0.686275\t|0.788079\t|30.5607\t|low variance. score ~65. 5% gap\n",
    "|nb\t|0.724138\t|0.666667\t|0.660377\t|0.7549\t|150.24\t|low variance. score ~60. 5pt gap between train...\n",
    "|rf\t|0.603448\t|0.729167\t|0.673077\t|0.761589\t|10072.3\t|very slight variance.\n",
    "|dummy\t|0.258621\t|0.277778\t|0.267857\t|0.576159\t|61.4105\t|NaN"
   ]
  },
  {
   "cell_type": "code",
   "execution_count": 1,
   "metadata": {
    "collapsed": true
   },
   "outputs": [],
   "source": [
    "import pandas as pd\n",
    "import numpy as np\n",
    "import matplotlib.pyplot as plt\n",
    "%matplotlib inline\n",
    "import seaborn as sns"
   ]
  },
  {
   "cell_type": "code",
   "execution_count": 2,
   "metadata": {
    "collapsed": true
   },
   "outputs": [],
   "source": [
    "from sklearn.cross_validation import train_test_split\n",
    "from sklearn.cross_validation import ShuffleSplit\n",
    "from sklearn.preprocessing import StandardScaler\n",
    "from sklearn.grid_search import GridSearchCV\n",
    "from sklearn.learning_curve import learning_curve\n",
    "from sk_modelcurves.learning_curve import draw_learning_curve"
   ]
  },
  {
   "cell_type": "code",
   "execution_count": 3,
   "metadata": {
    "collapsed": true
   },
   "outputs": [],
   "source": [
    "from sklearn.linear_model import LogisticRegression\n",
    "from sklearn import metrics\n",
    "from sklearn.feature_extraction.text import CountVectorizer\n",
    "#from sklearn.naive_bayes import MultinomialNB\n",
    "from sklearn.naive_bayes import GaussianNB\n",
    "from sklearn.cross_validation import KFold, cross_val_score\n",
    "from sklearn.tree import DecisionTreeClassifier\n",
    "from sklearn.ensemble import RandomForestClassifier\n",
    "from sklearn.cross_validation import cross_val_score\n",
    "from sklearn.naive_bayes import MultinomialNB"
   ]
  },
  {
   "cell_type": "code",
   "execution_count": 4,
   "metadata": {
    "collapsed": true
   },
   "outputs": [],
   "source": [
    "from sklearn.metrics import silhouette_score\n",
    "from sklearn.cluster import KMeans\n",
    "from sklearn.decomposition import PCA"
   ]
  },
  {
   "cell_type": "code",
   "execution_count": 5,
   "metadata": {
    "collapsed": false
   },
   "outputs": [
    {
     "name": "stdout",
     "output_type": "stream",
     "text": [
      "README.md             haskin_HW3.ipynb\r\n",
      "haskin_HW3-CV_5.ipynb pima_data_clean.csv\r\n"
     ]
    }
   ],
   "source": [
    "! ls"
   ]
  },
  {
   "cell_type": "code",
   "execution_count": 6,
   "metadata": {
    "collapsed": false
   },
   "outputs": [
    {
     "data": {
      "text/html": [
       "<div>\n",
       "<table border=\"1\" class=\"dataframe\">\n",
       "  <thead>\n",
       "    <tr style=\"text-align: right;\">\n",
       "      <th></th>\n",
       "      <th>n_pregnant</th>\n",
       "      <th>glucose</th>\n",
       "      <th>blood_pressure</th>\n",
       "      <th>skin_thick</th>\n",
       "      <th>insulin</th>\n",
       "      <th>bmi</th>\n",
       "      <th>pedigree</th>\n",
       "      <th>age</th>\n",
       "      <th>test_positive</th>\n",
       "      <th>age_bmi</th>\n",
       "      <th>glu_age</th>\n",
       "      <th>glu_bmi</th>\n",
       "    </tr>\n",
       "  </thead>\n",
       "  <tbody>\n",
       "    <tr>\n",
       "      <th>0</th>\n",
       "      <td>6</td>\n",
       "      <td>148</td>\n",
       "      <td>72</td>\n",
       "      <td>35.00000</td>\n",
       "      <td>155.548223</td>\n",
       "      <td>33.6</td>\n",
       "      <td>0.627</td>\n",
       "      <td>50</td>\n",
       "      <td>1</td>\n",
       "      <td>1680.0</td>\n",
       "      <td>7400</td>\n",
       "      <td>4972.8</td>\n",
       "    </tr>\n",
       "    <tr>\n",
       "      <th>1</th>\n",
       "      <td>1</td>\n",
       "      <td>85</td>\n",
       "      <td>66</td>\n",
       "      <td>29.00000</td>\n",
       "      <td>155.548223</td>\n",
       "      <td>26.6</td>\n",
       "      <td>0.351</td>\n",
       "      <td>31</td>\n",
       "      <td>0</td>\n",
       "      <td>824.6</td>\n",
       "      <td>2635</td>\n",
       "      <td>2261.0</td>\n",
       "    </tr>\n",
       "    <tr>\n",
       "      <th>2</th>\n",
       "      <td>8</td>\n",
       "      <td>183</td>\n",
       "      <td>64</td>\n",
       "      <td>29.15342</td>\n",
       "      <td>155.548223</td>\n",
       "      <td>23.3</td>\n",
       "      <td>0.672</td>\n",
       "      <td>32</td>\n",
       "      <td>1</td>\n",
       "      <td>745.6</td>\n",
       "      <td>5856</td>\n",
       "      <td>4263.9</td>\n",
       "    </tr>\n",
       "    <tr>\n",
       "      <th>3</th>\n",
       "      <td>1</td>\n",
       "      <td>89</td>\n",
       "      <td>66</td>\n",
       "      <td>23.00000</td>\n",
       "      <td>94.000000</td>\n",
       "      <td>28.1</td>\n",
       "      <td>0.167</td>\n",
       "      <td>21</td>\n",
       "      <td>0</td>\n",
       "      <td>590.1</td>\n",
       "      <td>1869</td>\n",
       "      <td>2500.9</td>\n",
       "    </tr>\n",
       "    <tr>\n",
       "      <th>4</th>\n",
       "      <td>0</td>\n",
       "      <td>137</td>\n",
       "      <td>40</td>\n",
       "      <td>35.00000</td>\n",
       "      <td>168.000000</td>\n",
       "      <td>43.1</td>\n",
       "      <td>2.288</td>\n",
       "      <td>33</td>\n",
       "      <td>1</td>\n",
       "      <td>1422.3</td>\n",
       "      <td>4521</td>\n",
       "      <td>5904.7</td>\n",
       "    </tr>\n",
       "  </tbody>\n",
       "</table>\n",
       "</div>"
      ],
      "text/plain": [
       "   n_pregnant  glucose  blood_pressure  skin_thick     insulin   bmi  \\\n",
       "0           6      148              72    35.00000  155.548223  33.6   \n",
       "1           1       85              66    29.00000  155.548223  26.6   \n",
       "2           8      183              64    29.15342  155.548223  23.3   \n",
       "3           1       89              66    23.00000   94.000000  28.1   \n",
       "4           0      137              40    35.00000  168.000000  43.1   \n",
       "\n",
       "   pedigree  age  test_positive  age_bmi  glu_age  glu_bmi  \n",
       "0     0.627   50              1   1680.0     7400   4972.8  \n",
       "1     0.351   31              0    824.6     2635   2261.0  \n",
       "2     0.672   32              1    745.6     5856   4263.9  \n",
       "3     0.167   21              0    590.1     1869   2500.9  \n",
       "4     2.288   33              1   1422.3     4521   5904.7  "
      ]
     },
     "execution_count": 6,
     "metadata": {},
     "output_type": "execute_result"
    }
   ],
   "source": [
    "data = pd.read_csv('pima_data_clean.csv')\n",
    "data.head()\n",
    "\n"
   ]
  },
  {
   "cell_type": "markdown",
   "metadata": {},
   "source": [
    "## Cleaned Data from HW2\n",
    "\n",
    "  Feature|Name|Description\n",
    "  -------|-----|--------\n",
    "   1.| n_pregnant|Number of times pregnant\n",
    "   2.| glucose|Plasma glucose concentration a 2 hours in an oral glucose tolerance test\n",
    "   3.|blood_pressure|Diastolic blood pressure (mm Hg)\n",
    "   4.|skin_thick| Triceps skin fold thickness (mm)\n",
    "   5.|insulin| 2-Hour serum insulin (mu U/ml)\n",
    "   6.|bmi| Body mass index (weight in kg/(height in m)^2)\n",
    "   7.|pedigree| Diabetes pedigree function\n",
    "   8.|age| Age (years)\n",
    "   9.|test_positive| Class variable (0 or 1)\n",
    "   10. | age_bmi | halo feature age * bmi\n",
    "    11. | glu_age | halo feature glucose * age\n",
    "     12. | glu_bmi | halo feature glucose * bmi"
   ]
  },
  {
   "cell_type": "code",
   "execution_count": 7,
   "metadata": {
    "collapsed": false
   },
   "outputs": [
    {
     "name": "stdout",
     "output_type": "stream",
     "text": [
      "<class 'pandas.core.frame.DataFrame'>\n",
      "Int64Index: 752 entries, 0 to 751\n",
      "Data columns (total 12 columns):\n",
      "n_pregnant        752 non-null int64\n",
      "glucose           752 non-null float64\n",
      "blood_pressure    752 non-null float64\n",
      "skin_thick        752 non-null float64\n",
      "insulin           752 non-null float64\n",
      "bmi               752 non-null float64\n",
      "pedigree          752 non-null float64\n",
      "age               752 non-null int64\n",
      "test_positive     752 non-null int64\n",
      "age_bmi           752 non-null float64\n",
      "glu_age           752 non-null float64\n",
      "glu_bmi           752 non-null float64\n",
      "dtypes: float64(9), int64(3)\n",
      "memory usage: 76.4 KB\n"
     ]
    }
   ],
   "source": [
    "data.info()"
   ]
  },
  {
   "cell_type": "code",
   "execution_count": 8,
   "metadata": {
    "collapsed": false
   },
   "outputs": [
    {
     "data": {
      "text/html": [
       "<div>\n",
       "<table border=\"1\" class=\"dataframe\">\n",
       "  <thead>\n",
       "    <tr style=\"text-align: right;\">\n",
       "      <th></th>\n",
       "      <th>n_pregnant</th>\n",
       "      <th>glucose</th>\n",
       "      <th>blood_pressure</th>\n",
       "      <th>skin_thick</th>\n",
       "      <th>insulin</th>\n",
       "      <th>bmi</th>\n",
       "      <th>pedigree</th>\n",
       "      <th>age</th>\n",
       "      <th>test_positive</th>\n",
       "      <th>age_bmi</th>\n",
       "      <th>glu_age</th>\n",
       "      <th>glu_bmi</th>\n",
       "    </tr>\n",
       "  </thead>\n",
       "  <tbody>\n",
       "    <tr>\n",
       "      <th>count</th>\n",
       "      <td>752.000000</td>\n",
       "      <td>752.000000</td>\n",
       "      <td>752.000000</td>\n",
       "      <td>752.000000</td>\n",
       "      <td>752.000000</td>\n",
       "      <td>752.000000</td>\n",
       "      <td>752.000000</td>\n",
       "      <td>752.000000</td>\n",
       "      <td>752.000000</td>\n",
       "      <td>752.000000</td>\n",
       "      <td>752.000000</td>\n",
       "      <td>752.000000</td>\n",
       "    </tr>\n",
       "    <tr>\n",
       "      <th>mean</th>\n",
       "      <td>3.851064</td>\n",
       "      <td>121.941489</td>\n",
       "      <td>72.585396</td>\n",
       "      <td>29.166816</td>\n",
       "      <td>155.812979</td>\n",
       "      <td>32.454654</td>\n",
       "      <td>0.473051</td>\n",
       "      <td>33.312500</td>\n",
       "      <td>0.351064</td>\n",
       "      <td>1082.939894</td>\n",
       "      <td>4155.748670</td>\n",
       "      <td>4006.858378</td>\n",
       "    </tr>\n",
       "    <tr>\n",
       "      <th>std</th>\n",
       "      <td>3.375189</td>\n",
       "      <td>30.601198</td>\n",
       "      <td>11.815549</td>\n",
       "      <td>8.852107</td>\n",
       "      <td>85.750988</td>\n",
       "      <td>6.928926</td>\n",
       "      <td>0.330108</td>\n",
       "      <td>11.709395</td>\n",
       "      <td>0.477621</td>\n",
       "      <td>436.547289</td>\n",
       "      <td>2078.847246</td>\n",
       "      <td>1480.170183</td>\n",
       "    </tr>\n",
       "    <tr>\n",
       "      <th>min</th>\n",
       "      <td>0.000000</td>\n",
       "      <td>44.000000</td>\n",
       "      <td>38.000000</td>\n",
       "      <td>7.000000</td>\n",
       "      <td>14.000000</td>\n",
       "      <td>18.200000</td>\n",
       "      <td>0.078000</td>\n",
       "      <td>21.000000</td>\n",
       "      <td>0.000000</td>\n",
       "      <td>382.200000</td>\n",
       "      <td>1232.000000</td>\n",
       "      <td>1100.000000</td>\n",
       "    </tr>\n",
       "    <tr>\n",
       "      <th>25%</th>\n",
       "      <td>1.000000</td>\n",
       "      <td>99.750000</td>\n",
       "      <td>64.000000</td>\n",
       "      <td>25.000000</td>\n",
       "      <td>120.000000</td>\n",
       "      <td>27.500000</td>\n",
       "      <td>0.244000</td>\n",
       "      <td>24.000000</td>\n",
       "      <td>0.000000</td>\n",
       "      <td>751.275000</td>\n",
       "      <td>2626.000000</td>\n",
       "      <td>2924.100000</td>\n",
       "    </tr>\n",
       "    <tr>\n",
       "      <th>50%</th>\n",
       "      <td>3.000000</td>\n",
       "      <td>117.000000</td>\n",
       "      <td>72.000000</td>\n",
       "      <td>29.153420</td>\n",
       "      <td>155.548223</td>\n",
       "      <td>32.300000</td>\n",
       "      <td>0.377000</td>\n",
       "      <td>29.000000</td>\n",
       "      <td>0.000000</td>\n",
       "      <td>993.800000</td>\n",
       "      <td>3510.000000</td>\n",
       "      <td>3773.450000</td>\n",
       "    </tr>\n",
       "    <tr>\n",
       "      <th>75%</th>\n",
       "      <td>6.000000</td>\n",
       "      <td>141.000000</td>\n",
       "      <td>80.000000</td>\n",
       "      <td>32.000000</td>\n",
       "      <td>155.548223</td>\n",
       "      <td>36.600000</td>\n",
       "      <td>0.627500</td>\n",
       "      <td>41.000000</td>\n",
       "      <td>1.000000</td>\n",
       "      <td>1357.200000</td>\n",
       "      <td>5200.000000</td>\n",
       "      <td>4841.775000</td>\n",
       "    </tr>\n",
       "    <tr>\n",
       "      <th>max</th>\n",
       "      <td>17.000000</td>\n",
       "      <td>199.000000</td>\n",
       "      <td>122.000000</td>\n",
       "      <td>99.000000</td>\n",
       "      <td>846.000000</td>\n",
       "      <td>67.100000</td>\n",
       "      <td>2.420000</td>\n",
       "      <td>81.000000</td>\n",
       "      <td>1.000000</td>\n",
       "      <td>2697.000000</td>\n",
       "      <td>12998.000000</td>\n",
       "      <td>10692.000000</td>\n",
       "    </tr>\n",
       "  </tbody>\n",
       "</table>\n",
       "</div>"
      ],
      "text/plain": [
       "       n_pregnant     glucose  blood_pressure  skin_thick     insulin  \\\n",
       "count  752.000000  752.000000      752.000000  752.000000  752.000000   \n",
       "mean     3.851064  121.941489       72.585396   29.166816  155.812979   \n",
       "std      3.375189   30.601198       11.815549    8.852107   85.750988   \n",
       "min      0.000000   44.000000       38.000000    7.000000   14.000000   \n",
       "25%      1.000000   99.750000       64.000000   25.000000  120.000000   \n",
       "50%      3.000000  117.000000       72.000000   29.153420  155.548223   \n",
       "75%      6.000000  141.000000       80.000000   32.000000  155.548223   \n",
       "max     17.000000  199.000000      122.000000   99.000000  846.000000   \n",
       "\n",
       "              bmi    pedigree         age  test_positive      age_bmi  \\\n",
       "count  752.000000  752.000000  752.000000     752.000000   752.000000   \n",
       "mean    32.454654    0.473051   33.312500       0.351064  1082.939894   \n",
       "std      6.928926    0.330108   11.709395       0.477621   436.547289   \n",
       "min     18.200000    0.078000   21.000000       0.000000   382.200000   \n",
       "25%     27.500000    0.244000   24.000000       0.000000   751.275000   \n",
       "50%     32.300000    0.377000   29.000000       0.000000   993.800000   \n",
       "75%     36.600000    0.627500   41.000000       1.000000  1357.200000   \n",
       "max     67.100000    2.420000   81.000000       1.000000  2697.000000   \n",
       "\n",
       "            glu_age       glu_bmi  \n",
       "count    752.000000    752.000000  \n",
       "mean    4155.748670   4006.858378  \n",
       "std     2078.847246   1480.170183  \n",
       "min     1232.000000   1100.000000  \n",
       "25%     2626.000000   2924.100000  \n",
       "50%     3510.000000   3773.450000  \n",
       "75%     5200.000000   4841.775000  \n",
       "max    12998.000000  10692.000000  "
      ]
     },
     "execution_count": 8,
     "metadata": {},
     "output_type": "execute_result"
    }
   ],
   "source": [
    "data.describe()"
   ]
  },
  {
   "cell_type": "code",
   "execution_count": 9,
   "metadata": {
    "collapsed": false,
    "scrolled": true
   },
   "outputs": [
    {
     "data": {
      "text/html": [
       "<div>\n",
       "<table border=\"1\" class=\"dataframe\">\n",
       "  <thead>\n",
       "    <tr style=\"text-align: right;\">\n",
       "      <th></th>\n",
       "      <th>n_pregnant</th>\n",
       "      <th>glucose</th>\n",
       "      <th>blood_pressure</th>\n",
       "      <th>skin_thick</th>\n",
       "      <th>insulin</th>\n",
       "      <th>bmi</th>\n",
       "      <th>pedigree</th>\n",
       "      <th>age</th>\n",
       "      <th>test_positive</th>\n",
       "      <th>age_bmi</th>\n",
       "      <th>glu_age</th>\n",
       "      <th>glu_bmi</th>\n",
       "    </tr>\n",
       "  </thead>\n",
       "  <tbody>\n",
       "    <tr>\n",
       "      <th>n_pregnant</th>\n",
       "      <td>1.000000</td>\n",
       "      <td>0.125717</td>\n",
       "      <td>0.197914</td>\n",
       "      <td>0.079056</td>\n",
       "      <td>0.053722</td>\n",
       "      <td>0.018352</td>\n",
       "      <td>-0.029159</td>\n",
       "      <td>0.545238</td>\n",
       "      <td>0.213371</td>\n",
       "      <td>0.486163</td>\n",
       "      <td>0.442262</td>\n",
       "      <td>0.083858</td>\n",
       "    </tr>\n",
       "    <tr>\n",
       "      <th>glucose</th>\n",
       "      <td>0.125717</td>\n",
       "      <td>1.000000</td>\n",
       "      <td>0.212210</td>\n",
       "      <td>0.193964</td>\n",
       "      <td>0.423008</td>\n",
       "      <td>0.232771</td>\n",
       "      <td>0.133945</td>\n",
       "      <td>0.261490</td>\n",
       "      <td>0.494190</td>\n",
       "      <td>0.329245</td>\n",
       "      <td>0.698663</td>\n",
       "      <td>0.817920</td>\n",
       "    </tr>\n",
       "    <tr>\n",
       "      <th>blood_pressure</th>\n",
       "      <td>0.197914</td>\n",
       "      <td>0.212210</td>\n",
       "      <td>1.000000</td>\n",
       "      <td>0.203260</td>\n",
       "      <td>0.059111</td>\n",
       "      <td>0.307653</td>\n",
       "      <td>-0.002613</td>\n",
       "      <td>0.320357</td>\n",
       "      <td>0.166548</td>\n",
       "      <td>0.431242</td>\n",
       "      <td>0.325034</td>\n",
       "      <td>0.316929</td>\n",
       "    </tr>\n",
       "    <tr>\n",
       "      <th>skin_thick</th>\n",
       "      <td>0.079056</td>\n",
       "      <td>0.193964</td>\n",
       "      <td>0.203260</td>\n",
       "      <td>1.000000</td>\n",
       "      <td>0.156176</td>\n",
       "      <td>0.541218</td>\n",
       "      <td>0.103491</td>\n",
       "      <td>0.125078</td>\n",
       "      <td>0.212320</td>\n",
       "      <td>0.359152</td>\n",
       "      <td>0.172943</td>\n",
       "      <td>0.435737</td>\n",
       "    </tr>\n",
       "    <tr>\n",
       "      <th>insulin</th>\n",
       "      <td>0.053722</td>\n",
       "      <td>0.423008</td>\n",
       "      <td>0.059111</td>\n",
       "      <td>0.156176</td>\n",
       "      <td>1.000000</td>\n",
       "      <td>0.165966</td>\n",
       "      <td>0.103100</td>\n",
       "      <td>0.135809</td>\n",
       "      <td>0.214539</td>\n",
       "      <td>0.189574</td>\n",
       "      <td>0.292890</td>\n",
       "      <td>0.391711</td>\n",
       "    </tr>\n",
       "    <tr>\n",
       "      <th>bmi</th>\n",
       "      <td>0.018352</td>\n",
       "      <td>0.232771</td>\n",
       "      <td>0.307653</td>\n",
       "      <td>0.541218</td>\n",
       "      <td>0.165966</td>\n",
       "      <td>1.000000</td>\n",
       "      <td>0.153683</td>\n",
       "      <td>0.022144</td>\n",
       "      <td>0.309884</td>\n",
       "      <td>0.522398</td>\n",
       "      <td>0.109448</td>\n",
       "      <td>0.733106</td>\n",
       "    </tr>\n",
       "    <tr>\n",
       "      <th>pedigree</th>\n",
       "      <td>-0.029159</td>\n",
       "      <td>0.133945</td>\n",
       "      <td>-0.002613</td>\n",
       "      <td>0.103491</td>\n",
       "      <td>0.103100</td>\n",
       "      <td>0.153683</td>\n",
       "      <td>1.000000</td>\n",
       "      <td>0.031674</td>\n",
       "      <td>0.178052</td>\n",
       "      <td>0.096053</td>\n",
       "      <td>0.077296</td>\n",
       "      <td>0.196301</td>\n",
       "    </tr>\n",
       "    <tr>\n",
       "      <th>age</th>\n",
       "      <td>0.545238</td>\n",
       "      <td>0.261490</td>\n",
       "      <td>0.320357</td>\n",
       "      <td>0.125078</td>\n",
       "      <td>0.135809</td>\n",
       "      <td>0.022144</td>\n",
       "      <td>0.031674</td>\n",
       "      <td>1.000000</td>\n",
       "      <td>0.232734</td>\n",
       "      <td>0.845983</td>\n",
       "      <td>0.852549</td>\n",
       "      <td>0.171550</td>\n",
       "    </tr>\n",
       "    <tr>\n",
       "      <th>test_positive</th>\n",
       "      <td>0.213371</td>\n",
       "      <td>0.494190</td>\n",
       "      <td>0.166548</td>\n",
       "      <td>0.212320</td>\n",
       "      <td>0.214539</td>\n",
       "      <td>0.309884</td>\n",
       "      <td>0.178052</td>\n",
       "      <td>0.232734</td>\n",
       "      <td>1.000000</td>\n",
       "      <td>0.358236</td>\n",
       "      <td>0.409235</td>\n",
       "      <td>0.519287</td>\n",
       "    </tr>\n",
       "    <tr>\n",
       "      <th>age_bmi</th>\n",
       "      <td>0.486163</td>\n",
       "      <td>0.329245</td>\n",
       "      <td>0.431242</td>\n",
       "      <td>0.359152</td>\n",
       "      <td>0.189574</td>\n",
       "      <td>0.522398</td>\n",
       "      <td>0.096053</td>\n",
       "      <td>0.845983</td>\n",
       "      <td>0.358236</td>\n",
       "      <td>1.000000</td>\n",
       "      <td>0.767860</td>\n",
       "      <td>0.512321</td>\n",
       "    </tr>\n",
       "    <tr>\n",
       "      <th>glu_age</th>\n",
       "      <td>0.442262</td>\n",
       "      <td>0.698663</td>\n",
       "      <td>0.325034</td>\n",
       "      <td>0.172943</td>\n",
       "      <td>0.292890</td>\n",
       "      <td>0.109448</td>\n",
       "      <td>0.077296</td>\n",
       "      <td>0.852549</td>\n",
       "      <td>0.409235</td>\n",
       "      <td>0.767860</td>\n",
       "      <td>1.000000</td>\n",
       "      <td>0.525628</td>\n",
       "    </tr>\n",
       "    <tr>\n",
       "      <th>glu_bmi</th>\n",
       "      <td>0.083858</td>\n",
       "      <td>0.817920</td>\n",
       "      <td>0.316929</td>\n",
       "      <td>0.435737</td>\n",
       "      <td>0.391711</td>\n",
       "      <td>0.733106</td>\n",
       "      <td>0.196301</td>\n",
       "      <td>0.171550</td>\n",
       "      <td>0.519287</td>\n",
       "      <td>0.512321</td>\n",
       "      <td>0.525628</td>\n",
       "      <td>1.000000</td>\n",
       "    </tr>\n",
       "  </tbody>\n",
       "</table>\n",
       "</div>"
      ],
      "text/plain": [
       "                n_pregnant   glucose  blood_pressure  skin_thick   insulin  \\\n",
       "n_pregnant        1.000000  0.125717        0.197914    0.079056  0.053722   \n",
       "glucose           0.125717  1.000000        0.212210    0.193964  0.423008   \n",
       "blood_pressure    0.197914  0.212210        1.000000    0.203260  0.059111   \n",
       "skin_thick        0.079056  0.193964        0.203260    1.000000  0.156176   \n",
       "insulin           0.053722  0.423008        0.059111    0.156176  1.000000   \n",
       "bmi               0.018352  0.232771        0.307653    0.541218  0.165966   \n",
       "pedigree         -0.029159  0.133945       -0.002613    0.103491  0.103100   \n",
       "age               0.545238  0.261490        0.320357    0.125078  0.135809   \n",
       "test_positive     0.213371  0.494190        0.166548    0.212320  0.214539   \n",
       "age_bmi           0.486163  0.329245        0.431242    0.359152  0.189574   \n",
       "glu_age           0.442262  0.698663        0.325034    0.172943  0.292890   \n",
       "glu_bmi           0.083858  0.817920        0.316929    0.435737  0.391711   \n",
       "\n",
       "                     bmi  pedigree       age  test_positive   age_bmi  \\\n",
       "n_pregnant      0.018352 -0.029159  0.545238       0.213371  0.486163   \n",
       "glucose         0.232771  0.133945  0.261490       0.494190  0.329245   \n",
       "blood_pressure  0.307653 -0.002613  0.320357       0.166548  0.431242   \n",
       "skin_thick      0.541218  0.103491  0.125078       0.212320  0.359152   \n",
       "insulin         0.165966  0.103100  0.135809       0.214539  0.189574   \n",
       "bmi             1.000000  0.153683  0.022144       0.309884  0.522398   \n",
       "pedigree        0.153683  1.000000  0.031674       0.178052  0.096053   \n",
       "age             0.022144  0.031674  1.000000       0.232734  0.845983   \n",
       "test_positive   0.309884  0.178052  0.232734       1.000000  0.358236   \n",
       "age_bmi         0.522398  0.096053  0.845983       0.358236  1.000000   \n",
       "glu_age         0.109448  0.077296  0.852549       0.409235  0.767860   \n",
       "glu_bmi         0.733106  0.196301  0.171550       0.519287  0.512321   \n",
       "\n",
       "                 glu_age   glu_bmi  \n",
       "n_pregnant      0.442262  0.083858  \n",
       "glucose         0.698663  0.817920  \n",
       "blood_pressure  0.325034  0.316929  \n",
       "skin_thick      0.172943  0.435737  \n",
       "insulin         0.292890  0.391711  \n",
       "bmi             0.109448  0.733106  \n",
       "pedigree        0.077296  0.196301  \n",
       "age             0.852549  0.171550  \n",
       "test_positive   0.409235  0.519287  \n",
       "age_bmi         0.767860  0.512321  \n",
       "glu_age         1.000000  0.525628  \n",
       "glu_bmi         0.525628  1.000000  "
      ]
     },
     "execution_count": 9,
     "metadata": {},
     "output_type": "execute_result"
    }
   ],
   "source": [
    "data.corr()"
   ]
  },
  {
   "cell_type": "code",
   "execution_count": 10,
   "metadata": {
    "collapsed": true
   },
   "outputs": [],
   "source": [
    "# Split into data and label\n",
    "X = data.drop('test_positive', axis=1)\n",
    "y = data['test_positive']"
   ]
  },
  {
   "cell_type": "code",
   "execution_count": 11,
   "metadata": {
    "collapsed": false
   },
   "outputs": [],
   "source": [
    "# Split into train and test\n",
    "X_train, X_test, y_train, y_test = train_test_split(X, y, \n",
    "                                                    test_size=0.2, random_state=7)"
   ]
  },
  {
   "cell_type": "code",
   "execution_count": 12,
   "metadata": {
    "collapsed": true
   },
   "outputs": [],
   "source": [
    "# standardization: bring all of our features onto the same scale\n",
    "scale = StandardScaler()\n",
    "# transform our training features\n",
    "X_train_std = scale.fit_transform(X_train)\n",
    "# transform the testing features in the same way\n",
    "X_test_std = scale.transform(X_test)"
   ]
  },
  {
   "cell_type": "code",
   "execution_count": 13,
   "metadata": {
    "collapsed": true
   },
   "outputs": [],
   "source": [
    "# 10 cross validation iterations with 20% test / 80% train\n",
    "cv = ShuffleSplit(X_train.shape[0], n_iter=10, test_size=0.2, random_state=0)"
   ]
  },
  {
   "cell_type": "code",
   "execution_count": 14,
   "metadata": {
    "collapsed": true
   },
   "outputs": [],
   "source": [
    "# Set up the scoring method used\n",
    "scoring = 'recall'"
   ]
  },
  {
   "cell_type": "markdown",
   "metadata": {},
   "source": [
    "## 3 - Run k-Means on the dataset and describe your results"
   ]
  },
  {
   "cell_type": "code",
   "execution_count": 15,
   "metadata": {
    "collapsed": false
   },
   "outputs": [
    {
     "data": {
      "text/html": [
       "<div>\n",
       "<table border=\"1\" class=\"dataframe\">\n",
       "  <thead>\n",
       "    <tr style=\"text-align: right;\">\n",
       "      <th></th>\n",
       "      <th>inertia</th>\n",
       "      <th>k</th>\n",
       "      <th>sil_score</th>\n",
       "    </tr>\n",
       "  </thead>\n",
       "  <tbody>\n",
       "    <tr>\n",
       "      <th>0</th>\n",
       "      <td>4836.697443</td>\n",
       "      <td>2</td>\n",
       "      <td>0.270284</td>\n",
       "    </tr>\n",
       "    <tr>\n",
       "      <th>1</th>\n",
       "      <td>4206.725696</td>\n",
       "      <td>3</td>\n",
       "      <td>0.249451</td>\n",
       "    </tr>\n",
       "    <tr>\n",
       "      <th>2</th>\n",
       "      <td>3843.273155</td>\n",
       "      <td>4</td>\n",
       "      <td>0.152228</td>\n",
       "    </tr>\n",
       "    <tr>\n",
       "      <th>3</th>\n",
       "      <td>3548.773818</td>\n",
       "      <td>5</td>\n",
       "      <td>0.150910</td>\n",
       "    </tr>\n",
       "    <tr>\n",
       "      <th>4</th>\n",
       "      <td>3335.194006</td>\n",
       "      <td>6</td>\n",
       "      <td>0.157694</td>\n",
       "    </tr>\n",
       "  </tbody>\n",
       "</table>\n",
       "</div>"
      ],
      "text/plain": [
       "       inertia  k  sil_score\n",
       "0  4836.697443  2   0.270284\n",
       "1  4206.725696  3   0.249451\n",
       "2  3843.273155  4   0.152228\n",
       "3  3548.773818  5   0.150910\n",
       "4  3335.194006  6   0.157694"
      ]
     },
     "execution_count": 15,
     "metadata": {},
     "output_type": "execute_result"
    }
   ],
   "source": [
    "ks = range(2,21,1)\n",
    "inertias = []\n",
    "sil_score = []\n",
    "for k in ks:\n",
    "    km = KMeans(n_clusters=k, n_init=20)\n",
    "    cluster_labels = km.fit_predict(X_train_std)\n",
    "    inertias.append(km.inertia_)\n",
    "    sil_score.append(silhouette_score(X_train_std, cluster_labels))\n",
    "df = pd.DataFrame({'k':ks,'inertia':inertias, 'sil_score':sil_score})\n",
    "df.head()"
   ]
  },
  {
   "cell_type": "code",
   "execution_count": 16,
   "metadata": {
    "collapsed": false
   },
   "outputs": [
    {
     "data": {
      "text/plain": [
       "<matplotlib.axes._subplots.AxesSubplot at 0x1093d8bd0>"
      ]
     },
     "execution_count": 16,
     "metadata": {},
     "output_type": "execute_result"
    },
    {
     "data": {
      "image/png": "[encoded data removed]",
      "text/plain": [
       "<matplotlib.figure.Figure at 0x108dc1310>"
      ]
     },
     "metadata": {},
     "output_type": "display_data"
    }
   ],
   "source": [
    "df.plot(x='k',y='inertia', title='Inertia vs K value')"
   ]
  },
  {
   "cell_type": "code",
   "execution_count": 17,
   "metadata": {
    "collapsed": false
   },
   "outputs": [
    {
     "data": {
      "image/png": "[encoded data removed]",
      "text/plain": [
       "<matplotlib.figure.Figure at 0x109905ad0>"
      ]
     },
     "metadata": {},
     "output_type": "display_data"
    }
   ],
   "source": [
    "df.plot(x='k',y='sil_score', title='silhouette_score vs K value');"
   ]
  },
  {
   "cell_type": "markdown",
   "metadata": {},
   "source": [
    "### Select parms\n",
    "- elbow test hard to read. Small kink at 3.\n",
    "- silhouette score takes big drop after 3.\n",
    "- try 3 at first.\n",
    "- try 4\n",
    "- reset to 3"
   ]
  },
  {
   "cell_type": "code",
   "execution_count": 18,
   "metadata": {
    "collapsed": true
   },
   "outputs": [],
   "source": [
    "km = KMeans(n_clusters=3, n_init=20)\n",
    "cluster_labels = km.fit_predict(X_train_std)\n",
    "pd.set_option('display.float_format', lambda x: '%.3f' % x)"
   ]
  },
  {
   "cell_type": "code",
   "execution_count": 19,
   "metadata": {
    "collapsed": false
   },
   "outputs": [
    {
     "data": {
      "text/html": [
       "<div>\n",
       "<table border=\"1\" class=\"dataframe\">\n",
       "  <thead>\n",
       "    <tr style=\"text-align: right;\">\n",
       "      <th></th>\n",
       "      <th>0</th>\n",
       "      <th>1</th>\n",
       "      <th>2</th>\n",
       "    </tr>\n",
       "  </thead>\n",
       "  <tbody>\n",
       "    <tr>\n",
       "      <th>n_pregnant</th>\n",
       "      <td>7.079</td>\n",
       "      <td>2.769</td>\n",
       "      <td>1.779</td>\n",
       "    </tr>\n",
       "    <tr>\n",
       "      <th>glucose</th>\n",
       "      <td>138.756</td>\n",
       "      <td>105.090</td>\n",
       "      <td>147.875</td>\n",
       "    </tr>\n",
       "    <tr>\n",
       "      <th>blood_pressure</th>\n",
       "      <td>77.895</td>\n",
       "      <td>68.618</td>\n",
       "      <td>75.403</td>\n",
       "    </tr>\n",
       "    <tr>\n",
       "      <th>skin_thick</th>\n",
       "      <td>30.577</td>\n",
       "      <td>26.174</td>\n",
       "      <td>36.984</td>\n",
       "    </tr>\n",
       "    <tr>\n",
       "      <th>insulin</th>\n",
       "      <td>173.405</td>\n",
       "      <td>129.736</td>\n",
       "      <td>219.980</td>\n",
       "    </tr>\n",
       "    <tr>\n",
       "      <th>bmi</th>\n",
       "      <td>33.212</td>\n",
       "      <td>29.621</td>\n",
       "      <td>39.942</td>\n",
       "    </tr>\n",
       "    <tr>\n",
       "      <th>pedigree</th>\n",
       "      <td>0.431</td>\n",
       "      <td>0.431</td>\n",
       "      <td>0.680</td>\n",
       "    </tr>\n",
       "    <tr>\n",
       "      <th>age</th>\n",
       "      <td>47.049</td>\n",
       "      <td>26.853</td>\n",
       "      <td>28.577</td>\n",
       "    </tr>\n",
       "    <tr>\n",
       "      <th>age_bmi</th>\n",
       "      <td>1548.309</td>\n",
       "      <td>795.155</td>\n",
       "      <td>1137.944</td>\n",
       "    </tr>\n",
       "    <tr>\n",
       "      <th>glu_age</th>\n",
       "      <td>6516.927</td>\n",
       "      <td>2804.526</td>\n",
       "      <td>4221.971</td>\n",
       "    </tr>\n",
       "    <tr>\n",
       "      <th>glu_bmi</th>\n",
       "      <td>4595.107</td>\n",
       "      <td>3107.121</td>\n",
       "      <td>5862.542</td>\n",
       "    </tr>\n",
       "  </tbody>\n",
       "</table>\n",
       "</div>"
      ],
      "text/plain": [
       "                      0        1        2\n",
       "n_pregnant        7.079    2.769    1.779\n",
       "glucose         138.756  105.090  147.875\n",
       "blood_pressure   77.895   68.618   75.403\n",
       "skin_thick       30.577   26.174   36.984\n",
       "insulin         173.405  129.736  219.980\n",
       "bmi              33.212   29.621   39.942\n",
       "pedigree          0.431    0.431    0.680\n",
       "age              47.049   26.853   28.577\n",
       "age_bmi        1548.309  795.155 1137.944\n",
       "glu_age        6516.927 2804.526 4221.971\n",
       "glu_bmi        4595.107 3107.121 5862.542"
      ]
     },
     "execution_count": 19,
     "metadata": {},
     "output_type": "execute_result"
    }
   ],
   "source": [
    "cc = km.cluster_centers_\n",
    "cc_scaled = scale.inverse_transform(cc)\n",
    "df2 = pd.DataFrame(cc_scaled)\n",
    "df2.columns = X.columns\n",
    "df3 = df2.transpose()\n",
    "df3\n",
    "\n"
   ]
  },
  {
   "cell_type": "code",
   "execution_count": 20,
   "metadata": {
    "collapsed": false
   },
   "outputs": [
    {
     "name": "stdout",
     "output_type": "stream",
     "text": [
      "There are  3  clusters\n",
      "[[  0 164]\n",
      " [  1 333]\n",
      " [  2 104]]\n"
     ]
    }
   ],
   "source": [
    "# Look at count in each cluster\n",
    "unique, counts = np.unique(cluster_labels, return_counts=True)\n",
    "n_digits =  len(unique)\n",
    "print 'There are ', n_digits, ' clusters'\n",
    "print np.asarray((unique, counts)).T"
   ]
  },
  {
   "cell_type": "markdown",
   "metadata": {},
   "source": [
    "## 3 - Observations - Run k-Means on the dataset \n",
    "k-means has clustered into 3 groups. Value counts a little heavy on one group, but not bad.\n",
    "- old and un-healty\n",
    "- young and healty\n",
    "- young and un-healthy\n",
    "\n",
    "When Changed to 4 groups we had \n",
    "- Old un-healty\n",
    "- young and healty\n",
    "- youngish and sort of un-healthy\n",
    "- youngish and un-healty\n",
    "\n",
    "Not as defined"
   ]
  },
  {
   "cell_type": "markdown",
   "metadata": {},
   "source": [
    "## 4 - Run PCA on the dataset and describe your results\n",
    "\n"
   ]
  },
  {
   "cell_type": "code",
   "execution_count": 21,
   "metadata": {
    "collapsed": false
   },
   "outputs": [
    {
     "data": {
      "text/plain": [
       "array([ 4.27169717,  1.9896729 ,  1.30299759,  0.93570021,  0.77781746,\n",
       "        0.6690864 ,  0.53029081,  0.48048007,  0.01951785,  0.01348523,\n",
       "        0.0092543 ])"
      ]
     },
     "execution_count": 21,
     "metadata": {},
     "output_type": "execute_result"
    }
   ],
   "source": [
    "pca = PCA(n_components=11, whiten=True)\n",
    "pca.fit(X_train_std)\n",
    "pca.explained_variance_"
   ]
  },
  {
   "cell_type": "code",
   "execution_count": 22,
   "metadata": {
    "collapsed": false
   },
   "outputs": [
    {
     "data": {
      "text/plain": [
       "array([ 0.38833611,  0.18087935,  0.11845433,  0.08506366,  0.07071068,\n",
       "        0.06082604,  0.04820826,  0.04368001,  0.00177435,  0.00122593,\n",
       "        0.0008413 ])"
      ]
     },
     "execution_count": 22,
     "metadata": {},
     "output_type": "execute_result"
    }
   ],
   "source": [
    "pca.explained_variance_ratio_"
   ]
  },
  {
   "cell_type": "code",
   "execution_count": 23,
   "metadata": {
    "collapsed": false
   },
   "outputs": [
    {
     "data": {
      "image/png": "[encoded data removed]",
      "text/plain": [
       "<matplotlib.figure.Figure at 0x1095b5990>"
      ]
     },
     "metadata": {},
     "output_type": "display_data"
    }
   ],
   "source": [
    "var = pca.explained_variance_ratio_\n",
    "plt.plot(var)\n",
    "plt.ylabel('Variance Ratio')\n",
    "plt.show()"
   ]
  },
  {
   "cell_type": "markdown",
   "metadata": {},
   "source": [
    "### Look for number of features that make up 80% of variance"
   ]
  },
  {
   "cell_type": "code",
   "execution_count": 24,
   "metadata": {
    "collapsed": false
   },
   "outputs": [
    {
     "name": "stdout",
     "output_type": "stream",
     "text": [
      "Components:  4  Sum:  0.843444121923\n"
     ]
    }
   ],
   "source": [
    "sum = 0\n",
    "i = 0\n",
    "while sum < .80:\n",
    "    sum = sum + pca.explained_variance_ratio_[i]\n",
    "    i = i + 1\n",
    "n_comps = i - 1\n",
    "print 'Components: ', n_comps, ' Sum: ', sum"
   ]
  },
  {
   "cell_type": "markdown",
   "metadata": {},
   "source": [
    "#### Result is 4 features. Down from the original 11.\n",
    "- Also ran with 8. See comments at bottom)"
   ]
  },
  {
   "cell_type": "code",
   "execution_count": 25,
   "metadata": {
    "collapsed": false
   },
   "outputs": [
    {
     "data": {
      "text/plain": [
       "PCA(copy=True, n_components=4, whiten=True)"
      ]
     },
     "execution_count": 25,
     "metadata": {},
     "output_type": "execute_result"
    }
   ],
   "source": [
    "pca = PCA(n_components=n_comps, whiten=True)\n",
    "pca.fit(X_train_std)"
   ]
  },
  {
   "cell_type": "code",
   "execution_count": 32,
   "metadata": {
    "collapsed": false
   },
   "outputs": [
    {
     "data": {
      "text/plain": [
       "PCA(copy=True, n_components=4, whiten=True)"
      ]
     },
     "execution_count": 32,
     "metadata": {},
     "output_type": "execute_result"
    }
   ],
   "source": [
    "pca = PCA(n_components=n_comps, whiten=True)\n",
    "pca.fit(X_train_std)"
   ]
  },
  {
   "cell_type": "markdown",
   "metadata": {},
   "source": [
    "### Trainsform the training and test data with the selected PCA model"
   ]
  },
  {
   "cell_type": "code",
   "execution_count": 33,
   "metadata": {
    "collapsed": true
   },
   "outputs": [],
   "source": [
    "# Transform the training data with the PCA model\n",
    "X_train_pca = pd.DataFrame(pca.transform(X_train_std))"
   ]
  },
  {
   "cell_type": "code",
   "execution_count": 34,
   "metadata": {
    "collapsed": false
   },
   "outputs": [
    {
     "name": "stdout",
     "output_type": "stream",
     "text": [
      "10000 loops, best of 3: 130 µs per loop\n"
     ]
    }
   ],
   "source": [
    "# Transform the testing data with the PCA model\n",
    "%timeit X_test_pca = pd.DataFrame(pca.transform(X_test_std))"
   ]
  },
  {
   "cell_type": "code",
   "execution_count": 35,
   "metadata": {
    "collapsed": true
   },
   "outputs": [],
   "source": [
    "X_test_pca = pd.DataFrame(pca.transform(X_test_std))"
   ]
  },
  {
   "cell_type": "code",
   "execution_count": 36,
   "metadata": {
    "collapsed": false
   },
   "outputs": [
    {
     "data": {
      "text/html": [
       "<div>\n",
       "<table border=\"1\" class=\"dataframe\">\n",
       "  <thead>\n",
       "    <tr style=\"text-align: right;\">\n",
       "      <th></th>\n",
       "      <th>0</th>\n",
       "      <th>1</th>\n",
       "      <th>2</th>\n",
       "      <th>3</th>\n",
       "    </tr>\n",
       "  </thead>\n",
       "  <tbody>\n",
       "    <tr>\n",
       "      <th>0</th>\n",
       "      <td>0.800</td>\n",
       "      <td>-0.321</td>\n",
       "      <td>-1.131</td>\n",
       "      <td>0.031</td>\n",
       "    </tr>\n",
       "    <tr>\n",
       "      <th>1</th>\n",
       "      <td>2.008</td>\n",
       "      <td>0.550</td>\n",
       "      <td>-1.062</td>\n",
       "      <td>-0.119</td>\n",
       "    </tr>\n",
       "    <tr>\n",
       "      <th>2</th>\n",
       "      <td>1.519</td>\n",
       "      <td>0.135</td>\n",
       "      <td>-0.730</td>\n",
       "      <td>-1.337</td>\n",
       "    </tr>\n",
       "    <tr>\n",
       "      <th>3</th>\n",
       "      <td>0.034</td>\n",
       "      <td>-1.102</td>\n",
       "      <td>1.281</td>\n",
       "      <td>1.595</td>\n",
       "    </tr>\n",
       "    <tr>\n",
       "      <th>4</th>\n",
       "      <td>0.780</td>\n",
       "      <td>-0.043</td>\n",
       "      <td>-0.950</td>\n",
       "      <td>1.526</td>\n",
       "    </tr>\n",
       "  </tbody>\n",
       "</table>\n",
       "</div>"
      ],
      "text/plain": [
       "      0      1      2      3\n",
       "0 0.800 -0.321 -1.131  0.031\n",
       "1 2.008  0.550 -1.062 -0.119\n",
       "2 1.519  0.135 -0.730 -1.337\n",
       "3 0.034 -1.102  1.281  1.595\n",
       "4 0.780 -0.043 -0.950  1.526"
      ]
     },
     "execution_count": 36,
     "metadata": {},
     "output_type": "execute_result"
    }
   ],
   "source": [
    "X_test_pca.head(5)"
   ]
  },
  {
   "cell_type": "code",
   "execution_count": 37,
   "metadata": {
    "collapsed": false
   },
   "outputs": [
    {
     "name": "stdout",
     "output_type": "stream",
     "text": [
      "(151, 4) (601, 4)\n"
     ]
    }
   ],
   "source": [
    "# check sizes\n",
    "print X_test_pca.shape, X_train_pca.shape"
   ]
  },
  {
   "cell_type": "markdown",
   "metadata": {},
   "source": [
    "## 5 - Use the cluster outputs you got from running k-means as a new feature. Rerun your \"worst\" and \"best\" model from HW2, including this new feature along with your old features. Describe your results.\n",
    "\n"
   ]
  },
  {
   "cell_type": "markdown",
   "metadata": {},
   "source": [
    "## Add in the cluster features"
   ]
  },
  {
   "cell_type": "code",
   "execution_count": 38,
   "metadata": {
    "collapsed": false
   },
   "outputs": [
    {
     "data": {
      "text/html": [
       "<div>\n",
       "<table border=\"1\" class=\"dataframe\">\n",
       "  <thead>\n",
       "    <tr style=\"text-align: right;\">\n",
       "      <th></th>\n",
       "      <th>cluster</th>\n",
       "    </tr>\n",
       "  </thead>\n",
       "  <tbody>\n",
       "    <tr>\n",
       "      <th>0</th>\n",
       "      <td>1</td>\n",
       "    </tr>\n",
       "    <tr>\n",
       "      <th>1</th>\n",
       "      <td>1</td>\n",
       "    </tr>\n",
       "  </tbody>\n",
       "</table>\n",
       "</div>"
      ],
      "text/plain": [
       "   cluster\n",
       "0        1\n",
       "1        1"
      ]
     },
     "execution_count": 38,
     "metadata": {},
     "output_type": "execute_result"
    }
   ],
   "source": [
    "# name is cluster_labels\n",
    "# Turn Cluster labels into a dataFrame\n",
    "cl_df = pd.DataFrame(cluster_labels, columns=['cluster'])\n",
    "cl_df.head(2)"
   ]
  },
  {
   "cell_type": "code",
   "execution_count": 39,
   "metadata": {
    "collapsed": true
   },
   "outputs": [],
   "source": [
    "cl_df['cluster'] = cl_df['cluster'].astype('category')"
   ]
  },
  {
   "cell_type": "code",
   "execution_count": 40,
   "metadata": {
    "collapsed": false,
    "scrolled": true
   },
   "outputs": [
    {
     "data": {
      "text/html": [
       "<div>\n",
       "<table border=\"1\" class=\"dataframe\">\n",
       "  <thead>\n",
       "    <tr style=\"text-align: right;\">\n",
       "      <th></th>\n",
       "      <th>cluster_0</th>\n",
       "      <th>cluster_1</th>\n",
       "      <th>cluster_2</th>\n",
       "    </tr>\n",
       "  </thead>\n",
       "  <tbody>\n",
       "    <tr>\n",
       "      <th>0</th>\n",
       "      <td>0.000</td>\n",
       "      <td>1.000</td>\n",
       "      <td>0.000</td>\n",
       "    </tr>\n",
       "    <tr>\n",
       "      <th>1</th>\n",
       "      <td>0.000</td>\n",
       "      <td>1.000</td>\n",
       "      <td>0.000</td>\n",
       "    </tr>\n",
       "  </tbody>\n",
       "</table>\n",
       "</div>"
      ],
      "text/plain": [
       "   cluster_0  cluster_1  cluster_2\n",
       "0      0.000      1.000      0.000\n",
       "1      0.000      1.000      0.000"
      ]
     },
     "execution_count": 40,
     "metadata": {},
     "output_type": "execute_result"
    }
   ],
   "source": [
    "# use get_dummies to convert categoricals into binary features\n",
    "cl_df = pd.get_dummies(cl_df)\n",
    "cl_df.head(2)"
   ]
  },
  {
   "cell_type": "code",
   "execution_count": 41,
   "metadata": {
    "collapsed": false
   },
   "outputs": [
    {
     "data": {
      "text/html": [
       "<div>\n",
       "<table border=\"1\" class=\"dataframe\">\n",
       "  <thead>\n",
       "    <tr style=\"text-align: right;\">\n",
       "      <th></th>\n",
       "      <th>cluster_1</th>\n",
       "      <th>cluster_2</th>\n",
       "    </tr>\n",
       "  </thead>\n",
       "  <tbody>\n",
       "    <tr>\n",
       "      <th>0</th>\n",
       "      <td>1.000</td>\n",
       "      <td>0.000</td>\n",
       "    </tr>\n",
       "    <tr>\n",
       "      <th>1</th>\n",
       "      <td>1.000</td>\n",
       "      <td>0.000</td>\n",
       "    </tr>\n",
       "  </tbody>\n",
       "</table>\n",
       "</div>"
      ],
      "text/plain": [
       "   cluster_1  cluster_2\n",
       "0      1.000      0.000\n",
       "1      1.000      0.000"
      ]
     },
     "execution_count": 41,
     "metadata": {},
     "output_type": "execute_result"
    }
   ],
   "source": [
    "cl_df.drop('cluster_0', axis=1, inplace=True)\n",
    "cl_df.head(2)"
   ]
  },
  {
   "cell_type": "code",
   "execution_count": 42,
   "metadata": {
    "collapsed": false
   },
   "outputs": [
    {
     "data": {
      "text/html": [
       "<div>\n",
       "<table border=\"1\" class=\"dataframe\">\n",
       "  <thead>\n",
       "    <tr style=\"text-align: right;\">\n",
       "      <th></th>\n",
       "      <th>n_pregnant</th>\n",
       "      <th>glucose</th>\n",
       "      <th>blood_pressure</th>\n",
       "      <th>skin_thick</th>\n",
       "      <th>insulin</th>\n",
       "      <th>bmi</th>\n",
       "      <th>pedigree</th>\n",
       "      <th>age</th>\n",
       "      <th>age_bmi</th>\n",
       "      <th>glu_age</th>\n",
       "      <th>glu_bmi</th>\n",
       "    </tr>\n",
       "  </thead>\n",
       "  <tbody>\n",
       "    <tr>\n",
       "      <th>0</th>\n",
       "      <td>0.068</td>\n",
       "      <td>0.205</td>\n",
       "      <td>-0.199</td>\n",
       "      <td>-0.011</td>\n",
       "      <td>-0.019</td>\n",
       "      <td>0.281</td>\n",
       "      <td>-0.509</td>\n",
       "      <td>-0.771</td>\n",
       "      <td>-0.563</td>\n",
       "      <td>-0.492</td>\n",
       "      <td>0.271</td>\n",
       "    </tr>\n",
       "  </tbody>\n",
       "</table>\n",
       "</div>"
      ],
      "text/plain": [
       "   n_pregnant  glucose  blood_pressure  skin_thick  insulin   bmi  pedigree  \\\n",
       "0       0.068    0.205          -0.199      -0.011   -0.019 0.281    -0.509   \n",
       "\n",
       "     age  age_bmi  glu_age  glu_bmi  \n",
       "0 -0.771   -0.563   -0.492    0.271  "
      ]
     },
     "execution_count": 42,
     "metadata": {},
     "output_type": "execute_result"
    }
   ],
   "source": [
    "X_train_df = pd.DataFrame(X_train_std, columns=X.columns)\n",
    "X_train_df.head(1)"
   ]
  },
  {
   "cell_type": "code",
   "execution_count": 43,
   "metadata": {
    "collapsed": false
   },
   "outputs": [
    {
     "data": {
      "text/html": [
       "<div>\n",
       "<table border=\"1\" class=\"dataframe\">\n",
       "  <thead>\n",
       "    <tr style=\"text-align: right;\">\n",
       "      <th></th>\n",
       "      <th>n_pregnant</th>\n",
       "      <th>glucose</th>\n",
       "      <th>blood_pressure</th>\n",
       "      <th>skin_thick</th>\n",
       "      <th>insulin</th>\n",
       "      <th>bmi</th>\n",
       "      <th>pedigree</th>\n",
       "      <th>age</th>\n",
       "      <th>age_bmi</th>\n",
       "      <th>glu_age</th>\n",
       "      <th>glu_bmi</th>\n",
       "      <th>cluster_1</th>\n",
       "      <th>cluster_2</th>\n",
       "    </tr>\n",
       "  </thead>\n",
       "  <tbody>\n",
       "    <tr>\n",
       "      <th>0</th>\n",
       "      <td>0.068</td>\n",
       "      <td>0.205</td>\n",
       "      <td>-0.199</td>\n",
       "      <td>-0.011</td>\n",
       "      <td>-0.019</td>\n",
       "      <td>0.281</td>\n",
       "      <td>-0.509</td>\n",
       "      <td>-0.771</td>\n",
       "      <td>-0.563</td>\n",
       "      <td>-0.492</td>\n",
       "      <td>0.271</td>\n",
       "      <td>1.000</td>\n",
       "      <td>0.000</td>\n",
       "    </tr>\n",
       "    <tr>\n",
       "      <th>1</th>\n",
       "      <td>-1.137</td>\n",
       "      <td>-0.574</td>\n",
       "      <td>0.314</td>\n",
       "      <td>-0.011</td>\n",
       "      <td>-0.019</td>\n",
       "      <td>-2.053</td>\n",
       "      <td>0.322</td>\n",
       "      <td>-0.504</td>\n",
       "      <td>-1.338</td>\n",
       "      <td>-0.624</td>\n",
       "      <td>-1.406</td>\n",
       "      <td>1.000</td>\n",
       "      <td>0.000</td>\n",
       "    </tr>\n",
       "  </tbody>\n",
       "</table>\n",
       "</div>"
      ],
      "text/plain": [
       "   n_pregnant  glucose  blood_pressure  skin_thick  insulin    bmi  pedigree  \\\n",
       "0       0.068    0.205          -0.199      -0.011   -0.019  0.281    -0.509   \n",
       "1      -1.137   -0.574           0.314      -0.011   -0.019 -2.053     0.322   \n",
       "\n",
       "     age  age_bmi  glu_age  glu_bmi  cluster_1  cluster_2  \n",
       "0 -0.771   -0.563   -0.492    0.271      1.000      0.000  \n",
       "1 -0.504   -1.338   -0.624   -1.406      1.000      0.000  "
      ]
     },
     "execution_count": 43,
     "metadata": {},
     "output_type": "execute_result"
    }
   ],
   "source": [
    "# Create the training Dataframe, withe the cluster labels added\n",
    "X_train_cl = pd.concat([X_train_df, cl_df], axis=1)\n",
    "#X_train_cl = pd.concat([X_train_std, cl_df], axis=1)\n",
    "X_train_cl.head(2)"
   ]
  },
  {
   "cell_type": "code",
   "execution_count": 44,
   "metadata": {
    "collapsed": false
   },
   "outputs": [
    {
     "data": {
      "text/html": [
       "<div>\n",
       "<table border=\"1\" class=\"dataframe\">\n",
       "  <thead>\n",
       "    <tr style=\"text-align: right;\">\n",
       "      <th></th>\n",
       "      <th>n_pregnant</th>\n",
       "      <th>glucose</th>\n",
       "      <th>blood_pressure</th>\n",
       "      <th>skin_thick</th>\n",
       "      <th>insulin</th>\n",
       "      <th>bmi</th>\n",
       "      <th>pedigree</th>\n",
       "      <th>age</th>\n",
       "      <th>age_bmi</th>\n",
       "      <th>glu_age</th>\n",
       "      <th>glu_bmi</th>\n",
       "    </tr>\n",
       "  </thead>\n",
       "  <tbody>\n",
       "    <tr>\n",
       "      <th>0</th>\n",
       "      <td>-0.233</td>\n",
       "      <td>0.563</td>\n",
       "      <td>-1.566</td>\n",
       "      <td>-0.011</td>\n",
       "      <td>-0.019</td>\n",
       "      <td>-0.996</td>\n",
       "      <td>-0.215</td>\n",
       "      <td>-0.949</td>\n",
       "      <td>-1.180</td>\n",
       "      <td>-0.499</td>\n",
       "      <td>-0.292</td>\n",
       "    </tr>\n",
       "  </tbody>\n",
       "</table>\n",
       "</div>"
      ],
      "text/plain": [
       "   n_pregnant  glucose  blood_pressure  skin_thick  insulin    bmi  pedigree  \\\n",
       "0      -0.233    0.563          -1.566      -0.011   -0.019 -0.996    -0.215   \n",
       "\n",
       "     age  age_bmi  glu_age  glu_bmi  \n",
       "0 -0.949   -1.180   -0.499   -0.292  "
      ]
     },
     "execution_count": 44,
     "metadata": {},
     "output_type": "execute_result"
    }
   ],
   "source": [
    "X_test_df = pd.DataFrame(X_test_std, columns=X.columns)\n",
    "X_test_df.head(1)"
   ]
  },
  {
   "cell_type": "code",
   "execution_count": 45,
   "metadata": {
    "collapsed": false
   },
   "outputs": [
    {
     "data": {
      "text/html": [
       "<div>\n",
       "<table border=\"1\" class=\"dataframe\">\n",
       "  <thead>\n",
       "    <tr style=\"text-align: right;\">\n",
       "      <th></th>\n",
       "      <th>n_pregnant</th>\n",
       "      <th>glucose</th>\n",
       "      <th>blood_pressure</th>\n",
       "      <th>skin_thick</th>\n",
       "      <th>insulin</th>\n",
       "      <th>bmi</th>\n",
       "      <th>pedigree</th>\n",
       "      <th>age</th>\n",
       "      <th>age_bmi</th>\n",
       "      <th>glu_age</th>\n",
       "      <th>glu_bmi</th>\n",
       "      <th>cluster_1</th>\n",
       "      <th>cluster_2</th>\n",
       "    </tr>\n",
       "  </thead>\n",
       "  <tbody>\n",
       "    <tr>\n",
       "      <th>0</th>\n",
       "      <td>-0.233</td>\n",
       "      <td>0.563</td>\n",
       "      <td>-1.566</td>\n",
       "      <td>-0.011</td>\n",
       "      <td>-0.019</td>\n",
       "      <td>-0.996</td>\n",
       "      <td>-0.215</td>\n",
       "      <td>-0.949</td>\n",
       "      <td>-1.180</td>\n",
       "      <td>-0.499</td>\n",
       "      <td>-0.292</td>\n",
       "      <td>1.000</td>\n",
       "      <td>0.000</td>\n",
       "    </tr>\n",
       "    <tr>\n",
       "      <th>1</th>\n",
       "      <td>-0.836</td>\n",
       "      <td>-1.581</td>\n",
       "      <td>-1.908</td>\n",
       "      <td>-2.281</td>\n",
       "      <td>-0.019</td>\n",
       "      <td>-1.378</td>\n",
       "      <td>-0.673</td>\n",
       "      <td>-1.038</td>\n",
       "      <td>-1.371</td>\n",
       "      <td>-1.257</td>\n",
       "      <td>-1.564</td>\n",
       "      <td>1.000</td>\n",
       "      <td>0.000</td>\n",
       "    </tr>\n",
       "  </tbody>\n",
       "</table>\n",
       "</div>"
      ],
      "text/plain": [
       "   n_pregnant  glucose  blood_pressure  skin_thick  insulin    bmi  pedigree  \\\n",
       "0      -0.233    0.563          -1.566      -0.011   -0.019 -0.996    -0.215   \n",
       "1      -0.836   -1.581          -1.908      -2.281   -0.019 -1.378    -0.673   \n",
       "\n",
       "     age  age_bmi  glu_age  glu_bmi  cluster_1  cluster_2  \n",
       "0 -0.949   -1.180   -0.499   -0.292      1.000      0.000  \n",
       "1 -1.038   -1.371   -1.257   -1.564      1.000      0.000  "
      ]
     },
     "execution_count": 45,
     "metadata": {},
     "output_type": "execute_result"
    }
   ],
   "source": [
    "# Create the new test data frame with the cluster labels added\n",
    "test_cl = km.predict(X_test_df)\n",
    "test_cl_df = pd.DataFrame(test_cl, columns=['cluster'])\n",
    "# add dummies\n",
    "test_cl_df['cluster'] = test_cl_df['cluster'].astype('category')\n",
    "test_cl_df = pd.get_dummies(test_cl_df)\n",
    "test_cl_df.drop('cluster_0', axis=1, inplace=True)\n",
    "\n",
    "X_test_cl = pd.concat([X_test_df, test_cl_df], axis=1)\n",
    "X_test_cl.head(2)"
   ]
  },
  {
   "cell_type": "markdown",
   "metadata": {},
   "source": [
    "### k_Means and Neive Bayes  NOW - (Best Predictor) "
   ]
  },
  {
   "cell_type": "code",
   "execution_count": 46,
   "metadata": {
    "collapsed": false
   },
   "outputs": [
    {
     "data": {
      "text/plain": [
       "GaussianNB()"
      ]
     },
     "execution_count": 46,
     "metadata": {},
     "output_type": "execute_result"
    }
   ],
   "source": [
    "best_nb_cl = GaussianNB()\n",
    "best_nb_cl.fit(X_train_cl, y_train)"
   ]
  },
  {
   "cell_type": "code",
   "execution_count": 47,
   "metadata": {
    "collapsed": false
   },
   "outputs": [
    {
     "name": "stderr",
     "output_type": "stream",
     "text": [
      "/Users/jsmithson/anaconda/lib/python2.7/site-packages/matplotlib/collections.py:590: FutureWarning: elementwise comparison failed; returning scalar instead, but in the future will perform elementwise comparison\n",
      "  if self._edgecolors == str('face'):\n"
     ]
    },
    {
     "data": {
      "image/png": "[encoded data removed]",
      "text/plain": [
       "<matplotlib.figure.Figure at 0x10a276c10>"
      ]
     },
     "metadata": {},
     "output_type": "display_data"
    }
   ],
   "source": [
    "draw_learning_curve(best_nb_cl, X_train_cl, y_train, estimator_titles=['Learning Curve for NB'], \n",
    "                    cv=cv, scoring=scoring);"
   ]
  },
  {
   "cell_type": "code",
   "execution_count": 48,
   "metadata": {
    "collapsed": false
   },
   "outputs": [
    {
     "name": "stdout",
     "output_type": "stream",
     "text": [
      "CV Recall [ 0.51282051  0.74418605  0.63414634  0.68571429  0.63157895  0.65853659\n",
      "  0.58064516  0.56521739  0.64705882  0.675     ], Average Recall 0.633490409537\n"
     ]
    }
   ],
   "source": [
    "# Evaluate the decision tree using cross-validation; use recall as the evaluation metric.\n",
    "scores = cross_val_score(best_nb_cl, X_train_cl, y_train, scoring=scoring, cv=cv)\n",
    "print('CV Recall {}, Average Recall {}'.format(scores, scores.mean()))"
   ]
  },
  {
   "cell_type": "code",
   "execution_count": 49,
   "metadata": {
    "collapsed": true
   },
   "outputs": [],
   "source": [
    "# class predictions \n",
    "y_pred_class = best_nb_cl.predict(X_test_cl)"
   ]
  },
  {
   "cell_type": "code",
   "execution_count": 50,
   "metadata": {
    "collapsed": false
   },
   "outputs": [
    {
     "data": {
      "text/plain": [
       "0.75862068965517238"
      ]
     },
     "execution_count": 50,
     "metadata": {},
     "output_type": "execute_result"
    }
   ],
   "source": [
    "# calculate classification recall\n",
    "recall_score = metrics.recall_score(y_test, y_pred_class)\n",
    "recall_score"
   ]
  },
  {
   "cell_type": "code",
   "execution_count": 51,
   "metadata": {
    "collapsed": false
   },
   "outputs": [
    {
     "data": {
      "text/plain": [
       "0.74172185430463577"
      ]
     },
     "execution_count": 51,
     "metadata": {},
     "output_type": "execute_result"
    }
   ],
   "source": [
    "# Get accuracy score for Test Data\n",
    "acc_score = best_nb_cl.score(X_test_cl, y_test)\n",
    "acc_score"
   ]
  },
  {
   "cell_type": "code",
   "execution_count": 52,
   "metadata": {
    "collapsed": false
   },
   "outputs": [
    {
     "name": "stdout",
     "output_type": "stream",
     "text": [
      "10000 loops, best of 3: 119 µs per loop\n",
      "118.571090698\n"
     ]
    }
   ],
   "source": [
    "# BEST logreg time\n",
    "time = %timeit -o best_nb_cl.predict(X_test_cl)\n",
    "print time.best * 1000000"
   ]
  },
  {
   "cell_type": "markdown",
   "metadata": {},
   "source": [
    "### k_Means and Logistical Regression (Best Predictor) - NOW (Worst Predictor # 2)"
   ]
  },
  {
   "cell_type": "code",
   "execution_count": 53,
   "metadata": {
    "collapsed": true
   },
   "outputs": [],
   "source": [
    "lr_cl = LogisticRegression()"
   ]
  },
  {
   "cell_type": "code",
   "execution_count": 54,
   "metadata": {
    "collapsed": false
   },
   "outputs": [
    {
     "data": {
      "text/plain": [
       "GridSearchCV(cv=ShuffleSplit(601, n_iter=10, test_size=0.2, random_state=0),\n",
       "       error_score='raise',\n",
       "       estimator=LogisticRegression(C=1.0, class_weight=None, dual=False, fit_intercept=True,\n",
       "          intercept_scaling=1, max_iter=100, multi_class='ovr',\n",
       "          penalty='l2', random_state=None, solver='liblinear', tol=0.0001,\n",
       "          verbose=0),\n",
       "       fit_params={}, iid=True, loss_func=None, n_jobs=1,\n",
       "       param_grid={'penalty': ['l1', 'l2'], 'C': array([ 0.01   ,  0.01474,  0.01947,  0.02421,  0.02895,  0.03368,\n",
       "        0.03842,  0.04316,  0.04789,  0.05263,  0.05737,  0.06211,\n",
       "        0.06684,  0.07158,  0.07632,  0.08105,  0.08579,  0.09053,\n",
       "        0.09526,  0.1    ])},\n",
       "       pre_dispatch='2*n_jobs', refit=True, score_func=None,\n",
       "       scoring='recall', verbose=0)"
      ]
     },
     "execution_count": 54,
     "metadata": {},
     "output_type": "execute_result"
    }
   ],
   "source": [
    "# Tune Parameters using Gridsearch\n",
    "#parameters = {'C': np.linspace(0.0000000001,2,20), 'penalty': ['l1', 'l2']}\n",
    "parameters = {'C': np.linspace(0.01,.1,20), 'penalty': ['l1', 'l2']}\n",
    "#parameters = {'penalty': ['l1', 'l2']}\n",
    "clf_cl = GridSearchCV(lr_cl, parameters, cv=cv, scoring=scoring)\n",
    "clf_cl.fit(X_train_cl, y_train)"
   ]
  },
  {
   "cell_type": "code",
   "execution_count": 55,
   "metadata": {
    "collapsed": false
   },
   "outputs": [
    {
     "data": {
      "text/plain": [
       "{'C': 0.01, 'penalty': 'l1'}"
      ]
     },
     "execution_count": 55,
     "metadata": {},
     "output_type": "execute_result"
    }
   ],
   "source": [
    "clf_cl.best_params_"
   ]
  },
  {
   "cell_type": "code",
   "execution_count": 56,
   "metadata": {
    "collapsed": false
   },
   "outputs": [
    {
     "data": {
      "text/plain": [
       "[mean: 0.67620, std: 0.06742, params: {'penalty': 'l1', 'C': 0.01},\n",
       " mean: 0.56807, std: 0.08267, params: {'penalty': 'l2', 'C': 0.01},\n",
       " mean: 0.60572, std: 0.07210, params: {'penalty': 'l1', 'C': 0.014736842105263159},\n",
       " mean: 0.55881, std: 0.07672, params: {'penalty': 'l2', 'C': 0.014736842105263159},\n",
       " mean: 0.55579, std: 0.08203, params: {'penalty': 'l1', 'C': 0.019473684210526317},\n",
       " mean: 0.54948, std: 0.07141, params: {'penalty': 'l2', 'C': 0.019473684210526317},\n",
       " mean: 0.53338, std: 0.07557, params: {'penalty': 'l1', 'C': 0.024210526315789474},\n",
       " mean: 0.54191, std: 0.07081, params: {'penalty': 'l2', 'C': 0.024210526315789474},\n",
       " mean: 0.53044, std: 0.07674, params: {'penalty': 'l1', 'C': 0.028947368421052631},\n",
       " mean: 0.53715, std: 0.06791, params: {'penalty': 'l2', 'C': 0.028947368421052631},\n",
       " mean: 0.51655, std: 0.08412, params: {'penalty': 'l1', 'C': 0.033684210526315789},\n",
       " mean: 0.53727, std: 0.06291, params: {'penalty': 'l2', 'C': 0.033684210526315789},\n",
       " mean: 0.51440, std: 0.08030, params: {'penalty': 'l1', 'C': 0.038421052631578953},\n",
       " mean: 0.53240, std: 0.06555, params: {'penalty': 'l2', 'C': 0.038421052631578953},\n",
       " mean: 0.51011, std: 0.07912, params: {'penalty': 'l1', 'C': 0.04315789473684211},\n",
       " mean: 0.53240, std: 0.06555, params: {'penalty': 'l2', 'C': 0.04315789473684211},\n",
       " mean: 0.50364, std: 0.07394, params: {'penalty': 'l1', 'C': 0.047894736842105268},\n",
       " mean: 0.52572, std: 0.06805, params: {'penalty': 'l2', 'C': 0.047894736842105268},\n",
       " mean: 0.50114, std: 0.07445, params: {'penalty': 'l1', 'C': 0.052631578947368425},\n",
       " mean: 0.52126, std: 0.06533, params: {'penalty': 'l2', 'C': 0.052631578947368425},\n",
       " mean: 0.49860, std: 0.07693, params: {'penalty': 'l1', 'C': 0.057368421052631582},\n",
       " mean: 0.51632, std: 0.06716, params: {'penalty': 'l2', 'C': 0.057368421052631582},\n",
       " mean: 0.50104, std: 0.07458, params: {'penalty': 'l1', 'C': 0.06210526315789474},\n",
       " mean: 0.51632, std: 0.06716, params: {'penalty': 'l2', 'C': 0.06210526315789474},\n",
       " mean: 0.50104, std: 0.07458, params: {'penalty': 'l1', 'C': 0.066842105263157897},\n",
       " mean: 0.51632, std: 0.06716, params: {'penalty': 'l2', 'C': 0.066842105263157897},\n",
       " mean: 0.49908, std: 0.07354, params: {'penalty': 'l1', 'C': 0.071578947368421061},\n",
       " mean: 0.51240, std: 0.06391, params: {'penalty': 'l2', 'C': 0.071578947368421061},\n",
       " mean: 0.49664, std: 0.07586, params: {'penalty': 'l1', 'C': 0.076315789473684212},\n",
       " mean: 0.51526, std: 0.06944, params: {'penalty': 'l2', 'C': 0.076315789473684212},\n",
       " mean: 0.49664, std: 0.07586, params: {'penalty': 'l1', 'C': 0.081052631578947362},\n",
       " mean: 0.51293, std: 0.06755, params: {'penalty': 'l2', 'C': 0.081052631578947362},\n",
       " mean: 0.49897, std: 0.07664, params: {'penalty': 'l1', 'C': 0.085789473684210527},\n",
       " mean: 0.51293, std: 0.06755, params: {'penalty': 'l2', 'C': 0.085789473684210527},\n",
       " mean: 0.50141, std: 0.07427, params: {'penalty': 'l1', 'C': 0.090526315789473691},\n",
       " mean: 0.51293, std: 0.06755, params: {'penalty': 'l2', 'C': 0.090526315789473691},\n",
       " mean: 0.49908, std: 0.07354, params: {'penalty': 'l1', 'C': 0.095263157894736841},\n",
       " mean: 0.51267, std: 0.06761, params: {'penalty': 'l2', 'C': 0.095263157894736841},\n",
       " mean: 0.50141, std: 0.07427, params: {'penalty': 'l1', 'C': 0.10000000000000001},\n",
       " mean: 0.51267, std: 0.06761, params: {'penalty': 'l2', 'C': 0.10000000000000001}]"
      ]
     },
     "execution_count": 56,
     "metadata": {},
     "output_type": "execute_result"
    }
   ],
   "source": [
    "clf_cl.grid_scores_"
   ]
  },
  {
   "cell_type": "code",
   "execution_count": 57,
   "metadata": {
    "collapsed": true
   },
   "outputs": [],
   "source": [
    "#best_lr_cl = clf_cl.best_estimator_"
   ]
  },
  {
   "cell_type": "markdown",
   "metadata": {},
   "source": [
    "#### override the gridseearch and pick C myself"
   ]
  },
  {
   "cell_type": "code",
   "execution_count": 58,
   "metadata": {
    "collapsed": true
   },
   "outputs": [],
   "source": [
    "best_lr_cl = LogisticRegression(C=.038, penalty='l1')"
   ]
  },
  {
   "cell_type": "code",
   "execution_count": 59,
   "metadata": {
    "collapsed": false
   },
   "outputs": [
    {
     "data": {
      "text/plain": [
       "LogisticRegression(C=0.038, class_weight=None, dual=False, fit_intercept=True,\n",
       "          intercept_scaling=1, max_iter=100, multi_class='ovr',\n",
       "          penalty='l1', random_state=None, solver='liblinear', tol=0.0001,\n",
       "          verbose=0)"
      ]
     },
     "execution_count": 59,
     "metadata": {},
     "output_type": "execute_result"
    }
   ],
   "source": [
    "# Run model with BEST Coefficients\n",
    "best_lr_cl.fit(X_train_cl, y_train)"
   ]
  },
  {
   "cell_type": "code",
   "execution_count": 60,
   "metadata": {
    "collapsed": false
   },
   "outputs": [
    {
     "data": {
      "text/html": [
       "<div>\n",
       "<table border=\"1\" class=\"dataframe\">\n",
       "  <thead>\n",
       "    <tr style=\"text-align: right;\">\n",
       "      <th></th>\n",
       "      <th>coefficients</th>\n",
       "      <th>features</th>\n",
       "    </tr>\n",
       "  </thead>\n",
       "  <tbody>\n",
       "    <tr>\n",
       "      <th>0</th>\n",
       "      <td>0.143</td>\n",
       "      <td>n_pregnant</td>\n",
       "    </tr>\n",
       "    <tr>\n",
       "      <th>1</th>\n",
       "      <td>0.250</td>\n",
       "      <td>glucose</td>\n",
       "    </tr>\n",
       "    <tr>\n",
       "      <th>2</th>\n",
       "      <td>0.000</td>\n",
       "      <td>blood_pressure</td>\n",
       "    </tr>\n",
       "    <tr>\n",
       "      <th>3</th>\n",
       "      <td>0.000</td>\n",
       "      <td>skin_thick</td>\n",
       "    </tr>\n",
       "    <tr>\n",
       "      <th>4</th>\n",
       "      <td>0.000</td>\n",
       "      <td>insulin</td>\n",
       "    </tr>\n",
       "    <tr>\n",
       "      <th>5</th>\n",
       "      <td>0.000</td>\n",
       "      <td>bmi</td>\n",
       "    </tr>\n",
       "    <tr>\n",
       "      <th>6</th>\n",
       "      <td>0.025</td>\n",
       "      <td>pedigree</td>\n",
       "    </tr>\n",
       "    <tr>\n",
       "      <th>7</th>\n",
       "      <td>0.000</td>\n",
       "      <td>age</td>\n",
       "    </tr>\n",
       "    <tr>\n",
       "      <th>8</th>\n",
       "      <td>0.029</td>\n",
       "      <td>age_bmi</td>\n",
       "    </tr>\n",
       "    <tr>\n",
       "      <th>9</th>\n",
       "      <td>0.073</td>\n",
       "      <td>glu_age</td>\n",
       "    </tr>\n",
       "    <tr>\n",
       "      <th>10</th>\n",
       "      <td>0.677</td>\n",
       "      <td>glu_bmi</td>\n",
       "    </tr>\n",
       "    <tr>\n",
       "      <th>11</th>\n",
       "      <td>-0.045</td>\n",
       "      <td>cluster_1</td>\n",
       "    </tr>\n",
       "    <tr>\n",
       "      <th>12</th>\n",
       "      <td>0.000</td>\n",
       "      <td>cluster_2</td>\n",
       "    </tr>\n",
       "  </tbody>\n",
       "</table>\n",
       "</div>"
      ],
      "text/plain": [
       "    coefficients        features\n",
       "0          0.143      n_pregnant\n",
       "1          0.250         glucose\n",
       "2          0.000  blood_pressure\n",
       "3          0.000      skin_thick\n",
       "4          0.000         insulin\n",
       "5          0.000             bmi\n",
       "6          0.025        pedigree\n",
       "7          0.000             age\n",
       "8          0.029         age_bmi\n",
       "9          0.073         glu_age\n",
       "10         0.677         glu_bmi\n",
       "11        -0.045       cluster_1\n",
       "12         0.000       cluster_2"
      ]
     },
     "execution_count": 60,
     "metadata": {},
     "output_type": "execute_result"
    }
   ],
   "source": [
    "# coefficients close to 0 aren't very helpful\n",
    "pd.DataFrame({'features': X_train_cl.columns, 'coefficients': best_lr_cl.coef_[0]})"
   ]
  },
  {
   "cell_type": "code",
   "execution_count": 61,
   "metadata": {
    "collapsed": false
   },
   "outputs": [
    {
     "data": {
      "text/plain": [
       "<module 'matplotlib.pyplot' from '/Users/jsmithson/anaconda/lib/python2.7/site-packages/matplotlib/pyplot.pyc'>"
      ]
     },
     "execution_count": 61,
     "metadata": {},
     "output_type": "execute_result"
    },
    {
     "data": {
      "image/png": "[encoded data removed]",
      "text/plain": [
       "<matplotlib.figure.Figure at 0x10a6ecf90>"
      ]
     },
     "metadata": {},
     "output_type": "display_data"
    }
   ],
   "source": [
    "draw_learning_curve(best_lr_cl, X_train_cl, y_train, estimator_titles=['Learning Curve for RF'], \n",
    "                    cv=cv, scoring=scoring);\n",
    "#plot_learning_curve(best_lr_cl, 'Learning Curve for logreg', best_lr_cl, y_train, cv=cv, scoring=scoring);"
   ]
  },
  {
   "cell_type": "code",
   "execution_count": 62,
   "metadata": {
    "collapsed": true
   },
   "outputs": [],
   "source": [
    "# class predictions (not predicted probabilities)\n",
    "y_pred_class = best_lr_cl.predict(X_test_cl)"
   ]
  },
  {
   "cell_type": "code",
   "execution_count": 63,
   "metadata": {
    "collapsed": false
   },
   "outputs": [
    {
     "data": {
      "text/plain": [
       "0.62068965517241381"
      ]
     },
     "execution_count": 63,
     "metadata": {},
     "output_type": "execute_result"
    }
   ],
   "source": [
    "# calculate classification accuracy\n",
    "recall_score = metrics.recall_score(y_test, y_pred_class)\n",
    "recall_score"
   ]
  },
  {
   "cell_type": "code",
   "execution_count": 64,
   "metadata": {
    "collapsed": false
   },
   "outputs": [
    {
     "data": {
      "text/plain": [
       "0.78807947019867552"
      ]
     },
     "execution_count": 64,
     "metadata": {},
     "output_type": "execute_result"
    }
   ],
   "source": [
    "best_lr_cl.score(X_test_cl, y_test)"
   ]
  },
  {
   "cell_type": "code",
   "execution_count": 65,
   "metadata": {
    "collapsed": false
   },
   "outputs": [
    {
     "name": "stdout",
     "output_type": "stream",
     "text": [
      "The slowest run took 4.04 times longer than the fastest. This could mean that an intermediate result is being cached \n",
      "10000 loops, best of 3: 47.5 µs per loop\n",
      "47.522187233\n"
     ]
    }
   ],
   "source": [
    "# BEST logreg time\n",
    "time = %timeit -o best_lr_cl.predict(X_test_cl)\n",
    "print time.best * 1000000"
   ]
  },
  {
   "cell_type": "markdown",
   "metadata": {},
   "source": [
    "### k_Means and Random Forest (Worst Predictor)"
   ]
  },
  {
   "cell_type": "code",
   "execution_count": 66,
   "metadata": {
    "collapsed": true
   },
   "outputs": [],
   "source": [
    "rf_cl = RandomForestClassifier()"
   ]
  },
  {
   "cell_type": "code",
   "execution_count": 67,
   "metadata": {
    "collapsed": false
   },
   "outputs": [
    {
     "data": {
      "text/plain": [
       "{'n_estimators': 61}"
      ]
     },
     "execution_count": 67,
     "metadata": {},
     "output_type": "execute_result"
    }
   ],
   "source": [
    "parameters = {'n_estimators': range(1, 200, 10)}\n",
    "clf = GridSearchCV(rf_cl, parameters, cv=cv)\n",
    "clf.fit(X_train_cl, y_train)\n",
    "clf.best_params_\n",
    "\n"
   ]
  },
  {
   "cell_type": "code",
   "execution_count": 68,
   "metadata": {
    "collapsed": true
   },
   "outputs": [],
   "source": [
    "best_rf_cl = clf.best_estimator_"
   ]
  },
  {
   "cell_type": "code",
   "execution_count": 69,
   "metadata": {
    "collapsed": false
   },
   "outputs": [
    {
     "data": {
      "image/png": "[encoded data removed]",
      "text/plain": [
       "<matplotlib.figure.Figure at 0x10a90e850>"
      ]
     },
     "metadata": {},
     "output_type": "display_data"
    }
   ],
   "source": [
    "# Look at Learning Curve\n",
    "draw_learning_curve(best_rf_cl, X_train_cl, y_train, estimator_titles=['Learning Curve for RF'], \n",
    "                    cv=cv, scoring=scoring);\n"
   ]
  },
  {
   "cell_type": "code",
   "execution_count": 70,
   "metadata": {
    "collapsed": false
   },
   "outputs": [
    {
     "name": "stdout",
     "output_type": "stream",
     "text": [
      "CV score [ 0.57142857  0.51219512  0.53658537  0.56097561  0.63414634], Average score 0.563066202091\n"
     ]
    }
   ],
   "source": [
    "# Evaluate the decision tree using cross-validation; use recall as the evaluation metric.\n",
    "scores = cross_val_score(best_rf_cl, X_train_cl, y_train, scoring=scoring, cv=5)\n",
    "print('CV score {}, Average score {}'.format(scores, scores.mean()))"
   ]
  },
  {
   "cell_type": "code",
   "execution_count": 71,
   "metadata": {
    "collapsed": true
   },
   "outputs": [],
   "source": [
    "# class predictions \n",
    "y_pred_class = best_rf_cl.predict(X_test_cl)"
   ]
  },
  {
   "cell_type": "code",
   "execution_count": 72,
   "metadata": {
    "collapsed": false
   },
   "outputs": [
    {
     "data": {
      "text/plain": [
       "0.62068965517241381"
      ]
     },
     "execution_count": 72,
     "metadata": {},
     "output_type": "execute_result"
    }
   ],
   "source": [
    "# calculate classification recall\n",
    "recall_score = metrics.recall_score(y_test, y_pred_class)\n",
    "recall_score"
   ]
  },
  {
   "cell_type": "code",
   "execution_count": 73,
   "metadata": {
    "collapsed": false
   },
   "outputs": [
    {
     "data": {
      "text/plain": [
       "0.76158940397350994"
      ]
     },
     "execution_count": 73,
     "metadata": {},
     "output_type": "execute_result"
    }
   ],
   "source": [
    "best_rf_cl.score(X_test_cl, y_test)"
   ]
  },
  {
   "cell_type": "code",
   "execution_count": 74,
   "metadata": {
    "collapsed": false
   },
   "outputs": [
    {
     "name": "stdout",
     "output_type": "stream",
     "text": [
      "100 loops, best of 3: 3.22 ms per loop\n",
      "3216.46213531\n"
     ]
    }
   ],
   "source": [
    "# BEST rf time\n",
    "time = %timeit -o best_rf_cl.predict(X_test_cl)\n",
    "print time.best * 1000000"
   ]
  },
  {
   "cell_type": "code",
   "execution_count": 75,
   "metadata": {
    "collapsed": false
   },
   "outputs": [
    {
     "data": {
      "text/html": [
       "<div>\n",
       "<table border=\"1\" class=\"dataframe\">\n",
       "  <thead>\n",
       "    <tr style=\"text-align: right;\">\n",
       "      <th></th>\n",
       "      <th>Features</th>\n",
       "      <th>Importance Score</th>\n",
       "    </tr>\n",
       "  </thead>\n",
       "  <tbody>\n",
       "    <tr>\n",
       "      <th>10</th>\n",
       "      <td>glu_bmi</td>\n",
       "      <td>0.155</td>\n",
       "    </tr>\n",
       "    <tr>\n",
       "      <th>9</th>\n",
       "      <td>glu_age</td>\n",
       "      <td>0.126</td>\n",
       "    </tr>\n",
       "    <tr>\n",
       "      <th>1</th>\n",
       "      <td>glucose</td>\n",
       "      <td>0.126</td>\n",
       "    </tr>\n",
       "    <tr>\n",
       "      <th>8</th>\n",
       "      <td>age_bmi</td>\n",
       "      <td>0.108</td>\n",
       "    </tr>\n",
       "    <tr>\n",
       "      <th>5</th>\n",
       "      <td>bmi</td>\n",
       "      <td>0.092</td>\n",
       "    </tr>\n",
       "    <tr>\n",
       "      <th>6</th>\n",
       "      <td>pedigree</td>\n",
       "      <td>0.082</td>\n",
       "    </tr>\n",
       "    <tr>\n",
       "      <th>7</th>\n",
       "      <td>age</td>\n",
       "      <td>0.059</td>\n",
       "    </tr>\n",
       "    <tr>\n",
       "      <th>4</th>\n",
       "      <td>insulin</td>\n",
       "      <td>0.054</td>\n",
       "    </tr>\n",
       "    <tr>\n",
       "      <th>0</th>\n",
       "      <td>n_pregnant</td>\n",
       "      <td>0.051</td>\n",
       "    </tr>\n",
       "    <tr>\n",
       "      <th>2</th>\n",
       "      <td>blood_pressure</td>\n",
       "      <td>0.049</td>\n",
       "    </tr>\n",
       "    <tr>\n",
       "      <th>3</th>\n",
       "      <td>skin_thick</td>\n",
       "      <td>0.049</td>\n",
       "    </tr>\n",
       "    <tr>\n",
       "      <th>11</th>\n",
       "      <td>cluster_1</td>\n",
       "      <td>0.041</td>\n",
       "    </tr>\n",
       "    <tr>\n",
       "      <th>12</th>\n",
       "      <td>cluster_2</td>\n",
       "      <td>0.008</td>\n",
       "    </tr>\n",
       "  </tbody>\n",
       "</table>\n",
       "</div>"
      ],
      "text/plain": [
       "          Features  Importance Score\n",
       "10         glu_bmi             0.155\n",
       "9          glu_age             0.126\n",
       "1          glucose             0.126\n",
       "8          age_bmi             0.108\n",
       "5              bmi             0.092\n",
       "6         pedigree             0.082\n",
       "7              age             0.059\n",
       "4          insulin             0.054\n",
       "0       n_pregnant             0.051\n",
       "2   blood_pressure             0.049\n",
       "3       skin_thick             0.049\n",
       "11       cluster_1             0.041\n",
       "12       cluster_2             0.008"
      ]
     },
     "execution_count": 75,
     "metadata": {},
     "output_type": "execute_result"
    }
   ],
   "source": [
    "features = X_train_cl.columns\n",
    "feature_importances = best_rf_cl.feature_importances_\n",
    "\n",
    "features_df = pd.DataFrame({'Features': features, 'Importance Score': feature_importances})\n",
    "features_df.sort_values('Importance Score', inplace=True, ascending=False)\n",
    "\n",
    "features_df"
   ]
  },
  {
   "cell_type": "markdown",
   "metadata": {},
   "source": [
    "## 6 - Use the PCA outputs you got from running PCA above as your features. Rerun your \"worst\" and \"best\" model from HW2, with the PCA features instead of your old features. Describe your results.\n",
    "\n"
   ]
  },
  {
   "cell_type": "markdown",
   "metadata": {},
   "source": [
    "### PCA and Neive Bayes - NOW (Best Predictor) "
   ]
  },
  {
   "cell_type": "code",
   "execution_count": 76,
   "metadata": {
    "collapsed": false
   },
   "outputs": [
    {
     "data": {
      "text/plain": [
       "GaussianNB()"
      ]
     },
     "execution_count": 76,
     "metadata": {},
     "output_type": "execute_result"
    }
   ],
   "source": [
    "best_nb_pca = GaussianNB()\n",
    "best_nb_pca.fit(X_train_pca, y_train)"
   ]
  },
  {
   "cell_type": "code",
   "execution_count": 77,
   "metadata": {
    "collapsed": false
   },
   "outputs": [
    {
     "data": {
      "image/png": "[encoded data removed]",
      "text/plain": [
       "<matplotlib.figure.Figure at 0x10a70c810>"
      ]
     },
     "metadata": {},
     "output_type": "display_data"
    }
   ],
   "source": [
    "draw_learning_curve(best_nb_pca, X_train_pca, y_train, estimator_titles=['Learning Curve for NB'], \n",
    "                    cv=cv, scoring=scoring);"
   ]
  },
  {
   "cell_type": "code",
   "execution_count": 78,
   "metadata": {
    "collapsed": false
   },
   "outputs": [
    {
     "name": "stdout",
     "output_type": "stream",
     "text": [
      "CV Recall [ 0.35897436  0.60465116  0.3902439   0.62857143  0.60526316  0.48780488\n",
      "  0.51612903  0.47826087  0.56862745  0.5       ], Average Recall 0.513852624152\n"
     ]
    }
   ],
   "source": [
    "# Evaluate the decision tree using cross-validation; use recall as the evaluation metric.\n",
    "scores = cross_val_score(best_nb_pca, X_train_pca, y_train, scoring=scoring, cv=cv)\n",
    "print('CV Recall {}, Average Recall {}'.format(scores, scores.mean()))"
   ]
  },
  {
   "cell_type": "code",
   "execution_count": 79,
   "metadata": {
    "collapsed": true
   },
   "outputs": [],
   "source": [
    "# class predictions \n",
    "y_pred_class = best_nb_pca.predict(X_test_pca)"
   ]
  },
  {
   "cell_type": "code",
   "execution_count": 80,
   "metadata": {
    "collapsed": false
   },
   "outputs": [
    {
     "data": {
      "text/plain": [
       "0.56896551724137934"
      ]
     },
     "execution_count": 80,
     "metadata": {},
     "output_type": "execute_result"
    }
   ],
   "source": [
    "# calculate classification recall\n",
    "recall_score = metrics.recall_score(y_test, y_pred_class)\n",
    "recall_score"
   ]
  },
  {
   "cell_type": "code",
   "execution_count": 81,
   "metadata": {
    "collapsed": false
   },
   "outputs": [
    {
     "data": {
      "text/plain": [
       "0.72185430463576161"
      ]
     },
     "execution_count": 81,
     "metadata": {},
     "output_type": "execute_result"
    }
   ],
   "source": [
    "# Get accuracy score for Test Data\n",
    "acc_score = best_nb_pca.score(X_test_pca, y_test)\n",
    "acc_score"
   ]
  },
  {
   "cell_type": "code",
   "execution_count": 82,
   "metadata": {
    "collapsed": false
   },
   "outputs": [
    {
     "name": "stdout",
     "output_type": "stream",
     "text": [
      "10000 loops, best of 3: 111 µs per loop\n",
      "110.6372118\n"
     ]
    }
   ],
   "source": [
    "# BEST nb time\n",
    "time = %timeit -o best_nb_pca.predict(X_test_pca)\n",
    "print time.best * 1000000"
   ]
  },
  {
   "cell_type": "markdown",
   "metadata": {},
   "source": [
    "### PCA and Logistical Regression (Best Predictor) - NOW (Worst Predictor # 2)"
   ]
  },
  {
   "cell_type": "code",
   "execution_count": 83,
   "metadata": {
    "collapsed": true
   },
   "outputs": [],
   "source": [
    "lr_pca = LogisticRegression()"
   ]
  },
  {
   "cell_type": "code",
   "execution_count": 84,
   "metadata": {
    "collapsed": false
   },
   "outputs": [
    {
     "data": {
      "text/plain": [
       "GridSearchCV(cv=ShuffleSplit(601, n_iter=10, test_size=0.2, random_state=0),\n",
       "       error_score='raise',\n",
       "       estimator=LogisticRegression(C=1.0, class_weight=None, dual=False, fit_intercept=True,\n",
       "          intercept_scaling=1, max_iter=100, multi_class='ovr',\n",
       "          penalty='l2', random_state=None, solver='liblinear', tol=0.0001,\n",
       "          verbose=0),\n",
       "       fit_params={}, iid=True, loss_func=None, n_jobs=1,\n",
       "       param_grid={'penalty': ['l1', 'l2'], 'C': array([  1.00000e-10,   1.05263e-01,   2.10526e-01,   3.15789e-01,\n",
       "         4.21053e-01,   5.26316e-01,   6.31579e-01,   7.36842e-01,\n",
       "         8.42105e-01,   9.47368e-01,   1.05263e+00,   1.15789e+00,\n",
       "         1.26316e+00,   1.36842e+00,   1.47368e+00,   1.57895e+00,\n",
       "         1.68421e+00,   1.78947e+00,   1.89474e+00,   2.00000e+00])},\n",
       "       pre_dispatch='2*n_jobs', refit=True, score_func=None,\n",
       "       scoring='recall', verbose=0)"
      ]
     },
     "execution_count": 84,
     "metadata": {},
     "output_type": "execute_result"
    }
   ],
   "source": [
    "# Tune Parameters using Gridsearch\n",
    "parameters = {'C': np.linspace(0.0000000001,2,20), 'penalty': ['l1', 'l2']}\n",
    "#parameters = {'penalty': ['l1', 'l2']}\n",
    "clf_pca = GridSearchCV(lr_pca, parameters, cv=cv, scoring=scoring)\n",
    "clf_pca.fit(X_train_pca, y_train)"
   ]
  },
  {
   "cell_type": "code",
   "execution_count": 85,
   "metadata": {
    "collapsed": false
   },
   "outputs": [
    {
     "data": {
      "text/plain": [
       "{'C': 0.10526315798947368, 'penalty': 'l1'}"
      ]
     },
     "execution_count": 85,
     "metadata": {},
     "output_type": "execute_result"
    }
   ],
   "source": [
    "clf_pca.best_params_"
   ]
  },
  {
   "cell_type": "code",
   "execution_count": 86,
   "metadata": {
    "collapsed": true
   },
   "outputs": [],
   "source": [
    "best_lr_pca = clf_pca.best_estimator_"
   ]
  },
  {
   "cell_type": "code",
   "execution_count": 87,
   "metadata": {
    "collapsed": false
   },
   "outputs": [
    {
     "data": {
      "text/plain": [
       "LogisticRegression(C=0.10526315798947368, class_weight=None, dual=False,\n",
       "          fit_intercept=True, intercept_scaling=1, max_iter=100,\n",
       "          multi_class='ovr', penalty='l1', random_state=None,\n",
       "          solver='liblinear', tol=0.0001, verbose=0)"
      ]
     },
     "execution_count": 87,
     "metadata": {},
     "output_type": "execute_result"
    }
   ],
   "source": [
    "# Run model with BEST Coefficients\n",
    "best_lr_pca.fit(X_train_pca, y_train)"
   ]
  },
  {
   "cell_type": "code",
   "execution_count": 88,
   "metadata": {
    "collapsed": false
   },
   "outputs": [
    {
     "data": {
      "text/html": [
       "<div>\n",
       "<table border=\"1\" class=\"dataframe\">\n",
       "  <thead>\n",
       "    <tr style=\"text-align: right;\">\n",
       "      <th></th>\n",
       "      <th>coefficients</th>\n",
       "      <th>features</th>\n",
       "    </tr>\n",
       "  </thead>\n",
       "  <tbody>\n",
       "    <tr>\n",
       "      <th>0</th>\n",
       "      <td>-1.148</td>\n",
       "      <td>0</td>\n",
       "    </tr>\n",
       "    <tr>\n",
       "      <th>1</th>\n",
       "      <td>-0.242</td>\n",
       "      <td>1</td>\n",
       "    </tr>\n",
       "    <tr>\n",
       "      <th>2</th>\n",
       "      <td>-0.165</td>\n",
       "      <td>2</td>\n",
       "    </tr>\n",
       "    <tr>\n",
       "      <th>3</th>\n",
       "      <td>-0.056</td>\n",
       "      <td>3</td>\n",
       "    </tr>\n",
       "  </tbody>\n",
       "</table>\n",
       "</div>"
      ],
      "text/plain": [
       "   coefficients  features\n",
       "0        -1.148         0\n",
       "1        -0.242         1\n",
       "2        -0.165         2\n",
       "3        -0.056         3"
      ]
     },
     "execution_count": 88,
     "metadata": {},
     "output_type": "execute_result"
    }
   ],
   "source": [
    "# coefficients close to 0 aren't very helpful\n",
    "pd.DataFrame({'features': X_test_pca.columns, 'coefficients': best_lr_pca.coef_[0]})"
   ]
  },
  {
   "cell_type": "code",
   "execution_count": 89,
   "metadata": {
    "collapsed": false
   },
   "outputs": [
    {
     "data": {
      "text/plain": [
       "<module 'matplotlib.pyplot' from '/Users/jsmithson/anaconda/lib/python2.7/site-packages/matplotlib/pyplot.pyc'>"
      ]
     },
     "execution_count": 89,
     "metadata": {},
     "output_type": "execute_result"
    },
    {
     "data": {
      "image/png": "[encoded data removed]",
      "text/plain": [
       "<matplotlib.figure.Figure at 0x10a26d9d0>"
      ]
     },
     "metadata": {},
     "output_type": "display_data"
    }
   ],
   "source": [
    "\n",
    "# Look at Learning Curve\n",
    "draw_learning_curve(best_lr_pca, X_train_pca, y_train, estimator_titles=['Learning Curve for RF'], \n",
    "                    cv=cv, scoring=scoring);\n",
    "\n",
    "#plot_learning_curve(best_lr_pca, 'Learning Curve for logreg', X_train_pca, y_train, cv=cv, scoring=scoring);"
   ]
  },
  {
   "cell_type": "code",
   "execution_count": 90,
   "metadata": {
    "collapsed": true
   },
   "outputs": [],
   "source": [
    "# class predictions (not predicted probabilities)\n",
    "y_pred_class = best_lr_pca.predict(X_test_pca)"
   ]
  },
  {
   "cell_type": "code",
   "execution_count": 91,
   "metadata": {
    "collapsed": false
   },
   "outputs": [
    {
     "data": {
      "text/plain": [
       "0.55172413793103448"
      ]
     },
     "execution_count": 91,
     "metadata": {},
     "output_type": "execute_result"
    }
   ],
   "source": [
    "# calculate classification accuracy\n",
    "recall_score = metrics.recall_score(y_test, y_pred_class)\n",
    "recall_score"
   ]
  },
  {
   "cell_type": "code",
   "execution_count": 92,
   "metadata": {
    "collapsed": false
   },
   "outputs": [
    {
     "data": {
      "text/plain": [
       "0.73509933774834435"
      ]
     },
     "execution_count": 92,
     "metadata": {},
     "output_type": "execute_result"
    }
   ],
   "source": [
    "best_lr_pca.score(X_test_pca, y_test)"
   ]
  },
  {
   "cell_type": "code",
   "execution_count": 93,
   "metadata": {
    "collapsed": false
   },
   "outputs": [
    {
     "name": "stdout",
     "output_type": "stream",
     "text": [
      "The slowest run took 4.13 times longer than the fastest. This could mean that an intermediate result is being cached \n",
      "10000 loops, best of 3: 47.2 µs per loop\n",
      "47.1989154816\n"
     ]
    }
   ],
   "source": [
    "# BEST logreg time\n",
    "time = %timeit -o best_lr_pca.predict(X_test_pca)\n",
    "# BEST logreg time\n",
    "print time.best * 1000000"
   ]
  },
  {
   "cell_type": "markdown",
   "metadata": {},
   "source": [
    "### PCA and Random Forest (Worst Predictor)"
   ]
  },
  {
   "cell_type": "code",
   "execution_count": 94,
   "metadata": {
    "collapsed": true
   },
   "outputs": [],
   "source": [
    "rf_pca = RandomForestClassifier()"
   ]
  },
  {
   "cell_type": "code",
   "execution_count": 95,
   "metadata": {
    "collapsed": false
   },
   "outputs": [
    {
     "data": {
      "text/plain": [
       "{'n_estimators': 131}"
      ]
     },
     "execution_count": 95,
     "metadata": {},
     "output_type": "execute_result"
    }
   ],
   "source": [
    "parameters = {'n_estimators': range(1, 200, 10)}\n",
    "clf_pca = GridSearchCV(rf_pca, parameters, cv=cv)\n",
    "clf_pca.fit(X_train_pca, y_train)\n",
    "clf_pca.best_params_\n",
    "\n"
   ]
  },
  {
   "cell_type": "code",
   "execution_count": 96,
   "metadata": {
    "collapsed": true
   },
   "outputs": [],
   "source": [
    "best_rf_pca = clf_pca.best_estimator_"
   ]
  },
  {
   "cell_type": "code",
   "execution_count": 97,
   "metadata": {
    "collapsed": false
   },
   "outputs": [
    {
     "data": {
      "image/png": "[encoded data removed]",
      "text/plain": [
       "<matplotlib.figure.Figure at 0x10952aed0>"
      ]
     },
     "metadata": {},
     "output_type": "display_data"
    }
   ],
   "source": [
    "# Look at Learning Curve\n",
    "draw_learning_curve(best_rf_pca, X_train_pca, y_train, estimator_titles=['Learning Curve for RF'], \n",
    "                    cv=cv, scoring=scoring);"
   ]
  },
  {
   "cell_type": "code",
   "execution_count": 98,
   "metadata": {
    "collapsed": false
   },
   "outputs": [
    {
     "name": "stdout",
     "output_type": "stream",
     "text": [
      "CV score [ 0.46153846  0.58139535  0.51219512  0.65714286  0.71052632  0.53658537\n",
      "  0.58064516  0.47826087  0.54901961  0.5       ], Average score 0.556730910981\n"
     ]
    }
   ],
   "source": [
    "# Evaluate the decision tree using cross-validation; use recall as the evaluation metric.\n",
    "scores = cross_val_score(best_rf_pca, X_train_pca, y_train, scoring=scoring, cv=cv)\n",
    "print('CV score {}, Average score {}'.format(scores, scores.mean()))"
   ]
  },
  {
   "cell_type": "code",
   "execution_count": 99,
   "metadata": {
    "collapsed": true
   },
   "outputs": [],
   "source": [
    "# class predictions \n",
    "y_pred_class = best_rf_pca.predict(X_test_pca)"
   ]
  },
  {
   "cell_type": "code",
   "execution_count": 100,
   "metadata": {
    "collapsed": false
   },
   "outputs": [
    {
     "data": {
      "text/plain": [
       "0.53448275862068961"
      ]
     },
     "execution_count": 100,
     "metadata": {},
     "output_type": "execute_result"
    }
   ],
   "source": [
    "# calculate classification recall\n",
    "recall_score = metrics.recall_score(y_test, y_pred_class)\n",
    "recall_score"
   ]
  },
  {
   "cell_type": "code",
   "execution_count": 101,
   "metadata": {
    "collapsed": false
   },
   "outputs": [
    {
     "data": {
      "text/plain": [
       "0.73509933774834435"
      ]
     },
     "execution_count": 101,
     "metadata": {},
     "output_type": "execute_result"
    }
   ],
   "source": [
    "best_rf_pca.score(X_test_pca, y_test)"
   ]
  },
  {
   "cell_type": "code",
   "execution_count": 102,
   "metadata": {
    "collapsed": false
   },
   "outputs": [
    {
     "name": "stdout",
     "output_type": "stream",
     "text": [
      "100 loops, best of 3: 6.81 ms per loop\n",
      "6805.00030518\n"
     ]
    }
   ],
   "source": [
    "# BEST rf time\n",
    "time = %timeit -o best_rf_pca.predict(X_test_pca)\n",
    "print time.best * 1000000"
   ]
  },
  {
   "cell_type": "code",
   "execution_count": 103,
   "metadata": {
    "collapsed": false
   },
   "outputs": [
    {
     "data": {
      "text/html": [
       "<div>\n",
       "<table border=\"1\" class=\"dataframe\">\n",
       "  <thead>\n",
       "    <tr style=\"text-align: right;\">\n",
       "      <th></th>\n",
       "      <th>Features</th>\n",
       "      <th>Importance Score</th>\n",
       "    </tr>\n",
       "  </thead>\n",
       "  <tbody>\n",
       "    <tr>\n",
       "      <th>0</th>\n",
       "      <td>0</td>\n",
       "      <td>0.413</td>\n",
       "    </tr>\n",
       "    <tr>\n",
       "      <th>1</th>\n",
       "      <td>1</td>\n",
       "      <td>0.220</td>\n",
       "    </tr>\n",
       "    <tr>\n",
       "      <th>2</th>\n",
       "      <td>2</td>\n",
       "      <td>0.202</td>\n",
       "    </tr>\n",
       "    <tr>\n",
       "      <th>3</th>\n",
       "      <td>3</td>\n",
       "      <td>0.166</td>\n",
       "    </tr>\n",
       "  </tbody>\n",
       "</table>\n",
       "</div>"
      ],
      "text/plain": [
       "   Features  Importance Score\n",
       "0         0             0.413\n",
       "1         1             0.220\n",
       "2         2             0.202\n",
       "3         3             0.166"
      ]
     },
     "execution_count": 103,
     "metadata": {},
     "output_type": "execute_result"
    }
   ],
   "source": [
    "features = X_train_pca.columns\n",
    "feature_importances = best_rf_pca.feature_importances_\n",
    "\n",
    "features_df = pd.DataFrame({'Features': features, 'Importance Score': feature_importances})\n",
    "features_df.sort_values('Importance Score', inplace=True, ascending=False)\n",
    "\n",
    "features_df"
   ]
  },
  {
   "cell_type": "markdown",
   "metadata": {},
   "source": [
    "## 7 - Give your conclusions on the use of k-Means and PCA on the Diabetes dataset\n",
    "\n",
    "### Scoring"
   ]
  },
  {
   "cell_type": "markdown",
   "metadata": {
    "collapsed": true
   },
   "source": [
    "model|data|recall|accuracy|time\n",
    "-----|----|------|--------|----\n",
    "NB|original|.724|.755|150.24\n",
    "|cluster(3)|.758|.741|118.24\n",
    "|cluster(4)|.741|.755|138.71\n",
    "|pca(4)|.569|.722|110.51\n",
    "|pca(8)|.586|.735|114.75\n",
    "LogReg|original|.603|.788|30.56\n",
    "|cluster(3)|.621|.789|48.09\n",
    "|cluster(4)|.621|.788|47.49\n",
    "|pca(4)|.551|.735|47.37\n",
    "|pca(8)|.569|.768|46.99\n",
    "RF|original|.600|.762|10,072\n",
    "|cluster(3)|.620|.761|3,216\n",
    "|cluster(4)|.638|.755|779\n",
    "|pca(4)|.534|.735|6,805\n",
    "|pca(8)|.672|.781|2,310"
   ]
  },
  {
   "cell_type": "markdown",
   "metadata": {
    "collapsed": true
   },
   "source": [
    "# 7 - Conclusions\n",
    "\n",
    "### Data\n",
    "- Since we are looking for groups in the population that are likely to develop diabetes, clustering should be a help.\n",
    "- There are several correlated features since they are 'halo' features. PCA may help reduce problems.\n",
    "\n",
    "### Clustering\n",
    "- Did have an effect on the scoring. The most was with Naive Bayes. With 3 clusters there was a jump from 72% to 76%.\n",
    "- Smaller increases were seen in LogReg, even though the coefficients were very low.\n",
    "- Random Forests had a small increase, even though the new features had low importance.\n",
    "- Clustering improved the time of Naive Bayes and Random Forest (helping to decide quicker), but slowed down LogReg (more features)\n",
    "\n",
    "### PCA\n",
    "- Using 4 PCA components (80% of variance) actually hurt the performance of all the models. Going from 11 features to 4 just lost too much information. NB and RF had significant time reduction as expected.\n",
    "- PCA did help reduce time, but at a pretty high price.\n",
    "- Naive Bayes was hurt the most. Since it doesn't infer connections between features, reducing the number seems to have crippled it a lot.\n",
    "- Using 8 PCA components (selected because of the drop off of the explained variance after 8 features) did help improve the performance of Random Forest. Perhaps it removed the influence of the highly correlated features.\n",
    "- Naive Bayes and LogReg both still suffered.\n",
    "\n",
    "### Final\n",
    "- Grouping the population with clustering did help with prediction (best model + 5%) without a large time increase. It should be used in this case.\n",
    "\n",
    "- It appears that the effect of adding the halo features in HW2 (which did add correlation) out weight the correlation reduction benefits of PCA. Our best model lost 19% in recall score with a time savings, but not enough to recommend using."
   ]
  },
  {
   "cell_type": "code",
   "execution_count": null,
   "metadata": {
    "collapsed": true
   },
   "outputs": [],
   "source": []
  }
 ],
 "metadata": {
  "kernelspec": {
   "display_name": "Python 2",
   "language": "python",
   "name": "python2"
  },
  "language_info": {
   "codemirror_mode": {
    "name": "ipython",
    "version": 2
   },
   "file_extension": ".py",
   "mimetype": "text/x-python",
   "name": "python",
   "nbconvert_exporter": "python",
   "pygments_lexer": "ipython2",
   "version": "2.7.11"
  }
 },
 "nbformat": 4,
 "nbformat_minor": 0
}
