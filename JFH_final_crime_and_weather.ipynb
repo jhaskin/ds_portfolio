{
 "cells": [
  {
   "cell_type": "markdown",
   "metadata": {},
   "source": [
    "# Analysis and prediction of Crime data as it relates to weather conditions in the city of San Francisco"
   ]
  },
  {
   "cell_type": "markdown",
   "metadata": {},
   "source": [
    "- Jim Haskin\n",
    "\n",
    "- GA-Data Science\n",
    "- Dec 2015\n",
    "\n",
    "- 2/17/2016"
   ]
  },
  {
   "cell_type": "markdown",
   "metadata": {},
   "source": [
    "## Hypothisis\n",
    "It is often said that people lose their temper more when it is hot out and that all the crazies come out when there is a full moon. But does the data prove these hunches are true? \n",
    "If it is true, can we look at the weather forcast for the next week and predict if the number or intensity of Police Incidents will be higher or lower than usual?"
   ]
  },
  {
   "cell_type": "markdown",
   "metadata": {},
   "source": [
    "## Method\n",
    "Crime Data\n",
    "- I have collected the incident reports of the San Franciso Police Department from the SF OpenData website. https://data.sfgov.org/data?category=Public%20Safety. I have the records from January, 2003 until the beginning of 2016.\n",
    "- I summerized the report to generate a daily report of the number of incidents and another factor I am calling Crime Level. Each incident is given a score based on how violent it is. Murders and assaults are rated high. Traffic violations and non-criminal incidents are rated low. These scores are summed and then normalized to a scale of 0 - 10.\n",
    "- This was done in the `'2_clean_data_sf_crime'` notebook.\n",
    "- Data written to file. `'sf_crime_clean.csv'`\n",
    "\n",
    "Weather Data\n",
    "- I collected historical weather data for the San Franciso area from January 2003 until December 2015. The data comes from Weather Underground. http://www.wunderground.com/history/\n",
    "- To that data I added new features, such as the phase of the moon, that I wanted to investigate.\n",
    "- This was done in the `'3_clean_weather_combine_with_crime'` notebook.\n",
    "- Data written to file. `'sf_crime_weather.csv'`\n",
    "\n",
    "Analysis and Modeling\n",
    "- I looked at the crime levels as it related to different features to get a general idea of what features are important.\n",
    "- Removed fields that are not in the Forecast Data that will be used for prediction.\n",
    "- Build Model.......\n",
    "- ...........\n",
    "\n",
    "Prediction\n",
    "- I used the WeatherUnderground API and the OpenWeatherMap API to retreive the forecast for the next 10 days in San Fransico.\n",
    "- To this I added in the other relavent features such as Moon Phase.\n",
    "- This is done in the `'8_get_weather_forcast'` notebook.\n",
    "- Data is written to file. `'forecast_10day.csv'`\n",
    "- This new data is then run throught the model to predict the general level of crime for the next 10 days."
   ]
  },
  {
   "cell_type": "markdown",
   "metadata": {},
   "source": [
    "## Sections"
   ]
  },
  {
   "cell_type": "markdown",
   "metadata": {},
   "source": [
    "- [Data Source Definition](#Data-source-Definition)\n",
    "- [Prepare Data](#Prepare-Data)\n",
    "- - [Catagoricals](#Catagoricals)\n",
    "- - [Select Features](#Select-Features)\n",
    "- [Dummy Regressor](#Dummy-Regressor)\n",
    "- [Random Forest](#Random-Forests)\n",
    "- [SVM](#SVM)\n",
    "- [Lasso/Ridge](#Lasso/Ridge)\n",
    "- [knn](#knn)\n",
    "- [Forecast](#Forecast)\n",
    "- - [Add Engineered Features](#Add-Engineered-Features)\n",
    "- - [Run Models on Prediction](#Run-Models-on-Prediction)\n",
    "- [Results](#Results)\n",
    "- [Change Log](#Change-Log)\n",
    "- [To Try](#To-Try)\n"
   ]
  },
  {
   "cell_type": "code",
   "execution_count": 1,
   "metadata": {
    "collapsed": true
   },
   "outputs": [],
   "source": [
    "import pandas as pd\n",
    "import numpy as np\n",
    "import matplotlib.pyplot as plt\n",
    "import seaborn as sb\n",
    "%matplotlib inline\n",
    "# use fivethirtyeight style for all graphics\n",
    "plt.style.use('fivethirtyeight')"
   ]
  },
  {
   "cell_type": "code",
   "execution_count": 2,
   "metadata": {
    "collapsed": true
   },
   "outputs": [],
   "source": [
    "from sklearn.preprocessing import StandardScaler\n",
    "from sklearn.cross_validation import train_test_split\n",
    "from sklearn.cross_validation import ShuffleSplit\n",
    "from sklearn.grid_search import GridSearchCV\n",
    "from sklearn.learning_curve import learning_curve\n",
    "from sklearn.ensemble import RandomForestRegressor\n",
    "from sklearn.cross_validation import cross_val_score\n",
    "from sklearn.svm import SVR\n",
    "from sk_modelcurves.learning_curve import draw_learning_curve\n",
    "from sklearn.linear_model import LinearRegression\n",
    "from sklearn.linear_model import Lasso\n",
    "from sklearn.linear_model import Ridge\n",
    "from sklearn.dummy import DummyClassifier, DummyRegressor\n",
    "from sklearn.neighbors import KNeighborsRegressor\n",
    "from sklearn.metrics import median_absolute_error\n",
    "from sklearn.metrics import mean_absolute_error"
   ]
  },
  {
   "cell_type": "markdown",
   "metadata": {},
   "source": [
    "## Data source Definition"
   ]
  },
  {
   "cell_type": "markdown",
   "metadata": {},
   "source": [
    "[[back to top](#Sections)]\n"
   ]
  },
  {
   "cell_type": "markdown",
   "metadata": {},
   "source": [
    "Data was consolidated in these two Notebooks\n",
    "- 2_clean_data_sf_crime.ipynb | Data downloaded from SF Open Data site. \n",
    "- 3_clean_weather_combine_with_crime.ipynb | Data downloaded from WeatherUnderground.com\n",
    "- Final file name 'sf_crime_weather.csv'\n",
    "\n",
    "\n",
    "FieldName|Type|Description                             \n",
    "---------------|------------|---------------------\n",
    "Index:Date|DateTime|2003-01-01 to 2015-12-31\n",
    "crime_level_sum|int64|Calculated Crime Level for the day\n",
    "crime_level_count|int64|Number of incidents for the day\n",
    "crime_level|float64|Crime level scaled to 0-10\n",
    "dayofweek|object|Day of the week in string format\n",
    "day|int64|Day of month in numeric\n",
    "month|int64|Month of year in numeric\n",
    "year|int64|Year in numeric\n",
    "temp_max|int64|High Temperature for the day in degrees F\n",
    "temp_mean|int64|Mean Temperature for the day in degrees F\n",
    "temp_min|int64|Low Temperature for the day in degrees F\n",
    "temp_delta|int64|Temperature change for the day in degrees F\n",
    "dew_point_max|int64|High Dew Point for the day in degrees F\n",
    "dew_point_mean|int64|Mean Dew Point for the day in degrees F\n",
    "dew_point_min|int64|Low Dew Point for the day in degrees F\n",
    "humidity_max|int64|Maximum Humidity for the day in percentage\n",
    "humidity_mean|int64|Mean Humidity for the day in percentage\n",
    "humidity_min|int64|Minimum Humidity for the day in percentage\n",
    "sl_pressure_max|float64|High Sea Level for the day in inches\n",
    "sl_pressure_mean|float64|Mean Sea Level for the day in inches\n",
    "sl_pressure_min|float64|Low Sea Level for the day in inches\n",
    "wind_speed_max|int64|Maximum maintained Wind Speed in mph\n",
    "wind_speed_mean|int64|Mean maintained Wind Speed in mph\n",
    "wind_max_gust|float64|Maximum Wind Gust in mph\n",
    "precipitation|float64|Amount is precipitation in inches\n",
    "cloud_cover|int64|Cloud Cover in percentage\n",
    "events|object|Significant Events such as 'Rain', 'Fog'\n",
    "wind_direction|int64|General wind direction, numeric 0 359\n",
    "sun_length|float64|Number of minutes of Sun on day\n",
    "moon_phase|float64|Phase moon is in. 0.5 = full moon\n",
    "sun_units|float64|the minutes of Sun scaled by the cloud cover percentage"
   ]
  },
  {
   "cell_type": "markdown",
   "metadata": {},
   "source": [
    "# Prepare Data"
   ]
  },
  {
   "cell_type": "markdown",
   "metadata": {},
   "source": [
    "[[back to top](#Sections)]\n"
   ]
  },
  {
   "cell_type": "markdown",
   "metadata": {},
   "source": [
    "## Read in combined Data \n",
    "    "
   ]
  },
  {
   "cell_type": "code",
   "execution_count": 3,
   "metadata": {
    "collapsed": false
   },
   "outputs": [
    {
     "data": {
      "text/html": [
       "<div>\n",
       "<table border=\"1\" class=\"dataframe\">\n",
       "  <thead>\n",
       "    <tr style=\"text-align: right;\">\n",
       "      <th></th>\n",
       "      <th>crime_level_sum</th>\n",
       "      <th>crime_level_count</th>\n",
       "      <th>weather_crime_sum</th>\n",
       "      <th>dayofweek</th>\n",
       "      <th>day</th>\n",
       "      <th>month</th>\n",
       "      <th>year</th>\n",
       "      <th>end_of_week</th>\n",
       "      <th>crime_level</th>\n",
       "      <th>weather_crime_level</th>\n",
       "      <th>...</th>\n",
       "      <th>events</th>\n",
       "      <th>wind_direction</th>\n",
       "      <th>rain</th>\n",
       "      <th>sun_length</th>\n",
       "      <th>moon_phase</th>\n",
       "      <th>sun_units</th>\n",
       "      <th>wind_chill_mean</th>\n",
       "      <th>wind_chill_max</th>\n",
       "      <th>heat_index</th>\n",
       "      <th>temp_apparent</th>\n",
       "    </tr>\n",
       "  </thead>\n",
       "  <tbody>\n",
       "    <tr>\n",
       "      <th>2003-01-01</th>\n",
       "      <td>1066</td>\n",
       "      <td>541</td>\n",
       "      <td>143</td>\n",
       "      <td>wednesday</td>\n",
       "      <td>1</td>\n",
       "      <td>1</td>\n",
       "      <td>2003</td>\n",
       "      <td>False</td>\n",
       "      <td>10.000000</td>\n",
       "      <td>8.717949</td>\n",
       "      <td>...</td>\n",
       "      <td>No</td>\n",
       "      <td>86</td>\n",
       "      <td>False</td>\n",
       "      <td>578.733333</td>\n",
       "      <td>0.950084</td>\n",
       "      <td>364.602000</td>\n",
       "      <td>48</td>\n",
       "      <td>52</td>\n",
       "      <td>160.246207</td>\n",
       "      <td>75.602722</td>\n",
       "    </tr>\n",
       "    <tr>\n",
       "      <th>2003-01-02</th>\n",
       "      <td>750</td>\n",
       "      <td>411</td>\n",
       "      <td>72</td>\n",
       "      <td>thursday</td>\n",
       "      <td>2</td>\n",
       "      <td>1</td>\n",
       "      <td>2003</td>\n",
       "      <td>False</td>\n",
       "      <td>4.903226</td>\n",
       "      <td>2.649573</td>\n",
       "      <td>...</td>\n",
       "      <td>No</td>\n",
       "      <td>79</td>\n",
       "      <td>False</td>\n",
       "      <td>579.400000</td>\n",
       "      <td>0.983944</td>\n",
       "      <td>220.172000</td>\n",
       "      <td>50</td>\n",
       "      <td>54</td>\n",
       "      <td>174.834219</td>\n",
       "      <td>79.559031</td>\n",
       "    </tr>\n",
       "    <tr>\n",
       "      <th>2003-01-03</th>\n",
       "      <td>799</td>\n",
       "      <td>440</td>\n",
       "      <td>84</td>\n",
       "      <td>friday</td>\n",
       "      <td>3</td>\n",
       "      <td>1</td>\n",
       "      <td>2003</td>\n",
       "      <td>True</td>\n",
       "      <td>5.693548</td>\n",
       "      <td>3.675214</td>\n",
       "      <td>...</td>\n",
       "      <td>No</td>\n",
       "      <td>56</td>\n",
       "      <td>False</td>\n",
       "      <td>580.100000</td>\n",
       "      <td>0.017763</td>\n",
       "      <td>290.050000</td>\n",
       "      <td>50</td>\n",
       "      <td>55</td>\n",
       "      <td>165.091411</td>\n",
       "      <td>77.938166</td>\n",
       "    </tr>\n",
       "    <tr>\n",
       "      <th>2003-01-04</th>\n",
       "      <td>674</td>\n",
       "      <td>347</td>\n",
       "      <td>65</td>\n",
       "      <td>saturday</td>\n",
       "      <td>4</td>\n",
       "      <td>1</td>\n",
       "      <td>2003</td>\n",
       "      <td>True</td>\n",
       "      <td>3.677419</td>\n",
       "      <td>2.051282</td>\n",
       "      <td>...</td>\n",
       "      <td>Fog</td>\n",
       "      <td>295</td>\n",
       "      <td>False</td>\n",
       "      <td>580.866667</td>\n",
       "      <td>0.051546</td>\n",
       "      <td>290.433333</td>\n",
       "      <td>52</td>\n",
       "      <td>57</td>\n",
       "      <td>203.511400</td>\n",
       "      <td>86.591989</td>\n",
       "    </tr>\n",
       "    <tr>\n",
       "      <th>2003-01-05</th>\n",
       "      <td>755</td>\n",
       "      <td>377</td>\n",
       "      <td>102</td>\n",
       "      <td>sunday</td>\n",
       "      <td>5</td>\n",
       "      <td>1</td>\n",
       "      <td>2003</td>\n",
       "      <td>False</td>\n",
       "      <td>4.983871</td>\n",
       "      <td>5.213675</td>\n",
       "      <td>...</td>\n",
       "      <td>Fog</td>\n",
       "      <td>22</td>\n",
       "      <td>False</td>\n",
       "      <td>581.700000</td>\n",
       "      <td>0.085328</td>\n",
       "      <td>290.850000</td>\n",
       "      <td>52</td>\n",
       "      <td>55</td>\n",
       "      <td>220.937501</td>\n",
       "      <td>89.274978</td>\n",
       "    </tr>\n",
       "  </tbody>\n",
       "</table>\n",
       "<p>5 rows × 38 columns</p>\n",
       "</div>"
      ],
      "text/plain": [
       "            crime_level_sum  crime_level_count  weather_crime_sum  dayofweek  \\\n",
       "2003-01-01             1066                541                143  wednesday   \n",
       "2003-01-02              750                411                 72   thursday   \n",
       "2003-01-03              799                440                 84     friday   \n",
       "2003-01-04              674                347                 65   saturday   \n",
       "2003-01-05              755                377                102     sunday   \n",
       "\n",
       "            day  month  year end_of_week  crime_level  weather_crime_level  \\\n",
       "2003-01-01    1      1  2003       False    10.000000             8.717949   \n",
       "2003-01-02    2      1  2003       False     4.903226             2.649573   \n",
       "2003-01-03    3      1  2003        True     5.693548             3.675214   \n",
       "2003-01-04    4      1  2003        True     3.677419             2.051282   \n",
       "2003-01-05    5      1  2003       False     4.983871             5.213675   \n",
       "\n",
       "                ...        events  wind_direction   rain  sun_length  \\\n",
       "2003-01-01      ...            No              86  False  578.733333   \n",
       "2003-01-02      ...            No              79  False  579.400000   \n",
       "2003-01-03      ...            No              56  False  580.100000   \n",
       "2003-01-04      ...           Fog             295  False  580.866667   \n",
       "2003-01-05      ...           Fog              22  False  581.700000   \n",
       "\n",
       "            moon_phase   sun_units  wind_chill_mean  wind_chill_max  \\\n",
       "2003-01-01    0.950084  364.602000               48              52   \n",
       "2003-01-02    0.983944  220.172000               50              54   \n",
       "2003-01-03    0.017763  290.050000               50              55   \n",
       "2003-01-04    0.051546  290.433333               52              57   \n",
       "2003-01-05    0.085328  290.850000               52              55   \n",
       "\n",
       "            heat_index  temp_apparent  \n",
       "2003-01-01  160.246207      75.602722  \n",
       "2003-01-02  174.834219      79.559031  \n",
       "2003-01-03  165.091411      77.938166  \n",
       "2003-01-04  203.511400      86.591989  \n",
       "2003-01-05  220.937501      89.274978  \n",
       "\n",
       "[5 rows x 38 columns]"
      ]
     },
     "execution_count": 3,
     "metadata": {},
     "output_type": "execute_result"
    }
   ],
   "source": [
    "data = pd.read_csv('sf_crime_weather.csv', index_col=0)\n",
    "data.head(5)"
   ]
  },
  {
   "cell_type": "markdown",
   "metadata": {},
   "source": [
    "### Catagoricals"
   ]
  },
  {
   "cell_type": "markdown",
   "metadata": {},
   "source": [
    "[[back to top](#Sections)]\n"
   ]
  },
  {
   "cell_type": "code",
   "execution_count": 4,
   "metadata": {
    "collapsed": false
   },
   "outputs": [],
   "source": [
    "#data['events'].fillna('No', inplace=True)\n",
    "data['events'] = data['events'].astype('category')\n",
    "data['day'] = data['day'].astype('category')\n",
    "data['month'] = data['month'].astype('category')\n",
    "data['year'] = data['year'].astype('category')\n",
    "data['dayofweek'] = data['dayofweek'].astype('category')\n",
    "data['end_of_week'] = data['end_of_week'].astype('category')\n",
    "data['rain'] = data['rain'].astype('category')\n",
    "\n",
    "\n",
    "\n",
    "dworder = ['sunday', 'monday', 'tuesday', 'wednesday', 'thursday','friday', 'saturday']\n",
    "#qq = data['dayofweek'].reorder_categories(dworder)\n",
    "#qq.counts()"
   ]
  },
  {
   "cell_type": "code",
   "execution_count": 5,
   "metadata": {
    "collapsed": false
   },
   "outputs": [
    {
     "name": "stdout",
     "output_type": "stream",
     "text": [
      "<class 'pandas.core.frame.DataFrame'>\n",
      "Index: 4722 entries, 2003-01-01 to 2015-12-31\n",
      "Data columns (total 38 columns):\n",
      "crime_level_sum        4722 non-null int64\n",
      "crime_level_count      4722 non-null int64\n",
      "weather_crime_sum      4722 non-null int64\n",
      "dayofweek              4722 non-null category\n",
      "day                    4722 non-null category\n",
      "month                  4722 non-null category\n",
      "year                   4722 non-null category\n",
      "end_of_week            4722 non-null category\n",
      "crime_level            4722 non-null float64\n",
      "weather_crime_level    4722 non-null float64\n",
      "temp_max               4722 non-null int64\n",
      "temp_mean              4722 non-null int64\n",
      "temp_min               4722 non-null int64\n",
      "temp_delta             4722 non-null int64\n",
      "dew_point_max          4722 non-null int64\n",
      "dew_point_mean         4722 non-null float64\n",
      "dew_point_min          4722 non-null int64\n",
      "humidity_max           4722 non-null int64\n",
      "humidity_mean          4722 non-null int64\n",
      "humidity_min           4722 non-null int64\n",
      "sl_pressure_max        4722 non-null float64\n",
      "sl_pressure_mean       4722 non-null float64\n",
      "sl_pressure_min        4722 non-null float64\n",
      "wind_speed_max         4722 non-null int64\n",
      "wind_speed_mean        4722 non-null int64\n",
      "wind_max_gust          4258 non-null float64\n",
      "precipitation          4722 non-null float64\n",
      "cloud_cover            4722 non-null int64\n",
      "events                 4722 non-null category\n",
      "wind_direction         4722 non-null int64\n",
      "rain                   4722 non-null category\n",
      "sun_length             4722 non-null float64\n",
      "moon_phase             4722 non-null float64\n",
      "sun_units              4722 non-null float64\n",
      "wind_chill_mean        4722 non-null int64\n",
      "wind_chill_max         4722 non-null int64\n",
      "heat_index             4722 non-null float64\n",
      "temp_apparent          4722 non-null float64\n",
      "dtypes: category(7), float64(13), int64(18)\n",
      "memory usage: 1.2+ MB\n"
     ]
    }
   ],
   "source": [
    "data.info()"
   ]
  },
  {
   "cell_type": "code",
   "execution_count": 6,
   "metadata": {
    "collapsed": true
   },
   "outputs": [],
   "source": [
    "# Data Frame to hold results. To compare models after all are run\n",
    "results = pd.DataFrame(index=['dummy', 'RF', 'SVM', 'LR', 'knn'], \n",
    "                       columns=['mean_abs_error', 'R2_score','time','lc_com'])"
   ]
  },
  {
   "cell_type": "markdown",
   "metadata": {},
   "source": [
    "## Select Features"
   ]
  },
  {
   "cell_type": "markdown",
   "metadata": {},
   "source": [
    "[[back to top](#Sections)]\n"
   ]
  },
  {
   "cell_type": "code",
   "execution_count": 7,
   "metadata": {
    "collapsed": false
   },
   "outputs": [
    {
     "data": {
      "text/plain": [
       "Index([u'crime_level_sum', u'crime_level_count', u'weather_crime_sum',\n",
       "       u'dayofweek', u'day', u'month', u'year', u'end_of_week', u'crime_level',\n",
       "       u'weather_crime_level', u'temp_max', u'temp_mean', u'temp_min',\n",
       "       u'temp_delta', u'dew_point_max', u'dew_point_mean', u'dew_point_min',\n",
       "       u'humidity_max', u'humidity_mean', u'humidity_min', u'sl_pressure_max',\n",
       "       u'sl_pressure_mean', u'sl_pressure_min', u'wind_speed_max',\n",
       "       u'wind_speed_mean', u'wind_max_gust', u'precipitation', u'cloud_cover',\n",
       "       u'events', u'wind_direction', u'rain', u'sun_length', u'moon_phase',\n",
       "       u'sun_units', u'wind_chill_mean', u'wind_chill_max', u'heat_index',\n",
       "       u'temp_apparent'],\n",
       "      dtype='object')"
      ]
     },
     "execution_count": 7,
     "metadata": {},
     "output_type": "execute_result"
    }
   ],
   "source": [
    "data.columns"
   ]
  },
  {
   "cell_type": "code",
   "execution_count": 30,
   "metadata": {
    "collapsed": true
   },
   "outputs": [],
   "source": [
    "# All numeric features + day of week\n",
    "features = ['temp_max', 'temp_mean', 'temp_min',\n",
    "       'temp_delta',  'dew_point_mean', \n",
    "       'humidity_mean', 'sl_pressure_mean',\n",
    "       'wind_chill_max', 'wind_chill_mean', \n",
    "       'wind_speed_max', 'wind_speed_mean', 'precipitation', 'cloud_cover',\n",
    "       'wind_direction', 'sun_length', 'moon_phase',\n",
    "       'sun_units', 'end_of_week', 'rain','temp_apparent', 'heat_index']"
   ]
  },
  {
   "cell_type": "code",
   "execution_count": 31,
   "metadata": {
    "collapsed": true
   },
   "outputs": [],
   "source": [
    "# choose features to model, based on what we will have from the forecast\n",
    "#min_features = ['dayofweek', 'temp_max', 'temp_delta',\n",
    "#            'sl_pressure_mean', 'humidity_mean',  'wind_speed_mean',\n",
    "#            'cloud_cover', 'precipitation']"
   ]
  },
  {
   "cell_type": "code",
   "execution_count": 32,
   "metadata": {
    "collapsed": true
   },
   "outputs": [],
   "source": [
    "# Which class to train to\n",
    "label = 'crime_level'\n",
    "dummy_drop = ['dayofweek_sunday']"
   ]
  },
  {
   "cell_type": "code",
   "execution_count": 33,
   "metadata": {
    "collapsed": false
   },
   "outputs": [
    {
     "data": {
      "text/html": [
       "<div>\n",
       "<table border=\"1\" class=\"dataframe\">\n",
       "  <thead>\n",
       "    <tr style=\"text-align: right;\">\n",
       "      <th></th>\n",
       "      <th>temp_max</th>\n",
       "      <th>temp_mean</th>\n",
       "      <th>temp_min</th>\n",
       "      <th>temp_delta</th>\n",
       "      <th>dew_point_mean</th>\n",
       "      <th>humidity_mean</th>\n",
       "      <th>sl_pressure_mean</th>\n",
       "      <th>wind_chill_max</th>\n",
       "      <th>wind_chill_mean</th>\n",
       "      <th>wind_speed_max</th>\n",
       "      <th>...</th>\n",
       "      <th>precipitation</th>\n",
       "      <th>cloud_cover</th>\n",
       "      <th>wind_direction</th>\n",
       "      <th>sun_length</th>\n",
       "      <th>moon_phase</th>\n",
       "      <th>sun_units</th>\n",
       "      <th>end_of_week</th>\n",
       "      <th>rain</th>\n",
       "      <th>temp_apparent</th>\n",
       "      <th>heat_index</th>\n",
       "    </tr>\n",
       "  </thead>\n",
       "  <tbody>\n",
       "    <tr>\n",
       "      <th>2003-01-01</th>\n",
       "      <td>52</td>\n",
       "      <td>48</td>\n",
       "      <td>43</td>\n",
       "      <td>9</td>\n",
       "      <td>45.920285</td>\n",
       "      <td>90</td>\n",
       "      <td>30.28</td>\n",
       "      <td>52</td>\n",
       "      <td>48</td>\n",
       "      <td>9</td>\n",
       "      <td>...</td>\n",
       "      <td>0.00</td>\n",
       "      <td>37</td>\n",
       "      <td>86</td>\n",
       "      <td>578.733333</td>\n",
       "      <td>0.950084</td>\n",
       "      <td>364.602000</td>\n",
       "      <td>False</td>\n",
       "      <td>False</td>\n",
       "      <td>75.602722</td>\n",
       "      <td>160.246207</td>\n",
       "    </tr>\n",
       "    <tr>\n",
       "      <th>2003-01-02</th>\n",
       "      <td>54</td>\n",
       "      <td>50</td>\n",
       "      <td>46</td>\n",
       "      <td>8</td>\n",
       "      <td>47.445365</td>\n",
       "      <td>88</td>\n",
       "      <td>30.23</td>\n",
       "      <td>54</td>\n",
       "      <td>50</td>\n",
       "      <td>8</td>\n",
       "      <td>...</td>\n",
       "      <td>0.00</td>\n",
       "      <td>62</td>\n",
       "      <td>79</td>\n",
       "      <td>579.400000</td>\n",
       "      <td>0.983944</td>\n",
       "      <td>220.172000</td>\n",
       "      <td>False</td>\n",
       "      <td>False</td>\n",
       "      <td>79.559031</td>\n",
       "      <td>174.834219</td>\n",
       "    </tr>\n",
       "    <tr>\n",
       "      <th>2003-01-03</th>\n",
       "      <td>55</td>\n",
       "      <td>50</td>\n",
       "      <td>46</td>\n",
       "      <td>9</td>\n",
       "      <td>46.526927</td>\n",
       "      <td>84</td>\n",
       "      <td>30.19</td>\n",
       "      <td>55</td>\n",
       "      <td>50</td>\n",
       "      <td>8</td>\n",
       "      <td>...</td>\n",
       "      <td>0.00</td>\n",
       "      <td>50</td>\n",
       "      <td>56</td>\n",
       "      <td>580.100000</td>\n",
       "      <td>0.017763</td>\n",
       "      <td>290.050000</td>\n",
       "      <td>True</td>\n",
       "      <td>False</td>\n",
       "      <td>77.938166</td>\n",
       "      <td>165.091411</td>\n",
       "    </tr>\n",
       "    <tr>\n",
       "      <th>2003-01-04</th>\n",
       "      <td>57</td>\n",
       "      <td>52</td>\n",
       "      <td>48</td>\n",
       "      <td>9</td>\n",
       "      <td>50.084618</td>\n",
       "      <td>91</td>\n",
       "      <td>30.26</td>\n",
       "      <td>57</td>\n",
       "      <td>52</td>\n",
       "      <td>9</td>\n",
       "      <td>...</td>\n",
       "      <td>0.00</td>\n",
       "      <td>50</td>\n",
       "      <td>295</td>\n",
       "      <td>580.866667</td>\n",
       "      <td>0.051546</td>\n",
       "      <td>290.433333</td>\n",
       "      <td>True</td>\n",
       "      <td>False</td>\n",
       "      <td>86.591989</td>\n",
       "      <td>203.511400</td>\n",
       "    </tr>\n",
       "    <tr>\n",
       "      <th>2003-01-05</th>\n",
       "      <td>55</td>\n",
       "      <td>52</td>\n",
       "      <td>48</td>\n",
       "      <td>7</td>\n",
       "      <td>51.378614</td>\n",
       "      <td>97</td>\n",
       "      <td>30.25</td>\n",
       "      <td>55</td>\n",
       "      <td>52</td>\n",
       "      <td>8</td>\n",
       "      <td>...</td>\n",
       "      <td>0.01</td>\n",
       "      <td>50</td>\n",
       "      <td>22</td>\n",
       "      <td>581.700000</td>\n",
       "      <td>0.085328</td>\n",
       "      <td>290.850000</td>\n",
       "      <td>False</td>\n",
       "      <td>False</td>\n",
       "      <td>89.274978</td>\n",
       "      <td>220.937501</td>\n",
       "    </tr>\n",
       "  </tbody>\n",
       "</table>\n",
       "<p>5 rows × 21 columns</p>\n",
       "</div>"
      ],
      "text/plain": [
       "            temp_max  temp_mean  temp_min  temp_delta  dew_point_mean  \\\n",
       "2003-01-01        52         48        43           9       45.920285   \n",
       "2003-01-02        54         50        46           8       47.445365   \n",
       "2003-01-03        55         50        46           9       46.526927   \n",
       "2003-01-04        57         52        48           9       50.084618   \n",
       "2003-01-05        55         52        48           7       51.378614   \n",
       "\n",
       "            humidity_mean  sl_pressure_mean  wind_chill_max  wind_chill_mean  \\\n",
       "2003-01-01             90             30.28              52               48   \n",
       "2003-01-02             88             30.23              54               50   \n",
       "2003-01-03             84             30.19              55               50   \n",
       "2003-01-04             91             30.26              57               52   \n",
       "2003-01-05             97             30.25              55               52   \n",
       "\n",
       "            wind_speed_max     ...      precipitation  cloud_cover  \\\n",
       "2003-01-01               9     ...               0.00           37   \n",
       "2003-01-02               8     ...               0.00           62   \n",
       "2003-01-03               8     ...               0.00           50   \n",
       "2003-01-04               9     ...               0.00           50   \n",
       "2003-01-05               8     ...               0.01           50   \n",
       "\n",
       "            wind_direction  sun_length  moon_phase   sun_units  end_of_week  \\\n",
       "2003-01-01              86  578.733333    0.950084  364.602000        False   \n",
       "2003-01-02              79  579.400000    0.983944  220.172000        False   \n",
       "2003-01-03              56  580.100000    0.017763  290.050000         True   \n",
       "2003-01-04             295  580.866667    0.051546  290.433333         True   \n",
       "2003-01-05              22  581.700000    0.085328  290.850000        False   \n",
       "\n",
       "             rain temp_apparent  heat_index  \n",
       "2003-01-01  False     75.602722  160.246207  \n",
       "2003-01-02  False     79.559031  174.834219  \n",
       "2003-01-03  False     77.938166  165.091411  \n",
       "2003-01-04  False     86.591989  203.511400  \n",
       "2003-01-05  False     89.274978  220.937501  \n",
       "\n",
       "[5 rows x 21 columns]"
      ]
     },
     "execution_count": 33,
     "metadata": {},
     "output_type": "execute_result"
    }
   ],
   "source": [
    "# split into data and class  X, y\n",
    "X, y = data[features], data[label]\n",
    "X.head()"
   ]
  },
  {
   "cell_type": "code",
   "execution_count": 34,
   "metadata": {
    "collapsed": false
   },
   "outputs": [],
   "source": [
    "# use get_dummies to convert categoricals into binary features\n",
    "#X = pd.get_dummies(X)\n",
    "#X.head(2)"
   ]
  },
  {
   "cell_type": "code",
   "execution_count": 35,
   "metadata": {
    "collapsed": false
   },
   "outputs": [],
   "source": [
    "# Drop one feature for each categorical\n",
    "# drop on day of week\n",
    "#X.drop(dummy_drop, axis=1, inplace=True)\n",
    "#X.head(2)"
   ]
  },
  {
   "cell_type": "code",
   "execution_count": 36,
   "metadata": {
    "collapsed": false
   },
   "outputs": [
    {
     "name": "stdout",
     "output_type": "stream",
     "text": [
      "<class 'pandas.core.frame.DataFrame'>\n",
      "Index: 4722 entries, 2003-01-01 to 2015-12-31\n",
      "Data columns (total 21 columns):\n",
      "temp_max            4722 non-null int64\n",
      "temp_mean           4722 non-null int64\n",
      "temp_min            4722 non-null int64\n",
      "temp_delta          4722 non-null int64\n",
      "dew_point_mean      4722 non-null float64\n",
      "humidity_mean       4722 non-null int64\n",
      "sl_pressure_mean    4722 non-null float64\n",
      "wind_chill_max      4722 non-null int64\n",
      "wind_chill_mean     4722 non-null int64\n",
      "wind_speed_max      4722 non-null int64\n",
      "wind_speed_mean     4722 non-null int64\n",
      "precipitation       4722 non-null float64\n",
      "cloud_cover         4722 non-null int64\n",
      "wind_direction      4722 non-null int64\n",
      "sun_length          4722 non-null float64\n",
      "moon_phase          4722 non-null float64\n",
      "sun_units           4722 non-null float64\n",
      "end_of_week         4722 non-null category\n",
      "rain                4722 non-null category\n",
      "temp_apparent       4722 non-null float64\n",
      "heat_index          4722 non-null float64\n",
      "dtypes: category(2), float64(8), int64(11)\n",
      "memory usage: 747.1+ KB\n"
     ]
    }
   ],
   "source": [
    "X.info()"
   ]
  },
  {
   "cell_type": "code",
   "execution_count": 37,
   "metadata": {
    "collapsed": true
   },
   "outputs": [],
   "source": [
    "# Split up data into train and test\n",
    "X_train, X_test, y_train, y_test = train_test_split(X, y, test_size=0.2, random_state=7)"
   ]
  },
  {
   "cell_type": "code",
   "execution_count": 38,
   "metadata": {
    "collapsed": false
   },
   "outputs": [],
   "source": [
    "# Standardize data if needed\n",
    "stdsc = StandardScaler()\n",
    "X_train_std = stdsc.fit_transform(X_train)\n",
    "X_test_std = stdsc.transform(X_test)"
   ]
  },
  {
   "cell_type": "code",
   "execution_count": 39,
   "metadata": {
    "collapsed": true
   },
   "outputs": [],
   "source": [
    "# Create the cv - defines how you want to break up all the tests\n",
    "cv = ShuffleSplit(X_train.shape[0], n_iter=10, test_size=0.2, random_state=0)"
   ]
  },
  {
   "cell_type": "code",
   "execution_count": 40,
   "metadata": {
    "collapsed": true
   },
   "outputs": [],
   "source": [
    "# Choose the scoring metric\n",
    "scoring='mean_absolute_error'\n",
    "#scoring='r2'"
   ]
  },
  {
   "cell_type": "markdown",
   "metadata": {},
   "source": [
    "## Dummy Regressor"
   ]
  },
  {
   "cell_type": "markdown",
   "metadata": {},
   "source": [
    "[[back to top](#Sections)]\n"
   ]
  },
  {
   "cell_type": "code",
   "execution_count": 41,
   "metadata": {
    "collapsed": false
   },
   "outputs": [
    {
     "name": "stdout",
     "output_type": "stream",
     "text": [
      "CV MEA [-1.09296473 -1.07253533 -1.09277523 -1.14072824 -1.13247352 -1.0892479\n",
      " -1.03006352 -1.03614988 -1.04948076 -1.07877555], Average MEA -1.08151946586\n"
     ]
    }
   ],
   "source": [
    "dummy_model = DummyRegressor()\n",
    "dummy_model.fit(X_train_std, y_train)\n",
    "#should we use MSE or MAE?\n",
    "#cross_val_score(dummy_model, X, y, cv=10, scoring=scoring)\n",
    "scores = cross_val_score(dummy_model, X_train_std, y_train, scoring=scoring, cv=cv)\n",
    "print('CV MEA {}, Average MEA {}'.format(scores, scores.mean()))"
   ]
  },
  {
   "cell_type": "code",
   "execution_count": 42,
   "metadata": {
    "collapsed": false
   },
   "outputs": [],
   "source": [
    "#y_test"
   ]
  },
  {
   "cell_type": "code",
   "execution_count": 43,
   "metadata": {
    "collapsed": false
   },
   "outputs": [],
   "source": [
    "#dummy_model.predict(X_test_std)"
   ]
  },
  {
   "cell_type": "code",
   "execution_count": 44,
   "metadata": {
    "collapsed": false
   },
   "outputs": [
    {
     "name": "stdout",
     "output_type": "stream",
     "text": [
      "Mean Absolute Error =  1.06292234287\n"
     ]
    }
   ],
   "source": [
    "# Get Mean Error of the test set\n",
    "results.loc['dummy','mean_abs_error'] = mean_absolute_error(y_test, dummy_model.predict(X_test_std))\n",
    "print 'Mean Absolute Error = ', results.loc['dummy','mean_abs_error']   "
   ]
  },
  {
   "cell_type": "code",
   "execution_count": 45,
   "metadata": {
    "collapsed": false
   },
   "outputs": [
    {
     "name": "stdout",
     "output_type": "stream",
     "text": [
      "Model R2_score :  -0.00271300780392\n"
     ]
    }
   ],
   "source": [
    "results.loc['dummy','R2_score'] = dummy_model.score(X_test_std, y_test)\n",
    "print 'Model R2_score : ', results.loc['dummy','R2_score']"
   ]
  },
  {
   "cell_type": "code",
   "execution_count": 46,
   "metadata": {
    "collapsed": false
   },
   "outputs": [
    {
     "name": "stdout",
     "output_type": "stream",
     "text": [
      "The slowest run took 5.76 times longer than the fastest. This could mean that an intermediate result is being cached \n",
      "10000 loops, best of 3: 36.5 µs per loop\n",
      "<IPython.core.magics.execution.TimeitResult object at 0x1094c1e10>\n"
     ]
    }
   ],
   "source": [
    "# Check the Speed of esimator\n",
    "time = %timeit -o dummy_model.predict(X_test_std)\n",
    "print time\n",
    "results.loc['dummy','time'] = time.best * 1000000"
   ]
  },
  {
   "cell_type": "markdown",
   "metadata": {},
   "source": [
    "## Random Forests"
   ]
  },
  {
   "cell_type": "markdown",
   "metadata": {},
   "source": [
    "[[back to top](#Sections)]\n"
   ]
  },
  {
   "cell_type": "code",
   "execution_count": 47,
   "metadata": {
    "collapsed": true
   },
   "outputs": [],
   "source": [
    "# Create the cv - defines how you want to break up all the tests\n",
    "cv = ShuffleSplit(X_train.shape[0], n_iter=5, test_size=0.2, random_state=0)"
   ]
  },
  {
   "cell_type": "code",
   "execution_count": 48,
   "metadata": {
    "collapsed": false
   },
   "outputs": [
    {
     "data": {
      "text/plain": [
       "RandomForestRegressor(bootstrap=True, criterion='mse', max_depth=None,\n",
       "           max_features='auto', max_leaf_nodes=None, min_samples_leaf=1,\n",
       "           min_samples_split=2, min_weight_fraction_leaf=0.0,\n",
       "           n_estimators=20, n_jobs=1, oob_score=False, random_state=None,\n",
       "           verbose=0, warm_start=False)"
      ]
     },
     "execution_count": 48,
     "metadata": {},
     "output_type": "execute_result"
    }
   ],
   "source": [
    "model = RandomForestRegressor(n_estimators = 20)\n",
    "model.fit(X_train, y_train)"
   ]
  },
  {
   "cell_type": "code",
   "execution_count": 49,
   "metadata": {
    "collapsed": false
   },
   "outputs": [
    {
     "name": "stdout",
     "output_type": "stream",
     "text": [
      "CV MAE [-1.0036333  -1.00038189 -0.99817695 -1.06300457 -1.0369101 ], Average MAE -1.0204213603\n"
     ]
    }
   ],
   "source": [
    "# Evaluate the decision tree using cross-validation; \n",
    "scores = cross_val_score(model, X_train, y_train, scoring=scoring, cv=cv)\n",
    "print('CV MAE {}, Average MAE {}'.format(scores, scores.mean()))"
   ]
  },
  {
   "cell_type": "code",
   "execution_count": 50,
   "metadata": {
    "collapsed": false
   },
   "outputs": [
    {
     "name": "stdout",
     "output_type": "stream",
     "text": [
      "n_est 70, CV MAE [-0.9977751  -0.99787293 -1.00191586 -1.0467998  -1.03172835], Average MAE -1.01521840636\n",
      "n_est 80, CV MAE [-0.99764518 -0.99376787 -0.99575706 -1.03750693 -1.02522401], Average MAE -1.00998021207\n",
      "n_est 90, CV MAE [-1.00407374 -1.00225531 -0.99180842 -1.04442003 -1.028625  ], Average MAE -1.01423650225\n",
      "n_est 100, CV MAE [-1.00630974 -0.9866048  -0.99992149 -1.03883641 -1.03782045], Average MAE -1.01389857484\n",
      "n_est 110, CV MAE [-1.0000128  -0.99910375 -0.99315913 -1.03922792 -1.02798046], Average MAE -1.01189680988\n",
      "n_est 120, CV MAE [-0.99843848 -0.99485816 -0.99709759 -1.03652767 -1.027451  ], Average MAE -1.01087458042\n",
      "n_est 130, CV MAE [-1.00062199 -0.99954508 -0.99488542 -1.03993741 -1.03157092], Average MAE -1.01331216275\n",
      "n_est 140, CV MAE [-1.0028145  -0.98949891 -0.9943012  -1.03847865 -1.03138898], Average MAE -1.01129644869\n"
     ]
    }
   ],
   "source": [
    "ests = range(70,150,10)\n",
    "for est in ests:\n",
    "    model = RandomForestRegressor(n_estimators = est)\n",
    "    model.fit(X_train, y_train)\n",
    "    scores = cross_val_score(model, X_train, y_train, scoring=scoring, cv=cv)\n",
    "    print('n_est {}, CV MAE {}, Average MAE {}'.format(est, scores, scores.mean()))"
   ]
  },
  {
   "cell_type": "code",
   "execution_count": 51,
   "metadata": {
    "collapsed": false
   },
   "outputs": [
    {
     "data": {
      "text/html": [
       "<div>\n",
       "<table border=\"1\" class=\"dataframe\">\n",
       "  <thead>\n",
       "    <tr style=\"text-align: right;\">\n",
       "      <th></th>\n",
       "      <th>Features</th>\n",
       "      <th>Importance Score</th>\n",
       "    </tr>\n",
       "  </thead>\n",
       "  <tbody>\n",
       "    <tr>\n",
       "      <th>14</th>\n",
       "      <td>sun_length</td>\n",
       "      <td>0.128640</td>\n",
       "    </tr>\n",
       "    <tr>\n",
       "      <th>16</th>\n",
       "      <td>sun_units</td>\n",
       "      <td>0.082273</td>\n",
       "    </tr>\n",
       "    <tr>\n",
       "      <th>15</th>\n",
       "      <td>moon_phase</td>\n",
       "      <td>0.082110</td>\n",
       "    </tr>\n",
       "    <tr>\n",
       "      <th>19</th>\n",
       "      <td>temp_apparent</td>\n",
       "      <td>0.073989</td>\n",
       "    </tr>\n",
       "    <tr>\n",
       "      <th>13</th>\n",
       "      <td>wind_direction</td>\n",
       "      <td>0.073509</td>\n",
       "    </tr>\n",
       "    <tr>\n",
       "      <th>6</th>\n",
       "      <td>sl_pressure_mean</td>\n",
       "      <td>0.067200</td>\n",
       "    </tr>\n",
       "    <tr>\n",
       "      <th>20</th>\n",
       "      <td>heat_index</td>\n",
       "      <td>0.055940</td>\n",
       "    </tr>\n",
       "    <tr>\n",
       "      <th>17</th>\n",
       "      <td>end_of_week</td>\n",
       "      <td>0.054068</td>\n",
       "    </tr>\n",
       "    <tr>\n",
       "      <th>5</th>\n",
       "      <td>humidity_mean</td>\n",
       "      <td>0.052185</td>\n",
       "    </tr>\n",
       "    <tr>\n",
       "      <th>9</th>\n",
       "      <td>wind_speed_max</td>\n",
       "      <td>0.046248</td>\n",
       "    </tr>\n",
       "    <tr>\n",
       "      <th>4</th>\n",
       "      <td>dew_point_mean</td>\n",
       "      <td>0.044885</td>\n",
       "    </tr>\n",
       "    <tr>\n",
       "      <th>3</th>\n",
       "      <td>temp_delta</td>\n",
       "      <td>0.041948</td>\n",
       "    </tr>\n",
       "    <tr>\n",
       "      <th>10</th>\n",
       "      <td>wind_speed_mean</td>\n",
       "      <td>0.037983</td>\n",
       "    </tr>\n",
       "    <tr>\n",
       "      <th>11</th>\n",
       "      <td>precipitation</td>\n",
       "      <td>0.032632</td>\n",
       "    </tr>\n",
       "    <tr>\n",
       "      <th>2</th>\n",
       "      <td>temp_min</td>\n",
       "      <td>0.031811</td>\n",
       "    </tr>\n",
       "    <tr>\n",
       "      <th>0</th>\n",
       "      <td>temp_max</td>\n",
       "      <td>0.025156</td>\n",
       "    </tr>\n",
       "    <tr>\n",
       "      <th>7</th>\n",
       "      <td>wind_chill_max</td>\n",
       "      <td>0.024432</td>\n",
       "    </tr>\n",
       "    <tr>\n",
       "      <th>1</th>\n",
       "      <td>temp_mean</td>\n",
       "      <td>0.014484</td>\n",
       "    </tr>\n",
       "    <tr>\n",
       "      <th>12</th>\n",
       "      <td>cloud_cover</td>\n",
       "      <td>0.014369</td>\n",
       "    </tr>\n",
       "    <tr>\n",
       "      <th>8</th>\n",
       "      <td>wind_chill_mean</td>\n",
       "      <td>0.013101</td>\n",
       "    </tr>\n",
       "    <tr>\n",
       "      <th>18</th>\n",
       "      <td>rain</td>\n",
       "      <td>0.003038</td>\n",
       "    </tr>\n",
       "  </tbody>\n",
       "</table>\n",
       "</div>"
      ],
      "text/plain": [
       "            Features  Importance Score\n",
       "14        sun_length          0.128640\n",
       "16         sun_units          0.082273\n",
       "15        moon_phase          0.082110\n",
       "19     temp_apparent          0.073989\n",
       "13    wind_direction          0.073509\n",
       "6   sl_pressure_mean          0.067200\n",
       "20        heat_index          0.055940\n",
       "17       end_of_week          0.054068\n",
       "5      humidity_mean          0.052185\n",
       "9     wind_speed_max          0.046248\n",
       "4     dew_point_mean          0.044885\n",
       "3         temp_delta          0.041948\n",
       "10   wind_speed_mean          0.037983\n",
       "11     precipitation          0.032632\n",
       "2           temp_min          0.031811\n",
       "0           temp_max          0.025156\n",
       "7     wind_chill_max          0.024432\n",
       "1          temp_mean          0.014484\n",
       "12       cloud_cover          0.014369\n",
       "8    wind_chill_mean          0.013101\n",
       "18              rain          0.003038"
      ]
     },
     "execution_count": 51,
     "metadata": {},
     "output_type": "execute_result"
    }
   ],
   "source": [
    "X_features = X.columns\n",
    "feature_importances = model.feature_importances_\n",
    "\n",
    "features_df = pd.DataFrame({'Features': X_features, 'Importance Score': feature_importances})\n",
    "features_df.sort_values('Importance Score', inplace=True, ascending=False)\n",
    "\n",
    "features_df"
   ]
  },
  {
   "cell_type": "markdown",
   "metadata": {},
   "source": [
    "### Choose final parms and fit"
   ]
  },
  {
   "cell_type": "code",
   "execution_count": 52,
   "metadata": {
    "collapsed": false
   },
   "outputs": [
    {
     "name": "stdout",
     "output_type": "stream",
     "text": [
      "n_est 140, CV MAE [-1.00477684 -0.99505915 -0.99901434 -1.04718115 -1.03955853], MAE accuracy -1.01711800222\n"
     ]
    }
   ],
   "source": [
    "RF_model = RandomForestRegressor(n_estimators = 80)\n",
    "RF_model.fit(X_train, y_train)\n",
    "scores = cross_val_score(RF_model, X_train, y_train, scoring=scoring, cv=cv)\n",
    "print('n_est {}, CV MAE {}, MAE accuracy {}'.format(est, scores, scores.mean()))"
   ]
  },
  {
   "cell_type": "code",
   "execution_count": 53,
   "metadata": {
    "collapsed": false
   },
   "outputs": [
    {
     "name": "stderr",
     "output_type": "stream",
     "text": [
      "/Users/jsmithson/anaconda/lib/python2.7/site-packages/matplotlib/collections.py:590: FutureWarning: elementwise comparison failed; returning scalar instead, but in the future will perform elementwise comparison\n",
      "  if self._edgecolors == str('face'):\n"
     ]
    },
    {
     "data": {
      "image/png": "[encoded data removed]",
      "text/plain": [
       "<matplotlib.figure.Figure at 0x10eb2d8d0>"
      ]
     },
     "metadata": {},
     "output_type": "display_data"
    }
   ],
   "source": [
    "draw_learning_curve(RF_model, X_train, y_train, estimator_titles=['Learning Curve for RF. Best'], \n",
    "                    cv=cv, scoring=scoring);"
   ]
  },
  {
   "cell_type": "code",
   "execution_count": 54,
   "metadata": {
    "collapsed": true
   },
   "outputs": [],
   "source": [
    "results.loc['RF','lc_com'] = '.......'"
   ]
  },
  {
   "cell_type": "code",
   "execution_count": 55,
   "metadata": {
    "collapsed": false
   },
   "outputs": [
    {
     "name": "stdout",
     "output_type": "stream",
     "text": [
      "Mean Absolute Error =  1.00570041816\n"
     ]
    }
   ],
   "source": [
    "# Get Mean Error of the test set\n",
    "results.loc['RF','mean_abs_error'] = mean_absolute_error(y_test, RF_model.predict(X_test))\n",
    "print 'Mean Absolute Error = ', results.loc['RF','mean_abs_error']   "
   ]
  },
  {
   "cell_type": "code",
   "execution_count": 56,
   "metadata": {
    "collapsed": false
   },
   "outputs": [
    {
     "name": "stdout",
     "output_type": "stream",
     "text": [
      "Model R2_score :  0.121813254266\n"
     ]
    }
   ],
   "source": [
    "results.loc['RF','R2_score'] = RF_model.score(X_test, y_test)\n",
    "print 'Model R2_score : ', results.loc['RF','R2_score']"
   ]
  },
  {
   "cell_type": "code",
   "execution_count": 57,
   "metadata": {
    "collapsed": false
   },
   "outputs": [
    {
     "name": "stdout",
     "output_type": "stream",
     "text": [
      "10 loops, best of 3: 15.9 ms per loop\n",
      "<IPython.core.magics.execution.TimeitResult object at 0x10ea5f550>\n"
     ]
    }
   ],
   "source": [
    "# Check the Speed of esimator\n",
    "time = %timeit -o RF_model.predict(X_test)\n",
    "print time\n",
    "results.loc['RF','time'] = time.best * 1000000"
   ]
  },
  {
   "cell_type": "markdown",
   "metadata": {},
   "source": [
    "## SVM\n"
   ]
  },
  {
   "cell_type": "markdown",
   "metadata": {},
   "source": [
    "[[back to top](#Sections)]\n"
   ]
  },
  {
   "cell_type": "code",
   "execution_count": 58,
   "metadata": {
    "collapsed": true
   },
   "outputs": [],
   "source": [
    "# Create the cv - defines how you want to break up all the tests\n",
    "cv = ShuffleSplit(X_train.shape[0], n_iter=5, test_size=0.2, random_state=0)"
   ]
  },
  {
   "cell_type": "code",
   "execution_count": 59,
   "metadata": {
    "collapsed": false
   },
   "outputs": [],
   "source": [
    "#SVM_model = SVR(C=10, kernel='rbf', gamma=.001, degree=1)\n",
    "#SVM_model.fit(X_train_std, y_train)"
   ]
  },
  {
   "cell_type": "code",
   "execution_count": 60,
   "metadata": {
    "collapsed": false
   },
   "outputs": [
    {
     "data": {
      "text/plain": [
       "GridSearchCV(cv=ShuffleSplit(3777, n_iter=5, test_size=0.2, random_state=0),\n",
       "       error_score='raise',\n",
       "       estimator=SVR(C=1.0, cache_size=200, coef0=0.0, degree=3, epsilon=0.1, gamma=0.0,\n",
       "  kernel='rbf', max_iter=-1, shrinking=True, tol=0.001, verbose=False),\n",
       "       fit_params={}, iid=True, loss_func=None, n_jobs=-1,\n",
       "       param_grid={'kernel': ['poly'], 'C': array([ 0.01   ,  1.00667,  2.00333,  3.     ]), 'gamma': array([ 0.01   ,  0.01667,  0.02333,  0.03   ]), 'degree': [1, 2, 3]},\n",
       "       pre_dispatch='2*n_jobs', refit=True, score_func=None,\n",
       "       scoring='mean_absolute_error', verbose=0)"
      ]
     },
     "execution_count": 60,
     "metadata": {},
     "output_type": "execute_result"
    }
   ],
   "source": [
    "#params = {'C': np.linspace(1, 7, 4), 'kernel': ['poly', 'rbf'],\n",
    "#         'degree': range(1,3), 'gamma': np.linspace(.001, 10, 2)}\n",
    "# 1 params = {'kernel': ['poly', 'rbf', ‘sigmoid’, ‘linear’], 'degree': range(1,4)}\n",
    "params = {'C': np.linspace(.01, 3, 4), 'kernel': ['poly'], 'degree': range(1,4), 'gamma': np.linspace(.01, .03, 4)}\n",
    "#params = {'gamma': np.linspace(.0001, .05, 4)}\n",
    "#'gamma': [0.015]}\n",
    "\n",
    "clf = SVR()\n",
    "grid = GridSearchCV(clf, params, cv=cv, scoring=scoring, n_jobs=-1)\n",
    "grid.fit(X_train_std, y_train)"
   ]
  },
  {
   "cell_type": "code",
   "execution_count": 61,
   "metadata": {
    "collapsed": false
   },
   "outputs": [
    {
     "data": {
      "text/plain": [
       "{'C': 3.0, 'degree': 1, 'gamma': 0.029999999999999999, 'kernel': 'poly'}"
      ]
     },
     "execution_count": 61,
     "metadata": {},
     "output_type": "execute_result"
    }
   ],
   "source": [
    "grid.best_params_"
   ]
  },
  {
   "cell_type": "code",
   "execution_count": 62,
   "metadata": {
    "collapsed": false
   },
   "outputs": [],
   "source": [
    "#grid.grid_scores_"
   ]
  },
  {
   "cell_type": "code",
   "execution_count": 63,
   "metadata": {
    "collapsed": true
   },
   "outputs": [],
   "source": [
    "SVM_model = grid.best_estimator_"
   ]
  },
  {
   "cell_type": "code",
   "execution_count": 64,
   "metadata": {
    "collapsed": false
   },
   "outputs": [
    {
     "data": {
      "image/png": "[encoded data removed]",
      "text/plain": [
       "<matplotlib.figure.Figure at 0x109807f10>"
      ]
     },
     "metadata": {},
     "output_type": "display_data"
    }
   ],
   "source": [
    "draw_learning_curve(SVM_model, X_train_std, y_train, estimator_titles=['Learning Curve for SVC. Best'], \n",
    "                    cv=cv, scoring=scoring);"
   ]
  },
  {
   "cell_type": "code",
   "execution_count": 65,
   "metadata": {
    "collapsed": true
   },
   "outputs": [],
   "source": [
    "results.loc['SVM','lc_com'] = '.......'"
   ]
  },
  {
   "cell_type": "code",
   "execution_count": 66,
   "metadata": {
    "collapsed": false
   },
   "outputs": [
    {
     "name": "stdout",
     "output_type": "stream",
     "text": [
      "Model R2_score :  0.113868470107\n"
     ]
    }
   ],
   "source": [
    "results.loc['SVM','R2_score'] = SVM_model.score(X_test_std, y_test)\n",
    "print 'Model R2_score : ', results.loc['SVM','R2_score']"
   ]
  },
  {
   "cell_type": "code",
   "execution_count": 67,
   "metadata": {
    "collapsed": false
   },
   "outputs": [
    {
     "name": "stdout",
     "output_type": "stream",
     "text": [
      "Mean Absolute Error =  1.00085293611\n"
     ]
    }
   ],
   "source": [
    "# Get Mean Error of the test set\n",
    "results.loc['SVM','mean_abs_error'] = mean_absolute_error(y_test, SVM_model.predict(X_test_std))\n",
    "print 'Mean Absolute Error = ', results.loc['SVM','mean_abs_error']            "
   ]
  },
  {
   "cell_type": "code",
   "execution_count": 68,
   "metadata": {
    "collapsed": false
   },
   "outputs": [
    {
     "name": "stdout",
     "output_type": "stream",
     "text": [
      "10 loops, best of 3: 65.7 ms per loop\n",
      "<IPython.core.magics.execution.TimeitResult object at 0x1128f9250>\n"
     ]
    }
   ],
   "source": [
    "# Check the Speed of esimator\n",
    "time = %timeit -o SVM_model.predict(X_test_std)\n",
    "print time\n",
    "results.loc['SVM','time'] = time.best * 1000000"
   ]
  },
  {
   "cell_type": "markdown",
   "metadata": {},
   "source": [
    "## Lasso/Ridge"
   ]
  },
  {
   "cell_type": "markdown",
   "metadata": {},
   "source": [
    "[[back to top](#Sections)]\n"
   ]
  },
  {
   "cell_type": "code",
   "execution_count": 69,
   "metadata": {
    "collapsed": true
   },
   "outputs": [],
   "source": [
    "# Create the cv - defines how you want to break up all the tests\n",
    "cv = ShuffleSplit(X_train_std.shape[0], n_iter=20, test_size=0.2, random_state=0)"
   ]
  },
  {
   "cell_type": "code",
   "execution_count": 130,
   "metadata": {
    "collapsed": false
   },
   "outputs": [
    {
     "data": {
      "text/plain": [
       "{'alpha': 0.0001}"
      ]
     },
     "execution_count": 130,
     "metadata": {},
     "output_type": "execute_result"
    }
   ],
   "source": [
    "# using Mean Absolute scoring\n",
    "parameters = {'alpha': np.linspace(.0001,1,20)}\n",
    "LR = Lasso(normalize=False)\n",
    "clf = GridSearchCV(LR, parameters, scoring=scoring, cv=cv)\n",
    "clf.fit(X_train_std, y_train)\n",
    "clf.best_params_"
   ]
  },
  {
   "cell_type": "code",
   "execution_count": 131,
   "metadata": {
    "collapsed": true
   },
   "outputs": [],
   "source": [
    "LR_model = clf.best_estimator_"
   ]
  },
  {
   "cell_type": "code",
   "execution_count": 132,
   "metadata": {
    "collapsed": false
   },
   "outputs": [
    {
     "data": {
      "image/png": "[encoded data removed]",
      "text/plain": [
       "<matplotlib.figure.Figure at 0x112f890d0>"
      ]
     },
     "metadata": {},
     "output_type": "display_data"
    }
   ],
   "source": [
    "draw_learning_curve(LR_model, X_train_std, y_train, estimator_titles=['Learning Curve for lasso'], \n",
    "                    cv=cv, scoring=scoring);"
   ]
  },
  {
   "cell_type": "code",
   "execution_count": 125,
   "metadata": {
    "collapsed": true
   },
   "outputs": [],
   "source": [
    "results.loc['LR','lc_com'] = '.......'"
   ]
  },
  {
   "cell_type": "code",
   "execution_count": 126,
   "metadata": {
    "collapsed": false
   },
   "outputs": [
    {
     "name": "stdout",
     "output_type": "stream",
     "text": [
      "Model R2_score :  0.109749759218\n"
     ]
    }
   ],
   "source": [
    "results.loc['LR','R2_score'] = LR_model.score(X_test_std, y_test)\n",
    "print 'Model R2_score : ', results.loc['LR','R2_score']"
   ]
  },
  {
   "cell_type": "code",
   "execution_count": 127,
   "metadata": {
    "collapsed": false
   },
   "outputs": [
    {
     "name": "stdout",
     "output_type": "stream",
     "text": [
      "Mean Absolute Error =  1.00400366418\n"
     ]
    }
   ],
   "source": [
    "# Get Mean Error of the test set\n",
    "results.loc['LR','mean_abs_error'] = mean_absolute_error(y_test, LR_model.predict(X_test_std))\n",
    "print 'Mean Absolute Error = ', results.loc['LR','mean_abs_error']             "
   ]
  },
  {
   "cell_type": "code",
   "execution_count": 128,
   "metadata": {
    "collapsed": false
   },
   "outputs": [
    {
     "name": "stdout",
     "output_type": "stream",
     "text": [
      "The slowest run took 12.37 times longer than the fastest. This could mean that an intermediate result is being cached \n",
      "10000 loops, best of 3: 40.2 µs per loop\n",
      "<IPython.core.magics.execution.TimeitResult object at 0x10eb47310>\n"
     ]
    }
   ],
   "source": [
    "# Check the Speed of esimator\n",
    "time = %timeit -o LR_model.predict(X_test_std)\n",
    "print time\n",
    "results.loc['LR','time'] = time.best * 1000000"
   ]
  },
  {
   "cell_type": "code",
   "execution_count": 129,
   "metadata": {
    "collapsed": false
   },
   "outputs": [
    {
     "data": {
      "text/html": [
       "<div>\n",
       "<table border=\"1\" class=\"dataframe\">\n",
       "  <thead>\n",
       "    <tr style=\"text-align: right;\">\n",
       "      <th></th>\n",
       "      <th>coefficients</th>\n",
       "      <th>features</th>\n",
       "    </tr>\n",
       "  </thead>\n",
       "  <tbody>\n",
       "    <tr>\n",
       "      <th>0</th>\n",
       "      <td>0.599154</td>\n",
       "      <td>temp_max</td>\n",
       "    </tr>\n",
       "    <tr>\n",
       "      <th>1</th>\n",
       "      <td>-0.860724</td>\n",
       "      <td>temp_mean</td>\n",
       "    </tr>\n",
       "    <tr>\n",
       "      <th>2</th>\n",
       "      <td>0.925738</td>\n",
       "      <td>temp_min</td>\n",
       "    </tr>\n",
       "    <tr>\n",
       "      <th>3</th>\n",
       "      <td>-0.043711</td>\n",
       "      <td>temp_delta</td>\n",
       "    </tr>\n",
       "    <tr>\n",
       "      <th>4</th>\n",
       "      <td>0.401793</td>\n",
       "      <td>dew_point_mean</td>\n",
       "    </tr>\n",
       "    <tr>\n",
       "      <th>5</th>\n",
       "      <td>-0.110222</td>\n",
       "      <td>humidity_mean</td>\n",
       "    </tr>\n",
       "    <tr>\n",
       "      <th>6</th>\n",
       "      <td>0.015151</td>\n",
       "      <td>sl_pressure_mean</td>\n",
       "    </tr>\n",
       "    <tr>\n",
       "      <th>7</th>\n",
       "      <td>0.599154</td>\n",
       "      <td>wind_chill_max</td>\n",
       "    </tr>\n",
       "    <tr>\n",
       "      <th>8</th>\n",
       "      <td>-0.860724</td>\n",
       "      <td>wind_chill_mean</td>\n",
       "    </tr>\n",
       "    <tr>\n",
       "      <th>9</th>\n",
       "      <td>0.009894</td>\n",
       "      <td>wind_speed_max</td>\n",
       "    </tr>\n",
       "    <tr>\n",
       "      <th>10</th>\n",
       "      <td>-0.110643</td>\n",
       "      <td>wind_speed_mean</td>\n",
       "    </tr>\n",
       "    <tr>\n",
       "      <th>11</th>\n",
       "      <td>-0.133816</td>\n",
       "      <td>precipitation</td>\n",
       "    </tr>\n",
       "    <tr>\n",
       "      <th>12</th>\n",
       "      <td>-0.702773</td>\n",
       "      <td>cloud_cover</td>\n",
       "    </tr>\n",
       "    <tr>\n",
       "      <th>13</th>\n",
       "      <td>0.018428</td>\n",
       "      <td>wind_direction</td>\n",
       "    </tr>\n",
       "    <tr>\n",
       "      <th>14</th>\n",
       "      <td>-0.024887</td>\n",
       "      <td>sun_length</td>\n",
       "    </tr>\n",
       "    <tr>\n",
       "      <th>15</th>\n",
       "      <td>0.015469</td>\n",
       "      <td>moon_phase</td>\n",
       "    </tr>\n",
       "    <tr>\n",
       "      <th>16</th>\n",
       "      <td>-0.634804</td>\n",
       "      <td>sun_units</td>\n",
       "    </tr>\n",
       "    <tr>\n",
       "      <th>17</th>\n",
       "      <td>0.323033</td>\n",
       "      <td>end_of_week</td>\n",
       "    </tr>\n",
       "    <tr>\n",
       "      <th>18</th>\n",
       "      <td>-0.043380</td>\n",
       "      <td>rain</td>\n",
       "    </tr>\n",
       "    <tr>\n",
       "      <th>19</th>\n",
       "      <td>-0.502391</td>\n",
       "      <td>temp_apparent</td>\n",
       "    </tr>\n",
       "    <tr>\n",
       "      <th>20</th>\n",
       "      <td>0.293333</td>\n",
       "      <td>heat_index</td>\n",
       "    </tr>\n",
       "  </tbody>\n",
       "</table>\n",
       "</div>"
      ],
      "text/plain": [
       "    coefficients          features\n",
       "0       0.599154          temp_max\n",
       "1      -0.860724         temp_mean\n",
       "2       0.925738          temp_min\n",
       "3      -0.043711        temp_delta\n",
       "4       0.401793    dew_point_mean\n",
       "5      -0.110222     humidity_mean\n",
       "6       0.015151  sl_pressure_mean\n",
       "7       0.599154    wind_chill_max\n",
       "8      -0.860724   wind_chill_mean\n",
       "9       0.009894    wind_speed_max\n",
       "10     -0.110643   wind_speed_mean\n",
       "11     -0.133816     precipitation\n",
       "12     -0.702773       cloud_cover\n",
       "13      0.018428    wind_direction\n",
       "14     -0.024887        sun_length\n",
       "15      0.015469        moon_phase\n",
       "16     -0.634804         sun_units\n",
       "17      0.323033       end_of_week\n",
       "18     -0.043380              rain\n",
       "19     -0.502391     temp_apparent\n",
       "20      0.293333        heat_index"
      ]
     },
     "execution_count": 129,
     "metadata": {},
     "output_type": "execute_result"
    }
   ],
   "source": [
    "# create a dataframe to show our coefficients\n",
    "d = {'features': X_test.columns, 'coefficients': LR_model.coef_}\n",
    "pd.DataFrame(d)"
   ]
  },
  {
   "cell_type": "markdown",
   "metadata": {},
   "source": [
    "## knn"
   ]
  },
  {
   "cell_type": "markdown",
   "metadata": {},
   "source": [
    "[[back to top](#Sections)]\n"
   ]
  },
  {
   "cell_type": "code",
   "execution_count": 78,
   "metadata": {
    "collapsed": true
   },
   "outputs": [],
   "source": [
    "# Create the cv - defines how you want to break up all the tests\n",
    "cv = ShuffleSplit(X_train_std.shape[0], n_iter=5, test_size=0.2, random_state=0)"
   ]
  },
  {
   "cell_type": "code",
   "execution_count": 79,
   "metadata": {
    "collapsed": false
   },
   "outputs": [],
   "source": [
    "# Can be any estimator\n",
    "knn = KNeighborsRegressor()"
   ]
  },
  {
   "cell_type": "code",
   "execution_count": 80,
   "metadata": {
    "collapsed": false
   },
   "outputs": [
    {
     "data": {
      "text/plain": [
       "{'n_neighbors': 9, 'p': 1, 'weights': 'distance'}"
      ]
     },
     "execution_count": 80,
     "metadata": {},
     "output_type": "execute_result"
    }
   ],
   "source": [
    "# Run estimator for all parameter combinations\n",
    "parameters = {'n_neighbors': range(1,10), 'weights': ['uniform', 'distance'],'p': range(1,4)}\n",
    "#parameters = {'n_neighbors': range(1,20), 'weights': ['uniform', 'distance'],'p': range(1,4)}\n",
    "clf = GridSearchCV(knn, parameters, cv=cv)\n",
    "clf.fit(X_train_std, y_train)\n",
    "clf.best_params_"
   ]
  },
  {
   "cell_type": "code",
   "execution_count": 81,
   "metadata": {
    "collapsed": true
   },
   "outputs": [],
   "source": [
    "knn_model = clf.best_estimator_"
   ]
  },
  {
   "cell_type": "code",
   "execution_count": 82,
   "metadata": {
    "collapsed": false
   },
   "outputs": [
    {
     "data": {
      "image/png": "[encoded data removed]",
      "text/plain": [
       "<matplotlib.figure.Figure at 0x1097fc0d0>"
      ]
     },
     "metadata": {},
     "output_type": "display_data"
    }
   ],
   "source": [
    "draw_learning_curve(knn_model, X_train_std, y_train, estimator_titles=['Learning Curve for knn'], \n",
    "                    cv=cv, scoring=scoring);"
   ]
  },
  {
   "cell_type": "code",
   "execution_count": 83,
   "metadata": {
    "collapsed": true
   },
   "outputs": [],
   "source": [
    "results.loc['knn','lc_com'] = '.......'"
   ]
  },
  {
   "cell_type": "code",
   "execution_count": 84,
   "metadata": {
    "collapsed": false
   },
   "outputs": [
    {
     "name": "stdout",
     "output_type": "stream",
     "text": [
      "Model R2_score :  0.0639729612307\n"
     ]
    }
   ],
   "source": [
    "# Find out Score for actual data\n",
    "results.loc['knn','R2_score'] = knn_model.score(X_test_std, y_test)\n",
    "print 'Model R2_score : ', results.loc['knn','R2_score']"
   ]
  },
  {
   "cell_type": "code",
   "execution_count": 85,
   "metadata": {
    "collapsed": false
   },
   "outputs": [
    {
     "name": "stdout",
     "output_type": "stream",
     "text": [
      "Mean Absolute Error =  1.04657293887\n"
     ]
    }
   ],
   "source": [
    "# Get Mean Error of the test set\n",
    "results.loc['knn','mean_abs_error'] = mean_absolute_error(y_test, knn_model.predict(X_test_std))\n",
    "print 'Mean Absolute Error = ', results.loc['knn','mean_abs_error']   "
   ]
  },
  {
   "cell_type": "code",
   "execution_count": 86,
   "metadata": {
    "collapsed": false
   },
   "outputs": [
    {
     "name": "stdout",
     "output_type": "stream",
     "text": [
      "10 loops, best of 3: 98.9 ms per loop\n",
      "<IPython.core.magics.execution.TimeitResult object at 0x10955d190>\n"
     ]
    }
   ],
   "source": [
    "# Check the Speed of esimator\n",
    "time = %timeit -o knn_model.predict(X_test_std)\n",
    "print time\n",
    "results.loc['knn','time'] = time.best * 1000000"
   ]
  },
  {
   "cell_type": "markdown",
   "metadata": {},
   "source": [
    "# Forecast"
   ]
  },
  {
   "cell_type": "markdown",
   "metadata": {},
   "source": [
    "[[back to top](#Sections)]\n"
   ]
  },
  {
   "cell_type": "markdown",
   "metadata": {},
   "source": [
    "## Data source for Forecast\n",
    "Data was consolidated in Notebook\n",
    "- This is done in the `'8_get_weather_forcast'` notebook. | Downloaded from Weather Underground and OpenWeatherMap\n",
    "- Data is written to file. `'forecast_10day.csv'`\n",
    "\n",
    "\n",
    "FieldName|Type|Description                             \n",
    "---------------|------------|---------------------\n",
    "Index:Date|DateTime|2003-01-01 to 2015-12-31\n",
    "date|string|Format yyyy-m-d\n",
    "dayofweek|object|Day of the week in string format\n",
    "day|int64|Day of month in numeric\n",
    "month|int64|Month of year in numeric\n",
    "year|int64|Year in numeric\n",
    "temp_max|int64|High Temperature for the day in degrees F\n",
    "temp_mean|int64|Mean Temperature for the day in degrees F\n",
    "temp_min|int64|Low Temperature for the day in degrees F\n",
    "temp_delta|int64|Temperature change for the day in degrees F\n",
    "sl_pressure_mean|float64|Mean Sea Level for the day in inches\n",
    "humidity_mean|int64|Mean Humidity for the day in percentage\n",
    "wind_speed_max|int64|Maximum maintained Wind Speed in mph\n",
    "wind_speed_mean|int64|Mean maintained Wind Speed in mph\n",
    "cloud_cover|int64|Cloud Cover in percentage.\n",
    "precipitation|float64|Amount is precipitation in inches\n",
    "events|object|Significant Events such as 'Rain', 'Fog'\n",
    "wind_direction|int64|General wind direction, numeric 0 359\n",
    "dew_point_mean|int64|Mean Dewpoint for day on day\n",
    "sun_length|float64|Number of minutes of Sun on day\n",
    "moon_phase|float64|Phase moon is in. 0.5 = full moon\n",
    "sun_units|float64|the minutes of Sun scaled by the cloud cover percentage\n",
    "rain|bool| IS there rain in the forcast\n",
    "end_of_week|bool|is it Friday or Saturday"
   ]
  },
  {
   "cell_type": "code",
   "execution_count": 87,
   "metadata": {
    "collapsed": false
   },
   "outputs": [
    {
     "data": {
      "text/html": [
       "<div>\n",
       "<table border=\"1\" class=\"dataframe\">\n",
       "  <thead>\n",
       "    <tr style=\"text-align: right;\">\n",
       "      <th></th>\n",
       "      <th>date</th>\n",
       "      <th>dayofweek</th>\n",
       "      <th>day</th>\n",
       "      <th>month</th>\n",
       "      <th>year</th>\n",
       "      <th>temp_max</th>\n",
       "      <th>temp_mean</th>\n",
       "      <th>temp_min</th>\n",
       "      <th>temp_delta</th>\n",
       "      <th>sl_pressure_mean</th>\n",
       "      <th>...</th>\n",
       "      <th>end_of_week</th>\n",
       "      <th>rain</th>\n",
       "      <th>sun_length</th>\n",
       "      <th>moon_phase</th>\n",
       "      <th>sun_units</th>\n",
       "      <th>dew_point_mean</th>\n",
       "      <th>wind_chill_mean</th>\n",
       "      <th>wind_chill_max</th>\n",
       "      <th>heat_index</th>\n",
       "      <th>temp_apparent</th>\n",
       "    </tr>\n",
       "  </thead>\n",
       "  <tbody>\n",
       "    <tr>\n",
       "      <th>0</th>\n",
       "      <td>2016-2-29</td>\n",
       "      <td>monday</td>\n",
       "      <td>29</td>\n",
       "      <td>2</td>\n",
       "      <td>2016</td>\n",
       "      <td>74</td>\n",
       "      <td>64</td>\n",
       "      <td>54</td>\n",
       "      <td>20</td>\n",
       "      <td>30.324062</td>\n",
       "      <td>...</td>\n",
       "      <td>False</td>\n",
       "      <td>False</td>\n",
       "      <td>682.266667</td>\n",
       "      <td>0.704623</td>\n",
       "      <td>436.650667</td>\n",
       "      <td>55.059697</td>\n",
       "      <td>64</td>\n",
       "      <td>74</td>\n",
       "      <td>245.780802</td>\n",
       "      <td>111.154247</td>\n",
       "    </tr>\n",
       "    <tr>\n",
       "      <th>1</th>\n",
       "      <td>2016-3-1</td>\n",
       "      <td>tuesday</td>\n",
       "      <td>1</td>\n",
       "      <td>3</td>\n",
       "      <td>2016</td>\n",
       "      <td>66</td>\n",
       "      <td>59</td>\n",
       "      <td>52</td>\n",
       "      <td>14</td>\n",
       "      <td>30.295418</td>\n",
       "      <td>...</td>\n",
       "      <td>False</td>\n",
       "      <td>False</td>\n",
       "      <td>684.650000</td>\n",
       "      <td>0.738557</td>\n",
       "      <td>684.650000</td>\n",
       "      <td>50.041066</td>\n",
       "      <td>59</td>\n",
       "      <td>66</td>\n",
       "      <td>194.294110</td>\n",
       "      <td>88.604228</td>\n",
       "    </tr>\n",
       "    <tr>\n",
       "      <th>2</th>\n",
       "      <td>2016-3-2</td>\n",
       "      <td>wednesday</td>\n",
       "      <td>2</td>\n",
       "      <td>3</td>\n",
       "      <td>2016</td>\n",
       "      <td>65</td>\n",
       "      <td>60</td>\n",
       "      <td>55</td>\n",
       "      <td>10</td>\n",
       "      <td>30.253190</td>\n",
       "      <td>...</td>\n",
       "      <td>False</td>\n",
       "      <td>False</td>\n",
       "      <td>687.016667</td>\n",
       "      <td>0.772491</td>\n",
       "      <td>604.574667</td>\n",
       "      <td>53.916106</td>\n",
       "      <td>60</td>\n",
       "      <td>65</td>\n",
       "      <td>238.543985</td>\n",
       "      <td>95.979855</td>\n",
       "    </tr>\n",
       "    <tr>\n",
       "      <th>3</th>\n",
       "      <td>2016-3-3</td>\n",
       "      <td>thursday</td>\n",
       "      <td>3</td>\n",
       "      <td>3</td>\n",
       "      <td>2016</td>\n",
       "      <td>63</td>\n",
       "      <td>58</td>\n",
       "      <td>53</td>\n",
       "      <td>10</td>\n",
       "      <td>30.330263</td>\n",
       "      <td>...</td>\n",
       "      <td>False</td>\n",
       "      <td>True</td>\n",
       "      <td>689.416667</td>\n",
       "      <td>0.806424</td>\n",
       "      <td>55.153333</td>\n",
       "      <td>51.164585</td>\n",
       "      <td>58</td>\n",
       "      <td>63</td>\n",
       "      <td>207.678601</td>\n",
       "      <td>92.720995</td>\n",
       "    </tr>\n",
       "    <tr>\n",
       "      <th>4</th>\n",
       "      <td>2016-3-4</td>\n",
       "      <td>friday</td>\n",
       "      <td>4</td>\n",
       "      <td>3</td>\n",
       "      <td>2016</td>\n",
       "      <td>63</td>\n",
       "      <td>59</td>\n",
       "      <td>56</td>\n",
       "      <td>7</td>\n",
       "      <td>29.961729</td>\n",
       "      <td>...</td>\n",
       "      <td>True</td>\n",
       "      <td>True</td>\n",
       "      <td>691.783333</td>\n",
       "      <td>0.840358</td>\n",
       "      <td>172.945833</td>\n",
       "      <td>51.543547</td>\n",
       "      <td>59</td>\n",
       "      <td>63</td>\n",
       "      <td>210.765965</td>\n",
       "      <td>93.127630</td>\n",
       "    </tr>\n",
       "    <tr>\n",
       "      <th>5</th>\n",
       "      <td>2016-3-5</td>\n",
       "      <td>saturday</td>\n",
       "      <td>5</td>\n",
       "      <td>3</td>\n",
       "      <td>2016</td>\n",
       "      <td>64</td>\n",
       "      <td>59</td>\n",
       "      <td>54</td>\n",
       "      <td>10</td>\n",
       "      <td>29.929246</td>\n",
       "      <td>...</td>\n",
       "      <td>True</td>\n",
       "      <td>True</td>\n",
       "      <td>694.183333</td>\n",
       "      <td>0.874292</td>\n",
       "      <td>104.127500</td>\n",
       "      <td>53.499108</td>\n",
       "      <td>59</td>\n",
       "      <td>64</td>\n",
       "      <td>234.994865</td>\n",
       "      <td>87.000394</td>\n",
       "    </tr>\n",
       "    <tr>\n",
       "      <th>6</th>\n",
       "      <td>2016-3-6</td>\n",
       "      <td>sunday</td>\n",
       "      <td>6</td>\n",
       "      <td>3</td>\n",
       "      <td>2016</td>\n",
       "      <td>60</td>\n",
       "      <td>55</td>\n",
       "      <td>51</td>\n",
       "      <td>9</td>\n",
       "      <td>29.655207</td>\n",
       "      <td>...</td>\n",
       "      <td>False</td>\n",
       "      <td>True</td>\n",
       "      <td>696.566667</td>\n",
       "      <td>0.908226</td>\n",
       "      <td>6.965667</td>\n",
       "      <td>47.455484</td>\n",
       "      <td>55</td>\n",
       "      <td>60</td>\n",
       "      <td>171.281888</td>\n",
       "      <td>74.777254</td>\n",
       "    </tr>\n",
       "    <tr>\n",
       "      <th>7</th>\n",
       "      <td>2016-3-7</td>\n",
       "      <td>monday</td>\n",
       "      <td>7</td>\n",
       "      <td>3</td>\n",
       "      <td>2016</td>\n",
       "      <td>59</td>\n",
       "      <td>55</td>\n",
       "      <td>51</td>\n",
       "      <td>8</td>\n",
       "      <td>29.687985</td>\n",
       "      <td>...</td>\n",
       "      <td>False</td>\n",
       "      <td>True</td>\n",
       "      <td>698.983333</td>\n",
       "      <td>0.942160</td>\n",
       "      <td>671.024000</td>\n",
       "      <td>46.577691</td>\n",
       "      <td>55</td>\n",
       "      <td>59</td>\n",
       "      <td>163.184754</td>\n",
       "      <td>76.026069</td>\n",
       "    </tr>\n",
       "    <tr>\n",
       "      <th>8</th>\n",
       "      <td>2016-3-8</td>\n",
       "      <td>tuesday</td>\n",
       "      <td>8</td>\n",
       "      <td>3</td>\n",
       "      <td>2016</td>\n",
       "      <td>60</td>\n",
       "      <td>56</td>\n",
       "      <td>52</td>\n",
       "      <td>8</td>\n",
       "      <td>29.903850</td>\n",
       "      <td>...</td>\n",
       "      <td>False</td>\n",
       "      <td>True</td>\n",
       "      <td>701.366667</td>\n",
       "      <td>0.976093</td>\n",
       "      <td>448.874667</td>\n",
       "      <td>48.975407</td>\n",
       "      <td>56</td>\n",
       "      <td>60</td>\n",
       "      <td>185.760726</td>\n",
       "      <td>80.706963</td>\n",
       "    </tr>\n",
       "    <tr>\n",
       "      <th>9</th>\n",
       "      <td>2016-3-9</td>\n",
       "      <td>wednesday</td>\n",
       "      <td>9</td>\n",
       "      <td>3</td>\n",
       "      <td>2016</td>\n",
       "      <td>61</td>\n",
       "      <td>57</td>\n",
       "      <td>53</td>\n",
       "      <td>8</td>\n",
       "      <td>29.918910</td>\n",
       "      <td>...</td>\n",
       "      <td>False</td>\n",
       "      <td>True</td>\n",
       "      <td>703.783333</td>\n",
       "      <td>1.010027</td>\n",
       "      <td>302.626833</td>\n",
       "      <td>50.764531</td>\n",
       "      <td>57</td>\n",
       "      <td>61</td>\n",
       "      <td>204.336450</td>\n",
       "      <td>86.683367</td>\n",
       "    </tr>\n",
       "  </tbody>\n",
       "</table>\n",
       "<p>10 rows × 28 columns</p>\n",
       "</div>"
      ],
      "text/plain": [
       "        date  dayofweek  day  month  year  temp_max  temp_mean  temp_min  \\\n",
       "0  2016-2-29     monday   29      2  2016        74         64        54   \n",
       "1   2016-3-1    tuesday    1      3  2016        66         59        52   \n",
       "2   2016-3-2  wednesday    2      3  2016        65         60        55   \n",
       "3   2016-3-3   thursday    3      3  2016        63         58        53   \n",
       "4   2016-3-4     friday    4      3  2016        63         59        56   \n",
       "5   2016-3-5   saturday    5      3  2016        64         59        54   \n",
       "6   2016-3-6     sunday    6      3  2016        60         55        51   \n",
       "7   2016-3-7     monday    7      3  2016        59         55        51   \n",
       "8   2016-3-8    tuesday    8      3  2016        60         56        52   \n",
       "9   2016-3-9  wednesday    9      3  2016        61         57        53   \n",
       "\n",
       "   temp_delta  sl_pressure_mean      ...       end_of_week   rain  sun_length  \\\n",
       "0          20         30.324062      ...             False  False  682.266667   \n",
       "1          14         30.295418      ...             False  False  684.650000   \n",
       "2          10         30.253190      ...             False  False  687.016667   \n",
       "3          10         30.330263      ...             False   True  689.416667   \n",
       "4           7         29.961729      ...              True   True  691.783333   \n",
       "5          10         29.929246      ...              True   True  694.183333   \n",
       "6           9         29.655207      ...             False   True  696.566667   \n",
       "7           8         29.687985      ...             False   True  698.983333   \n",
       "8           8         29.903850      ...             False   True  701.366667   \n",
       "9           8         29.918910      ...             False   True  703.783333   \n",
       "\n",
       "   moon_phase   sun_units dew_point_mean  wind_chill_mean wind_chill_max  \\\n",
       "0    0.704623  436.650667      55.059697               64             74   \n",
       "1    0.738557  684.650000      50.041066               59             66   \n",
       "2    0.772491  604.574667      53.916106               60             65   \n",
       "3    0.806424   55.153333      51.164585               58             63   \n",
       "4    0.840358  172.945833      51.543547               59             63   \n",
       "5    0.874292  104.127500      53.499108               59             64   \n",
       "6    0.908226    6.965667      47.455484               55             60   \n",
       "7    0.942160  671.024000      46.577691               55             59   \n",
       "8    0.976093  448.874667      48.975407               56             60   \n",
       "9    1.010027  302.626833      50.764531               57             61   \n",
       "\n",
       "   heat_index temp_apparent  \n",
       "0  245.780802    111.154247  \n",
       "1  194.294110     88.604228  \n",
       "2  238.543985     95.979855  \n",
       "3  207.678601     92.720995  \n",
       "4  210.765965     93.127630  \n",
       "5  234.994865     87.000394  \n",
       "6  171.281888     74.777254  \n",
       "7  163.184754     76.026069  \n",
       "8  185.760726     80.706963  \n",
       "9  204.336450     86.683367  \n",
       "\n",
       "[10 rows x 28 columns]"
      ]
     },
     "execution_count": 87,
     "metadata": {},
     "output_type": "execute_result"
    }
   ],
   "source": [
    "forecast = pd.read_csv('forecast_10day.csv', index_col=0)\n",
    "forecast\n",
    "\n"
   ]
  },
  {
   "cell_type": "code",
   "execution_count": 88,
   "metadata": {
    "collapsed": false
   },
   "outputs": [
    {
     "name": "stdout",
     "output_type": "stream",
     "text": [
      "<class 'pandas.core.frame.DataFrame'>\n",
      "Int64Index: 10 entries, 0 to 9\n",
      "Data columns (total 28 columns):\n",
      "date                10 non-null object\n",
      "dayofweek           10 non-null object\n",
      "day                 10 non-null int64\n",
      "month               10 non-null int64\n",
      "year                10 non-null int64\n",
      "temp_max            10 non-null int64\n",
      "temp_mean           10 non-null int64\n",
      "temp_min            10 non-null int64\n",
      "temp_delta          10 non-null int64\n",
      "sl_pressure_mean    10 non-null float64\n",
      "humidity_mean       10 non-null int64\n",
      "wind_speed_max      10 non-null int64\n",
      "wind_speed_mean     10 non-null int64\n",
      "cloud_cover         10 non-null int64\n",
      "precipitation       10 non-null float64\n",
      "events              10 non-null object\n",
      "wind_direction      10 non-null int64\n",
      "owm_status          10 non-null object\n",
      "end_of_week         10 non-null bool\n",
      "rain                10 non-null bool\n",
      "sun_length          10 non-null float64\n",
      "moon_phase          10 non-null float64\n",
      "sun_units           10 non-null float64\n",
      "dew_point_mean      10 non-null float64\n",
      "wind_chill_mean     10 non-null int64\n",
      "wind_chill_max      10 non-null int64\n",
      "heat_index          10 non-null float64\n",
      "temp_apparent       10 non-null float64\n",
      "dtypes: bool(2), float64(8), int64(14), object(4)\n",
      "memory usage: 2.1+ KB\n"
     ]
    }
   ],
   "source": [
    "forecast.info()\n"
   ]
  },
  {
   "cell_type": "markdown",
   "metadata": {},
   "source": [
    "## Add Engineered Features"
   ]
  },
  {
   "cell_type": "markdown",
   "metadata": {},
   "source": [
    "[[back to top](#Sections)]\n"
   ]
  },
  {
   "cell_type": "code",
   "execution_count": 89,
   "metadata": {
    "collapsed": true
   },
   "outputs": [],
   "source": [
    "#data['events'].fillna('No', inplace=True)\n",
    "forecast['events'] = forecast['events'].astype('category')\n",
    "forecast['day'] = forecast['day'].astype('category')\n",
    "forecast['month'] = forecast['month'].astype('category')\n",
    "forecast['year'] = forecast['year'].astype('category')\n",
    "forecast['dayofweek'] = forecast['dayofweek'].astype('category')\n",
    "forecast['end_of_week'] = forecast['end_of_week'].astype('category')\n",
    "forecast['rain'] = forecast['rain'].astype('category')\n",
    "\n"
   ]
  },
  {
   "cell_type": "code",
   "execution_count": 90,
   "metadata": {
    "collapsed": false
   },
   "outputs": [
    {
     "data": {
      "text/html": [
       "<div>\n",
       "<table border=\"1\" class=\"dataframe\">\n",
       "  <thead>\n",
       "    <tr style=\"text-align: right;\">\n",
       "      <th></th>\n",
       "      <th>temp_max</th>\n",
       "      <th>temp_mean</th>\n",
       "      <th>temp_min</th>\n",
       "      <th>temp_delta</th>\n",
       "      <th>dew_point_mean</th>\n",
       "      <th>humidity_mean</th>\n",
       "      <th>sl_pressure_mean</th>\n",
       "      <th>wind_chill_max</th>\n",
       "      <th>wind_chill_mean</th>\n",
       "      <th>wind_speed_max</th>\n",
       "      <th>...</th>\n",
       "      <th>precipitation</th>\n",
       "      <th>cloud_cover</th>\n",
       "      <th>wind_direction</th>\n",
       "      <th>sun_length</th>\n",
       "      <th>moon_phase</th>\n",
       "      <th>sun_units</th>\n",
       "      <th>end_of_week</th>\n",
       "      <th>rain</th>\n",
       "      <th>temp_apparent</th>\n",
       "      <th>heat_index</th>\n",
       "    </tr>\n",
       "  </thead>\n",
       "  <tbody>\n",
       "    <tr>\n",
       "      <th>0</th>\n",
       "      <td>74</td>\n",
       "      <td>64</td>\n",
       "      <td>54</td>\n",
       "      <td>20</td>\n",
       "      <td>55.059697</td>\n",
       "      <td>66</td>\n",
       "      <td>30.324062</td>\n",
       "      <td>74</td>\n",
       "      <td>64</td>\n",
       "      <td>9</td>\n",
       "      <td>...</td>\n",
       "      <td>0.00</td>\n",
       "      <td>36</td>\n",
       "      <td>54</td>\n",
       "      <td>682.266667</td>\n",
       "      <td>0.704623</td>\n",
       "      <td>436.650667</td>\n",
       "      <td>False</td>\n",
       "      <td>False</td>\n",
       "      <td>111.154247</td>\n",
       "      <td>245.780802</td>\n",
       "    </tr>\n",
       "    <tr>\n",
       "      <th>1</th>\n",
       "      <td>66</td>\n",
       "      <td>59</td>\n",
       "      <td>52</td>\n",
       "      <td>14</td>\n",
       "      <td>50.041066</td>\n",
       "      <td>65</td>\n",
       "      <td>30.295418</td>\n",
       "      <td>66</td>\n",
       "      <td>59</td>\n",
       "      <td>15</td>\n",
       "      <td>...</td>\n",
       "      <td>0.00</td>\n",
       "      <td>0</td>\n",
       "      <td>258</td>\n",
       "      <td>684.650000</td>\n",
       "      <td>0.738557</td>\n",
       "      <td>684.650000</td>\n",
       "      <td>False</td>\n",
       "      <td>False</td>\n",
       "      <td>88.604228</td>\n",
       "      <td>194.294110</td>\n",
       "    </tr>\n",
       "    <tr>\n",
       "      <th>2</th>\n",
       "      <td>65</td>\n",
       "      <td>60</td>\n",
       "      <td>55</td>\n",
       "      <td>10</td>\n",
       "      <td>53.916106</td>\n",
       "      <td>75</td>\n",
       "      <td>30.253190</td>\n",
       "      <td>65</td>\n",
       "      <td>60</td>\n",
       "      <td>20</td>\n",
       "      <td>...</td>\n",
       "      <td>0.24</td>\n",
       "      <td>12</td>\n",
       "      <td>210</td>\n",
       "      <td>687.016667</td>\n",
       "      <td>0.772491</td>\n",
       "      <td>604.574667</td>\n",
       "      <td>False</td>\n",
       "      <td>False</td>\n",
       "      <td>95.979855</td>\n",
       "      <td>238.543985</td>\n",
       "    </tr>\n",
       "    <tr>\n",
       "      <th>3</th>\n",
       "      <td>63</td>\n",
       "      <td>58</td>\n",
       "      <td>53</td>\n",
       "      <td>10</td>\n",
       "      <td>51.164585</td>\n",
       "      <td>72</td>\n",
       "      <td>30.330263</td>\n",
       "      <td>63</td>\n",
       "      <td>58</td>\n",
       "      <td>10</td>\n",
       "      <td>...</td>\n",
       "      <td>0.01</td>\n",
       "      <td>92</td>\n",
       "      <td>230</td>\n",
       "      <td>689.416667</td>\n",
       "      <td>0.806424</td>\n",
       "      <td>55.153333</td>\n",
       "      <td>False</td>\n",
       "      <td>True</td>\n",
       "      <td>92.720995</td>\n",
       "      <td>207.678601</td>\n",
       "    </tr>\n",
       "    <tr>\n",
       "      <th>4</th>\n",
       "      <td>63</td>\n",
       "      <td>59</td>\n",
       "      <td>56</td>\n",
       "      <td>7</td>\n",
       "      <td>51.543547</td>\n",
       "      <td>70</td>\n",
       "      <td>29.961729</td>\n",
       "      <td>63</td>\n",
       "      <td>59</td>\n",
       "      <td>10</td>\n",
       "      <td>...</td>\n",
       "      <td>0.17</td>\n",
       "      <td>75</td>\n",
       "      <td>176</td>\n",
       "      <td>691.783333</td>\n",
       "      <td>0.840358</td>\n",
       "      <td>172.945833</td>\n",
       "      <td>True</td>\n",
       "      <td>True</td>\n",
       "      <td>93.127630</td>\n",
       "      <td>210.765965</td>\n",
       "    </tr>\n",
       "  </tbody>\n",
       "</table>\n",
       "<p>5 rows × 21 columns</p>\n",
       "</div>"
      ],
      "text/plain": [
       "   temp_max  temp_mean  temp_min  temp_delta  dew_point_mean  humidity_mean  \\\n",
       "0        74         64        54          20       55.059697             66   \n",
       "1        66         59        52          14       50.041066             65   \n",
       "2        65         60        55          10       53.916106             75   \n",
       "3        63         58        53          10       51.164585             72   \n",
       "4        63         59        56           7       51.543547             70   \n",
       "\n",
       "   sl_pressure_mean  wind_chill_max  wind_chill_mean  wind_speed_max  \\\n",
       "0         30.324062              74               64               9   \n",
       "1         30.295418              66               59              15   \n",
       "2         30.253190              65               60              20   \n",
       "3         30.330263              63               58              10   \n",
       "4         29.961729              63               59              10   \n",
       "\n",
       "      ...      precipitation  cloud_cover  wind_direction  sun_length  \\\n",
       "0     ...               0.00           36              54  682.266667   \n",
       "1     ...               0.00            0             258  684.650000   \n",
       "2     ...               0.24           12             210  687.016667   \n",
       "3     ...               0.01           92             230  689.416667   \n",
       "4     ...               0.17           75             176  691.783333   \n",
       "\n",
       "   moon_phase   sun_units  end_of_week   rain temp_apparent  heat_index  \n",
       "0    0.704623  436.650667        False  False    111.154247  245.780802  \n",
       "1    0.738557  684.650000        False  False     88.604228  194.294110  \n",
       "2    0.772491  604.574667        False  False     95.979855  238.543985  \n",
       "3    0.806424   55.153333        False   True     92.720995  207.678601  \n",
       "4    0.840358  172.945833         True   True     93.127630  210.765965  \n",
       "\n",
       "[5 rows x 21 columns]"
      ]
     },
     "execution_count": 90,
     "metadata": {},
     "output_type": "execute_result"
    }
   ],
   "source": [
    "forecast2 = forecast[features]\n",
    "forecast2.head()"
   ]
  },
  {
   "cell_type": "code",
   "execution_count": 91,
   "metadata": {
    "collapsed": false
   },
   "outputs": [],
   "source": [
    "# use get_dummies to convert categoricals into binary features\n",
    "#forecast2 = pd.get_dummies(forecast2)\n",
    "#forecast2.head(2)"
   ]
  },
  {
   "cell_type": "code",
   "execution_count": 92,
   "metadata": {
    "collapsed": false
   },
   "outputs": [],
   "source": [
    "# Drop one feature for each categorical\n",
    "# drop on day of week\n",
    "#forecast2.drop(dummy_drop, axis=1, inplace=True)\n",
    "#forecast2.head(2)"
   ]
  },
  {
   "cell_type": "code",
   "execution_count": 93,
   "metadata": {
    "collapsed": false
   },
   "outputs": [
    {
     "name": "stdout",
     "output_type": "stream",
     "text": [
      "Do the two Datasets have matching Features? :  True\n"
     ]
    }
   ],
   "source": [
    "print 'Do the two Datasets have matching Features? : ', list(X) == list(forecast2)"
   ]
  },
  {
   "cell_type": "code",
   "execution_count": 94,
   "metadata": {
    "collapsed": false
   },
   "outputs": [],
   "source": [
    "prediction = forecast[['dayofweek', 'month', 'day','year', 'temp_max']]"
   ]
  },
  {
   "cell_type": "code",
   "execution_count": 95,
   "metadata": {
    "collapsed": false
   },
   "outputs": [],
   "source": [
    "forecast2_std = stdsc.transform(forecast2)"
   ]
  },
  {
   "cell_type": "markdown",
   "metadata": {},
   "source": [
    "### Run Models on Prediction"
   ]
  },
  {
   "cell_type": "markdown",
   "metadata": {},
   "source": [
    "[[back to top](#Sections)]\n"
   ]
  },
  {
   "cell_type": "code",
   "execution_count": 96,
   "metadata": {
    "collapsed": false,
    "scrolled": false
   },
   "outputs": [
    {
     "name": "stderr",
     "output_type": "stream",
     "text": [
      "/Users/jsmithson/anaconda/lib/python2.7/site-packages/pandas/core/indexing.py:260: SettingWithCopyWarning: \n",
      "A value is trying to be set on a copy of a slice from a DataFrame.\n",
      "Try using .loc[row_indexer,col_indexer] = value instead\n",
      "\n",
      "See the caveats in the documentation: http://pandas.pydata.org/pandas-docs/stable/indexing.html#indexing-view-versus-copy\n",
      "  self.obj[key] = _infer_fill_value(value)\n",
      "/Users/jsmithson/anaconda/lib/python2.7/site-packages/pandas/core/indexing.py:420: SettingWithCopyWarning: \n",
      "A value is trying to be set on a copy of a slice from a DataFrame.\n",
      "Try using .loc[row_indexer,col_indexer] = value instead\n",
      "\n",
      "See the caveats in the documentation: http://pandas.pydata.org/pandas-docs/stable/indexing.html#indexing-view-versus-copy\n",
      "  self.obj[item] = s\n"
     ]
    },
    {
     "data": {
      "text/html": [
       "<div>\n",
       "<table border=\"1\" class=\"dataframe\">\n",
       "  <thead>\n",
       "    <tr style=\"text-align: right;\">\n",
       "      <th></th>\n",
       "      <th>dayofweek</th>\n",
       "      <th>month</th>\n",
       "      <th>day</th>\n",
       "      <th>year</th>\n",
       "      <th>temp_max</th>\n",
       "      <th>prediction (dummy)</th>\n",
       "      <th>prediction (RF)</th>\n",
       "      <th>prediction (SVM)</th>\n",
       "      <th>prediction (LR)</th>\n",
       "      <th>prediction (knn)</th>\n",
       "    </tr>\n",
       "  </thead>\n",
       "  <tbody>\n",
       "    <tr>\n",
       "      <th>0</th>\n",
       "      <td>monday</td>\n",
       "      <td>2</td>\n",
       "      <td>29</td>\n",
       "      <td>2016</td>\n",
       "      <td>74</td>\n",
       "      <td>4.633704</td>\n",
       "      <td>4.782056</td>\n",
       "      <td>4.702432</td>\n",
       "      <td>4.837893</td>\n",
       "      <td>4.854195</td>\n",
       "    </tr>\n",
       "    <tr>\n",
       "      <th>1</th>\n",
       "      <td>tuesday</td>\n",
       "      <td>3</td>\n",
       "      <td>1</td>\n",
       "      <td>2016</td>\n",
       "      <td>66</td>\n",
       "      <td>4.633704</td>\n",
       "      <td>4.753629</td>\n",
       "      <td>4.780502</td>\n",
       "      <td>4.706091</td>\n",
       "      <td>4.132211</td>\n",
       "    </tr>\n",
       "    <tr>\n",
       "      <th>2</th>\n",
       "      <td>wednesday</td>\n",
       "      <td>3</td>\n",
       "      <td>2</td>\n",
       "      <td>2016</td>\n",
       "      <td>65</td>\n",
       "      <td>4.633704</td>\n",
       "      <td>4.760484</td>\n",
       "      <td>4.715349</td>\n",
       "      <td>4.664000</td>\n",
       "      <td>4.450975</td>\n",
       "    </tr>\n",
       "    <tr>\n",
       "      <th>3</th>\n",
       "      <td>thursday</td>\n",
       "      <td>3</td>\n",
       "      <td>3</td>\n",
       "      <td>2016</td>\n",
       "      <td>63</td>\n",
       "      <td>4.633704</td>\n",
       "      <td>3.823992</td>\n",
       "      <td>4.271382</td>\n",
       "      <td>4.319673</td>\n",
       "      <td>4.462999</td>\n",
       "    </tr>\n",
       "    <tr>\n",
       "      <th>4</th>\n",
       "      <td>friday</td>\n",
       "      <td>3</td>\n",
       "      <td>4</td>\n",
       "      <td>2016</td>\n",
       "      <td>63</td>\n",
       "      <td>4.633704</td>\n",
       "      <td>4.463508</td>\n",
       "      <td>5.070351</td>\n",
       "      <td>4.998841</td>\n",
       "      <td>4.904007</td>\n",
       "    </tr>\n",
       "    <tr>\n",
       "      <th>5</th>\n",
       "      <td>saturday</td>\n",
       "      <td>3</td>\n",
       "      <td>5</td>\n",
       "      <td>2016</td>\n",
       "      <td>64</td>\n",
       "      <td>4.633704</td>\n",
       "      <td>5.082258</td>\n",
       "      <td>4.255294</td>\n",
       "      <td>4.124384</td>\n",
       "      <td>5.088989</td>\n",
       "    </tr>\n",
       "    <tr>\n",
       "      <th>6</th>\n",
       "      <td>sunday</td>\n",
       "      <td>3</td>\n",
       "      <td>6</td>\n",
       "      <td>2016</td>\n",
       "      <td>60</td>\n",
       "      <td>4.633704</td>\n",
       "      <td>3.705645</td>\n",
       "      <td>3.583295</td>\n",
       "      <td>3.439879</td>\n",
       "      <td>4.012479</td>\n",
       "    </tr>\n",
       "    <tr>\n",
       "      <th>7</th>\n",
       "      <td>monday</td>\n",
       "      <td>3</td>\n",
       "      <td>7</td>\n",
       "      <td>2016</td>\n",
       "      <td>59</td>\n",
       "      <td>4.633704</td>\n",
       "      <td>4.989315</td>\n",
       "      <td>4.333732</td>\n",
       "      <td>4.143855</td>\n",
       "      <td>4.599753</td>\n",
       "    </tr>\n",
       "    <tr>\n",
       "      <th>8</th>\n",
       "      <td>tuesday</td>\n",
       "      <td>3</td>\n",
       "      <td>8</td>\n",
       "      <td>2016</td>\n",
       "      <td>60</td>\n",
       "      <td>4.633704</td>\n",
       "      <td>4.335081</td>\n",
       "      <td>4.227916</td>\n",
       "      <td>4.098646</td>\n",
       "      <td>4.433639</td>\n",
       "    </tr>\n",
       "    <tr>\n",
       "      <th>9</th>\n",
       "      <td>wednesday</td>\n",
       "      <td>3</td>\n",
       "      <td>9</td>\n",
       "      <td>2016</td>\n",
       "      <td>61</td>\n",
       "      <td>4.633704</td>\n",
       "      <td>4.041532</td>\n",
       "      <td>3.970212</td>\n",
       "      <td>3.867570</td>\n",
       "      <td>4.424497</td>\n",
       "    </tr>\n",
       "  </tbody>\n",
       "</table>\n",
       "</div>"
      ],
      "text/plain": [
       "   dayofweek month day  year  temp_max  prediction (dummy)  prediction (RF)  \\\n",
       "0     monday     2  29  2016        74            4.633704         4.782056   \n",
       "1    tuesday     3   1  2016        66            4.633704         4.753629   \n",
       "2  wednesday     3   2  2016        65            4.633704         4.760484   \n",
       "3   thursday     3   3  2016        63            4.633704         3.823992   \n",
       "4     friday     3   4  2016        63            4.633704         4.463508   \n",
       "5   saturday     3   5  2016        64            4.633704         5.082258   \n",
       "6     sunday     3   6  2016        60            4.633704         3.705645   \n",
       "7     monday     3   7  2016        59            4.633704         4.989315   \n",
       "8    tuesday     3   8  2016        60            4.633704         4.335081   \n",
       "9  wednesday     3   9  2016        61            4.633704         4.041532   \n",
       "\n",
       "   prediction (SVM)  prediction (LR)  prediction (knn)  \n",
       "0          4.702432         4.837893          4.854195  \n",
       "1          4.780502         4.706091          4.132211  \n",
       "2          4.715349         4.664000          4.450975  \n",
       "3          4.271382         4.319673          4.462999  \n",
       "4          5.070351         4.998841          4.904007  \n",
       "5          4.255294         4.124384          5.088989  \n",
       "6          3.583295         3.439879          4.012479  \n",
       "7          4.333732         4.143855          4.599753  \n",
       "8          4.227916         4.098646          4.433639  \n",
       "9          3.970212         3.867570          4.424497  "
      ]
     },
     "execution_count": 96,
     "metadata": {},
     "output_type": "execute_result"
    }
   ],
   "source": [
    "prediction.loc[:,'prediction (dummy)'] = dummy_model.predict(forecast2_std)\n",
    "prediction.loc[:,'prediction (RF)'] = RF_model.predict(forecast2)\n",
    "prediction.loc[:,'prediction (SVM)'] = SVM_model.predict(forecast2_std)\n",
    "prediction.loc[:,'prediction (LR)'] = LR_model.predict(forecast2_std)\n",
    "prediction.loc[:,'prediction (knn)'] = knn_model.predict(forecast2_std)\n",
    "prediction"
   ]
  },
  {
   "cell_type": "markdown",
   "metadata": {},
   "source": [
    "## Results"
   ]
  },
  {
   "cell_type": "markdown",
   "metadata": {},
   "source": [
    "[[back to top](#Sections)]\n"
   ]
  },
  {
   "cell_type": "code",
   "execution_count": 97,
   "metadata": {
    "collapsed": false
   },
   "outputs": [
    {
     "data": {
      "text/html": [
       "<div>\n",
       "<table border=\"1\" class=\"dataframe\">\n",
       "  <thead>\n",
       "    <tr style=\"text-align: right;\">\n",
       "      <th></th>\n",
       "      <th>mean_abs_error</th>\n",
       "      <th>R2_score</th>\n",
       "      <th>time</th>\n",
       "      <th>lc_com</th>\n",
       "    </tr>\n",
       "  </thead>\n",
       "  <tbody>\n",
       "    <tr>\n",
       "      <th>dummy</th>\n",
       "      <td>1.06292</td>\n",
       "      <td>-0.00271301</td>\n",
       "      <td>36.4885</td>\n",
       "      <td>NaN</td>\n",
       "    </tr>\n",
       "    <tr>\n",
       "      <th>RF</th>\n",
       "      <td>1.0057</td>\n",
       "      <td>0.121813</td>\n",
       "      <td>15891.8</td>\n",
       "      <td>.......</td>\n",
       "    </tr>\n",
       "    <tr>\n",
       "      <th>SVM</th>\n",
       "      <td>1.00085</td>\n",
       "      <td>0.113868</td>\n",
       "      <td>65685.3</td>\n",
       "      <td>.......</td>\n",
       "    </tr>\n",
       "    <tr>\n",
       "      <th>LR</th>\n",
       "      <td>1.00331</td>\n",
       "      <td>0.114029</td>\n",
       "      <td>43.4563</td>\n",
       "      <td>.......</td>\n",
       "    </tr>\n",
       "    <tr>\n",
       "      <th>knn</th>\n",
       "      <td>1.04657</td>\n",
       "      <td>0.063973</td>\n",
       "      <td>98906.6</td>\n",
       "      <td>.......</td>\n",
       "    </tr>\n",
       "  </tbody>\n",
       "</table>\n",
       "</div>"
      ],
      "text/plain": [
       "      mean_abs_error    R2_score     time   lc_com\n",
       "dummy        1.06292 -0.00271301  36.4885      NaN\n",
       "RF            1.0057    0.121813  15891.8  .......\n",
       "SVM          1.00085    0.113868  65685.3  .......\n",
       "LR           1.00331    0.114029  43.4563  .......\n",
       "knn          1.04657    0.063973  98906.6  ......."
      ]
     },
     "execution_count": 97,
     "metadata": {},
     "output_type": "execute_result"
    }
   ],
   "source": [
    "results\n",
    "\n"
   ]
  },
  {
   "cell_type": "markdown",
   "metadata": {
    "collapsed": true
   },
   "source": [
    "### Minimum features\n",
    "\n",
    "|mean_abs_error|\tR2 score|\ttime|\tlc_com\n",
    "-----|-------|------|-----|--------    \n",
    "dummy\t|0.784282\t|-0.000157419\t|61.39\t|NaN\n",
    "RF\t|0.774239\t|0.0257063|\t22676.5|\t.......\n",
    "SVM\t|0.750965|\t0.0731648\t|66745.8\t|.......\n",
    "LR\t|0.751183|\t0.0763004\t|52.1146\t|.......\n",
    "knn|\t0.790226|\t-0.00414537|\t56354.1\t|......."
   ]
  },
  {
   "cell_type": "markdown",
   "metadata": {
    "collapsed": true
   },
   "source": [
    "### ADD in day of week\n",
    "\n",
    "|mean_abs_error|\tR2 score|\ttime|\tlc_com\n",
    "-----|-------|------|-----|--------    \n",
    "dummy\t|0.784282\t|-0.000157419|\t54.2332\t|NaN\n",
    "RF|\t0.719557\t|0.134418\t|30144.3\t|.......\n",
    "SVM|\t0.706\t|0.160249|\t80992.5\t|.......\n",
    "LR\t|0.702858|\t0.167961\t|59.3654\t|.......\n",
    "knn\t|0.738919\t|0.102316\t|581535\t|......."
   ]
  },
  {
   "cell_type": "markdown",
   "metadata": {},
   "source": [
    "### Run with weather_crime_level\n",
    "\n",
    "|mean_abs_error|\tR2 score|\ttime|\tlc_com\n",
    "-----|-------|------|-----|-------- |\n",
    "dummy|\t0.81541|\t-0.000657135\t|31.7786\t|NaN\n",
    "RF\t|0.762109|\t0.11542\t|19874.3\t|.......\n",
    "SVM\t|0.742392|\t0.140592\t|42451\t|.......\n",
    "LR\t|0.742925|\t0.142355\t|36.54\t|.......\n",
    "knn\t|0.770477|\t0.0884748\t|401028|\t......."
   ]
  },
  {
   "cell_type": "markdown",
   "metadata": {},
   "source": [
    "### Run with a few outliers removed\n",
    "\n",
    "|mean_abs_error|\tR2 score|\ttime|\tlc_com\n",
    "-----|-------|------|-----|-------- |\n",
    "dummy|\t0.909594|\t-0.00158336|\t31.9462\t|NaN\n",
    "RF|\t0.862721|\t0.0884625\t|19899.5|\t.......\n",
    "SVM|\t0.834469|\t0.138694|\t42997.6\t|.......\n",
    "LR|\t0.8343\t|0.142013\t|36.0181\t|.......\n",
    "knn|\t0.884176|\t0.0519649|\t61164.6\t|......."
   ]
  },
  {
   "cell_type": "markdown",
   "metadata": {},
   "source": [
    "### Put in all non cat features - wind gust\n",
    "\n",
    "|mean_abs_error|\tR2 score|\ttime|\tlc_com\n",
    "-----|-------|------|-----|-------- |\n",
    "dummy|\t1.06292\t|-0.00271301\t|39.1949\t|NaN\n",
    "RF\t|0.983553\t|0.148392\t|18754.8\t|.......\n",
    "SVM|\t0.970188\t|0.16634\t|88509.3\t|.......\n",
    "LR\t|0.976822\t|0.161785\t|51.1119\t|.......\n",
    "knn\t|1.02312|\t0.0997018\t|145841\t|......."
   ]
  },
  {
   "cell_type": "markdown",
   "metadata": {},
   "source": [
    "### Put in 'end_of_week' / 'rain' booleans ans the dew_point_mean\n",
    "\n",
    "|mean_abs_error|\tR2 score|\ttime|\tlc_com\n",
    "-----|-------|------|-----|-------- |\n",
    "dummy\t|1.06292\t|-0.00271301|\t35.1662\t|NaN\n",
    "RF\t|0.995831\t|0.132448\t|25175.8\t|.......\n",
    "SVM\t|1.00083\t|0.115296\t|52742\t|.......\n",
    "LR\t|1.00426\t|0.113532\t|40.5828\t|.......\n",
    "knn\t|1.04523\t|0.0641483\t|89629.6\t|......."
   ]
  },
  {
   "cell_type": "markdown",
   "metadata": {},
   "source": [
    "### add in wind chill, heat index, apparent temp\n",
    "\n",
    "|mean_abs_error|\tR2 score|\ttime|\tlc_com\n",
    "-----|-------|------|-----|-------- |\n",
    "dummy\t|1.06292\t|-0.00271301|\t36.4885\t|NaN\n",
    "RF|\t1.0057\t|0.121813\t|15891.8\t|.......\n",
    "SVM\t|1.00085\t|0.113868\t|65685.3\t|.......\n",
    "LR\t|1.00331\t|0.114029\t|43.4563\t|.......\n",
    "knn|\t1.04657|\t0.063973\t|98906.6\t|......."
   ]
  },
  {
   "cell_type": "markdown",
   "metadata": {},
   "source": [
    "# Change Log"
   ]
  },
  {
   "cell_type": "markdown",
   "metadata": {},
   "source": [
    "[[back to top](#Sections)]\n"
   ]
  },
  {
   "cell_type": "markdown",
   "metadata": {
    "collapsed": true
   },
   "source": [
    "### Ran with all features\n",
    "Had problems running\n",
    "### Took Minimum features\n",
    "Got scores for 4 models. All not much better than dummy\n",
    "### Add in day of week dummies - Left all six features in\n",
    "Better scores\n",
    "### Added the weather_crime index - Ran tests\n",
    "Went back and tried to pick the type of crimes that I thought were weather related. Ran with that number as label.\n",
    "- Scores were similar to last run. Dummy MAE was slightly higher. Best R2 scores .14 (SVM LR)\n",
    "\n",
    "### Removed a few of the outliers - reran\n",
    "- Scores went down slightly - LR similar - knn rf drop most\n",
    "\n",
    "### Add in all non cat features - wind gust\n",
    "- Scores back up to .16. Same as when just added in day of week.\n",
    "\n",
    "### replaced day of week dummies with end_of_week bool, added 'rain and 'dewPoint_mean,\n",
    "- Scores drop 5% knn big drop"
   ]
  },
  {
   "cell_type": "markdown",
   "metadata": {},
   "source": [
    "## To Try"
   ]
  },
  {
   "cell_type": "markdown",
   "metadata": {},
   "source": [
    "[[back to top](#Sections)]\n"
   ]
  },
  {
   "cell_type": "markdown",
   "metadata": {},
   "source": [
    "- remove outliers (Christmas) - Done because I am concerned with how weather effects crime. Xmas is special non weather related event. Also not interested in predictiong black swans. Outliers may skew models.\n",
    "- add in the rest of the features\n",
    "- Make catagoricals into smaller groupings. add in day of month. Rain or not rain/for thunder\n",
    "- remove worst performers\n",
    "- use only the last few years data.\n",
    "- Use bag of words to classify crime as weather/emotional related."
   ]
  },
  {
   "cell_type": "code",
   "execution_count": null,
   "metadata": {
    "collapsed": true
   },
   "outputs": [],
   "source": []
  }
 ],
 "metadata": {
  "kernelspec": {
   "display_name": "Python 2",
   "language": "python",
   "name": "python2"
  },
  "language_info": {
   "codemirror_mode": {
    "name": "ipython",
    "version": 2
   },
   "file_extension": ".py",
   "mimetype": "text/x-python",
   "name": "python",
   "nbconvert_exporter": "python",
   "pygments_lexer": "ipython2",
   "version": "2.7.11"
  }
 },
 "nbformat": 4,
 "nbformat_minor": 0
}
