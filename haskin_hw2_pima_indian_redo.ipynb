{
 "cells": [
  {
   "cell_type": "markdown",
   "metadata": {},
   "source": [
    "# Pima Indian Diabetes Analysis\n",
    "\n",
    "- Jim Haskin\n",
    "\n",
    "- GA-Data Science\n",
    "- Dec 2015\n",
    "\n",
    "- 2/7/2016"
   ]
  },
  {
   "cell_type": "code",
   "execution_count": 1,
   "metadata": {
    "collapsed": true
   },
   "outputs": [],
   "source": [
    "import pandas as pd\n",
    "import numpy as np\n",
    "import matplotlib.pyplot as plt\n",
    "%matplotlib inline"
   ]
  },
  {
   "cell_type": "code",
   "execution_count": 2,
   "metadata": {
    "collapsed": true
   },
   "outputs": [],
   "source": [
    "from sklearn.cross_validation import train_test_split\n",
    "from sklearn.cross_validation import ShuffleSplit\n",
    "from sklearn.preprocessing import StandardScaler\n",
    "from sklearn.grid_search import GridSearchCV\n",
    "from sklearn.learning_curve import learning_curve"
   ]
  },
  {
   "cell_type": "code",
   "execution_count": 3,
   "metadata": {
    "collapsed": true
   },
   "outputs": [],
   "source": [
    "from sklearn.neighbors import KNeighborsClassifier\n",
    "from sklearn.linear_model import LogisticRegression\n",
    "from sklearn import metrics\n",
    "from sklearn.feature_extraction.text import CountVectorizer\n",
    "#from sklearn.naive_bayes import MultinomialNB\n",
    "from sklearn.naive_bayes import GaussianNB\n",
    "from sklearn.cross_validation import KFold, cross_val_score\n",
    "from sklearn.tree import DecisionTreeClassifier\n",
    "from sklearn.ensemble import RandomForestClassifier\n",
    "from sklearn.cross_validation import cross_val_score\n",
    "from sklearn.naive_bayes import MultinomialNB"
   ]
  },
  {
   "cell_type": "code",
   "execution_count": 4,
   "metadata": {
    "collapsed": true
   },
   "outputs": [],
   "source": [
    "from sklearn.dummy import DummyClassifier, DummyRegressor\n",
    "from sklearn.metrics import recall_score"
   ]
  },
  {
   "cell_type": "code",
   "execution_count": 5,
   "metadata": {
    "collapsed": true
   },
   "outputs": [],
   "source": [
    "# use fivethirtyeight style for all graphics\n",
    "plt.style.use('fivethirtyeight')"
   ]
  },
  {
   "cell_type": "code",
   "execution_count": 6,
   "metadata": {
    "collapsed": false
   },
   "outputs": [],
   "source": [
    "# my learning curve\n",
    "import sys\n",
    "sys.path.insert(0, '/Users/jsmithson/education/functions')\n",
    "from plot_learning_curve import plot_learning_curve\n",
    "# Masons new improved learning curve\n",
    "from sk_modelcurves.learning_curve import draw_learning_curve\n"
   ]
  },
  {
   "cell_type": "code",
   "execution_count": 7,
   "metadata": {
    "collapsed": true
   },
   "outputs": [],
   "source": [
    "f_size = 15"
   ]
  },
  {
   "cell_type": "code",
   "execution_count": 8,
   "metadata": {
    "collapsed": false
   },
   "outputs": [],
   "source": [
    "# Data Frame to hold results. To compare models after all are run\n",
    "results = pd.DataFrame(index=['knn', 'logreg','nb', 'rf'], \n",
    "                       columns=['recall', 'precision', 'f1', 'accuracy','time','lc_com'])\n"
   ]
  },
  {
   "cell_type": "markdown",
   "metadata": {},
   "source": [
    "# 1 - Describe the content of the dataset and its goals"
   ]
  },
  {
   "cell_type": "markdown",
   "metadata": {},
   "source": [
    "## Investigate input module"
   ]
  },
  {
   "cell_type": "code",
   "execution_count": 9,
   "metadata": {
    "collapsed": false
   },
   "outputs": [
    {
     "name": "stdout",
     "output_type": "stream",
     "text": [
      "README.md\r\n",
      "haskin_hw2_pima_indian-Friday-5pm-semifinal.ipynb\r\n",
      "haskin_hw2_pima_indian-Friday_good.ipynb\r\n",
      "haskin_hw2_pima_indian-test.ipynb\r\n",
      "haskin_hw2_pima_indian.ipynb\r\n",
      "pima-indians-diabetes.data\r\n",
      "pima-indians-diabetes.names.txt\r\n",
      "pima_data_clean.csv\r\n",
      "plot_learning_curve.py\r\n",
      "plot_learning_curve.pyc\r\n",
      "print3.py\r\n",
      "print3.pyc\r\n",
      "scratchpad.ipynb\r\n"
     ]
    }
   ],
   "source": [
    "!ls\n"
   ]
  },
  {
   "cell_type": "code",
   "execution_count": 10,
   "metadata": {
    "collapsed": false
   },
   "outputs": [
    {
     "name": "stdout",
     "output_type": "stream",
     "text": [
      "6,148,72,35,0,33.6,0.627,50,1\r\n",
      "1,85,66,29,0,26.6,0.351,31,0\r\n",
      "8,183,64,0,0,23.3,0.672,32,1\r\n",
      "1,89,66,23,94,28.1,0.167,21,0\r\n",
      "0,137,40,35,168,43.1,2.288,33,1\r\n"
     ]
    }
   ],
   "source": [
    "!head -n 5 pima-indians-diabetes.data"
   ]
  },
  {
   "cell_type": "code",
   "execution_count": 11,
   "metadata": {
    "collapsed": false
   },
   "outputs": [
    {
     "name": "stdout",
     "output_type": "stream",
     "text": [
      "10,101,76,48,180,32.9,0.171,63,0\r\n",
      "2,122,70,27,0,36.8,0.340,27,0\r\n",
      "5,121,72,23,112,26.2,0.245,30,0\r\n",
      "1,126,60,0,0,30.1,0.349,47,1\r\n",
      "1,93,70,31,0,30.4,0.315,23,0\r\n"
     ]
    }
   ],
   "source": [
    "!tail -n 5 pima-indians-diabetes.data"
   ]
  },
  {
   "cell_type": "markdown",
   "metadata": {},
   "source": [
    "  ## from the info file\n",
    "  For Each Attribute: (all numeric-valued)\n",
    "   1. Number of times pregnant\n",
    "   2. Plasma glucose concentration a 2 hours in an oral glucose tolerance test\n",
    "   3. Diastolic blood pressure (mm Hg)\n",
    "   4. Triceps skin fold thickness (mm)\n",
    "   5. 2-Hour serum insulin (mu U/ml)\n",
    "   6. Body mass index (weight in kg/(height in m)^2)\n",
    "   7. Diabetes pedigree function\n",
    "   8. Age (years)\n",
    "   9. Class variable (0 or 1)\n",
    "   \n",
    "   \n",
    "   - Class Distribution: (class value 1 is interpreted as \"tested positive for\n",
    "   diabetes\")"
   ]
  },
  {
   "cell_type": "markdown",
   "metadata": {},
   "source": [
    "# 1 - Observations \n",
    "#### Describe the content of the dataset and its goals\n",
    "- The file contains medical measurements for a population of Pima Indian women\n",
    "- Constraints - All Female - At least 21yr. of age - Pima Indian Heritage\n",
    "- It also contains a class variable for whether to subject has Diabetes\n",
    "- We would like to find the model that best predicts Diabetes in the general population of Pima women.\n",
    "#### From diabetes.org\n",
    "- Prevalence: In 2012, 29.1 million Americans, or 9.3% of the population, had diabetes. \n",
    "- Prevalence in Seniors: The percentage of Americans age 65 and older remains high, at 25.9% \n",
    "- See more at: http://www.diabetes.org/diabetes-basics/statistics/#sthash.kYj7p7Sy.dpuf\n"
   ]
  },
  {
   "cell_type": "markdown",
   "metadata": {},
   "source": [
    "# 2 - Describe the features and formulate a hypothesis on which might be relevant in predicting diabetes\n",
    "\n"
   ]
  },
  {
   "cell_type": "code",
   "execution_count": 12,
   "metadata": {
    "collapsed": false
   },
   "outputs": [
    {
     "name": "stdout",
     "output_type": "stream",
     "text": [
      "['n_pregnant', 'glucose', 'blood_pressure', 'skin_thick', 'insulin', 'bmi', 'pedigree', 'age', 'test_positive']\n"
     ]
    }
   ],
   "source": [
    "features = ['n_pregnant', 'glucose', 'blood_pressure', 'skin_thick', 'insulin', 'bmi', 'pedigree', 'age']\n",
    "class_title = ['test_positive']\n",
    "titles = features + class_title\n",
    "print titles"
   ]
  },
  {
   "cell_type": "code",
   "execution_count": 13,
   "metadata": {
    "collapsed": false
   },
   "outputs": [
    {
     "data": {
      "text/html": [
       "<div>\n",
       "<table border=\"1\" class=\"dataframe\">\n",
       "  <thead>\n",
       "    <tr style=\"text-align: right;\">\n",
       "      <th></th>\n",
       "      <th>n_pregnant</th>\n",
       "      <th>glucose</th>\n",
       "      <th>blood_pressure</th>\n",
       "      <th>skin_thick</th>\n",
       "      <th>insulin</th>\n",
       "      <th>bmi</th>\n",
       "      <th>pedigree</th>\n",
       "      <th>age</th>\n",
       "      <th>test_positive</th>\n",
       "    </tr>\n",
       "  </thead>\n",
       "  <tbody>\n",
       "    <tr>\n",
       "      <th>0</th>\n",
       "      <td>6</td>\n",
       "      <td>148</td>\n",
       "      <td>72</td>\n",
       "      <td>35</td>\n",
       "      <td>0</td>\n",
       "      <td>33.6</td>\n",
       "      <td>0.627</td>\n",
       "      <td>50</td>\n",
       "      <td>1</td>\n",
       "    </tr>\n",
       "    <tr>\n",
       "      <th>1</th>\n",
       "      <td>1</td>\n",
       "      <td>85</td>\n",
       "      <td>66</td>\n",
       "      <td>29</td>\n",
       "      <td>0</td>\n",
       "      <td>26.6</td>\n",
       "      <td>0.351</td>\n",
       "      <td>31</td>\n",
       "      <td>0</td>\n",
       "    </tr>\n",
       "    <tr>\n",
       "      <th>2</th>\n",
       "      <td>8</td>\n",
       "      <td>183</td>\n",
       "      <td>64</td>\n",
       "      <td>0</td>\n",
       "      <td>0</td>\n",
       "      <td>23.3</td>\n",
       "      <td>0.672</td>\n",
       "      <td>32</td>\n",
       "      <td>1</td>\n",
       "    </tr>\n",
       "  </tbody>\n",
       "</table>\n",
       "</div>"
      ],
      "text/plain": [
       "   n_pregnant  glucose  blood_pressure  skin_thick  insulin   bmi  pedigree  \\\n",
       "0           6      148              72          35        0  33.6     0.627   \n",
       "1           1       85              66          29        0  26.6     0.351   \n",
       "2           8      183              64           0        0  23.3     0.672   \n",
       "\n",
       "   age  test_positive  \n",
       "0   50              1  \n",
       "1   31              0  \n",
       "2   32              1  "
      ]
     },
     "execution_count": 13,
     "metadata": {},
     "output_type": "execute_result"
    }
   ],
   "source": [
    "data = pd.read_csv('pima-indians-diabetes.data', names=titles)\n",
    "data.head(3)"
   ]
  },
  {
   "cell_type": "code",
   "execution_count": 14,
   "metadata": {
    "collapsed": false
   },
   "outputs": [
    {
     "data": {
      "text/html": [
       "<div>\n",
       "<table border=\"1\" class=\"dataframe\">\n",
       "  <thead>\n",
       "    <tr style=\"text-align: right;\">\n",
       "      <th></th>\n",
       "      <th>n_pregnant</th>\n",
       "      <th>glucose</th>\n",
       "      <th>blood_pressure</th>\n",
       "      <th>skin_thick</th>\n",
       "      <th>insulin</th>\n",
       "      <th>bmi</th>\n",
       "      <th>pedigree</th>\n",
       "      <th>age</th>\n",
       "      <th>test_positive</th>\n",
       "    </tr>\n",
       "  </thead>\n",
       "  <tbody>\n",
       "    <tr>\n",
       "      <th>count</th>\n",
       "      <td>768.000000</td>\n",
       "      <td>768.000000</td>\n",
       "      <td>768.000000</td>\n",
       "      <td>768.000000</td>\n",
       "      <td>768.000000</td>\n",
       "      <td>768.000000</td>\n",
       "      <td>768.000000</td>\n",
       "      <td>768.000000</td>\n",
       "      <td>768.000000</td>\n",
       "    </tr>\n",
       "    <tr>\n",
       "      <th>mean</th>\n",
       "      <td>3.845052</td>\n",
       "      <td>120.894531</td>\n",
       "      <td>69.105469</td>\n",
       "      <td>20.536458</td>\n",
       "      <td>79.799479</td>\n",
       "      <td>31.992578</td>\n",
       "      <td>0.471876</td>\n",
       "      <td>33.240885</td>\n",
       "      <td>0.348958</td>\n",
       "    </tr>\n",
       "    <tr>\n",
       "      <th>std</th>\n",
       "      <td>3.369578</td>\n",
       "      <td>31.972618</td>\n",
       "      <td>19.355807</td>\n",
       "      <td>15.952218</td>\n",
       "      <td>115.244002</td>\n",
       "      <td>7.884160</td>\n",
       "      <td>0.331329</td>\n",
       "      <td>11.760232</td>\n",
       "      <td>0.476951</td>\n",
       "    </tr>\n",
       "    <tr>\n",
       "      <th>min</th>\n",
       "      <td>0.000000</td>\n",
       "      <td>0.000000</td>\n",
       "      <td>0.000000</td>\n",
       "      <td>0.000000</td>\n",
       "      <td>0.000000</td>\n",
       "      <td>0.000000</td>\n",
       "      <td>0.078000</td>\n",
       "      <td>21.000000</td>\n",
       "      <td>0.000000</td>\n",
       "    </tr>\n",
       "    <tr>\n",
       "      <th>25%</th>\n",
       "      <td>1.000000</td>\n",
       "      <td>99.000000</td>\n",
       "      <td>62.000000</td>\n",
       "      <td>0.000000</td>\n",
       "      <td>0.000000</td>\n",
       "      <td>27.300000</td>\n",
       "      <td>0.243750</td>\n",
       "      <td>24.000000</td>\n",
       "      <td>0.000000</td>\n",
       "    </tr>\n",
       "    <tr>\n",
       "      <th>50%</th>\n",
       "      <td>3.000000</td>\n",
       "      <td>117.000000</td>\n",
       "      <td>72.000000</td>\n",
       "      <td>23.000000</td>\n",
       "      <td>30.500000</td>\n",
       "      <td>32.000000</td>\n",
       "      <td>0.372500</td>\n",
       "      <td>29.000000</td>\n",
       "      <td>0.000000</td>\n",
       "    </tr>\n",
       "    <tr>\n",
       "      <th>75%</th>\n",
       "      <td>6.000000</td>\n",
       "      <td>140.250000</td>\n",
       "      <td>80.000000</td>\n",
       "      <td>32.000000</td>\n",
       "      <td>127.250000</td>\n",
       "      <td>36.600000</td>\n",
       "      <td>0.626250</td>\n",
       "      <td>41.000000</td>\n",
       "      <td>1.000000</td>\n",
       "    </tr>\n",
       "    <tr>\n",
       "      <th>max</th>\n",
       "      <td>17.000000</td>\n",
       "      <td>199.000000</td>\n",
       "      <td>122.000000</td>\n",
       "      <td>99.000000</td>\n",
       "      <td>846.000000</td>\n",
       "      <td>67.100000</td>\n",
       "      <td>2.420000</td>\n",
       "      <td>81.000000</td>\n",
       "      <td>1.000000</td>\n",
       "    </tr>\n",
       "  </tbody>\n",
       "</table>\n",
       "</div>"
      ],
      "text/plain": [
       "       n_pregnant     glucose  blood_pressure  skin_thick     insulin  \\\n",
       "count  768.000000  768.000000      768.000000  768.000000  768.000000   \n",
       "mean     3.845052  120.894531       69.105469   20.536458   79.799479   \n",
       "std      3.369578   31.972618       19.355807   15.952218  115.244002   \n",
       "min      0.000000    0.000000        0.000000    0.000000    0.000000   \n",
       "25%      1.000000   99.000000       62.000000    0.000000    0.000000   \n",
       "50%      3.000000  117.000000       72.000000   23.000000   30.500000   \n",
       "75%      6.000000  140.250000       80.000000   32.000000  127.250000   \n",
       "max     17.000000  199.000000      122.000000   99.000000  846.000000   \n",
       "\n",
       "              bmi    pedigree         age  test_positive  \n",
       "count  768.000000  768.000000  768.000000     768.000000  \n",
       "mean    31.992578    0.471876   33.240885       0.348958  \n",
       "std      7.884160    0.331329   11.760232       0.476951  \n",
       "min      0.000000    0.078000   21.000000       0.000000  \n",
       "25%     27.300000    0.243750   24.000000       0.000000  \n",
       "50%     32.000000    0.372500   29.000000       0.000000  \n",
       "75%     36.600000    0.626250   41.000000       1.000000  \n",
       "max     67.100000    2.420000   81.000000       1.000000  "
      ]
     },
     "execution_count": 14,
     "metadata": {},
     "output_type": "execute_result"
    }
   ],
   "source": [
    "data.describe()"
   ]
  },
  {
   "cell_type": "code",
   "execution_count": 15,
   "metadata": {
    "collapsed": false
   },
   "outputs": [
    {
     "name": "stdout",
     "output_type": "stream",
     "text": [
      "<class 'pandas.core.frame.DataFrame'>\n",
      "Int64Index: 768 entries, 0 to 767\n",
      "Data columns (total 9 columns):\n",
      "n_pregnant        768 non-null int64\n",
      "glucose           768 non-null int64\n",
      "blood_pressure    768 non-null int64\n",
      "skin_thick        768 non-null int64\n",
      "insulin           768 non-null int64\n",
      "bmi               768 non-null float64\n",
      "pedigree          768 non-null float64\n",
      "age               768 non-null int64\n",
      "test_positive     768 non-null int64\n",
      "dtypes: float64(2), int64(7)\n",
      "memory usage: 60.0 KB\n"
     ]
    }
   ],
   "source": [
    "data.info()"
   ]
  },
  {
   "cell_type": "markdown",
   "metadata": {},
   "source": [
    "# 2 - Observations\n",
    "#### Describe the features and formulate a hypothesis on which might be relevant in predicting diabetes\n",
    "Features are medical measurements for each subject, they fall into 3 general catagories\n",
    "- Physical Condition : Blood Pressure, Skin Fold Thickness, Body Mass Index\n",
    "- Body Changes over Time : Age, Number Times Pregnant\n",
    "- Diabetes Related Measurements : Plasma Glucose, Insulin Levels, Diabetes Pedigree\n",
    "- .......................................\n",
    "- The Diabetic Features will probably be very important\n",
    "- The Aging Features may be relevent if diabetes is more prevelent before the body fully develops or as the body wears down.\n",
    "- The numbers sited above from diabetes.org show that diabetes rates are much higher in the older population.\n",
    "- The general condition the subject is in will probably have a positive effect on the rate of disease. Poor health usually leads to disease susceptability. These features may be correlated, so they may be redundant\n",
    "- .......................................\n",
    "- All features are numeric. No catagoricals. Only the Pregnancies is a count. Most other features are integer, based on degree of measurement. (No half years, etc.)\n",
    "- We have all 768 entries for each feature\n",
    "\n"
   ]
  },
  {
   "cell_type": "markdown",
   "metadata": {},
   "source": [
    "# 3 - Describe the missing/NULL values. Decide if you should impute or drop them and justify your choice."
   ]
  },
  {
   "cell_type": "markdown",
   "metadata": {},
   "source": [
    "### 3 - Data Observations\n",
    "- although we have entries for every feature, looking at the info we see minimums of 0 for ['glucose', 'blood_pressure', 'skin_thick', 'insulin', 'bmi'] \n",
    "- Highly unlikely. (Blood Pressure = 0 would imply the subject was dead) \n",
    "- Will assume we have missing data.\n",
    "- NOTE - Zero is a valid entry for Number of Pregnancies, but may be a sensitive question that was just not answered. Will proceed assuming 0 is valid entry.\n",
    "\n",
    "### 3 - Very High test_positve rate\n",
    "- The rate of the test population was about 35%. Much higher than the 9.3% cited above. Even higher than the 26% for older Americans\n",
    "- There must be something there.\n",
    "- A good subject for further research....."
   ]
  },
  {
   "cell_type": "markdown",
   "metadata": {},
   "source": [
    "### See how many 0 entries we have"
   ]
  },
  {
   "cell_type": "code",
   "execution_count": 16,
   "metadata": {
    "collapsed": false
   },
   "outputs": [
    {
     "data": {
      "text/plain": [
       "n_pregnant        111\n",
       "glucose             5\n",
       "blood_pressure     35\n",
       "skin_thick        227\n",
       "insulin           374\n",
       "bmi                11\n",
       "pedigree            0\n",
       "age                 0\n",
       "test_positive     500\n",
       "dtype: int64"
      ]
     },
     "execution_count": 16,
     "metadata": {},
     "output_type": "execute_result"
    }
   ],
   "source": [
    "data.apply( lambda s : s.value_counts().get(0,0), axis=0)"
   ]
  },
  {
   "cell_type": "markdown",
   "metadata": {},
   "source": [
    "### Replace 0s with Nan in appropriate fields"
   ]
  },
  {
   "cell_type": "code",
   "execution_count": 17,
   "metadata": {
    "collapsed": false
   },
   "outputs": [],
   "source": [
    "for field in ['glucose', 'blood_pressure', 'skin_thick', 'insulin', 'bmi']:\n",
    "    data.loc[:,field]=data[field].where(data[field]!=0,np.nan)"
   ]
  },
  {
   "cell_type": "code",
   "execution_count": 18,
   "metadata": {
    "collapsed": false
   },
   "outputs": [
    {
     "data": {
      "text/plain": [
       "n_pregnant        111\n",
       "glucose             0\n",
       "blood_pressure      0\n",
       "skin_thick          0\n",
       "insulin             0\n",
       "bmi                 0\n",
       "pedigree            0\n",
       "age                 0\n",
       "test_positive     500\n",
       "dtype: int64"
      ]
     },
     "execution_count": 18,
     "metadata": {},
     "output_type": "execute_result"
    }
   ],
   "source": [
    "# Check 0 count again\n",
    "data.apply( lambda s : s.value_counts().get(0,0), axis=0)"
   ]
  },
  {
   "cell_type": "code",
   "execution_count": 19,
   "metadata": {
    "collapsed": false
   },
   "outputs": [
    {
     "data": {
      "text/html": [
       "<div>\n",
       "<table border=\"1\" class=\"dataframe\">\n",
       "  <thead>\n",
       "    <tr style=\"text-align: right;\">\n",
       "      <th></th>\n",
       "      <th>n_pregnant</th>\n",
       "      <th>glucose</th>\n",
       "      <th>blood_pressure</th>\n",
       "      <th>skin_thick</th>\n",
       "      <th>insulin</th>\n",
       "      <th>bmi</th>\n",
       "      <th>pedigree</th>\n",
       "      <th>age</th>\n",
       "      <th>test_positive</th>\n",
       "    </tr>\n",
       "  </thead>\n",
       "  <tbody>\n",
       "    <tr>\n",
       "      <th>count</th>\n",
       "      <td>768.000000</td>\n",
       "      <td>763.000000</td>\n",
       "      <td>733.000000</td>\n",
       "      <td>541.000000</td>\n",
       "      <td>394.000000</td>\n",
       "      <td>757.000000</td>\n",
       "      <td>768.000000</td>\n",
       "      <td>768.000000</td>\n",
       "      <td>768.000000</td>\n",
       "    </tr>\n",
       "    <tr>\n",
       "      <th>mean</th>\n",
       "      <td>3.845052</td>\n",
       "      <td>121.686763</td>\n",
       "      <td>72.405184</td>\n",
       "      <td>29.153420</td>\n",
       "      <td>155.548223</td>\n",
       "      <td>32.457464</td>\n",
       "      <td>0.471876</td>\n",
       "      <td>33.240885</td>\n",
       "      <td>0.348958</td>\n",
       "    </tr>\n",
       "    <tr>\n",
       "      <th>std</th>\n",
       "      <td>3.369578</td>\n",
       "      <td>30.535641</td>\n",
       "      <td>12.382158</td>\n",
       "      <td>10.476982</td>\n",
       "      <td>118.775855</td>\n",
       "      <td>6.924988</td>\n",
       "      <td>0.331329</td>\n",
       "      <td>11.760232</td>\n",
       "      <td>0.476951</td>\n",
       "    </tr>\n",
       "    <tr>\n",
       "      <th>min</th>\n",
       "      <td>0.000000</td>\n",
       "      <td>44.000000</td>\n",
       "      <td>24.000000</td>\n",
       "      <td>7.000000</td>\n",
       "      <td>14.000000</td>\n",
       "      <td>18.200000</td>\n",
       "      <td>0.078000</td>\n",
       "      <td>21.000000</td>\n",
       "      <td>0.000000</td>\n",
       "    </tr>\n",
       "    <tr>\n",
       "      <th>25%</th>\n",
       "      <td>1.000000</td>\n",
       "      <td>99.000000</td>\n",
       "      <td>64.000000</td>\n",
       "      <td>22.000000</td>\n",
       "      <td>76.250000</td>\n",
       "      <td>27.500000</td>\n",
       "      <td>0.243750</td>\n",
       "      <td>24.000000</td>\n",
       "      <td>0.000000</td>\n",
       "    </tr>\n",
       "    <tr>\n",
       "      <th>50%</th>\n",
       "      <td>3.000000</td>\n",
       "      <td>117.000000</td>\n",
       "      <td>72.000000</td>\n",
       "      <td>29.000000</td>\n",
       "      <td>125.000000</td>\n",
       "      <td>32.300000</td>\n",
       "      <td>0.372500</td>\n",
       "      <td>29.000000</td>\n",
       "      <td>0.000000</td>\n",
       "    </tr>\n",
       "    <tr>\n",
       "      <th>75%</th>\n",
       "      <td>6.000000</td>\n",
       "      <td>141.000000</td>\n",
       "      <td>80.000000</td>\n",
       "      <td>36.000000</td>\n",
       "      <td>190.000000</td>\n",
       "      <td>36.600000</td>\n",
       "      <td>0.626250</td>\n",
       "      <td>41.000000</td>\n",
       "      <td>1.000000</td>\n",
       "    </tr>\n",
       "    <tr>\n",
       "      <th>max</th>\n",
       "      <td>17.000000</td>\n",
       "      <td>199.000000</td>\n",
       "      <td>122.000000</td>\n",
       "      <td>99.000000</td>\n",
       "      <td>846.000000</td>\n",
       "      <td>67.100000</td>\n",
       "      <td>2.420000</td>\n",
       "      <td>81.000000</td>\n",
       "      <td>1.000000</td>\n",
       "    </tr>\n",
       "  </tbody>\n",
       "</table>\n",
       "</div>"
      ],
      "text/plain": [
       "       n_pregnant     glucose  blood_pressure  skin_thick     insulin  \\\n",
       "count  768.000000  763.000000      733.000000  541.000000  394.000000   \n",
       "mean     3.845052  121.686763       72.405184   29.153420  155.548223   \n",
       "std      3.369578   30.535641       12.382158   10.476982  118.775855   \n",
       "min      0.000000   44.000000       24.000000    7.000000   14.000000   \n",
       "25%      1.000000   99.000000       64.000000   22.000000   76.250000   \n",
       "50%      3.000000  117.000000       72.000000   29.000000  125.000000   \n",
       "75%      6.000000  141.000000       80.000000   36.000000  190.000000   \n",
       "max     17.000000  199.000000      122.000000   99.000000  846.000000   \n",
       "\n",
       "              bmi    pedigree         age  test_positive  \n",
       "count  757.000000  768.000000  768.000000     768.000000  \n",
       "mean    32.457464    0.471876   33.240885       0.348958  \n",
       "std      6.924988    0.331329   11.760232       0.476951  \n",
       "min     18.200000    0.078000   21.000000       0.000000  \n",
       "25%     27.500000    0.243750   24.000000       0.000000  \n",
       "50%     32.300000    0.372500   29.000000       0.000000  \n",
       "75%     36.600000    0.626250   41.000000       1.000000  \n",
       "max     67.100000    2.420000   81.000000       1.000000  "
      ]
     },
     "execution_count": 19,
     "metadata": {},
     "output_type": "execute_result"
    }
   ],
   "source": [
    "data.describe()"
   ]
  },
  {
   "cell_type": "markdown",
   "metadata": {},
   "source": [
    "### Look at the counts and test positive rates for the different features"
   ]
  },
  {
   "cell_type": "code",
   "execution_count": 20,
   "metadata": {
    "collapsed": false,
    "scrolled": true
   },
   "outputs": [
    {
     "data": {
      "image/png": "[encoded data removed]",
      "text/plain": [
       "<matplotlib.figure.Figure at 0x10887ba90>"
      ]
     },
     "metadata": {},
     "output_type": "display_data"
    }
   ],
   "source": [
    "# Plot histogram of count and test positive counts by each feature\n",
    "fig = plt.figure(figsize=(15,10))\n",
    "positive_data = data[data['test_positive']==1]\n",
    "for i, field in enumerate(features):\n",
    "    plot_title = 'Patients Count/Positive by ' + str(field)\n",
    "    ax = plt.subplot(3,3,i+1)\n",
    "    ax.set_title(plot_title, fontsize=15)\n",
    "    data[field].hist(ax=ax,bins=10, color='b', alpha=.5);\n",
    "    positive_data[field].hist(ax=ax,bins=10, color='orange', alpha=.5);\n",
    "plt.tight_layout();"
   ]
  },
  {
   "cell_type": "markdown",
   "metadata": {},
   "source": [
    "### 3 - Observations from Plots\n",
    "- Could have outliers at high end of insulin, and low end of blood_pressure\n",
    "- Several features do not have many samples in the upper ranges. (Preg, insulin, pedigree, age)\n",
    "- But the Positive rates are very high.\n",
    "- Disturbingly, could mean that many in the population in the higher ranges have passed away from the disease."
   ]
  },
  {
   "cell_type": "code",
   "execution_count": 21,
   "metadata": {
    "collapsed": false
   },
   "outputs": [
    {
     "data": {
      "text/html": [
       "<div>\n",
       "<table border=\"1\" class=\"dataframe\">\n",
       "  <thead>\n",
       "    <tr style=\"text-align: right;\">\n",
       "      <th></th>\n",
       "      <th>n_pregnant</th>\n",
       "      <th>glucose</th>\n",
       "      <th>blood_pressure</th>\n",
       "      <th>skin_thick</th>\n",
       "      <th>insulin</th>\n",
       "      <th>bmi</th>\n",
       "      <th>pedigree</th>\n",
       "      <th>age</th>\n",
       "      <th>test_positive</th>\n",
       "    </tr>\n",
       "  </thead>\n",
       "  <tbody>\n",
       "    <tr>\n",
       "      <th>13</th>\n",
       "      <td>1</td>\n",
       "      <td>189</td>\n",
       "      <td>60</td>\n",
       "      <td>23</td>\n",
       "      <td>846</td>\n",
       "      <td>30.1</td>\n",
       "      <td>0.398</td>\n",
       "      <td>59</td>\n",
       "      <td>1</td>\n",
       "    </tr>\n",
       "    <tr>\n",
       "      <th>228</th>\n",
       "      <td>4</td>\n",
       "      <td>197</td>\n",
       "      <td>70</td>\n",
       "      <td>39</td>\n",
       "      <td>744</td>\n",
       "      <td>36.7</td>\n",
       "      <td>2.329</td>\n",
       "      <td>31</td>\n",
       "      <td>0</td>\n",
       "    </tr>\n",
       "    <tr>\n",
       "      <th>247</th>\n",
       "      <td>0</td>\n",
       "      <td>165</td>\n",
       "      <td>90</td>\n",
       "      <td>33</td>\n",
       "      <td>680</td>\n",
       "      <td>52.3</td>\n",
       "      <td>0.427</td>\n",
       "      <td>23</td>\n",
       "      <td>0</td>\n",
       "    </tr>\n",
       "  </tbody>\n",
       "</table>\n",
       "</div>"
      ],
      "text/plain": [
       "     n_pregnant  glucose  blood_pressure  skin_thick  insulin   bmi  pedigree  \\\n",
       "13            1      189              60          23      846  30.1     0.398   \n",
       "228           4      197              70          39      744  36.7     2.329   \n",
       "247           0      165              90          33      680  52.3     0.427   \n",
       "\n",
       "     age  test_positive  \n",
       "13    59              1  \n",
       "228   31              0  \n",
       "247   23              0  "
      ]
     },
     "execution_count": 21,
     "metadata": {},
     "output_type": "execute_result"
    }
   ],
   "source": [
    "data[data['insulin']>600]"
   ]
  },
  {
   "cell_type": "markdown",
   "metadata": {},
   "source": [
    "#### 3 - High insulin records\n",
    "- They look good otherwise.\n",
    "- Could be black swan data\n",
    "- since I believe insulin is important will leave in data set"
   ]
  },
  {
   "cell_type": "code",
   "execution_count": 22,
   "metadata": {
    "collapsed": false
   },
   "outputs": [
    {
     "data": {
      "text/html": [
       "<div>\n",
       "<table border=\"1\" class=\"dataframe\">\n",
       "  <thead>\n",
       "    <tr style=\"text-align: right;\">\n",
       "      <th></th>\n",
       "      <th>n_pregnant</th>\n",
       "      <th>glucose</th>\n",
       "      <th>blood_pressure</th>\n",
       "      <th>skin_thick</th>\n",
       "      <th>insulin</th>\n",
       "      <th>bmi</th>\n",
       "      <th>pedigree</th>\n",
       "      <th>age</th>\n",
       "      <th>test_positive</th>\n",
       "    </tr>\n",
       "  </thead>\n",
       "  <tbody>\n",
       "    <tr>\n",
       "      <th>18</th>\n",
       "      <td>1</td>\n",
       "      <td>103</td>\n",
       "      <td>30</td>\n",
       "      <td>38</td>\n",
       "      <td>83</td>\n",
       "      <td>43.3</td>\n",
       "      <td>0.183</td>\n",
       "      <td>33</td>\n",
       "      <td>0</td>\n",
       "    </tr>\n",
       "    <tr>\n",
       "      <th>125</th>\n",
       "      <td>1</td>\n",
       "      <td>88</td>\n",
       "      <td>30</td>\n",
       "      <td>42</td>\n",
       "      <td>99</td>\n",
       "      <td>55.0</td>\n",
       "      <td>0.496</td>\n",
       "      <td>26</td>\n",
       "      <td>1</td>\n",
       "    </tr>\n",
       "    <tr>\n",
       "      <th>597</th>\n",
       "      <td>1</td>\n",
       "      <td>89</td>\n",
       "      <td>24</td>\n",
       "      <td>19</td>\n",
       "      <td>25</td>\n",
       "      <td>27.8</td>\n",
       "      <td>0.559</td>\n",
       "      <td>21</td>\n",
       "      <td>0</td>\n",
       "    </tr>\n",
       "    <tr>\n",
       "      <th>599</th>\n",
       "      <td>1</td>\n",
       "      <td>109</td>\n",
       "      <td>38</td>\n",
       "      <td>18</td>\n",
       "      <td>120</td>\n",
       "      <td>23.1</td>\n",
       "      <td>0.407</td>\n",
       "      <td>26</td>\n",
       "      <td>0</td>\n",
       "    </tr>\n",
       "  </tbody>\n",
       "</table>\n",
       "</div>"
      ],
      "text/plain": [
       "     n_pregnant  glucose  blood_pressure  skin_thick  insulin   bmi  pedigree  \\\n",
       "18            1      103              30          38       83  43.3     0.183   \n",
       "125           1       88              30          42       99  55.0     0.496   \n",
       "597           1       89              24          19       25  27.8     0.559   \n",
       "599           1      109              38          18      120  23.1     0.407   \n",
       "\n",
       "     age  test_positive  \n",
       "18    33              0  \n",
       "125   26              1  \n",
       "597   21              0  \n",
       "599   26              0  "
      ]
     },
     "execution_count": 22,
     "metadata": {},
     "output_type": "execute_result"
    }
   ],
   "source": [
    "data[data['blood_pressure']<40]"
   ]
  },
  {
   "cell_type": "markdown",
   "metadata": {},
   "source": [
    "#### 3 - Low blood pressure records\n",
    "- Diastolic Blood Pressure normal runs 40-160\n",
    "- 30 and below is probably a bad reading\n",
    "- Replace 3 low readings with NaN ...........     NOTE: This seems dangerous to replace with mean????"
   ]
  },
  {
   "cell_type": "code",
   "execution_count": 23,
   "metadata": {
    "collapsed": true
   },
   "outputs": [],
   "source": [
    "data.loc[:,'blood_pressure']=data['blood_pressure'].where(data['blood_pressure']>35,np.nan)"
   ]
  },
  {
   "cell_type": "code",
   "execution_count": 24,
   "metadata": {
    "collapsed": false
   },
   "outputs": [
    {
     "data": {
      "text/html": [
       "<div>\n",
       "<table border=\"1\" class=\"dataframe\">\n",
       "  <thead>\n",
       "    <tr style=\"text-align: right;\">\n",
       "      <th></th>\n",
       "      <th>n_pregnant</th>\n",
       "      <th>glucose</th>\n",
       "      <th>blood_pressure</th>\n",
       "      <th>skin_thick</th>\n",
       "      <th>insulin</th>\n",
       "      <th>bmi</th>\n",
       "      <th>pedigree</th>\n",
       "      <th>age</th>\n",
       "      <th>test_positive</th>\n",
       "    </tr>\n",
       "  </thead>\n",
       "  <tbody>\n",
       "    <tr>\n",
       "      <th>count</th>\n",
       "      <td>768.000000</td>\n",
       "      <td>763.000000</td>\n",
       "      <td>730.000000</td>\n",
       "      <td>541.000000</td>\n",
       "      <td>394.000000</td>\n",
       "      <td>757.000000</td>\n",
       "      <td>768.000000</td>\n",
       "      <td>768.000000</td>\n",
       "      <td>768.000000</td>\n",
       "    </tr>\n",
       "    <tr>\n",
       "      <th>mean</th>\n",
       "      <td>3.845052</td>\n",
       "      <td>121.686763</td>\n",
       "      <td>72.587671</td>\n",
       "      <td>29.153420</td>\n",
       "      <td>155.548223</td>\n",
       "      <td>32.457464</td>\n",
       "      <td>0.471876</td>\n",
       "      <td>33.240885</td>\n",
       "      <td>0.348958</td>\n",
       "    </tr>\n",
       "    <tr>\n",
       "      <th>std</th>\n",
       "      <td>3.369578</td>\n",
       "      <td>30.535641</td>\n",
       "      <td>12.073443</td>\n",
       "      <td>10.476982</td>\n",
       "      <td>118.775855</td>\n",
       "      <td>6.924988</td>\n",
       "      <td>0.331329</td>\n",
       "      <td>11.760232</td>\n",
       "      <td>0.476951</td>\n",
       "    </tr>\n",
       "    <tr>\n",
       "      <th>min</th>\n",
       "      <td>0.000000</td>\n",
       "      <td>44.000000</td>\n",
       "      <td>38.000000</td>\n",
       "      <td>7.000000</td>\n",
       "      <td>14.000000</td>\n",
       "      <td>18.200000</td>\n",
       "      <td>0.078000</td>\n",
       "      <td>21.000000</td>\n",
       "      <td>0.000000</td>\n",
       "    </tr>\n",
       "    <tr>\n",
       "      <th>25%</th>\n",
       "      <td>1.000000</td>\n",
       "      <td>99.000000</td>\n",
       "      <td>64.000000</td>\n",
       "      <td>22.000000</td>\n",
       "      <td>76.250000</td>\n",
       "      <td>27.500000</td>\n",
       "      <td>0.243750</td>\n",
       "      <td>24.000000</td>\n",
       "      <td>0.000000</td>\n",
       "    </tr>\n",
       "    <tr>\n",
       "      <th>50%</th>\n",
       "      <td>3.000000</td>\n",
       "      <td>117.000000</td>\n",
       "      <td>72.000000</td>\n",
       "      <td>29.000000</td>\n",
       "      <td>125.000000</td>\n",
       "      <td>32.300000</td>\n",
       "      <td>0.372500</td>\n",
       "      <td>29.000000</td>\n",
       "      <td>0.000000</td>\n",
       "    </tr>\n",
       "    <tr>\n",
       "      <th>75%</th>\n",
       "      <td>6.000000</td>\n",
       "      <td>141.000000</td>\n",
       "      <td>80.000000</td>\n",
       "      <td>36.000000</td>\n",
       "      <td>190.000000</td>\n",
       "      <td>36.600000</td>\n",
       "      <td>0.626250</td>\n",
       "      <td>41.000000</td>\n",
       "      <td>1.000000</td>\n",
       "    </tr>\n",
       "    <tr>\n",
       "      <th>max</th>\n",
       "      <td>17.000000</td>\n",
       "      <td>199.000000</td>\n",
       "      <td>122.000000</td>\n",
       "      <td>99.000000</td>\n",
       "      <td>846.000000</td>\n",
       "      <td>67.100000</td>\n",
       "      <td>2.420000</td>\n",
       "      <td>81.000000</td>\n",
       "      <td>1.000000</td>\n",
       "    </tr>\n",
       "  </tbody>\n",
       "</table>\n",
       "</div>"
      ],
      "text/plain": [
       "       n_pregnant     glucose  blood_pressure  skin_thick     insulin  \\\n",
       "count  768.000000  763.000000      730.000000  541.000000  394.000000   \n",
       "mean     3.845052  121.686763       72.587671   29.153420  155.548223   \n",
       "std      3.369578   30.535641       12.073443   10.476982  118.775855   \n",
       "min      0.000000   44.000000       38.000000    7.000000   14.000000   \n",
       "25%      1.000000   99.000000       64.000000   22.000000   76.250000   \n",
       "50%      3.000000  117.000000       72.000000   29.000000  125.000000   \n",
       "75%      6.000000  141.000000       80.000000   36.000000  190.000000   \n",
       "max     17.000000  199.000000      122.000000   99.000000  846.000000   \n",
       "\n",
       "              bmi    pedigree         age  test_positive  \n",
       "count  757.000000  768.000000  768.000000     768.000000  \n",
       "mean    32.457464    0.471876   33.240885       0.348958  \n",
       "std      6.924988    0.331329   11.760232       0.476951  \n",
       "min     18.200000    0.078000   21.000000       0.000000  \n",
       "25%     27.500000    0.243750   24.000000       0.000000  \n",
       "50%     32.300000    0.372500   29.000000       0.000000  \n",
       "75%     36.600000    0.626250   41.000000       1.000000  \n",
       "max     67.100000    2.420000   81.000000       1.000000  "
      ]
     },
     "execution_count": 24,
     "metadata": {},
     "output_type": "execute_result"
    }
   ],
   "source": [
    "data.describe()"
   ]
  },
  {
   "cell_type": "markdown",
   "metadata": {},
   "source": [
    "### Investigate Missing Data"
   ]
  },
  {
   "cell_type": "code",
   "execution_count": 25,
   "metadata": {
    "collapsed": false,
    "scrolled": true
   },
   "outputs": [
    {
     "data": {
      "text/plain": [
       "<matplotlib.axes._subplots.AxesSubplot at 0x108a07650>"
      ]
     },
     "execution_count": 25,
     "metadata": {},
     "output_type": "execute_result"
    },
    {
     "data": {
      "image/png": "[encoded data removed]",
      "text/plain": [
       "<matplotlib.figure.Figure at 0x10883db50>"
      ]
     },
     "metadata": {},
     "output_type": "display_data"
    }
   ],
   "source": [
    "# visualize where data is missing\n",
    "data.apply(lambda x: sum(x.isnull())*1.0 / len(x)).sort_values().plot(kind='barh', \n",
    "                                                                       title='Proportion of Data Missing')"
   ]
  },
  {
   "cell_type": "markdown",
   "metadata": {},
   "source": [
    "### 3 - Missing data\n",
    "- insulin - 376 = 49%\n",
    "- skin_thick - 227 = 29%\n",
    "- blood_pressure - 35 = 4.5%\n",
    "- bmi - 11 = 1.4%\n",
    "- glucose - 5 = 0.6%"
   ]
  },
  {
   "cell_type": "markdown",
   "metadata": {},
   "source": [
    "### look at missing 'insulin' records"
   ]
  },
  {
   "cell_type": "code",
   "execution_count": 26,
   "metadata": {
    "collapsed": false
   },
   "outputs": [
    {
     "data": {
      "text/html": [
       "<div>\n",
       "<table border=\"1\" class=\"dataframe\">\n",
       "  <thead>\n",
       "    <tr style=\"text-align: right;\">\n",
       "      <th></th>\n",
       "      <th>n_pregnant</th>\n",
       "      <th>glucose</th>\n",
       "      <th>blood_pressure</th>\n",
       "      <th>skin_thick</th>\n",
       "      <th>insulin</th>\n",
       "      <th>bmi</th>\n",
       "      <th>pedigree</th>\n",
       "      <th>age</th>\n",
       "      <th>test_positive</th>\n",
       "    </tr>\n",
       "  </thead>\n",
       "  <tbody>\n",
       "    <tr>\n",
       "      <th>count</th>\n",
       "      <td>374.000000</td>\n",
       "      <td>370.000000</td>\n",
       "      <td>339.000000</td>\n",
       "      <td>147.000000</td>\n",
       "      <td>0</td>\n",
       "      <td>364.000000</td>\n",
       "      <td>374.000000</td>\n",
       "      <td>374.000000</td>\n",
       "      <td>374.000000</td>\n",
       "    </tr>\n",
       "    <tr>\n",
       "      <th>mean</th>\n",
       "      <td>4.433155</td>\n",
       "      <td>120.700000</td>\n",
       "      <td>74.439528</td>\n",
       "      <td>29.278912</td>\n",
       "      <td>NaN</td>\n",
       "      <td>31.793407</td>\n",
       "      <td>0.415340</td>\n",
       "      <td>35.796791</td>\n",
       "      <td>0.368984</td>\n",
       "    </tr>\n",
       "    <tr>\n",
       "      <th>std</th>\n",
       "      <td>3.437621</td>\n",
       "      <td>30.238604</td>\n",
       "      <td>11.979706</td>\n",
       "      <td>10.438195</td>\n",
       "      <td>NaN</td>\n",
       "      <td>6.763519</td>\n",
       "      <td>0.300547</td>\n",
       "      <td>12.729034</td>\n",
       "      <td>0.483176</td>\n",
       "    </tr>\n",
       "    <tr>\n",
       "      <th>min</th>\n",
       "      <td>0.000000</td>\n",
       "      <td>44.000000</td>\n",
       "      <td>44.000000</td>\n",
       "      <td>8.000000</td>\n",
       "      <td>NaN</td>\n",
       "      <td>18.200000</td>\n",
       "      <td>0.078000</td>\n",
       "      <td>21.000000</td>\n",
       "      <td>0.000000</td>\n",
       "    </tr>\n",
       "    <tr>\n",
       "      <th>25%</th>\n",
       "      <td>1.000000</td>\n",
       "      <td>100.250000</td>\n",
       "      <td>66.000000</td>\n",
       "      <td>22.000000</td>\n",
       "      <td>NaN</td>\n",
       "      <td>26.800000</td>\n",
       "      <td>0.209000</td>\n",
       "      <td>25.000000</td>\n",
       "      <td>0.000000</td>\n",
       "    </tr>\n",
       "    <tr>\n",
       "      <th>50%</th>\n",
       "      <td>4.000000</td>\n",
       "      <td>115.000000</td>\n",
       "      <td>74.000000</td>\n",
       "      <td>30.000000</td>\n",
       "      <td>NaN</td>\n",
       "      <td>31.200000</td>\n",
       "      <td>0.302500</td>\n",
       "      <td>32.000000</td>\n",
       "      <td>0.000000</td>\n",
       "    </tr>\n",
       "    <tr>\n",
       "      <th>75%</th>\n",
       "      <td>7.000000</td>\n",
       "      <td>138.000000</td>\n",
       "      <td>82.000000</td>\n",
       "      <td>35.500000</td>\n",
       "      <td>NaN</td>\n",
       "      <td>35.725000</td>\n",
       "      <td>0.553250</td>\n",
       "      <td>43.000000</td>\n",
       "      <td>1.000000</td>\n",
       "    </tr>\n",
       "    <tr>\n",
       "      <th>max</th>\n",
       "      <td>14.000000</td>\n",
       "      <td>199.000000</td>\n",
       "      <td>122.000000</td>\n",
       "      <td>99.000000</td>\n",
       "      <td>NaN</td>\n",
       "      <td>52.900000</td>\n",
       "      <td>1.893000</td>\n",
       "      <td>72.000000</td>\n",
       "      <td>1.000000</td>\n",
       "    </tr>\n",
       "  </tbody>\n",
       "</table>\n",
       "</div>"
      ],
      "text/plain": [
       "       n_pregnant     glucose  blood_pressure  skin_thick  insulin  \\\n",
       "count  374.000000  370.000000      339.000000  147.000000        0   \n",
       "mean     4.433155  120.700000       74.439528   29.278912      NaN   \n",
       "std      3.437621   30.238604       11.979706   10.438195      NaN   \n",
       "min      0.000000   44.000000       44.000000    8.000000      NaN   \n",
       "25%      1.000000  100.250000       66.000000   22.000000      NaN   \n",
       "50%      4.000000  115.000000       74.000000   30.000000      NaN   \n",
       "75%      7.000000  138.000000       82.000000   35.500000      NaN   \n",
       "max     14.000000  199.000000      122.000000   99.000000      NaN   \n",
       "\n",
       "              bmi    pedigree         age  test_positive  \n",
       "count  364.000000  374.000000  374.000000     374.000000  \n",
       "mean    31.793407    0.415340   35.796791       0.368984  \n",
       "std      6.763519    0.300547   12.729034       0.483176  \n",
       "min     18.200000    0.078000   21.000000       0.000000  \n",
       "25%     26.800000    0.209000   25.000000       0.000000  \n",
       "50%     31.200000    0.302500   32.000000       0.000000  \n",
       "75%     35.725000    0.553250   43.000000       1.000000  \n",
       "max     52.900000    1.893000   72.000000       1.000000  "
      ]
     },
     "execution_count": 26,
     "metadata": {},
     "output_type": "execute_result"
    }
   ],
   "source": [
    "in_null = data.loc[data['insulin'].isnull(),:]\n",
    "in_null.describe()"
   ]
  },
  {
   "cell_type": "code",
   "execution_count": 27,
   "metadata": {
    "collapsed": false
   },
   "outputs": [
    {
     "data": {
      "text/html": [
       "<div>\n",
       "<table border=\"1\" class=\"dataframe\">\n",
       "  <thead>\n",
       "    <tr style=\"text-align: right;\">\n",
       "      <th></th>\n",
       "      <th>n_pregnant</th>\n",
       "      <th>glucose</th>\n",
       "      <th>blood_pressure</th>\n",
       "      <th>skin_thick</th>\n",
       "      <th>insulin</th>\n",
       "      <th>bmi</th>\n",
       "      <th>pedigree</th>\n",
       "      <th>age</th>\n",
       "      <th>test_positive</th>\n",
       "    </tr>\n",
       "  </thead>\n",
       "  <tbody>\n",
       "    <tr>\n",
       "      <th>count</th>\n",
       "      <td>394.000000</td>\n",
       "      <td>393.000000</td>\n",
       "      <td>391.000000</td>\n",
       "      <td>394.000000</td>\n",
       "      <td>394.000000</td>\n",
       "      <td>393.000000</td>\n",
       "      <td>394.000000</td>\n",
       "      <td>394.000000</td>\n",
       "      <td>394.000000</td>\n",
       "    </tr>\n",
       "    <tr>\n",
       "      <th>mean</th>\n",
       "      <td>3.286802</td>\n",
       "      <td>122.615776</td>\n",
       "      <td>70.982097</td>\n",
       "      <td>29.106599</td>\n",
       "      <td>155.548223</td>\n",
       "      <td>33.072519</td>\n",
       "      <td>0.525543</td>\n",
       "      <td>30.814721</td>\n",
       "      <td>0.329949</td>\n",
       "    </tr>\n",
       "    <tr>\n",
       "      <th>std</th>\n",
       "      <td>3.209635</td>\n",
       "      <td>30.822276</td>\n",
       "      <td>11.938612</td>\n",
       "      <td>10.504273</td>\n",
       "      <td>118.775855</td>\n",
       "      <td>7.023947</td>\n",
       "      <td>0.350127</td>\n",
       "      <td>10.198971</td>\n",
       "      <td>0.470792</td>\n",
       "    </tr>\n",
       "    <tr>\n",
       "      <th>min</th>\n",
       "      <td>0.000000</td>\n",
       "      <td>56.000000</td>\n",
       "      <td>38.000000</td>\n",
       "      <td>7.000000</td>\n",
       "      <td>14.000000</td>\n",
       "      <td>18.200000</td>\n",
       "      <td>0.085000</td>\n",
       "      <td>21.000000</td>\n",
       "      <td>0.000000</td>\n",
       "    </tr>\n",
       "    <tr>\n",
       "      <th>25%</th>\n",
       "      <td>1.000000</td>\n",
       "      <td>99.000000</td>\n",
       "      <td>62.000000</td>\n",
       "      <td>21.000000</td>\n",
       "      <td>76.250000</td>\n",
       "      <td>28.400000</td>\n",
       "      <td>0.270250</td>\n",
       "      <td>23.000000</td>\n",
       "      <td>0.000000</td>\n",
       "    </tr>\n",
       "    <tr>\n",
       "      <th>50%</th>\n",
       "      <td>2.000000</td>\n",
       "      <td>119.000000</td>\n",
       "      <td>70.000000</td>\n",
       "      <td>29.000000</td>\n",
       "      <td>125.000000</td>\n",
       "      <td>33.200000</td>\n",
       "      <td>0.449500</td>\n",
       "      <td>27.000000</td>\n",
       "      <td>0.000000</td>\n",
       "    </tr>\n",
       "    <tr>\n",
       "      <th>75%</th>\n",
       "      <td>5.000000</td>\n",
       "      <td>143.000000</td>\n",
       "      <td>78.000000</td>\n",
       "      <td>36.750000</td>\n",
       "      <td>190.000000</td>\n",
       "      <td>37.100000</td>\n",
       "      <td>0.687000</td>\n",
       "      <td>36.000000</td>\n",
       "      <td>1.000000</td>\n",
       "    </tr>\n",
       "    <tr>\n",
       "      <th>max</th>\n",
       "      <td>17.000000</td>\n",
       "      <td>198.000000</td>\n",
       "      <td>110.000000</td>\n",
       "      <td>63.000000</td>\n",
       "      <td>846.000000</td>\n",
       "      <td>67.100000</td>\n",
       "      <td>2.420000</td>\n",
       "      <td>81.000000</td>\n",
       "      <td>1.000000</td>\n",
       "    </tr>\n",
       "  </tbody>\n",
       "</table>\n",
       "</div>"
      ],
      "text/plain": [
       "       n_pregnant     glucose  blood_pressure  skin_thick     insulin  \\\n",
       "count  394.000000  393.000000      391.000000  394.000000  394.000000   \n",
       "mean     3.286802  122.615776       70.982097   29.106599  155.548223   \n",
       "std      3.209635   30.822276       11.938612   10.504273  118.775855   \n",
       "min      0.000000   56.000000       38.000000    7.000000   14.000000   \n",
       "25%      1.000000   99.000000       62.000000   21.000000   76.250000   \n",
       "50%      2.000000  119.000000       70.000000   29.000000  125.000000   \n",
       "75%      5.000000  143.000000       78.000000   36.750000  190.000000   \n",
       "max     17.000000  198.000000      110.000000   63.000000  846.000000   \n",
       "\n",
       "              bmi    pedigree         age  test_positive  \n",
       "count  393.000000  394.000000  394.000000     394.000000  \n",
       "mean    33.072519    0.525543   30.814721       0.329949  \n",
       "std      7.023947    0.350127   10.198971       0.470792  \n",
       "min     18.200000    0.085000   21.000000       0.000000  \n",
       "25%     28.400000    0.270250   23.000000       0.000000  \n",
       "50%     33.200000    0.449500   27.000000       0.000000  \n",
       "75%     37.100000    0.687000   36.000000       1.000000  \n",
       "max     67.100000    2.420000   81.000000       1.000000  "
      ]
     },
     "execution_count": 27,
     "metadata": {},
     "output_type": "execute_result"
    }
   ],
   "source": [
    "in_notnull = data.loc[data['insulin'].notnull(),:]\n",
    "in_notnull.describe()"
   ]
  },
  {
   "cell_type": "code",
   "execution_count": 28,
   "metadata": {
    "collapsed": false
   },
   "outputs": [
    {
     "data": {
      "image/png": "[encoded data removed]",
      "text/plain": [
       "<matplotlib.figure.Figure at 0x109f70110>"
      ]
     },
     "metadata": {},
     "output_type": "display_data"
    }
   ],
   "source": [
    "# Plot histogram looking at Glucose counts by null and not null insulin features\n",
    "fig = plt.figure(figsize=(15,10))\n",
    "plot_title = 'Glucose Distribution - insulin Null/Notnull'\n",
    "ax = plt.subplot(3,3,i+1)\n",
    "ax.set_title(plot_title, fontsize=15)\n",
    "in_null['glucose'].hist(ax=ax,bins=10, color='b', alpha=.5);\n",
    "in_notnull['glucose'].hist(ax=ax,bins=10, color='orange', alpha=.5);\n",
    "plt.tight_layout();"
   ]
  },
  {
   "cell_type": "markdown",
   "metadata": {},
   "source": [
    "### 3 - Missing insulin\n",
    "- Feature means of both groups are not far apart.\n",
    "- The glucose counts for the null and notnull are distributed closely. (Doesn't appear that the missing insulin records are grouped at either end.)\n",
    "- Imputing with mean should be okay\n",
    "- What to do with this feature will be a tough call. "
   ]
  },
  {
   "cell_type": "markdown",
   "metadata": {},
   "source": [
    "### look at missing 'skin_thick' records"
   ]
  },
  {
   "cell_type": "code",
   "execution_count": 29,
   "metadata": {
    "collapsed": false
   },
   "outputs": [
    {
     "data": {
      "text/html": [
       "<div>\n",
       "<table border=\"1\" class=\"dataframe\">\n",
       "  <thead>\n",
       "    <tr style=\"text-align: right;\">\n",
       "      <th></th>\n",
       "      <th>n_pregnant</th>\n",
       "      <th>glucose</th>\n",
       "      <th>blood_pressure</th>\n",
       "      <th>skin_thick</th>\n",
       "      <th>insulin</th>\n",
       "      <th>bmi</th>\n",
       "      <th>pedigree</th>\n",
       "      <th>age</th>\n",
       "      <th>test_positive</th>\n",
       "    </tr>\n",
       "  </thead>\n",
       "  <tbody>\n",
       "    <tr>\n",
       "      <th>count</th>\n",
       "      <td>227.000000</td>\n",
       "      <td>227.000000</td>\n",
       "      <td>194.000000</td>\n",
       "      <td>0</td>\n",
       "      <td>0</td>\n",
       "      <td>218.000000</td>\n",
       "      <td>227.000000</td>\n",
       "      <td>227.000000</td>\n",
       "      <td>227.000000</td>\n",
       "    </tr>\n",
       "    <tr>\n",
       "      <th>mean</th>\n",
       "      <td>4.638767</td>\n",
       "      <td>123.449339</td>\n",
       "      <td>75.025773</td>\n",
       "      <td>NaN</td>\n",
       "      <td>NaN</td>\n",
       "      <td>31.373853</td>\n",
       "      <td>0.393291</td>\n",
       "      <td>37.251101</td>\n",
       "      <td>0.387665</td>\n",
       "    </tr>\n",
       "    <tr>\n",
       "      <th>std</th>\n",
       "      <td>3.350062</td>\n",
       "      <td>29.572931</td>\n",
       "      <td>12.305454</td>\n",
       "      <td>NaN</td>\n",
       "      <td>NaN</td>\n",
       "      <td>6.952505</td>\n",
       "      <td>0.276871</td>\n",
       "      <td>13.062933</td>\n",
       "      <td>0.488294</td>\n",
       "    </tr>\n",
       "    <tr>\n",
       "      <th>min</th>\n",
       "      <td>0.000000</td>\n",
       "      <td>44.000000</td>\n",
       "      <td>48.000000</td>\n",
       "      <td>NaN</td>\n",
       "      <td>NaN</td>\n",
       "      <td>18.200000</td>\n",
       "      <td>0.078000</td>\n",
       "      <td>21.000000</td>\n",
       "      <td>0.000000</td>\n",
       "    </tr>\n",
       "    <tr>\n",
       "      <th>25%</th>\n",
       "      <td>2.000000</td>\n",
       "      <td>105.000000</td>\n",
       "      <td>66.000000</td>\n",
       "      <td>NaN</td>\n",
       "      <td>NaN</td>\n",
       "      <td>25.925000</td>\n",
       "      <td>0.203000</td>\n",
       "      <td>27.000000</td>\n",
       "      <td>0.000000</td>\n",
       "    </tr>\n",
       "    <tr>\n",
       "      <th>50%</th>\n",
       "      <td>4.000000</td>\n",
       "      <td>120.000000</td>\n",
       "      <td>74.500000</td>\n",
       "      <td>NaN</td>\n",
       "      <td>NaN</td>\n",
       "      <td>30.850000</td>\n",
       "      <td>0.282000</td>\n",
       "      <td>34.000000</td>\n",
       "      <td>0.000000</td>\n",
       "    </tr>\n",
       "    <tr>\n",
       "      <th>75%</th>\n",
       "      <td>7.000000</td>\n",
       "      <td>140.500000</td>\n",
       "      <td>82.000000</td>\n",
       "      <td>NaN</td>\n",
       "      <td>NaN</td>\n",
       "      <td>35.300000</td>\n",
       "      <td>0.536500</td>\n",
       "      <td>45.000000</td>\n",
       "      <td>1.000000</td>\n",
       "    </tr>\n",
       "    <tr>\n",
       "      <th>max</th>\n",
       "      <td>13.000000</td>\n",
       "      <td>197.000000</td>\n",
       "      <td>122.000000</td>\n",
       "      <td>NaN</td>\n",
       "      <td>NaN</td>\n",
       "      <td>52.900000</td>\n",
       "      <td>1.781000</td>\n",
       "      <td>72.000000</td>\n",
       "      <td>1.000000</td>\n",
       "    </tr>\n",
       "  </tbody>\n",
       "</table>\n",
       "</div>"
      ],
      "text/plain": [
       "       n_pregnant     glucose  blood_pressure  skin_thick  insulin  \\\n",
       "count  227.000000  227.000000      194.000000           0        0   \n",
       "mean     4.638767  123.449339       75.025773         NaN      NaN   \n",
       "std      3.350062   29.572931       12.305454         NaN      NaN   \n",
       "min      0.000000   44.000000       48.000000         NaN      NaN   \n",
       "25%      2.000000  105.000000       66.000000         NaN      NaN   \n",
       "50%      4.000000  120.000000       74.500000         NaN      NaN   \n",
       "75%      7.000000  140.500000       82.000000         NaN      NaN   \n",
       "max     13.000000  197.000000      122.000000         NaN      NaN   \n",
       "\n",
       "              bmi    pedigree         age  test_positive  \n",
       "count  218.000000  227.000000  227.000000     227.000000  \n",
       "mean    31.373853    0.393291   37.251101       0.387665  \n",
       "std      6.952505    0.276871   13.062933       0.488294  \n",
       "min     18.200000    0.078000   21.000000       0.000000  \n",
       "25%     25.925000    0.203000   27.000000       0.000000  \n",
       "50%     30.850000    0.282000   34.000000       0.000000  \n",
       "75%     35.300000    0.536500   45.000000       1.000000  \n",
       "max     52.900000    1.781000   72.000000       1.000000  "
      ]
     },
     "execution_count": 29,
     "metadata": {},
     "output_type": "execute_result"
    }
   ],
   "source": [
    "data.loc[data['skin_thick'].isnull(),:].describe()"
   ]
  },
  {
   "cell_type": "code",
   "execution_count": 30,
   "metadata": {
    "collapsed": false
   },
   "outputs": [
    {
     "data": {
      "text/html": [
       "<div>\n",
       "<table border=\"1\" class=\"dataframe\">\n",
       "  <thead>\n",
       "    <tr style=\"text-align: right;\">\n",
       "      <th></th>\n",
       "      <th>n_pregnant</th>\n",
       "      <th>glucose</th>\n",
       "      <th>blood_pressure</th>\n",
       "      <th>skin_thick</th>\n",
       "      <th>insulin</th>\n",
       "      <th>bmi</th>\n",
       "      <th>pedigree</th>\n",
       "      <th>age</th>\n",
       "      <th>test_positive</th>\n",
       "    </tr>\n",
       "  </thead>\n",
       "  <tbody>\n",
       "    <tr>\n",
       "      <th>count</th>\n",
       "      <td>541.000000</td>\n",
       "      <td>536.000000</td>\n",
       "      <td>536.000000</td>\n",
       "      <td>541.000000</td>\n",
       "      <td>394.000000</td>\n",
       "      <td>539.000000</td>\n",
       "      <td>541.000000</td>\n",
       "      <td>541.000000</td>\n",
       "      <td>541.000000</td>\n",
       "    </tr>\n",
       "    <tr>\n",
       "      <th>mean</th>\n",
       "      <td>3.512015</td>\n",
       "      <td>120.940299</td>\n",
       "      <td>71.705224</td>\n",
       "      <td>29.153420</td>\n",
       "      <td>155.548223</td>\n",
       "      <td>32.895733</td>\n",
       "      <td>0.504850</td>\n",
       "      <td>31.558226</td>\n",
       "      <td>0.332717</td>\n",
       "    </tr>\n",
       "    <tr>\n",
       "      <th>std</th>\n",
       "      <td>3.324759</td>\n",
       "      <td>30.931159</td>\n",
       "      <td>11.877051</td>\n",
       "      <td>10.476982</td>\n",
       "      <td>118.775855</td>\n",
       "      <td>6.871851</td>\n",
       "      <td>0.346639</td>\n",
       "      <td>10.743768</td>\n",
       "      <td>0.471622</td>\n",
       "    </tr>\n",
       "    <tr>\n",
       "      <th>min</th>\n",
       "      <td>0.000000</td>\n",
       "      <td>56.000000</td>\n",
       "      <td>38.000000</td>\n",
       "      <td>7.000000</td>\n",
       "      <td>14.000000</td>\n",
       "      <td>18.200000</td>\n",
       "      <td>0.085000</td>\n",
       "      <td>21.000000</td>\n",
       "      <td>0.000000</td>\n",
       "    </tr>\n",
       "    <tr>\n",
       "      <th>25%</th>\n",
       "      <td>1.000000</td>\n",
       "      <td>98.750000</td>\n",
       "      <td>64.000000</td>\n",
       "      <td>22.000000</td>\n",
       "      <td>76.250000</td>\n",
       "      <td>27.850000</td>\n",
       "      <td>0.259000</td>\n",
       "      <td>23.000000</td>\n",
       "      <td>0.000000</td>\n",
       "    </tr>\n",
       "    <tr>\n",
       "      <th>50%</th>\n",
       "      <td>2.000000</td>\n",
       "      <td>115.000000</td>\n",
       "      <td>72.000000</td>\n",
       "      <td>29.000000</td>\n",
       "      <td>125.000000</td>\n",
       "      <td>32.800000</td>\n",
       "      <td>0.417000</td>\n",
       "      <td>28.000000</td>\n",
       "      <td>0.000000</td>\n",
       "    </tr>\n",
       "    <tr>\n",
       "      <th>75%</th>\n",
       "      <td>5.000000</td>\n",
       "      <td>141.000000</td>\n",
       "      <td>80.000000</td>\n",
       "      <td>36.000000</td>\n",
       "      <td>190.000000</td>\n",
       "      <td>36.900000</td>\n",
       "      <td>0.660000</td>\n",
       "      <td>38.000000</td>\n",
       "      <td>1.000000</td>\n",
       "    </tr>\n",
       "    <tr>\n",
       "      <th>max</th>\n",
       "      <td>17.000000</td>\n",
       "      <td>199.000000</td>\n",
       "      <td>110.000000</td>\n",
       "      <td>99.000000</td>\n",
       "      <td>846.000000</td>\n",
       "      <td>67.100000</td>\n",
       "      <td>2.420000</td>\n",
       "      <td>81.000000</td>\n",
       "      <td>1.000000</td>\n",
       "    </tr>\n",
       "  </tbody>\n",
       "</table>\n",
       "</div>"
      ],
      "text/plain": [
       "       n_pregnant     glucose  blood_pressure  skin_thick     insulin  \\\n",
       "count  541.000000  536.000000      536.000000  541.000000  394.000000   \n",
       "mean     3.512015  120.940299       71.705224   29.153420  155.548223   \n",
       "std      3.324759   30.931159       11.877051   10.476982  118.775855   \n",
       "min      0.000000   56.000000       38.000000    7.000000   14.000000   \n",
       "25%      1.000000   98.750000       64.000000   22.000000   76.250000   \n",
       "50%      2.000000  115.000000       72.000000   29.000000  125.000000   \n",
       "75%      5.000000  141.000000       80.000000   36.000000  190.000000   \n",
       "max     17.000000  199.000000      110.000000   99.000000  846.000000   \n",
       "\n",
       "              bmi    pedigree         age  test_positive  \n",
       "count  539.000000  541.000000  541.000000     541.000000  \n",
       "mean    32.895733    0.504850   31.558226       0.332717  \n",
       "std      6.871851    0.346639   10.743768       0.471622  \n",
       "min     18.200000    0.085000   21.000000       0.000000  \n",
       "25%     27.850000    0.259000   23.000000       0.000000  \n",
       "50%     32.800000    0.417000   28.000000       0.000000  \n",
       "75%     36.900000    0.660000   38.000000       1.000000  \n",
       "max     67.100000    2.420000   81.000000       1.000000  "
      ]
     },
     "execution_count": 30,
     "metadata": {},
     "output_type": "execute_result"
    }
   ],
   "source": [
    "data.loc[data['skin_thick'].notnull(),:].describe()"
   ]
  },
  {
   "cell_type": "markdown",
   "metadata": {},
   "source": [
    "### 3 - Missing skin_thick\n",
    "- Mean values very similar in both groups.\n",
    "- 'insulin' also missing for the null group. (missing data seems to be from the same patients)\n",
    "- probably safe to use mean."
   ]
  },
  {
   "cell_type": "code",
   "execution_count": 31,
   "metadata": {
    "collapsed": false
   },
   "outputs": [
    {
     "data": {
      "text/html": [
       "<div>\n",
       "<table border=\"1\" class=\"dataframe\">\n",
       "  <thead>\n",
       "    <tr style=\"text-align: right;\">\n",
       "      <th></th>\n",
       "      <th>n_pregnant</th>\n",
       "      <th>glucose</th>\n",
       "      <th>blood_pressure</th>\n",
       "      <th>skin_thick</th>\n",
       "      <th>insulin</th>\n",
       "      <th>bmi</th>\n",
       "      <th>pedigree</th>\n",
       "      <th>age</th>\n",
       "      <th>test_positive</th>\n",
       "    </tr>\n",
       "  </thead>\n",
       "  <tbody>\n",
       "    <tr>\n",
       "      <th>count</th>\n",
       "      <td>38.000000</td>\n",
       "      <td>38.000000</td>\n",
       "      <td>0</td>\n",
       "      <td>5.000000</td>\n",
       "      <td>3.000000</td>\n",
       "      <td>31.000000</td>\n",
       "      <td>38.000000</td>\n",
       "      <td>38.000000</td>\n",
       "      <td>38.000000</td>\n",
       "    </tr>\n",
       "    <tr>\n",
       "      <th>mean</th>\n",
       "      <td>3.421053</td>\n",
       "      <td>115.868421</td>\n",
       "      <td>NaN</td>\n",
       "      <td>30.400000</td>\n",
       "      <td>69.000000</td>\n",
       "      <td>33.090323</td>\n",
       "      <td>0.390342</td>\n",
       "      <td>30.394737</td>\n",
       "      <td>0.447368</td>\n",
       "    </tr>\n",
       "    <tr>\n",
       "      <th>std</th>\n",
       "      <td>3.568871</td>\n",
       "      <td>27.255717</td>\n",
       "      <td>NaN</td>\n",
       "      <td>9.710819</td>\n",
       "      <td>38.935845</td>\n",
       "      <td>8.904469</td>\n",
       "      <td>0.248285</td>\n",
       "      <td>9.581907</td>\n",
       "      <td>0.503897</td>\n",
       "    </tr>\n",
       "    <tr>\n",
       "      <th>min</th>\n",
       "      <td>0.000000</td>\n",
       "      <td>73.000000</td>\n",
       "      <td>NaN</td>\n",
       "      <td>19.000000</td>\n",
       "      <td>25.000000</td>\n",
       "      <td>19.600000</td>\n",
       "      <td>0.102000</td>\n",
       "      <td>21.000000</td>\n",
       "      <td>0.000000</td>\n",
       "    </tr>\n",
       "    <tr>\n",
       "      <th>25%</th>\n",
       "      <td>0.250000</td>\n",
       "      <td>94.500000</td>\n",
       "      <td>NaN</td>\n",
       "      <td>23.000000</td>\n",
       "      <td>54.000000</td>\n",
       "      <td>27.650000</td>\n",
       "      <td>0.193750</td>\n",
       "      <td>24.250000</td>\n",
       "      <td>0.000000</td>\n",
       "    </tr>\n",
       "    <tr>\n",
       "      <th>50%</th>\n",
       "      <td>2.000000</td>\n",
       "      <td>115.500000</td>\n",
       "      <td>NaN</td>\n",
       "      <td>30.000000</td>\n",
       "      <td>83.000000</td>\n",
       "      <td>30.000000</td>\n",
       "      <td>0.292000</td>\n",
       "      <td>28.000000</td>\n",
       "      <td>0.000000</td>\n",
       "    </tr>\n",
       "    <tr>\n",
       "      <th>75%</th>\n",
       "      <td>6.000000</td>\n",
       "      <td>131.750000</td>\n",
       "      <td>NaN</td>\n",
       "      <td>38.000000</td>\n",
       "      <td>91.000000</td>\n",
       "      <td>39.200000</td>\n",
       "      <td>0.566500</td>\n",
       "      <td>32.750000</td>\n",
       "      <td>1.000000</td>\n",
       "    </tr>\n",
       "    <tr>\n",
       "      <th>max</th>\n",
       "      <td>13.000000</td>\n",
       "      <td>183.000000</td>\n",
       "      <td>NaN</td>\n",
       "      <td>42.000000</td>\n",
       "      <td>99.000000</td>\n",
       "      <td>55.000000</td>\n",
       "      <td>0.933000</td>\n",
       "      <td>72.000000</td>\n",
       "      <td>1.000000</td>\n",
       "    </tr>\n",
       "  </tbody>\n",
       "</table>\n",
       "</div>"
      ],
      "text/plain": [
       "       n_pregnant     glucose  blood_pressure  skin_thick    insulin  \\\n",
       "count   38.000000   38.000000               0    5.000000   3.000000   \n",
       "mean     3.421053  115.868421             NaN   30.400000  69.000000   \n",
       "std      3.568871   27.255717             NaN    9.710819  38.935845   \n",
       "min      0.000000   73.000000             NaN   19.000000  25.000000   \n",
       "25%      0.250000   94.500000             NaN   23.000000  54.000000   \n",
       "50%      2.000000  115.500000             NaN   30.000000  83.000000   \n",
       "75%      6.000000  131.750000             NaN   38.000000  91.000000   \n",
       "max     13.000000  183.000000             NaN   42.000000  99.000000   \n",
       "\n",
       "             bmi   pedigree        age  test_positive  \n",
       "count  31.000000  38.000000  38.000000      38.000000  \n",
       "mean   33.090323   0.390342  30.394737       0.447368  \n",
       "std     8.904469   0.248285   9.581907       0.503897  \n",
       "min    19.600000   0.102000  21.000000       0.000000  \n",
       "25%    27.650000   0.193750  24.250000       0.000000  \n",
       "50%    30.000000   0.292000  28.000000       0.000000  \n",
       "75%    39.200000   0.566500  32.750000       1.000000  \n",
       "max    55.000000   0.933000  72.000000       1.000000  "
      ]
     },
     "execution_count": 31,
     "metadata": {},
     "output_type": "execute_result"
    }
   ],
   "source": [
    "data.loc[data['blood_pressure'].isnull(),:].describe()"
   ]
  },
  {
   "cell_type": "markdown",
   "metadata": {},
   "source": [
    "### 3 - Missing 'blood_pressure'\n",
    "- Feature means of records are similar\n",
    "- These records also missing blood_pressure and insulin"
   ]
  },
  {
   "cell_type": "code",
   "execution_count": 32,
   "metadata": {
    "collapsed": false
   },
   "outputs": [
    {
     "data": {
      "text/html": [
       "<div>\n",
       "<table border=\"1\" class=\"dataframe\">\n",
       "  <thead>\n",
       "    <tr style=\"text-align: right;\">\n",
       "      <th></th>\n",
       "      <th>n_pregnant</th>\n",
       "      <th>glucose</th>\n",
       "      <th>blood_pressure</th>\n",
       "      <th>skin_thick</th>\n",
       "      <th>insulin</th>\n",
       "      <th>bmi</th>\n",
       "      <th>pedigree</th>\n",
       "      <th>age</th>\n",
       "      <th>test_positive</th>\n",
       "    </tr>\n",
       "  </thead>\n",
       "  <tbody>\n",
       "    <tr>\n",
       "      <th>count</th>\n",
       "      <td>11.000000</td>\n",
       "      <td>11.000000</td>\n",
       "      <td>4.000000</td>\n",
       "      <td>2</td>\n",
       "      <td>1</td>\n",
       "      <td>0</td>\n",
       "      <td>11.000000</td>\n",
       "      <td>11.000000</td>\n",
       "      <td>11.000000</td>\n",
       "    </tr>\n",
       "    <tr>\n",
       "      <th>mean</th>\n",
       "      <td>3.909091</td>\n",
       "      <td>104.272727</td>\n",
       "      <td>79.250000</td>\n",
       "      <td>23</td>\n",
       "      <td>89</td>\n",
       "      <td>NaN</td>\n",
       "      <td>0.433273</td>\n",
       "      <td>30.454545</td>\n",
       "      <td>0.181818</td>\n",
       "    </tr>\n",
       "    <tr>\n",
       "      <th>std</th>\n",
       "      <td>3.505839</td>\n",
       "      <td>19.652435</td>\n",
       "      <td>13.400871</td>\n",
       "      <td>0</td>\n",
       "      <td>NaN</td>\n",
       "      <td>NaN</td>\n",
       "      <td>0.460162</td>\n",
       "      <td>15.945931</td>\n",
       "      <td>0.404520</td>\n",
       "    </tr>\n",
       "    <tr>\n",
       "      <th>min</th>\n",
       "      <td>0.000000</td>\n",
       "      <td>74.000000</td>\n",
       "      <td>64.000000</td>\n",
       "      <td>23</td>\n",
       "      <td>89</td>\n",
       "      <td>NaN</td>\n",
       "      <td>0.102000</td>\n",
       "      <td>21.000000</td>\n",
       "      <td>0.000000</td>\n",
       "    </tr>\n",
       "    <tr>\n",
       "      <th>25%</th>\n",
       "      <td>1.000000</td>\n",
       "      <td>89.000000</td>\n",
       "      <td>72.250000</td>\n",
       "      <td>23</td>\n",
       "      <td>89</td>\n",
       "      <td>NaN</td>\n",
       "      <td>0.210500</td>\n",
       "      <td>21.500000</td>\n",
       "      <td>0.000000</td>\n",
       "    </tr>\n",
       "    <tr>\n",
       "      <th>50%</th>\n",
       "      <td>3.000000</td>\n",
       "      <td>105.000000</td>\n",
       "      <td>78.500000</td>\n",
       "      <td>23</td>\n",
       "      <td>89</td>\n",
       "      <td>NaN</td>\n",
       "      <td>0.261000</td>\n",
       "      <td>24.000000</td>\n",
       "      <td>0.000000</td>\n",
       "    </tr>\n",
       "    <tr>\n",
       "      <th>75%</th>\n",
       "      <td>6.500000</td>\n",
       "      <td>116.500000</td>\n",
       "      <td>85.500000</td>\n",
       "      <td>23</td>\n",
       "      <td>89</td>\n",
       "      <td>NaN</td>\n",
       "      <td>0.438500</td>\n",
       "      <td>28.000000</td>\n",
       "      <td>0.000000</td>\n",
       "    </tr>\n",
       "    <tr>\n",
       "      <th>max</th>\n",
       "      <td>10.000000</td>\n",
       "      <td>136.000000</td>\n",
       "      <td>96.000000</td>\n",
       "      <td>23</td>\n",
       "      <td>89</td>\n",
       "      <td>NaN</td>\n",
       "      <td>1.731000</td>\n",
       "      <td>69.000000</td>\n",
       "      <td>1.000000</td>\n",
       "    </tr>\n",
       "  </tbody>\n",
       "</table>\n",
       "</div>"
      ],
      "text/plain": [
       "       n_pregnant     glucose  blood_pressure  skin_thick  insulin  bmi  \\\n",
       "count   11.000000   11.000000        4.000000           2        1    0   \n",
       "mean     3.909091  104.272727       79.250000          23       89  NaN   \n",
       "std      3.505839   19.652435       13.400871           0      NaN  NaN   \n",
       "min      0.000000   74.000000       64.000000          23       89  NaN   \n",
       "25%      1.000000   89.000000       72.250000          23       89  NaN   \n",
       "50%      3.000000  105.000000       78.500000          23       89  NaN   \n",
       "75%      6.500000  116.500000       85.500000          23       89  NaN   \n",
       "max     10.000000  136.000000       96.000000          23       89  NaN   \n",
       "\n",
       "        pedigree        age  test_positive  \n",
       "count  11.000000  11.000000      11.000000  \n",
       "mean    0.433273  30.454545       0.181818  \n",
       "std     0.460162  15.945931       0.404520  \n",
       "min     0.102000  21.000000       0.000000  \n",
       "25%     0.210500  21.500000       0.000000  \n",
       "50%     0.261000  24.000000       0.000000  \n",
       "75%     0.438500  28.000000       0.000000  \n",
       "max     1.731000  69.000000       1.000000  "
      ]
     },
     "execution_count": 32,
     "metadata": {},
     "output_type": "execute_result"
    }
   ],
   "source": [
    "data.loc[data['bmi'].isnull(),:].describe()"
   ]
  },
  {
   "cell_type": "markdown",
   "metadata": {},
   "source": [
    "### 3 - Missing 'bmi'\n",
    "- Feature means of records are similar\n",
    "- These records also missing blood_pressure, skin_thick and insulin"
   ]
  },
  {
   "cell_type": "code",
   "execution_count": 33,
   "metadata": {
    "collapsed": false
   },
   "outputs": [
    {
     "data": {
      "text/html": [
       "<div>\n",
       "<table border=\"1\" class=\"dataframe\">\n",
       "  <thead>\n",
       "    <tr style=\"text-align: right;\">\n",
       "      <th></th>\n",
       "      <th>n_pregnant</th>\n",
       "      <th>glucose</th>\n",
       "      <th>blood_pressure</th>\n",
       "      <th>skin_thick</th>\n",
       "      <th>insulin</th>\n",
       "      <th>bmi</th>\n",
       "      <th>pedigree</th>\n",
       "      <th>age</th>\n",
       "      <th>test_positive</th>\n",
       "    </tr>\n",
       "  </thead>\n",
       "  <tbody>\n",
       "    <tr>\n",
       "      <th>count</th>\n",
       "      <td>5.00000</td>\n",
       "      <td>0</td>\n",
       "      <td>5.000000</td>\n",
       "      <td>5.000000</td>\n",
       "      <td>1</td>\n",
       "      <td>5.000000</td>\n",
       "      <td>5.000000</td>\n",
       "      <td>5.000000</td>\n",
       "      <td>5.000000</td>\n",
       "    </tr>\n",
       "    <tr>\n",
       "      <th>mean</th>\n",
       "      <td>2.80000</td>\n",
       "      <td>NaN</td>\n",
       "      <td>67.600000</td>\n",
       "      <td>29.600000</td>\n",
       "      <td>23</td>\n",
       "      <td>32.880000</td>\n",
       "      <td>0.380200</td>\n",
       "      <td>28.600000</td>\n",
       "      <td>0.400000</td>\n",
       "    </tr>\n",
       "    <tr>\n",
       "      <th>std</th>\n",
       "      <td>2.48998</td>\n",
       "      <td>NaN</td>\n",
       "      <td>12.033287</td>\n",
       "      <td>9.343447</td>\n",
       "      <td>NaN</td>\n",
       "      <td>7.033989</td>\n",
       "      <td>0.215527</td>\n",
       "      <td>9.607289</td>\n",
       "      <td>0.547723</td>\n",
       "    </tr>\n",
       "    <tr>\n",
       "      <th>min</th>\n",
       "      <td>1.00000</td>\n",
       "      <td>NaN</td>\n",
       "      <td>48.000000</td>\n",
       "      <td>20.000000</td>\n",
       "      <td>23</td>\n",
       "      <td>24.700000</td>\n",
       "      <td>0.140000</td>\n",
       "      <td>21.000000</td>\n",
       "      <td>0.000000</td>\n",
       "    </tr>\n",
       "    <tr>\n",
       "      <th>25%</th>\n",
       "      <td>1.00000</td>\n",
       "      <td>NaN</td>\n",
       "      <td>68.000000</td>\n",
       "      <td>20.000000</td>\n",
       "      <td>23</td>\n",
       "      <td>27.700000</td>\n",
       "      <td>0.299000</td>\n",
       "      <td>22.000000</td>\n",
       "      <td>0.000000</td>\n",
       "    </tr>\n",
       "    <tr>\n",
       "      <th>50%</th>\n",
       "      <td>1.00000</td>\n",
       "      <td>NaN</td>\n",
       "      <td>68.000000</td>\n",
       "      <td>32.000000</td>\n",
       "      <td>23</td>\n",
       "      <td>32.000000</td>\n",
       "      <td>0.346000</td>\n",
       "      <td>22.000000</td>\n",
       "      <td>0.000000</td>\n",
       "    </tr>\n",
       "    <tr>\n",
       "      <th>75%</th>\n",
       "      <td>5.00000</td>\n",
       "      <td>NaN</td>\n",
       "      <td>74.000000</td>\n",
       "      <td>35.000000</td>\n",
       "      <td>23</td>\n",
       "      <td>39.000000</td>\n",
       "      <td>0.389000</td>\n",
       "      <td>37.000000</td>\n",
       "      <td>1.000000</td>\n",
       "    </tr>\n",
       "    <tr>\n",
       "      <th>max</th>\n",
       "      <td>6.00000</td>\n",
       "      <td>NaN</td>\n",
       "      <td>80.000000</td>\n",
       "      <td>41.000000</td>\n",
       "      <td>23</td>\n",
       "      <td>41.000000</td>\n",
       "      <td>0.727000</td>\n",
       "      <td>41.000000</td>\n",
       "      <td>1.000000</td>\n",
       "    </tr>\n",
       "  </tbody>\n",
       "</table>\n",
       "</div>"
      ],
      "text/plain": [
       "       n_pregnant  glucose  blood_pressure  skin_thick  insulin        bmi  \\\n",
       "count     5.00000        0        5.000000    5.000000        1   5.000000   \n",
       "mean      2.80000      NaN       67.600000   29.600000       23  32.880000   \n",
       "std       2.48998      NaN       12.033287    9.343447      NaN   7.033989   \n",
       "min       1.00000      NaN       48.000000   20.000000       23  24.700000   \n",
       "25%       1.00000      NaN       68.000000   20.000000       23  27.700000   \n",
       "50%       1.00000      NaN       68.000000   32.000000       23  32.000000   \n",
       "75%       5.00000      NaN       74.000000   35.000000       23  39.000000   \n",
       "max       6.00000      NaN       80.000000   41.000000       23  41.000000   \n",
       "\n",
       "       pedigree        age  test_positive  \n",
       "count  5.000000   5.000000       5.000000  \n",
       "mean   0.380200  28.600000       0.400000  \n",
       "std    0.215527   9.607289       0.547723  \n",
       "min    0.140000  21.000000       0.000000  \n",
       "25%    0.299000  22.000000       0.000000  \n",
       "50%    0.346000  22.000000       0.000000  \n",
       "75%    0.389000  37.000000       1.000000  \n",
       "max    0.727000  41.000000       1.000000  "
      ]
     },
     "execution_count": 33,
     "metadata": {},
     "output_type": "execute_result"
    }
   ],
   "source": [
    "data.loc[data['glucose'].isnull(),:].describe()"
   ]
  },
  {
   "cell_type": "markdown",
   "metadata": {},
   "source": [
    "### 3 - Missing 'glucose' \n",
    "- Similar means \n",
    "- only 5 records"
   ]
  },
  {
   "cell_type": "markdown",
   "metadata": {},
   "source": [
    "### Check for highly correlated features"
   ]
  },
  {
   "cell_type": "code",
   "execution_count": 34,
   "metadata": {
    "collapsed": false
   },
   "outputs": [
    {
     "data": {
      "text/html": [
       "<div>\n",
       "<table border=\"1\" class=\"dataframe\">\n",
       "  <thead>\n",
       "    <tr style=\"text-align: right;\">\n",
       "      <th></th>\n",
       "      <th>n_pregnant</th>\n",
       "      <th>glucose</th>\n",
       "      <th>blood_pressure</th>\n",
       "      <th>skin_thick</th>\n",
       "      <th>insulin</th>\n",
       "      <th>bmi</th>\n",
       "      <th>pedigree</th>\n",
       "      <th>age</th>\n",
       "      <th>test_positive</th>\n",
       "    </tr>\n",
       "  </thead>\n",
       "  <tbody>\n",
       "    <tr>\n",
       "      <th>n_pregnant</th>\n",
       "      <td>1.000000</td>\n",
       "      <td>0.128135</td>\n",
       "      <td>0.207519</td>\n",
       "      <td>0.100239</td>\n",
       "      <td>0.082171</td>\n",
       "      <td>0.021719</td>\n",
       "      <td>-0.033523</td>\n",
       "      <td>0.544341</td>\n",
       "      <td>0.221898</td>\n",
       "    </tr>\n",
       "    <tr>\n",
       "      <th>glucose</th>\n",
       "      <td>0.128135</td>\n",
       "      <td>1.000000</td>\n",
       "      <td>0.215516</td>\n",
       "      <td>0.228043</td>\n",
       "      <td>0.581186</td>\n",
       "      <td>0.232771</td>\n",
       "      <td>0.137246</td>\n",
       "      <td>0.267136</td>\n",
       "      <td>0.494650</td>\n",
       "    </tr>\n",
       "    <tr>\n",
       "      <th>blood_pressure</th>\n",
       "      <td>0.207519</td>\n",
       "      <td>0.215516</td>\n",
       "      <td>1.000000</td>\n",
       "      <td>0.242259</td>\n",
       "      <td>0.082653</td>\n",
       "      <td>0.320058</td>\n",
       "      <td>-0.005455</td>\n",
       "      <td>0.330675</td>\n",
       "      <td>0.174853</td>\n",
       "    </tr>\n",
       "    <tr>\n",
       "      <th>skin_thick</th>\n",
       "      <td>0.100239</td>\n",
       "      <td>0.228043</td>\n",
       "      <td>0.242259</td>\n",
       "      <td>1.000000</td>\n",
       "      <td>0.184888</td>\n",
       "      <td>0.648214</td>\n",
       "      <td>0.115016</td>\n",
       "      <td>0.166816</td>\n",
       "      <td>0.259491</td>\n",
       "    </tr>\n",
       "    <tr>\n",
       "      <th>insulin</th>\n",
       "      <td>0.082171</td>\n",
       "      <td>0.581186</td>\n",
       "      <td>0.082653</td>\n",
       "      <td>0.184888</td>\n",
       "      <td>1.000000</td>\n",
       "      <td>0.228050</td>\n",
       "      <td>0.130395</td>\n",
       "      <td>0.220261</td>\n",
       "      <td>0.303454</td>\n",
       "    </tr>\n",
       "    <tr>\n",
       "      <th>bmi</th>\n",
       "      <td>0.021719</td>\n",
       "      <td>0.232771</td>\n",
       "      <td>0.320058</td>\n",
       "      <td>0.648214</td>\n",
       "      <td>0.228050</td>\n",
       "      <td>1.000000</td>\n",
       "      <td>0.155382</td>\n",
       "      <td>0.025841</td>\n",
       "      <td>0.313680</td>\n",
       "    </tr>\n",
       "    <tr>\n",
       "      <th>pedigree</th>\n",
       "      <td>-0.033523</td>\n",
       "      <td>0.137246</td>\n",
       "      <td>-0.005455</td>\n",
       "      <td>0.115016</td>\n",
       "      <td>0.130395</td>\n",
       "      <td>0.155382</td>\n",
       "      <td>1.000000</td>\n",
       "      <td>0.033561</td>\n",
       "      <td>0.173844</td>\n",
       "    </tr>\n",
       "    <tr>\n",
       "      <th>age</th>\n",
       "      <td>0.544341</td>\n",
       "      <td>0.267136</td>\n",
       "      <td>0.330675</td>\n",
       "      <td>0.166816</td>\n",
       "      <td>0.220261</td>\n",
       "      <td>0.025841</td>\n",
       "      <td>0.033561</td>\n",
       "      <td>1.000000</td>\n",
       "      <td>0.238356</td>\n",
       "    </tr>\n",
       "    <tr>\n",
       "      <th>test_positive</th>\n",
       "      <td>0.221898</td>\n",
       "      <td>0.494650</td>\n",
       "      <td>0.174853</td>\n",
       "      <td>0.259491</td>\n",
       "      <td>0.303454</td>\n",
       "      <td>0.313680</td>\n",
       "      <td>0.173844</td>\n",
       "      <td>0.238356</td>\n",
       "      <td>1.000000</td>\n",
       "    </tr>\n",
       "  </tbody>\n",
       "</table>\n",
       "</div>"
      ],
      "text/plain": [
       "                n_pregnant   glucose  blood_pressure  skin_thick   insulin  \\\n",
       "n_pregnant        1.000000  0.128135        0.207519    0.100239  0.082171   \n",
       "glucose           0.128135  1.000000        0.215516    0.228043  0.581186   \n",
       "blood_pressure    0.207519  0.215516        1.000000    0.242259  0.082653   \n",
       "skin_thick        0.100239  0.228043        0.242259    1.000000  0.184888   \n",
       "insulin           0.082171  0.581186        0.082653    0.184888  1.000000   \n",
       "bmi               0.021719  0.232771        0.320058    0.648214  0.228050   \n",
       "pedigree         -0.033523  0.137246       -0.005455    0.115016  0.130395   \n",
       "age               0.544341  0.267136        0.330675    0.166816  0.220261   \n",
       "test_positive     0.221898  0.494650        0.174853    0.259491  0.303454   \n",
       "\n",
       "                     bmi  pedigree       age  test_positive  \n",
       "n_pregnant      0.021719 -0.033523  0.544341       0.221898  \n",
       "glucose         0.232771  0.137246  0.267136       0.494650  \n",
       "blood_pressure  0.320058 -0.005455  0.330675       0.174853  \n",
       "skin_thick      0.648214  0.115016  0.166816       0.259491  \n",
       "insulin         0.228050  0.130395  0.220261       0.303454  \n",
       "bmi             1.000000  0.155382  0.025841       0.313680  \n",
       "pedigree        0.155382  1.000000  0.033561       0.173844  \n",
       "age             0.025841  0.033561  1.000000       0.238356  \n",
       "test_positive   0.313680  0.173844  0.238356       1.000000  "
      ]
     },
     "execution_count": 34,
     "metadata": {},
     "output_type": "execute_result"
    }
   ],
   "source": [
    "data.corr()"
   ]
  },
  {
   "cell_type": "markdown",
   "metadata": {},
   "source": [
    "### 3 -  High Correlations\n",
    "FieldName|Corr|Option\n",
    "---------|----|-----------\n",
    "insulin/glucose | .58 - Missing many insuline readings | Maybe do without\n",
    "skin_thinkness/bmi | .64 - Missing many skin_thinkness | Maybe do without\n",
    "\n"
   ]
  },
  {
   "cell_type": "markdown",
   "metadata": {},
   "source": [
    "### Look at the Positive Ratio over each feature to get a sense of which featurea may be important"
   ]
  },
  {
   "cell_type": "code",
   "execution_count": 35,
   "metadata": {
    "collapsed": false
   },
   "outputs": [
    {
     "data": {
      "image/png": "[encoded data removed]",
      "text/plain": [
       "<matplotlib.figure.Figure at 0x109292750>"
      ]
     },
     "metadata": {},
     "output_type": "display_data"
    }
   ],
   "source": [
    "# plot the positive test ratio for each feature\n",
    "fig = plt.figure(figsize=(15,15))\n",
    "for i, field in enumerate(features):\n",
    "    ax = plt.subplot(3,3,i+1)\n",
    "    plot_title = 'Test Positive ratio by ' + str(field)\n",
    "    high = data[field].max()\n",
    "    low = data[field].min()\n",
    "    step = (high-low)/10\n",
    "    grouped = data.groupby(pd.cut(data[field], np.arange(low, high, step), right=False))\n",
    "    positive_by_group = grouped.mean()\n",
    "    positive_by_group['test_positive'].plot.bar(ax=ax, title= plot_title);\n",
    "plt.tight_layout();"
   ]
  },
  {
   "cell_type": "markdown",
   "metadata": {},
   "source": [
    "### 3 - Observations from plots\n",
    "- Most features seem to have a positive correlation to testing positive. Several approch 100% at the high end\n",
    "- Glucose is almost a straight line.\n",
    "- Pedigree and Skin Thickness are pretty straight, but have a bin or two that don't fit.\n",
    "- Age seems to have a bell shape distribution."
   ]
  },
  {
   "cell_type": "markdown",
   "metadata": {},
   "source": [
    "## Decide what to do with Nan\n",
    "Possibilities\n",
    "#### Drop all records with missing data\n",
    "- Will lose 375 out of 768 records. almost 50%\n",
    "- Probably not a great idea. Not enough data to train and test from.\n",
    "\n",
    "#### Drop the fields with missing data\n",
    "- The two fields that are missing the most data are 'insulin' and 'skin_thick'. Both are correlated  with other features.\n",
    "- Dropping them may not effect accuracy and may reduce varience from too many correlated features. It would also spead up the testing and have fewer features to explain.\n",
    "\n",
    "#### Replace missing data with mean\n",
    "- Replacing with the mean values would allow us to keep all the features. May get more info out of them.\n",
    "- Both have a high Standard Deviation. Could add to the varience. "
   ]
  },
  {
   "cell_type": "markdown",
   "metadata": {},
   "source": [
    "# 3 - Decision - Observations \n",
    "#### Describe the missing/NULL values. Decide if you should impute or drop them and justify your choice."
   ]
  },
  {
   "cell_type": "markdown",
   "metadata": {},
   "source": [
    "### Decision \n",
    "Field|Observations|Decision\n",
    "-----|---------|--------\n",
    "glucose | only 5 records, glucose probably very important feature, so records missing this value may not help much. | Drop the 5 records\n",
    "bmi | 11 records, missing other fields, but have glucose. | Drop records.\n",
    "blood_pressure | 35 records - so would like to keep. Means with and without are similar | Replace with mean.\n",
    "skin_thick | 227 records - too many to drop, means similar, correlated 65% to bmi but not 'very' correlated. | Replace with mean\n",
    "insulin | The hard one. Missing 50% so would like to drop. Insulin is very related to diabetes so would like to keep. 58% correlated with glucose. | Decision - Drop the field.\n",
    "- But will run test with and without insulin field to check.\n",
    "\n",
    "#### I did run the models with several versions of the data\n",
    "- Dropping all records with missing data performed notiably worse.\n",
    "- Ran with insulin feature removed, again with it back in and then with 3 halo features.\n",
    "- Read further for results. Summary chart at bottem also."
   ]
  },
  {
   "cell_type": "code",
   "execution_count": 36,
   "metadata": {
    "collapsed": true
   },
   "outputs": [],
   "source": [
    "# save a copy of original data\n",
    "data_full = data.copy()\n",
    "# make a version with the insulin field imputed\n",
    "data_in = data.copy()   # use for alternative: keep insulin/thick and use mean values"
   ]
  },
  {
   "cell_type": "markdown",
   "metadata": {},
   "source": [
    "### Replace the missing skin_thick and blood_pressure features with the mean value"
   ]
  },
  {
   "cell_type": "code",
   "execution_count": 37,
   "metadata": {
    "collapsed": false
   },
   "outputs": [
    {
     "name": "stdout",
     "output_type": "stream",
     "text": [
      "72.5876712329 29.1534195933\n"
     ]
    }
   ],
   "source": [
    "#bmi_mean = data.describe().loc['mean']['bmi']\n",
    "bp_mean = data.describe().loc['mean']['blood_pressure']\n",
    "thick_mean = data.describe().loc['mean']['skin_thick']\n",
    "#print bmi_mean, bp_mean, thick_mean\n",
    "print bp_mean, thick_mean"
   ]
  },
  {
   "cell_type": "code",
   "execution_count": 38,
   "metadata": {
    "collapsed": false
   },
   "outputs": [
    {
     "data": {
      "text/html": [
       "<div>\n",
       "<table border=\"1\" class=\"dataframe\">\n",
       "  <thead>\n",
       "    <tr style=\"text-align: right;\">\n",
       "      <th></th>\n",
       "      <th>n_pregnant</th>\n",
       "      <th>glucose</th>\n",
       "      <th>blood_pressure</th>\n",
       "      <th>skin_thick</th>\n",
       "      <th>insulin</th>\n",
       "      <th>bmi</th>\n",
       "      <th>pedigree</th>\n",
       "      <th>age</th>\n",
       "      <th>test_positive</th>\n",
       "    </tr>\n",
       "  </thead>\n",
       "  <tbody>\n",
       "    <tr>\n",
       "      <th>0</th>\n",
       "      <td>6</td>\n",
       "      <td>148</td>\n",
       "      <td>72</td>\n",
       "      <td>35.00000</td>\n",
       "      <td>NaN</td>\n",
       "      <td>33.6</td>\n",
       "      <td>0.627</td>\n",
       "      <td>50</td>\n",
       "      <td>1</td>\n",
       "    </tr>\n",
       "    <tr>\n",
       "      <th>1</th>\n",
       "      <td>1</td>\n",
       "      <td>85</td>\n",
       "      <td>66</td>\n",
       "      <td>29.00000</td>\n",
       "      <td>NaN</td>\n",
       "      <td>26.6</td>\n",
       "      <td>0.351</td>\n",
       "      <td>31</td>\n",
       "      <td>0</td>\n",
       "    </tr>\n",
       "    <tr>\n",
       "      <th>2</th>\n",
       "      <td>8</td>\n",
       "      <td>183</td>\n",
       "      <td>64</td>\n",
       "      <td>29.15342</td>\n",
       "      <td>NaN</td>\n",
       "      <td>23.3</td>\n",
       "      <td>0.672</td>\n",
       "      <td>32</td>\n",
       "      <td>1</td>\n",
       "    </tr>\n",
       "  </tbody>\n",
       "</table>\n",
       "</div>"
      ],
      "text/plain": [
       "   n_pregnant  glucose  blood_pressure  skin_thick  insulin   bmi  pedigree  \\\n",
       "0           6      148              72    35.00000      NaN  33.6     0.627   \n",
       "1           1       85              66    29.00000      NaN  26.6     0.351   \n",
       "2           8      183              64    29.15342      NaN  23.3     0.672   \n",
       "\n",
       "   age  test_positive  \n",
       "0   50              1  \n",
       "1   31              0  \n",
       "2   32              1  "
      ]
     },
     "execution_count": 38,
     "metadata": {},
     "output_type": "execute_result"
    }
   ],
   "source": [
    "data.loc[:,'blood_pressure'] = data['blood_pressure'].where(pd.notnull(data['blood_pressure']),bp_mean)\n",
    "data.loc[:,'skin_thick'] = data['skin_thick'].where(pd.notnull(data['skin_thick']),thick_mean)\n",
    "data.head(3)"
   ]
  },
  {
   "cell_type": "markdown",
   "metadata": {},
   "source": [
    "### Make a version with the insulin field imputed for comparative test\n",
    "\n",
    "\n"
   ]
  },
  {
   "cell_type": "code",
   "execution_count": 39,
   "metadata": {
    "collapsed": false
   },
   "outputs": [
    {
     "data": {
      "text/html": [
       "<div>\n",
       "<table border=\"1\" class=\"dataframe\">\n",
       "  <thead>\n",
       "    <tr style=\"text-align: right;\">\n",
       "      <th></th>\n",
       "      <th>n_pregnant</th>\n",
       "      <th>glucose</th>\n",
       "      <th>blood_pressure</th>\n",
       "      <th>skin_thick</th>\n",
       "      <th>insulin</th>\n",
       "      <th>bmi</th>\n",
       "      <th>pedigree</th>\n",
       "      <th>age</th>\n",
       "      <th>test_positive</th>\n",
       "    </tr>\n",
       "  </thead>\n",
       "  <tbody>\n",
       "    <tr>\n",
       "      <th>0</th>\n",
       "      <td>6</td>\n",
       "      <td>148</td>\n",
       "      <td>72</td>\n",
       "      <td>35.00000</td>\n",
       "      <td>155.548223</td>\n",
       "      <td>33.6</td>\n",
       "      <td>0.627</td>\n",
       "      <td>50</td>\n",
       "      <td>1</td>\n",
       "    </tr>\n",
       "    <tr>\n",
       "      <th>1</th>\n",
       "      <td>1</td>\n",
       "      <td>85</td>\n",
       "      <td>66</td>\n",
       "      <td>29.00000</td>\n",
       "      <td>155.548223</td>\n",
       "      <td>26.6</td>\n",
       "      <td>0.351</td>\n",
       "      <td>31</td>\n",
       "      <td>0</td>\n",
       "    </tr>\n",
       "    <tr>\n",
       "      <th>2</th>\n",
       "      <td>8</td>\n",
       "      <td>183</td>\n",
       "      <td>64</td>\n",
       "      <td>29.15342</td>\n",
       "      <td>155.548223</td>\n",
       "      <td>23.3</td>\n",
       "      <td>0.672</td>\n",
       "      <td>32</td>\n",
       "      <td>1</td>\n",
       "    </tr>\n",
       "  </tbody>\n",
       "</table>\n",
       "</div>"
      ],
      "text/plain": [
       "   n_pregnant  glucose  blood_pressure  skin_thick     insulin   bmi  \\\n",
       "0           6      148              72    35.00000  155.548223  33.6   \n",
       "1           1       85              66    29.00000  155.548223  26.6   \n",
       "2           8      183              64    29.15342  155.548223  23.3   \n",
       "\n",
       "   pedigree  age  test_positive  \n",
       "0     0.627   50              1  \n",
       "1     0.351   31              0  \n",
       "2     0.672   32              1  "
      ]
     },
     "execution_count": 39,
     "metadata": {},
     "output_type": "execute_result"
    }
   ],
   "source": [
    "data_in = data.copy()   # use for alternative: keep insulin/thick and use mean values\n",
    "insulin_mean = data_in.describe().loc['mean']['insulin']\n",
    "data_in.loc[:,'insulin'] = data_in['insulin'].where(pd.notnull(data_in['insulin']),insulin_mean)\n",
    "data_in.head(3)\n"
   ]
  },
  {
   "cell_type": "markdown",
   "metadata": {},
   "source": [
    "### Drop the insulin feature for initial run"
   ]
  },
  {
   "cell_type": "code",
   "execution_count": 40,
   "metadata": {
    "collapsed": false
   },
   "outputs": [
    {
     "name": "stdout",
     "output_type": "stream",
     "text": [
      "<class 'pandas.core.frame.DataFrame'>\n",
      "Int64Index: 768 entries, 0 to 767\n",
      "Data columns (total 8 columns):\n",
      "n_pregnant        768 non-null int64\n",
      "glucose           763 non-null float64\n",
      "blood_pressure    768 non-null float64\n",
      "skin_thick        768 non-null float64\n",
      "bmi               757 non-null float64\n",
      "pedigree          768 non-null float64\n",
      "age               768 non-null int64\n",
      "test_positive     768 non-null int64\n",
      "dtypes: float64(5), int64(3)\n",
      "memory usage: 54.0 KB\n"
     ]
    }
   ],
   "source": [
    "data = data.drop(['insulin'], axis=1)\n",
    "features = ['n_pregnant', 'glucose', 'blood_pressure', 'skin_thick', 'bmi', 'pedigree', 'age']\n",
    "data.info()"
   ]
  },
  {
   "cell_type": "markdown",
   "metadata": {},
   "source": [
    "### Drop Nan - the few missing glucose records"
   ]
  },
  {
   "cell_type": "code",
   "execution_count": 41,
   "metadata": {
    "collapsed": false
   },
   "outputs": [
    {
     "name": "stdout",
     "output_type": "stream",
     "text": [
      "<class 'pandas.core.frame.DataFrame'>\n",
      "Int64Index: 752 entries, 0 to 767\n",
      "Data columns (total 8 columns):\n",
      "n_pregnant        752 non-null int64\n",
      "glucose           752 non-null float64\n",
      "blood_pressure    752 non-null float64\n",
      "skin_thick        752 non-null float64\n",
      "bmi               752 non-null float64\n",
      "pedigree          752 non-null float64\n",
      "age               752 non-null int64\n",
      "test_positive     752 non-null int64\n",
      "dtypes: float64(5), int64(3)\n",
      "memory usage: 52.9 KB\n"
     ]
    }
   ],
   "source": [
    "data = data.dropna()\n",
    "data_in = data_in.dropna()\n",
    "data.info()"
   ]
  },
  {
   "cell_type": "markdown",
   "metadata": {},
   "source": [
    "# 4 - Come up with a benchmark for the minimum performance that an algorithm should have on this dataset\n",
    "\n"
   ]
  },
  {
   "cell_type": "markdown",
   "metadata": {},
   "source": [
    "## Look at the diabetes Ratio"
   ]
  },
  {
   "cell_type": "code",
   "execution_count": 42,
   "metadata": {
    "collapsed": false
   },
   "outputs": [
    {
     "data": {
      "image/png": "[encoded data removed]",
      "text/plain": [
       "<matplotlib.figure.Figure at 0x109284c50>"
      ]
     },
     "metadata": {},
     "output_type": "display_data"
    }
   ],
   "source": [
    "positive_count = data['test_positive'].value_counts()\n",
    "positive_count.plot(kind='pie', labels=['Tested Negative','Tested Positive'],\n",
    "                   colors=['y','crimson'], fontsize=f_size, autopct='%.2f',\n",
    "                   title=' Diabetes Test Result Ratio');"
   ]
  },
  {
   "cell_type": "markdown",
   "metadata": {},
   "source": [
    "## 4 - Observation\n",
    "- Test Accuracy must be better than the 65% we could get from assuming everyone was negative.\n",
    "- We are concerned with minimizing the False Negatives. (Missing that someone has diabetes). So we will use 'recall' as our scoring method.\n"
   ]
  },
  {
   "cell_type": "code",
   "execution_count": 43,
   "metadata": {
    "collapsed": true
   },
   "outputs": [],
   "source": [
    "scoring = 'recall'\n",
    "#scoring = 'precision'\n",
    "#scoring = 'f1'"
   ]
  },
  {
   "cell_type": "markdown",
   "metadata": {},
   "source": [
    "### Scoring observations\n",
    "- Also ran initial data through with precision and f1 scoring. \n",
    "- Highest score achieved was .76 for logreg tuned to precision. Was 11% higher than logreg for recall\n",
    "- will run again with final model for comparesion"
   ]
  },
  {
   "cell_type": "markdown",
   "metadata": {},
   "source": [
    "## 4.5 Prepare the data\n"
   ]
  },
  {
   "cell_type": "markdown",
   "metadata": {},
   "source": [
    "### Add Halo Features\n",
    "- will make a seperate data set with engineered features.\n",
    "- After initial runs of Random Forest observed the highest Importance Score were glucose, bmi, and age.\n",
    "- since they are one from each of my original feature catagories (diabetes, physical condition, aging) I created new features for all 3 combinations."
   ]
  },
  {
   "cell_type": "code",
   "execution_count": 44,
   "metadata": {
    "collapsed": true
   },
   "outputs": [],
   "source": [
    "# begin with the data that has the means added in\n",
    "#data_h = data.copy() # no insulin\n",
    "\n",
    "# use data with insulin feature \n",
    "data_h = data_in.copy()"
   ]
  },
  {
   "cell_type": "code",
   "execution_count": 45,
   "metadata": {
    "collapsed": true
   },
   "outputs": [],
   "source": [
    "data_h['age_bmi'] = data_h.age * data_h.bmi\n",
    "data_h['glu_age'] = data_h.age * data_h.glucose\n",
    "data_h['glu_bmi'] = data_h.bmi * data_h.glucose"
   ]
  },
  {
   "cell_type": "code",
   "execution_count": 46,
   "metadata": {
    "collapsed": false
   },
   "outputs": [
    {
     "data": {
      "text/html": [
       "<div>\n",
       "<table border=\"1\" class=\"dataframe\">\n",
       "  <thead>\n",
       "    <tr style=\"text-align: right;\">\n",
       "      <th></th>\n",
       "      <th>n_pregnant</th>\n",
       "      <th>glucose</th>\n",
       "      <th>blood_pressure</th>\n",
       "      <th>skin_thick</th>\n",
       "      <th>insulin</th>\n",
       "      <th>bmi</th>\n",
       "      <th>pedigree</th>\n",
       "      <th>age</th>\n",
       "      <th>test_positive</th>\n",
       "      <th>age_bmi</th>\n",
       "      <th>glu_age</th>\n",
       "      <th>glu_bmi</th>\n",
       "    </tr>\n",
       "  </thead>\n",
       "  <tbody>\n",
       "    <tr>\n",
       "      <th>count</th>\n",
       "      <td>752.000000</td>\n",
       "      <td>752.000000</td>\n",
       "      <td>752.000000</td>\n",
       "      <td>752.000000</td>\n",
       "      <td>752.000000</td>\n",
       "      <td>752.000000</td>\n",
       "      <td>752.000000</td>\n",
       "      <td>752.000000</td>\n",
       "      <td>752.000000</td>\n",
       "      <td>752.000000</td>\n",
       "      <td>752.000000</td>\n",
       "      <td>752.000000</td>\n",
       "    </tr>\n",
       "    <tr>\n",
       "      <th>mean</th>\n",
       "      <td>3.851064</td>\n",
       "      <td>121.941489</td>\n",
       "      <td>72.585396</td>\n",
       "      <td>29.166816</td>\n",
       "      <td>155.812979</td>\n",
       "      <td>32.454654</td>\n",
       "      <td>0.473051</td>\n",
       "      <td>33.312500</td>\n",
       "      <td>0.351064</td>\n",
       "      <td>1082.939894</td>\n",
       "      <td>4155.748670</td>\n",
       "      <td>4006.858378</td>\n",
       "    </tr>\n",
       "    <tr>\n",
       "      <th>std</th>\n",
       "      <td>3.375189</td>\n",
       "      <td>30.601198</td>\n",
       "      <td>11.815549</td>\n",
       "      <td>8.852107</td>\n",
       "      <td>85.750988</td>\n",
       "      <td>6.928926</td>\n",
       "      <td>0.330108</td>\n",
       "      <td>11.709395</td>\n",
       "      <td>0.477621</td>\n",
       "      <td>436.547289</td>\n",
       "      <td>2078.847246</td>\n",
       "      <td>1480.170183</td>\n",
       "    </tr>\n",
       "    <tr>\n",
       "      <th>min</th>\n",
       "      <td>0.000000</td>\n",
       "      <td>44.000000</td>\n",
       "      <td>38.000000</td>\n",
       "      <td>7.000000</td>\n",
       "      <td>14.000000</td>\n",
       "      <td>18.200000</td>\n",
       "      <td>0.078000</td>\n",
       "      <td>21.000000</td>\n",
       "      <td>0.000000</td>\n",
       "      <td>382.200000</td>\n",
       "      <td>1232.000000</td>\n",
       "      <td>1100.000000</td>\n",
       "    </tr>\n",
       "    <tr>\n",
       "      <th>25%</th>\n",
       "      <td>1.000000</td>\n",
       "      <td>99.750000</td>\n",
       "      <td>64.000000</td>\n",
       "      <td>25.000000</td>\n",
       "      <td>120.000000</td>\n",
       "      <td>27.500000</td>\n",
       "      <td>0.244000</td>\n",
       "      <td>24.000000</td>\n",
       "      <td>0.000000</td>\n",
       "      <td>751.275000</td>\n",
       "      <td>2626.000000</td>\n",
       "      <td>2924.100000</td>\n",
       "    </tr>\n",
       "    <tr>\n",
       "      <th>50%</th>\n",
       "      <td>3.000000</td>\n",
       "      <td>117.000000</td>\n",
       "      <td>72.000000</td>\n",
       "      <td>29.153420</td>\n",
       "      <td>155.548223</td>\n",
       "      <td>32.300000</td>\n",
       "      <td>0.377000</td>\n",
       "      <td>29.000000</td>\n",
       "      <td>0.000000</td>\n",
       "      <td>993.800000</td>\n",
       "      <td>3510.000000</td>\n",
       "      <td>3773.450000</td>\n",
       "    </tr>\n",
       "    <tr>\n",
       "      <th>75%</th>\n",
       "      <td>6.000000</td>\n",
       "      <td>141.000000</td>\n",
       "      <td>80.000000</td>\n",
       "      <td>32.000000</td>\n",
       "      <td>155.548223</td>\n",
       "      <td>36.600000</td>\n",
       "      <td>0.627500</td>\n",
       "      <td>41.000000</td>\n",
       "      <td>1.000000</td>\n",
       "      <td>1357.200000</td>\n",
       "      <td>5200.000000</td>\n",
       "      <td>4841.775000</td>\n",
       "    </tr>\n",
       "    <tr>\n",
       "      <th>max</th>\n",
       "      <td>17.000000</td>\n",
       "      <td>199.000000</td>\n",
       "      <td>122.000000</td>\n",
       "      <td>99.000000</td>\n",
       "      <td>846.000000</td>\n",
       "      <td>67.100000</td>\n",
       "      <td>2.420000</td>\n",
       "      <td>81.000000</td>\n",
       "      <td>1.000000</td>\n",
       "      <td>2697.000000</td>\n",
       "      <td>12998.000000</td>\n",
       "      <td>10692.000000</td>\n",
       "    </tr>\n",
       "  </tbody>\n",
       "</table>\n",
       "</div>"
      ],
      "text/plain": [
       "       n_pregnant     glucose  blood_pressure  skin_thick     insulin  \\\n",
       "count  752.000000  752.000000      752.000000  752.000000  752.000000   \n",
       "mean     3.851064  121.941489       72.585396   29.166816  155.812979   \n",
       "std      3.375189   30.601198       11.815549    8.852107   85.750988   \n",
       "min      0.000000   44.000000       38.000000    7.000000   14.000000   \n",
       "25%      1.000000   99.750000       64.000000   25.000000  120.000000   \n",
       "50%      3.000000  117.000000       72.000000   29.153420  155.548223   \n",
       "75%      6.000000  141.000000       80.000000   32.000000  155.548223   \n",
       "max     17.000000  199.000000      122.000000   99.000000  846.000000   \n",
       "\n",
       "              bmi    pedigree         age  test_positive      age_bmi  \\\n",
       "count  752.000000  752.000000  752.000000     752.000000   752.000000   \n",
       "mean    32.454654    0.473051   33.312500       0.351064  1082.939894   \n",
       "std      6.928926    0.330108   11.709395       0.477621   436.547289   \n",
       "min     18.200000    0.078000   21.000000       0.000000   382.200000   \n",
       "25%     27.500000    0.244000   24.000000       0.000000   751.275000   \n",
       "50%     32.300000    0.377000   29.000000       0.000000   993.800000   \n",
       "75%     36.600000    0.627500   41.000000       1.000000  1357.200000   \n",
       "max     67.100000    2.420000   81.000000       1.000000  2697.000000   \n",
       "\n",
       "            glu_age       glu_bmi  \n",
       "count    752.000000    752.000000  \n",
       "mean    4155.748670   4006.858378  \n",
       "std     2078.847246   1480.170183  \n",
       "min     1232.000000   1100.000000  \n",
       "25%     2626.000000   2924.100000  \n",
       "50%     3510.000000   3773.450000  \n",
       "75%     5200.000000   4841.775000  \n",
       "max    12998.000000  10692.000000  "
      ]
     },
     "execution_count": 46,
     "metadata": {},
     "output_type": "execute_result"
    }
   ],
   "source": [
    "data_h.describe()"
   ]
  },
  {
   "cell_type": "markdown",
   "metadata": {},
   "source": [
    "### Write final clean data to file to be used in future"
   ]
  },
  {
   "cell_type": "code",
   "execution_count": 47,
   "metadata": {
    "collapsed": true
   },
   "outputs": [],
   "source": [
    "data_h.to_csv('pima_data_clean.csv', index=False)\n"
   ]
  },
  {
   "cell_type": "markdown",
   "metadata": {},
   "source": [
    "### Break up data into training and test data"
   ]
  },
  {
   "cell_type": "code",
   "execution_count": 48,
   "metadata": {
    "collapsed": false
   },
   "outputs": [],
   "source": [
    "# Uncomment the data file to be run through the models\n",
    "\n",
    "# The regular data (insulin dropped)\n",
    "#data_y = data['test_positive']\n",
    "#data_X = data.drop('test_positive', axis=1)\n",
    "\n",
    "# Use data with insulin\n",
    "#data_y = data_in['test_positive']\n",
    "#data_X = data_in.drop('test_positive', axis=1)\n",
    "\n",
    "# Use halo features\n",
    "data_y = data_h['test_positive']\n",
    "data_X = data_h.drop('test_positive', axis=1)"
   ]
  },
  {
   "cell_type": "code",
   "execution_count": 49,
   "metadata": {
    "collapsed": false
   },
   "outputs": [
    {
     "data": {
      "text/html": [
       "<div>\n",
       "<table border=\"1\" class=\"dataframe\">\n",
       "  <thead>\n",
       "    <tr style=\"text-align: right;\">\n",
       "      <th></th>\n",
       "      <th>n_pregnant</th>\n",
       "      <th>glucose</th>\n",
       "      <th>blood_pressure</th>\n",
       "      <th>skin_thick</th>\n",
       "      <th>insulin</th>\n",
       "      <th>bmi</th>\n",
       "      <th>pedigree</th>\n",
       "      <th>age</th>\n",
       "      <th>age_bmi</th>\n",
       "      <th>glu_age</th>\n",
       "      <th>glu_bmi</th>\n",
       "    </tr>\n",
       "  </thead>\n",
       "  <tbody>\n",
       "    <tr>\n",
       "      <th>0</th>\n",
       "      <td>6</td>\n",
       "      <td>148</td>\n",
       "      <td>72</td>\n",
       "      <td>35</td>\n",
       "      <td>155.548223</td>\n",
       "      <td>33.6</td>\n",
       "      <td>0.627</td>\n",
       "      <td>50</td>\n",
       "      <td>1680.0</td>\n",
       "      <td>7400</td>\n",
       "      <td>4972.8</td>\n",
       "    </tr>\n",
       "    <tr>\n",
       "      <th>1</th>\n",
       "      <td>1</td>\n",
       "      <td>85</td>\n",
       "      <td>66</td>\n",
       "      <td>29</td>\n",
       "      <td>155.548223</td>\n",
       "      <td>26.6</td>\n",
       "      <td>0.351</td>\n",
       "      <td>31</td>\n",
       "      <td>824.6</td>\n",
       "      <td>2635</td>\n",
       "      <td>2261.0</td>\n",
       "    </tr>\n",
       "  </tbody>\n",
       "</table>\n",
       "</div>"
      ],
      "text/plain": [
       "   n_pregnant  glucose  blood_pressure  skin_thick     insulin   bmi  \\\n",
       "0           6      148              72          35  155.548223  33.6   \n",
       "1           1       85              66          29  155.548223  26.6   \n",
       "\n",
       "   pedigree  age  age_bmi  glu_age  glu_bmi  \n",
       "0     0.627   50   1680.0     7400   4972.8  \n",
       "1     0.351   31    824.6     2635   2261.0  "
      ]
     },
     "execution_count": 49,
     "metadata": {},
     "output_type": "execute_result"
    }
   ],
   "source": [
    "data_X.head(2)"
   ]
  },
  {
   "cell_type": "code",
   "execution_count": 50,
   "metadata": {
    "collapsed": false
   },
   "outputs": [
    {
     "data": {
      "text/plain": [
       "0    1\n",
       "1    0\n",
       "Name: test_positive, dtype: int64"
      ]
     },
     "execution_count": 50,
     "metadata": {},
     "output_type": "execute_result"
    }
   ],
   "source": [
    "data_y.head(2)"
   ]
  },
  {
   "cell_type": "code",
   "execution_count": 51,
   "metadata": {
    "collapsed": false
   },
   "outputs": [],
   "source": [
    "X_train, X_test, y_train, y_test = train_test_split(data_X, data_y, \n",
    "                                                    test_size=0.2, random_state=7)"
   ]
  },
  {
   "cell_type": "code",
   "execution_count": 52,
   "metadata": {
    "collapsed": false
   },
   "outputs": [],
   "source": [
    "# 10 cross validation iterations with 20% test / 80% train\n",
    "cv = ShuffleSplit(X_train.shape[0], n_iter=10, test_size=0.2, random_state=0)"
   ]
  },
  {
   "cell_type": "markdown",
   "metadata": {},
   "source": [
    "### Standardize data"
   ]
  },
  {
   "cell_type": "code",
   "execution_count": 53,
   "metadata": {
    "collapsed": false
   },
   "outputs": [],
   "source": [
    "# standardization: bring all of our features onto the same scale\n",
    "stdsc = StandardScaler()\n",
    "# transform our training features\n",
    "X_train_std = stdsc.fit_transform(X_train)\n",
    "# transform the testing features in the same way\n",
    "X_test_std = stdsc.transform(X_test)"
   ]
  },
  {
   "cell_type": "markdown",
   "metadata": {},
   "source": [
    "## Dummy Classifier"
   ]
  },
  {
   "cell_type": "code",
   "execution_count": 54,
   "metadata": {
    "collapsed": false
   },
   "outputs": [
    {
     "name": "stdout",
     "output_type": "stream",
     "text": [
      "CV Recall [ 0.23076923  0.44186047  0.34146341  0.4         0.52631579  0.41463415\n",
      "  0.48387097  0.45652174  0.21568627  0.375     ], Average Recall0.388612202772\n"
     ]
    }
   ],
   "source": [
    "dummy_model = DummyClassifier()\n",
    "dummy_model.fit(X_train_std, y_train)\n",
    "scores = cross_val_score(dummy_model, X_train_std, y_train, scoring=scoring, cv=cv)\n",
    "print('CV Recall {}, Average Recall{}'.format(scores, scores.mean()))"
   ]
  },
  {
   "cell_type": "code",
   "execution_count": 55,
   "metadata": {
    "collapsed": true
   },
   "outputs": [],
   "source": [
    "# class predictions (not predicted probabilities)\n",
    "y_pred_class = dummy_model.predict(X_test_std)"
   ]
  },
  {
   "cell_type": "code",
   "execution_count": 56,
   "metadata": {
    "collapsed": false
   },
   "outputs": [
    {
     "data": {
      "text/plain": [
       "0.25862068965517243"
      ]
     },
     "execution_count": 56,
     "metadata": {},
     "output_type": "execute_result"
    }
   ],
   "source": [
    "recall_score = recall_score(y_test, y_pred_class)\n",
    "recall_score"
   ]
  },
  {
   "cell_type": "code",
   "execution_count": 57,
   "metadata": {
    "collapsed": false
   },
   "outputs": [
    {
     "data": {
      "text/plain": [
       "0.57615894039735094"
      ]
     },
     "execution_count": 57,
     "metadata": {},
     "output_type": "execute_result"
    }
   ],
   "source": [
    "acc_score = dummy_model.score(X_test_std, y_test)\n",
    "acc_score"
   ]
  },
  {
   "cell_type": "code",
   "execution_count": 58,
   "metadata": {
    "collapsed": false
   },
   "outputs": [
    {
     "data": {
      "text/plain": [
       "0.27777777777777779"
      ]
     },
     "execution_count": 58,
     "metadata": {},
     "output_type": "execute_result"
    }
   ],
   "source": [
    "precision_score = metrics.precision_score(y_test, y_pred_class)\n",
    "precision_score"
   ]
  },
  {
   "cell_type": "code",
   "execution_count": 59,
   "metadata": {
    "collapsed": false
   },
   "outputs": [
    {
     "data": {
      "text/plain": [
       "0.26785714285714285"
      ]
     },
     "execution_count": 59,
     "metadata": {},
     "output_type": "execute_result"
    }
   ],
   "source": [
    "f1_score = metrics.f1_score(y_test, y_pred_class)\n",
    "f1_score"
   ]
  },
  {
   "cell_type": "code",
   "execution_count": 60,
   "metadata": {
    "collapsed": false
   },
   "outputs": [
    {
     "name": "stdout",
     "output_type": "stream",
     "text": [
      "The slowest run took 4.50 times longer than the fastest. This could mean that an intermediate result is being cached \n",
      "10000 loops, best of 3: 61.4 µs per loop\n",
      "<IPython.core.magics.execution.TimeitResult object at 0x108d97550>\n"
     ]
    }
   ],
   "source": [
    "# BEST knn time\n",
    "time = %timeit -o dummy_model.predict(X_test_std)\n",
    "print time"
   ]
  },
  {
   "cell_type": "code",
   "execution_count": 61,
   "metadata": {
    "collapsed": false
   },
   "outputs": [],
   "source": [
    "results.loc['dummy','recall'] = recall_score\n",
    "results.loc['dummy','accuracy'] = acc_score\n",
    "results.loc['dummy','precision'] = precision_score\n",
    "results.loc['dummy','f1'] = f1_score\n",
    "results.loc['dummy','time'] = time.best * 1000000"
   ]
  },
  {
   "cell_type": "markdown",
   "metadata": {},
   "source": [
    "# 5 - What's the best performance you can get with kNN? Is kNN a good choice for this dataset?\n",
    "\n"
   ]
  },
  {
   "cell_type": "code",
   "execution_count": 62,
   "metadata": {
    "collapsed": false
   },
   "outputs": [],
   "source": [
    "# constructing classifier\n",
    "# initialize our kNN\n",
    "knn = KNeighborsClassifier()"
   ]
  },
  {
   "cell_type": "code",
   "execution_count": 63,
   "metadata": {
    "collapsed": false,
    "scrolled": true
   },
   "outputs": [
    {
     "data": {
      "text/plain": [
       "GridSearchCV(cv=ShuffleSplit(601, n_iter=10, test_size=0.2, random_state=0),\n",
       "       error_score='raise',\n",
       "       estimator=KNeighborsClassifier(algorithm='auto', leaf_size=30, metric='minkowski',\n",
       "           metric_params=None, n_neighbors=5, p=2, weights='uniform'),\n",
       "       fit_params={}, iid=True, loss_func=None, n_jobs=1,\n",
       "       param_grid={'n_neighbors': [1, 2, 3, 4, 5, 6, 7, 8, 9, 10, 11, 12, 13, 14, 15, 16, 17, 18, 19, 20, 21, 22, 23, 24, 25, 26, 27, 28, 29], 'weights': ['uniform', 'distance'], 'p': [1, 2, 3]},\n",
       "       pre_dispatch='2*n_jobs', refit=True, score_func=None,\n",
       "       scoring='recall', verbose=0)"
      ]
     },
     "execution_count": 63,
     "metadata": {},
     "output_type": "execute_result"
    }
   ],
   "source": [
    "# gridsearch for hyperparameters\n",
    "parameters = {'n_neighbors': range(1,30), 'weights': ['uniform', 'distance'],\n",
    "             'p': range(1,4)}\n",
    "clf = GridSearchCV(knn, parameters, cv=cv, scoring=scoring)\n",
    "clf.fit(X_train_std, y_train)"
   ]
  },
  {
   "cell_type": "code",
   "execution_count": 64,
   "metadata": {
    "collapsed": false
   },
   "outputs": [
    {
     "data": {
      "text/plain": [
       "{'n_neighbors': 4, 'p': 1, 'weights': 'distance'}"
      ]
     },
     "execution_count": 64,
     "metadata": {},
     "output_type": "execute_result"
    }
   ],
   "source": [
    "# get the best performing combo\n",
    "clf.best_params_"
   ]
  },
  {
   "cell_type": "code",
   "execution_count": 65,
   "metadata": {
    "collapsed": false
   },
   "outputs": [],
   "source": [
    "#clf.grid_scores_"
   ]
  },
  {
   "cell_type": "code",
   "execution_count": 66,
   "metadata": {
    "collapsed": false
   },
   "outputs": [
    {
     "name": "stdout",
     "output_type": "stream",
     "text": [
      "KNeighborsClassifier(algorithm='auto', leaf_size=30, metric='minkowski',\n",
      "           metric_params=None, n_neighbors=4, p=1, weights='distance')\n"
     ]
    }
   ],
   "source": [
    "# Set up our best estimator\n",
    "best_knn = clf.best_estimator_\n",
    "print best_knn"
   ]
  },
  {
   "cell_type": "code",
   "execution_count": 67,
   "metadata": {
    "collapsed": false
   },
   "outputs": [
    {
     "name": "stderr",
     "output_type": "stream",
     "text": [
      "/Users/jsmithson/anaconda/lib/python2.7/site-packages/matplotlib/collections.py:590: FutureWarning: elementwise comparison failed; returning scalar instead, but in the future will perform elementwise comparison\n",
      "  if self._edgecolors == str('face'):\n"
     ]
    },
    {
     "data": {
      "image/png": "[encoded data removed]",
      "text/plain": [
       "<matplotlib.figure.Figure at 0x10a056d50>"
      ]
     },
     "metadata": {},
     "output_type": "display_data"
    }
   ],
   "source": [
    "plot_learning_curve(best_knn, 'Learning Curve for kNN', X_train_std, y_train, \n",
    "                    scoring=scoring, cv=cv, ylim=(.3,1.05));\n",
    "\n"
   ]
  },
  {
   "cell_type": "code",
   "execution_count": 68,
   "metadata": {
    "collapsed": true
   },
   "outputs": [],
   "source": [
    "results.loc['knn','lc_com'] = 'slight varience, Traing up to 100%'"
   ]
  },
  {
   "cell_type": "code",
   "execution_count": 69,
   "metadata": {
    "collapsed": false
   },
   "outputs": [
    {
     "name": "stdout",
     "output_type": "stream",
     "text": [
      "CV score [ 0.61904762  0.66666667  0.47619048  0.47619048  0.57142857  0.47619048\n",
      "  0.65        0.75        0.6         0.7       ], Average score 0.598571428571\n"
     ]
    }
   ],
   "source": [
    "scores = cross_val_score(best_knn, X_train_std, y_train, cv=10, scoring=scoring)\n",
    "print('CV score {}, Average score {}'.format(scores, scores.mean()))"
   ]
  },
  {
   "cell_type": "code",
   "execution_count": 70,
   "metadata": {
    "collapsed": false
   },
   "outputs": [],
   "source": [
    "# class predictions (not predicted probabilities)\n",
    "y_pred_class = best_knn.predict(X_test_std)"
   ]
  },
  {
   "cell_type": "code",
   "execution_count": 71,
   "metadata": {
    "collapsed": false
   },
   "outputs": [
    {
     "data": {
      "text/plain": [
       "0.65517241379310343"
      ]
     },
     "execution_count": 71,
     "metadata": {},
     "output_type": "execute_result"
    }
   ],
   "source": [
    "# calculate classification recall score\n",
    "recall_score = metrics.recall_score(y_test, y_pred_class)\n",
    "recall_score"
   ]
  },
  {
   "cell_type": "code",
   "execution_count": 72,
   "metadata": {
    "collapsed": false
   },
   "outputs": [
    {
     "data": {
      "text/plain": [
       "0.6785714285714286"
      ]
     },
     "execution_count": 72,
     "metadata": {},
     "output_type": "execute_result"
    }
   ],
   "source": [
    "precision_score = metrics.precision_score(y_test, y_pred_class)\n",
    "precision_score"
   ]
  },
  {
   "cell_type": "code",
   "execution_count": 73,
   "metadata": {
    "collapsed": false
   },
   "outputs": [
    {
     "data": {
      "text/plain": [
       "0.66666666666666663"
      ]
     },
     "execution_count": 73,
     "metadata": {},
     "output_type": "execute_result"
    }
   ],
   "source": [
    "f1_score = metrics.f1_score(y_test, y_pred_class)\n",
    "f1_score"
   ]
  },
  {
   "cell_type": "code",
   "execution_count": 74,
   "metadata": {
    "collapsed": false
   },
   "outputs": [
    {
     "data": {
      "text/plain": [
       "0.7483443708609272"
      ]
     },
     "execution_count": 74,
     "metadata": {},
     "output_type": "execute_result"
    }
   ],
   "source": [
    "# So how accurate is our model\n",
    "acc_score = best_knn.score(X_test_std, y_test)\n",
    "acc_score"
   ]
  },
  {
   "cell_type": "code",
   "execution_count": 75,
   "metadata": {
    "collapsed": false
   },
   "outputs": [
    {
     "name": "stdout",
     "output_type": "stream",
     "text": [
      "100 loops, best of 3: 2.25 ms per loop\n",
      "<IPython.core.magics.execution.TimeitResult object at 0x108b8afd0>\n"
     ]
    }
   ],
   "source": [
    "# BEST knn time\n",
    "time = %timeit -o best_knn.predict(X_test_std)\n",
    "print time"
   ]
  },
  {
   "cell_type": "code",
   "execution_count": 76,
   "metadata": {
    "collapsed": false
   },
   "outputs": [],
   "source": [
    "results.loc['knn','recall'] = recall_score\n",
    "results.loc['knn','precision'] = precision_score\n",
    "results.loc['knn','f1'] = f1_score\n",
    "results.loc['knn','accuracy'] = acc_score\n",
    "results.loc['knn','time'] = time.best * 1000000"
   ]
  },
  {
   "cell_type": "markdown",
   "metadata": {},
   "source": [
    "# 5 - Observations - kNN\n",
    "What's the best performance you can get with kNN? Is kNN a good choice for this dataset?\n",
    "\n",
    "\n",
    "\n",
    "\n"
   ]
  },
  {
   "cell_type": "markdown",
   "metadata": {},
   "source": [
    "First run - removing insulin\n",
    "- recall .48\n",
    "- poor scores on train and test. High Bias\n",
    "- noticable variance\n",
    "\n",
    "Second run - imputing insulin\n",
    "- recall .60\n",
    "- better scores on train and test\n",
    "- less variance\n",
    "\n",
    "Third run - add 3 halo features\n",
    "- recall .655\n",
    "- even better scores on train and test\n",
    "- less variance\n",
    "\n",
    "Slow running time on all runs\n",
    "\n",
    "### See final observations below"
   ]
  },
  {
   "cell_type": "markdown",
   "metadata": {},
   "source": [
    "# 6 - What's the best performance you can get with Logistic Regression? Is LR a good choice for this dataset?\n",
    "\n",
    "\n",
    "\n"
   ]
  },
  {
   "cell_type": "code",
   "execution_count": 77,
   "metadata": {
    "collapsed": false
   },
   "outputs": [],
   "source": [
    "logreg = LogisticRegression()"
   ]
  },
  {
   "cell_type": "code",
   "execution_count": 80,
   "metadata": {
    "collapsed": false,
    "scrolled": true
   },
   "outputs": [
    {
     "data": {
      "text/plain": [
       "GridSearchCV(cv=ShuffleSplit(601, n_iter=10, test_size=0.2, random_state=0),\n",
       "       error_score='raise',\n",
       "       estimator=LogisticRegression(C=1.0, class_weight=None, dual=False, fit_intercept=True,\n",
       "          intercept_scaling=1, max_iter=100, multi_class='ovr',\n",
       "          penalty='l2', random_state=None, solver='liblinear', tol=0.0001,\n",
       "          verbose=0),\n",
       "       fit_params={}, iid=True, loss_func=None, n_jobs=1,\n",
       "       param_grid={'penalty': ['l1', 'l2'], 'C': array([ 0.01   ,  0.01211,  0.01421,  0.01632,  0.01842,  0.02053,\n",
       "        0.02263,  0.02474,  0.02684,  0.02895,  0.03105,  0.03316,\n",
       "        0.03526,  0.03737,  0.03947,  0.04158,  0.04368,  0.04579,\n",
       "        0.04789,  0.05   ])},\n",
       "       pre_dispatch='2*n_jobs', refit=True, score_func=None,\n",
       "       scoring='recall', verbose=0)"
      ]
     },
     "execution_count": 80,
     "metadata": {},
     "output_type": "execute_result"
    }
   ],
   "source": [
    "# Tune Parameters using Gridsearch\n",
    "parameters = {'C': np.linspace(0.01,.05,20), 'penalty': ['l1', 'l2']}\n",
    "#parameters = {'penalty': ['l1', 'l2']}\n",
    "clf = GridSearchCV(logreg, parameters, cv=cv, scoring=scoring)\n",
    "clf.fit(X_train_std, y_train)"
   ]
  },
  {
   "cell_type": "code",
   "execution_count": 81,
   "metadata": {
    "collapsed": false
   },
   "outputs": [
    {
     "data": {
      "text/plain": [
       "{'C': 0.01, 'penalty': 'l1'}"
      ]
     },
     "execution_count": 81,
     "metadata": {},
     "output_type": "execute_result"
    }
   ],
   "source": [
    "clf.best_params_"
   ]
  },
  {
   "cell_type": "code",
   "execution_count": 82,
   "metadata": {
    "collapsed": false
   },
   "outputs": [
    {
     "data": {
      "text/plain": [
       "[mean: 0.67620, std: 0.06742, params: {'penalty': 'l1', 'C': 0.01},\n",
       " mean: 0.57105, std: 0.08045, params: {'penalty': 'l2', 'C': 0.01},\n",
       " mean: 0.67390, std: 0.06429, params: {'penalty': 'l1', 'C': 0.012105263157894737},\n",
       " mean: 0.56438, std: 0.08002, params: {'penalty': 'l2', 'C': 0.012105263157894737},\n",
       " mean: 0.62522, std: 0.06521, params: {'penalty': 'l1', 'C': 0.014210526315789474},\n",
       " mean: 0.55962, std: 0.07675, params: {'penalty': 'l2', 'C': 0.014210526315789474},\n",
       " mean: 0.57756, std: 0.07784, params: {'penalty': 'l1', 'C': 0.016315789473684211},\n",
       " mean: 0.55479, std: 0.07244, params: {'penalty': 'l2', 'C': 0.016315789473684211},\n",
       " mean: 0.55557, std: 0.08282, params: {'penalty': 'l1', 'C': 0.018421052631578949},\n",
       " mean: 0.55247, std: 0.06963, params: {'penalty': 'l2', 'C': 0.018421052631578949},\n",
       " mean: 0.54373, std: 0.07934, params: {'penalty': 'l1', 'C': 0.020526315789473684},\n",
       " mean: 0.54983, std: 0.06907, params: {'penalty': 'l2', 'C': 0.020526315789473684},\n",
       " mean: 0.53557, std: 0.07913, params: {'penalty': 'l1', 'C': 0.022631578947368419},\n",
       " mean: 0.54983, std: 0.06907, params: {'penalty': 'l2', 'C': 0.022631578947368419},\n",
       " mean: 0.53234, std: 0.07787, params: {'penalty': 'l1', 'C': 0.024736842105263158},\n",
       " mean: 0.54024, std: 0.06504, params: {'penalty': 'l2', 'C': 0.024736842105263158},\n",
       " mean: 0.52381, std: 0.08056, params: {'penalty': 'l1', 'C': 0.026842105263157896},\n",
       " mean: 0.53774, std: 0.06509, params: {'penalty': 'l2', 'C': 0.026842105263157896},\n",
       " mean: 0.52631, std: 0.07938, params: {'penalty': 'l1', 'C': 0.028947368421052631},\n",
       " mean: 0.53774, std: 0.06509, params: {'penalty': 'l2', 'C': 0.028947368421052631},\n",
       " mean: 0.52387, std: 0.07789, params: {'penalty': 'l1', 'C': 0.031052631578947366},\n",
       " mean: 0.53774, std: 0.06509, params: {'penalty': 'l2', 'C': 0.031052631578947366},\n",
       " mean: 0.51642, std: 0.08591, params: {'penalty': 'l1', 'C': 0.033157894736842108},\n",
       " mean: 0.53530, std: 0.06645, params: {'penalty': 'l2', 'C': 0.033157894736842108},\n",
       " mean: 0.50940, std: 0.08775, params: {'penalty': 'l1', 'C': 0.035263157894736843},\n",
       " mean: 0.53530, std: 0.06645, params: {'penalty': 'l2', 'C': 0.035263157894736843},\n",
       " mean: 0.51690, std: 0.08098, params: {'penalty': 'l1', 'C': 0.037368421052631579},\n",
       " mean: 0.53043, std: 0.06795, params: {'penalty': 'l2', 'C': 0.037368421052631579},\n",
       " mean: 0.51244, std: 0.08015, params: {'penalty': 'l1', 'C': 0.039473684210526314},\n",
       " mean: 0.52593, std: 0.06847, params: {'penalty': 'l2', 'C': 0.039473684210526314},\n",
       " mean: 0.51244, std: 0.08015, params: {'penalty': 'l1', 'C': 0.041578947368421056},\n",
       " mean: 0.52593, std: 0.06847, params: {'penalty': 'l2', 'C': 0.041578947368421056},\n",
       " mean: 0.51011, std: 0.07912, params: {'penalty': 'l1', 'C': 0.043684210526315791},\n",
       " mean: 0.52375, std: 0.07094, params: {'penalty': 'l2', 'C': 0.043684210526315791},\n",
       " mean: 0.50761, std: 0.07901, params: {'penalty': 'l1', 'C': 0.045789473684210526},\n",
       " mean: 0.52125, std: 0.07129, params: {'penalty': 'l2', 'C': 0.045789473684210526},\n",
       " mean: 0.49951, std: 0.07573, params: {'penalty': 'l1', 'C': 0.047894736842105261},\n",
       " mean: 0.51881, std: 0.07279, params: {'penalty': 'l2', 'C': 0.047894736842105261},\n",
       " mean: 0.49701, std: 0.07608, params: {'penalty': 'l1', 'C': 0.050000000000000003},\n",
       " mean: 0.51903, std: 0.06834, params: {'penalty': 'l2', 'C': 0.050000000000000003}]"
      ]
     },
     "execution_count": 82,
     "metadata": {},
     "output_type": "execute_result"
    }
   ],
   "source": [
    "clf.grid_scores_"
   ]
  },
  {
   "cell_type": "code",
   "execution_count": 84,
   "metadata": {
    "collapsed": false
   },
   "outputs": [],
   "source": [
    "#best_logreg = clf.best_estimator_"
   ]
  },
  {
   "cell_type": "code",
   "execution_count": 85,
   "metadata": {
    "collapsed": true
   },
   "outputs": [],
   "source": [
    "best_logreg = LogisticRegression(C=.05, penalty='l1')"
   ]
  },
  {
   "cell_type": "code",
   "execution_count": 86,
   "metadata": {
    "collapsed": false
   },
   "outputs": [
    {
     "data": {
      "text/plain": [
       "LogisticRegression(C=0.05, class_weight=None, dual=False, fit_intercept=True,\n",
       "          intercept_scaling=1, max_iter=100, multi_class='ovr',\n",
       "          penalty='l1', random_state=None, solver='liblinear', tol=0.0001,\n",
       "          verbose=0)"
      ]
     },
     "execution_count": 86,
     "metadata": {},
     "output_type": "execute_result"
    }
   ],
   "source": [
    "# Run model with BEST Coefficients\n",
    "best_logreg.fit(X_train_std, y_train)"
   ]
  },
  {
   "cell_type": "code",
   "execution_count": 87,
   "metadata": {
    "collapsed": false
   },
   "outputs": [
    {
     "data": {
      "text/html": [
       "<div>\n",
       "<table border=\"1\" class=\"dataframe\">\n",
       "  <thead>\n",
       "    <tr style=\"text-align: right;\">\n",
       "      <th></th>\n",
       "      <th>coefficients</th>\n",
       "      <th>features</th>\n",
       "    </tr>\n",
       "  </thead>\n",
       "  <tbody>\n",
       "    <tr>\n",
       "      <th>0</th>\n",
       "      <td>0.195132</td>\n",
       "      <td>n_pregnant</td>\n",
       "    </tr>\n",
       "    <tr>\n",
       "      <th>1</th>\n",
       "      <td>0.374975</td>\n",
       "      <td>glucose</td>\n",
       "    </tr>\n",
       "    <tr>\n",
       "      <th>2</th>\n",
       "      <td>0.000000</td>\n",
       "      <td>blood_pressure</td>\n",
       "    </tr>\n",
       "    <tr>\n",
       "      <th>3</th>\n",
       "      <td>0.000000</td>\n",
       "      <td>skin_thick</td>\n",
       "    </tr>\n",
       "    <tr>\n",
       "      <th>4</th>\n",
       "      <td>0.000000</td>\n",
       "      <td>insulin</td>\n",
       "    </tr>\n",
       "    <tr>\n",
       "      <th>5</th>\n",
       "      <td>0.000000</td>\n",
       "      <td>bmi</td>\n",
       "    </tr>\n",
       "    <tr>\n",
       "      <th>6</th>\n",
       "      <td>0.083055</td>\n",
       "      <td>pedigree</td>\n",
       "    </tr>\n",
       "    <tr>\n",
       "      <th>7</th>\n",
       "      <td>0.000000</td>\n",
       "      <td>age</td>\n",
       "    </tr>\n",
       "    <tr>\n",
       "      <th>8</th>\n",
       "      <td>0.115696</td>\n",
       "      <td>age_bmi</td>\n",
       "    </tr>\n",
       "    <tr>\n",
       "      <th>9</th>\n",
       "      <td>0.000000</td>\n",
       "      <td>glu_age</td>\n",
       "    </tr>\n",
       "    <tr>\n",
       "      <th>10</th>\n",
       "      <td>0.653140</td>\n",
       "      <td>glu_bmi</td>\n",
       "    </tr>\n",
       "  </tbody>\n",
       "</table>\n",
       "</div>"
      ],
      "text/plain": [
       "    coefficients        features\n",
       "0       0.195132      n_pregnant\n",
       "1       0.374975         glucose\n",
       "2       0.000000  blood_pressure\n",
       "3       0.000000      skin_thick\n",
       "4       0.000000         insulin\n",
       "5       0.000000             bmi\n",
       "6       0.083055        pedigree\n",
       "7       0.000000             age\n",
       "8       0.115696         age_bmi\n",
       "9       0.000000         glu_age\n",
       "10      0.653140         glu_bmi"
      ]
     },
     "execution_count": 87,
     "metadata": {},
     "output_type": "execute_result"
    }
   ],
   "source": [
    "# coefficients close to 0 aren't very helpful\n",
    "pd.DataFrame({'features': X_test.columns, 'coefficients': best_logreg.coef_[0]})"
   ]
  },
  {
   "cell_type": "code",
   "execution_count": 88,
   "metadata": {
    "collapsed": false
   },
   "outputs": [
    {
     "data": {
      "image/png": "[encoded data removed]",
      "text/plain": [
       "<matplotlib.figure.Figure at 0x1089d4690>"
      ]
     },
     "metadata": {},
     "output_type": "display_data"
    }
   ],
   "source": [
    "plot_learning_curve(best_logreg, 'Learning Curve for logreg', X_train_std, y_train, cv=cv, scoring=scoring);"
   ]
  },
  {
   "cell_type": "code",
   "execution_count": 89,
   "metadata": {
    "collapsed": true
   },
   "outputs": [],
   "source": [
    "results.loc['logreg','lc_com'] = 'low variance. score ~65. 5% gap'"
   ]
  },
  {
   "cell_type": "code",
   "execution_count": 90,
   "metadata": {
    "collapsed": true
   },
   "outputs": [],
   "source": [
    "# class predictions (not predicted probabilities)\n",
    "y_pred_class = best_logreg.predict(X_test_std)"
   ]
  },
  {
   "cell_type": "code",
   "execution_count": 91,
   "metadata": {
    "collapsed": false
   },
   "outputs": [
    {
     "data": {
      "text/plain": [
       "0.60344827586206895"
      ]
     },
     "execution_count": 91,
     "metadata": {},
     "output_type": "execute_result"
    }
   ],
   "source": [
    "# calculate classification accuracy\n",
    "recall_score = metrics.recall_score(y_test, y_pred_class)\n",
    "recall_score"
   ]
  },
  {
   "cell_type": "code",
   "execution_count": 92,
   "metadata": {
    "collapsed": false
   },
   "outputs": [
    {
     "data": {
      "text/plain": [
       "0.79545454545454541"
      ]
     },
     "execution_count": 92,
     "metadata": {},
     "output_type": "execute_result"
    }
   ],
   "source": [
    "precision_score = metrics.precision_score(y_test, y_pred_class)\n",
    "precision_score"
   ]
  },
  {
   "cell_type": "code",
   "execution_count": 93,
   "metadata": {
    "collapsed": false
   },
   "outputs": [
    {
     "data": {
      "text/plain": [
       "0.68627450980392146"
      ]
     },
     "execution_count": 93,
     "metadata": {},
     "output_type": "execute_result"
    }
   ],
   "source": [
    "f1_score = metrics.f1_score(y_test, y_pred_class)\n",
    "f1_score"
   ]
  },
  {
   "cell_type": "code",
   "execution_count": 94,
   "metadata": {
    "collapsed": false
   },
   "outputs": [
    {
     "data": {
      "text/plain": [
       "0.78807947019867552"
      ]
     },
     "execution_count": 94,
     "metadata": {},
     "output_type": "execute_result"
    }
   ],
   "source": [
    "# So how accurate is our model?\n",
    "acc_score = best_logreg.score(X_test_std, y_test)\n",
    "acc_score"
   ]
  },
  {
   "cell_type": "code",
   "execution_count": 95,
   "metadata": {
    "collapsed": false
   },
   "outputs": [
    {
     "name": "stdout",
     "output_type": "stream",
     "text": [
      "The slowest run took 4.38 times longer than the fastest. This could mean that an intermediate result is being cached \n",
      "10000 loops, best of 3: 30.6 µs per loop\n"
     ]
    }
   ],
   "source": [
    "# BEST logreg time\n",
    "time = %timeit -o best_logreg.predict(X_test_std)"
   ]
  },
  {
   "cell_type": "code",
   "execution_count": 96,
   "metadata": {
    "collapsed": true
   },
   "outputs": [],
   "source": [
    "results.loc['logreg','recall'] = recall_score\n",
    "results.loc['logreg','precision'] = precision_score\n",
    "results.loc['logreg','f1'] = f1_score\n",
    "results.loc['logreg','accuracy'] = acc_score\n",
    "results.loc['logreg','time'] = time.best * 1000000"
   ]
  },
  {
   "cell_type": "markdown",
   "metadata": {},
   "source": [
    "# 6 - Observations - LogReg\n",
    "What's the best performance you can get with Logistic Regression? Is LR a good choice for this dataset?\n",
    "\n",
    "\n",
    "\n"
   ]
  },
  {
   "cell_type": "markdown",
   "metadata": {},
   "source": [
    "First run - removing insulin\n",
    "- recall .655\n",
    "- poor scores on train and test. High Bias\n",
    "- low variance\n",
    "\n",
    "Second run - imputing insulin\n",
    "- recall .655\n",
    "- similar performance\n",
    "\n",
    "Third run - add 3 halo features\n",
    "- recall .81\n",
    "- better scores on train and test\n",
    "- less variance\n",
    "\n",
    "Fast running time on all 3 runs\n",
    "\n",
    "### See final observations below"
   ]
  },
  {
   "cell_type": "markdown",
   "metadata": {},
   "source": [
    "# 7 - What's the best performance you can get with Naive Bayes? Is NB a good choice for this dataset?"
   ]
  },
  {
   "cell_type": "code",
   "execution_count": 131,
   "metadata": {
    "collapsed": false
   },
   "outputs": [],
   "source": [
    "#parameters = {'alpha': np.linspace(1e-4, 1, 10)}\n",
    "#nbayesM = MultinomialNB()\n",
    "#clf = GridSearchCV(nbayesM, parameters, cv=cv, scoring=scoring)\n",
    "#clf.fit(X_train, y_train)"
   ]
  },
  {
   "cell_type": "code",
   "execution_count": 132,
   "metadata": {
    "collapsed": false
   },
   "outputs": [],
   "source": [
    "# Gaussian Tune parms with grid search\n",
    "#  ????? parameters = {'alpha': np.linspace(1e-4, 1, 10)}\n",
    "nbayes = GaussianNB()\n",
    "#clf = GridSearchCV(nbayes, parameters, cv=cv)\n",
    "#clf.fit(X_train, y_train)"
   ]
  },
  {
   "cell_type": "code",
   "execution_count": 133,
   "metadata": {
    "collapsed": false
   },
   "outputs": [],
   "source": [
    "#clf.best_params_"
   ]
  },
  {
   "cell_type": "code",
   "execution_count": 134,
   "metadata": {
    "collapsed": true
   },
   "outputs": [],
   "source": [
    "#clf.best_score_"
   ]
  },
  {
   "cell_type": "code",
   "execution_count": 135,
   "metadata": {
    "collapsed": false
   },
   "outputs": [
    {
     "data": {
      "text/plain": [
       "GaussianNB()"
      ]
     },
     "execution_count": 135,
     "metadata": {},
     "output_type": "execute_result"
    }
   ],
   "source": [
    "# Get best Estimator\n",
    "#best_nb = clf.best_estimator_\n",
    "best_nb = nbayes\n",
    "best_nb.fit(X_train, y_train)"
   ]
  },
  {
   "cell_type": "code",
   "execution_count": 136,
   "metadata": {
    "collapsed": false
   },
   "outputs": [
    {
     "data": {
      "image/png": "[encoded data removed]",
      "text/plain": [
       "<matplotlib.figure.Figure at 0x10a533290>"
      ]
     },
     "metadata": {},
     "output_type": "display_data"
    }
   ],
   "source": [
    "# Look at Learning Curve\n",
    "plot_learning_curve(best_nb, 'Learning Curve for NB', X_train, y_train, cv=cv, scoring=scoring);"
   ]
  },
  {
   "cell_type": "code",
   "execution_count": 137,
   "metadata": {
    "collapsed": true
   },
   "outputs": [],
   "source": [
    "results.loc['nb','lc_com'] = 'low variance. score ~60. 5pt gap between train/test'"
   ]
  },
  {
   "cell_type": "code",
   "execution_count": 138,
   "metadata": {
    "collapsed": false
   },
   "outputs": [
    {
     "name": "stdout",
     "output_type": "stream",
     "text": [
      "CV score [ 0.66666667  0.58536585  0.6097561   0.53658537  0.70731707], Average score 0.621138211382\n"
     ]
    }
   ],
   "source": [
    "# Evaluate the decision tree using cross-validation; use recall as the evaluation metric.\n",
    "scores = cross_val_score(best_nb, X_train, y_train, scoring=scoring, cv=5)\n",
    "print('CV score {}, Average score {}'.format(scores, scores.mean()))"
   ]
  },
  {
   "cell_type": "code",
   "execution_count": 139,
   "metadata": {
    "collapsed": true
   },
   "outputs": [],
   "source": [
    "# class predictions \n",
    "y_pred_class = best_nb.predict(X_test)"
   ]
  },
  {
   "cell_type": "code",
   "execution_count": 140,
   "metadata": {
    "collapsed": false
   },
   "outputs": [
    {
     "data": {
      "text/plain": [
       "0.72413793103448276"
      ]
     },
     "execution_count": 140,
     "metadata": {},
     "output_type": "execute_result"
    }
   ],
   "source": [
    "# calculate classification recall\n",
    "recall_score = metrics.recall_score(y_test, y_pred_class)\n",
    "recall_score"
   ]
  },
  {
   "cell_type": "code",
   "execution_count": 141,
   "metadata": {
    "collapsed": false
   },
   "outputs": [
    {
     "data": {
      "text/plain": [
       "0.66666666666666663"
      ]
     },
     "execution_count": 141,
     "metadata": {},
     "output_type": "execute_result"
    }
   ],
   "source": [
    "precision_score = metrics.precision_score(y_test, y_pred_class)\n",
    "precision_score"
   ]
  },
  {
   "cell_type": "code",
   "execution_count": 142,
   "metadata": {
    "collapsed": false
   },
   "outputs": [
    {
     "data": {
      "text/plain": [
       "0.69421487603305787"
      ]
     },
     "execution_count": 142,
     "metadata": {},
     "output_type": "execute_result"
    }
   ],
   "source": [
    "f1_score = metrics.f1_score(y_test, y_pred_class)\n",
    "f1_score"
   ]
  },
  {
   "cell_type": "code",
   "execution_count": 143,
   "metadata": {
    "collapsed": false
   },
   "outputs": [
    {
     "data": {
      "text/plain": [
       "0.75496688741721851"
      ]
     },
     "execution_count": 143,
     "metadata": {},
     "output_type": "execute_result"
    }
   ],
   "source": [
    "# Get accuracy score for Test Data\n",
    "acc_score = best_nb.score(X_test, y_test)\n",
    "acc_score"
   ]
  },
  {
   "cell_type": "code",
   "execution_count": 144,
   "metadata": {
    "collapsed": false
   },
   "outputs": [
    {
     "name": "stdout",
     "output_type": "stream",
     "text": [
      "10000 loops, best of 3: 150 µs per loop\n"
     ]
    }
   ],
   "source": [
    "# BEST nb time\n",
    "time = %timeit -o best_nb.predict(X_test)"
   ]
  },
  {
   "cell_type": "code",
   "execution_count": 145,
   "metadata": {
    "collapsed": true
   },
   "outputs": [],
   "source": [
    "results.loc['nb','recall'] = recall_score\n",
    "results.loc['nb','accuracy'] = acc_score\n",
    "results.loc['nb','precision'] = precision_score\n",
    "results.loc['nb','f1'] = f1_score\n",
    "results.loc['nb','time'] = time.best * 1000000"
   ]
  },
  {
   "cell_type": "markdown",
   "metadata": {},
   "source": [
    "# 7 - Observations - Naive Bayes\n",
    "What's the best performance you can get with Naive Bayes? Is NB a good choice for this dataset?"
   ]
  },
  {
   "cell_type": "markdown",
   "metadata": {},
   "source": [
    "First run - removing insulin\n",
    "- recall .60\n",
    "- poor scores on train and test. High Bias\n",
    "- low variance\n",
    "\n",
    "Second run - imputing insulin\n",
    "- recall .568\n",
    "- worse performance\n",
    "\n",
    "Third run - add 3 halo features\n",
    "- recall .72\n",
    "- better scores on train and test\n",
    "- low variance\n",
    "\n",
    "Fast running time on all 3 runs\n",
    "\n",
    "### See final observations below"
   ]
  },
  {
   "cell_type": "markdown",
   "metadata": {},
   "source": [
    "# 8 - What's the best performance you can get with Random Forest? Is RF a good choice for this dataset?\n",
    "\n",
    "\n",
    "\n"
   ]
  },
  {
   "cell_type": "code",
   "execution_count": 112,
   "metadata": {
    "collapsed": false
   },
   "outputs": [],
   "source": [
    "rf = RandomForestClassifier()\n"
   ]
  },
  {
   "cell_type": "code",
   "execution_count": 113,
   "metadata": {
    "collapsed": false
   },
   "outputs": [],
   "source": [
    "#for n_trees in range(1, 200, 10):\n",
    "#    model = RandomForestClassifier(n_estimators = n_trees)\n",
    "#    model.fit(X_train_std, y_train)\n",
    "#    scores = cross_val_score(model, X_train_std, y_train, scoring=scoring)\n",
    "#    print('n_trees {}, CV score {}, Average score {}'.format(n_trees, scores, scores.mean()))"
   ]
  },
  {
   "cell_type": "code",
   "execution_count": 114,
   "metadata": {
    "collapsed": false
   },
   "outputs": [
    {
     "data": {
      "text/plain": [
       "{'n_estimators': 191}"
      ]
     },
     "execution_count": 114,
     "metadata": {},
     "output_type": "execute_result"
    }
   ],
   "source": [
    "parameters = {'n_estimators': range(1, 200, 10)}\n",
    "clf = GridSearchCV(rf, parameters, cv=cv)\n",
    "clf.fit(X_train, y_train)\n",
    "clf.best_params_\n"
   ]
  },
  {
   "cell_type": "code",
   "execution_count": 115,
   "metadata": {
    "collapsed": false
   },
   "outputs": [],
   "source": [
    "best_rf = clf.best_estimator_"
   ]
  },
  {
   "cell_type": "code",
   "execution_count": 116,
   "metadata": {
    "collapsed": false
   },
   "outputs": [
    {
     "data": {
      "image/png": "[encoded data removed]",
      "text/plain": [
       "<matplotlib.figure.Figure at 0x108b8abd0>"
      ]
     },
     "metadata": {},
     "output_type": "display_data"
    }
   ],
   "source": [
    "# Look at Learning Curve\n",
    "plot_learning_curve(best_rf, 'Learning Curve for RF', X_train, y_train, cv=cv, \n",
    "                    ylim=(.3,1.05), scoring=scoring);"
   ]
  },
  {
   "cell_type": "code",
   "execution_count": 117,
   "metadata": {
    "collapsed": true
   },
   "outputs": [],
   "source": [
    "results.loc['rf','lc_com'] = 'very slight variance.'"
   ]
  },
  {
   "cell_type": "code",
   "execution_count": 118,
   "metadata": {
    "collapsed": false
   },
   "outputs": [
    {
     "name": "stdout",
     "output_type": "stream",
     "text": [
      "CV score [ 0.5952381   0.53658537  0.46341463  0.53658537  0.73170732], Average score 0.572706155633\n"
     ]
    }
   ],
   "source": [
    "# Evaluate the decision tree using cross-validation; use recall as the evaluation metric.\n",
    "scores = cross_val_score(best_rf, X_train, y_train, scoring=scoring, cv=5)\n",
    "print('CV score {}, Average score {}'.format(scores, scores.mean()))"
   ]
  },
  {
   "cell_type": "code",
   "execution_count": 119,
   "metadata": {
    "collapsed": true
   },
   "outputs": [],
   "source": [
    "# class predictions \n",
    "y_pred_class = best_rf.predict(X_test)"
   ]
  },
  {
   "cell_type": "code",
   "execution_count": 120,
   "metadata": {
    "collapsed": false
   },
   "outputs": [
    {
     "data": {
      "text/plain": [
       "0.60344827586206895"
      ]
     },
     "execution_count": 120,
     "metadata": {},
     "output_type": "execute_result"
    }
   ],
   "source": [
    "# calculate classification recall\n",
    "recall_score = metrics.recall_score(y_test, y_pred_class)\n",
    "recall_score"
   ]
  },
  {
   "cell_type": "code",
   "execution_count": 121,
   "metadata": {
    "collapsed": false
   },
   "outputs": [
    {
     "data": {
      "text/plain": [
       "0.72916666666666663"
      ]
     },
     "execution_count": 121,
     "metadata": {},
     "output_type": "execute_result"
    }
   ],
   "source": [
    "precision_score = metrics.precision_score(y_test, y_pred_class)\n",
    "precision_score"
   ]
  },
  {
   "cell_type": "code",
   "execution_count": 122,
   "metadata": {
    "collapsed": false
   },
   "outputs": [
    {
     "data": {
      "text/plain": [
       "0.66037735849056611"
      ]
     },
     "execution_count": 122,
     "metadata": {},
     "output_type": "execute_result"
    }
   ],
   "source": [
    "f1_score = metrics.f1_score(y_test, y_pred_class)\n",
    "f1_score"
   ]
  },
  {
   "cell_type": "code",
   "execution_count": 123,
   "metadata": {
    "collapsed": false
   },
   "outputs": [
    {
     "data": {
      "text/plain": [
       "0.76158940397350994"
      ]
     },
     "execution_count": 123,
     "metadata": {},
     "output_type": "execute_result"
    }
   ],
   "source": [
    "# Get accuracy score for Test Data\n",
    "acc_score = best_rf.score(X_test, y_test)\n",
    "acc_score"
   ]
  },
  {
   "cell_type": "code",
   "execution_count": 124,
   "metadata": {
    "collapsed": false
   },
   "outputs": [
    {
     "name": "stdout",
     "output_type": "stream",
     "text": [
      "100 loops, best of 3: 10.1 ms per loop\n"
     ]
    }
   ],
   "source": [
    "# BEST rf time\n",
    "time = %timeit -o best_rf.predict(X_test)"
   ]
  },
  {
   "cell_type": "code",
   "execution_count": 125,
   "metadata": {
    "collapsed": false
   },
   "outputs": [],
   "source": [
    "results.loc['rf','recall'] = recall_score\n",
    "results.loc['rf','accuracy'] = acc_score\n",
    "results.loc['rf','precision'] = precision_score\n",
    "results.loc['rf','f1'] = f1_score\n",
    "results.loc['rf','time'] = time.best * 1000000"
   ]
  },
  {
   "cell_type": "code",
   "execution_count": 126,
   "metadata": {
    "collapsed": false
   },
   "outputs": [
    {
     "data": {
      "text/html": [
       "<div>\n",
       "<table border=\"1\" class=\"dataframe\">\n",
       "  <thead>\n",
       "    <tr style=\"text-align: right;\">\n",
       "      <th></th>\n",
       "      <th>Features</th>\n",
       "      <th>Importance Score</th>\n",
       "    </tr>\n",
       "  </thead>\n",
       "  <tbody>\n",
       "    <tr>\n",
       "      <th>10</th>\n",
       "      <td>glu_bmi</td>\n",
       "      <td>0.175924</td>\n",
       "    </tr>\n",
       "    <tr>\n",
       "      <th>9</th>\n",
       "      <td>glu_age</td>\n",
       "      <td>0.146526</td>\n",
       "    </tr>\n",
       "    <tr>\n",
       "      <th>1</th>\n",
       "      <td>glucose</td>\n",
       "      <td>0.127444</td>\n",
       "    </tr>\n",
       "    <tr>\n",
       "      <th>8</th>\n",
       "      <td>age_bmi</td>\n",
       "      <td>0.101794</td>\n",
       "    </tr>\n",
       "    <tr>\n",
       "      <th>6</th>\n",
       "      <td>pedigree</td>\n",
       "      <td>0.089644</td>\n",
       "    </tr>\n",
       "    <tr>\n",
       "      <th>5</th>\n",
       "      <td>bmi</td>\n",
       "      <td>0.088933</td>\n",
       "    </tr>\n",
       "    <tr>\n",
       "      <th>7</th>\n",
       "      <td>age</td>\n",
       "      <td>0.062308</td>\n",
       "    </tr>\n",
       "    <tr>\n",
       "      <th>4</th>\n",
       "      <td>insulin</td>\n",
       "      <td>0.056503</td>\n",
       "    </tr>\n",
       "    <tr>\n",
       "      <th>3</th>\n",
       "      <td>skin_thick</td>\n",
       "      <td>0.051314</td>\n",
       "    </tr>\n",
       "    <tr>\n",
       "      <th>2</th>\n",
       "      <td>blood_pressure</td>\n",
       "      <td>0.051175</td>\n",
       "    </tr>\n",
       "    <tr>\n",
       "      <th>0</th>\n",
       "      <td>n_pregnant</td>\n",
       "      <td>0.048435</td>\n",
       "    </tr>\n",
       "  </tbody>\n",
       "</table>\n",
       "</div>"
      ],
      "text/plain": [
       "          Features  Importance Score\n",
       "10         glu_bmi          0.175924\n",
       "9          glu_age          0.146526\n",
       "1          glucose          0.127444\n",
       "8          age_bmi          0.101794\n",
       "6         pedigree          0.089644\n",
       "5              bmi          0.088933\n",
       "7              age          0.062308\n",
       "4          insulin          0.056503\n",
       "3       skin_thick          0.051314\n",
       "2   blood_pressure          0.051175\n",
       "0       n_pregnant          0.048435"
      ]
     },
     "execution_count": 126,
     "metadata": {},
     "output_type": "execute_result"
    }
   ],
   "source": [
    "features = data_X.columns\n",
    "feature_importances = best_rf.feature_importances_\n",
    "\n",
    "features_df = pd.DataFrame({'Features': features, 'Importance Score': feature_importances})\n",
    "features_df.sort_values('Importance Score', inplace=True, ascending=False)\n",
    "\n",
    "features_df"
   ]
  },
  {
   "cell_type": "markdown",
   "metadata": {},
   "source": [
    "# 8 - Observations - Random Forest\n",
    "What's the best performance you can get with Random Forest? Is RF a good choice for this dataset?\n",
    "\n",
    "\n",
    "\n"
   ]
  },
  {
   "cell_type": "markdown",
   "metadata": {},
   "source": [
    "First run - removing insulin\n",
    "- recall .54\n",
    "- poor scores on train and test. High Bias\n",
    "- slight variance\n",
    "- training scores 100%\n",
    "\n",
    "Second run - imputing insulin\n",
    "- recall .55\n",
    "\n",
    "Third run - add 3 halo features\n",
    "- recall .56\n",
    "- low variance\n",
    "\n",
    "Very slow running time on all 3 runs\n",
    "\n",
    "### See final observations below"
   ]
  },
  {
   "cell_type": "markdown",
   "metadata": {},
   "source": [
    "# 9 - If you could only choose one, which classifer from the above that you already ran is best? How do you define best? (hint: could be prediction accuracy, running time, interpretability, etc)\n",
    "\n"
   ]
  },
  {
   "cell_type": "markdown",
   "metadata": {},
   "source": [
    "# 9 - Observations\n",
    "- Removing or imputing the missing insulin data had only a small effect on most models. (larger on kNN)\n",
    "- Adding three halo features improved most of the models. (RF not much)\n",
    "- The best performing model is the logistical regression. It had the highest recall score and ran the fastest.\n",
    "- That would be my choice for further developement.\n",
    "\n",
    "### Final Score\n",
    "- 81% Recall score on a diabetes screening does not seem very good. We are missing 1/5 of the people who have the disease.\n",
    "- Would like to do better.\n",
    "- Can try adding more halo features.\n",
    "\n",
    "\n"
   ]
  },
  {
   "cell_type": "markdown",
   "metadata": {},
   "source": [
    "# To ask mason and Lema\n",
    "- Not sure about the way I used Gaussian Naive Bayes. No parms to tune.\n",
    "- C score in Logistic Regression. Could not get a number that wasn't the lowest one I put in. Doesn't make me think I'm doing it right.\n",
    "- Recall scoring - still confused about what a dummy model would be for this. (So I have something to beat.) A dummy would predict all negatives and 0 positives. If recall = TP/(TP+FN) it will always be 0."
   ]
  },
  {
   "cell_type": "code",
   "execution_count": 147,
   "metadata": {
    "collapsed": false,
    "scrolled": true
   },
   "outputs": [
    {
     "data": {
      "text/html": [
       "<div>\n",
       "<table border=\"1\" class=\"dataframe\">\n",
       "  <thead>\n",
       "    <tr style=\"text-align: right;\">\n",
       "      <th></th>\n",
       "      <th>recall</th>\n",
       "      <th>precision</th>\n",
       "      <th>f1</th>\n",
       "      <th>accuracy</th>\n",
       "      <th>time</th>\n",
       "      <th>lc_com</th>\n",
       "    </tr>\n",
       "  </thead>\n",
       "  <tbody>\n",
       "    <tr>\n",
       "      <th>knn</th>\n",
       "      <td>0.655172</td>\n",
       "      <td>0.678571</td>\n",
       "      <td>0.666667</td>\n",
       "      <td>0.748344</td>\n",
       "      <td>2246.22</td>\n",
       "      <td>slight varience, Traing up to 100%</td>\n",
       "    </tr>\n",
       "    <tr>\n",
       "      <th>logreg</th>\n",
       "      <td>0.603448</td>\n",
       "      <td>0.795455</td>\n",
       "      <td>0.686275</td>\n",
       "      <td>0.788079</td>\n",
       "      <td>30.5607</td>\n",
       "      <td>low variance. score ~65. 5% gap</td>\n",
       "    </tr>\n",
       "    <tr>\n",
       "      <th>nb</th>\n",
       "      <td>0.724138</td>\n",
       "      <td>0.666667</td>\n",
       "      <td>0.694215</td>\n",
       "      <td>0.754967</td>\n",
       "      <td>150.241</td>\n",
       "      <td>low variance. score ~60. 5pt gap between train...</td>\n",
       "    </tr>\n",
       "    <tr>\n",
       "      <th>rf</th>\n",
       "      <td>0.603448</td>\n",
       "      <td>0.729167</td>\n",
       "      <td>0.660377</td>\n",
       "      <td>0.761589</td>\n",
       "      <td>10072.3</td>\n",
       "      <td>very slight variance.</td>\n",
       "    </tr>\n",
       "    <tr>\n",
       "      <th>dummy</th>\n",
       "      <td>0.258621</td>\n",
       "      <td>0.277778</td>\n",
       "      <td>0.267857</td>\n",
       "      <td>0.576159</td>\n",
       "      <td>61.4105</td>\n",
       "      <td>NaN</td>\n",
       "    </tr>\n",
       "  </tbody>\n",
       "</table>\n",
       "</div>"
      ],
      "text/plain": [
       "          recall precision        f1  accuracy     time  \\\n",
       "knn     0.655172  0.678571  0.666667  0.748344  2246.22   \n",
       "logreg  0.603448  0.795455  0.686275  0.788079  30.5607   \n",
       "nb      0.724138  0.666667  0.694215  0.754967  150.241   \n",
       "rf      0.603448  0.729167  0.660377  0.761589  10072.3   \n",
       "dummy   0.258621  0.277778  0.267857  0.576159  61.4105   \n",
       "\n",
       "                                                   lc_com  \n",
       "knn                    slight varience, Traing up to 100%  \n",
       "logreg                    low variance. score ~65. 5% gap  \n",
       "nb      low variance. score ~60. 5pt gap between train...  \n",
       "rf                                  very slight variance.  \n",
       "dummy                                                 NaN  "
      ]
     },
     "execution_count": 147,
     "metadata": {},
     "output_type": "execute_result"
    }
   ],
   "source": [
    "results"
   ]
  },
  {
   "cell_type": "markdown",
   "metadata": {},
   "source": [
    "### Historical Runs\n",
    "\n",
    "\n",
    "Original run(no insulin)|model|recall|precision|f1|accuracy|time|LC comments\n",
    "------------|-----|------|---------|--|--------|----|-----------\n",
    "Tuning-Recall|knn\t|0.482759\t|0.651163\t|0.554455\t|0.701987\t|12698\t|CV still climbing, low scores for both train/test\n",
    "|logreg\t|0.655172\t|0.655172\t|0.655172\t|0.735099\t|32.4147\t|low variance. score ~60\n",
    "|nb\t|0.603448\t|0.686275\t|0.642202\t|0.609272\t|97.5965\t|low variance. score ~60. 10pt gap between trai...\n",
    "|rf\t|0.543438\t|0.755556\t|0.660194\t|0.543438\t|6194.16\t|very slight variance.\n",
    "\n",
    "2nd run add back insulin|model|recall|precision|f1|accuracy|time|LC comments\n",
    "------------|-----|------|---------|--|--------|----|-----------\n",
    "add back insulin|knn\t|0.603448\t|0.673077\t|0.636364\t|0.735099\t|2263.86\t|CV still climbing, low scores for both train/test\n",
    "Tuning-Recall|logreg\t|0.655172\t|0.655172\t|0.655172\t|0.735099\t|33.9839\t|low variance. score ~60. 10pt.gap\n",
    "|nb\t|0.568966\t|0.673469\t|0.616822\t|0.609272\t|99.0775\t|low variance. score ~60. 10pt gap between trai...\n",
    "|rf\t|0.558072\t|0.717391\t|0.634615\t|0.558072\t|10111\t|very slight variance.\n",
    "\n",
    "3nd run add back insulin|model|recall|precision|f1|accuracy|time|LC comments\n",
    "------------|-----|------|---------|--|--------|----|-----------\n",
    "add 3 halos|knn\t|0.655172\t|0.678571\t|0.666667\t|0.748344\t|2450.51\t|slight varience, Traing up to 100%\n",
    "Tuning-recall|logreg\t|0.810345\t|0.671429\t|0.734375\t|0.774834\t|33.3404\t|low variance. score ~65. 5% gap\n",
    "|nb\t|0.724138\t|0.666667\t|0.694215\t|0.615894\t|104.664\t|low variance. score ~60. 5pt gap between train...\n",
    "|rf\t|0.562718\t|0.76087\t|0.673077\t|0.562718\t|4892.99\t|very slight variance."
   ]
  },
  {
   "cell_type": "code",
   "execution_count": null,
   "metadata": {
    "collapsed": true
   },
   "outputs": [],
   "source": []
  }
 ],
 "metadata": {
  "kernelspec": {
   "display_name": "Python 2",
   "language": "python",
   "name": "python2"
  },
  "language_info": {
   "codemirror_mode": {
    "name": "ipython",
    "version": 2
   },
   "file_extension": ".py",
   "mimetype": "text/x-python",
   "name": "python",
   "nbconvert_exporter": "python",
   "pygments_lexer": "ipython2",
   "version": "2.7.11"
  }
 },
 "nbformat": 4,
 "nbformat_minor": 0
}
