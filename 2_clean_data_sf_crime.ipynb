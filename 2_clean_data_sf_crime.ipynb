{
 "cells": [
  {
   "cell_type": "markdown",
   "metadata": {},
   "source": [
    "# Clean San Francisco Crime data \n",
    "- Jim Haskin\n",
    "\n",
    "- GA-Data Science\n",
    "- Dec 2015\n",
    "\n",
    "- 2/17/2016"
   ]
  },
  {
   "cell_type": "markdown",
   "metadata": {},
   "source": [
    "## Method\n",
    "- I have collected the incident reports of the San Franciso Police Department from the SF OpenData website. https://data.sfgov.org/data?category=Public%20Safety. I have the records from January, 2003 until the beginning of 2016.\n",
    "- I cleaned and reformated the fields.\n",
    "- I summerized the report to generate a daily report of the number of incidents and another factor I am calling Crime Level. Each incident is given a score based on how violent it is. Murders and assaults are rated high. Traffic violations and non-criminal incidents are rated low. These scores are summed and then normalized to a scale of 0 - 10.\n",
    "- Also added other crime measuring variables that can be used to narrow the reseach to different subsets of crime.\n",
    "- 'gun_level', 'COP_count', 'violent_count' are examples. These are explained below."
   ]
  },
  {
   "cell_type": "markdown",
   "metadata": {},
   "source": [
    "# Sections\n"
   ]
  },
  {
   "cell_type": "markdown",
   "metadata": {},
   "source": [
    "- [Data Source](#Data-Source)\n",
    "- [Clean Data](#Clean-Data)\n",
    "- [New Features for Raw Data](#New-Features-for-Raw-data)\n",
    "- [Corrections for Raw data](#Corrections-for-Raw-data)\n",
    "- [Create Crime Measuring Variables](#Create-Crime-Measuring-Variables)\n",
    "- [Consolidate into daily records](#Consolidate-into-daily-records)\n",
    "- [Normalize Levels](#Normalize-Levels)\n",
    "- [Write final data to file](#Write-final-data-to-file)\n",
    "- [qq](#qq)"
   ]
  },
  {
   "cell_type": "markdown",
   "metadata": {},
   "source": [
    "## Data Source\n",
    "[[back to top](#Sections)]\n",
    "\n",
    "- Data downloaded from SF Open Data site. File includes incidents from 1/1/2003 until the present \n",
    "- SFPD_Incidents_-_from_1_January_2003.csv\n",
    "- https://data.sfgov.org/data?category=Public%20Safety\n",
    "\n",
    "\n",
    "FieldName|Type|Description                             \n",
    "---------------|------------|---------------------\n",
    "IncidntNum|string|Police assigned number\n",
    "Category|string|General Crime category\n",
    "Descript|string|Secondary category/details\n",
    "DayOfWeek|string|Day of week event occured\n",
    "Date|string|Date in format : 01/18/2016\n",
    "Time|string|Time in format : 23:52\n",
    "PdDistrict|string|Police District that event occured in\n",
    "Resolution|int|How case was resolved\n",
    "Address|string|Address of event\n",
    "X|float|Longitude \n",
    "Y|float|Latitude\n",
    "Location|string|Latitude,Longitude in character pair\n",
    "PdId|int|Police Department ID number\n"
   ]
  },
  {
   "cell_type": "code",
   "execution_count": 1,
   "metadata": {
    "collapsed": true
   },
   "outputs": [],
   "source": [
    "import pandas as pd\n",
    "import numpy as np\n",
    "import seaborn as sb\n",
    "%matplotlib inline"
   ]
  },
  {
   "cell_type": "code",
   "execution_count": 2,
   "metadata": {
    "collapsed": false
   },
   "outputs": [
    {
     "name": "stdout",
     "output_type": "stream",
     "text": [
      "IncidntNum,Category,Descript,DayOfWeek,Date,Time,PdDistrict,Resolution,Address,X,Y,Location,PdId\r\n",
      "160051264,WARRANTS,WARRANT ARREST,Monday,01/18/2016,23:52,CENTRAL,\"ARREST, BOOKED\",400 Block of POWELL ST,-122.408568445228,37.7887594214703,\"(37.7887594214703, -122.408568445228)\",16005126463010\r\n"
     ]
    }
   ],
   "source": [
    "! head -2 SFPD_Incidents_-_from_1_January_2003.csv\n"
   ]
  },
  {
   "cell_type": "code",
   "execution_count": 3,
   "metadata": {
    "collapsed": false,
    "scrolled": true
   },
   "outputs": [
    {
     "name": "stdout",
     "output_type": "stream",
     "text": [
      "031353484,OTHER OFFENSES,OBSCENE PHONE CALLS(S),Wednesday,01/01/2003,00:01,TARAVAL,NONE,1500 Block of 41ST AV,-122.5003001196,37.7578465298467,\"(37.7578465298467, -122.5003001196)\",3135348419050\r\n",
      "030320997,SUSPICIOUS OCC,SUSPICIOUS OCCURRENCE,Wednesday,01/01/2003,00:01,SOUTHERN,NONE,0 Block of LAFAYETTE ST,-122.416608653757,37.7725681063387,\"(37.7725681063387, -122.416608653757)\",3032099764070\r\n"
     ]
    }
   ],
   "source": [
    "! tail -2 SFPD_Incidents_-_from_1_January_2003.csv\n",
    "\n"
   ]
  },
  {
   "cell_type": "markdown",
   "metadata": {},
   "source": [
    "### Read in Crime data"
   ]
  },
  {
   "cell_type": "code",
   "execution_count": 4,
   "metadata": {
    "collapsed": false
   },
   "outputs": [
    {
     "data": {
      "text/html": [
       "<div>\n",
       "<table border=\"1\" class=\"dataframe\">\n",
       "  <thead>\n",
       "    <tr style=\"text-align: right;\">\n",
       "      <th></th>\n",
       "      <th>Category</th>\n",
       "      <th>Descript</th>\n",
       "      <th>DayOfWeek</th>\n",
       "      <th>Date</th>\n",
       "      <th>Time</th>\n",
       "      <th>PdDistrict</th>\n",
       "      <th>Resolution</th>\n",
       "      <th>Address</th>\n",
       "      <th>X</th>\n",
       "      <th>Y</th>\n",
       "      <th>Location</th>\n",
       "      <th>PdId</th>\n",
       "    </tr>\n",
       "    <tr>\n",
       "      <th>IncidntNum</th>\n",
       "      <th></th>\n",
       "      <th></th>\n",
       "      <th></th>\n",
       "      <th></th>\n",
       "      <th></th>\n",
       "      <th></th>\n",
       "      <th></th>\n",
       "      <th></th>\n",
       "      <th></th>\n",
       "      <th></th>\n",
       "      <th></th>\n",
       "      <th></th>\n",
       "    </tr>\n",
       "  </thead>\n",
       "  <tbody>\n",
       "    <tr>\n",
       "      <th>160051264</th>\n",
       "      <td>WARRANTS</td>\n",
       "      <td>WARRANT ARREST</td>\n",
       "      <td>Monday</td>\n",
       "      <td>01/18/2016</td>\n",
       "      <td>23:52</td>\n",
       "      <td>CENTRAL</td>\n",
       "      <td>ARREST, BOOKED</td>\n",
       "      <td>400 Block of POWELL ST</td>\n",
       "      <td>-122.408568</td>\n",
       "      <td>37.788759</td>\n",
       "      <td>(37.7887594214703, -122.408568445228)</td>\n",
       "      <td>16005126463010</td>\n",
       "    </tr>\n",
       "    <tr>\n",
       "      <th>160051242</th>\n",
       "      <td>ROBBERY</td>\n",
       "      <td>ROBBERY, BODILY FORCE</td>\n",
       "      <td>Monday</td>\n",
       "      <td>01/18/2016</td>\n",
       "      <td>23:40</td>\n",
       "      <td>TENDERLOIN</td>\n",
       "      <td>NONE</td>\n",
       "      <td>100 Block of STOCKTON ST</td>\n",
       "      <td>-122.406428</td>\n",
       "      <td>37.787109</td>\n",
       "      <td>(37.78710945429, -122.40642786236)</td>\n",
       "      <td>16005124203074</td>\n",
       "    </tr>\n",
       "  </tbody>\n",
       "</table>\n",
       "</div>"
      ],
      "text/plain": [
       "            Category               Descript DayOfWeek        Date   Time  \\\n",
       "IncidntNum                                                                 \n",
       "160051264   WARRANTS         WARRANT ARREST    Monday  01/18/2016  23:52   \n",
       "160051242    ROBBERY  ROBBERY, BODILY FORCE    Monday  01/18/2016  23:40   \n",
       "\n",
       "            PdDistrict      Resolution                   Address           X  \\\n",
       "IncidntNum                                                                     \n",
       "160051264      CENTRAL  ARREST, BOOKED    400 Block of POWELL ST -122.408568   \n",
       "160051242   TENDERLOIN            NONE  100 Block of STOCKTON ST -122.406428   \n",
       "\n",
       "                    Y                               Location            PdId  \n",
       "IncidntNum                                                                    \n",
       "160051264   37.788759  (37.7887594214703, -122.408568445228)  16005126463010  \n",
       "160051242   37.787109     (37.78710945429, -122.40642786236)  16005124203074  "
      ]
     },
     "execution_count": 4,
     "metadata": {},
     "output_type": "execute_result"
    }
   ],
   "source": [
    "sf_data = pd.read_csv('SFPD_Incidents_-_from_1_January_2003.csv', index_col=0)    # has header, commas, index\n",
    "sf_data.head(2)"
   ]
  },
  {
   "cell_type": "markdown",
   "metadata": {},
   "source": [
    "## Clean Data\n",
    "[[back to top](#Sections)]"
   ]
  },
  {
   "cell_type": "markdown",
   "metadata": {},
   "source": [
    "### Convert to lower case\n",
    "- Feature names\n",
    "- Feature values that I'm working with"
   ]
  },
  {
   "cell_type": "code",
   "execution_count": 5,
   "metadata": {
    "collapsed": false
   },
   "outputs": [
    {
     "data": {
      "text/html": [
       "<div>\n",
       "<table border=\"1\" class=\"dataframe\">\n",
       "  <thead>\n",
       "    <tr style=\"text-align: right;\">\n",
       "      <th></th>\n",
       "      <th>category</th>\n",
       "      <th>descript</th>\n",
       "      <th>dayofweek</th>\n",
       "      <th>date</th>\n",
       "      <th>time</th>\n",
       "      <th>pddistrict</th>\n",
       "      <th>resolution</th>\n",
       "      <th>address</th>\n",
       "      <th>x</th>\n",
       "      <th>y</th>\n",
       "      <th>location</th>\n",
       "      <th>pdid</th>\n",
       "    </tr>\n",
       "    <tr>\n",
       "      <th>IncidntNum</th>\n",
       "      <th></th>\n",
       "      <th></th>\n",
       "      <th></th>\n",
       "      <th></th>\n",
       "      <th></th>\n",
       "      <th></th>\n",
       "      <th></th>\n",
       "      <th></th>\n",
       "      <th></th>\n",
       "      <th></th>\n",
       "      <th></th>\n",
       "      <th></th>\n",
       "    </tr>\n",
       "  </thead>\n",
       "  <tbody>\n",
       "    <tr>\n",
       "      <th>160051264</th>\n",
       "      <td>warrants</td>\n",
       "      <td>warrant arrest</td>\n",
       "      <td>monday</td>\n",
       "      <td>01/18/2016</td>\n",
       "      <td>23:52</td>\n",
       "      <td>CENTRAL</td>\n",
       "      <td>ARREST, BOOKED</td>\n",
       "      <td>400 Block of POWELL ST</td>\n",
       "      <td>-122.408568</td>\n",
       "      <td>37.788759</td>\n",
       "      <td>(37.7887594214703, -122.408568445228)</td>\n",
       "      <td>16005126463010</td>\n",
       "    </tr>\n",
       "    <tr>\n",
       "      <th>160051242</th>\n",
       "      <td>robbery</td>\n",
       "      <td>robbery, bodily force</td>\n",
       "      <td>monday</td>\n",
       "      <td>01/18/2016</td>\n",
       "      <td>23:40</td>\n",
       "      <td>TENDERLOIN</td>\n",
       "      <td>NONE</td>\n",
       "      <td>100 Block of STOCKTON ST</td>\n",
       "      <td>-122.406428</td>\n",
       "      <td>37.787109</td>\n",
       "      <td>(37.78710945429, -122.40642786236)</td>\n",
       "      <td>16005124203074</td>\n",
       "    </tr>\n",
       "  </tbody>\n",
       "</table>\n",
       "</div>"
      ],
      "text/plain": [
       "            category               descript dayofweek        date   time  \\\n",
       "IncidntNum                                                                 \n",
       "160051264   warrants         warrant arrest    monday  01/18/2016  23:52   \n",
       "160051242    robbery  robbery, bodily force    monday  01/18/2016  23:40   \n",
       "\n",
       "            pddistrict      resolution                   address           x  \\\n",
       "IncidntNum                                                                     \n",
       "160051264      CENTRAL  ARREST, BOOKED    400 Block of POWELL ST -122.408568   \n",
       "160051242   TENDERLOIN            NONE  100 Block of STOCKTON ST -122.406428   \n",
       "\n",
       "                    y                               location            pdid  \n",
       "IncidntNum                                                                    \n",
       "160051264   37.788759  (37.7887594214703, -122.408568445228)  16005126463010  \n",
       "160051242   37.787109     (37.78710945429, -122.40642786236)  16005124203074  "
      ]
     },
     "execution_count": 5,
     "metadata": {},
     "output_type": "execute_result"
    }
   ],
   "source": [
    "sf_data.columns = sf_data.columns.str.lower()\n",
    "sf_data['category'] = sf_data['category'].str.lower()\n",
    "sf_data['descript'] = sf_data['descript'].str.lower()\n",
    "sf_data['dayofweek'] = sf_data['dayofweek'].str.lower()\n",
    "sf_data.head(2)"
   ]
  },
  {
   "cell_type": "markdown",
   "metadata": {},
   "source": [
    "### Investigate data"
   ]
  },
  {
   "cell_type": "code",
   "execution_count": 6,
   "metadata": {
    "collapsed": false
   },
   "outputs": [
    {
     "name": "stdout",
     "output_type": "stream",
     "text": [
      "<class 'pandas.core.frame.DataFrame'>\n",
      "Int64Index: 1866570 entries, 160051264 to 30320997\n",
      "Data columns (total 12 columns):\n",
      "category      object\n",
      "descript      object\n",
      "dayofweek     object\n",
      "date          object\n",
      "time          object\n",
      "pddistrict    object\n",
      "resolution    object\n",
      "address       object\n",
      "x             float64\n",
      "y             float64\n",
      "location      object\n",
      "pdid          int64\n",
      "dtypes: float64(2), int64(1), object(9)\n",
      "memory usage: 185.1+ MB\n"
     ]
    }
   ],
   "source": [
    "sf_data.info()"
   ]
  },
  {
   "cell_type": "markdown",
   "metadata": {},
   "source": [
    "### Observations\n",
    "- 1,866,570 records \n",
    "- date and time in string format\n",
    "- other fields look appropriate"
   ]
  },
  {
   "cell_type": "markdown",
   "metadata": {
    "collapsed": true
   },
   "source": [
    "### Convert date to Pandas datetime format"
   ]
  },
  {
   "cell_type": "code",
   "execution_count": 7,
   "metadata": {
    "collapsed": false
   },
   "outputs": [],
   "source": [
    "sf_data['date'] = pd.to_datetime(sf_data['date'])"
   ]
  },
  {
   "cell_type": "markdown",
   "metadata": {},
   "source": [
    "## New Features for Raw data\n",
    "[[back to top](#Sections)]\n",
    "\n",
    "There is information in some of these features that I would like to use in future analysis. But I need to put them into a usable form\n",
    "- hour - What time did the incident occure. Can be used if you want to split data into time frames.\n",
    "- month, day, year - Seperate out from data to be used to look for trends.\n",
    "- shift - feature derived from time that splits the day into 3 working shifts."
   ]
  },
  {
   "cell_type": "markdown",
   "metadata": {},
   "source": [
    "### Add the hour as numeric"
   ]
  },
  {
   "cell_type": "code",
   "execution_count": 8,
   "metadata": {
    "collapsed": true
   },
   "outputs": [],
   "source": [
    "sf_data['hour'] = sf_data['time'].str[0:2].astype(int)"
   ]
  },
  {
   "cell_type": "markdown",
   "metadata": {},
   "source": [
    "### Add month, day and year features"
   ]
  },
  {
   "cell_type": "code",
   "execution_count": 9,
   "metadata": {
    "collapsed": false,
    "scrolled": true
   },
   "outputs": [
    {
     "data": {
      "text/html": [
       "<div>\n",
       "<table border=\"1\" class=\"dataframe\">\n",
       "  <thead>\n",
       "    <tr style=\"text-align: right;\">\n",
       "      <th></th>\n",
       "      <th>category</th>\n",
       "      <th>descript</th>\n",
       "      <th>dayofweek</th>\n",
       "      <th>date</th>\n",
       "      <th>time</th>\n",
       "      <th>pddistrict</th>\n",
       "      <th>resolution</th>\n",
       "      <th>address</th>\n",
       "      <th>x</th>\n",
       "      <th>y</th>\n",
       "      <th>location</th>\n",
       "      <th>pdid</th>\n",
       "      <th>hour</th>\n",
       "      <th>month</th>\n",
       "      <th>day</th>\n",
       "      <th>year</th>\n",
       "    </tr>\n",
       "    <tr>\n",
       "      <th>IncidntNum</th>\n",
       "      <th></th>\n",
       "      <th></th>\n",
       "      <th></th>\n",
       "      <th></th>\n",
       "      <th></th>\n",
       "      <th></th>\n",
       "      <th></th>\n",
       "      <th></th>\n",
       "      <th></th>\n",
       "      <th></th>\n",
       "      <th></th>\n",
       "      <th></th>\n",
       "      <th></th>\n",
       "      <th></th>\n",
       "      <th></th>\n",
       "      <th></th>\n",
       "    </tr>\n",
       "  </thead>\n",
       "  <tbody>\n",
       "    <tr>\n",
       "      <th>160051264</th>\n",
       "      <td>warrants</td>\n",
       "      <td>warrant arrest</td>\n",
       "      <td>monday</td>\n",
       "      <td>2016-01-18</td>\n",
       "      <td>23:52</td>\n",
       "      <td>CENTRAL</td>\n",
       "      <td>ARREST, BOOKED</td>\n",
       "      <td>400 Block of POWELL ST</td>\n",
       "      <td>-122.408568</td>\n",
       "      <td>37.788759</td>\n",
       "      <td>(37.7887594214703, -122.408568445228)</td>\n",
       "      <td>16005126463010</td>\n",
       "      <td>23</td>\n",
       "      <td>1</td>\n",
       "      <td>18</td>\n",
       "      <td>2016</td>\n",
       "    </tr>\n",
       "    <tr>\n",
       "      <th>160051242</th>\n",
       "      <td>robbery</td>\n",
       "      <td>robbery, bodily force</td>\n",
       "      <td>monday</td>\n",
       "      <td>2016-01-18</td>\n",
       "      <td>23:40</td>\n",
       "      <td>TENDERLOIN</td>\n",
       "      <td>NONE</td>\n",
       "      <td>100 Block of STOCKTON ST</td>\n",
       "      <td>-122.406428</td>\n",
       "      <td>37.787109</td>\n",
       "      <td>(37.78710945429, -122.40642786236)</td>\n",
       "      <td>16005124203074</td>\n",
       "      <td>23</td>\n",
       "      <td>1</td>\n",
       "      <td>18</td>\n",
       "      <td>2016</td>\n",
       "    </tr>\n",
       "  </tbody>\n",
       "</table>\n",
       "</div>"
      ],
      "text/plain": [
       "            category               descript dayofweek       date   time  \\\n",
       "IncidntNum                                                                \n",
       "160051264   warrants         warrant arrest    monday 2016-01-18  23:52   \n",
       "160051242    robbery  robbery, bodily force    monday 2016-01-18  23:40   \n",
       "\n",
       "            pddistrict      resolution                   address           x  \\\n",
       "IncidntNum                                                                     \n",
       "160051264      CENTRAL  ARREST, BOOKED    400 Block of POWELL ST -122.408568   \n",
       "160051242   TENDERLOIN            NONE  100 Block of STOCKTON ST -122.406428   \n",
       "\n",
       "                    y                               location            pdid  \\\n",
       "IncidntNum                                                                     \n",
       "160051264   37.788759  (37.7887594214703, -122.408568445228)  16005126463010   \n",
       "160051242   37.787109     (37.78710945429, -122.40642786236)  16005124203074   \n",
       "\n",
       "            hour  month  day  year  \n",
       "IncidntNum                          \n",
       "160051264     23      1   18  2016  \n",
       "160051242     23      1   18  2016  "
      ]
     },
     "execution_count": 9,
     "metadata": {},
     "output_type": "execute_result"
    }
   ],
   "source": [
    "#tdf['Date'].dtype\n",
    "sf_data['month'] = sf_data['date'].dt.month\n",
    "sf_data['day'] = sf_data['date'].dt.day\n",
    "sf_data['year'] = sf_data['date'].dt.year\n",
    "sf_data.head(2)"
   ]
  },
  {
   "cell_type": "markdown",
   "metadata": {},
   "source": [
    "### Create shift feature\n",
    "- For more detailed analysis or workforce planning, add feature that records the shift that event occured.\n",
    "- 3rd shift - Midnight to 7:59am\n",
    "- 1st shift - 8:00am - 3:59pm\n",
    "- 2nd shift - 4:00pm - 11:59pm\n",
    "\n",
    "NOTE: The below discussion of the approximate times in the incident reporting may make this unreliable"
   ]
  },
  {
   "cell_type": "code",
   "execution_count": 10,
   "metadata": {
    "collapsed": true
   },
   "outputs": [],
   "source": [
    "def calc_shift(hour):\n",
    "    shift = hour//8\n",
    "    if shift == 0:\n",
    "        shift = 3\n",
    "    return 'shift_' + str(shift)\n",
    "        "
   ]
  },
  {
   "cell_type": "code",
   "execution_count": 11,
   "metadata": {
    "collapsed": false
   },
   "outputs": [],
   "source": [
    "sf_data['shift'] = sf_data['hour'].apply(calc_shift)\n",
    "# or leave shift as hour//8. so that it sorts into time order, but label shift0 as third shift\n",
    "#sf_data['shift'] = sf_data['hour'].apply(lambda x : x//8)"
   ]
  },
  {
   "cell_type": "code",
   "execution_count": 12,
   "metadata": {
    "collapsed": false,
    "scrolled": true
   },
   "outputs": [
    {
     "data": {
      "text/html": [
       "<div>\n",
       "<table border=\"1\" class=\"dataframe\">\n",
       "  <thead>\n",
       "    <tr style=\"text-align: right;\">\n",
       "      <th></th>\n",
       "      <th>category</th>\n",
       "      <th>descript</th>\n",
       "      <th>dayofweek</th>\n",
       "      <th>date</th>\n",
       "      <th>time</th>\n",
       "      <th>pddistrict</th>\n",
       "      <th>resolution</th>\n",
       "      <th>address</th>\n",
       "      <th>x</th>\n",
       "      <th>y</th>\n",
       "      <th>location</th>\n",
       "      <th>pdid</th>\n",
       "      <th>hour</th>\n",
       "      <th>month</th>\n",
       "      <th>day</th>\n",
       "      <th>year</th>\n",
       "      <th>shift</th>\n",
       "    </tr>\n",
       "    <tr>\n",
       "      <th>IncidntNum</th>\n",
       "      <th></th>\n",
       "      <th></th>\n",
       "      <th></th>\n",
       "      <th></th>\n",
       "      <th></th>\n",
       "      <th></th>\n",
       "      <th></th>\n",
       "      <th></th>\n",
       "      <th></th>\n",
       "      <th></th>\n",
       "      <th></th>\n",
       "      <th></th>\n",
       "      <th></th>\n",
       "      <th></th>\n",
       "      <th></th>\n",
       "      <th></th>\n",
       "      <th></th>\n",
       "    </tr>\n",
       "  </thead>\n",
       "  <tbody>\n",
       "    <tr>\n",
       "      <th>160051264</th>\n",
       "      <td>warrants</td>\n",
       "      <td>warrant arrest</td>\n",
       "      <td>monday</td>\n",
       "      <td>2016-01-18</td>\n",
       "      <td>23:52</td>\n",
       "      <td>CENTRAL</td>\n",
       "      <td>ARREST, BOOKED</td>\n",
       "      <td>400 Block of POWELL ST</td>\n",
       "      <td>-122.408568</td>\n",
       "      <td>37.788759</td>\n",
       "      <td>(37.7887594214703, -122.408568445228)</td>\n",
       "      <td>16005126463010</td>\n",
       "      <td>23</td>\n",
       "      <td>1</td>\n",
       "      <td>18</td>\n",
       "      <td>2016</td>\n",
       "      <td>shift_2</td>\n",
       "    </tr>\n",
       "    <tr>\n",
       "      <th>160051242</th>\n",
       "      <td>robbery</td>\n",
       "      <td>robbery, bodily force</td>\n",
       "      <td>monday</td>\n",
       "      <td>2016-01-18</td>\n",
       "      <td>23:40</td>\n",
       "      <td>TENDERLOIN</td>\n",
       "      <td>NONE</td>\n",
       "      <td>100 Block of STOCKTON ST</td>\n",
       "      <td>-122.406428</td>\n",
       "      <td>37.787109</td>\n",
       "      <td>(37.78710945429, -122.40642786236)</td>\n",
       "      <td>16005124203074</td>\n",
       "      <td>23</td>\n",
       "      <td>1</td>\n",
       "      <td>18</td>\n",
       "      <td>2016</td>\n",
       "      <td>shift_2</td>\n",
       "    </tr>\n",
       "  </tbody>\n",
       "</table>\n",
       "</div>"
      ],
      "text/plain": [
       "            category               descript dayofweek       date   time  \\\n",
       "IncidntNum                                                                \n",
       "160051264   warrants         warrant arrest    monday 2016-01-18  23:52   \n",
       "160051242    robbery  robbery, bodily force    monday 2016-01-18  23:40   \n",
       "\n",
       "            pddistrict      resolution                   address           x  \\\n",
       "IncidntNum                                                                     \n",
       "160051264      CENTRAL  ARREST, BOOKED    400 Block of POWELL ST -122.408568   \n",
       "160051242   TENDERLOIN            NONE  100 Block of STOCKTON ST -122.406428   \n",
       "\n",
       "                    y                               location            pdid  \\\n",
       "IncidntNum                                                                     \n",
       "160051264   37.788759  (37.7887594214703, -122.408568445228)  16005126463010   \n",
       "160051242   37.787109     (37.78710945429, -122.40642786236)  16005124203074   \n",
       "\n",
       "            hour  month  day  year    shift  \n",
       "IncidntNum                                   \n",
       "160051264     23      1   18  2016  shift_2  \n",
       "160051242     23      1   18  2016  shift_2  "
      ]
     },
     "execution_count": 12,
     "metadata": {},
     "output_type": "execute_result"
    }
   ],
   "source": [
    "sf_data.head(2)"
   ]
  },
  {
   "cell_type": "code",
   "execution_count": 13,
   "metadata": {
    "collapsed": true
   },
   "outputs": [],
   "source": [
    "copy = sf_data.copy()"
   ]
  },
  {
   "cell_type": "markdown",
   "metadata": {},
   "source": [
    "## Corrections for Raw data\n",
    "[[back to top](#Sections)]\n",
    "\n",
    "After analysing the data in the 5_analysis notebook several anomalys appeared. They caused me to remove some data as explained below."
   ]
  },
  {
   "cell_type": "markdown",
   "metadata": {},
   "source": [
    "### Investigate Day 1 anomaly\n",
    "- While investigating the data I found a large spike in the number of incidents on the first day of the month.\n",
    "- Investigate and reslove"
   ]
  },
  {
   "cell_type": "code",
   "execution_count": 14,
   "metadata": {
    "collapsed": false
   },
   "outputs": [
    {
     "data": {
      "text/plain": [
       "1     72766\n",
       "15    63578\n",
       "20    62161\n",
       "16    61410\n",
       "17    61359\n",
       "Name: day, dtype: int64"
      ]
     },
     "execution_count": 14,
     "metadata": {},
     "output_type": "execute_result"
    }
   ],
   "source": [
    "sf_data['day'].value_counts().head()"
   ]
  },
  {
   "cell_type": "code",
   "execution_count": 15,
   "metadata": {
    "collapsed": false
   },
   "outputs": [
    {
     "data": {
      "text/plain": [
       "12:00    2171\n",
       "00:01    1863\n",
       "18:00    1399\n",
       "20:00    1199\n",
       "15:00    1187\n",
       "Name: time, dtype: int64"
      ]
     },
     "execution_count": 15,
     "metadata": {},
     "output_type": "execute_result"
    }
   ],
   "source": [
    "sf_data[sf_data['day']==15]['time'].value_counts().head()"
   ]
  },
  {
   "cell_type": "code",
   "execution_count": 16,
   "metadata": {
    "collapsed": false
   },
   "outputs": [
    {
     "data": {
      "text/plain": [
       "12:00    48318\n",
       "00:01    47451\n",
       "18:00    40872\n",
       "17:00    35815\n",
       "19:00    34903\n",
       "Name: time, dtype: int64"
      ]
     },
     "execution_count": 16,
     "metadata": {},
     "output_type": "execute_result"
    }
   ],
   "source": [
    "sf_data['time'].value_counts().head()"
   ]
  },
  {
   "cell_type": "code",
   "execution_count": 17,
   "metadata": {
    "collapsed": false
   },
   "outputs": [
    {
     "data": {
      "text/plain": [
       "1     6934\n",
       "15    1863\n",
       "20    1523\n",
       "10    1510\n",
       "13    1411\n",
       "Name: day, dtype: int64"
      ]
     },
     "execution_count": 17,
     "metadata": {},
     "output_type": "execute_result"
    }
   ],
   "source": [
    "sf_data[sf_data['time']=='00:01']['day'].value_counts().head()"
   ]
  },
  {
   "cell_type": "code",
   "execution_count": 18,
   "metadata": {
    "collapsed": false
   },
   "outputs": [
    {
     "data": {
      "text/plain": [
       "6934"
      ]
     },
     "execution_count": 18,
     "metadata": {},
     "output_type": "execute_result"
    }
   ],
   "source": [
    "sf_data[(sf_data['day']==1) & (sf_data['time']=='00:01')]['time'].count()"
   ]
  },
  {
   "cell_type": "markdown",
   "metadata": {},
   "source": [
    "### observations\n",
    "- 6934 records recorded on the the first of the month at 00:01.\n",
    "- This is ~10% of the records for the 1st and 0.37% of total records.\n",
    "- My hypotosis is that some incidents were reported later and when the exact date and time were not know, they were recorded this way.\n",
    "- Since my model is based on the day of the incident, these records are not reliable. \n",
    "- If I remove them the counts are more in line with the other days of the month.\n",
    "- Also appears that many of the times in the records may be approximate. (Many at 12:00). This will not effect the daily totals, but could be a problem if I try to divide the day into shifts.\n",
    "\n",
    "### observations 2\n",
    "- there are a total of 47,451 records from all days that have a time of 00:01 ~ 2.5% of data\n",
    "- These records may be inaccurate also. Since I have 1.8M records it is better to get rid of questionable data\n",
    "\n",
    "### results\n",
    "- Remove the records that have a time of 00:01"
   ]
  },
  {
   "cell_type": "code",
   "execution_count": 19,
   "metadata": {
    "collapsed": false
   },
   "outputs": [],
   "source": [
    "# Remove day 1 time 00:01\n",
    "#sf_data = sf_data.drop(sf_data[(sf_data['day']==1) & (sf_data['time']=='00:01')].index)\n",
    "#sf_data[(sf_data['day']==1) & (sf_data['time']=='00:01')]['time'].count()"
   ]
  },
  {
   "cell_type": "code",
   "execution_count": 20,
   "metadata": {
    "collapsed": false
   },
   "outputs": [
    {
     "data": {
      "text/plain": [
       "0"
      ]
     },
     "execution_count": 20,
     "metadata": {},
     "output_type": "execute_result"
    }
   ],
   "source": [
    "# Remove all time 00:01 records\n",
    "sf_data = sf_data.drop(sf_data[(sf_data['time']=='00:01')].index)\n",
    "sf_data[(sf_data['time']=='00:01')]['time'].count()"
   ]
  },
  {
   "cell_type": "markdown",
   "metadata": {},
   "source": [
    "## Create Crime Measuring Variables\n",
    "[[back to top](#Sections)]\n",
    "\n",
    "Instead of only calculating the number of incidents per day I have created several other measurements that could be used for analysis and modeling. These can be used to help with workforce planning. These are very subjective and could use domain knowledge to help tune these measurements\n",
    "- Create crime level feature that weights the incident by the severity/violence of the crime\n",
    "- Create a weather crime level. I select categories that I feel may be weather related.\n",
    "- Create a Crime Of Passion feature based on a list of violent/emotional words.\n",
    "- Create a violent crime feature for the assault, rape and domestic violence categories\n",
    "- Create a gun related feature\n"
   ]
  },
  {
   "cell_type": "markdown",
   "metadata": {
    "collapsed": false
   },
   "source": [
    "### Investigate the categories and their sub descriptions"
   ]
  },
  {
   "cell_type": "code",
   "execution_count": 66,
   "metadata": {
    "collapsed": false,
    "scrolled": false
   },
   "outputs": [
    {
     "data": {
      "text/plain": [
       "larceny/theft                  370337\n",
       "other offenses                 260051\n",
       "non-criminal                   193041\n",
       "assault                        160146\n",
       "vehicle theft                  110911\n",
       "drug/narcotic                  110273\n",
       "vandalism                       92436\n",
       "warrants                        88371\n",
       "burglary                        76509\n",
       "suspicious occ                  64123\n",
       "missing person                  53887\n",
       "robbery                         47879\n",
       "fraud                           31146\n",
       "secondary codes                 20767\n",
       "forgery/counterfeiting          18487\n",
       "weapon laws                     18159\n",
       "trespass                        15445\n",
       "prostitution                    15347\n",
       "stolen property                  9815\n",
       "drunkenness                      8894\n",
       "disorderly conduct               8799\n",
       "sex offenses, forcible           8471\n",
       "recovered vehicle                6318\n",
       "driving under the influence      4863\n",
       "kidnapping                       4678\n",
       "runaway                          3921\n",
       "liquor laws                      3819\n",
       "arson                            3204\n",
       "loitering                        2326\n",
       "embezzlement                     2016\n",
       "suicide                          1108\n",
       "family offenses                  1032\n",
       "bad checks                        708\n",
       "bribery                           646\n",
       "extortion                         556\n",
       "gambling                          290\n",
       "sex offenses, non forcible        273\n",
       "pornography/obscene mat            45\n",
       "trea                               10\n",
       "Name: category, dtype: int64"
      ]
     },
     "execution_count": 66,
     "metadata": {},
     "output_type": "execute_result"
    }
   ],
   "source": [
    "sf_data['category'].value_counts()"
   ]
  },
  {
   "cell_type": "code",
   "execution_count": 67,
   "metadata": {
    "collapsed": false
   },
   "outputs": [
    {
     "data": {
      "text/plain": [
       "grand theft from locked auto                               128810\n",
       "petty theft from locked auto                                41730\n",
       "petty theft of property                                     34211\n",
       "grand theft of property                                     22969\n",
       "petty theft from a building                                 20915\n",
       "petty theft shoplifting                                     20351\n",
       "grand theft from a building                                 19204\n",
       "grand theft from person                                     14679\n",
       "grand theft pickpocket                                      11681\n",
       "grand theft from unlocked auto                               9864\n",
       "petty theft with prior                                       8184\n",
       "petty theft from unlocked auto                               5481\n",
       "grand theft bicycle                                          5278\n",
       "attempted theft from locked vehicle                          4598\n",
       "grand theft shoplifting                                      4551\n",
       "petty theft bicycle                                          3331\n",
       "lost property, petty theft                                   2760\n",
       "grand theft pursesnatch                                      1481\n",
       "theft of computers or cell phones                            1423\n",
       "lost property, grand theft                                   1323\n",
       "grand theft auto strip                                       1250\n",
       "petty theft auto strip                                       1113\n",
       "theft from merchant or library                                843\n",
       "theft of checks or credit cards                               521\n",
       "attempted shoplifting                                         469\n",
       "attempted theft from a building                               427\n",
       "attempted petty theft of property                             317\n",
       "license plate or tab, theft of                                262\n",
       "attempted theft from unlocked vehicle                         257\n",
       "embezzlement from dependent or elder adult by caretaker       196\n",
       "                                                            ...  \n",
       "theft of animals (general)                                    141\n",
       "attempted auto strip                                          122\n",
       "theft, grand, of firearm                                       95\n",
       "grand theft by prostitute                                      95\n",
       "theft of utility services                                      86\n",
       "grand theft motorcycle strip                                   85\n",
       "theft, bicycle, <$50, no serial number                         76\n",
       "attempted grand theft pursesnatch                              76\n",
       "grand theft coin operated machine                              74\n",
       "attempted grand theft pickpocket                               74\n",
       "petty theft motorcycle strip                                   52\n",
       "attempted theft coin operated machine                          46\n",
       "theft, bicycle, <$50, serial number known                      43\n",
       "petty theft phone booth                                        41\n",
       "theft, drunk roll, $200-$400                                   31\n",
       "theft of telecommunication services, incl. clone phone         24\n",
       "theft, grand, by fiduciary, >$400 in 12 months                 21\n",
       "theft, drunk roll, $50-$200                                    21\n",
       "theft, drunk roll, <$50                                        19\n",
       "theft, drunk roll, >$400                                       19\n",
       "theft, boat                                                    18\n",
       "grand theft phone booth                                        14\n",
       "trade secrets, theft or unauthorized copying                   12\n",
       "theft of written instrument                                    10\n",
       "attempted motorcycle strip                                      8\n",
       "theft, drunk roll, att.                                         3\n",
       "theft, grand, agricultural                                      3\n",
       "attempted theft phone booth                                     3\n",
       "looting during state of emergency                               2\n",
       "theft, animal, att.                                             2\n",
       "Name: descript, dtype: int64"
      ]
     },
     "execution_count": 67,
     "metadata": {},
     "output_type": "execute_result"
    }
   ],
   "source": [
    "sf_data[sf_data['category']=='larceny/theft']['descript'].value_counts()"
   ]
  },
  {
   "cell_type": "code",
   "execution_count": 68,
   "metadata": {
    "collapsed": false
   },
   "outputs": [
    {
     "data": {
      "text/plain": [
       "drivers license, suspended or revoked                                        56650\n",
       "traffic violation                                                            33942\n",
       "resisting arrest                                                             18441\n",
       "miscellaneous investigation                                                  17161\n",
       "probation violation                                                          16239\n",
       "lost/stolen license plate                                                    13427\n",
       "violation of restraining order                                               11822\n",
       "traffic violation arrest                                                     11403\n",
       "parole violation                                                             10141\n",
       "conspiracy                                                                    6426\n",
       "obscene phone calls(s)                                                        4797\n",
       "violation of municipal code                                                   4760\n",
       "possession of burglary tools                                                  4514\n",
       "false personation to receive money or property                                4167\n",
       "harassing phone calls                                                         4024\n",
       "violation of municipal police code                                            3842\n",
       "miscellaneous state misdemeanor                                               3606\n",
       "false personation                                                             2806\n",
       "false evidence of vehicle registration                                        2513\n",
       "fraudulent game or trick, obtaining money or property                         1881\n",
       "permit violation, police (general)                                            1754\n",
       "obstructions on streets/sidewalks                                             1496\n",
       "tampering with a vehicle                                                      1385\n",
       "failure to register as sex offender                                           1323\n",
       "peddling without a license                                                    1287\n",
       "stay away order violation, dv related                                         1204\n",
       "indecent exposure                                                             1180\n",
       "danger of leading immoral life                                                 932\n",
       "violation of park code                                                         908\n",
       "reckless driving                                                               895\n",
       "                                                                             ...  \n",
       "dog or cat, abandonment of                                                       5\n",
       "injury to railroads/railroad bridges                                             5\n",
       "hazardous materials, dump oil into sewers                                        4\n",
       "hazardous materials,  dump any substance into water                              4\n",
       "hazardous materials, spill load                                                  4\n",
       "illegal charitable solicitations                                                 4\n",
       "insured property, destruction to defraud insurer                                 4\n",
       "hazardous materials, spill on roadway                                            3\n",
       "push-cart peddler permit violation                                               3\n",
       "dog, fighting;  owning, fighting, or attending fight                             3\n",
       "permit violation, second-hand dealer                                             3\n",
       "permit violation, valet parking                                                  3\n",
       "encounter studio ordinance violation                                             2\n",
       "soliciting minor to commit felony                                                2\n",
       "chop shop, own or operate                                                        2\n",
       "school bus, entry to commit crime or refusal to leave                            2\n",
       "escape from hospital with force                                                  2\n",
       "loudspeaker or sound truck permit violation                                      2\n",
       "wearing the apparel of opposite sex to deceive                                   2\n",
       "food stamps, unlawful use by retailer                                            2\n",
       "school student or employee entering  campus after suspension or dismissal        2\n",
       "hazardous materials, failure to comply w/regulations                             2\n",
       "school grounds, entry by sex offender                                            2\n",
       "police broadcast, interception to commit crime                                   2\n",
       "hazardous materials, store without permit                                        1\n",
       "unsolicited fax advertising                                                      1\n",
       "money laundering                                                                 1\n",
       "permit violation, advertising handbill distribution                              1\n",
       "refusal to identify                                                              1\n",
       "violation of calif unemployment insurance act                                    1\n",
       "Name: descript, dtype: int64"
      ]
     },
     "execution_count": 68,
     "metadata": {},
     "output_type": "execute_result"
    }
   ],
   "source": [
    "sf_data[sf_data['category']=='other offenses']['descript'].value_counts()"
   ]
  },
  {
   "cell_type": "code",
   "execution_count": 69,
   "metadata": {
    "collapsed": false
   },
   "outputs": [
    {
     "data": {
      "text/plain": [
       "lost property                                         64152\n",
       "aided case, mental disturbed                          45951\n",
       "found property                                        25989\n",
       "aided case                                            11505\n",
       "death report, cause unknown                            8769\n",
       "case closure                                           4735\n",
       "stay away or court order, non-dv related               3395\n",
       "aided case, dog bite                                   2900\n",
       "civil sidewalks, citation                              2665\n",
       "property for identification                            2508\n",
       "aided case, injured person                             2196\n",
       "civil sidewalks, warning                               2016\n",
       "death report, natural causes                           1997\n",
       "aided case -property for destruction                   1840\n",
       "courtesy report                                        1761\n",
       "fire report                                            1677\n",
       "located property                                       1536\n",
       "tarasoff report                                        1387\n",
       "search warrant service                                 1227\n",
       "turned in gun                                          1032\n",
       "traffic accident                                        897\n",
       "shelter                                                 729\n",
       "impounded vehicle                                       642\n",
       "aided case, sick person                                 526\n",
       "license plate, recovered                                253\n",
       "license plate, found                                    228\n",
       "misplaced vehicle                                       121\n",
       "civil sidewalks, booking                                 97\n",
       "civil sidewalks, violation                               61\n",
       "truant, habitual                                         60\n",
       "death, accidental                                        36\n",
       "death, non-manslaughter auto accident                    29\n",
       "demonstration, video evidence, misc. investigation       25\n",
       "accidental shooting                                      23\n",
       "youth court                                              22\n",
       "auto impounded                                           18\n",
       "megan's law notification                                 17\n",
       "death report, in custody                                 12\n",
       "accidental burns                                          7\n",
       "Name: descript, dtype: int64"
      ]
     },
     "execution_count": 69,
     "metadata": {},
     "output_type": "execute_result"
    }
   ],
   "source": [
    "sf_data[sf_data['category']=='non-criminal']['descript'].value_counts()"
   ]
  },
  {
   "cell_type": "code",
   "execution_count": 70,
   "metadata": {
    "collapsed": false
   },
   "outputs": [
    {
     "data": {
      "text/plain": [
       "battery                                                        57142\n",
       "threats against life                                           29896\n",
       "inflict injury on cohabitee                                    14842\n",
       "aggravated assault with a deadly weapon                        13584\n",
       "aggravated assault with bodily force                           10382\n",
       "battery, former spouse or dating relationship                   5990\n",
       "aggravated assault with a knife                                 5134\n",
       "battery of a police officer                                     2802\n",
       "child abuse (physical)                                          2652\n",
       "aggravated assault with a gun                                   2127\n",
       "threatening phone call(s)                                       1729\n",
       "battery with serious injuries                                   1697\n",
       "stalking                                                        1619\n",
       "elder adult or dependent abuse (not embezzlement or theft)      1286\n",
       "assault                                                         1092\n",
       "assault with caustic chemicals                                   887\n",
       "false imprisonment                                               805\n",
       "attempted simple assault                                         710\n",
       "attempted homicide with a gun                                    618\n",
       "shooting into inhabited dwelling or occupied vehicle             540\n",
       "assault on a police officer with a deadly weapon                 489\n",
       "assault, aggravated, w/ gun                                      459\n",
       "threat or force to resist executive officer                      449\n",
       "attempted homicide with a knife                                  359\n",
       "aggravated assault of police officer,bodily force                340\n",
       "threats to school teachers                                       305\n",
       "child, inflicting injury resulting in traumatic condition        283\n",
       "willful cruelty to child                                         237\n",
       "discharging in grossly negligent manner                          220\n",
       "unlawful dissuading/threatening of a witness                     182\n",
       "                                                               ...  \n",
       "attempted homicide with bodily force                             100\n",
       "firearm, discharging at occupied bldg, vehicle, or aircraft       95\n",
       "mayhem with bodily force                                          83\n",
       "mayhem with a deadly weapon                                       73\n",
       "attempted mayhem with a deadly weapon                             48\n",
       "aggravated assault on police officer with a knife                 42\n",
       "mayhem with a knife                                               36\n",
       "attempted mayhem with a knife                                     33\n",
       "battery during labor dispute                                      31\n",
       "attempted mayhem with bodily force                                22\n",
       "assault, aggravated, on police officer, w/ gun                    19\n",
       "civil rights, incl. injury, threat, or damage (hate crimes)       16\n",
       "aggravated assault on police officer with a gun                   14\n",
       "trespass within 30 days of credible threat                        14\n",
       "assault by poisoning                                              14\n",
       "threat to state official or judge                                 12\n",
       "assault by police officer                                         10\n",
       "terrorizing by arson or explosive device                           7\n",
       "mayhem with a gun                                                  5\n",
       "assault, aggravated, w/ semi auto                                  5\n",
       "lasers, discharging or lights at aircraft                          5\n",
       "terrorizing by marking private property                            4\n",
       "assault, aggravated, w/ machine gun                                3\n",
       "attempted mayhem with a gun                                        3\n",
       "attempted homicide with explosives                                 2\n",
       "assault or attempted murder upon gov't officers                    2\n",
       "aggravated assault of police officer, sniping                      2\n",
       "assault, aggravated, on police officer, w/ semi auto               1\n",
       "assault, aggravated, on police officer, w/ full auto               1\n",
       "attempted homicide by sniping                                      1\n",
       "Name: descript, dtype: int64"
      ]
     },
     "execution_count": 70,
     "metadata": {},
     "output_type": "execute_result"
    }
   ],
   "source": [
    "sf_data[sf_data['category']=='assault']['descript'].value_counts()"
   ]
  },
  {
   "cell_type": "code",
   "execution_count": 71,
   "metadata": {
    "collapsed": false
   },
   "outputs": [
    {
     "data": {
      "text/plain": [
       "possession of narcotics paraphernalia                20567\n",
       "possession of base/rock cocaine                      14089\n",
       "possession of marijuana                              11220\n",
       "sale of base/rock cocaine                             8774\n",
       "possession of meth-amphetamine                        7578\n",
       "possession of base/rock cocaine for sale              7358\n",
       "possession of marijuana for sales                     5643\n",
       "possession of controlled substance                    4261\n",
       "possession of heroin                                  4113\n",
       "possession of cocaine                                 2986\n",
       "sale of marijuana                                     2889\n",
       "possession of meth-amphetamine for sale               2376\n",
       "possession of controlled substance for sale           2201\n",
       "possession of heroin for sales                        1813\n",
       "sale of controlled substance                          1564\n",
       "possession of cocaine for sales                       1305\n",
       "sale of heroin                                        1206\n",
       "controlled substance violation, loitering for         1078\n",
       "maintaining premise where narcotics are sold/used      839\n",
       "transportation of marijuana                            681\n",
       "sale of cocaine                                        624\n",
       "loitering where narcotics are sold/used                587\n",
       "under influence of drugs in a public place             582\n",
       "planting/cultivating marijuana                         572\n",
       "possession of amphetamine for sales                    559\n",
       "transportation of cocaine                              533\n",
       "under the influence of controlled substances           418\n",
       "transportation of meth-amphetamine                     412\n",
       "sale of meth-amphetamine                               317\n",
       "possession of amphetamine                              293\n",
       "                                                     ...  \n",
       "money offense related to narcotics trafficking          56\n",
       "sale of hallucinogenic                                  51\n",
       "sales cocaine base/schoolyard trafficking act vio       44\n",
       "sale of opiates                                         37\n",
       "failure to register as narcotics addict                 33\n",
       "sale of methadone                                       23\n",
       "prescription, forge or alter (4390 b&p)                 22\n",
       "encouraging minor to use marijuana                      22\n",
       "possession of opium derivative for sales                15\n",
       "transportation of hallucinogenic                        12\n",
       "transportation of opiates                               11\n",
       "possession of opium for sales                           11\n",
       "encouraging minor to use cocaine                        10\n",
       "transportation of methadone                             10\n",
       "encourage minor to use barbituates                       8\n",
       "possession of barbituates                                8\n",
       "transportation of amphetamine                            7\n",
       "encourage minor to use controlled substance              5\n",
       "possession of barbituates for sales                      5\n",
       "sale of opium derivative                                 5\n",
       "drug lab apparatus, possession                           4\n",
       "sale of barbituates                                      4\n",
       "sale of opium                                            3\n",
       "planting/cultivating peyote                              1\n",
       "transportation of opium                                  1\n",
       "encourage minor to use amphetamine                       1\n",
       "encourage minor to use meth-amphetamine                  1\n",
       "encourage minor to use heroin                            1\n",
       "encourage minor to use hallucinogenic                    1\n",
       "encourage minor to use opiates                           1\n",
       "Name: descript, dtype: int64"
      ]
     },
     "execution_count": 71,
     "metadata": {},
     "output_type": "execute_result"
    }
   ],
   "source": [
    "sf_data[sf_data['category']=='drug/narcotic']['descript'].value_counts()"
   ]
  },
  {
   "cell_type": "code",
   "execution_count": 72,
   "metadata": {
    "collapsed": false
   },
   "outputs": [
    {
     "data": {
      "text/plain": [
       "malicious mischief, vandalism of vehicles                   37002\n",
       "malicious mischief, vandalism                               33041\n",
       "malicious mischief, breaking windows                        10272\n",
       "malicious mischief, graffiti                                 7485\n",
       "malicious mischief                                            942\n",
       "malicious mischief, tire slashing                             664\n",
       "malicious mischief, street cars/buses                         587\n",
       "vandalism or graffiti tools, possession                       548\n",
       "malicious mischief, breaking windows with bb gun              524\n",
       "malicious mischief, adult suspect                             517\n",
       "malicious mischief, juvenile suspect                          160\n",
       "graffiti on government vehicles or public transportation      124\n",
       "vandalism or graffiti on or within 100 ft of highway          116\n",
       "malicious mischief, fictitious phone calls                    111\n",
       "malicious mischief, building under construction                85\n",
       "damage to fire alarm apparatus                                 70\n",
       "aerosol container; sale, purchase or possession of             45\n",
       "damage to mail box                                             45\n",
       "electrical  or gas lines, interfering with                     30\n",
       "damage/destruction of mail                                     26\n",
       "damage to parking meters                                       16\n",
       "vandalism with noxious chemical                                16\n",
       "destroying jail property-$200 or under                          6\n",
       "destroying jail property-over $200                              2\n",
       "balloons, electrically conductive                               2\n",
       "Name: descript, dtype: int64"
      ]
     },
     "execution_count": 72,
     "metadata": {},
     "output_type": "execute_result"
    }
   ],
   "source": [
    "sf_data[sf_data['category']=='vandalism']['descript'].value_counts()"
   ]
  },
  {
   "cell_type": "code",
   "execution_count": 73,
   "metadata": {
    "collapsed": false
   },
   "outputs": [
    {
     "data": {
      "text/plain": [
       "robbery on the street, strongarm                     13804\n",
       "robbery, bodily force                                 9453\n",
       "robbery on the street with a gun                      4260\n",
       "attempted robbery on the street with bodily force     2345\n",
       "robbery, armed with a gun                             2318\n",
       "attempted robbery with bodily force                   1611\n",
       "robbery on the street with a knife                    1529\n",
       "robbery on the street with a dangerous weapon         1364\n",
       "robbery, armed with a knife                           1118\n",
       "robbery of a commercial establishment, strongarm       872\n",
       "robbery, armed with a dangerous weapon                 849\n",
       "robbery of a chain store with bodily force             717\n",
       "robbery of a commercial establishment with a gun       693\n",
       "attempted robbery on the street with a gun             678\n",
       "carjacking with a gun                                  497\n",
       "robbery of a residence with bodily force               478\n",
       "attempted robbery on the street w/deadly weapon        371\n",
       "attempted robbery with a gun                           356\n",
       "attempted robbery on the street with a knife           345\n",
       "carjacking with bodily force                           328\n",
       "robbery of a residence with a gun                      321\n",
       "attempted robbery with a knife                         249\n",
       "robbery of a chain store with a gun                    228\n",
       "robbery of a bank with bodily force                    226\n",
       "attempted robbery with a deadly weapon                 212\n",
       "robbery of a bank with a gun                           204\n",
       "robbery of a service station with a gun                190\n",
       "robbery of a bank with a dangerous weapon              175\n",
       "robbery of a commercial establishment w/ a knife       173\n",
       "robbery of a chain store with a dangerous weapon       164\n",
       "                                                     ...  \n",
       "carjacking with a knife                                 51\n",
       "carjacking with a dangerous weapon                      50\n",
       "attempted robbery chain store with a gun                47\n",
       "attempted robbery of a bank with a deadly weapon        36\n",
       "attempted robbery comm. establishment w/knife           33\n",
       "attempted robbery chain store with deadly weapon        31\n",
       "attempted robbery of a bank with a gun                  29\n",
       "robbery,  atm, other weapon                             29\n",
       "robbery,  atm, gun                                      22\n",
       "robbery of a service station w/dangerous weapon         20\n",
       "attempted robbery residence with a deadly weapon        20\n",
       "attempted robbery residence with a knife                18\n",
       "robbery,  atm, knife                                    14\n",
       "robbery of a service station with a knife               14\n",
       "attempted robbery chain store with a knife              12\n",
       "robbery of a bank with a knife                          12\n",
       "attempted robbery service station with a gun            12\n",
       "attempted robbery service station w/bodily force         9\n",
       "attempted robbery of a bank with a knife                 7\n",
       "attempted robbery service station w/deadly weapon        7\n",
       "robbery, vehicle for hire, att., w/ force                6\n",
       "attempted robbery service station with a knife           6\n",
       "robbery,  atm, knife, att.                               6\n",
       "robbery, vehicle for hire, att., w/ other weapon         4\n",
       "robbery, vehicle for hire, att., w/ gun                  3\n",
       "robbery,  atm, gun, att.                                 2\n",
       "assault to rob with bodily force                         1\n",
       "robbery, vehicle for hire, att., w/ knife                1\n",
       "assault to rob bank with a gun                           1\n",
       "assault to rob on the street w/deadly weapon             1\n",
       "Name: descript, dtype: int64"
      ]
     },
     "execution_count": 73,
     "metadata": {},
     "output_type": "execute_result"
    }
   ],
   "source": [
    "sf_data[sf_data['category']=='robbery']['descript'].value_counts()"
   ]
  },
  {
   "cell_type": "code",
   "execution_count": 74,
   "metadata": {
    "collapsed": false
   },
   "outputs": [
    {
     "data": {
      "text/plain": [
       "domestic violence                         15262\n",
       "juvenile involved                          1864\n",
       "gang activity                              1624\n",
       "prejudice-based incident                   1362\n",
       "atm related crime                           559\n",
       "battery by juvenile suspect                  52\n",
       "weapons possession by juvenile suspect       25\n",
       "assault by juvenile suspect                  17\n",
       "shooting by juvenile suspect                  2\n",
       "Name: descript, dtype: int64"
      ]
     },
     "execution_count": 74,
     "metadata": {},
     "output_type": "execute_result"
    }
   ],
   "source": [
    "sf_data[sf_data['category']=='secondary codes']['descript'].value_counts()"
   ]
  },
  {
   "cell_type": "code",
   "execution_count": 75,
   "metadata": {
    "collapsed": false
   },
   "outputs": [
    {
     "data": {
      "text/plain": [
       "poss of loaded firearm                                     4075\n",
       "carrying a concealed weapon                                2006\n",
       "exhibiting deadly weapon in a threating manner             2002\n",
       "poss of firearm by convicted felon/addict/alien            1524\n",
       "poss of prohibited weapon                                  1387\n",
       "discharge firearm at an inhabited dwelling                 1157\n",
       "possession of air gun                                       866\n",
       "loitering while carrying concealed weapon                   733\n",
       "discharge firearm within city limits                        623\n",
       "poss of deadly weapon with intent to assault                528\n",
       "firearm, loaded, in vehicle, possession or use              498\n",
       "carrying of concealed weapon by convicted felon             344\n",
       "ammunition, poss. by prohibited person                      323\n",
       "weapon, possess or bring other on school grounds            230\n",
       "switchblade knife, possession                               188\n",
       "firearm, armed while possessing controlled substance        164\n",
       "located explosive device                                    162\n",
       "weapon, deadly, carrying with intent to commit assault      150\n",
       "weapon, assault, possession, manufacture, or sale           142\n",
       "poss of tear gas weapon                                     128\n",
       "firearm with altered identification                         126\n",
       "firearm, carrying loaded with intent to commit felony        88\n",
       "suspicious package                                           77\n",
       "tampering with marks on firearm                              75\n",
       "weapon, deadly, exhibiting to resist arrest                  68\n",
       "possession of explosive device                               57\n",
       "flammable or explosive device, possession                    57\n",
       "possession of caustic chemical                               49\n",
       "firearm, negligent discharge                                 43\n",
       "firearm possession in school zone                            38\n",
       "poss of fire bomb                                            38\n",
       "destruction of property with explosives                      38\n",
       "weapon, possessing in public building or open meeting        32\n",
       "violation of restrictions on a firearm transfer              30\n",
       "possession of machine gun                                    27\n",
       "commission of felony while armed                             25\n",
       "weapon, taking or attempting to take from peace officer      19\n",
       "firearm, possession of while wearing mask                    10\n",
       "weapon, assault, registration or transfer violation           9\n",
       "poss of firearm silencer                                      6\n",
       "illegal transportaion of explosives                           6\n",
       "destructive device, possession of materials                   5\n",
       "armor penetrating ammunition, possession                      2\n",
       "weapon, deadly, possession of to violate 136.1 pc             2\n",
       "sniper scope, possession of                                   1\n",
       "bombing of police building                                    1\n",
       "Name: descript, dtype: int64"
      ]
     },
     "execution_count": 75,
     "metadata": {},
     "output_type": "execute_result"
    }
   ],
   "source": [
    "sf_data[sf_data['category']=='weapon laws']['descript'].value_counts()"
   ]
  },
  {
   "cell_type": "code",
   "execution_count": 76,
   "metadata": {
    "collapsed": false
   },
   "outputs": [
    {
     "data": {
      "text/plain": [
       "solicits for act of prostitution                   6769\n",
       "solicits to visit house of prostitution            5062\n",
       "loitering for purpose of prostitution              2419\n",
       "engaging in lewd conduct - prostitution related     298\n",
       "human trafficking                                   229\n",
       "pimping                                             181\n",
       "pandering                                           135\n",
       "indecent exposure - prostitution related             89\n",
       "solicits lewd act                                    82\n",
       "inmate/keeper of house of prostitution               64\n",
       "placing wife in house of prostitution                12\n",
       "disorderly house, keeping                             3\n",
       "procurement, pimping, & pandering                     2\n",
       "purchase female for the purpose of prostitution       2\n",
       "Name: descript, dtype: int64"
      ]
     },
     "execution_count": 76,
     "metadata": {},
     "output_type": "execute_result"
    }
   ],
   "source": [
    "sf_data[sf_data['category']=='prostitution']['descript'].value_counts()"
   ]
  },
  {
   "cell_type": "code",
   "execution_count": 77,
   "metadata": {
    "collapsed": false
   },
   "outputs": [
    {
     "data": {
      "text/plain": [
       "sexual battery                                       3025\n",
       "forcible rape, bodily force                          1366\n",
       "child abuse sexual                                    623\n",
       "assault to rape with bodily force                     582\n",
       "oral copulation                                       307\n",
       "attempted rape, bodily force                          276\n",
       "annoy or molest children                              269\n",
       "child abuse, pornography                              261\n",
       "oral copulation, unlawful (adult victim)              243\n",
       "sodomy (adult victim)                                 230\n",
       "penetration, forced, with object                      210\n",
       "sodomy                                                187\n",
       "sexual assault, aggravated, of child                  141\n",
       "engaging in lewd act                                  131\n",
       "sexual assault, administering drug to commit          124\n",
       "child abuse, exploitation                             119\n",
       "forcible rape, armed with a sharp instrument          115\n",
       "forcible rape, armed with a dangerous weapon           73\n",
       "assault to commit mayhem or specific sex offenses      44\n",
       "forcible rape, armed with a gun                        37\n",
       "assault to rape with a dangerous weapon                30\n",
       "rape, spousal                                          19\n",
       "assault to rape with a sharp instrument                17\n",
       "attempted rape, armed with a sharp instrument          16\n",
       "assault to rape with a gun                             10\n",
       "attempted rape, armed with a dangerous weapon           8\n",
       "attempted rape with a gun                               8\n",
       "Name: descript, dtype: int64"
      ]
     },
     "execution_count": 77,
     "metadata": {},
     "output_type": "execute_result"
    }
   ],
   "source": [
    "sf_data[sf_data['category']=='sex offenses, forcible']['descript'].value_counts()"
   ]
  },
  {
   "cell_type": "code",
   "execution_count": 78,
   "metadata": {
    "collapsed": false,
    "scrolled": true
   },
   "outputs": [
    {
     "data": {
      "text/plain": [
       "under influence of alcohol in a public place    8894\n",
       "Name: descript, dtype: int64"
      ]
     },
     "execution_count": 78,
     "metadata": {},
     "output_type": "execute_result"
    }
   ],
   "source": [
    "sf_data[sf_data['category']=='drunkenness']['descript'].value_counts()"
   ]
  },
  {
   "cell_type": "code",
   "execution_count": 79,
   "metadata": {
    "collapsed": false
   },
   "outputs": [
    {
     "data": {
      "text/plain": [
       "committing public nuisance                              2710\n",
       "disturbing the peace                                    1935\n",
       "maintaining a public nuisance after notification        1623\n",
       "disturbing the peace, fighting                          1019\n",
       "maintaining a public nuisance                            816\n",
       "disturbing the peace, commotion                          355\n",
       "disturbing the peace, swearing                           331\n",
       "disturbing religious meetings                              9\n",
       "disturbance of non-religious, non-political assembly       1\n",
       "Name: descript, dtype: int64"
      ]
     },
     "execution_count": 79,
     "metadata": {},
     "output_type": "execute_result"
    }
   ],
   "source": [
    "sf_data[sf_data['category']=='disorderly conduct']['descript'].value_counts()"
   ]
  },
  {
   "cell_type": "code",
   "execution_count": 80,
   "metadata": {
    "collapsed": false
   },
   "outputs": [
    {
     "data": {
      "text/plain": [
       "desertion of child                                        252\n",
       "children, abandonment & neglect of (general)              222\n",
       "minor without proper parental care                        212\n",
       "abandonment of child                                      197\n",
       "failure to provide for child                               81\n",
       "immoral acts or drunk in presence of child                 37\n",
       "concealment/removal of child without consent               27\n",
       "failure to provide for parents                              3\n",
       "harassing child or ward because of person's employment      1\n",
       "Name: descript, dtype: int64"
      ]
     },
     "execution_count": 80,
     "metadata": {},
     "output_type": "execute_result"
    }
   ],
   "source": [
    "sf_data[sf_data['category']=='family offenses']['descript'].value_counts()"
   ]
  },
  {
   "cell_type": "markdown",
   "metadata": {},
   "source": [
    "### Assign a Crime level and if Weather related to each catagory\n",
    "- First number is the crime level in the range 1-4 : Higher number is more violent\n",
    "- Second number (0/1) indicates if I believe the crime would be effected by the weather"
   ]
  },
  {
   "cell_type": "code",
   "execution_count": 81,
   "metadata": {
    "collapsed": false
   },
   "outputs": [],
   "source": [
    "levels = {'larceny/theft' : [2,0],                \n",
    "          'other offenses' : [1,0],                 \n",
    "          'non-criminal' : [1,0],\n",
    "          'assault' :  [4,1],                        \n",
    "          'vehicle theft' : [2,0],                 \n",
    "          'drug/narcotic' : [2,0],                 \n",
    "          'vandalism' : [2,1],                       \n",
    "          'warrants' : [1,0],                        \n",
    "          'burglary' : [2,0],                        \n",
    "          'suspicious occ' : [2,0],                 \n",
    "          'missing person' : [1,0],                 \n",
    "          'robbery' : [2,1],                         \n",
    "          'fraud' : [2,0],                          \n",
    "          'forgery/counterfeiting' : [2,0],         \n",
    "          'secondary codes' :  [4,1],              \n",
    "          'weapon laws' :  [3,1],                    \n",
    "          'trespass' :  [2,0],                       \n",
    "          'prostitution' :  [2,0],                  \n",
    "          'stolen property' :  [2,0],                 \n",
    "          'sex offenses, forcible' : [4,1],          \n",
    "          'drunkenness' :  [2,1],                     \n",
    "          'disorderly conduct'  : [3,1],              \n",
    "          'recovered vehicle' :  [1,0],              \n",
    "          'driving under the influence' :  [1,0],      \n",
    "          'kidnapping' :  [3,0],                      \n",
    "          'runaway' :  [1,0],                          \n",
    "          'liquor laws' : [1,0],                     \n",
    "          'arson' : [3,1],                           \n",
    "          'embezzlement' : [1,0],                    \n",
    "          'loitering' : [1,0],                      \n",
    "          'suicide' :  [1,1],                         \n",
    "          'family offenses' : [3,1],                  \n",
    "          'bad checks' : [1,0],                 \n",
    "          'bribery' : [1,0],                          \n",
    "          'extortion' : [2,0],                        \n",
    "          'sex offenses, non forcible' : [2,1],       \n",
    "          'gambling' : [1,0],                          \n",
    "          'pornography/obscene mat' : [2,0],          \n",
    "          'trea' : [1,0]}"
   ]
  },
  {
   "cell_type": "markdown",
   "metadata": {},
   "source": [
    "### Create new crime variables 'crime_level' and 'weather_crime' from the above mapping"
   ]
  },
  {
   "cell_type": "code",
   "execution_count": 82,
   "metadata": {
    "collapsed": false
   },
   "outputs": [],
   "source": [
    "sf_data['crime_level'] = sf_data['category'].map(lambda x : levels[x][0])\n",
    "sf_data['weather_crime'] = sf_data['category'].map(lambda x : levels[x][1])\n",
    "\n"
   ]
  },
  {
   "cell_type": "markdown",
   "metadata": {},
   "source": [
    "### Create new crime variable 'cop' (Crime Of Passion) based on incidents containing the following list of words\n",
    "- Words were selected from reviewing the incident descriptions looking for words that are more violent or could be triggered by emotions"
   ]
  },
  {
   "cell_type": "code",
   "execution_count": 83,
   "metadata": {
    "collapsed": true
   },
   "outputs": [],
   "source": [
    "cop_words = ['assault', 'battery', 'drunk', 'abuse', 'forced', 'rape', 'shooting',\n",
    "           'violence', 'harassing', 'threat', 'threatening', 'threats', 'resist', 'resisting',\n",
    "           'destruction', 'weapons', 'gun', 'knife', 'armed', 'deadly', 'drunkenness',\n",
    "           'bomb', 'bombing', 'influence', 'looting', 'disorderly', 'force', 'forcible',\n",
    "           'fighting', 'injuries', 'nuisance', 'homicide', 'alcohol', 'rape', 'mayhem',\n",
    "           'abuse', 'cruelty', 'lewd', 'molest', 'disturbing']\n",
    "       "
   ]
  },
  {
   "cell_type": "code",
   "execution_count": 84,
   "metadata": {
    "collapsed": false
   },
   "outputs": [
    {
     "data": {
      "text/plain": [
       "False    1529569\n",
       "True      289538\n",
       "Name: COP, dtype: int64"
      ]
     },
     "execution_count": 84,
     "metadata": {},
     "output_type": "execute_result"
    }
   ],
   "source": [
    "sf_data['COP'] = sf_data['descript'].apply(lambda x: any(word in x for word in cop_words) )\n",
    "sf_data['COP'].value_counts()\n",
    "\n"
   ]
  },
  {
   "cell_type": "markdown",
   "metadata": {},
   "source": [
    "### Create new crime variable 'violant' for incidents in the categories assault, rape, domestic violence"
   ]
  },
  {
   "cell_type": "code",
   "execution_count": 85,
   "metadata": {
    "collapsed": false
   },
   "outputs": [
    {
     "data": {
      "text/plain": [
       "False    1629723\n",
       "True      189384\n",
       "Name: violent, dtype: int64"
      ]
     },
     "execution_count": 85,
     "metadata": {},
     "output_type": "execute_result"
    }
   ],
   "source": [
    "violent_cats = ['assault', 'sex offenses, forcible', 'secondary codes']\n",
    "sf_data['violent'] = sf_data['category'].apply(lambda x: x in violent_cats)\n",
    "sf_data['violent'].value_counts()"
   ]
  },
  {
   "cell_type": "markdown",
   "metadata": {},
   "source": [
    "### Create new crime variable southern_assaults\n",
    "Just the assault incidents from the Southern Police District"
   ]
  },
  {
   "cell_type": "code",
   "execution_count": 86,
   "metadata": {
    "collapsed": false
   },
   "outputs": [
    {
     "data": {
      "text/html": [
       "<div>\n",
       "<table border=\"1\" class=\"dataframe\">\n",
       "  <thead>\n",
       "    <tr style=\"text-align: right;\">\n",
       "      <th></th>\n",
       "      <th>pdid</th>\n",
       "    </tr>\n",
       "    <tr>\n",
       "      <th>pddistrict</th>\n",
       "      <th></th>\n",
       "    </tr>\n",
       "  </thead>\n",
       "  <tbody>\n",
       "    <tr>\n",
       "      <th>SOUTHERN</th>\n",
       "      <td>25263</td>\n",
       "    </tr>\n",
       "    <tr>\n",
       "      <th>MISSION</th>\n",
       "      <td>23184</td>\n",
       "    </tr>\n",
       "    <tr>\n",
       "      <th>BAYVIEW</th>\n",
       "      <td>20324</td>\n",
       "    </tr>\n",
       "    <tr>\n",
       "      <th>INGLESIDE</th>\n",
       "      <td>18189</td>\n",
       "    </tr>\n",
       "    <tr>\n",
       "      <th>NORTHERN</th>\n",
       "      <td>17303</td>\n",
       "    </tr>\n",
       "    <tr>\n",
       "      <th>TENDERLOIN</th>\n",
       "      <td>16135</td>\n",
       "    </tr>\n",
       "    <tr>\n",
       "      <th>CENTRAL</th>\n",
       "      <td>14636</td>\n",
       "    </tr>\n",
       "    <tr>\n",
       "      <th>TARAVAL</th>\n",
       "      <td>11268</td>\n",
       "    </tr>\n",
       "    <tr>\n",
       "      <th>PARK</th>\n",
       "      <td>7247</td>\n",
       "    </tr>\n",
       "    <tr>\n",
       "      <th>RICHMOND</th>\n",
       "      <td>6597</td>\n",
       "    </tr>\n",
       "  </tbody>\n",
       "</table>\n",
       "</div>"
      ],
      "text/plain": [
       "             pdid\n",
       "pddistrict       \n",
       "SOUTHERN    25263\n",
       "MISSION     23184\n",
       "BAYVIEW     20324\n",
       "INGLESIDE   18189\n",
       "NORTHERN    17303\n",
       "TENDERLOIN  16135\n",
       "CENTRAL     14636\n",
       "TARAVAL     11268\n",
       "PARK         7247\n",
       "RICHMOND     6597"
      ]
     },
     "execution_count": 86,
     "metadata": {},
     "output_type": "execute_result"
    }
   ],
   "source": [
    "sf_data[sf_data['category']== 'assault'].groupby(['pddistrict'])[['pdid']].count().sort_values('pdid', ascending=False)"
   ]
  },
  {
   "cell_type": "code",
   "execution_count": 62,
   "metadata": {
    "collapsed": false
   },
   "outputs": [],
   "source": [
    "#sf_data['southern_assaults'] = sf_data[['category','pddistrict']].apply(lambda x, y: (x=='assault') & (y=='SOUTHERN'), axis=1)\n",
    "\n",
    "#df[['one','two']].apply(sum, axis=1)\n",
    "\n",
    "#sf_data['southern_assaults'] = np.any((sf_data['category']=='assault') , (sf_data['pddistrict']=='SOUTHERN'))\n",
    "#sf_data['southern_assaults'].value_counts()"
   ]
  },
  {
   "cell_type": "markdown",
   "metadata": {},
   "source": [
    "### Create new crime variable 'gun' for incidents where a Gun was used\n",
    "- Just wanted to know\n",
    "- May be useful for other analysis"
   ]
  },
  {
   "cell_type": "code",
   "execution_count": 88,
   "metadata": {
    "collapsed": false
   },
   "outputs": [
    {
     "data": {
      "text/plain": [
       "False    1803322\n",
       "True       15785\n",
       "Name: gun, dtype: int64"
      ]
     },
     "execution_count": 88,
     "metadata": {},
     "output_type": "execute_result"
    }
   ],
   "source": [
    "sf_data['gun'] = sf_data['descript'].apply(lambda x: x.find('gun') != -1 )\n",
    "sf_data['gun'].value_counts()\n"
   ]
  },
  {
   "cell_type": "code",
   "execution_count": 89,
   "metadata": {
    "collapsed": false
   },
   "outputs": [
    {
     "data": {
      "text/html": [
       "<div>\n",
       "<table border=\"1\" class=\"dataframe\">\n",
       "  <thead>\n",
       "    <tr style=\"text-align: right;\">\n",
       "      <th></th>\n",
       "      <th>category</th>\n",
       "      <th>descript</th>\n",
       "      <th>dayofweek</th>\n",
       "      <th>date</th>\n",
       "      <th>time</th>\n",
       "      <th>pddistrict</th>\n",
       "      <th>resolution</th>\n",
       "      <th>address</th>\n",
       "      <th>x</th>\n",
       "      <th>y</th>\n",
       "      <th>...</th>\n",
       "      <th>hour</th>\n",
       "      <th>month</th>\n",
       "      <th>day</th>\n",
       "      <th>year</th>\n",
       "      <th>shift</th>\n",
       "      <th>gun</th>\n",
       "      <th>crime_level</th>\n",
       "      <th>weather_crime</th>\n",
       "      <th>COP</th>\n",
       "      <th>violent</th>\n",
       "    </tr>\n",
       "    <tr>\n",
       "      <th>IncidntNum</th>\n",
       "      <th></th>\n",
       "      <th></th>\n",
       "      <th></th>\n",
       "      <th></th>\n",
       "      <th></th>\n",
       "      <th></th>\n",
       "      <th></th>\n",
       "      <th></th>\n",
       "      <th></th>\n",
       "      <th></th>\n",
       "      <th></th>\n",
       "      <th></th>\n",
       "      <th></th>\n",
       "      <th></th>\n",
       "      <th></th>\n",
       "      <th></th>\n",
       "      <th></th>\n",
       "      <th></th>\n",
       "      <th></th>\n",
       "      <th></th>\n",
       "      <th></th>\n",
       "    </tr>\n",
       "  </thead>\n",
       "  <tbody>\n",
       "    <tr>\n",
       "      <th>160051264</th>\n",
       "      <td>warrants</td>\n",
       "      <td>warrant arrest</td>\n",
       "      <td>monday</td>\n",
       "      <td>2016-01-18</td>\n",
       "      <td>23:52</td>\n",
       "      <td>CENTRAL</td>\n",
       "      <td>ARREST, BOOKED</td>\n",
       "      <td>400 Block of POWELL ST</td>\n",
       "      <td>-122.408568</td>\n",
       "      <td>37.788759</td>\n",
       "      <td>...</td>\n",
       "      <td>23</td>\n",
       "      <td>1</td>\n",
       "      <td>18</td>\n",
       "      <td>2016</td>\n",
       "      <td>shift_2</td>\n",
       "      <td>False</td>\n",
       "      <td>1</td>\n",
       "      <td>0</td>\n",
       "      <td>False</td>\n",
       "      <td>False</td>\n",
       "    </tr>\n",
       "    <tr>\n",
       "      <th>160051242</th>\n",
       "      <td>robbery</td>\n",
       "      <td>robbery, bodily force</td>\n",
       "      <td>monday</td>\n",
       "      <td>2016-01-18</td>\n",
       "      <td>23:40</td>\n",
       "      <td>TENDERLOIN</td>\n",
       "      <td>NONE</td>\n",
       "      <td>100 Block of STOCKTON ST</td>\n",
       "      <td>-122.406428</td>\n",
       "      <td>37.787109</td>\n",
       "      <td>...</td>\n",
       "      <td>23</td>\n",
       "      <td>1</td>\n",
       "      <td>18</td>\n",
       "      <td>2016</td>\n",
       "      <td>shift_2</td>\n",
       "      <td>False</td>\n",
       "      <td>2</td>\n",
       "      <td>1</td>\n",
       "      <td>True</td>\n",
       "      <td>False</td>\n",
       "    </tr>\n",
       "  </tbody>\n",
       "</table>\n",
       "<p>2 rows × 22 columns</p>\n",
       "</div>"
      ],
      "text/plain": [
       "            category               descript dayofweek       date   time  \\\n",
       "IncidntNum                                                                \n",
       "160051264   warrants         warrant arrest    monday 2016-01-18  23:52   \n",
       "160051242    robbery  robbery, bodily force    monday 2016-01-18  23:40   \n",
       "\n",
       "            pddistrict      resolution                   address           x  \\\n",
       "IncidntNum                                                                     \n",
       "160051264      CENTRAL  ARREST, BOOKED    400 Block of POWELL ST -122.408568   \n",
       "160051242   TENDERLOIN            NONE  100 Block of STOCKTON ST -122.406428   \n",
       "\n",
       "                    y   ...    hour  month  day  year    shift    gun  \\\n",
       "IncidntNum              ...                                             \n",
       "160051264   37.788759   ...      23      1   18  2016  shift_2  False   \n",
       "160051242   37.787109   ...      23      1   18  2016  shift_2  False   \n",
       "\n",
       "           crime_level weather_crime    COP  violent  \n",
       "IncidntNum                                            \n",
       "160051264            1             0  False    False  \n",
       "160051242            2             1   True    False  \n",
       "\n",
       "[2 rows x 22 columns]"
      ]
     },
     "execution_count": 89,
     "metadata": {},
     "output_type": "execute_result"
    }
   ],
   "source": [
    "sf_data.head(2)"
   ]
  },
  {
   "cell_type": "markdown",
   "metadata": {
    "collapsed": true
   },
   "source": [
    "## Consolidate into daily records\n",
    "[[back to top](#Sections)]\n",
    "\n",
    "Group the incidents by day and count the Number of incidents and the sum of the crime_level"
   ]
  },
  {
   "cell_type": "markdown",
   "metadata": {
    "collapsed": false
   },
   "source": [
    "### Group by the day\n",
    "- Aggregate by the sum and count for my measuring variables\n",
    "- To group by day and shift, uncomment code marked #SHIFT"
   ]
  },
  {
   "cell_type": "code",
   "execution_count": 90,
   "metadata": {
    "collapsed": false
   },
   "outputs": [
    {
     "data": {
      "text/html": [
       "<div>\n",
       "<table border=\"1\" class=\"dataframe\">\n",
       "  <thead>\n",
       "    <tr>\n",
       "      <th></th>\n",
       "      <th colspan=\"2\" halign=\"left\">crime_level</th>\n",
       "      <th colspan=\"2\" halign=\"left\">weather_crime</th>\n",
       "      <th colspan=\"2\" halign=\"left\">violent</th>\n",
       "      <th colspan=\"2\" halign=\"left\">COP</th>\n",
       "      <th colspan=\"2\" halign=\"left\">gun</th>\n",
       "    </tr>\n",
       "    <tr>\n",
       "      <th></th>\n",
       "      <th>sum</th>\n",
       "      <th>count</th>\n",
       "      <th>sum</th>\n",
       "      <th>count</th>\n",
       "      <th>sum</th>\n",
       "      <th>count</th>\n",
       "      <th>sum</th>\n",
       "      <th>count</th>\n",
       "      <th>sum</th>\n",
       "      <th>count</th>\n",
       "    </tr>\n",
       "    <tr>\n",
       "      <th>date</th>\n",
       "      <th></th>\n",
       "      <th></th>\n",
       "      <th></th>\n",
       "      <th></th>\n",
       "      <th></th>\n",
       "      <th></th>\n",
       "      <th></th>\n",
       "      <th></th>\n",
       "      <th></th>\n",
       "      <th></th>\n",
       "    </tr>\n",
       "  </thead>\n",
       "  <tbody>\n",
       "    <tr>\n",
       "      <th>2003-01-01</th>\n",
       "      <td>1078</td>\n",
       "      <td>541</td>\n",
       "      <td>143</td>\n",
       "      <td>541</td>\n",
       "      <td>91</td>\n",
       "      <td>541</td>\n",
       "      <td>134</td>\n",
       "      <td>541</td>\n",
       "      <td>5</td>\n",
       "      <td>541</td>\n",
       "    </tr>\n",
       "    <tr>\n",
       "      <th>2003-01-02</th>\n",
       "      <td>731</td>\n",
       "      <td>399</td>\n",
       "      <td>72</td>\n",
       "      <td>399</td>\n",
       "      <td>39</td>\n",
       "      <td>399</td>\n",
       "      <td>53</td>\n",
       "      <td>399</td>\n",
       "      <td>1</td>\n",
       "      <td>399</td>\n",
       "    </tr>\n",
       "    <tr>\n",
       "      <th>2003-01-03</th>\n",
       "      <td>802</td>\n",
       "      <td>435</td>\n",
       "      <td>84</td>\n",
       "      <td>435</td>\n",
       "      <td>42</td>\n",
       "      <td>435</td>\n",
       "      <td>65</td>\n",
       "      <td>435</td>\n",
       "      <td>0</td>\n",
       "      <td>435</td>\n",
       "    </tr>\n",
       "    <tr>\n",
       "      <th>2003-01-04</th>\n",
       "      <td>678</td>\n",
       "      <td>347</td>\n",
       "      <td>65</td>\n",
       "      <td>347</td>\n",
       "      <td>44</td>\n",
       "      <td>347</td>\n",
       "      <td>59</td>\n",
       "      <td>347</td>\n",
       "      <td>3</td>\n",
       "      <td>347</td>\n",
       "    </tr>\n",
       "    <tr>\n",
       "      <th>2003-01-05</th>\n",
       "      <td>749</td>\n",
       "      <td>371</td>\n",
       "      <td>101</td>\n",
       "      <td>371</td>\n",
       "      <td>49</td>\n",
       "      <td>371</td>\n",
       "      <td>72</td>\n",
       "      <td>371</td>\n",
       "      <td>2</td>\n",
       "      <td>371</td>\n",
       "    </tr>\n",
       "  </tbody>\n",
       "</table>\n",
       "</div>"
      ],
      "text/plain": [
       "           crime_level       weather_crime       violent        COP       gun  \\\n",
       "                   sum count           sum count     sum count  sum count sum   \n",
       "date                                                                            \n",
       "2003-01-01        1078   541           143   541      91   541  134   541   5   \n",
       "2003-01-02         731   399            72   399      39   399   53   399   1   \n",
       "2003-01-03         802   435            84   435      42   435   65   435   0   \n",
       "2003-01-04         678   347            65   347      44   347   59   347   3   \n",
       "2003-01-05         749   371           101   371      49   371   72   371   2   \n",
       "\n",
       "                  \n",
       "           count  \n",
       "date              \n",
       "2003-01-01   541  \n",
       "2003-01-02   399  \n",
       "2003-01-03   435  \n",
       "2003-01-04   347  \n",
       "2003-01-05   371  "
      ]
     },
     "execution_count": 90,
     "metadata": {},
     "output_type": "execute_result"
    }
   ],
   "source": [
    "day_group = sf_data.groupby(['date'])[['crime_level','weather_crime', 'violent', 'COP', 'gun']].agg(['sum', 'count'])\n",
    "\n",
    "\n",
    "#SHIFT day_group = sf_data.groupby(['date','shift'])[['crime_level']].agg(['sum', 'count'])\n",
    "day_group.head()"
   ]
  },
  {
   "cell_type": "code",
   "execution_count": 91,
   "metadata": {
    "collapsed": false
   },
   "outputs": [],
   "source": [
    "# unstack to bring shift from rows to columns\n",
    "#SHIFT day_group = day_group.unstack(level=-1)\n",
    "#SHIFT day_group.head()"
   ]
  },
  {
   "cell_type": "code",
   "execution_count": 92,
   "metadata": {
    "collapsed": false
   },
   "outputs": [
    {
     "data": {
      "text/plain": [
       "array([('crime_level', 'sum'), ('crime_level', 'count'),\n",
       "       ('weather_crime', 'sum'), ('weather_crime', 'count'),\n",
       "       ('violent', 'sum'), ('violent', 'count'), ('COP', 'sum'),\n",
       "       ('COP', 'count'), ('gun', 'sum'), ('gun', 'count')], dtype=object)"
      ]
     },
     "execution_count": 92,
     "metadata": {},
     "output_type": "execute_result"
    }
   ],
   "source": [
    "day_group.columns.values"
   ]
  },
  {
   "cell_type": "code",
   "execution_count": 93,
   "metadata": {
    "collapsed": false
   },
   "outputs": [
    {
     "data": {
      "text/html": [
       "<div>\n",
       "<table border=\"1\" class=\"dataframe\">\n",
       "  <thead>\n",
       "    <tr style=\"text-align: right;\">\n",
       "      <th></th>\n",
       "      <th>crime_level_sum</th>\n",
       "      <th>crime_level_count</th>\n",
       "      <th>weather_crime_sum</th>\n",
       "      <th>weather_crime_count</th>\n",
       "      <th>violent_sum</th>\n",
       "      <th>violent_count</th>\n",
       "      <th>COP_sum</th>\n",
       "      <th>COP_count</th>\n",
       "      <th>gun_sum</th>\n",
       "      <th>gun_count</th>\n",
       "    </tr>\n",
       "    <tr>\n",
       "      <th>date</th>\n",
       "      <th></th>\n",
       "      <th></th>\n",
       "      <th></th>\n",
       "      <th></th>\n",
       "      <th></th>\n",
       "      <th></th>\n",
       "      <th></th>\n",
       "      <th></th>\n",
       "      <th></th>\n",
       "      <th></th>\n",
       "    </tr>\n",
       "  </thead>\n",
       "  <tbody>\n",
       "    <tr>\n",
       "      <th>2003-01-01</th>\n",
       "      <td>1078</td>\n",
       "      <td>541</td>\n",
       "      <td>143</td>\n",
       "      <td>541</td>\n",
       "      <td>91</td>\n",
       "      <td>541</td>\n",
       "      <td>134</td>\n",
       "      <td>541</td>\n",
       "      <td>5</td>\n",
       "      <td>541</td>\n",
       "    </tr>\n",
       "    <tr>\n",
       "      <th>2003-01-02</th>\n",
       "      <td>731</td>\n",
       "      <td>399</td>\n",
       "      <td>72</td>\n",
       "      <td>399</td>\n",
       "      <td>39</td>\n",
       "      <td>399</td>\n",
       "      <td>53</td>\n",
       "      <td>399</td>\n",
       "      <td>1</td>\n",
       "      <td>399</td>\n",
       "    </tr>\n",
       "  </tbody>\n",
       "</table>\n",
       "</div>"
      ],
      "text/plain": [
       "            crime_level_sum  crime_level_count  weather_crime_sum  \\\n",
       "date                                                                \n",
       "2003-01-01             1078                541                143   \n",
       "2003-01-02              731                399                 72   \n",
       "\n",
       "            weather_crime_count  violent_sum  violent_count  COP_sum  \\\n",
       "date                                                                   \n",
       "2003-01-01                  541           91            541      134   \n",
       "2003-01-02                  399           39            399       53   \n",
       "\n",
       "            COP_count  gun_sum  gun_count  \n",
       "date                                       \n",
       "2003-01-01        541        5        541  \n",
       "2003-01-02        399        1        399  "
      ]
     },
     "execution_count": 93,
     "metadata": {},
     "output_type": "execute_result"
    }
   ],
   "source": [
    "# Reduce column levels\n",
    "day_group.columns = ['_'.join(col).strip() for col in day_group.columns.values]\n",
    "day_group.head(2)"
   ]
  },
  {
   "cell_type": "code",
   "execution_count": 94,
   "metadata": {
    "collapsed": true
   },
   "outputs": [],
   "source": [
    "# drop the weather_crime_count and other count fields - they are just the count of all records\n",
    "day_group.drop(['weather_crime_count', 'COP_count', 'gun_count', 'violent_count'], axis=1, inplace=True)"
   ]
  },
  {
   "cell_type": "code",
   "execution_count": 95,
   "metadata": {
    "collapsed": false
   },
   "outputs": [
    {
     "data": {
      "text/html": [
       "<div>\n",
       "<table border=\"1\" class=\"dataframe\">\n",
       "  <thead>\n",
       "    <tr style=\"text-align: right;\">\n",
       "      <th></th>\n",
       "      <th>crime_level_sum</th>\n",
       "      <th>crime_count</th>\n",
       "      <th>weather_crime_count</th>\n",
       "      <th>violent_count</th>\n",
       "      <th>COP_count</th>\n",
       "      <th>gun_crime_count</th>\n",
       "    </tr>\n",
       "    <tr>\n",
       "      <th>date</th>\n",
       "      <th></th>\n",
       "      <th></th>\n",
       "      <th></th>\n",
       "      <th></th>\n",
       "      <th></th>\n",
       "      <th></th>\n",
       "    </tr>\n",
       "  </thead>\n",
       "  <tbody>\n",
       "    <tr>\n",
       "      <th>2003-01-01</th>\n",
       "      <td>1078</td>\n",
       "      <td>541</td>\n",
       "      <td>143</td>\n",
       "      <td>91</td>\n",
       "      <td>134</td>\n",
       "      <td>5</td>\n",
       "    </tr>\n",
       "    <tr>\n",
       "      <th>2003-01-02</th>\n",
       "      <td>731</td>\n",
       "      <td>399</td>\n",
       "      <td>72</td>\n",
       "      <td>39</td>\n",
       "      <td>53</td>\n",
       "      <td>1</td>\n",
       "    </tr>\n",
       "  </tbody>\n",
       "</table>\n",
       "</div>"
      ],
      "text/plain": [
       "            crime_level_sum  crime_count  weather_crime_count  violent_count  \\\n",
       "date                                                                           \n",
       "2003-01-01             1078          541                  143             91   \n",
       "2003-01-02              731          399                   72             39   \n",
       "\n",
       "            COP_count  gun_crime_count  \n",
       "date                                    \n",
       "2003-01-01        134                5  \n",
       "2003-01-02         53                1  "
      ]
     },
     "execution_count": 95,
     "metadata": {},
     "output_type": "execute_result"
    }
   ],
   "source": [
    "# Rename columns to avoid confusion\n",
    "cols = ['crime_level_sum', 'crime_count', 'weather_crime_count', 'violent_count', 'COP_count', 'gun_crime_count']\n",
    "day_group.columns = cols\n",
    "day_group.head(2)"
   ]
  },
  {
   "cell_type": "code",
   "execution_count": 96,
   "metadata": {
    "collapsed": false
   },
   "outputs": [],
   "source": [
    "# Sum up the 3 shift info into day totals\n",
    "#SHIFT day_group['crime_level_sum_day'] = day_group['crime_level_sum_shift_1'] + \n",
    "#                                   day_group['crime_level_sum_shift_2'] + \n",
    "#                                   day_group['crime_level_sum_shift_3']\n",
    "#day_group['crime_level_count_day'] = day_group['crime_level_count_shift_1'] + \n",
    "#                                     day_group['crime_level_count_shift_2'] + \n",
    "#                                     day_group['crime_level_count_shift_3']        \n",
    "#day_group.head(2)"
   ]
  },
  {
   "cell_type": "markdown",
   "metadata": {},
   "source": [
    "## Add in the other fields that are not crime rate\n",
    "Features that are needed for further analysis\n",
    "- day, month, year and dayofweek"
   ]
  },
  {
   "cell_type": "code",
   "execution_count": 97,
   "metadata": {
    "collapsed": false
   },
   "outputs": [
    {
     "data": {
      "text/html": [
       "<div>\n",
       "<table border=\"1\" class=\"dataframe\">\n",
       "  <thead>\n",
       "    <tr style=\"text-align: right;\">\n",
       "      <th></th>\n",
       "      <th>dayofweek</th>\n",
       "      <th>day</th>\n",
       "      <th>month</th>\n",
       "      <th>year</th>\n",
       "    </tr>\n",
       "    <tr>\n",
       "      <th>date</th>\n",
       "      <th></th>\n",
       "      <th></th>\n",
       "      <th></th>\n",
       "      <th></th>\n",
       "    </tr>\n",
       "  </thead>\n",
       "  <tbody>\n",
       "    <tr>\n",
       "      <th>2003-01-01</th>\n",
       "      <td>wednesday</td>\n",
       "      <td>1</td>\n",
       "      <td>1</td>\n",
       "      <td>2003</td>\n",
       "    </tr>\n",
       "    <tr>\n",
       "      <th>2003-01-02</th>\n",
       "      <td>thursday</td>\n",
       "      <td>2</td>\n",
       "      <td>1</td>\n",
       "      <td>2003</td>\n",
       "    </tr>\n",
       "    <tr>\n",
       "      <th>2003-01-03</th>\n",
       "      <td>friday</td>\n",
       "      <td>3</td>\n",
       "      <td>1</td>\n",
       "      <td>2003</td>\n",
       "    </tr>\n",
       "    <tr>\n",
       "      <th>2003-01-04</th>\n",
       "      <td>saturday</td>\n",
       "      <td>4</td>\n",
       "      <td>1</td>\n",
       "      <td>2003</td>\n",
       "    </tr>\n",
       "    <tr>\n",
       "      <th>2003-01-05</th>\n",
       "      <td>sunday</td>\n",
       "      <td>5</td>\n",
       "      <td>1</td>\n",
       "      <td>2003</td>\n",
       "    </tr>\n",
       "  </tbody>\n",
       "</table>\n",
       "</div>"
      ],
      "text/plain": [
       "            dayofweek  day  month  year\n",
       "date                                   \n",
       "2003-01-01  wednesday    1      1  2003\n",
       "2003-01-02   thursday    2      1  2003\n",
       "2003-01-03     friday    3      1  2003\n",
       "2003-01-04   saturday    4      1  2003\n",
       "2003-01-05     sunday    5      1  2003"
      ]
     },
     "execution_count": 97,
     "metadata": {},
     "output_type": "execute_result"
    }
   ],
   "source": [
    "day_group_static = sf_data.groupby(['date'])[['dayofweek','day', 'month', 'year']].min()\n",
    "day_group_static.head()"
   ]
  },
  {
   "cell_type": "markdown",
   "metadata": {},
   "source": [
    "### Merge the two data Frames "
   ]
  },
  {
   "cell_type": "code",
   "execution_count": 98,
   "metadata": {
    "collapsed": false
   },
   "outputs": [
    {
     "data": {
      "text/html": [
       "<div>\n",
       "<table border=\"1\" class=\"dataframe\">\n",
       "  <thead>\n",
       "    <tr style=\"text-align: right;\">\n",
       "      <th></th>\n",
       "      <th>crime_level_sum</th>\n",
       "      <th>crime_count</th>\n",
       "      <th>weather_crime_count</th>\n",
       "      <th>violent_count</th>\n",
       "      <th>COP_count</th>\n",
       "      <th>gun_crime_count</th>\n",
       "      <th>dayofweek</th>\n",
       "      <th>day</th>\n",
       "      <th>month</th>\n",
       "      <th>year</th>\n",
       "    </tr>\n",
       "    <tr>\n",
       "      <th>date</th>\n",
       "      <th></th>\n",
       "      <th></th>\n",
       "      <th></th>\n",
       "      <th></th>\n",
       "      <th></th>\n",
       "      <th></th>\n",
       "      <th></th>\n",
       "      <th></th>\n",
       "      <th></th>\n",
       "      <th></th>\n",
       "    </tr>\n",
       "  </thead>\n",
       "  <tbody>\n",
       "    <tr>\n",
       "      <th>2003-01-01</th>\n",
       "      <td>1078</td>\n",
       "      <td>541</td>\n",
       "      <td>143</td>\n",
       "      <td>91</td>\n",
       "      <td>134</td>\n",
       "      <td>5</td>\n",
       "      <td>wednesday</td>\n",
       "      <td>1</td>\n",
       "      <td>1</td>\n",
       "      <td>2003</td>\n",
       "    </tr>\n",
       "    <tr>\n",
       "      <th>2003-01-02</th>\n",
       "      <td>731</td>\n",
       "      <td>399</td>\n",
       "      <td>72</td>\n",
       "      <td>39</td>\n",
       "      <td>53</td>\n",
       "      <td>1</td>\n",
       "      <td>thursday</td>\n",
       "      <td>2</td>\n",
       "      <td>1</td>\n",
       "      <td>2003</td>\n",
       "    </tr>\n",
       "    <tr>\n",
       "      <th>2003-01-03</th>\n",
       "      <td>802</td>\n",
       "      <td>435</td>\n",
       "      <td>84</td>\n",
       "      <td>42</td>\n",
       "      <td>65</td>\n",
       "      <td>0</td>\n",
       "      <td>friday</td>\n",
       "      <td>3</td>\n",
       "      <td>1</td>\n",
       "      <td>2003</td>\n",
       "    </tr>\n",
       "    <tr>\n",
       "      <th>2003-01-04</th>\n",
       "      <td>678</td>\n",
       "      <td>347</td>\n",
       "      <td>65</td>\n",
       "      <td>44</td>\n",
       "      <td>59</td>\n",
       "      <td>3</td>\n",
       "      <td>saturday</td>\n",
       "      <td>4</td>\n",
       "      <td>1</td>\n",
       "      <td>2003</td>\n",
       "    </tr>\n",
       "    <tr>\n",
       "      <th>2003-01-05</th>\n",
       "      <td>749</td>\n",
       "      <td>371</td>\n",
       "      <td>101</td>\n",
       "      <td>49</td>\n",
       "      <td>72</td>\n",
       "      <td>2</td>\n",
       "      <td>sunday</td>\n",
       "      <td>5</td>\n",
       "      <td>1</td>\n",
       "      <td>2003</td>\n",
       "    </tr>\n",
       "  </tbody>\n",
       "</table>\n",
       "</div>"
      ],
      "text/plain": [
       "            crime_level_sum  crime_count  weather_crime_count  violent_count  \\\n",
       "date                                                                           \n",
       "2003-01-01             1078          541                  143             91   \n",
       "2003-01-02              731          399                   72             39   \n",
       "2003-01-03              802          435                   84             42   \n",
       "2003-01-04              678          347                   65             44   \n",
       "2003-01-05              749          371                  101             49   \n",
       "\n",
       "            COP_count  gun_crime_count  dayofweek  day  month  year  \n",
       "date                                                                 \n",
       "2003-01-01        134                5  wednesday    1      1  2003  \n",
       "2003-01-02         53                1   thursday    2      1  2003  \n",
       "2003-01-03         65                0     friday    3      1  2003  \n",
       "2003-01-04         59                3   saturday    4      1  2003  \n",
       "2003-01-05         72                2     sunday    5      1  2003  "
      ]
     },
     "execution_count": 98,
     "metadata": {},
     "output_type": "execute_result"
    }
   ],
   "source": [
    "data = pd.concat([day_group, day_group_static], axis=1, join_axes=[day_group.index])\n",
    "data.head()"
   ]
  },
  {
   "cell_type": "markdown",
   "metadata": {},
   "source": [
    "### Review Data"
   ]
  },
  {
   "cell_type": "code",
   "execution_count": 99,
   "metadata": {
    "collapsed": false
   },
   "outputs": [
    {
     "data": {
      "text/html": [
       "<div>\n",
       "<table border=\"1\" class=\"dataframe\">\n",
       "  <thead>\n",
       "    <tr style=\"text-align: right;\">\n",
       "      <th></th>\n",
       "      <th>crime_level_sum</th>\n",
       "      <th>crime_count</th>\n",
       "      <th>weather_crime_count</th>\n",
       "      <th>violent_count</th>\n",
       "      <th>COP_count</th>\n",
       "      <th>gun_crime_count</th>\n",
       "      <th>day</th>\n",
       "      <th>month</th>\n",
       "      <th>year</th>\n",
       "    </tr>\n",
       "  </thead>\n",
       "  <tbody>\n",
       "    <tr>\n",
       "      <th>count</th>\n",
       "      <td>4765.000000</td>\n",
       "      <td>4765.000000</td>\n",
       "      <td>4765.000000</td>\n",
       "      <td>4765.000000</td>\n",
       "      <td>4765.000000</td>\n",
       "      <td>4765.000000</td>\n",
       "      <td>4765.000000</td>\n",
       "      <td>4765.000000</td>\n",
       "      <td>4765.000000</td>\n",
       "    </tr>\n",
       "    <tr>\n",
       "      <th>mean</th>\n",
       "      <td>720.142497</td>\n",
       "      <td>381.764323</td>\n",
       "      <td>77.894648</td>\n",
       "      <td>39.744806</td>\n",
       "      <td>60.763484</td>\n",
       "      <td>3.312697</td>\n",
       "      <td>15.706611</td>\n",
       "      <td>6.502413</td>\n",
       "      <td>2009.025813</td>\n",
       "    </tr>\n",
       "    <tr>\n",
       "      <th>std</th>\n",
       "      <td>88.978788</td>\n",
       "      <td>46.919233</td>\n",
       "      <td>13.966653</td>\n",
       "      <td>9.290960</td>\n",
       "      <td>11.326118</td>\n",
       "      <td>2.129817</td>\n",
       "      <td>8.798708</td>\n",
       "      <td>3.459470</td>\n",
       "      <td>3.759785</td>\n",
       "    </tr>\n",
       "    <tr>\n",
       "      <th>min</th>\n",
       "      <td>2.000000</td>\n",
       "      <td>2.000000</td>\n",
       "      <td>0.000000</td>\n",
       "      <td>0.000000</td>\n",
       "      <td>0.000000</td>\n",
       "      <td>0.000000</td>\n",
       "      <td>1.000000</td>\n",
       "      <td>1.000000</td>\n",
       "      <td>2003.000000</td>\n",
       "    </tr>\n",
       "    <tr>\n",
       "      <th>25%</th>\n",
       "      <td>662.000000</td>\n",
       "      <td>351.000000</td>\n",
       "      <td>68.000000</td>\n",
       "      <td>34.000000</td>\n",
       "      <td>53.000000</td>\n",
       "      <td>2.000000</td>\n",
       "      <td>8.000000</td>\n",
       "      <td>4.000000</td>\n",
       "      <td>2006.000000</td>\n",
       "    </tr>\n",
       "    <tr>\n",
       "      <th>50%</th>\n",
       "      <td>718.000000</td>\n",
       "      <td>381.000000</td>\n",
       "      <td>77.000000</td>\n",
       "      <td>39.000000</td>\n",
       "      <td>60.000000</td>\n",
       "      <td>3.000000</td>\n",
       "      <td>16.000000</td>\n",
       "      <td>7.000000</td>\n",
       "      <td>2009.000000</td>\n",
       "    </tr>\n",
       "    <tr>\n",
       "      <th>75%</th>\n",
       "      <td>775.000000</td>\n",
       "      <td>412.000000</td>\n",
       "      <td>86.000000</td>\n",
       "      <td>45.000000</td>\n",
       "      <td>68.000000</td>\n",
       "      <td>5.000000</td>\n",
       "      <td>23.000000</td>\n",
       "      <td>10.000000</td>\n",
       "      <td>2012.000000</td>\n",
       "    </tr>\n",
       "    <tr>\n",
       "      <th>max</th>\n",
       "      <td>1182.000000</td>\n",
       "      <td>579.000000</td>\n",
       "      <td>158.000000</td>\n",
       "      <td>91.000000</td>\n",
       "      <td>134.000000</td>\n",
       "      <td>16.000000</td>\n",
       "      <td>31.000000</td>\n",
       "      <td>12.000000</td>\n",
       "      <td>2016.000000</td>\n",
       "    </tr>\n",
       "  </tbody>\n",
       "</table>\n",
       "</div>"
      ],
      "text/plain": [
       "       crime_level_sum  crime_count  weather_crime_count  violent_count  \\\n",
       "count      4765.000000  4765.000000          4765.000000    4765.000000   \n",
       "mean        720.142497   381.764323            77.894648      39.744806   \n",
       "std          88.978788    46.919233            13.966653       9.290960   \n",
       "min           2.000000     2.000000             0.000000       0.000000   \n",
       "25%         662.000000   351.000000            68.000000      34.000000   \n",
       "50%         718.000000   381.000000            77.000000      39.000000   \n",
       "75%         775.000000   412.000000            86.000000      45.000000   \n",
       "max        1182.000000   579.000000           158.000000      91.000000   \n",
       "\n",
       "         COP_count  gun_crime_count          day        month         year  \n",
       "count  4765.000000      4765.000000  4765.000000  4765.000000  4765.000000  \n",
       "mean     60.763484         3.312697    15.706611     6.502413  2009.025813  \n",
       "std      11.326118         2.129817     8.798708     3.459470     3.759785  \n",
       "min       0.000000         0.000000     1.000000     1.000000  2003.000000  \n",
       "25%      53.000000         2.000000     8.000000     4.000000  2006.000000  \n",
       "50%      60.000000         3.000000    16.000000     7.000000  2009.000000  \n",
       "75%      68.000000         5.000000    23.000000    10.000000  2012.000000  \n",
       "max     134.000000        16.000000    31.000000    12.000000  2016.000000  "
      ]
     },
     "execution_count": 99,
     "metadata": {},
     "output_type": "execute_result"
    }
   ],
   "source": [
    "data.describe()"
   ]
  },
  {
   "cell_type": "markdown",
   "metadata": {},
   "source": [
    "#### minimum of 2 crimes looks bad"
   ]
  },
  {
   "cell_type": "code",
   "execution_count": 100,
   "metadata": {
    "collapsed": false
   },
   "outputs": [
    {
     "data": {
      "text/html": [
       "<div>\n",
       "<table border=\"1\" class=\"dataframe\">\n",
       "  <thead>\n",
       "    <tr style=\"text-align: right;\">\n",
       "      <th></th>\n",
       "      <th>crime_level_sum</th>\n",
       "      <th>crime_count</th>\n",
       "      <th>weather_crime_count</th>\n",
       "      <th>violent_count</th>\n",
       "      <th>COP_count</th>\n",
       "      <th>gun_crime_count</th>\n",
       "      <th>dayofweek</th>\n",
       "      <th>day</th>\n",
       "      <th>month</th>\n",
       "      <th>year</th>\n",
       "    </tr>\n",
       "    <tr>\n",
       "      <th>date</th>\n",
       "      <th></th>\n",
       "      <th></th>\n",
       "      <th></th>\n",
       "      <th></th>\n",
       "      <th></th>\n",
       "      <th></th>\n",
       "      <th></th>\n",
       "      <th></th>\n",
       "      <th></th>\n",
       "      <th></th>\n",
       "    </tr>\n",
       "  </thead>\n",
       "  <tbody>\n",
       "    <tr>\n",
       "      <th>2007-12-16</th>\n",
       "      <td>2</td>\n",
       "      <td>2</td>\n",
       "      <td>0</td>\n",
       "      <td>0</td>\n",
       "      <td>0</td>\n",
       "      <td>0</td>\n",
       "      <td>sunday</td>\n",
       "      <td>16</td>\n",
       "      <td>12</td>\n",
       "      <td>2007</td>\n",
       "    </tr>\n",
       "    <tr>\n",
       "      <th>2008-08-01</th>\n",
       "      <td>8</td>\n",
       "      <td>6</td>\n",
       "      <td>0</td>\n",
       "      <td>0</td>\n",
       "      <td>0</td>\n",
       "      <td>0</td>\n",
       "      <td>friday</td>\n",
       "      <td>1</td>\n",
       "      <td>8</td>\n",
       "      <td>2008</td>\n",
       "    </tr>\n",
       "    <tr>\n",
       "      <th>2013-12-25</th>\n",
       "      <td>306</td>\n",
       "      <td>148</td>\n",
       "      <td>39</td>\n",
       "      <td>20</td>\n",
       "      <td>27</td>\n",
       "      <td>2</td>\n",
       "      <td>wednesday</td>\n",
       "      <td>25</td>\n",
       "      <td>12</td>\n",
       "      <td>2013</td>\n",
       "    </tr>\n",
       "    <tr>\n",
       "      <th>2011-12-25</th>\n",
       "      <td>310</td>\n",
       "      <td>159</td>\n",
       "      <td>43</td>\n",
       "      <td>21</td>\n",
       "      <td>25</td>\n",
       "      <td>1</td>\n",
       "      <td>sunday</td>\n",
       "      <td>25</td>\n",
       "      <td>12</td>\n",
       "      <td>2011</td>\n",
       "    </tr>\n",
       "    <tr>\n",
       "      <th>2013-12-24</th>\n",
       "      <td>292</td>\n",
       "      <td>162</td>\n",
       "      <td>18</td>\n",
       "      <td>6</td>\n",
       "      <td>18</td>\n",
       "      <td>0</td>\n",
       "      <td>tuesday</td>\n",
       "      <td>24</td>\n",
       "      <td>12</td>\n",
       "      <td>2013</td>\n",
       "    </tr>\n",
       "    <tr>\n",
       "      <th>2010-12-25</th>\n",
       "      <td>346</td>\n",
       "      <td>171</td>\n",
       "      <td>46</td>\n",
       "      <td>32</td>\n",
       "      <td>32</td>\n",
       "      <td>0</td>\n",
       "      <td>saturday</td>\n",
       "      <td>25</td>\n",
       "      <td>12</td>\n",
       "      <td>2010</td>\n",
       "    </tr>\n",
       "    <tr>\n",
       "      <th>2013-12-23</th>\n",
       "      <td>378</td>\n",
       "      <td>184</td>\n",
       "      <td>46</td>\n",
       "      <td>25</td>\n",
       "      <td>47</td>\n",
       "      <td>1</td>\n",
       "      <td>monday</td>\n",
       "      <td>23</td>\n",
       "      <td>12</td>\n",
       "      <td>2013</td>\n",
       "    </tr>\n",
       "    <tr>\n",
       "      <th>2008-12-25</th>\n",
       "      <td>396</td>\n",
       "      <td>193</td>\n",
       "      <td>58</td>\n",
       "      <td>31</td>\n",
       "      <td>43</td>\n",
       "      <td>4</td>\n",
       "      <td>thursday</td>\n",
       "      <td>25</td>\n",
       "      <td>12</td>\n",
       "      <td>2008</td>\n",
       "    </tr>\n",
       "    <tr>\n",
       "      <th>2007-12-25</th>\n",
       "      <td>394</td>\n",
       "      <td>209</td>\n",
       "      <td>50</td>\n",
       "      <td>26</td>\n",
       "      <td>41</td>\n",
       "      <td>4</td>\n",
       "      <td>tuesday</td>\n",
       "      <td>25</td>\n",
       "      <td>12</td>\n",
       "      <td>2007</td>\n",
       "    </tr>\n",
       "    <tr>\n",
       "      <th>2011-11-24</th>\n",
       "      <td>379</td>\n",
       "      <td>212</td>\n",
       "      <td>44</td>\n",
       "      <td>22</td>\n",
       "      <td>39</td>\n",
       "      <td>2</td>\n",
       "      <td>thursday</td>\n",
       "      <td>24</td>\n",
       "      <td>11</td>\n",
       "      <td>2011</td>\n",
       "    </tr>\n",
       "  </tbody>\n",
       "</table>\n",
       "</div>"
      ],
      "text/plain": [
       "            crime_level_sum  crime_count  weather_crime_count  violent_count  \\\n",
       "date                                                                           \n",
       "2007-12-16                2            2                    0              0   \n",
       "2008-08-01                8            6                    0              0   \n",
       "2013-12-25              306          148                   39             20   \n",
       "2011-12-25              310          159                   43             21   \n",
       "2013-12-24              292          162                   18              6   \n",
       "2010-12-25              346          171                   46             32   \n",
       "2013-12-23              378          184                   46             25   \n",
       "2008-12-25              396          193                   58             31   \n",
       "2007-12-25              394          209                   50             26   \n",
       "2011-11-24              379          212                   44             22   \n",
       "\n",
       "            COP_count  gun_crime_count  dayofweek  day  month  year  \n",
       "date                                                                 \n",
       "2007-12-16          0                0     sunday   16     12  2007  \n",
       "2008-08-01          0                0     friday    1      8  2008  \n",
       "2013-12-25         27                2  wednesday   25     12  2013  \n",
       "2011-12-25         25                1     sunday   25     12  2011  \n",
       "2013-12-24         18                0    tuesday   24     12  2013  \n",
       "2010-12-25         32                0   saturday   25     12  2010  \n",
       "2013-12-23         47                1     monday   23     12  2013  \n",
       "2008-12-25         43                4   thursday   25     12  2008  \n",
       "2007-12-25         41                4    tuesday   25     12  2007  \n",
       "2011-11-24         39                2   thursday   24     11  2011  "
      ]
     },
     "execution_count": 100,
     "metadata": {},
     "output_type": "execute_result"
    }
   ],
   "source": [
    "data.sort_values('crime_count', ascending=True).head(10)"
   ]
  },
  {
   "cell_type": "markdown",
   "metadata": {},
   "source": [
    "#### Remove the two days that appear to be missing data\n",
    "- there were 2 days that only had 2 and 8 incidents. \n",
    "- remove them since there must be missing data from those 2 days."
   ]
  },
  {
   "cell_type": "code",
   "execution_count": 101,
   "metadata": {
    "collapsed": false
   },
   "outputs": [
    {
     "data": {
      "text/plain": [
       "(4763, 10)"
      ]
     },
     "execution_count": 101,
     "metadata": {},
     "output_type": "execute_result"
    }
   ],
   "source": [
    "data = data[data['crime_count'] > 100]\n",
    "data.shape"
   ]
  },
  {
   "cell_type": "code",
   "execution_count": 102,
   "metadata": {
    "collapsed": false
   },
   "outputs": [
    {
     "data": {
      "text/html": [
       "<div>\n",
       "<table border=\"1\" class=\"dataframe\">\n",
       "  <thead>\n",
       "    <tr style=\"text-align: right;\">\n",
       "      <th></th>\n",
       "      <th>crime_level_sum</th>\n",
       "      <th>crime_count</th>\n",
       "      <th>weather_crime_count</th>\n",
       "      <th>violent_count</th>\n",
       "      <th>COP_count</th>\n",
       "      <th>gun_crime_count</th>\n",
       "      <th>day</th>\n",
       "      <th>month</th>\n",
       "      <th>year</th>\n",
       "    </tr>\n",
       "  </thead>\n",
       "  <tbody>\n",
       "    <tr>\n",
       "      <th>count</th>\n",
       "      <td>4763.000000</td>\n",
       "      <td>4763.000000</td>\n",
       "      <td>4763.000000</td>\n",
       "      <td>4763.000000</td>\n",
       "      <td>4763.000000</td>\n",
       "      <td>4763.000000</td>\n",
       "      <td>4763.000000</td>\n",
       "      <td>4763.000000</td>\n",
       "      <td>4763.000000</td>\n",
       "    </tr>\n",
       "    <tr>\n",
       "      <th>mean</th>\n",
       "      <td>720.442788</td>\n",
       "      <td>381.922948</td>\n",
       "      <td>77.927357</td>\n",
       "      <td>39.761495</td>\n",
       "      <td>60.788999</td>\n",
       "      <td>3.314088</td>\n",
       "      <td>15.709637</td>\n",
       "      <td>6.500945</td>\n",
       "      <td>2009.026454</td>\n",
       "    </tr>\n",
       "    <tr>\n",
       "      <th>std</th>\n",
       "      <td>87.781889</td>\n",
       "      <td>46.285817</td>\n",
       "      <td>13.878038</td>\n",
       "      <td>9.257131</td>\n",
       "      <td>11.259817</td>\n",
       "      <td>2.129182</td>\n",
       "      <td>8.797973</td>\n",
       "      <td>3.459211</td>\n",
       "      <td>3.760430</td>\n",
       "    </tr>\n",
       "    <tr>\n",
       "      <th>min</th>\n",
       "      <td>292.000000</td>\n",
       "      <td>148.000000</td>\n",
       "      <td>18.000000</td>\n",
       "      <td>6.000000</td>\n",
       "      <td>18.000000</td>\n",
       "      <td>0.000000</td>\n",
       "      <td>1.000000</td>\n",
       "      <td>1.000000</td>\n",
       "      <td>2003.000000</td>\n",
       "    </tr>\n",
       "    <tr>\n",
       "      <th>25%</th>\n",
       "      <td>662.000000</td>\n",
       "      <td>351.500000</td>\n",
       "      <td>68.000000</td>\n",
       "      <td>34.000000</td>\n",
       "      <td>53.000000</td>\n",
       "      <td>2.000000</td>\n",
       "      <td>8.000000</td>\n",
       "      <td>3.500000</td>\n",
       "      <td>2006.000000</td>\n",
       "    </tr>\n",
       "    <tr>\n",
       "      <th>50%</th>\n",
       "      <td>718.000000</td>\n",
       "      <td>381.000000</td>\n",
       "      <td>77.000000</td>\n",
       "      <td>39.000000</td>\n",
       "      <td>60.000000</td>\n",
       "      <td>3.000000</td>\n",
       "      <td>16.000000</td>\n",
       "      <td>7.000000</td>\n",
       "      <td>2009.000000</td>\n",
       "    </tr>\n",
       "    <tr>\n",
       "      <th>75%</th>\n",
       "      <td>775.500000</td>\n",
       "      <td>412.000000</td>\n",
       "      <td>86.000000</td>\n",
       "      <td>45.000000</td>\n",
       "      <td>68.000000</td>\n",
       "      <td>5.000000</td>\n",
       "      <td>23.000000</td>\n",
       "      <td>10.000000</td>\n",
       "      <td>2012.000000</td>\n",
       "    </tr>\n",
       "    <tr>\n",
       "      <th>max</th>\n",
       "      <td>1182.000000</td>\n",
       "      <td>579.000000</td>\n",
       "      <td>158.000000</td>\n",
       "      <td>91.000000</td>\n",
       "      <td>134.000000</td>\n",
       "      <td>16.000000</td>\n",
       "      <td>31.000000</td>\n",
       "      <td>12.000000</td>\n",
       "      <td>2016.000000</td>\n",
       "    </tr>\n",
       "  </tbody>\n",
       "</table>\n",
       "</div>"
      ],
      "text/plain": [
       "       crime_level_sum  crime_count  weather_crime_count  violent_count  \\\n",
       "count      4763.000000  4763.000000          4763.000000    4763.000000   \n",
       "mean        720.442788   381.922948            77.927357      39.761495   \n",
       "std          87.781889    46.285817            13.878038       9.257131   \n",
       "min         292.000000   148.000000            18.000000       6.000000   \n",
       "25%         662.000000   351.500000            68.000000      34.000000   \n",
       "50%         718.000000   381.000000            77.000000      39.000000   \n",
       "75%         775.500000   412.000000            86.000000      45.000000   \n",
       "max        1182.000000   579.000000           158.000000      91.000000   \n",
       "\n",
       "         COP_count  gun_crime_count          day        month         year  \n",
       "count  4763.000000      4763.000000  4763.000000  4763.000000  4763.000000  \n",
       "mean     60.788999         3.314088    15.709637     6.500945  2009.026454  \n",
       "std      11.259817         2.129182     8.797973     3.459211     3.760430  \n",
       "min      18.000000         0.000000     1.000000     1.000000  2003.000000  \n",
       "25%      53.000000         2.000000     8.000000     3.500000  2006.000000  \n",
       "50%      60.000000         3.000000    16.000000     7.000000  2009.000000  \n",
       "75%      68.000000         5.000000    23.000000    10.000000  2012.000000  \n",
       "max     134.000000        16.000000    31.000000    12.000000  2016.000000  "
      ]
     },
     "execution_count": 102,
     "metadata": {},
     "output_type": "execute_result"
    }
   ],
   "source": [
    "data.describe()"
   ]
  },
  {
   "cell_type": "markdown",
   "metadata": {},
   "source": [
    "## Write final data to file\n",
    "[[back to top](#Sections)]"
   ]
  },
  {
   "cell_type": "code",
   "execution_count": 103,
   "metadata": {
    "collapsed": true
   },
   "outputs": [],
   "source": [
    "data.to_csv('sf_crime_clean.csv')"
   ]
  },
  {
   "cell_type": "code",
   "execution_count": null,
   "metadata": {
    "collapsed": true
   },
   "outputs": [],
   "source": []
  },
  {
   "cell_type": "code",
   "execution_count": null,
   "metadata": {
    "collapsed": true
   },
   "outputs": [],
   "source": []
  }
 ],
 "metadata": {
  "kernelspec": {
   "display_name": "Python 2",
   "language": "python",
   "name": "python2"
  },
  "language_info": {
   "codemirror_mode": {
    "name": "ipython",
    "version": 2
   },
   "file_extension": ".py",
   "mimetype": "text/x-python",
   "name": "python",
   "nbconvert_exporter": "python",
   "pygments_lexer": "ipython2",
   "version": "2.7.11"
  }
 },
 "nbformat": 4,
 "nbformat_minor": 0
}
