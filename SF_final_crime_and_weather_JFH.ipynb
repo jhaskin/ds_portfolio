{
 "cells": [
  {
   "cell_type": "markdown",
   "metadata": {},
   "source": [
    "# Analysis and prediction of Crime data as it relates to weather conditions in the city of San Francisco"
   ]
  },
  {
   "cell_type": "markdown",
   "metadata": {},
   "source": [
    "- Jim Haskin\n",
    "\n",
    "- GA-Data Science\n",
    "- Dec 2015\n",
    "\n",
    "- 2/17/2016"
   ]
  },
  {
   "cell_type": "markdown",
   "metadata": {},
   "source": [
    "## Hypothesis\n",
    "It is often said that people lose their temper more when it is hot out and that all the crazies come out when there is a full moon. But does the data prove these hunches are true? \n",
    "If it is true, can we look at the weather forecast for the next week and predict if the number or intensity of Police Incidents will be higher or lower than usual?"
   ]
  },
  {
   "cell_type": "markdown",
   "metadata": {},
   "source": [
    "## Method\n",
    "Crime Data - This was done in the `'2_clean_data_sf_crime'` notebook.\n",
    "- I have collected the incident reports of the San Franciso Police Department from the SF OpenData website. https://data.sfgov.org/data?category=Public%20Safety. I have the records from January, 2003 until the beginning of 2016.\n",
    "- I summerized the report to generate a daily report of the number of incidents and another factor I am calling Crime Level. Each incident is given a score based on how violent it is. Murders and assaults are rated high. Traffic violations and non-criminal incidents are rated low. These scores are summed and then normalized to a scale of 0 - 10.\n",
    "- Data written to file. `'sf_crime_clean.csv'`\n",
    "\n",
    "Weather Data - Done in the `'3_clean_weather_combine_with_crime'` notebook\n",
    "- I collected historical weather data for the San Franciso area from January 2003 until December 2015. The data comes from Weather Underground. http://www.wunderground.com/history/\n",
    "- To that data I added new calculated features, such as the phase of the moon, wind chill and heat index that I thought might be relavent.\n",
    "- Data written to file. `'sf_weather_clean.csv'`\n",
    "- The weather data and crime data were merged and written to the file. `'sf_crime_weather.csv'`\n",
    "\n",
    "Analysis and Cleaning - Done in the `'5_analysis_cleaning'` notebook\n",
    "- I looked at the crime levels as it related to different features to get a general idea of what features are important.\n",
    "- Removed outliers\n",
    "- Removed fields that are not in the Forecast Data that will be used for prediction.\n",
    "- Created new Features for the categorical data.(rain, end_of_week, winter)\n",
    "- Final data was written to the file. `'sf_crime_weather_clean.csv'`\n",
    "\n",
    "Forecast - Done in the `'8_get_weather_forecast'` notebook.\n",
    "- I used the WeatherUnderground API and the OpenWeatherMap API to retreive the forecast for the next 10 days in San Fransico.\n",
    "- To this I added in the other relavent features such as Moon Phase.\n",
    "- Data is written to file. `'forecast_10day.csv'`\n",
    "- This new data is then run throught the model to predict the general level of crime for the next 10 days.\n",
    "\n",
    "Modeling and Prediction- Done in the `'SF_final_crime_and_weather_JFH'`\n",
    "- Build Model.......\n",
    "- ...........\n",
    "\n",
    "\n"
   ]
  },
  {
   "cell_type": "markdown",
   "metadata": {},
   "source": [
    "## Sections"
   ]
  },
  {
   "cell_type": "markdown",
   "metadata": {},
   "source": [
    "- [Data Source Definition](#Data-source-Definition)\n",
    "- [Prepare Data](#Prepare-Data)\n",
    "- - [Catagoricals](#Catagoricals)\n",
    "- - [Select Features](#Select-Features)\n",
    "- [Dummy Regressor](#Dummy-Regressor)\n",
    "- [Random Forest](#Random-Forests)\n",
    "- [SVM](#SVM)\n",
    "- [Lasso/Ridge](#Lasso/Ridge)\n",
    "- [knn](#knn)\n",
    "- [Forecast](#Forecast)\n",
    "- - [Add Engineered Features](#Add-Engineered-Features)\n",
    "- - [Run Models on Prediction](#Run-Models-on-Prediction)\n",
    "- [Results](#Results)\n",
    "- [Change Log](#Change-Log)\n",
    "- [To Try](#To-Try)\n"
   ]
  },
  {
   "cell_type": "code",
   "execution_count": 2,
   "metadata": {
    "collapsed": true
   },
   "outputs": [],
   "source": [
    "import pandas as pd\n",
    "import numpy as np\n",
    "import matplotlib.pyplot as plt\n",
    "import seaborn as sb\n",
    "%matplotlib inline\n",
    "# use fivethirtyeight style for all graphics\n",
    "plt.style.use('fivethirtyeight')"
   ]
  },
  {
   "cell_type": "code",
   "execution_count": 3,
   "metadata": {
    "collapsed": true
   },
   "outputs": [],
   "source": [
    "from sklearn.preprocessing import StandardScaler\n",
    "from sklearn.cross_validation import train_test_split\n",
    "from sklearn.cross_validation import ShuffleSplit\n",
    "from sklearn.grid_search import GridSearchCV\n",
    "from sklearn.learning_curve import learning_curve\n",
    "from sklearn.ensemble import RandomForestRegressor\n",
    "from sklearn.cross_validation import cross_val_score\n",
    "from sklearn.svm import SVR\n",
    "from sk_modelcurves.learning_curve import draw_learning_curve\n",
    "from sklearn.linear_model import LinearRegression\n",
    "from sklearn.linear_model import Lasso\n",
    "from sklearn.linear_model import Ridge\n",
    "from sklearn.dummy import DummyClassifier, DummyRegressor\n",
    "from sklearn.neighbors import KNeighborsRegressor\n",
    "from sklearn.metrics import median_absolute_error\n",
    "from sklearn.metrics import mean_absolute_error\n",
    "from sklearn.decomposition import PCA"
   ]
  },
  {
   "cell_type": "markdown",
   "metadata": {},
   "source": [
    "## Data source Definition"
   ]
  },
  {
   "cell_type": "markdown",
   "metadata": {},
   "source": [
    "[[back to top](#Sections)]\n"
   ]
  },
  {
   "cell_type": "markdown",
   "metadata": {},
   "source": [
    "Data was consolidated in these two Notebooks\n",
    "- '2_clean_data_sf_crime.ipynb' | Data downloaded from SF Open Data site. \n",
    "- '3_clean_weather_combine_with_crime.ipynb' | Data downloaded from WeatherUnderground.com\n",
    "- It was then analysed, cleaned and had Features Engineered in the '5_analysis.ipynb' notebook\n",
    "- Final file name 'sf_crime_weather_clean.csv'\n",
    "\n",
    "\n",
    "FieldName|Type|Description                             \n",
    "---------------|------------|---------------------\n",
    "Index:Date|DateTime|2003-01-01 to 2015-12-31\n",
    "crime_level_sum|int64|Calculated Crime Level for the day\n",
    "crime_count|int64|Number of incidents for the day\n",
    "weather_crime_count|int64|Number of incidents related to weather for the day\n",
    "violent_crime_count|int64|Number of incidents I labled violent for the day\n",
    "COP_count|int64|Number of incidents  I labled CrimeOfPassion for the day\n",
    "gun_crime_count|int64|Number of incidents for the day\n",
    "dayofweek|object|Day of the week in string format\n",
    "day|int64|Day of month in numeric\n",
    "month|int64|Month of year in numeric\n",
    "year|int64|Year in numeric\n",
    "crime_level|float64|Crime level scaled to 0-10\n",
    "weather_crime_level|float64|Crimes influenced by weather level scaled to 0-10\n",
    "temp_max|int64|High Temperature for the day in degrees F\n",
    "temp_mean|int64|Mean Temperature for the day in degrees F\n",
    "temp_min|int64|Low Temperature for the day in degrees F\n",
    "temp_delta|int64|Temperature change for the day in degrees F\n",
    "dew_point_max|int64|High Dew Point for the day in degrees F\n",
    "dew_point_mean|int64|Mean Dew Point for the day in degrees F\n",
    "dew_point_min|int64|Low Dew Point for the day in degrees F\n",
    "humidity_max|int64|Maximum Humidity for the day in percentage\n",
    "humidity_mean|int64|Mean Humidity for the day in percentage\n",
    "humidity_min|int64|Minimum Humidity for the day in percentage\n",
    "sl_pressure_max|float64|High Sea Level for the day in inches\n",
    "sl_pressure_mean|float64|Mean Sea Level for the day in inches\n",
    "sl_pressure_min|float64|Low Sea Level for the day in inches\n",
    "wind_speed_max|int64|Maximum maintained Wind Speed in mph\n",
    "wind_speed_mean|int64|Mean maintained Wind Speed in mph\n",
    "wind_max_gust|float64|Maximum Wind Gust in mph\n",
    "precipitation|float64|Amount is precipitation in inches\n",
    "cloud_cover|int64|Cloud Cover in percentage\n",
    "events|object|Significant Events such as 'Rain', 'Fog'\n",
    "wind_direction|int64|General wind direction, numeric 0 359\n",
    "sun_length|float64|Number of minutes of Sun on day\n",
    "moon_phase|float64|Phase moon is in. 0.5 = full moon\n",
    "sun_units|float64|the minutes of Sun scaled by the cloud cover percentage\n",
    "wind_chill_mean|int64|calculated mean of wind chill using temp and wind speed\n",
    "wind_chill_max|int64|calculated max of wind chill\n",
    "heat_index|float64|calculated heat_index using temp, humidity and dewpoint\n",
    "temp_apparent|float64|calculated Apparent temperature using temp humidity and windspeed\n",
    "end_of_week|category|Boolean for if it is a Friday or Saturday\n",
    "winter|category|Boolean for if it is a winter month       \n",
    "rain|category|Boolean for if it rained or not                "
   ]
  },
  {
   "cell_type": "markdown",
   "metadata": {},
   "source": [
    "# Prepare Data"
   ]
  },
  {
   "cell_type": "markdown",
   "metadata": {},
   "source": [
    "[[back to top](#Sections)]\n"
   ]
  },
  {
   "cell_type": "markdown",
   "metadata": {},
   "source": [
    "## Read in combined Data \n",
    "    "
   ]
  },
  {
   "cell_type": "code",
   "execution_count": 5,
   "metadata": {
    "collapsed": false
   },
   "outputs": [
    {
     "data": {
      "text/html": [
       "<div>\n",
       "<table border=\"1\" class=\"dataframe\">\n",
       "  <thead>\n",
       "    <tr style=\"text-align: right;\">\n",
       "      <th></th>\n",
       "      <th>crime_level_sum</th>\n",
       "      <th>crime_count</th>\n",
       "      <th>weather_crime_count</th>\n",
       "      <th>violent_count</th>\n",
       "      <th>COP_count</th>\n",
       "      <th>gun_crime_count</th>\n",
       "      <th>dayofweek</th>\n",
       "      <th>day</th>\n",
       "      <th>month</th>\n",
       "      <th>year</th>\n",
       "      <th>...</th>\n",
       "      <th>sun_length</th>\n",
       "      <th>moon_phase</th>\n",
       "      <th>sun_units</th>\n",
       "      <th>wind_chill_mean</th>\n",
       "      <th>wind_chill_max</th>\n",
       "      <th>heat_index</th>\n",
       "      <th>temp_apparent</th>\n",
       "      <th>end_of_week</th>\n",
       "      <th>winter</th>\n",
       "      <th>rain</th>\n",
       "    </tr>\n",
       "  </thead>\n",
       "  <tbody>\n",
       "    <tr>\n",
       "      <th>2011-02-19</th>\n",
       "      <td>642</td>\n",
       "      <td>350</td>\n",
       "      <td>65</td>\n",
       "      <td>30</td>\n",
       "      <td>42</td>\n",
       "      <td>3</td>\n",
       "      <td>saturday</td>\n",
       "      <td>19</td>\n",
       "      <td>2</td>\n",
       "      <td>2011</td>\n",
       "      <td>...</td>\n",
       "      <td>659.533333</td>\n",
       "      <td>0.546709</td>\n",
       "      <td>85.739333</td>\n",
       "      <td>43</td>\n",
       "      <td>45</td>\n",
       "      <td>105.910373</td>\n",
       "      <td>58.363068</td>\n",
       "      <td>True</td>\n",
       "      <td>False</td>\n",
       "      <td>True</td>\n",
       "    </tr>\n",
       "    <tr>\n",
       "      <th>2005-01-13</th>\n",
       "      <td>761</td>\n",
       "      <td>400</td>\n",
       "      <td>69</td>\n",
       "      <td>35</td>\n",
       "      <td>71</td>\n",
       "      <td>3</td>\n",
       "      <td>thursday</td>\n",
       "      <td>13</td>\n",
       "      <td>1</td>\n",
       "      <td>2005</td>\n",
       "      <td>...</td>\n",
       "      <td>590.783333</td>\n",
       "      <td>0.097609</td>\n",
       "      <td>147.695833</td>\n",
       "      <td>44</td>\n",
       "      <td>46</td>\n",
       "      <td>131.917614</td>\n",
       "      <td>65.307872</td>\n",
       "      <td>False</td>\n",
       "      <td>False</td>\n",
       "      <td>False</td>\n",
       "    </tr>\n",
       "  </tbody>\n",
       "</table>\n",
       "<p>2 rows × 42 columns</p>\n",
       "</div>"
      ],
      "text/plain": [
       "            crime_level_sum  crime_count  weather_crime_count  violent_count  \\\n",
       "2011-02-19              642          350                   65             30   \n",
       "2005-01-13              761          400                   69             35   \n",
       "\n",
       "            COP_count  gun_crime_count dayofweek  day  month  year  ...    \\\n",
       "2011-02-19         42                3  saturday   19      2  2011  ...     \n",
       "2005-01-13         71                3  thursday   13      1  2005  ...     \n",
       "\n",
       "            sun_length  moon_phase   sun_units  wind_chill_mean  \\\n",
       "2011-02-19  659.533333    0.546709   85.739333               43   \n",
       "2005-01-13  590.783333    0.097609  147.695833               44   \n",
       "\n",
       "            wind_chill_max  heat_index  temp_apparent  end_of_week  winter  \\\n",
       "2011-02-19              45  105.910373      58.363068         True   False   \n",
       "2005-01-13              46  131.917614      65.307872        False   False   \n",
       "\n",
       "             rain  \n",
       "2011-02-19   True  \n",
       "2005-01-13  False  \n",
       "\n",
       "[2 rows x 42 columns]"
      ]
     },
     "execution_count": 5,
     "metadata": {},
     "output_type": "execute_result"
    }
   ],
   "source": [
    "data = pd.read_csv('sf_crime_weather_clean.csv', index_col=0)\n",
    "#data = pd.read_csv('sf_crime_weather_violent.csv', index_col=0)\n",
    "data.head(2)"
   ]
  },
  {
   "cell_type": "markdown",
   "metadata": {},
   "source": [
    "### Catagoricals"
   ]
  },
  {
   "cell_type": "markdown",
   "metadata": {},
   "source": [
    "[[back to top](#Sections)]\n"
   ]
  },
  {
   "cell_type": "code",
   "execution_count": 6,
   "metadata": {
    "collapsed": false
   },
   "outputs": [],
   "source": [
    "# Set the Categorical feature to the correct type\n",
    "data['events'] = data['events'].astype('category')\n",
    "data['day'] = data['day'].astype('category')\n",
    "data['month'] = data['month'].astype('category')\n",
    "data['year'] = data['year'].astype('category')\n",
    "data['dayofweek'] = data['dayofweek'].astype('category')\n",
    "data['end_of_week'] = data['end_of_week'].astype('category')\n",
    "data['rain'] = data['rain'].astype('category')\n",
    "data['winter'] = data['winter'].astype('category')"
   ]
  },
  {
   "cell_type": "code",
   "execution_count": 7,
   "metadata": {
    "collapsed": false
   },
   "outputs": [
    {
     "name": "stdout",
     "output_type": "stream",
     "text": [
      "<class 'pandas.core.frame.DataFrame'>\n",
      "Index: 4745 entries, 2011-02-19 to 2010-08-24\n",
      "Data columns (total 42 columns):\n",
      "crime_level_sum        4745 non-null int64\n",
      "crime_count            4745 non-null int64\n",
      "weather_crime_count    4745 non-null int64\n",
      "violent_count          4745 non-null float64\n",
      "COP_count              4745 non-null float64\n",
      "gun_crime_count        4745 non-null float64\n",
      "dayofweek              4745 non-null category\n",
      "day                    4745 non-null category\n",
      "month                  4745 non-null category\n",
      "year                   4745 non-null category\n",
      "crime_level            4745 non-null float64\n",
      "weather_crime_level    4745 non-null float64\n",
      "temp_max               4745 non-null int64\n",
      "temp_mean              4745 non-null int64\n",
      "temp_min               4745 non-null int64\n",
      "temp_delta             4745 non-null int64\n",
      "dew_point_max          4745 non-null int64\n",
      "dew_point_mean         4745 non-null float64\n",
      "dew_point_min          4745 non-null int64\n",
      "humidity_max           4745 non-null int64\n",
      "humidity_mean          4745 non-null int64\n",
      "humidity_min           4745 non-null int64\n",
      "sl_pressure_max        4745 non-null float64\n",
      "sl_pressure_mean       4745 non-null float64\n",
      "sl_pressure_min        4745 non-null float64\n",
      "wind_speed_max         4745 non-null int64\n",
      "wind_speed_mean        4745 non-null int64\n",
      "wind_max_gust          4280 non-null float64\n",
      "precipitation          4745 non-null float64\n",
      "cloud_cover            4745 non-null int64\n",
      "events                 4745 non-null category\n",
      "wind_direction         4745 non-null int64\n",
      "sun_length             4745 non-null float64\n",
      "moon_phase             4745 non-null float64\n",
      "sun_units              4745 non-null float64\n",
      "wind_chill_mean        4745 non-null int64\n",
      "wind_chill_max         4745 non-null int64\n",
      "heat_index             4745 non-null float64\n",
      "temp_apparent          4745 non-null float64\n",
      "end_of_week            4745 non-null category\n",
      "winter                 4745 non-null category\n",
      "rain                   4745 non-null category\n",
      "dtypes: category(8), float64(16), int64(18)\n",
      "memory usage: 1.3+ MB\n"
     ]
    }
   ],
   "source": [
    "data.info()"
   ]
  },
  {
   "cell_type": "code",
   "execution_count": 8,
   "metadata": {
    "collapsed": false
   },
   "outputs": [
    {
     "data": {
      "text/html": [
       "<div>\n",
       "<table border=\"1\" class=\"dataframe\">\n",
       "  <thead>\n",
       "    <tr style=\"text-align: right;\">\n",
       "      <th></th>\n",
       "      <th>crime_level_sum</th>\n",
       "      <th>crime_count</th>\n",
       "      <th>weather_crime_count</th>\n",
       "      <th>violent_count</th>\n",
       "      <th>COP_count</th>\n",
       "      <th>gun_crime_count</th>\n",
       "      <th>crime_level</th>\n",
       "      <th>weather_crime_level</th>\n",
       "      <th>temp_max</th>\n",
       "      <th>temp_mean</th>\n",
       "      <th>...</th>\n",
       "      <th>precipitation</th>\n",
       "      <th>cloud_cover</th>\n",
       "      <th>wind_direction</th>\n",
       "      <th>sun_length</th>\n",
       "      <th>moon_phase</th>\n",
       "      <th>sun_units</th>\n",
       "      <th>wind_chill_mean</th>\n",
       "      <th>wind_chill_max</th>\n",
       "      <th>heat_index</th>\n",
       "      <th>temp_apparent</th>\n",
       "    </tr>\n",
       "  </thead>\n",
       "  <tbody>\n",
       "    <tr>\n",
       "      <th>count</th>\n",
       "      <td>4745.000000</td>\n",
       "      <td>4745.000000</td>\n",
       "      <td>4745.000000</td>\n",
       "      <td>4745.000000</td>\n",
       "      <td>4745.000000</td>\n",
       "      <td>4745.000000</td>\n",
       "      <td>4745.000000</td>\n",
       "      <td>4745.000000</td>\n",
       "      <td>4745.000000</td>\n",
       "      <td>4745.000000</td>\n",
       "      <td>...</td>\n",
       "      <td>4745.000000</td>\n",
       "      <td>4745.000000</td>\n",
       "      <td>4745.000000</td>\n",
       "      <td>4745.000000</td>\n",
       "      <td>4745.000000</td>\n",
       "      <td>4745.000000</td>\n",
       "      <td>4745.000000</td>\n",
       "      <td>4745.000000</td>\n",
       "      <td>4745.000000</td>\n",
       "      <td>4745.000000</td>\n",
       "    </tr>\n",
       "    <tr>\n",
       "      <th>mean</th>\n",
       "      <td>720.585669</td>\n",
       "      <td>382.032666</td>\n",
       "      <td>77.934879</td>\n",
       "      <td>39.756164</td>\n",
       "      <td>60.809062</td>\n",
       "      <td>3.313804</td>\n",
       "      <td>4.815569</td>\n",
       "      <td>4.281063</td>\n",
       "      <td>65.849947</td>\n",
       "      <td>58.662803</td>\n",
       "      <td>...</td>\n",
       "      <td>0.047181</td>\n",
       "      <td>44.920759</td>\n",
       "      <td>246.122234</td>\n",
       "      <td>732.011640</td>\n",
       "      <td>0.512256</td>\n",
       "      <td>406.803915</td>\n",
       "      <td>58.662803</td>\n",
       "      <td>65.849947</td>\n",
       "      <td>216.646295</td>\n",
       "      <td>93.021698</td>\n",
       "    </tr>\n",
       "    <tr>\n",
       "      <th>std</th>\n",
       "      <td>87.805220</td>\n",
       "      <td>46.288691</td>\n",
       "      <td>13.882995</td>\n",
       "      <td>9.260436</td>\n",
       "      <td>11.259500</td>\n",
       "      <td>2.130232</td>\n",
       "      <td>0.986576</td>\n",
       "      <td>0.991642</td>\n",
       "      <td>8.402315</td>\n",
       "      <td>6.530743</td>\n",
       "      <td>...</td>\n",
       "      <td>0.191603</td>\n",
       "      <td>28.926472</td>\n",
       "      <td>71.727288</td>\n",
       "      <td>106.738169</td>\n",
       "      <td>0.288648</td>\n",
       "      <td>223.377818</td>\n",
       "      <td>6.530743</td>\n",
       "      <td>8.402315</td>\n",
       "      <td>60.304576</td>\n",
       "      <td>18.359682</td>\n",
       "    </tr>\n",
       "    <tr>\n",
       "      <th>min</th>\n",
       "      <td>292.000000</td>\n",
       "      <td>148.000000</td>\n",
       "      <td>18.000000</td>\n",
       "      <td>6.000000</td>\n",
       "      <td>18.000000</td>\n",
       "      <td>0.000000</td>\n",
       "      <td>0.000000</td>\n",
       "      <td>0.000000</td>\n",
       "      <td>45.000000</td>\n",
       "      <td>40.000000</td>\n",
       "      <td>...</td>\n",
       "      <td>0.000000</td>\n",
       "      <td>0.000000</td>\n",
       "      <td>1.000000</td>\n",
       "      <td>575.300000</td>\n",
       "      <td>0.012958</td>\n",
       "      <td>0.000000</td>\n",
       "      <td>40.000000</td>\n",
       "      <td>45.000000</td>\n",
       "      <td>55.000000</td>\n",
       "      <td>38.602076</td>\n",
       "    </tr>\n",
       "    <tr>\n",
       "      <th>25%</th>\n",
       "      <td>662.000000</td>\n",
       "      <td>352.000000</td>\n",
       "      <td>68.000000</td>\n",
       "      <td>34.000000</td>\n",
       "      <td>53.000000</td>\n",
       "      <td>2.000000</td>\n",
       "      <td>4.157303</td>\n",
       "      <td>3.571429</td>\n",
       "      <td>60.000000</td>\n",
       "      <td>54.000000</td>\n",
       "      <td>...</td>\n",
       "      <td>0.000000</td>\n",
       "      <td>25.000000</td>\n",
       "      <td>235.000000</td>\n",
       "      <td>628.583333</td>\n",
       "      <td>0.262623</td>\n",
       "      <td>219.329167</td>\n",
       "      <td>54.000000</td>\n",
       "      <td>60.000000</td>\n",
       "      <td>172.486051</td>\n",
       "      <td>79.344245</td>\n",
       "    </tr>\n",
       "    <tr>\n",
       "      <th>50%</th>\n",
       "      <td>718.000000</td>\n",
       "      <td>381.000000</td>\n",
       "      <td>77.000000</td>\n",
       "      <td>39.000000</td>\n",
       "      <td>60.000000</td>\n",
       "      <td>3.000000</td>\n",
       "      <td>4.786517</td>\n",
       "      <td>4.214286</td>\n",
       "      <td>65.000000</td>\n",
       "      <td>59.000000</td>\n",
       "      <td>...</td>\n",
       "      <td>0.000000</td>\n",
       "      <td>50.000000</td>\n",
       "      <td>273.000000</td>\n",
       "      <td>733.233333</td>\n",
       "      <td>0.510797</td>\n",
       "      <td>412.583333</td>\n",
       "      <td>59.000000</td>\n",
       "      <td>65.000000</td>\n",
       "      <td>219.701946</td>\n",
       "      <td>92.693869</td>\n",
       "    </tr>\n",
       "    <tr>\n",
       "      <th>75%</th>\n",
       "      <td>776.000000</td>\n",
       "      <td>412.000000</td>\n",
       "      <td>86.000000</td>\n",
       "      <td>45.000000</td>\n",
       "      <td>68.000000</td>\n",
       "      <td>5.000000</td>\n",
       "      <td>5.438202</td>\n",
       "      <td>4.857143</td>\n",
       "      <td>71.000000</td>\n",
       "      <td>63.000000</td>\n",
       "      <td>...</td>\n",
       "      <td>0.000000</td>\n",
       "      <td>75.000000</td>\n",
       "      <td>290.000000</td>\n",
       "      <td>835.733333</td>\n",
       "      <td>0.761123</td>\n",
       "      <td>579.466667</td>\n",
       "      <td>63.000000</td>\n",
       "      <td>71.000000</td>\n",
       "      <td>259.600068</td>\n",
       "      <td>105.415039</td>\n",
       "    </tr>\n",
       "    <tr>\n",
       "      <th>max</th>\n",
       "      <td>1182.000000</td>\n",
       "      <td>579.000000</td>\n",
       "      <td>158.000000</td>\n",
       "      <td>91.000000</td>\n",
       "      <td>134.000000</td>\n",
       "      <td>16.000000</td>\n",
       "      <td>10.000000</td>\n",
       "      <td>10.000000</td>\n",
       "      <td>99.000000</td>\n",
       "      <td>82.000000</td>\n",
       "      <td>...</td>\n",
       "      <td>3.430000</td>\n",
       "      <td>100.000000</td>\n",
       "      <td>359.000000</td>\n",
       "      <td>885.650000</td>\n",
       "      <td>1.012482</td>\n",
       "      <td>885.633333</td>\n",
       "      <td>82.000000</td>\n",
       "      <td>99.000000</td>\n",
       "      <td>429.726716</td>\n",
       "      <td>161.898428</td>\n",
       "    </tr>\n",
       "  </tbody>\n",
       "</table>\n",
       "<p>8 rows × 34 columns</p>\n",
       "</div>"
      ],
      "text/plain": [
       "       crime_level_sum  crime_count  weather_crime_count  violent_count  \\\n",
       "count      4745.000000  4745.000000          4745.000000    4745.000000   \n",
       "mean        720.585669   382.032666            77.934879      39.756164   \n",
       "std          87.805220    46.288691            13.882995       9.260436   \n",
       "min         292.000000   148.000000            18.000000       6.000000   \n",
       "25%         662.000000   352.000000            68.000000      34.000000   \n",
       "50%         718.000000   381.000000            77.000000      39.000000   \n",
       "75%         776.000000   412.000000            86.000000      45.000000   \n",
       "max        1182.000000   579.000000           158.000000      91.000000   \n",
       "\n",
       "         COP_count  gun_crime_count  crime_level  weather_crime_level  \\\n",
       "count  4745.000000      4745.000000  4745.000000          4745.000000   \n",
       "mean     60.809062         3.313804     4.815569             4.281063   \n",
       "std      11.259500         2.130232     0.986576             0.991642   \n",
       "min      18.000000         0.000000     0.000000             0.000000   \n",
       "25%      53.000000         2.000000     4.157303             3.571429   \n",
       "50%      60.000000         3.000000     4.786517             4.214286   \n",
       "75%      68.000000         5.000000     5.438202             4.857143   \n",
       "max     134.000000        16.000000    10.000000            10.000000   \n",
       "\n",
       "          temp_max    temp_mean      ...        precipitation  cloud_cover  \\\n",
       "count  4745.000000  4745.000000      ...          4745.000000  4745.000000   \n",
       "mean     65.849947    58.662803      ...             0.047181    44.920759   \n",
       "std       8.402315     6.530743      ...             0.191603    28.926472   \n",
       "min      45.000000    40.000000      ...             0.000000     0.000000   \n",
       "25%      60.000000    54.000000      ...             0.000000    25.000000   \n",
       "50%      65.000000    59.000000      ...             0.000000    50.000000   \n",
       "75%      71.000000    63.000000      ...             0.000000    75.000000   \n",
       "max      99.000000    82.000000      ...             3.430000   100.000000   \n",
       "\n",
       "       wind_direction   sun_length   moon_phase    sun_units  wind_chill_mean  \\\n",
       "count     4745.000000  4745.000000  4745.000000  4745.000000      4745.000000   \n",
       "mean       246.122234   732.011640     0.512256   406.803915        58.662803   \n",
       "std         71.727288   106.738169     0.288648   223.377818         6.530743   \n",
       "min          1.000000   575.300000     0.012958     0.000000        40.000000   \n",
       "25%        235.000000   628.583333     0.262623   219.329167        54.000000   \n",
       "50%        273.000000   733.233333     0.510797   412.583333        59.000000   \n",
       "75%        290.000000   835.733333     0.761123   579.466667        63.000000   \n",
       "max        359.000000   885.650000     1.012482   885.633333        82.000000   \n",
       "\n",
       "       wind_chill_max   heat_index  temp_apparent  \n",
       "count     4745.000000  4745.000000    4745.000000  \n",
       "mean        65.849947   216.646295      93.021698  \n",
       "std          8.402315    60.304576      18.359682  \n",
       "min         45.000000    55.000000      38.602076  \n",
       "25%         60.000000   172.486051      79.344245  \n",
       "50%         65.000000   219.701946      92.693869  \n",
       "75%         71.000000   259.600068     105.415039  \n",
       "max         99.000000   429.726716     161.898428  \n",
       "\n",
       "[8 rows x 34 columns]"
      ]
     },
     "execution_count": 8,
     "metadata": {},
     "output_type": "execute_result"
    }
   ],
   "source": [
    "data.describe()"
   ]
  },
  {
   "cell_type": "code",
   "execution_count": 9,
   "metadata": {
    "collapsed": true
   },
   "outputs": [],
   "source": [
    "# Data Frame to hold results. To compare models after all are run\n",
    "results = pd.DataFrame(index=['dummy', 'RF', 'SVM', 'LR', 'knn'], \n",
    "                       columns=['mean_abs_error', 'R2_score','time','lc_com'])"
   ]
  },
  {
   "cell_type": "markdown",
   "metadata": {},
   "source": [
    "## Select Features"
   ]
  },
  {
   "cell_type": "markdown",
   "metadata": {},
   "source": [
    "[[back to top](#Sections)]\n"
   ]
  },
  {
   "cell_type": "code",
   "execution_count": 10,
   "metadata": {
    "collapsed": false
   },
   "outputs": [
    {
     "data": {
      "text/plain": [
       "Index([u'crime_level_sum', u'crime_count', u'weather_crime_count',\n",
       "       u'violent_count', u'COP_count', u'gun_crime_count', u'dayofweek',\n",
       "       u'day', u'month', u'year', u'crime_level', u'weather_crime_level',\n",
       "       u'temp_max', u'temp_mean', u'temp_min', u'temp_delta', u'dew_point_max',\n",
       "       u'dew_point_mean', u'dew_point_min', u'humidity_max', u'humidity_mean',\n",
       "       u'humidity_min', u'sl_pressure_max', u'sl_pressure_mean',\n",
       "       u'sl_pressure_min', u'wind_speed_max', u'wind_speed_mean',\n",
       "       u'wind_max_gust', u'precipitation', u'cloud_cover', u'events',\n",
       "       u'wind_direction', u'sun_length', u'moon_phase', u'sun_units',\n",
       "       u'wind_chill_mean', u'wind_chill_max', u'heat_index', u'temp_apparent',\n",
       "       u'end_of_week', u'winter', u'rain'],\n",
       "      dtype='object')"
      ]
     },
     "execution_count": 10,
     "metadata": {},
     "output_type": "execute_result"
    }
   ],
   "source": [
    "data.columns"
   ]
  },
  {
   "cell_type": "markdown",
   "metadata": {},
   "source": [
    "### Review Correlations\n",
    "- Temperature features (temp, dewpoint, wind chill, heat index are very correlated)"
   ]
  },
  {
   "cell_type": "code",
   "execution_count": 11,
   "metadata": {
    "collapsed": false
   },
   "outputs": [
    {
     "data": {
      "text/html": [
       "<div>\n",
       "<table border=\"1\" class=\"dataframe\">\n",
       "  <thead>\n",
       "    <tr style=\"text-align: right;\">\n",
       "      <th></th>\n",
       "      <th>temp_max</th>\n",
       "      <th>temp_mean</th>\n",
       "      <th>temp_delta</th>\n",
       "      <th>temp_apparent</th>\n",
       "      <th>dew_point_mean</th>\n",
       "      <th>humidity_mean</th>\n",
       "      <th>wind_chill_mean</th>\n",
       "      <th>heat_index</th>\n",
       "      <th>sl_pressure_mean</th>\n",
       "      <th>wind_speed_mean</th>\n",
       "    </tr>\n",
       "  </thead>\n",
       "  <tbody>\n",
       "    <tr>\n",
       "      <th>temp_max</th>\n",
       "      <td>1.000000</td>\n",
       "      <td>0.950802</td>\n",
       "      <td>0.734774</td>\n",
       "      <td>0.852066</td>\n",
       "      <td>0.746200</td>\n",
       "      <td>-0.440581</td>\n",
       "      <td>0.950802</td>\n",
       "      <td>0.696387</td>\n",
       "      <td>-0.363531</td>\n",
       "      <td>0.059838</td>\n",
       "    </tr>\n",
       "    <tr>\n",
       "      <th>temp_mean</th>\n",
       "      <td>0.950802</td>\n",
       "      <td>1.000000</td>\n",
       "      <td>0.492378</td>\n",
       "      <td>0.930171</td>\n",
       "      <td>0.872325</td>\n",
       "      <td>-0.294023</td>\n",
       "      <td>1.000000</td>\n",
       "      <td>0.826268</td>\n",
       "      <td>-0.450244</td>\n",
       "      <td>0.173376</td>\n",
       "    </tr>\n",
       "    <tr>\n",
       "      <th>temp_delta</th>\n",
       "      <td>0.734774</td>\n",
       "      <td>0.492378</td>\n",
       "      <td>1.000000</td>\n",
       "      <td>0.360566</td>\n",
       "      <td>0.185097</td>\n",
       "      <td>-0.618694</td>\n",
       "      <td>0.492378</td>\n",
       "      <td>0.144109</td>\n",
       "      <td>-0.032472</td>\n",
       "      <td>-0.212390</td>\n",
       "    </tr>\n",
       "    <tr>\n",
       "      <th>temp_apparent</th>\n",
       "      <td>0.852066</td>\n",
       "      <td>0.930171</td>\n",
       "      <td>0.360566</td>\n",
       "      <td>1.000000</td>\n",
       "      <td>0.957028</td>\n",
       "      <td>0.013004</td>\n",
       "      <td>0.930171</td>\n",
       "      <td>0.943559</td>\n",
       "      <td>-0.408187</td>\n",
       "      <td>-0.003510</td>\n",
       "    </tr>\n",
       "    <tr>\n",
       "      <th>dew_point_mean</th>\n",
       "      <td>0.746200</td>\n",
       "      <td>0.872325</td>\n",
       "      <td>0.185097</td>\n",
       "      <td>0.957028</td>\n",
       "      <td>1.000000</td>\n",
       "      <td>0.205574</td>\n",
       "      <td>0.872325</td>\n",
       "      <td>0.982994</td>\n",
       "      <td>-0.465238</td>\n",
       "      <td>0.179687</td>\n",
       "    </tr>\n",
       "    <tr>\n",
       "      <th>humidity_mean</th>\n",
       "      <td>-0.440581</td>\n",
       "      <td>-0.294023</td>\n",
       "      <td>-0.618694</td>\n",
       "      <td>0.013004</td>\n",
       "      <td>0.205574</td>\n",
       "      <td>1.000000</td>\n",
       "      <td>-0.294023</td>\n",
       "      <td>0.257262</td>\n",
       "      <td>0.000034</td>\n",
       "      <td>-0.033173</td>\n",
       "    </tr>\n",
       "    <tr>\n",
       "      <th>wind_chill_mean</th>\n",
       "      <td>0.950802</td>\n",
       "      <td>1.000000</td>\n",
       "      <td>0.492378</td>\n",
       "      <td>0.930171</td>\n",
       "      <td>0.872325</td>\n",
       "      <td>-0.294023</td>\n",
       "      <td>1.000000</td>\n",
       "      <td>0.826268</td>\n",
       "      <td>-0.450244</td>\n",
       "      <td>0.173376</td>\n",
       "    </tr>\n",
       "    <tr>\n",
       "      <th>heat_index</th>\n",
       "      <td>0.696387</td>\n",
       "      <td>0.826268</td>\n",
       "      <td>0.144109</td>\n",
       "      <td>0.943559</td>\n",
       "      <td>0.982994</td>\n",
       "      <td>0.257262</td>\n",
       "      <td>0.826268</td>\n",
       "      <td>1.000000</td>\n",
       "      <td>-0.441332</td>\n",
       "      <td>0.169122</td>\n",
       "    </tr>\n",
       "    <tr>\n",
       "      <th>sl_pressure_mean</th>\n",
       "      <td>-0.363531</td>\n",
       "      <td>-0.450244</td>\n",
       "      <td>-0.032472</td>\n",
       "      <td>-0.408187</td>\n",
       "      <td>-0.465238</td>\n",
       "      <td>0.000034</td>\n",
       "      <td>-0.450244</td>\n",
       "      <td>-0.441332</td>\n",
       "      <td>1.000000</td>\n",
       "      <td>-0.373138</td>\n",
       "    </tr>\n",
       "    <tr>\n",
       "      <th>wind_speed_mean</th>\n",
       "      <td>0.059838</td>\n",
       "      <td>0.173376</td>\n",
       "      <td>-0.212390</td>\n",
       "      <td>-0.003510</td>\n",
       "      <td>0.179687</td>\n",
       "      <td>-0.033173</td>\n",
       "      <td>0.173376</td>\n",
       "      <td>0.169122</td>\n",
       "      <td>-0.373138</td>\n",
       "      <td>1.000000</td>\n",
       "    </tr>\n",
       "  </tbody>\n",
       "</table>\n",
       "</div>"
      ],
      "text/plain": [
       "                  temp_max  temp_mean  temp_delta  temp_apparent  \\\n",
       "temp_max          1.000000   0.950802    0.734774       0.852066   \n",
       "temp_mean         0.950802   1.000000    0.492378       0.930171   \n",
       "temp_delta        0.734774   0.492378    1.000000       0.360566   \n",
       "temp_apparent     0.852066   0.930171    0.360566       1.000000   \n",
       "dew_point_mean    0.746200   0.872325    0.185097       0.957028   \n",
       "humidity_mean    -0.440581  -0.294023   -0.618694       0.013004   \n",
       "wind_chill_mean   0.950802   1.000000    0.492378       0.930171   \n",
       "heat_index        0.696387   0.826268    0.144109       0.943559   \n",
       "sl_pressure_mean -0.363531  -0.450244   -0.032472      -0.408187   \n",
       "wind_speed_mean   0.059838   0.173376   -0.212390      -0.003510   \n",
       "\n",
       "                  dew_point_mean  humidity_mean  wind_chill_mean  heat_index  \\\n",
       "temp_max                0.746200      -0.440581         0.950802    0.696387   \n",
       "temp_mean               0.872325      -0.294023         1.000000    0.826268   \n",
       "temp_delta              0.185097      -0.618694         0.492378    0.144109   \n",
       "temp_apparent           0.957028       0.013004         0.930171    0.943559   \n",
       "dew_point_mean          1.000000       0.205574         0.872325    0.982994   \n",
       "humidity_mean           0.205574       1.000000        -0.294023    0.257262   \n",
       "wind_chill_mean         0.872325      -0.294023         1.000000    0.826268   \n",
       "heat_index              0.982994       0.257262         0.826268    1.000000   \n",
       "sl_pressure_mean       -0.465238       0.000034        -0.450244   -0.441332   \n",
       "wind_speed_mean         0.179687      -0.033173         0.173376    0.169122   \n",
       "\n",
       "                  sl_pressure_mean  wind_speed_mean  \n",
       "temp_max                 -0.363531         0.059838  \n",
       "temp_mean                -0.450244         0.173376  \n",
       "temp_delta               -0.032472        -0.212390  \n",
       "temp_apparent            -0.408187        -0.003510  \n",
       "dew_point_mean           -0.465238         0.179687  \n",
       "humidity_mean             0.000034        -0.033173  \n",
       "wind_chill_mean          -0.450244         0.173376  \n",
       "heat_index               -0.441332         0.169122  \n",
       "sl_pressure_mean          1.000000        -0.373138  \n",
       "wind_speed_mean          -0.373138         1.000000  "
      ]
     },
     "execution_count": 11,
     "metadata": {},
     "output_type": "execute_result"
    }
   ],
   "source": [
    "data[[u'temp_max', u'temp_mean', u'temp_delta', u'temp_apparent',\n",
    "       u'dew_point_mean', u'humidity_mean',\n",
    "       u'wind_chill_mean', u'heat_index', \n",
    "       u'sl_pressure_mean', u'wind_speed_mean']].corr()"
   ]
  },
  {
   "cell_type": "markdown",
   "metadata": {},
   "source": [
    "#### Several different combinations that can be tried"
   ]
  },
  {
   "cell_type": "code",
   "execution_count": null,
   "metadata": {
    "collapsed": true
   },
   "outputs": [],
   "source": [
    "# All numeric features + \n",
    "all_features = ['temp_max', 'temp_mean', 'temp_min',\n",
    "       'temp_delta',  'dew_point_mean', \n",
    "       'humidity_mean', 'sl_pressure_mean',\n",
    "       'wind_chill_max', 'wind_chill_mean', 'winter',\n",
    "       'wind_speed_max', 'wind_speed_mean', 'precipitation', 'cloud_cover',\n",
    "       'wind_direction', 'sun_length', 'moon_phase',\n",
    "       'sun_units', 'end_of_week', 'rain','temp_apparent', 'heat_index']"
   ]
  },
  {
   "cell_type": "code",
   "execution_count": null,
   "metadata": {
    "collapsed": true
   },
   "outputs": [],
   "source": [
    "# Day and date info only\n",
    "date_features = [ 'dayofweek', 'month', 'day']\n",
    "      "
   ]
  },
  {
   "cell_type": "code",
   "execution_count": null,
   "metadata": {
    "collapsed": true
   },
   "outputs": [],
   "source": [
    "# Star features with the lasso zeroed out features removed\n",
    "Reduced_features = [ 'cloud_cover', 'dayofweek', 'month',   'sun_length', 'day',\n",
    "       'temp_delta',  'temp_apparent', 'rain', \n",
    "       'humidity_mean', 'sl_pressure_mean']"
   ]
  },
  {
   "cell_type": "code",
   "execution_count": null,
   "metadata": {
    "collapsed": true
   },
   "outputs": [],
   "source": [
    "# features indicated by RF  \n",
    "RF_features = ['temp_mean', 'temp_delta', 'dew_point_mean', 'humidity_mean', 'sl_pressure_mean',\n",
    "            'wind_speed_mean', 'cloud_cover', 'wind_direction', 'sun_length',\n",
    "            'wind_chill_mean', 'heat_index', 'temp_apparent',\n",
    "             'rain', 'dayofweek', 'month', 'day',\n",
    "            'sun_units', 'moon_phase']\n",
    "\n",
    "\n",
    "\n"
   ]
  },
  {
   "cell_type": "markdown",
   "metadata": {},
   "source": [
    "#### The Current set of features to try"
   ]
  },
  {
   "cell_type": "code",
   "execution_count": 12,
   "metadata": {
    "collapsed": true
   },
   "outputs": [],
   "source": [
    "# Current best combination to run\n",
    "features = ['temp_mean', 'temp_delta', 'dew_point_mean', 'humidity_mean', 'sl_pressure_mean',\n",
    "            'wind_speed_mean', 'cloud_cover', 'wind_direction', 'sun_length',\n",
    "            'wind_chill_mean', 'heat_index', 'temp_apparent',\n",
    "            'rain', 'dayofweek', 'month', 'day']\n"
   ]
  },
  {
   "cell_type": "markdown",
   "metadata": {},
   "source": [
    "### Choose which Crime Variable to train to"
   ]
  },
  {
   "cell_type": "code",
   "execution_count": 13,
   "metadata": {
    "collapsed": true
   },
   "outputs": [],
   "source": [
    "# Which class to train to\n",
    "#label = 'crime_count'\n",
    "#label = 'violent_count'\n",
    "#label = 'crime_level_sum'\n",
    "label = 'COP_count'\n",
    "dummy_drop = ['dayofweek_monday', 'month_1', 'rain_False', 'day_3']\n",
    "#dummy_drop = ['rain_False', 'end_of_week_False']"
   ]
  },
  {
   "cell_type": "code",
   "execution_count": 14,
   "metadata": {
    "collapsed": false
   },
   "outputs": [
    {
     "data": {
      "text/html": [
       "<div>\n",
       "<table border=\"1\" class=\"dataframe\">\n",
       "  <thead>\n",
       "    <tr style=\"text-align: right;\">\n",
       "      <th></th>\n",
       "      <th>temp_mean</th>\n",
       "      <th>temp_delta</th>\n",
       "      <th>dew_point_mean</th>\n",
       "      <th>humidity_mean</th>\n",
       "      <th>sl_pressure_mean</th>\n",
       "      <th>wind_speed_mean</th>\n",
       "      <th>cloud_cover</th>\n",
       "      <th>wind_direction</th>\n",
       "      <th>sun_length</th>\n",
       "      <th>wind_chill_mean</th>\n",
       "      <th>heat_index</th>\n",
       "      <th>temp_apparent</th>\n",
       "      <th>rain</th>\n",
       "      <th>dayofweek</th>\n",
       "      <th>month</th>\n",
       "      <th>day</th>\n",
       "    </tr>\n",
       "  </thead>\n",
       "  <tbody>\n",
       "    <tr>\n",
       "      <th>2011-02-19</th>\n",
       "      <td>43</td>\n",
       "      <td>5</td>\n",
       "      <td>39.468602</td>\n",
       "      <td>83</td>\n",
       "      <td>29.80</td>\n",
       "      <td>6</td>\n",
       "      <td>87</td>\n",
       "      <td>38</td>\n",
       "      <td>659.533333</td>\n",
       "      <td>43</td>\n",
       "      <td>105.910373</td>\n",
       "      <td>58.363068</td>\n",
       "      <td>True</td>\n",
       "      <td>saturday</td>\n",
       "      <td>2</td>\n",
       "      <td>19</td>\n",
       "    </tr>\n",
       "    <tr>\n",
       "      <th>2005-01-13</th>\n",
       "      <td>44</td>\n",
       "      <td>5</td>\n",
       "      <td>42.808950</td>\n",
       "      <td>94</td>\n",
       "      <td>30.29</td>\n",
       "      <td>4</td>\n",
       "      <td>75</td>\n",
       "      <td>82</td>\n",
       "      <td>590.783333</td>\n",
       "      <td>44</td>\n",
       "      <td>131.917614</td>\n",
       "      <td>65.307872</td>\n",
       "      <td>False</td>\n",
       "      <td>thursday</td>\n",
       "      <td>1</td>\n",
       "      <td>13</td>\n",
       "    </tr>\n",
       "    <tr>\n",
       "      <th>2009-12-09</th>\n",
       "      <td>41</td>\n",
       "      <td>10</td>\n",
       "      <td>34.666876</td>\n",
       "      <td>71</td>\n",
       "      <td>30.14</td>\n",
       "      <td>7</td>\n",
       "      <td>50</td>\n",
       "      <td>77</td>\n",
       "      <td>579.450000</td>\n",
       "      <td>41</td>\n",
       "      <td>78.045786</td>\n",
       "      <td>50.248217</td>\n",
       "      <td>False</td>\n",
       "      <td>wednesday</td>\n",
       "      <td>12</td>\n",
       "      <td>9</td>\n",
       "    </tr>\n",
       "    <tr>\n",
       "      <th>2007-01-12</th>\n",
       "      <td>42</td>\n",
       "      <td>9</td>\n",
       "      <td>29.035540</td>\n",
       "      <td>49</td>\n",
       "      <td>30.16</td>\n",
       "      <td>18</td>\n",
       "      <td>0</td>\n",
       "      <td>347</td>\n",
       "      <td>588.933333</td>\n",
       "      <td>42</td>\n",
       "      <td>60.787461</td>\n",
       "      <td>38.602076</td>\n",
       "      <td>False</td>\n",
       "      <td>friday</td>\n",
       "      <td>1</td>\n",
       "      <td>12</td>\n",
       "    </tr>\n",
       "    <tr>\n",
       "      <th>2008-01-24</th>\n",
       "      <td>44</td>\n",
       "      <td>5</td>\n",
       "      <td>40.215304</td>\n",
       "      <td>82</td>\n",
       "      <td>29.75</td>\n",
       "      <td>10</td>\n",
       "      <td>87</td>\n",
       "      <td>130</td>\n",
       "      <td>606.100000</td>\n",
       "      <td>44</td>\n",
       "      <td>111.541230</td>\n",
       "      <td>57.519633</td>\n",
       "      <td>True</td>\n",
       "      <td>thursday</td>\n",
       "      <td>1</td>\n",
       "      <td>24</td>\n",
       "    </tr>\n",
       "  </tbody>\n",
       "</table>\n",
       "</div>"
      ],
      "text/plain": [
       "            temp_mean  temp_delta  dew_point_mean  humidity_mean  \\\n",
       "2011-02-19         43           5       39.468602             83   \n",
       "2005-01-13         44           5       42.808950             94   \n",
       "2009-12-09         41          10       34.666876             71   \n",
       "2007-01-12         42           9       29.035540             49   \n",
       "2008-01-24         44           5       40.215304             82   \n",
       "\n",
       "            sl_pressure_mean  wind_speed_mean  cloud_cover  wind_direction  \\\n",
       "2011-02-19             29.80                6           87              38   \n",
       "2005-01-13             30.29                4           75              82   \n",
       "2009-12-09             30.14                7           50              77   \n",
       "2007-01-12             30.16               18            0             347   \n",
       "2008-01-24             29.75               10           87             130   \n",
       "\n",
       "            sun_length  wind_chill_mean  heat_index  temp_apparent   rain  \\\n",
       "2011-02-19  659.533333               43  105.910373      58.363068   True   \n",
       "2005-01-13  590.783333               44  131.917614      65.307872  False   \n",
       "2009-12-09  579.450000               41   78.045786      50.248217  False   \n",
       "2007-01-12  588.933333               42   60.787461      38.602076  False   \n",
       "2008-01-24  606.100000               44  111.541230      57.519633   True   \n",
       "\n",
       "            dayofweek month day  \n",
       "2011-02-19   saturday     2  19  \n",
       "2005-01-13   thursday     1  13  \n",
       "2009-12-09  wednesday    12   9  \n",
       "2007-01-12     friday     1  12  \n",
       "2008-01-24   thursday     1  24  "
      ]
     },
     "execution_count": 14,
     "metadata": {},
     "output_type": "execute_result"
    }
   ],
   "source": [
    "# split into data and class  X, y\n",
    "X, y = data[features], data[label]\n",
    "X.head()"
   ]
  },
  {
   "cell_type": "markdown",
   "metadata": {},
   "source": [
    "### Create the dummies from the categorical features"
   ]
  },
  {
   "cell_type": "code",
   "execution_count": 15,
   "metadata": {
    "collapsed": false
   },
   "outputs": [
    {
     "data": {
      "text/html": [
       "<div>\n",
       "<table border=\"1\" class=\"dataframe\">\n",
       "  <thead>\n",
       "    <tr style=\"text-align: right;\">\n",
       "      <th></th>\n",
       "      <th>temp_mean</th>\n",
       "      <th>temp_delta</th>\n",
       "      <th>dew_point_mean</th>\n",
       "      <th>humidity_mean</th>\n",
       "      <th>sl_pressure_mean</th>\n",
       "      <th>wind_speed_mean</th>\n",
       "      <th>cloud_cover</th>\n",
       "      <th>wind_direction</th>\n",
       "      <th>sun_length</th>\n",
       "      <th>wind_chill_mean</th>\n",
       "      <th>...</th>\n",
       "      <th>day_22</th>\n",
       "      <th>day_23</th>\n",
       "      <th>day_24</th>\n",
       "      <th>day_25</th>\n",
       "      <th>day_26</th>\n",
       "      <th>day_27</th>\n",
       "      <th>day_28</th>\n",
       "      <th>day_29</th>\n",
       "      <th>day_30</th>\n",
       "      <th>day_31</th>\n",
       "    </tr>\n",
       "  </thead>\n",
       "  <tbody>\n",
       "    <tr>\n",
       "      <th>2011-02-19</th>\n",
       "      <td>43</td>\n",
       "      <td>5</td>\n",
       "      <td>39.468602</td>\n",
       "      <td>83</td>\n",
       "      <td>29.80</td>\n",
       "      <td>6</td>\n",
       "      <td>87</td>\n",
       "      <td>38</td>\n",
       "      <td>659.533333</td>\n",
       "      <td>43</td>\n",
       "      <td>...</td>\n",
       "      <td>0</td>\n",
       "      <td>0</td>\n",
       "      <td>0</td>\n",
       "      <td>0</td>\n",
       "      <td>0</td>\n",
       "      <td>0</td>\n",
       "      <td>0</td>\n",
       "      <td>0</td>\n",
       "      <td>0</td>\n",
       "      <td>0</td>\n",
       "    </tr>\n",
       "    <tr>\n",
       "      <th>2005-01-13</th>\n",
       "      <td>44</td>\n",
       "      <td>5</td>\n",
       "      <td>42.808950</td>\n",
       "      <td>94</td>\n",
       "      <td>30.29</td>\n",
       "      <td>4</td>\n",
       "      <td>75</td>\n",
       "      <td>82</td>\n",
       "      <td>590.783333</td>\n",
       "      <td>44</td>\n",
       "      <td>...</td>\n",
       "      <td>0</td>\n",
       "      <td>0</td>\n",
       "      <td>0</td>\n",
       "      <td>0</td>\n",
       "      <td>0</td>\n",
       "      <td>0</td>\n",
       "      <td>0</td>\n",
       "      <td>0</td>\n",
       "      <td>0</td>\n",
       "      <td>0</td>\n",
       "    </tr>\n",
       "  </tbody>\n",
       "</table>\n",
       "<p>2 rows × 64 columns</p>\n",
       "</div>"
      ],
      "text/plain": [
       "            temp_mean  temp_delta  dew_point_mean  humidity_mean  \\\n",
       "2011-02-19         43           5       39.468602             83   \n",
       "2005-01-13         44           5       42.808950             94   \n",
       "\n",
       "            sl_pressure_mean  wind_speed_mean  cloud_cover  wind_direction  \\\n",
       "2011-02-19             29.80                6           87              38   \n",
       "2005-01-13             30.29                4           75              82   \n",
       "\n",
       "            sun_length  wind_chill_mean   ...    day_22  day_23  day_24  \\\n",
       "2011-02-19  659.533333               43   ...         0       0       0   \n",
       "2005-01-13  590.783333               44   ...         0       0       0   \n",
       "\n",
       "            day_25  day_26  day_27  day_28  day_29  day_30  day_31  \n",
       "2011-02-19       0       0       0       0       0       0       0  \n",
       "2005-01-13       0       0       0       0       0       0       0  \n",
       "\n",
       "[2 rows x 64 columns]"
      ]
     },
     "execution_count": 15,
     "metadata": {},
     "output_type": "execute_result"
    }
   ],
   "source": [
    "# use get_dummies to convert categoricals into binary features\n",
    "X = pd.get_dummies(X)\n",
    "X.head(2)"
   ]
  },
  {
   "cell_type": "code",
   "execution_count": 16,
   "metadata": {
    "collapsed": true
   },
   "outputs": [],
   "source": [
    "# save the full list if features including the new dummies\n",
    "# will be needed to create the forecast data frame to run through predictions\n",
    "full_features = X.columns"
   ]
  },
  {
   "cell_type": "code",
   "execution_count": 17,
   "metadata": {
    "collapsed": false
   },
   "outputs": [
    {
     "data": {
      "text/html": [
       "<div>\n",
       "<table border=\"1\" class=\"dataframe\">\n",
       "  <thead>\n",
       "    <tr style=\"text-align: right;\">\n",
       "      <th></th>\n",
       "      <th>temp_mean</th>\n",
       "      <th>temp_delta</th>\n",
       "      <th>dew_point_mean</th>\n",
       "      <th>humidity_mean</th>\n",
       "      <th>sl_pressure_mean</th>\n",
       "      <th>wind_speed_mean</th>\n",
       "      <th>cloud_cover</th>\n",
       "      <th>wind_direction</th>\n",
       "      <th>sun_length</th>\n",
       "      <th>wind_chill_mean</th>\n",
       "      <th>...</th>\n",
       "      <th>day_22</th>\n",
       "      <th>day_23</th>\n",
       "      <th>day_24</th>\n",
       "      <th>day_25</th>\n",
       "      <th>day_26</th>\n",
       "      <th>day_27</th>\n",
       "      <th>day_28</th>\n",
       "      <th>day_29</th>\n",
       "      <th>day_30</th>\n",
       "      <th>day_31</th>\n",
       "    </tr>\n",
       "  </thead>\n",
       "  <tbody>\n",
       "    <tr>\n",
       "      <th>2011-02-19</th>\n",
       "      <td>43</td>\n",
       "      <td>5</td>\n",
       "      <td>39.468602</td>\n",
       "      <td>83</td>\n",
       "      <td>29.80</td>\n",
       "      <td>6</td>\n",
       "      <td>87</td>\n",
       "      <td>38</td>\n",
       "      <td>659.533333</td>\n",
       "      <td>43</td>\n",
       "      <td>...</td>\n",
       "      <td>0</td>\n",
       "      <td>0</td>\n",
       "      <td>0</td>\n",
       "      <td>0</td>\n",
       "      <td>0</td>\n",
       "      <td>0</td>\n",
       "      <td>0</td>\n",
       "      <td>0</td>\n",
       "      <td>0</td>\n",
       "      <td>0</td>\n",
       "    </tr>\n",
       "    <tr>\n",
       "      <th>2005-01-13</th>\n",
       "      <td>44</td>\n",
       "      <td>5</td>\n",
       "      <td>42.808950</td>\n",
       "      <td>94</td>\n",
       "      <td>30.29</td>\n",
       "      <td>4</td>\n",
       "      <td>75</td>\n",
       "      <td>82</td>\n",
       "      <td>590.783333</td>\n",
       "      <td>44</td>\n",
       "      <td>...</td>\n",
       "      <td>0</td>\n",
       "      <td>0</td>\n",
       "      <td>0</td>\n",
       "      <td>0</td>\n",
       "      <td>0</td>\n",
       "      <td>0</td>\n",
       "      <td>0</td>\n",
       "      <td>0</td>\n",
       "      <td>0</td>\n",
       "      <td>0</td>\n",
       "    </tr>\n",
       "  </tbody>\n",
       "</table>\n",
       "<p>2 rows × 60 columns</p>\n",
       "</div>"
      ],
      "text/plain": [
       "            temp_mean  temp_delta  dew_point_mean  humidity_mean  \\\n",
       "2011-02-19         43           5       39.468602             83   \n",
       "2005-01-13         44           5       42.808950             94   \n",
       "\n",
       "            sl_pressure_mean  wind_speed_mean  cloud_cover  wind_direction  \\\n",
       "2011-02-19             29.80                6           87              38   \n",
       "2005-01-13             30.29                4           75              82   \n",
       "\n",
       "            sun_length  wind_chill_mean   ...    day_22  day_23  day_24  \\\n",
       "2011-02-19  659.533333               43   ...         0       0       0   \n",
       "2005-01-13  590.783333               44   ...         0       0       0   \n",
       "\n",
       "            day_25  day_26  day_27  day_28  day_29  day_30  day_31  \n",
       "2011-02-19       0       0       0       0       0       0       0  \n",
       "2005-01-13       0       0       0       0       0       0       0  \n",
       "\n",
       "[2 rows x 60 columns]"
      ]
     },
     "execution_count": 17,
     "metadata": {},
     "output_type": "execute_result"
    }
   ],
   "source": [
    "# Drop one feature for each categorical\n",
    "X.drop(dummy_drop, axis=1, inplace=True)\n",
    "X.head(2)"
   ]
  },
  {
   "cell_type": "code",
   "execution_count": 18,
   "metadata": {
    "collapsed": false
   },
   "outputs": [
    {
     "name": "stdout",
     "output_type": "stream",
     "text": [
      "<class 'pandas.core.frame.DataFrame'>\n",
      "Index: 4745 entries, 2011-02-19 to 2010-08-24\n",
      "Data columns (total 60 columns):\n",
      "temp_mean              4745 non-null int64\n",
      "temp_delta             4745 non-null int64\n",
      "dew_point_mean         4745 non-null float64\n",
      "humidity_mean          4745 non-null int64\n",
      "sl_pressure_mean       4745 non-null float64\n",
      "wind_speed_mean        4745 non-null int64\n",
      "cloud_cover            4745 non-null int64\n",
      "wind_direction         4745 non-null int64\n",
      "sun_length             4745 non-null float64\n",
      "wind_chill_mean        4745 non-null int64\n",
      "heat_index             4745 non-null float64\n",
      "temp_apparent          4745 non-null float64\n",
      "rain_True              4745 non-null float64\n",
      "dayofweek_friday       4745 non-null float64\n",
      "dayofweek_saturday     4745 non-null float64\n",
      "dayofweek_sunday       4745 non-null float64\n",
      "dayofweek_thursday     4745 non-null float64\n",
      "dayofweek_tuesday      4745 non-null float64\n",
      "dayofweek_wednesday    4745 non-null float64\n",
      "month_2                4745 non-null float64\n",
      "month_3                4745 non-null float64\n",
      "month_4                4745 non-null float64\n",
      "month_5                4745 non-null float64\n",
      "month_6                4745 non-null float64\n",
      "month_7                4745 non-null float64\n",
      "month_8                4745 non-null float64\n",
      "month_9                4745 non-null float64\n",
      "month_10               4745 non-null float64\n",
      "month_11               4745 non-null float64\n",
      "month_12               4745 non-null float64\n",
      "day_1                  4745 non-null float64\n",
      "day_2                  4745 non-null float64\n",
      "day_4                  4745 non-null float64\n",
      "day_5                  4745 non-null float64\n",
      "day_6                  4745 non-null float64\n",
      "day_7                  4745 non-null float64\n",
      "day_8                  4745 non-null float64\n",
      "day_9                  4745 non-null float64\n",
      "day_10                 4745 non-null float64\n",
      "day_11                 4745 non-null float64\n",
      "day_12                 4745 non-null float64\n",
      "day_13                 4745 non-null float64\n",
      "day_14                 4745 non-null float64\n",
      "day_15                 4745 non-null float64\n",
      "day_16                 4745 non-null float64\n",
      "day_17                 4745 non-null float64\n",
      "day_18                 4745 non-null float64\n",
      "day_19                 4745 non-null float64\n",
      "day_20                 4745 non-null float64\n",
      "day_21                 4745 non-null float64\n",
      "day_22                 4745 non-null float64\n",
      "day_23                 4745 non-null float64\n",
      "day_24                 4745 non-null float64\n",
      "day_25                 4745 non-null float64\n",
      "day_26                 4745 non-null float64\n",
      "day_27                 4745 non-null float64\n",
      "day_28                 4745 non-null float64\n",
      "day_29                 4745 non-null float64\n",
      "day_30                 4745 non-null float64\n",
      "day_31                 4745 non-null float64\n",
      "dtypes: float64(53), int64(7)\n",
      "memory usage: 2.2+ MB\n"
     ]
    }
   ],
   "source": [
    "X.info()"
   ]
  },
  {
   "cell_type": "markdown",
   "metadata": {},
   "source": [
    "### Split into Test and Training"
   ]
  },
  {
   "cell_type": "code",
   "execution_count": 19,
   "metadata": {
    "collapsed": true
   },
   "outputs": [],
   "source": [
    "# Split up data into train and test\n",
    "X_train, X_test, y_train, y_test = train_test_split(X, y, test_size=0.2, random_state=7)"
   ]
  },
  {
   "cell_type": "code",
   "execution_count": 20,
   "metadata": {
    "collapsed": false
   },
   "outputs": [],
   "source": [
    "# Standardize data if needed\n",
    "stdsc = StandardScaler()\n",
    "X_train_std = stdsc.fit_transform(X_train)\n",
    "X_test_std = stdsc.transform(X_test)"
   ]
  },
  {
   "cell_type": "code",
   "execution_count": 21,
   "metadata": {
    "collapsed": true
   },
   "outputs": [],
   "source": [
    "# Create the cv - defines how you want to break up all the tests\n",
    "cv = ShuffleSplit(X_train.shape[0], n_iter=10, test_size=0.2, random_state=0)"
   ]
  },
  {
   "cell_type": "markdown",
   "metadata": {},
   "source": [
    "### Scoring Metric"
   ]
  },
  {
   "cell_type": "code",
   "execution_count": 22,
   "metadata": {
    "collapsed": true
   },
   "outputs": [],
   "source": [
    "# Choose the scoring metric\n",
    "scoring='mean_absolute_error'\n",
    "#scoring='r2'"
   ]
  },
  {
   "cell_type": "markdown",
   "metadata": {},
   "source": [
    "## Dummy Regressor\n",
    "- used to compair models to the dummy, which just chooses the mean everytime."
   ]
  },
  {
   "cell_type": "markdown",
   "metadata": {},
   "source": [
    "[[back to top](#Sections)]\n"
   ]
  },
  {
   "cell_type": "code",
   "execution_count": 23,
   "metadata": {
    "collapsed": false
   },
   "outputs": [
    {
     "name": "stdout",
     "output_type": "stream",
     "text": [
      "CV MEA [-8.80868005 -8.50122044 -9.08180345 -8.44095243 -9.01609718 -8.90513747\n",
      " -8.60242528 -8.76113654 -8.62928108 -8.47338863], Average MEA -8.72201225643\n"
     ]
    }
   ],
   "source": [
    "dummy_model = DummyRegressor()\n",
    "dummy_model.fit(X_train_std, y_train)\n",
    "scores = cross_val_score(dummy_model, X_train_std, y_train, scoring=scoring, cv=cv)\n",
    "print('CV MEA {}, Average MEA {}'.format(scores, scores.mean()))"
   ]
  },
  {
   "cell_type": "code",
   "execution_count": 24,
   "metadata": {
    "collapsed": false
   },
   "outputs": [
    {
     "name": "stdout",
     "output_type": "stream",
     "text": [
      "Mean Absolute Error =  9.08841706816\n"
     ]
    }
   ],
   "source": [
    "# Get Mean Error of the test set\n",
    "results.loc['dummy','mean_abs_error'] = mean_absolute_error(y_test, dummy_model.predict(X_test_std))\n",
    "print 'Mean Absolute Error = ', results.loc['dummy','mean_abs_error']   "
   ]
  },
  {
   "cell_type": "code",
   "execution_count": 25,
   "metadata": {
    "collapsed": false,
    "scrolled": true
   },
   "outputs": [
    {
     "name": "stdout",
     "output_type": "stream",
     "text": [
      "Model R2_score :  -0.00331671859043\n"
     ]
    }
   ],
   "source": [
    "results.loc['dummy','R2_score'] = dummy_model.score(X_test_std, y_test)\n",
    "print 'Model R2_score : ', results.loc['dummy','R2_score']"
   ]
  },
  {
   "cell_type": "code",
   "execution_count": 26,
   "metadata": {
    "collapsed": false
   },
   "outputs": [
    {
     "name": "stdout",
     "output_type": "stream",
     "text": [
      "10000 loops, best of 3: 55.3 µs per loop\n",
      "<IPython.core.magics.execution.TimeitResult object at 0x109321ed0>\n"
     ]
    }
   ],
   "source": [
    "# Check the Speed of esimator\n",
    "time = %timeit -o dummy_model.predict(X_test_std)\n",
    "print time\n",
    "results.loc['dummy','time'] = time.best * 1000000"
   ]
  },
  {
   "cell_type": "markdown",
   "metadata": {},
   "source": [
    "## Random Forests"
   ]
  },
  {
   "cell_type": "markdown",
   "metadata": {},
   "source": [
    "[[back to top](#Sections)]\n"
   ]
  },
  {
   "cell_type": "code",
   "execution_count": 27,
   "metadata": {
    "collapsed": true
   },
   "outputs": [],
   "source": [
    "# Create the cv - defines how you want to break up all the tests\n",
    "cv = ShuffleSplit(X_train.shape[0], n_iter=5, test_size=0.2, random_state=0)"
   ]
  },
  {
   "cell_type": "code",
   "execution_count": 28,
   "metadata": {
    "collapsed": false
   },
   "outputs": [
    {
     "name": "stdout",
     "output_type": "stream",
     "text": [
      "n_est 40, CV MAE [-8.39243421 -8.28059211 -8.44930921 -8.26230263 -8.60851974], Average MAE 8.39863157895\n",
      "n_est 60, CV MAE [-8.19057018 -8.26403509 -8.41721491 -8.17133772 -8.6345614 ], Average MAE 8.33554385965\n",
      "n_est 80, CV MAE [-8.185625   -8.22802632 -8.40513158 -8.08554276 -8.56557566], Average MAE 8.29398026316\n",
      "n_est 100, CV MAE [-8.22284211 -8.16321053 -8.38310526 -8.17942105 -8.60369737], Average MAE 8.31045526316\n",
      "n_est 120, CV MAE [-8.20200658 -8.246875   -8.39695175 -8.13814693 -8.55239035], Average MAE 8.30727412281\n",
      "n_est 140, CV MAE [-8.19558271 -8.22106203 -8.37074248 -8.11177632 -8.55152256], Average MAE 8.29013721805\n",
      "n_est 160, CV MAE [-8.18098684 -8.22242599 -8.42806743 -8.1342023  -8.59100329], Average MAE 8.31133717105\n"
     ]
    }
   ],
   "source": [
    "ests = range(40,171,20)\n",
    "for est in ests:\n",
    "    model = RandomForestRegressor(n_estimators = est)\n",
    "    model.fit(X_train, y_train)\n",
    "    scores = cross_val_score(model, X_train, y_train, scoring=scoring, cv=cv)\n",
    "    print('n_est {}, CV MAE {}, Average MAE {}'.format(est, scores, scores.mean() * -1))"
   ]
  },
  {
   "cell_type": "code",
   "execution_count": 29,
   "metadata": {
    "collapsed": false
   },
   "outputs": [
    {
     "data": {
      "text/html": [
       "<div>\n",
       "<table border=\"1\" class=\"dataframe\">\n",
       "  <thead>\n",
       "    <tr style=\"text-align: right;\">\n",
       "      <th></th>\n",
       "      <th>Features</th>\n",
       "      <th>Importance Score</th>\n",
       "    </tr>\n",
       "  </thead>\n",
       "  <tbody>\n",
       "    <tr>\n",
       "      <th>8</th>\n",
       "      <td>sun_length</td>\n",
       "      <td>0.126718</td>\n",
       "    </tr>\n",
       "    <tr>\n",
       "      <th>7</th>\n",
       "      <td>wind_direction</td>\n",
       "      <td>0.086198</td>\n",
       "    </tr>\n",
       "    <tr>\n",
       "      <th>4</th>\n",
       "      <td>sl_pressure_mean</td>\n",
       "      <td>0.071358</td>\n",
       "    </tr>\n",
       "    <tr>\n",
       "      <th>11</th>\n",
       "      <td>temp_apparent</td>\n",
       "      <td>0.069255</td>\n",
       "    </tr>\n",
       "    <tr>\n",
       "      <th>1</th>\n",
       "      <td>temp_delta</td>\n",
       "      <td>0.065661</td>\n",
       "    </tr>\n",
       "    <tr>\n",
       "      <th>3</th>\n",
       "      <td>humidity_mean</td>\n",
       "      <td>0.063415</td>\n",
       "    </tr>\n",
       "    <tr>\n",
       "      <th>5</th>\n",
       "      <td>wind_speed_mean</td>\n",
       "      <td>0.056339</td>\n",
       "    </tr>\n",
       "    <tr>\n",
       "      <th>10</th>\n",
       "      <td>heat_index</td>\n",
       "      <td>0.044819</td>\n",
       "    </tr>\n",
       "    <tr>\n",
       "      <th>2</th>\n",
       "      <td>dew_point_mean</td>\n",
       "      <td>0.042527</td>\n",
       "    </tr>\n",
       "    <tr>\n",
       "      <th>6</th>\n",
       "      <td>cloud_cover</td>\n",
       "      <td>0.039569</td>\n",
       "    </tr>\n",
       "    <tr>\n",
       "      <th>30</th>\n",
       "      <td>day_1</td>\n",
       "      <td>0.027411</td>\n",
       "    </tr>\n",
       "    <tr>\n",
       "      <th>0</th>\n",
       "      <td>temp_mean</td>\n",
       "      <td>0.023415</td>\n",
       "    </tr>\n",
       "    <tr>\n",
       "      <th>9</th>\n",
       "      <td>wind_chill_mean</td>\n",
       "      <td>0.023112</td>\n",
       "    </tr>\n",
       "    <tr>\n",
       "      <th>14</th>\n",
       "      <td>dayofweek_saturday</td>\n",
       "      <td>0.016893</td>\n",
       "    </tr>\n",
       "    <tr>\n",
       "      <th>13</th>\n",
       "      <td>dayofweek_friday</td>\n",
       "      <td>0.013593</td>\n",
       "    </tr>\n",
       "    <tr>\n",
       "      <th>15</th>\n",
       "      <td>dayofweek_sunday</td>\n",
       "      <td>0.013280</td>\n",
       "    </tr>\n",
       "    <tr>\n",
       "      <th>53</th>\n",
       "      <td>day_25</td>\n",
       "      <td>0.010492</td>\n",
       "    </tr>\n",
       "    <tr>\n",
       "      <th>16</th>\n",
       "      <td>dayofweek_thursday</td>\n",
       "      <td>0.009598</td>\n",
       "    </tr>\n",
       "    <tr>\n",
       "      <th>12</th>\n",
       "      <td>rain_True</td>\n",
       "      <td>0.008417</td>\n",
       "    </tr>\n",
       "    <tr>\n",
       "      <th>28</th>\n",
       "      <td>month_11</td>\n",
       "      <td>0.008153</td>\n",
       "    </tr>\n",
       "    <tr>\n",
       "      <th>17</th>\n",
       "      <td>dayofweek_tuesday</td>\n",
       "      <td>0.007089</td>\n",
       "    </tr>\n",
       "    <tr>\n",
       "      <th>50</th>\n",
       "      <td>day_22</td>\n",
       "      <td>0.006714</td>\n",
       "    </tr>\n",
       "    <tr>\n",
       "      <th>59</th>\n",
       "      <td>day_31</td>\n",
       "      <td>0.006384</td>\n",
       "    </tr>\n",
       "    <tr>\n",
       "      <th>35</th>\n",
       "      <td>day_7</td>\n",
       "      <td>0.005837</td>\n",
       "    </tr>\n",
       "    <tr>\n",
       "      <th>45</th>\n",
       "      <td>day_17</td>\n",
       "      <td>0.005699</td>\n",
       "    </tr>\n",
       "    <tr>\n",
       "      <th>51</th>\n",
       "      <td>day_23</td>\n",
       "      <td>0.005665</td>\n",
       "    </tr>\n",
       "    <tr>\n",
       "      <th>18</th>\n",
       "      <td>dayofweek_wednesday</td>\n",
       "      <td>0.005612</td>\n",
       "    </tr>\n",
       "    <tr>\n",
       "      <th>58</th>\n",
       "      <td>day_30</td>\n",
       "      <td>0.005567</td>\n",
       "    </tr>\n",
       "    <tr>\n",
       "      <th>52</th>\n",
       "      <td>day_24</td>\n",
       "      <td>0.005540</td>\n",
       "    </tr>\n",
       "    <tr>\n",
       "      <th>54</th>\n",
       "      <td>day_26</td>\n",
       "      <td>0.005407</td>\n",
       "    </tr>\n",
       "    <tr>\n",
       "      <th>24</th>\n",
       "      <td>month_7</td>\n",
       "      <td>0.005313</td>\n",
       "    </tr>\n",
       "    <tr>\n",
       "      <th>47</th>\n",
       "      <td>day_19</td>\n",
       "      <td>0.005260</td>\n",
       "    </tr>\n",
       "    <tr>\n",
       "      <th>46</th>\n",
       "      <td>day_18</td>\n",
       "      <td>0.005071</td>\n",
       "    </tr>\n",
       "    <tr>\n",
       "      <th>42</th>\n",
       "      <td>day_14</td>\n",
       "      <td>0.005007</td>\n",
       "    </tr>\n",
       "    <tr>\n",
       "      <th>44</th>\n",
       "      <td>day_16</td>\n",
       "      <td>0.004994</td>\n",
       "    </tr>\n",
       "    <tr>\n",
       "      <th>40</th>\n",
       "      <td>day_12</td>\n",
       "      <td>0.004961</td>\n",
       "    </tr>\n",
       "    <tr>\n",
       "      <th>32</th>\n",
       "      <td>day_4</td>\n",
       "      <td>0.004869</td>\n",
       "    </tr>\n",
       "    <tr>\n",
       "      <th>48</th>\n",
       "      <td>day_20</td>\n",
       "      <td>0.004837</td>\n",
       "    </tr>\n",
       "    <tr>\n",
       "      <th>33</th>\n",
       "      <td>day_5</td>\n",
       "      <td>0.004689</td>\n",
       "    </tr>\n",
       "    <tr>\n",
       "      <th>20</th>\n",
       "      <td>month_3</td>\n",
       "      <td>0.004469</td>\n",
       "    </tr>\n",
       "    <tr>\n",
       "      <th>57</th>\n",
       "      <td>day_29</td>\n",
       "      <td>0.004466</td>\n",
       "    </tr>\n",
       "    <tr>\n",
       "      <th>27</th>\n",
       "      <td>month_10</td>\n",
       "      <td>0.004445</td>\n",
       "    </tr>\n",
       "    <tr>\n",
       "      <th>31</th>\n",
       "      <td>day_2</td>\n",
       "      <td>0.004361</td>\n",
       "    </tr>\n",
       "    <tr>\n",
       "      <th>36</th>\n",
       "      <td>day_8</td>\n",
       "      <td>0.004250</td>\n",
       "    </tr>\n",
       "    <tr>\n",
       "      <th>43</th>\n",
       "      <td>day_15</td>\n",
       "      <td>0.004178</td>\n",
       "    </tr>\n",
       "    <tr>\n",
       "      <th>55</th>\n",
       "      <td>day_27</td>\n",
       "      <td>0.003947</td>\n",
       "    </tr>\n",
       "    <tr>\n",
       "      <th>37</th>\n",
       "      <td>day_9</td>\n",
       "      <td>0.003797</td>\n",
       "    </tr>\n",
       "    <tr>\n",
       "      <th>39</th>\n",
       "      <td>day_11</td>\n",
       "      <td>0.003702</td>\n",
       "    </tr>\n",
       "    <tr>\n",
       "      <th>22</th>\n",
       "      <td>month_5</td>\n",
       "      <td>0.003624</td>\n",
       "    </tr>\n",
       "    <tr>\n",
       "      <th>25</th>\n",
       "      <td>month_8</td>\n",
       "      <td>0.003607</td>\n",
       "    </tr>\n",
       "    <tr>\n",
       "      <th>21</th>\n",
       "      <td>month_4</td>\n",
       "      <td>0.003589</td>\n",
       "    </tr>\n",
       "    <tr>\n",
       "      <th>56</th>\n",
       "      <td>day_28</td>\n",
       "      <td>0.003525</td>\n",
       "    </tr>\n",
       "    <tr>\n",
       "      <th>34</th>\n",
       "      <td>day_6</td>\n",
       "      <td>0.003470</td>\n",
       "    </tr>\n",
       "    <tr>\n",
       "      <th>41</th>\n",
       "      <td>day_13</td>\n",
       "      <td>0.003419</td>\n",
       "    </tr>\n",
       "    <tr>\n",
       "      <th>19</th>\n",
       "      <td>month_2</td>\n",
       "      <td>0.003277</td>\n",
       "    </tr>\n",
       "    <tr>\n",
       "      <th>26</th>\n",
       "      <td>month_9</td>\n",
       "      <td>0.003046</td>\n",
       "    </tr>\n",
       "    <tr>\n",
       "      <th>29</th>\n",
       "      <td>month_12</td>\n",
       "      <td>0.002828</td>\n",
       "    </tr>\n",
       "    <tr>\n",
       "      <th>49</th>\n",
       "      <td>day_21</td>\n",
       "      <td>0.002826</td>\n",
       "    </tr>\n",
       "    <tr>\n",
       "      <th>38</th>\n",
       "      <td>day_10</td>\n",
       "      <td>0.002584</td>\n",
       "    </tr>\n",
       "    <tr>\n",
       "      <th>23</th>\n",
       "      <td>month_6</td>\n",
       "      <td>0.001854</td>\n",
       "    </tr>\n",
       "  </tbody>\n",
       "</table>\n",
       "</div>"
      ],
      "text/plain": [
       "               Features  Importance Score\n",
       "8            sun_length          0.126718\n",
       "7        wind_direction          0.086198\n",
       "4      sl_pressure_mean          0.071358\n",
       "11        temp_apparent          0.069255\n",
       "1            temp_delta          0.065661\n",
       "3         humidity_mean          0.063415\n",
       "5       wind_speed_mean          0.056339\n",
       "10           heat_index          0.044819\n",
       "2        dew_point_mean          0.042527\n",
       "6           cloud_cover          0.039569\n",
       "30                day_1          0.027411\n",
       "0             temp_mean          0.023415\n",
       "9       wind_chill_mean          0.023112\n",
       "14   dayofweek_saturday          0.016893\n",
       "13     dayofweek_friday          0.013593\n",
       "15     dayofweek_sunday          0.013280\n",
       "53               day_25          0.010492\n",
       "16   dayofweek_thursday          0.009598\n",
       "12            rain_True          0.008417\n",
       "28             month_11          0.008153\n",
       "17    dayofweek_tuesday          0.007089\n",
       "50               day_22          0.006714\n",
       "59               day_31          0.006384\n",
       "35                day_7          0.005837\n",
       "45               day_17          0.005699\n",
       "51               day_23          0.005665\n",
       "18  dayofweek_wednesday          0.005612\n",
       "58               day_30          0.005567\n",
       "52               day_24          0.005540\n",
       "54               day_26          0.005407\n",
       "24              month_7          0.005313\n",
       "47               day_19          0.005260\n",
       "46               day_18          0.005071\n",
       "42               day_14          0.005007\n",
       "44               day_16          0.004994\n",
       "40               day_12          0.004961\n",
       "32                day_4          0.004869\n",
       "48               day_20          0.004837\n",
       "33                day_5          0.004689\n",
       "20              month_3          0.004469\n",
       "57               day_29          0.004466\n",
       "27             month_10          0.004445\n",
       "31                day_2          0.004361\n",
       "36                day_8          0.004250\n",
       "43               day_15          0.004178\n",
       "55               day_27          0.003947\n",
       "37                day_9          0.003797\n",
       "39               day_11          0.003702\n",
       "22              month_5          0.003624\n",
       "25              month_8          0.003607\n",
       "21              month_4          0.003589\n",
       "56               day_28          0.003525\n",
       "34                day_6          0.003470\n",
       "41               day_13          0.003419\n",
       "19              month_2          0.003277\n",
       "26              month_9          0.003046\n",
       "29             month_12          0.002828\n",
       "49               day_21          0.002826\n",
       "38               day_10          0.002584\n",
       "23              month_6          0.001854"
      ]
     },
     "execution_count": 29,
     "metadata": {},
     "output_type": "execute_result"
    }
   ],
   "source": [
    "X_features = X.columns\n",
    "feature_importances = model.feature_importances_\n",
    "\n",
    "features_df = pd.DataFrame({'Features': X_features, 'Importance Score': feature_importances})\n",
    "features_df.sort_values('Importance Score', inplace=True, ascending=False)\n",
    "\n",
    "features_df"
   ]
  },
  {
   "cell_type": "markdown",
   "metadata": {},
   "source": [
    "### Choose final parms and fit"
   ]
  },
  {
   "cell_type": "code",
   "execution_count": 30,
   "metadata": {
    "collapsed": false
   },
   "outputs": [
    {
     "name": "stdout",
     "output_type": "stream",
     "text": [
      "n_est 160, CV MAE [-8.22080827 -8.19824248 -8.35065789 -8.14866541 -8.59405075], MAE accuracy 8.30248496241\n"
     ]
    }
   ],
   "source": [
    "RF_model = RandomForestRegressor(n_estimators = 140)\n",
    "RF_model.fit(X_train, y_train)\n",
    "scores = cross_val_score(RF_model, X_train, y_train, scoring=scoring, cv=cv)\n",
    "print('n_est {}, CV MAE {}, MAE accuracy {}'.format(est, scores, scores.mean() * -1))"
   ]
  },
  {
   "cell_type": "code",
   "execution_count": 31,
   "metadata": {
    "collapsed": false
   },
   "outputs": [
    {
     "name": "stderr",
     "output_type": "stream",
     "text": [
      "/Users/jsmithson/anaconda/lib/python2.7/site-packages/matplotlib/collections.py:590: FutureWarning: elementwise comparison failed; returning scalar instead, but in the future will perform elementwise comparison\n",
      "  if self._edgecolors == str('face'):\n"
     ]
    },
    {
     "data": {
      "image/png": "[encoded data removed]",
      "text/plain": [
       "<matplotlib.figure.Figure at 0x109c13d10>"
      ]
     },
     "metadata": {},
     "output_type": "display_data"
    }
   ],
   "source": [
    "draw_learning_curve(RF_model, X_train, y_train, estimator_titles=['Learning Curve for RF. Best'], \n",
    "                    cv=cv, scoring=scoring);"
   ]
  },
  {
   "cell_type": "code",
   "execution_count": 32,
   "metadata": {
    "collapsed": true
   },
   "outputs": [],
   "source": [
    "results.loc['RF','lc_com'] = '.......'"
   ]
  },
  {
   "cell_type": "code",
   "execution_count": 33,
   "metadata": {
    "collapsed": false
   },
   "outputs": [
    {
     "name": "stdout",
     "output_type": "stream",
     "text": [
      "Mean Absolute Error =  8.65672888755\n"
     ]
    }
   ],
   "source": [
    "# Get Mean Error of the test set\n",
    "results.loc['RF','mean_abs_error'] = mean_absolute_error(y_test, RF_model.predict(X_test))\n",
    "print 'Mean Absolute Error = ', results.loc['RF','mean_abs_error']   "
   ]
  },
  {
   "cell_type": "code",
   "execution_count": 34,
   "metadata": {
    "collapsed": false
   },
   "outputs": [
    {
     "name": "stdout",
     "output_type": "stream",
     "text": [
      "Model R2_score :  0.104778507796\n"
     ]
    }
   ],
   "source": [
    "results.loc['RF','R2_score'] = RF_model.score(X_test, y_test)\n",
    "print 'Model R2_score : ', results.loc['RF','R2_score']"
   ]
  },
  {
   "cell_type": "code",
   "execution_count": 35,
   "metadata": {
    "collapsed": false
   },
   "outputs": [
    {
     "name": "stdout",
     "output_type": "stream",
     "text": [
      "10 loops, best of 3: 27.5 ms per loop\n",
      "<IPython.core.magics.execution.TimeitResult object at 0x109c13e50>\n"
     ]
    }
   ],
   "source": [
    "# Check the Speed of esimator\n",
    "time = %timeit -o RF_model.predict(X_test)\n",
    "print time\n",
    "results.loc['RF','time'] = time.best * 1000000"
   ]
  },
  {
   "cell_type": "markdown",
   "metadata": {},
   "source": [
    "## SVM\n"
   ]
  },
  {
   "cell_type": "markdown",
   "metadata": {},
   "source": [
    "[[back to top](#Sections)]\n"
   ]
  },
  {
   "cell_type": "code",
   "execution_count": 36,
   "metadata": {
    "collapsed": true
   },
   "outputs": [],
   "source": [
    "# Create the cv - defines how you want to break up all the tests\n",
    "cv = ShuffleSplit(X_train.shape[0], n_iter=5, test_size=0.2, random_state=0)"
   ]
  },
  {
   "cell_type": "code",
   "execution_count": 37,
   "metadata": {
    "collapsed": false
   },
   "outputs": [],
   "source": [
    "#SVM_model = SVR(C=10, kernel='rbf', gamma=.001, degree=1)\n",
    "#SVM_model.fit(X_train_std, y_train)"
   ]
  },
  {
   "cell_type": "code",
   "execution_count": 38,
   "metadata": {
    "collapsed": false
   },
   "outputs": [
    {
     "data": {
      "text/plain": [
       "array([ 0.5,  1. ,  1.5,  2. ])"
      ]
     },
     "execution_count": 38,
     "metadata": {},
     "output_type": "execute_result"
    }
   ],
   "source": [
    "np.linspace(.5, 2, 4)"
   ]
  },
  {
   "cell_type": "code",
   "execution_count": 47,
   "metadata": {
    "collapsed": false
   },
   "outputs": [
    {
     "data": {
      "text/plain": [
       "GridSearchCV(cv=ShuffleSplit(3796, n_iter=5, test_size=0.2, random_state=0),\n",
       "       error_score='raise',\n",
       "       estimator=SVR(C=1.0, cache_size=200, coef0=0.0, degree=3, epsilon=0.1, gamma=0.0,\n",
       "  kernel='rbf', max_iter=-1, shrinking=True, tol=0.001, verbose=False),\n",
       "       fit_params={}, iid=True, loss_func=None, n_jobs=-1,\n",
       "       param_grid={'kernel': ['linear'], 'C': array([ 0.01,  0.12,  0.23,  0.34,  0.45,  0.56,  0.67,  0.78,  0.89,  1.  ])},\n",
       "       pre_dispatch='2*n_jobs', refit=True, score_func=None,\n",
       "       scoring='mean_absolute_error', verbose=0)"
      ]
     },
     "execution_count": 47,
     "metadata": {},
     "output_type": "execute_result"
    }
   ],
   "source": [
    "#params = {'C': np.linspace(1, 7, 4), 'kernel': ['poly', 'rbf'],\n",
    "#         'degree': range(1,3), 'gamma': np.linspace(.001, 10, 2)}\n",
    "# 1 params = {'kernel': ['poly', 'rbf', 'sigmoid', 'linear'], 'degree': range(1,4)}\n",
    "\n",
    "#params = {'C': np.linspace(.01, 2, 10), 'kernel': ['linear']}\n",
    "\n",
    "\n",
    "params = {'C': np.linspace(.01, 1, 10), 'kernel': ['linear']}\n",
    "\n",
    "\n",
    "\n",
    "clf = SVR()\n",
    "grid = GridSearchCV(clf, params, cv=cv, scoring=scoring, n_jobs=-1)\n",
    "grid.fit(X_train_std, y_train)"
   ]
  },
  {
   "cell_type": "code",
   "execution_count": 48,
   "metadata": {
    "collapsed": false
   },
   "outputs": [
    {
     "data": {
      "text/plain": [
       "{'C': 0.12, 'kernel': 'linear'}"
      ]
     },
     "execution_count": 48,
     "metadata": {},
     "output_type": "execute_result"
    }
   ],
   "source": [
    "grid.best_params_"
   ]
  },
  {
   "cell_type": "code",
   "execution_count": 49,
   "metadata": {
    "collapsed": false
   },
   "outputs": [
    {
     "data": {
      "text/plain": [
       "[mean: -8.31162, std: 0.20609, params: {'kernel': 'linear', 'C': 0.01},\n",
       " mean: -8.30294, std: 0.16817, params: {'kernel': 'linear', 'C': 0.12},\n",
       " mean: -8.30704, std: 0.16564, params: {'kernel': 'linear', 'C': 0.23000000000000001},\n",
       " mean: -8.30924, std: 0.16321, params: {'kernel': 'linear', 'C': 0.34000000000000002},\n",
       " mean: -8.31107, std: 0.16134, params: {'kernel': 'linear', 'C': 0.45000000000000001},\n",
       " mean: -8.31103, std: 0.16125, params: {'kernel': 'linear', 'C': 0.56000000000000005},\n",
       " mean: -8.31150, std: 0.16044, params: {'kernel': 'linear', 'C': 0.67000000000000004},\n",
       " mean: -8.31093, std: 0.16019, params: {'kernel': 'linear', 'C': 0.78000000000000003},\n",
       " mean: -8.31097, std: 0.15958, params: {'kernel': 'linear', 'C': 0.89000000000000001},\n",
       " mean: -8.31134, std: 0.15924, params: {'kernel': 'linear', 'C': 1.0}]"
      ]
     },
     "execution_count": 49,
     "metadata": {},
     "output_type": "execute_result"
    }
   ],
   "source": [
    "grid.grid_scores_"
   ]
  },
  {
   "cell_type": "code",
   "execution_count": 50,
   "metadata": {
    "collapsed": false,
    "scrolled": true
   },
   "outputs": [
    {
     "data": {
      "image/png": "[encoded data removed]",
      "text/plain": [
       "<matplotlib.figure.Figure at 0x1058863d0>"
      ]
     },
     "metadata": {},
     "output_type": "display_data"
    }
   ],
   "source": [
    "SVM_model = grid.best_estimator_\n",
    "\n",
    "draw_learning_curve(SVM_model, X_train_std, y_train, estimator_titles=['Learning Curve for SVC. Best'], \n",
    "                    cv=cv, scoring=scoring);"
   ]
  },
  {
   "cell_type": "code",
   "execution_count": 51,
   "metadata": {
    "collapsed": true
   },
   "outputs": [],
   "source": [
    "results.loc['SVM','lc_com'] = '.......'"
   ]
  },
  {
   "cell_type": "code",
   "execution_count": 52,
   "metadata": {
    "collapsed": false,
    "scrolled": true
   },
   "outputs": [
    {
     "name": "stdout",
     "output_type": "stream",
     "text": [
      "Model R2_score :  0.0904152987343\n"
     ]
    }
   ],
   "source": [
    "results.loc['SVM','R2_score'] = SVM_model.score(X_test_std, y_test)\n",
    "print 'Model R2_score : ', results.loc['SVM','R2_score']"
   ]
  },
  {
   "cell_type": "code",
   "execution_count": 53,
   "metadata": {
    "collapsed": false
   },
   "outputs": [
    {
     "name": "stdout",
     "output_type": "stream",
     "text": [
      "Mean Absolute Error =  8.6772758242\n"
     ]
    }
   ],
   "source": [
    "# Get Mean Error of the test set\n",
    "results.loc['SVM','mean_abs_error'] = mean_absolute_error(y_test, SVM_model.predict(X_test_std))\n",
    "print 'Mean Absolute Error = ', results.loc['SVM','mean_abs_error']            "
   ]
  },
  {
   "cell_type": "code",
   "execution_count": 54,
   "metadata": {
    "collapsed": false
   },
   "outputs": [
    {
     "name": "stdout",
     "output_type": "stream",
     "text": [
      "1 loops, best of 3: 190 ms per loop\n",
      "<IPython.core.magics.execution.TimeitResult object at 0x109305990>\n"
     ]
    }
   ],
   "source": [
    "# Check the Speed of esimator\n",
    "time = %timeit -o SVM_model.predict(X_test_std)\n",
    "print time\n",
    "results.loc['SVM','time'] = time.best * 1000000"
   ]
  },
  {
   "cell_type": "markdown",
   "metadata": {},
   "source": [
    "## Lasso/Ridge"
   ]
  },
  {
   "cell_type": "markdown",
   "metadata": {},
   "source": [
    "[[back to top](#Sections)]\n"
   ]
  },
  {
   "cell_type": "code",
   "execution_count": 55,
   "metadata": {
    "collapsed": true
   },
   "outputs": [],
   "source": [
    "# Create the cv - defines how you want to break up all the tests\n",
    "cv = ShuffleSplit(X_train_std.shape[0], n_iter=20, test_size=0.2, random_state=0)"
   ]
  },
  {
   "cell_type": "code",
   "execution_count": 56,
   "metadata": {
    "collapsed": false
   },
   "outputs": [
    {
     "data": {
      "text/plain": [
       "{'alpha': 0.11421052631578947}"
      ]
     },
     "execution_count": 56,
     "metadata": {},
     "output_type": "execute_result"
    }
   ],
   "source": [
    "# using Mean Absolute scoring\n",
    "parameters = {'alpha': np.linspace(.01,1,20)}\n",
    "LR = Lasso(normalize=False)\n",
    "clf = GridSearchCV(LR, parameters, scoring=scoring, cv=cv)\n",
    "clf.fit(X_train_std, y_train)\n",
    "clf.best_params_"
   ]
  },
  {
   "cell_type": "code",
   "execution_count": 59,
   "metadata": {
    "collapsed": false
   },
   "outputs": [],
   "source": [
    "#clf.grid_scores_"
   ]
  },
  {
   "cell_type": "code",
   "execution_count": 60,
   "metadata": {
    "collapsed": true
   },
   "outputs": [],
   "source": [
    "LR_model = clf.best_estimator_"
   ]
  },
  {
   "cell_type": "code",
   "execution_count": 61,
   "metadata": {
    "collapsed": false
   },
   "outputs": [
    {
     "data": {
      "image/png": "[encoded data removed]",
      "text/plain": [
       "<matplotlib.figure.Figure at 0x1096e2310>"
      ]
     },
     "metadata": {},
     "output_type": "display_data"
    }
   ],
   "source": [
    "draw_learning_curve(LR_model, X_train_std, y_train, estimator_titles=['Learning Curve for lasso'], \n",
    "                    cv=cv, scoring=scoring);"
   ]
  },
  {
   "cell_type": "code",
   "execution_count": 62,
   "metadata": {
    "collapsed": true
   },
   "outputs": [],
   "source": [
    "results.loc['LR','lc_com'] = '.......'"
   ]
  },
  {
   "cell_type": "code",
   "execution_count": 63,
   "metadata": {
    "collapsed": false
   },
   "outputs": [
    {
     "name": "stdout",
     "output_type": "stream",
     "text": [
      "Model R2_score :  0.110640706897\n"
     ]
    }
   ],
   "source": [
    "results.loc['LR','R2_score'] = LR_model.score(X_test_std, y_test)\n",
    "print 'Model R2_score : ', results.loc['LR','R2_score']"
   ]
  },
  {
   "cell_type": "code",
   "execution_count": 64,
   "metadata": {
    "collapsed": false
   },
   "outputs": [
    {
     "name": "stdout",
     "output_type": "stream",
     "text": [
      "Mean Absolute Error =  8.61711715431\n"
     ]
    }
   ],
   "source": [
    "# Get Mean Error of the test set\n",
    "results.loc['LR','mean_abs_error'] = mean_absolute_error(y_test, LR_model.predict(X_test_std))\n",
    "print 'Mean Absolute Error = ', results.loc['LR','mean_abs_error']             "
   ]
  },
  {
   "cell_type": "code",
   "execution_count": 65,
   "metadata": {
    "collapsed": false
   },
   "outputs": [
    {
     "name": "stdout",
     "output_type": "stream",
     "text": [
      "10000 loops, best of 3: 76.8 µs per loop\n",
      "<IPython.core.magics.execution.TimeitResult object at 0x10a207e90>\n"
     ]
    }
   ],
   "source": [
    "# Check the Speed of esimator\n",
    "time = %timeit -o LR_model.predict(X_test_std)\n",
    "print time\n",
    "results.loc['LR','time'] = time.best * 1000000"
   ]
  },
  {
   "cell_type": "code",
   "execution_count": 66,
   "metadata": {
    "collapsed": false
   },
   "outputs": [
    {
     "data": {
      "text/html": [
       "<div>\n",
       "<table border=\"1\" class=\"dataframe\">\n",
       "  <thead>\n",
       "    <tr style=\"text-align: right;\">\n",
       "      <th></th>\n",
       "      <th>coefficients</th>\n",
       "      <th>features</th>\n",
       "    </tr>\n",
       "  </thead>\n",
       "  <tbody>\n",
       "    <tr>\n",
       "      <th>0</th>\n",
       "      <td>0.546365</td>\n",
       "      <td>temp_mean</td>\n",
       "    </tr>\n",
       "    <tr>\n",
       "      <th>1</th>\n",
       "      <td>0.061243</td>\n",
       "      <td>temp_delta</td>\n",
       "    </tr>\n",
       "    <tr>\n",
       "      <th>2</th>\n",
       "      <td>0.000000</td>\n",
       "      <td>dew_point_mean</td>\n",
       "    </tr>\n",
       "    <tr>\n",
       "      <th>3</th>\n",
       "      <td>-0.313258</td>\n",
       "      <td>humidity_mean</td>\n",
       "    </tr>\n",
       "    <tr>\n",
       "      <th>4</th>\n",
       "      <td>0.000000</td>\n",
       "      <td>sl_pressure_mean</td>\n",
       "    </tr>\n",
       "    <tr>\n",
       "      <th>5</th>\n",
       "      <td>-0.173353</td>\n",
       "      <td>wind_speed_mean</td>\n",
       "    </tr>\n",
       "    <tr>\n",
       "      <th>6</th>\n",
       "      <td>-0.000000</td>\n",
       "      <td>cloud_cover</td>\n",
       "    </tr>\n",
       "    <tr>\n",
       "      <th>7</th>\n",
       "      <td>0.000000</td>\n",
       "      <td>wind_direction</td>\n",
       "    </tr>\n",
       "    <tr>\n",
       "      <th>8</th>\n",
       "      <td>-0.183891</td>\n",
       "      <td>sun_length</td>\n",
       "    </tr>\n",
       "    <tr>\n",
       "      <th>9</th>\n",
       "      <td>0.012546</td>\n",
       "      <td>wind_chill_mean</td>\n",
       "    </tr>\n",
       "    <tr>\n",
       "      <th>10</th>\n",
       "      <td>0.000000</td>\n",
       "      <td>heat_index</td>\n",
       "    </tr>\n",
       "    <tr>\n",
       "      <th>11</th>\n",
       "      <td>1.217732</td>\n",
       "      <td>temp_apparent</td>\n",
       "    </tr>\n",
       "    <tr>\n",
       "      <th>12</th>\n",
       "      <td>-0.824424</td>\n",
       "      <td>rain_True</td>\n",
       "    </tr>\n",
       "    <tr>\n",
       "      <th>13</th>\n",
       "      <td>1.188254</td>\n",
       "      <td>dayofweek_friday</td>\n",
       "    </tr>\n",
       "    <tr>\n",
       "      <th>14</th>\n",
       "      <td>1.551866</td>\n",
       "      <td>dayofweek_saturday</td>\n",
       "    </tr>\n",
       "    <tr>\n",
       "      <th>15</th>\n",
       "      <td>1.253475</td>\n",
       "      <td>dayofweek_sunday</td>\n",
       "    </tr>\n",
       "    <tr>\n",
       "      <th>16</th>\n",
       "      <td>-0.498224</td>\n",
       "      <td>dayofweek_thursday</td>\n",
       "    </tr>\n",
       "    <tr>\n",
       "      <th>17</th>\n",
       "      <td>-0.048467</td>\n",
       "      <td>dayofweek_tuesday</td>\n",
       "    </tr>\n",
       "    <tr>\n",
       "      <th>18</th>\n",
       "      <td>0.000000</td>\n",
       "      <td>dayofweek_wednesday</td>\n",
       "    </tr>\n",
       "    <tr>\n",
       "      <th>19</th>\n",
       "      <td>0.105579</td>\n",
       "      <td>month_2</td>\n",
       "    </tr>\n",
       "    <tr>\n",
       "      <th>20</th>\n",
       "      <td>0.318347</td>\n",
       "      <td>month_3</td>\n",
       "    </tr>\n",
       "    <tr>\n",
       "      <th>21</th>\n",
       "      <td>0.009784</td>\n",
       "      <td>month_4</td>\n",
       "    </tr>\n",
       "    <tr>\n",
       "      <th>22</th>\n",
       "      <td>0.000000</td>\n",
       "      <td>month_5</td>\n",
       "    </tr>\n",
       "    <tr>\n",
       "      <th>23</th>\n",
       "      <td>-0.335769</td>\n",
       "      <td>month_6</td>\n",
       "    </tr>\n",
       "    <tr>\n",
       "      <th>24</th>\n",
       "      <td>-0.994132</td>\n",
       "      <td>month_7</td>\n",
       "    </tr>\n",
       "    <tr>\n",
       "      <th>25</th>\n",
       "      <td>-0.666288</td>\n",
       "      <td>month_8</td>\n",
       "    </tr>\n",
       "    <tr>\n",
       "      <th>26</th>\n",
       "      <td>-0.000000</td>\n",
       "      <td>month_9</td>\n",
       "    </tr>\n",
       "    <tr>\n",
       "      <th>27</th>\n",
       "      <td>0.000000</td>\n",
       "      <td>month_10</td>\n",
       "    </tr>\n",
       "    <tr>\n",
       "      <th>28</th>\n",
       "      <td>-0.284803</td>\n",
       "      <td>month_11</td>\n",
       "    </tr>\n",
       "    <tr>\n",
       "      <th>29</th>\n",
       "      <td>-1.065590</td>\n",
       "      <td>month_12</td>\n",
       "    </tr>\n",
       "    <tr>\n",
       "      <th>30</th>\n",
       "      <td>1.657213</td>\n",
       "      <td>day_1</td>\n",
       "    </tr>\n",
       "    <tr>\n",
       "      <th>31</th>\n",
       "      <td>-0.000000</td>\n",
       "      <td>day_2</td>\n",
       "    </tr>\n",
       "    <tr>\n",
       "      <th>32</th>\n",
       "      <td>-0.007365</td>\n",
       "      <td>day_4</td>\n",
       "    </tr>\n",
       "    <tr>\n",
       "      <th>33</th>\n",
       "      <td>-0.000000</td>\n",
       "      <td>day_5</td>\n",
       "    </tr>\n",
       "    <tr>\n",
       "      <th>34</th>\n",
       "      <td>-0.091181</td>\n",
       "      <td>day_6</td>\n",
       "    </tr>\n",
       "    <tr>\n",
       "      <th>35</th>\n",
       "      <td>-0.229148</td>\n",
       "      <td>day_7</td>\n",
       "    </tr>\n",
       "    <tr>\n",
       "      <th>36</th>\n",
       "      <td>-0.177724</td>\n",
       "      <td>day_8</td>\n",
       "    </tr>\n",
       "    <tr>\n",
       "      <th>37</th>\n",
       "      <td>-0.000000</td>\n",
       "      <td>day_9</td>\n",
       "    </tr>\n",
       "    <tr>\n",
       "      <th>38</th>\n",
       "      <td>-0.197352</td>\n",
       "      <td>day_10</td>\n",
       "    </tr>\n",
       "    <tr>\n",
       "      <th>39</th>\n",
       "      <td>-0.289528</td>\n",
       "      <td>day_11</td>\n",
       "    </tr>\n",
       "    <tr>\n",
       "      <th>40</th>\n",
       "      <td>0.000000</td>\n",
       "      <td>day_12</td>\n",
       "    </tr>\n",
       "    <tr>\n",
       "      <th>41</th>\n",
       "      <td>-0.000000</td>\n",
       "      <td>day_13</td>\n",
       "    </tr>\n",
       "    <tr>\n",
       "      <th>42</th>\n",
       "      <td>0.026475</td>\n",
       "      <td>day_14</td>\n",
       "    </tr>\n",
       "    <tr>\n",
       "      <th>43</th>\n",
       "      <td>0.207465</td>\n",
       "      <td>day_15</td>\n",
       "    </tr>\n",
       "    <tr>\n",
       "      <th>44</th>\n",
       "      <td>0.068146</td>\n",
       "      <td>day_16</td>\n",
       "    </tr>\n",
       "    <tr>\n",
       "      <th>45</th>\n",
       "      <td>0.025659</td>\n",
       "      <td>day_17</td>\n",
       "    </tr>\n",
       "    <tr>\n",
       "      <th>46</th>\n",
       "      <td>0.000000</td>\n",
       "      <td>day_18</td>\n",
       "    </tr>\n",
       "    <tr>\n",
       "      <th>47</th>\n",
       "      <td>0.003335</td>\n",
       "      <td>day_19</td>\n",
       "    </tr>\n",
       "    <tr>\n",
       "      <th>48</th>\n",
       "      <td>0.227573</td>\n",
       "      <td>day_20</td>\n",
       "    </tr>\n",
       "    <tr>\n",
       "      <th>49</th>\n",
       "      <td>0.000000</td>\n",
       "      <td>day_21</td>\n",
       "    </tr>\n",
       "    <tr>\n",
       "      <th>50</th>\n",
       "      <td>-0.000000</td>\n",
       "      <td>day_22</td>\n",
       "    </tr>\n",
       "    <tr>\n",
       "      <th>51</th>\n",
       "      <td>0.000000</td>\n",
       "      <td>day_23</td>\n",
       "    </tr>\n",
       "    <tr>\n",
       "      <th>52</th>\n",
       "      <td>0.284212</td>\n",
       "      <td>day_24</td>\n",
       "    </tr>\n",
       "    <tr>\n",
       "      <th>53</th>\n",
       "      <td>-0.000000</td>\n",
       "      <td>day_25</td>\n",
       "    </tr>\n",
       "    <tr>\n",
       "      <th>54</th>\n",
       "      <td>-0.000000</td>\n",
       "      <td>day_26</td>\n",
       "    </tr>\n",
       "    <tr>\n",
       "      <th>55</th>\n",
       "      <td>-0.019666</td>\n",
       "      <td>day_27</td>\n",
       "    </tr>\n",
       "    <tr>\n",
       "      <th>56</th>\n",
       "      <td>0.204047</td>\n",
       "      <td>day_28</td>\n",
       "    </tr>\n",
       "    <tr>\n",
       "      <th>57</th>\n",
       "      <td>-0.006522</td>\n",
       "      <td>day_29</td>\n",
       "    </tr>\n",
       "    <tr>\n",
       "      <th>58</th>\n",
       "      <td>-0.000000</td>\n",
       "      <td>day_30</td>\n",
       "    </tr>\n",
       "    <tr>\n",
       "      <th>59</th>\n",
       "      <td>-0.000000</td>\n",
       "      <td>day_31</td>\n",
       "    </tr>\n",
       "  </tbody>\n",
       "</table>\n",
       "</div>"
      ],
      "text/plain": [
       "    coefficients             features\n",
       "0       0.546365            temp_mean\n",
       "1       0.061243           temp_delta\n",
       "2       0.000000       dew_point_mean\n",
       "3      -0.313258        humidity_mean\n",
       "4       0.000000     sl_pressure_mean\n",
       "5      -0.173353      wind_speed_mean\n",
       "6      -0.000000          cloud_cover\n",
       "7       0.000000       wind_direction\n",
       "8      -0.183891           sun_length\n",
       "9       0.012546      wind_chill_mean\n",
       "10      0.000000           heat_index\n",
       "11      1.217732        temp_apparent\n",
       "12     -0.824424            rain_True\n",
       "13      1.188254     dayofweek_friday\n",
       "14      1.551866   dayofweek_saturday\n",
       "15      1.253475     dayofweek_sunday\n",
       "16     -0.498224   dayofweek_thursday\n",
       "17     -0.048467    dayofweek_tuesday\n",
       "18      0.000000  dayofweek_wednesday\n",
       "19      0.105579              month_2\n",
       "20      0.318347              month_3\n",
       "21      0.009784              month_4\n",
       "22      0.000000              month_5\n",
       "23     -0.335769              month_6\n",
       "24     -0.994132              month_7\n",
       "25     -0.666288              month_8\n",
       "26     -0.000000              month_9\n",
       "27      0.000000             month_10\n",
       "28     -0.284803             month_11\n",
       "29     -1.065590             month_12\n",
       "30      1.657213                day_1\n",
       "31     -0.000000                day_2\n",
       "32     -0.007365                day_4\n",
       "33     -0.000000                day_5\n",
       "34     -0.091181                day_6\n",
       "35     -0.229148                day_7\n",
       "36     -0.177724                day_8\n",
       "37     -0.000000                day_9\n",
       "38     -0.197352               day_10\n",
       "39     -0.289528               day_11\n",
       "40      0.000000               day_12\n",
       "41     -0.000000               day_13\n",
       "42      0.026475               day_14\n",
       "43      0.207465               day_15\n",
       "44      0.068146               day_16\n",
       "45      0.025659               day_17\n",
       "46      0.000000               day_18\n",
       "47      0.003335               day_19\n",
       "48      0.227573               day_20\n",
       "49      0.000000               day_21\n",
       "50     -0.000000               day_22\n",
       "51      0.000000               day_23\n",
       "52      0.284212               day_24\n",
       "53     -0.000000               day_25\n",
       "54     -0.000000               day_26\n",
       "55     -0.019666               day_27\n",
       "56      0.204047               day_28\n",
       "57     -0.006522               day_29\n",
       "58     -0.000000               day_30\n",
       "59     -0.000000               day_31"
      ]
     },
     "execution_count": 66,
     "metadata": {},
     "output_type": "execute_result"
    }
   ],
   "source": [
    "# create a dataframe to show our coefficients\n",
    "d = {'features': X_test.columns, 'coefficients': LR_model.coef_}\n",
    "pd.DataFrame(d)"
   ]
  },
  {
   "cell_type": "markdown",
   "metadata": {},
   "source": [
    "## knn"
   ]
  },
  {
   "cell_type": "markdown",
   "metadata": {},
   "source": [
    "[[back to top](#Sections)]\n"
   ]
  },
  {
   "cell_type": "code",
   "execution_count": 67,
   "metadata": {
    "collapsed": true
   },
   "outputs": [],
   "source": [
    "# Create the cv - defines how you want to break up all the tests\n",
    "cv = ShuffleSplit(X_train_std.shape[0], n_iter=5, test_size=0.2, random_state=0)"
   ]
  },
  {
   "cell_type": "code",
   "execution_count": 68,
   "metadata": {
    "collapsed": false
   },
   "outputs": [],
   "source": [
    "# Can be any estimator\n",
    "knn = KNeighborsRegressor()"
   ]
  },
  {
   "cell_type": "code",
   "execution_count": 69,
   "metadata": {
    "collapsed": false
   },
   "outputs": [
    {
     "data": {
      "text/plain": [
       "{'n_neighbors': 9, 'p': 1, 'weights': 'distance'}"
      ]
     },
     "execution_count": 69,
     "metadata": {},
     "output_type": "execute_result"
    }
   ],
   "source": [
    "# Run estimator for all parameter combinations\n",
    "parameters = {'n_neighbors': range(1,10), 'weights': ['uniform', 'distance'],'p': range(1,4)}\n",
    "#parameters = {'n_neighbors': range(1,20), 'weights': ['uniform', 'distance'],'p': range(1,4)}\n",
    "clf = GridSearchCV(knn, parameters, cv=cv)\n",
    "clf.fit(X_train_std, y_train)\n",
    "clf.best_params_"
   ]
  },
  {
   "cell_type": "code",
   "execution_count": 70,
   "metadata": {
    "collapsed": true
   },
   "outputs": [],
   "source": [
    "knn_model = clf.best_estimator_"
   ]
  },
  {
   "cell_type": "code",
   "execution_count": 71,
   "metadata": {
    "collapsed": false
   },
   "outputs": [
    {
     "data": {
      "image/png": "[encoded data removed]",
      "text/plain": [
       "<matplotlib.figure.Figure at 0x11006b4d0>"
      ]
     },
     "metadata": {},
     "output_type": "display_data"
    }
   ],
   "source": [
    "draw_learning_curve(knn_model, X_train_std, y_train, estimator_titles=['Learning Curve for knn'], \n",
    "                    cv=cv, scoring=scoring);"
   ]
  },
  {
   "cell_type": "code",
   "execution_count": 72,
   "metadata": {
    "collapsed": true
   },
   "outputs": [],
   "source": [
    "results.loc['knn','lc_com'] = '.......'"
   ]
  },
  {
   "cell_type": "code",
   "execution_count": 73,
   "metadata": {
    "collapsed": false
   },
   "outputs": [
    {
     "name": "stdout",
     "output_type": "stream",
     "text": [
      "Model R2_score :  0.0282406186444\n"
     ]
    }
   ],
   "source": [
    "# Find out Score for actual data\n",
    "results.loc['knn','R2_score'] = knn_model.score(X_test_std, y_test)\n",
    "print 'Model R2_score : ', results.loc['knn','R2_score']"
   ]
  },
  {
   "cell_type": "code",
   "execution_count": 74,
   "metadata": {
    "collapsed": false
   },
   "outputs": [
    {
     "name": "stdout",
     "output_type": "stream",
     "text": [
      "Mean Absolute Error =  9.06034572631\n"
     ]
    }
   ],
   "source": [
    "# Get Mean Error of the test set\n",
    "results.loc['knn','mean_abs_error'] = mean_absolute_error(y_test, knn_model.predict(X_test_std))\n",
    "print 'Mean Absolute Error = ', results.loc['knn','mean_abs_error']   "
   ]
  },
  {
   "cell_type": "code",
   "execution_count": 75,
   "metadata": {
    "collapsed": false
   },
   "outputs": [
    {
     "name": "stdout",
     "output_type": "stream",
     "text": [
      "1 loops, best of 3: 298 ms per loop\n",
      "<IPython.core.magics.execution.TimeitResult object at 0x10efcca50>\n"
     ]
    }
   ],
   "source": [
    "# Check the Speed of esimator\n",
    "time = %timeit -o knn_model.predict(X_test_std)\n",
    "print time\n",
    "results.loc['knn','time'] = time.best * 1000000"
   ]
  },
  {
   "cell_type": "markdown",
   "metadata": {},
   "source": [
    "# Forecast"
   ]
  },
  {
   "cell_type": "markdown",
   "metadata": {},
   "source": [
    "[[back to top](#Sections)]\n"
   ]
  },
  {
   "cell_type": "markdown",
   "metadata": {},
   "source": [
    "## Data source for Forecast\n",
    "Data was consolidated in Notebook\n",
    "- This is done in the `'8_get_weather_forcast'` notebook. | Downloaded from Weather Underground and OpenWeatherMap\n",
    "- Data is written to file. `'forecast_10day.csv'`\n",
    "\n",
    "\n",
    "FieldName|Type|Description                             \n",
    "---------------|------------|---------------------\n",
    "Index:Date|DateTime|2003-01-01 to 2015-12-31\n",
    "date|string|Format yyyy-m-d\n",
    "dayofweek|object|Day of the week in string format\n",
    "day|int64|Day of month in numeric\n",
    "month|int64|Month of year in numeric\n",
    "year|int64|Year in numeric\n",
    "temp_max|int64|High Temperature for the day in degrees F\n",
    "temp_mean|int64|Mean Temperature for the day in degrees F\n",
    "temp_min|int64|Low Temperature for the day in degrees F\n",
    "temp_delta|int64|Temperature change for the day in degrees F\n",
    "sl_pressure_mean|float64|Mean Sea Level for the day in inches\n",
    "humidity_mean|int64|Mean Humidity for the day in percentage\n",
    "wind_speed_max|int64|Maximum maintained Wind Speed in mph\n",
    "wind_speed_mean|int64|Mean maintained Wind Speed in mph\n",
    "cloud_cover|int64|Cloud Cover in percentage.\n",
    "precipitation|float64|Amount is precipitation in inches\n",
    "events|object|Significant Events such as 'Rain', 'Fog'\n",
    "wind_direction|int64|General wind direction, numeric 0 359\n",
    "dew_point_mean|int64|Mean Dewpoint for day on day\n",
    "sun_length|float64|Number of minutes of Sun on day\n",
    "moon_phase|float64|Phase moon is in. 0.5 = full moon\n",
    "sun_units|float64|the minutes of Sun scaled by the cloud cover percentage\n",
    "rain|bool| IS there rain in the forcast\n",
    "end_of_week|bool|is it Friday or Saturday"
   ]
  },
  {
   "cell_type": "code",
   "execution_count": 76,
   "metadata": {
    "collapsed": false,
    "scrolled": true
   },
   "outputs": [
    {
     "data": {
      "text/html": [
       "<div>\n",
       "<table border=\"1\" class=\"dataframe\">\n",
       "  <thead>\n",
       "    <tr style=\"text-align: right;\">\n",
       "      <th></th>\n",
       "      <th>date</th>\n",
       "      <th>dayofweek</th>\n",
       "      <th>day</th>\n",
       "      <th>month</th>\n",
       "      <th>year</th>\n",
       "      <th>temp_max</th>\n",
       "      <th>temp_mean</th>\n",
       "      <th>temp_min</th>\n",
       "      <th>temp_delta</th>\n",
       "      <th>sl_pressure_mean</th>\n",
       "      <th>...</th>\n",
       "      <th>winter</th>\n",
       "      <th>rain</th>\n",
       "      <th>sun_length</th>\n",
       "      <th>moon_phase</th>\n",
       "      <th>sun_units</th>\n",
       "      <th>dew_point_mean</th>\n",
       "      <th>wind_chill_mean</th>\n",
       "      <th>wind_chill_max</th>\n",
       "      <th>heat_index</th>\n",
       "      <th>temp_apparent</th>\n",
       "    </tr>\n",
       "  </thead>\n",
       "  <tbody>\n",
       "    <tr>\n",
       "      <th>0</th>\n",
       "      <td>2016-3-7</td>\n",
       "      <td>monday</td>\n",
       "      <td>7</td>\n",
       "      <td>3</td>\n",
       "      <td>2016</td>\n",
       "      <td>58</td>\n",
       "      <td>53</td>\n",
       "      <td>48</td>\n",
       "      <td>10</td>\n",
       "      <td>29.988306</td>\n",
       "      <td>...</td>\n",
       "      <td>False</td>\n",
       "      <td>True</td>\n",
       "      <td>698.983333</td>\n",
       "      <td>0.942160</td>\n",
       "      <td>83.878000</td>\n",
       "      <td>44.690763</td>\n",
       "      <td>53</td>\n",
       "      <td>58</td>\n",
       "      <td>147.427463</td>\n",
       "      <td>67.387108</td>\n",
       "    </tr>\n",
       "    <tr>\n",
       "      <th>1</th>\n",
       "      <td>2016-3-8</td>\n",
       "      <td>tuesday</td>\n",
       "      <td>8</td>\n",
       "      <td>3</td>\n",
       "      <td>2016</td>\n",
       "      <td>58</td>\n",
       "      <td>55</td>\n",
       "      <td>52</td>\n",
       "      <td>6</td>\n",
       "      <td>30.062426</td>\n",
       "      <td>...</td>\n",
       "      <td>False</td>\n",
       "      <td>False</td>\n",
       "      <td>701.366667</td>\n",
       "      <td>0.976093</td>\n",
       "      <td>701.366667</td>\n",
       "      <td>44.387522</td>\n",
       "      <td>55</td>\n",
       "      <td>58</td>\n",
       "      <td>145.176234</td>\n",
       "      <td>72.406637</td>\n",
       "    </tr>\n",
       "    <tr>\n",
       "      <th>2</th>\n",
       "      <td>2016-3-9</td>\n",
       "      <td>wednesday</td>\n",
       "      <td>9</td>\n",
       "      <td>3</td>\n",
       "      <td>2016</td>\n",
       "      <td>64</td>\n",
       "      <td>60</td>\n",
       "      <td>56</td>\n",
       "      <td>8</td>\n",
       "      <td>30.278585</td>\n",
       "      <td>...</td>\n",
       "      <td>False</td>\n",
       "      <td>True</td>\n",
       "      <td>703.783333</td>\n",
       "      <td>1.010027</td>\n",
       "      <td>478.572667</td>\n",
       "      <td>55.259230</td>\n",
       "      <td>60</td>\n",
       "      <td>64</td>\n",
       "      <td>257.223959</td>\n",
       "      <td>101.351845</td>\n",
       "    </tr>\n",
       "  </tbody>\n",
       "</table>\n",
       "<p>3 rows × 29 columns</p>\n",
       "</div>"
      ],
      "text/plain": [
       "       date  dayofweek  day  month  year  temp_max  temp_mean  temp_min  \\\n",
       "0  2016-3-7     monday    7      3  2016        58         53        48   \n",
       "1  2016-3-8    tuesday    8      3  2016        58         55        52   \n",
       "2  2016-3-9  wednesday    9      3  2016        64         60        56   \n",
       "\n",
       "   temp_delta  sl_pressure_mean      ...       winter   rain  sun_length  \\\n",
       "0          10         29.988306      ...        False   True  698.983333   \n",
       "1           6         30.062426      ...        False  False  701.366667   \n",
       "2           8         30.278585      ...        False   True  703.783333   \n",
       "\n",
       "   moon_phase   sun_units dew_point_mean  wind_chill_mean wind_chill_max  \\\n",
       "0    0.942160   83.878000      44.690763               53             58   \n",
       "1    0.976093  701.366667      44.387522               55             58   \n",
       "2    1.010027  478.572667      55.259230               60             64   \n",
       "\n",
       "   heat_index temp_apparent  \n",
       "0  147.427463     67.387108  \n",
       "1  145.176234     72.406637  \n",
       "2  257.223959    101.351845  \n",
       "\n",
       "[3 rows x 29 columns]"
      ]
     },
     "execution_count": 76,
     "metadata": {},
     "output_type": "execute_result"
    }
   ],
   "source": [
    "forecast = pd.read_csv('forecast_10day.csv', index_col=0)\n",
    "forecast.head(3)\n",
    "\n"
   ]
  },
  {
   "cell_type": "code",
   "execution_count": 77,
   "metadata": {
    "collapsed": false,
    "scrolled": true
   },
   "outputs": [
    {
     "name": "stdout",
     "output_type": "stream",
     "text": [
      "<class 'pandas.core.frame.DataFrame'>\n",
      "Int64Index: 10 entries, 0 to 9\n",
      "Data columns (total 29 columns):\n",
      "date                10 non-null object\n",
      "dayofweek           10 non-null object\n",
      "day                 10 non-null int64\n",
      "month               10 non-null int64\n",
      "year                10 non-null int64\n",
      "temp_max            10 non-null int64\n",
      "temp_mean           10 non-null int64\n",
      "temp_min            10 non-null int64\n",
      "temp_delta          10 non-null int64\n",
      "sl_pressure_mean    10 non-null float64\n",
      "humidity_mean       10 non-null int64\n",
      "wind_speed_max      10 non-null int64\n",
      "wind_speed_mean     10 non-null int64\n",
      "cloud_cover         10 non-null int64\n",
      "precipitation       10 non-null float64\n",
      "events              10 non-null object\n",
      "wind_direction      10 non-null int64\n",
      "owm_status          10 non-null object\n",
      "end_of_week         10 non-null bool\n",
      "winter              10 non-null bool\n",
      "rain                10 non-null bool\n",
      "sun_length          10 non-null float64\n",
      "moon_phase          10 non-null float64\n",
      "sun_units           10 non-null float64\n",
      "dew_point_mean      10 non-null float64\n",
      "wind_chill_mean     10 non-null int64\n",
      "wind_chill_max      10 non-null int64\n",
      "heat_index          10 non-null float64\n",
      "temp_apparent       10 non-null float64\n",
      "dtypes: bool(3), float64(8), int64(14), object(4)\n",
      "memory usage: 2.1+ KB\n"
     ]
    }
   ],
   "source": [
    "forecast.info()"
   ]
  },
  {
   "cell_type": "markdown",
   "metadata": {},
   "source": [
    "## Add Engineered Features"
   ]
  },
  {
   "cell_type": "markdown",
   "metadata": {},
   "source": [
    "[[back to top](#Sections)]\n"
   ]
  },
  {
   "cell_type": "code",
   "execution_count": 78,
   "metadata": {
    "collapsed": false
   },
   "outputs": [
    {
     "data": {
      "text/html": [
       "<div>\n",
       "<table border=\"1\" class=\"dataframe\">\n",
       "  <thead>\n",
       "    <tr style=\"text-align: right;\">\n",
       "      <th></th>\n",
       "      <th>temp_mean</th>\n",
       "      <th>temp_delta</th>\n",
       "      <th>dew_point_mean</th>\n",
       "      <th>humidity_mean</th>\n",
       "      <th>sl_pressure_mean</th>\n",
       "      <th>wind_speed_mean</th>\n",
       "      <th>cloud_cover</th>\n",
       "      <th>wind_direction</th>\n",
       "      <th>sun_length</th>\n",
       "      <th>wind_chill_mean</th>\n",
       "      <th>heat_index</th>\n",
       "      <th>temp_apparent</th>\n",
       "      <th>rain</th>\n",
       "      <th>dayofweek</th>\n",
       "      <th>month</th>\n",
       "      <th>day</th>\n",
       "    </tr>\n",
       "  </thead>\n",
       "  <tbody>\n",
       "    <tr>\n",
       "      <th>0</th>\n",
       "      <td>53</td>\n",
       "      <td>10</td>\n",
       "      <td>44.690763</td>\n",
       "      <td>66</td>\n",
       "      <td>29.988306</td>\n",
       "      <td>18</td>\n",
       "      <td>88</td>\n",
       "      <td>318</td>\n",
       "      <td>698.983333</td>\n",
       "      <td>53</td>\n",
       "      <td>147.427463</td>\n",
       "      <td>67.387108</td>\n",
       "      <td>True</td>\n",
       "      <td>monday</td>\n",
       "      <td>3</td>\n",
       "      <td>7</td>\n",
       "    </tr>\n",
       "    <tr>\n",
       "      <th>1</th>\n",
       "      <td>55</td>\n",
       "      <td>6</td>\n",
       "      <td>44.387522</td>\n",
       "      <td>59</td>\n",
       "      <td>30.062426</td>\n",
       "      <td>13</td>\n",
       "      <td>0</td>\n",
       "      <td>290</td>\n",
       "      <td>701.366667</td>\n",
       "      <td>55</td>\n",
       "      <td>145.176234</td>\n",
       "      <td>72.406637</td>\n",
       "      <td>False</td>\n",
       "      <td>tuesday</td>\n",
       "      <td>3</td>\n",
       "      <td>8</td>\n",
       "    </tr>\n",
       "    <tr>\n",
       "      <th>2</th>\n",
       "      <td>60</td>\n",
       "      <td>8</td>\n",
       "      <td>55.259230</td>\n",
       "      <td>80</td>\n",
       "      <td>30.278585</td>\n",
       "      <td>10</td>\n",
       "      <td>32</td>\n",
       "      <td>197</td>\n",
       "      <td>703.783333</td>\n",
       "      <td>60</td>\n",
       "      <td>257.223959</td>\n",
       "      <td>101.351845</td>\n",
       "      <td>True</td>\n",
       "      <td>wednesday</td>\n",
       "      <td>3</td>\n",
       "      <td>9</td>\n",
       "    </tr>\n",
       "    <tr>\n",
       "      <th>3</th>\n",
       "      <td>59</td>\n",
       "      <td>8</td>\n",
       "      <td>54.029759</td>\n",
       "      <td>79</td>\n",
       "      <td>30.302209</td>\n",
       "      <td>14</td>\n",
       "      <td>92</td>\n",
       "      <td>193</td>\n",
       "      <td>706.183333</td>\n",
       "      <td>59</td>\n",
       "      <td>242.167759</td>\n",
       "      <td>94.549754</td>\n",
       "      <td>True</td>\n",
       "      <td>thursday</td>\n",
       "      <td>3</td>\n",
       "      <td>10</td>\n",
       "    </tr>\n",
       "    <tr>\n",
       "      <th>4</th>\n",
       "      <td>55</td>\n",
       "      <td>8</td>\n",
       "      <td>48.847995</td>\n",
       "      <td>74</td>\n",
       "      <td>30.225136</td>\n",
       "      <td>14</td>\n",
       "      <td>76</td>\n",
       "      <td>213</td>\n",
       "      <td>708.600000</td>\n",
       "      <td>55</td>\n",
       "      <td>185.282710</td>\n",
       "      <td>79.462562</td>\n",
       "      <td>True</td>\n",
       "      <td>friday</td>\n",
       "      <td>3</td>\n",
       "      <td>11</td>\n",
       "    </tr>\n",
       "  </tbody>\n",
       "</table>\n",
       "</div>"
      ],
      "text/plain": [
       "   temp_mean  temp_delta  dew_point_mean  humidity_mean  sl_pressure_mean  \\\n",
       "0         53          10       44.690763             66         29.988306   \n",
       "1         55           6       44.387522             59         30.062426   \n",
       "2         60           8       55.259230             80         30.278585   \n",
       "3         59           8       54.029759             79         30.302209   \n",
       "4         55           8       48.847995             74         30.225136   \n",
       "\n",
       "   wind_speed_mean  cloud_cover  wind_direction  sun_length  wind_chill_mean  \\\n",
       "0               18           88             318  698.983333               53   \n",
       "1               13            0             290  701.366667               55   \n",
       "2               10           32             197  703.783333               60   \n",
       "3               14           92             193  706.183333               59   \n",
       "4               14           76             213  708.600000               55   \n",
       "\n",
       "   heat_index  temp_apparent   rain  dayofweek  month  day  \n",
       "0  147.427463      67.387108   True     monday      3    7  \n",
       "1  145.176234      72.406637  False    tuesday      3    8  \n",
       "2  257.223959     101.351845   True  wednesday      3    9  \n",
       "3  242.167759      94.549754   True   thursday      3   10  \n",
       "4  185.282710      79.462562   True     friday      3   11  "
      ]
     },
     "execution_count": 78,
     "metadata": {},
     "output_type": "execute_result"
    }
   ],
   "source": [
    "forecast2 = forecast[features]\n",
    "forecast2.head()"
   ]
  },
  {
   "cell_type": "code",
   "execution_count": 79,
   "metadata": {
    "collapsed": false
   },
   "outputs": [
    {
     "name": "stderr",
     "output_type": "stream",
     "text": [
      "/Users/jsmithson/anaconda/lib/python2.7/site-packages/pandas/core/indexing.py:420: SettingWithCopyWarning: \n",
      "A value is trying to be set on a copy of a slice from a DataFrame.\n",
      "Try using .loc[row_indexer,col_indexer] = value instead\n",
      "\n",
      "See the caveats in the documentation: http://pandas.pydata.org/pandas-docs/stable/indexing.html#indexing-view-versus-copy\n",
      "  self.obj[item] = s\n"
     ]
    }
   ],
   "source": [
    "#data['events'].fillna('No', inplace=True)\n",
    "#forecast2['events'] = forecast2['events'].astype('category')\n",
    "forecast2.loc[:,'day'] = forecast2['day'].astype('category')\n",
    "forecast2.loc[:,'month'] = forecast2['month'].astype('category')\n",
    "#forecast2['year'] = forecast2['year'].astype('category')\n",
    "forecast2.loc[:,'dayofweek'] = forecast2['dayofweek'].astype('category')\n",
    "#forecast2['end_of_week'] = forecast2['end_of_week'].astype('category')\n",
    "forecast2.loc[:,'rain'] = forecast2['rain'].astype('category')\n",
    "\n"
   ]
  },
  {
   "cell_type": "code",
   "execution_count": 80,
   "metadata": {
    "collapsed": false
   },
   "outputs": [
    {
     "data": {
      "text/html": [
       "<div>\n",
       "<table border=\"1\" class=\"dataframe\">\n",
       "  <thead>\n",
       "    <tr style=\"text-align: right;\">\n",
       "      <th></th>\n",
       "      <th>temp_mean</th>\n",
       "      <th>temp_delta</th>\n",
       "      <th>dew_point_mean</th>\n",
       "      <th>humidity_mean</th>\n",
       "      <th>sl_pressure_mean</th>\n",
       "      <th>wind_speed_mean</th>\n",
       "      <th>cloud_cover</th>\n",
       "      <th>wind_direction</th>\n",
       "      <th>sun_length</th>\n",
       "      <th>wind_chill_mean</th>\n",
       "      <th>...</th>\n",
       "      <th>day_7</th>\n",
       "      <th>day_8</th>\n",
       "      <th>day_9</th>\n",
       "      <th>day_10</th>\n",
       "      <th>day_11</th>\n",
       "      <th>day_12</th>\n",
       "      <th>day_13</th>\n",
       "      <th>day_14</th>\n",
       "      <th>day_15</th>\n",
       "      <th>day_16</th>\n",
       "    </tr>\n",
       "  </thead>\n",
       "  <tbody>\n",
       "    <tr>\n",
       "      <th>0</th>\n",
       "      <td>53</td>\n",
       "      <td>10</td>\n",
       "      <td>44.690763</td>\n",
       "      <td>66</td>\n",
       "      <td>29.988306</td>\n",
       "      <td>18</td>\n",
       "      <td>88</td>\n",
       "      <td>318</td>\n",
       "      <td>698.983333</td>\n",
       "      <td>53</td>\n",
       "      <td>...</td>\n",
       "      <td>1</td>\n",
       "      <td>0</td>\n",
       "      <td>0</td>\n",
       "      <td>0</td>\n",
       "      <td>0</td>\n",
       "      <td>0</td>\n",
       "      <td>0</td>\n",
       "      <td>0</td>\n",
       "      <td>0</td>\n",
       "      <td>0</td>\n",
       "    </tr>\n",
       "    <tr>\n",
       "      <th>1</th>\n",
       "      <td>55</td>\n",
       "      <td>6</td>\n",
       "      <td>44.387522</td>\n",
       "      <td>59</td>\n",
       "      <td>30.062426</td>\n",
       "      <td>13</td>\n",
       "      <td>0</td>\n",
       "      <td>290</td>\n",
       "      <td>701.366667</td>\n",
       "      <td>55</td>\n",
       "      <td>...</td>\n",
       "      <td>0</td>\n",
       "      <td>1</td>\n",
       "      <td>0</td>\n",
       "      <td>0</td>\n",
       "      <td>0</td>\n",
       "      <td>0</td>\n",
       "      <td>0</td>\n",
       "      <td>0</td>\n",
       "      <td>0</td>\n",
       "      <td>0</td>\n",
       "    </tr>\n",
       "  </tbody>\n",
       "</table>\n",
       "<p>2 rows × 32 columns</p>\n",
       "</div>"
      ],
      "text/plain": [
       "   temp_mean  temp_delta  dew_point_mean  humidity_mean  sl_pressure_mean  \\\n",
       "0         53          10       44.690763             66         29.988306   \n",
       "1         55           6       44.387522             59         30.062426   \n",
       "\n",
       "   wind_speed_mean  cloud_cover  wind_direction  sun_length  wind_chill_mean  \\\n",
       "0               18           88             318  698.983333               53   \n",
       "1               13            0             290  701.366667               55   \n",
       "\n",
       "    ...    day_7  day_8  day_9  day_10  day_11  day_12  day_13  day_14  \\\n",
       "0   ...        1      0      0       0       0       0       0       0   \n",
       "1   ...        0      1      0       0       0       0       0       0   \n",
       "\n",
       "   day_15  day_16  \n",
       "0       0       0  \n",
       "1       0       0  \n",
       "\n",
       "[2 rows x 32 columns]"
      ]
     },
     "execution_count": 80,
     "metadata": {},
     "output_type": "execute_result"
    }
   ],
   "source": [
    "# use get_dummies to convert categoricals into binary features\n",
    "forecast2 = pd.get_dummies(forecast2)\n",
    "forecast2.head(2)"
   ]
  },
  {
   "cell_type": "code",
   "execution_count": 81,
   "metadata": {
    "collapsed": false
   },
   "outputs": [
    {
     "data": {
      "text/plain": [
       "Index([u'temp_mean', u'temp_delta', u'dew_point_mean', u'humidity_mean',\n",
       "       u'sl_pressure_mean', u'wind_speed_mean', u'cloud_cover',\n",
       "       u'wind_direction', u'sun_length', u'wind_chill_mean', u'heat_index',\n",
       "       u'temp_apparent', u'rain_False', u'rain_True', u'dayofweek_friday',\n",
       "       u'dayofweek_monday', u'dayofweek_saturday', u'dayofweek_sunday',\n",
       "       u'dayofweek_thursday', u'dayofweek_tuesday', u'dayofweek_wednesday',\n",
       "       u'month_3', u'day_7', u'day_8', u'day_9', u'day_10', u'day_11',\n",
       "       u'day_12', u'day_13', u'day_14', u'day_15', u'day_16'],\n",
       "      dtype='object')"
      ]
     },
     "execution_count": 81,
     "metadata": {},
     "output_type": "execute_result"
    }
   ],
   "source": [
    "X_col = full_features\n",
    "f_col = forecast2.columns\n",
    "f_col"
   ]
  },
  {
   "cell_type": "code",
   "execution_count": 82,
   "metadata": {
    "collapsed": false
   },
   "outputs": [],
   "source": [
    "temp3 = set(X_col) - set(f_col)"
   ]
  },
  {
   "cell_type": "code",
   "execution_count": 83,
   "metadata": {
    "collapsed": true
   },
   "outputs": [],
   "source": [
    "for col in temp3:\n",
    "    forecast2.loc[:,col] = 0\n"
   ]
  },
  {
   "cell_type": "code",
   "execution_count": 84,
   "metadata": {
    "collapsed": false
   },
   "outputs": [
    {
     "name": "stdout",
     "output_type": "stream",
     "text": [
      "<class 'pandas.core.frame.DataFrame'>\n",
      "Int64Index: 10 entries, 0 to 9\n",
      "Data columns (total 64 columns):\n",
      "temp_mean              10 non-null int64\n",
      "temp_delta             10 non-null int64\n",
      "dew_point_mean         10 non-null float64\n",
      "humidity_mean          10 non-null int64\n",
      "sl_pressure_mean       10 non-null float64\n",
      "wind_speed_mean        10 non-null int64\n",
      "cloud_cover            10 non-null int64\n",
      "wind_direction         10 non-null int64\n",
      "sun_length             10 non-null float64\n",
      "wind_chill_mean        10 non-null int64\n",
      "heat_index             10 non-null float64\n",
      "temp_apparent          10 non-null float64\n",
      "rain_False             10 non-null float64\n",
      "rain_True              10 non-null float64\n",
      "dayofweek_friday       10 non-null float64\n",
      "dayofweek_monday       10 non-null float64\n",
      "dayofweek_saturday     10 non-null float64\n",
      "dayofweek_sunday       10 non-null float64\n",
      "dayofweek_thursday     10 non-null float64\n",
      "dayofweek_tuesday      10 non-null float64\n",
      "dayofweek_wednesday    10 non-null float64\n",
      "month_3                10 non-null float64\n",
      "day_7                  10 non-null float64\n",
      "day_8                  10 non-null float64\n",
      "day_9                  10 non-null float64\n",
      "day_10                 10 non-null float64\n",
      "day_11                 10 non-null float64\n",
      "day_12                 10 non-null float64\n",
      "day_13                 10 non-null float64\n",
      "day_14                 10 non-null float64\n",
      "day_15                 10 non-null float64\n",
      "day_16                 10 non-null float64\n",
      "day_30                 10 non-null int64\n",
      "day_31                 10 non-null int64\n",
      "day_18                 10 non-null int64\n",
      "day_19                 10 non-null int64\n",
      "day_17                 10 non-null int64\n",
      "month_12               10 non-null int64\n",
      "month_10               10 non-null int64\n",
      "month_11               10 non-null int64\n",
      "month_4                10 non-null int64\n",
      "month_5                10 non-null int64\n",
      "month_6                10 non-null int64\n",
      "month_7                10 non-null int64\n",
      "month_1                10 non-null int64\n",
      "month_2                10 non-null int64\n",
      "day_2                  10 non-null int64\n",
      "day_3                  10 non-null int64\n",
      "day_1                  10 non-null int64\n",
      "day_6                  10 non-null int64\n",
      "month_9                10 non-null int64\n",
      "day_4                  10 non-null int64\n",
      "day_5                  10 non-null int64\n",
      "day_21                 10 non-null int64\n",
      "day_20                 10 non-null int64\n",
      "day_23                 10 non-null int64\n",
      "day_22                 10 non-null int64\n",
      "day_25                 10 non-null int64\n",
      "day_24                 10 non-null int64\n",
      "day_27                 10 non-null int64\n",
      "day_26                 10 non-null int64\n",
      "day_29                 10 non-null int64\n",
      "day_28                 10 non-null int64\n",
      "month_8                10 non-null int64\n",
      "dtypes: float64(25), int64(39)\n",
      "memory usage: 5.1 KB\n"
     ]
    }
   ],
   "source": [
    "forecast2.info()"
   ]
  },
  {
   "cell_type": "code",
   "execution_count": 85,
   "metadata": {
    "collapsed": false
   },
   "outputs": [
    {
     "data": {
      "text/html": [
       "<div>\n",
       "<table border=\"1\" class=\"dataframe\">\n",
       "  <thead>\n",
       "    <tr style=\"text-align: right;\">\n",
       "      <th></th>\n",
       "      <th>temp_mean</th>\n",
       "      <th>temp_delta</th>\n",
       "      <th>dew_point_mean</th>\n",
       "      <th>humidity_mean</th>\n",
       "      <th>sl_pressure_mean</th>\n",
       "      <th>wind_speed_mean</th>\n",
       "      <th>cloud_cover</th>\n",
       "      <th>wind_direction</th>\n",
       "      <th>sun_length</th>\n",
       "      <th>wind_chill_mean</th>\n",
       "      <th>...</th>\n",
       "      <th>day_20</th>\n",
       "      <th>day_23</th>\n",
       "      <th>day_22</th>\n",
       "      <th>day_25</th>\n",
       "      <th>day_24</th>\n",
       "      <th>day_27</th>\n",
       "      <th>day_26</th>\n",
       "      <th>day_29</th>\n",
       "      <th>day_28</th>\n",
       "      <th>month_8</th>\n",
       "    </tr>\n",
       "  </thead>\n",
       "  <tbody>\n",
       "    <tr>\n",
       "      <th>0</th>\n",
       "      <td>53</td>\n",
       "      <td>10</td>\n",
       "      <td>44.690763</td>\n",
       "      <td>66</td>\n",
       "      <td>29.988306</td>\n",
       "      <td>18</td>\n",
       "      <td>88</td>\n",
       "      <td>318</td>\n",
       "      <td>698.983333</td>\n",
       "      <td>53</td>\n",
       "      <td>...</td>\n",
       "      <td>0</td>\n",
       "      <td>0</td>\n",
       "      <td>0</td>\n",
       "      <td>0</td>\n",
       "      <td>0</td>\n",
       "      <td>0</td>\n",
       "      <td>0</td>\n",
       "      <td>0</td>\n",
       "      <td>0</td>\n",
       "      <td>0</td>\n",
       "    </tr>\n",
       "    <tr>\n",
       "      <th>1</th>\n",
       "      <td>55</td>\n",
       "      <td>6</td>\n",
       "      <td>44.387522</td>\n",
       "      <td>59</td>\n",
       "      <td>30.062426</td>\n",
       "      <td>13</td>\n",
       "      <td>0</td>\n",
       "      <td>290</td>\n",
       "      <td>701.366667</td>\n",
       "      <td>55</td>\n",
       "      <td>...</td>\n",
       "      <td>0</td>\n",
       "      <td>0</td>\n",
       "      <td>0</td>\n",
       "      <td>0</td>\n",
       "      <td>0</td>\n",
       "      <td>0</td>\n",
       "      <td>0</td>\n",
       "      <td>0</td>\n",
       "      <td>0</td>\n",
       "      <td>0</td>\n",
       "    </tr>\n",
       "  </tbody>\n",
       "</table>\n",
       "<p>2 rows × 60 columns</p>\n",
       "</div>"
      ],
      "text/plain": [
       "   temp_mean  temp_delta  dew_point_mean  humidity_mean  sl_pressure_mean  \\\n",
       "0         53          10       44.690763             66         29.988306   \n",
       "1         55           6       44.387522             59         30.062426   \n",
       "\n",
       "   wind_speed_mean  cloud_cover  wind_direction  sun_length  wind_chill_mean  \\\n",
       "0               18           88             318  698.983333               53   \n",
       "1               13            0             290  701.366667               55   \n",
       "\n",
       "    ...     day_20  day_23  day_22  day_25  day_24  day_27  day_26  day_29  \\\n",
       "0   ...          0       0       0       0       0       0       0       0   \n",
       "1   ...          0       0       0       0       0       0       0       0   \n",
       "\n",
       "   day_28  month_8  \n",
       "0       0        0  \n",
       "1       0        0  \n",
       "\n",
       "[2 rows x 60 columns]"
      ]
     },
     "execution_count": 85,
     "metadata": {},
     "output_type": "execute_result"
    }
   ],
   "source": [
    "# Drop one feature for each categorical\n",
    "# drop on day of week\n",
    "forecast2.drop(dummy_drop, axis=1, inplace=True)\n",
    "forecast2.head(2)"
   ]
  },
  {
   "cell_type": "code",
   "execution_count": 86,
   "metadata": {
    "collapsed": false
   },
   "outputs": [
    {
     "data": {
      "text/plain": [
       "set()"
      ]
     },
     "execution_count": 86,
     "metadata": {},
     "output_type": "execute_result"
    }
   ],
   "source": [
    "(set(X) - set(forecast2))"
   ]
  },
  {
   "cell_type": "code",
   "execution_count": 87,
   "metadata": {
    "collapsed": false
   },
   "outputs": [
    {
     "name": "stdout",
     "output_type": "stream",
     "text": [
      "Do the two Datasets have matching Features? :  True\n"
     ]
    }
   ],
   "source": [
    "print 'Do the two Datasets have matching Features? : ', (set(X) - set(forecast2)) == set()"
   ]
  },
  {
   "cell_type": "code",
   "execution_count": 88,
   "metadata": {
    "collapsed": false
   },
   "outputs": [],
   "source": [
    "prediction = forecast[['dayofweek', 'month', 'day','year', 'temp_max']]"
   ]
  },
  {
   "cell_type": "code",
   "execution_count": 89,
   "metadata": {
    "collapsed": false
   },
   "outputs": [],
   "source": [
    "forecast2_std = stdsc.transform(forecast2)"
   ]
  },
  {
   "cell_type": "markdown",
   "metadata": {},
   "source": [
    "### Run Models on Prediction"
   ]
  },
  {
   "cell_type": "markdown",
   "metadata": {},
   "source": [
    "[[back to top](#Sections)]\n"
   ]
  },
  {
   "cell_type": "code",
   "execution_count": 90,
   "metadata": {
    "collapsed": false,
    "scrolled": false
   },
   "outputs": [
    {
     "name": "stderr",
     "output_type": "stream",
     "text": [
      "/Users/jsmithson/anaconda/lib/python2.7/site-packages/pandas/core/indexing.py:260: SettingWithCopyWarning: \n",
      "A value is trying to be set on a copy of a slice from a DataFrame.\n",
      "Try using .loc[row_indexer,col_indexer] = value instead\n",
      "\n",
      "See the caveats in the documentation: http://pandas.pydata.org/pandas-docs/stable/indexing.html#indexing-view-versus-copy\n",
      "  self.obj[key] = _infer_fill_value(value)\n"
     ]
    },
    {
     "data": {
      "text/html": [
       "<div>\n",
       "<table border=\"1\" class=\"dataframe\">\n",
       "  <thead>\n",
       "    <tr style=\"text-align: right;\">\n",
       "      <th></th>\n",
       "      <th>dayofweek</th>\n",
       "      <th>month</th>\n",
       "      <th>day</th>\n",
       "      <th>year</th>\n",
       "      <th>temp_max</th>\n",
       "      <th>prediction (dummy)</th>\n",
       "      <th>prediction (RF)</th>\n",
       "      <th>prediction (SVM)</th>\n",
       "      <th>prediction (LR)</th>\n",
       "      <th>prediction (knn)</th>\n",
       "    </tr>\n",
       "  </thead>\n",
       "  <tbody>\n",
       "    <tr>\n",
       "      <th>0</th>\n",
       "      <td>monday</td>\n",
       "      <td>3</td>\n",
       "      <td>7</td>\n",
       "      <td>2016</td>\n",
       "      <td>58</td>\n",
       "      <td>60.672813</td>\n",
       "      <td>60.471429</td>\n",
       "      <td>58.400008</td>\n",
       "      <td>57.383723</td>\n",
       "      <td>57.022004</td>\n",
       "    </tr>\n",
       "    <tr>\n",
       "      <th>1</th>\n",
       "      <td>tuesday</td>\n",
       "      <td>3</td>\n",
       "      <td>8</td>\n",
       "      <td>2016</td>\n",
       "      <td>58</td>\n",
       "      <td>60.672813</td>\n",
       "      <td>61.828571</td>\n",
       "      <td>59.679774</td>\n",
       "      <td>59.104755</td>\n",
       "      <td>62.509012</td>\n",
       "    </tr>\n",
       "    <tr>\n",
       "      <th>2</th>\n",
       "      <td>wednesday</td>\n",
       "      <td>3</td>\n",
       "      <td>9</td>\n",
       "      <td>2016</td>\n",
       "      <td>64</td>\n",
       "      <td>60.672813</td>\n",
       "      <td>56.100000</td>\n",
       "      <td>61.300551</td>\n",
       "      <td>58.910556</td>\n",
       "      <td>60.911941</td>\n",
       "    </tr>\n",
       "    <tr>\n",
       "      <th>3</th>\n",
       "      <td>thursday</td>\n",
       "      <td>3</td>\n",
       "      <td>10</td>\n",
       "      <td>2016</td>\n",
       "      <td>63</td>\n",
       "      <td>60.672813</td>\n",
       "      <td>59.450000</td>\n",
       "      <td>56.683531</td>\n",
       "      <td>55.597363</td>\n",
       "      <td>58.270470</td>\n",
       "    </tr>\n",
       "    <tr>\n",
       "      <th>4</th>\n",
       "      <td>friday</td>\n",
       "      <td>3</td>\n",
       "      <td>11</td>\n",
       "      <td>2016</td>\n",
       "      <td>59</td>\n",
       "      <td>60.672813</td>\n",
       "      <td>56.364286</td>\n",
       "      <td>58.667685</td>\n",
       "      <td>56.911245</td>\n",
       "      <td>61.942985</td>\n",
       "    </tr>\n",
       "    <tr>\n",
       "      <th>5</th>\n",
       "      <td>saturday</td>\n",
       "      <td>3</td>\n",
       "      <td>12</td>\n",
       "      <td>2016</td>\n",
       "      <td>59</td>\n",
       "      <td>60.672813</td>\n",
       "      <td>56.285714</td>\n",
       "      <td>58.863779</td>\n",
       "      <td>59.037412</td>\n",
       "      <td>55.349159</td>\n",
       "    </tr>\n",
       "    <tr>\n",
       "      <th>6</th>\n",
       "      <td>sunday</td>\n",
       "      <td>3</td>\n",
       "      <td>13</td>\n",
       "      <td>2016</td>\n",
       "      <td>59</td>\n",
       "      <td>60.672813</td>\n",
       "      <td>57.907143</td>\n",
       "      <td>60.640057</td>\n",
       "      <td>60.806808</td>\n",
       "      <td>63.986422</td>\n",
       "    </tr>\n",
       "    <tr>\n",
       "      <th>7</th>\n",
       "      <td>monday</td>\n",
       "      <td>3</td>\n",
       "      <td>14</td>\n",
       "      <td>2016</td>\n",
       "      <td>59</td>\n",
       "      <td>60.672813</td>\n",
       "      <td>59.450000</td>\n",
       "      <td>57.589806</td>\n",
       "      <td>56.884640</td>\n",
       "      <td>56.482814</td>\n",
       "    </tr>\n",
       "    <tr>\n",
       "      <th>8</th>\n",
       "      <td>tuesday</td>\n",
       "      <td>3</td>\n",
       "      <td>15</td>\n",
       "      <td>2016</td>\n",
       "      <td>58</td>\n",
       "      <td>60.672813</td>\n",
       "      <td>58.314286</td>\n",
       "      <td>54.141668</td>\n",
       "      <td>55.016495</td>\n",
       "      <td>57.539208</td>\n",
       "    </tr>\n",
       "    <tr>\n",
       "      <th>9</th>\n",
       "      <td>wednesday</td>\n",
       "      <td>3</td>\n",
       "      <td>16</td>\n",
       "      <td>2016</td>\n",
       "      <td>65</td>\n",
       "      <td>60.672813</td>\n",
       "      <td>57.914286</td>\n",
       "      <td>55.315704</td>\n",
       "      <td>54.135323</td>\n",
       "      <td>56.121978</td>\n",
       "    </tr>\n",
       "  </tbody>\n",
       "</table>\n",
       "</div>"
      ],
      "text/plain": [
       "   dayofweek  month  day  year  temp_max  prediction (dummy)  prediction (RF)  \\\n",
       "0     monday      3    7  2016        58           60.672813        60.471429   \n",
       "1    tuesday      3    8  2016        58           60.672813        61.828571   \n",
       "2  wednesday      3    9  2016        64           60.672813        56.100000   \n",
       "3   thursday      3   10  2016        63           60.672813        59.450000   \n",
       "4     friday      3   11  2016        59           60.672813        56.364286   \n",
       "5   saturday      3   12  2016        59           60.672813        56.285714   \n",
       "6     sunday      3   13  2016        59           60.672813        57.907143   \n",
       "7     monday      3   14  2016        59           60.672813        59.450000   \n",
       "8    tuesday      3   15  2016        58           60.672813        58.314286   \n",
       "9  wednesday      3   16  2016        65           60.672813        57.914286   \n",
       "\n",
       "   prediction (SVM)  prediction (LR)  prediction (knn)  \n",
       "0         58.400008        57.383723         57.022004  \n",
       "1         59.679774        59.104755         62.509012  \n",
       "2         61.300551        58.910556         60.911941  \n",
       "3         56.683531        55.597363         58.270470  \n",
       "4         58.667685        56.911245         61.942985  \n",
       "5         58.863779        59.037412         55.349159  \n",
       "6         60.640057        60.806808         63.986422  \n",
       "7         57.589806        56.884640         56.482814  \n",
       "8         54.141668        55.016495         57.539208  \n",
       "9         55.315704        54.135323         56.121978  "
      ]
     },
     "execution_count": 90,
     "metadata": {},
     "output_type": "execute_result"
    }
   ],
   "source": [
    "prediction.loc[:,'prediction (dummy)'] = dummy_model.predict(forecast2_std)\n",
    "prediction.loc[:,'prediction (RF)'] = RF_model.predict(forecast2)\n",
    "prediction.loc[:,'prediction (SVM)'] = SVM_model.predict(forecast2_std)\n",
    "prediction.loc[:,'prediction (LR)'] = LR_model.predict(forecast2_std)\n",
    "prediction.loc[:,'prediction (knn)'] = knn_model.predict(forecast2_std)\n",
    "prediction"
   ]
  },
  {
   "cell_type": "markdown",
   "metadata": {},
   "source": [
    "## Results"
   ]
  },
  {
   "cell_type": "markdown",
   "metadata": {},
   "source": [
    "[[back to top](#Sections)]\n"
   ]
  },
  {
   "cell_type": "code",
   "execution_count": 91,
   "metadata": {
    "collapsed": false
   },
   "outputs": [
    {
     "data": {
      "text/html": [
       "<div>\n",
       "<table border=\"1\" class=\"dataframe\">\n",
       "  <thead>\n",
       "    <tr style=\"text-align: right;\">\n",
       "      <th></th>\n",
       "      <th>mean_abs_error</th>\n",
       "      <th>R2_score</th>\n",
       "      <th>time</th>\n",
       "      <th>lc_com</th>\n",
       "    </tr>\n",
       "  </thead>\n",
       "  <tbody>\n",
       "    <tr>\n",
       "      <th>dummy</th>\n",
       "      <td>9.08842</td>\n",
       "      <td>-0.00331672</td>\n",
       "      <td>55.3382</td>\n",
       "      <td>NaN</td>\n",
       "    </tr>\n",
       "    <tr>\n",
       "      <th>RF</th>\n",
       "      <td>8.65673</td>\n",
       "      <td>0.104779</td>\n",
       "      <td>27529.1</td>\n",
       "      <td>.......</td>\n",
       "    </tr>\n",
       "    <tr>\n",
       "      <th>SVM</th>\n",
       "      <td>8.67728</td>\n",
       "      <td>0.0904153</td>\n",
       "      <td>189933</td>\n",
       "      <td>.......</td>\n",
       "    </tr>\n",
       "    <tr>\n",
       "      <th>LR</th>\n",
       "      <td>8.61712</td>\n",
       "      <td>0.110641</td>\n",
       "      <td>76.7716</td>\n",
       "      <td>.......</td>\n",
       "    </tr>\n",
       "    <tr>\n",
       "      <th>knn</th>\n",
       "      <td>9.06035</td>\n",
       "      <td>0.0282406</td>\n",
       "      <td>298246</td>\n",
       "      <td>.......</td>\n",
       "    </tr>\n",
       "  </tbody>\n",
       "</table>\n",
       "</div>"
      ],
      "text/plain": [
       "      mean_abs_error    R2_score     time   lc_com\n",
       "dummy        9.08842 -0.00331672  55.3382      NaN\n",
       "RF           8.65673    0.104779  27529.1  .......\n",
       "SVM          8.67728   0.0904153   189933  .......\n",
       "LR           8.61712    0.110641  76.7716  .......\n",
       "knn          9.06035   0.0282406   298246  ......."
      ]
     },
     "execution_count": 91,
     "metadata": {},
     "output_type": "execute_result"
    }
   ],
   "source": [
    "results\n",
    "\n"
   ]
  },
  {
   "cell_type": "markdown",
   "metadata": {},
   "source": [
    "# Working Area - No need to go there......."
   ]
  },
  {
   "cell_type": "markdown",
   "metadata": {
    "collapsed": true
   },
   "source": [
    "### Minimum features\n",
    "\n",
    "|mean_abs_error|\tR2 score|\ttime|\tlc_com\n",
    "-----|-------|------|-----|--------    \n",
    "dummy\t|0.784282\t|-0.000157419\t|61.39\t|NaN\n",
    "RF\t|0.774239\t|0.0257063|\t22676.5|\t.......\n",
    "SVM\t|0.750965|\t0.0731648\t|66745.8\t|.......\n",
    "LR\t|0.751183|\t0.0763004\t|52.1146\t|.......\n",
    "knn|\t0.790226|\t-0.00414537|\t56354.1\t|......."
   ]
  },
  {
   "cell_type": "markdown",
   "metadata": {
    "collapsed": true
   },
   "source": [
    "### ADD in day of week\n",
    "\n",
    "|mean_abs_error|\tR2 score|\ttime|\tlc_com\n",
    "-----|-------|------|-----|--------    \n",
    "dummy\t|0.784282\t|-0.000157419|\t54.2332\t|NaN\n",
    "RF|\t0.719557\t|0.134418\t|30144.3\t|.......\n",
    "SVM|\t0.706\t|0.160249|\t80992.5\t|.......\n",
    "LR\t|0.702858|\t0.167961\t|59.3654\t|.......\n",
    "knn\t|0.738919\t|0.102316\t|581535\t|......."
   ]
  },
  {
   "cell_type": "markdown",
   "metadata": {},
   "source": [
    "### Run with weather_crime_level\n",
    "\n",
    "|mean_abs_error|\tR2 score|\ttime|\tlc_com\n",
    "-----|-------|------|-----|-------- |\n",
    "dummy|\t0.81541|\t-0.000657135\t|31.7786\t|NaN\n",
    "RF\t|0.762109|\t0.11542\t|19874.3\t|.......\n",
    "SVM\t|0.742392|\t0.140592\t|42451\t|.......\n",
    "LR\t|0.742925|\t0.142355\t|36.54\t|.......\n",
    "knn\t|0.770477|\t0.0884748\t|401028|\t......."
   ]
  },
  {
   "cell_type": "markdown",
   "metadata": {},
   "source": [
    "### Run with a few outliers removed\n",
    "\n",
    "|mean_abs_error|\tR2 score|\ttime|\tlc_com\n",
    "-----|-------|------|-----|-------- |\n",
    "dummy|\t0.909594|\t-0.00158336|\t31.9462\t|NaN\n",
    "RF|\t0.862721|\t0.0884625\t|19899.5|\t.......\n",
    "SVM|\t0.834469|\t0.138694|\t42997.6\t|.......\n",
    "LR|\t0.8343\t|0.142013\t|36.0181\t|.......\n",
    "knn|\t0.884176|\t0.0519649|\t61164.6\t|......."
   ]
  },
  {
   "cell_type": "markdown",
   "metadata": {},
   "source": [
    "### Put in all non cat features - wind gust\n",
    "\n",
    "|mean_abs_error|\tR2 score|\ttime|\tlc_com\n",
    "-----|-------|------|-----|-------- |\n",
    "dummy|\t1.06292\t|-0.00271301\t|39.1949\t|NaN\n",
    "RF\t|0.983553\t|0.148392\t|18754.8\t|.......\n",
    "SVM|\t0.970188\t|0.16634\t|88509.3\t|.......\n",
    "LR\t|0.976822\t|0.161785\t|51.1119\t|.......\n",
    "knn\t|1.02312|\t0.0997018\t|145841\t|......."
   ]
  },
  {
   "cell_type": "markdown",
   "metadata": {},
   "source": [
    "### Put in 'end_of_week' / 'rain' booleans ans the dew_point_mean\n",
    "\n",
    "|mean_abs_error|\tR2 score|\ttime|\tlc_com\n",
    "-----|-------|------|-----|-------- |\n",
    "dummy\t|1.06292\t|-0.00271301|\t35.1662\t|NaN\n",
    "RF\t|0.995831\t|0.132448\t|25175.8\t|.......\n",
    "SVM\t|1.00083\t|0.115296\t|52742\t|.......\n",
    "LR\t|1.00426\t|0.113532\t|40.5828\t|.......\n",
    "knn\t|1.04523\t|0.0641483\t|89629.6\t|......."
   ]
  },
  {
   "cell_type": "markdown",
   "metadata": {},
   "source": [
    "### add in wind chill, heat index, apparent temp\n",
    "\n",
    "|mean_abs_error|\tR2 score|\ttime|\tlc_com\n",
    "-----|-------|------|-----|-------- |\n",
    "dummy\t|1.06292\t|-0.00271301|\t36.4885\t|NaN\n",
    "RF|\t1.0057\t|0.121813\t|15891.8\t|.......\n",
    "SVM\t|1.00085\t|0.113868\t|65685.3\t|.......\n",
    "LR\t|1.00331\t|0.114029\t|43.4563\t|.......\n",
    "knn|\t1.04657|\t0.063973\t|98906.6\t|......."
   ]
  },
  {
   "cell_type": "markdown",
   "metadata": {},
   "source": [
    "# Change Log"
   ]
  },
  {
   "cell_type": "markdown",
   "metadata": {},
   "source": [
    "[[back to top](#Sections)]\n"
   ]
  },
  {
   "cell_type": "markdown",
   "metadata": {
    "collapsed": true
   },
   "source": [
    "### Ran with all features\n",
    "Had problems running\n",
    "### Took Minimum features\n",
    "Got scores for 4 models. All not much better than dummy\n",
    "### Add in day of week dummies - Left all six features in\n",
    "Better scores\n",
    "### Added the weather_crime index - Ran tests\n",
    "Went back and tried to pick the type of crimes that I thought were weather related. Ran with that number as label.\n",
    "- Scores were similar to last run. Dummy MAE was slightly higher. Best R2 scores .14 (SVM LR)\n",
    "\n",
    "### Removed a few of the outliers - reran\n",
    "- Scores went down slightly - LR similar - knn rf drop most\n",
    "\n",
    "### Add in all non cat features - wind gust\n",
    "- Scores back up to .16. Same as when just added in day of week.\n",
    "\n",
    "### replaced day of week dummies with end_of_week bool, added 'rain and 'dewPoint_mean,\n",
    "- Scores drop 5% knn big drop\n",
    "\n",
    "### Added in Winter feature\n",
    "- r2 scores dropped a couple.\n",
    "\n",
    "### Used lasso coeff to choose\n",
    "- scores .04, .10, .09, .04\n",
    "\n",
    "features = [ 'temp_min',\n",
    "             'winter',\n",
    "           'precipitation', 'cloud_cover',\n",
    "           'sun_length', \n",
    "           'end_of_week', 'heat_index']\n",
    "           \n",
    "### Use features from RF\n",
    "- scores 0, .09, .07, .03\n",
    "\n",
    "features = ['temp_max', 'temp_mean', 'temp_min', \n",
    "       'wind_chill_max', 'wind_chill_mean', 'winter',\n",
    "        'wind_speed_mean', 'precipitation', 'cloud_cover',\n",
    "       'end_of_week', 'rain']\n",
    "       \n",
    "### return to min features from beginning plus day of week\n",
    "- scores 8,15,15,8\n",
    "\n",
    "features = ['dayofweek', 'temp_max', 'temp_delta',\n",
    "            'sl_pressure_mean', 'humidity_mean',  'wind_speed_mean',\n",
    "            'cloud_cover', 'precipitation']\n",
    "       \n",
    "### Ran previous features with the v_crime_sum\n",
    "- scores -, .06, .07, - \n",
    "- much worse\n",
    "\n",
    "### Ran crime level but replaced 'day of week' with 'end of week'\n",
    "- scores .02, .08, ..07, .007\n",
    "- much worse that day of week with dummies\n",
    "\n",
    "### Ran PCA on all features - reduced to 6\n",
    "- SVM score was  .083 - still half of the best I've gotten\n",
    "\n",
    "### Ran PCA on the best feature set so far. (Min with dayof week)\n",
    "- SVM score was .127\n",
    "\n",
    "### ran with my handpicked features\n",
    "features = ['temp_mean', 'cloud_cover',\n",
    "       'temp_delta',  'dew_point_mean', 'temp_apparent',\n",
    "       'humidity_mean', 'end_of_week', 'rain',\n",
    "       'wind_chill_mean', 'winter', 'sun_units']\n",
    "       \n",
    "- .04, .13, .12, .05\n",
    "\n",
    "\n",
    "### ran with my handpicked features on the violent variable\n",
    "features = ['temp_mean', 'cloud_cover',\n",
    "       'temp_delta',  'dew_point_mean', 'temp_apparent',\n",
    "       'humidity_mean', 'end_of_week', 'rain',\n",
    "       'wind_chill_mean', 'winter', 'sun_units']\n",
    " \n",
    "- .01, .06, .07. na\n",
    "       "
   ]
  },
  {
   "cell_type": "markdown",
   "metadata": {},
   "source": [
    "## To Try"
   ]
  },
  {
   "cell_type": "markdown",
   "metadata": {},
   "source": [
    "[[back to top](#Sections)]\n"
   ]
  },
  {
   "cell_type": "markdown",
   "metadata": {},
   "source": [
    "- remove outliers (Christmas) - Done because I am concerned with how weather effects crime. Xmas is special non weather related event. Also not interested in predictiong black swans. Outliers may skew models.\n",
    "- add in the rest of the features\n",
    "- Make catagoricals into smaller groupings. add in day of month. Rain or not rain/for thunder\n",
    "- remove worst performers\n",
    "- use only the last few years data.\n",
    "- Use bag of words to classify crime as weather/emotional related."
   ]
  },
  {
   "cell_type": "markdown",
   "metadata": {},
   "source": [
    "## PCA"
   ]
  },
  {
   "cell_type": "code",
   "execution_count": null,
   "metadata": {
    "collapsed": false
   },
   "outputs": [],
   "source": [
    "X_train.shape"
   ]
  },
  {
   "cell_type": "code",
   "execution_count": null,
   "metadata": {
    "collapsed": true
   },
   "outputs": [],
   "source": [
    "pca = PCA(n_components=0.8, whiten=True)\n",
    "#pca = PCA(n_components=22, whiten=True)"
   ]
  },
  {
   "cell_type": "code",
   "execution_count": null,
   "metadata": {
    "collapsed": false
   },
   "outputs": [],
   "source": [
    "# your code here\n",
    "pca.fit(X_train_std)\n",
    "pca.explained_variance_"
   ]
  },
  {
   "cell_type": "code",
   "execution_count": null,
   "metadata": {
    "collapsed": false
   },
   "outputs": [],
   "source": [
    "var = pca.explained_variance_ratio_\n",
    "var"
   ]
  },
  {
   "cell_type": "code",
   "execution_count": null,
   "metadata": {
    "collapsed": false
   },
   "outputs": [],
   "source": [
    "# your answer here\n",
    "plt.plot(var)\n",
    "plt.ylabel('Variance Ratio')\n",
    "plt.show()"
   ]
  },
  {
   "cell_type": "code",
   "execution_count": null,
   "metadata": {
    "collapsed": true
   },
   "outputs": [],
   "source": [
    "X_train_pca = pd.DataFrame(pca.transform(X_train_std))\n",
    "X_test_pca = pd.DataFrame(pca.transform(X_test_std))"
   ]
  },
  {
   "cell_type": "code",
   "execution_count": null,
   "metadata": {
    "collapsed": false
   },
   "outputs": [],
   "source": [
    "print X_test_pca.shape, X_train_pca.shape"
   ]
  },
  {
   "cell_type": "markdown",
   "metadata": {},
   "source": [
    "## LR"
   ]
  },
  {
   "cell_type": "markdown",
   "metadata": {},
   "source": [
    "### run with X_train_pca or with X_2"
   ]
  },
  {
   "cell_type": "code",
   "execution_count": null,
   "metadata": {
    "collapsed": false
   },
   "outputs": [],
   "source": [
    "type(X_3),type(y_2)"
   ]
  },
  {
   "cell_type": "code",
   "execution_count": null,
   "metadata": {
    "collapsed": false
   },
   "outputs": [],
   "source": [
    "X_3[0:2]"
   ]
  },
  {
   "cell_type": "code",
   "execution_count": null,
   "metadata": {
    "collapsed": false
   },
   "outputs": [],
   "source": [
    "y_2.head()"
   ]
  },
  {
   "cell_type": "code",
   "execution_count": null,
   "metadata": {
    "collapsed": false
   },
   "outputs": [],
   "source": [
    "#X_2.reset_index()\n",
    "\n",
    "#y_2.reset_index().drop(['index'], axis=1)\n",
    "y_3 = y_2.reset_index()\n",
    "\n",
    "y_3.head()"
   ]
  },
  {
   "cell_type": "code",
   "execution_count": null,
   "metadata": {
    "collapsed": false
   },
   "outputs": [],
   "source": [
    "y_4 = y_3['crime_count']\n",
    "\n",
    "y_4.head()"
   ]
  },
  {
   "cell_type": "code",
   "execution_count": null,
   "metadata": {
    "collapsed": false
   },
   "outputs": [],
   "source": [
    "X_3 = X_2.reset_index()\n",
    "X_3.head()"
   ]
  },
  {
   "cell_type": "code",
   "execution_count": null,
   "metadata": {
    "collapsed": false
   },
   "outputs": [],
   "source": [
    "X_3.drop('index', axis=1, inplace=True)\n",
    "X_3.head()"
   ]
  },
  {
   "cell_type": "code",
   "execution_count": null,
   "metadata": {
    "collapsed": false
   },
   "outputs": [],
   "source": [
    "X_3.shape, y_4.shape"
   ]
  },
  {
   "cell_type": "code",
   "execution_count": null,
   "metadata": {
    "collapsed": false
   },
   "outputs": [],
   "source": [
    "# using Mean Absolute scoring\n",
    "parameters = {'alpha': np.linspace(.01,1,20)}\n",
    "LR_2 = Lasso(normalize=False)\n",
    "clf_2 = GridSearchCV(LR_2, parameters, scoring=scoring, cv=cv)\n",
    "clf_2.fit(X_2_std, y_2)\n",
    "clf_2.best_params_"
   ]
  },
  {
   "cell_type": "code",
   "execution_count": null,
   "metadata": {
    "collapsed": true
   },
   "outputs": [],
   "source": [
    "LR_2_model = clf_2.best_estimator_"
   ]
  },
  {
   "cell_type": "code",
   "execution_count": null,
   "metadata": {
    "collapsed": false
   },
   "outputs": [],
   "source": [
    "draw_learning_curve(LR_2_model, X_2, y_2, estimator_titles=['Learning Curve for lasso'], \n",
    "                    cv=cv, scoring=scoring);"
   ]
  },
  {
   "cell_type": "code",
   "execution_count": null,
   "metadata": {
    "collapsed": false
   },
   "outputs": [],
   "source": [
    "LR_2_model.score(X_test, y_test)\n"
   ]
  },
  {
   "cell_type": "code",
   "execution_count": null,
   "metadata": {
    "collapsed": true
   },
   "outputs": [],
   "source": []
  },
  {
   "cell_type": "code",
   "execution_count": null,
   "metadata": {
    "collapsed": false
   },
   "outputs": [],
   "source": [
    "# create a dataframe to show our coefficients\n",
    "d = {'features': X_test_pca.columns, 'coefficients': LR_2_model.coef_}\n",
    "pd.DataFrame(d)"
   ]
  },
  {
   "cell_type": "markdown",
   "metadata": {},
   "source": [
    "### SVM"
   ]
  },
  {
   "cell_type": "code",
   "execution_count": null,
   "metadata": {
    "collapsed": true
   },
   "outputs": [],
   "source": []
  },
  {
   "cell_type": "code",
   "execution_count": null,
   "metadata": {
    "collapsed": true
   },
   "outputs": [],
   "source": []
  },
  {
   "cell_type": "code",
   "execution_count": null,
   "metadata": {
    "collapsed": false
   },
   "outputs": [],
   "source": [
    "params = {'C': np.linspace(.01, 5, 4), 'kernel': ['poly', 'rbf', 'sigmoid', 'linear'], 'degree': range(1,4), 'gamma': np.linspace(.01, .03, 4)}\n",
    "\n",
    "\n",
    "clf_pca = SVR()\n",
    "grid_pca = GridSearchCV(clf_pca, params, cv=cv, scoring=scoring, n_jobs=-1)\n",
    "grid_pca.fit(X_train_pca, y_train)"
   ]
  },
  {
   "cell_type": "code",
   "execution_count": null,
   "metadata": {
    "collapsed": false
   },
   "outputs": [],
   "source": [
    "grid_pca.best_params_"
   ]
  },
  {
   "cell_type": "code",
   "execution_count": null,
   "metadata": {
    "collapsed": false
   },
   "outputs": [],
   "source": [
    "SVM_model_pca = grid_pca.best_estimator_\n",
    "draw_learning_curve(SVM_model_pca, X_train_pca, y_train, estimator_titles=['Learning Curve for SVC. Best'], \n",
    "                    cv=cv, scoring=scoring);"
   ]
  },
  {
   "cell_type": "code",
   "execution_count": null,
   "metadata": {
    "collapsed": false
   },
   "outputs": [],
   "source": [
    "print  SVM_model_pca.score(X_test_pca, y_test)\n"
   ]
  },
  {
   "cell_type": "code",
   "execution_count": null,
   "metadata": {
    "collapsed": false
   },
   "outputs": [],
   "source": [
    "# Get Mean Error of the test set\n",
    "print mean_absolute_error(y_test, SVM_model_pca.predict(X_test_pca))\n",
    "  "
   ]
  },
  {
   "cell_type": "code",
   "execution_count": null,
   "metadata": {
    "collapsed": true
   },
   "outputs": [],
   "source": []
  }
 ],
 "metadata": {
  "kernelspec": {
   "display_name": "Python 2",
   "language": "python",
   "name": "python2"
  },
  "language_info": {
   "codemirror_mode": {
    "name": "ipython",
    "version": 2
   },
   "file_extension": ".py",
   "mimetype": "text/x-python",
   "name": "python",
   "nbconvert_exporter": "python",
   "pygments_lexer": "ipython2",
   "version": "2.7.11"
  }
 },
 "nbformat": 4,
 "nbformat_minor": 0
}
