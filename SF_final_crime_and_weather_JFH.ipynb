{
 "cells": [
  {
   "cell_type": "markdown",
   "metadata": {},
   "source": [
    "# Analysis and prediction of Crime data as it relates to weather conditions in the city of San Francisco"
   ]
  },
  {
   "cell_type": "markdown",
   "metadata": {},
   "source": [
    "- Jim Haskin\n",
    "\n",
    "- GA-Data Science\n",
    "- Dec 2015\n",
    "\n",
    "- 2/17/2016"
   ]
  },
  {
   "cell_type": "markdown",
   "metadata": {},
   "source": [
    "## Hypothesis\n",
    "It is often said that people lose their temper more when it is hot out and that all the crazies come out when there is a full moon. But does the data prove these hunches are true? \n",
    "If it is true, can we look at the weather forecast for the next week and predict if the number or intensity of Police Incidents will be higher or lower than usual?"
   ]
  },
  {
   "cell_type": "markdown",
   "metadata": {},
   "source": [
    "## Method\n",
    "Crime Data - This was done in the `'2_clean_data_sf_crime'` notebook.\n",
    "- I have collected the incident reports of the San Franciso Police Department from the SF OpenData website. https://data.sfgov.org/data?category=Public%20Safety. I have the records from January, 2003 until the beginning of 2016.\n",
    "- I summerized the report to generate a daily report of the number of incidents and another factor I am calling Crime Level. Each incident is given a score based on how violent it is. Murders and assaults are rated high. Traffic violations and non-criminal incidents are rated low. These scores are summed and then normalized to a scale of 0 - 10.\n",
    "- Data written to file. `'sf_crime_clean.csv'`\n",
    "\n",
    "Weather Data - Done in the `'3_clean_weather_combine_with_crime'` notebook\n",
    "- I collected historical weather data for the San Franciso area from January 2003 until December 2015. The data comes from Weather Underground. http://www.wunderground.com/history/\n",
    "- To that data I added new calculated features, such as the phase of the moon, wind chill and heat index that I thought might be relavent.\n",
    "- Data written to file. `'sf_weather_clean.csv'`\n",
    "- The weather data and crime data were merged and written to the file. `'sf_crime_weather.csv'`\n",
    "\n",
    "Analysis and Cleaning - Done in the `'5_analysis_cleaning'` notebook\n",
    "- I looked at the crime levels as it related to different features to get a general idea of what features are important.\n",
    "- Removed outliers\n",
    "- Removed fields that are not in the Forecast Data that will be used for prediction.\n",
    "- Created new Features for the categorical data.(rain, end_of_week, winter)\n",
    "- Final data was written to the file. `'sf_crime_weather_clean.csv'`\n",
    "\n",
    "Forecast - Done in the `'8_get_weather_forecast'` notebook.\n",
    "- I used the WeatherUnderground API and the OpenWeatherMap API to retreive the forecast for the next 10 days in San Fransico.\n",
    "- To this I added in the other relavent features such as Moon Phase.\n",
    "- Data is written to file. `'forecast_10day.csv'`\n",
    "- This new data is then run throught the model to predict the general level of crime for the next 10 days.\n",
    "\n",
    "Modeling and Prediction- Done in the `'SF_final_crime_and_weather_JFH'`\n",
    "- Final Data Preperation\n",
    "- Set Up Dummy Regressor to compare performance\n",
    "- Random Forest Model\n",
    "- SVM Model\n",
    "- Lasso Regression Model\n",
    "- Review results\n",
    "- Run Prediction on the forecast\n"
   ]
  },
  {
   "cell_type": "markdown",
   "metadata": {},
   "source": [
    "## Sections"
   ]
  },
  {
   "cell_type": "markdown",
   "metadata": {},
   "source": [
    "- [Data Source Definition](#Data-source-Definition)\n",
    "- [Prepare Data](#Prepare-Data)\n",
    "- - [Catagoricals](#Catagoricals)\n",
    "- - [Select Features](#Select-Features)\n",
    "- [Dummy Regressor](#Dummy-Regressor)\n",
    "- [Random Forest](#Random-Forests)\n",
    "- [SVM](#SVM)\n",
    "- [Lasso/Ridge](#Lasso/Ridge)\n",
    "- [Results](#Results)\n",
    "- [Forecast](#Forecast)\n",
    "- - [Add Engineered Features](#Add-Engineered-Features)\n",
    "- - [Run Models on Prediction](#Run-Models-on-Prediction)"
   ]
  },
  {
   "cell_type": "code",
   "execution_count": 1,
   "metadata": {
    "collapsed": true
   },
   "outputs": [],
   "source": [
    "import pandas as pd\n",
    "import numpy as np\n",
    "import matplotlib.pyplot as plt\n",
    "import seaborn as sns\n",
    "%matplotlib inline\n",
    "# use fivethirtyeight style for all graphics\n",
    "plt.style.use('fivethirtyeight')"
   ]
  },
  {
   "cell_type": "code",
   "execution_count": 2,
   "metadata": {
    "collapsed": true
   },
   "outputs": [],
   "source": [
    "from sklearn.preprocessing import StandardScaler\n",
    "from sklearn.cross_validation import train_test_split\n",
    "from sklearn.cross_validation import ShuffleSplit\n",
    "from sklearn.grid_search import GridSearchCV\n",
    "from sklearn.learning_curve import learning_curve\n",
    "from sklearn.ensemble import RandomForestRegressor\n",
    "from sklearn.cross_validation import cross_val_score\n",
    "from sklearn.svm import SVR\n",
    "from sk_modelcurves.learning_curve import draw_learning_curve\n",
    "from sklearn.linear_model import LinearRegression\n",
    "from sklearn.linear_model import Lasso\n",
    "from sklearn.linear_model import Ridge\n",
    "from sklearn.dummy import DummyClassifier, DummyRegressor\n",
    "from sklearn.neighbors import KNeighborsRegressor\n",
    "from sklearn.metrics import median_absolute_error\n",
    "from sklearn.metrics import mean_absolute_error\n",
    "from sklearn.decomposition import PCA"
   ]
  },
  {
   "cell_type": "markdown",
   "metadata": {},
   "source": [
    "## Data source Definition"
   ]
  },
  {
   "cell_type": "markdown",
   "metadata": {},
   "source": [
    "[[back to top](#Sections)]\n"
   ]
  },
  {
   "cell_type": "markdown",
   "metadata": {},
   "source": [
    "Data was consolidated in these two Notebooks\n",
    "- '2_clean_data_sf_crime.ipynb' | Data downloaded from SF Open Data site. \n",
    "- '3_clean_weather_combine_with_crime.ipynb' | Data downloaded from WeatherUnderground.com\n",
    "- It was then analysed, cleaned and had Features Engineered in the '5_analysis.ipynb' notebook\n",
    "- Final file name 'sf_crime_weather_clean.csv'\n",
    "\n",
    "\n",
    "FieldName|Type|Description                             \n",
    "---------------|------------|---------------------\n",
    "Index:Date|DateTime|2003-01-01 to 2015-12-31\n",
    "crime_level_sum|int64|Calculated Crime Level for the day\n",
    "crime_count|int64|Number of incidents for the day\n",
    "weather_crime_count|int64|Number of incidents related to weather for the day\n",
    "violent_crime_count|int64|Number of incidents I labled violent for the day\n",
    "COP_count|int64|Number of incidents  I labled CrimeOfPassion for the day\n",
    "gun_crime_count|int64|Number of incidents for the day\n",
    "dayofweek|object|Day of the week in string format\n",
    "day|int64|Day of month in numeric\n",
    "month|int64|Month of year in numeric\n",
    "year|int64|Year in numeric\n",
    "temp_max|int64|High Temperature for the day in degrees F\n",
    "temp_mean|int64|Mean Temperature for the day in degrees F\n",
    "temp_min|int64|Low Temperature for the day in degrees F\n",
    "temp_delta|int64|Temperature change for the day in degrees F\n",
    "dew_point_max|int64|High Dew Point for the day in degrees F\n",
    "dew_point_mean|int64|Mean Dew Point for the day in degrees F\n",
    "dew_point_min|int64|Low Dew Point for the day in degrees F\n",
    "humidity_max|int64|Maximum Humidity for the day in percentage\n",
    "humidity_mean|int64|Mean Humidity for the day in percentage\n",
    "humidity_min|int64|Minimum Humidity for the day in percentage\n",
    "sl_pressure_max|float64|High Sea Level for the day in inches\n",
    "sl_pressure_mean|float64|Mean Sea Level for the day in inches\n",
    "sl_pressure_min|float64|Low Sea Level for the day in inches\n",
    "wind_speed_max|int64|Maximum maintained Wind Speed in mph\n",
    "wind_speed_mean|int64|Mean maintained Wind Speed in mph\n",
    "wind_max_gust|float64|Maximum Wind Gust in mph\n",
    "precipitation|float64|Amount is precipitation in inches\n",
    "cloud_cover|int64|Cloud Cover in percentage\n",
    "events|object|Significant Events such as 'Rain', 'Fog'\n",
    "wind_direction|int64|General wind direction, numeric 0 359\n",
    "sun_length|float64|Number of minutes of Sun on day\n",
    "moon_phase|float64|Phase moon is in. 0.5 = full moon\n",
    "sun_units|float64|the minutes of Sun scaled by the cloud cover percentage\n",
    "wind_chill_mean|int64|calculated mean of wind chill using temp and wind speed\n",
    "wind_chill_max|int64|calculated max of wind chill\n",
    "heat_index|float64|calculated heat_index using temp, humidity and dewpoint\n",
    "temp_apparent|float64|calculated Apparent temperature using temp humidity and windspeed\n",
    "end_of_week|category|Boolean for if it is a Friday or Saturday\n",
    "winter|category|Boolean for if it is a winter month       \n",
    "rain|category|Boolean for if it rained or not                "
   ]
  },
  {
   "cell_type": "markdown",
   "metadata": {},
   "source": [
    "# Prepare Data"
   ]
  },
  {
   "cell_type": "markdown",
   "metadata": {},
   "source": [
    "[[back to top](#Sections)]\n"
   ]
  },
  {
   "cell_type": "markdown",
   "metadata": {},
   "source": [
    "## Read in combined Data \n",
    "    "
   ]
  },
  {
   "cell_type": "code",
   "execution_count": 3,
   "metadata": {
    "collapsed": false
   },
   "outputs": [
    {
     "data": {
      "text/html": [
       "<div>\n",
       "<table border=\"1\" class=\"dataframe\">\n",
       "  <thead>\n",
       "    <tr style=\"text-align: right;\">\n",
       "      <th></th>\n",
       "      <th>crime_level_sum</th>\n",
       "      <th>crime_count</th>\n",
       "      <th>weather_crime_count</th>\n",
       "      <th>violent_count</th>\n",
       "      <th>COP_count</th>\n",
       "      <th>gun_crime_count</th>\n",
       "      <th>dayofweek</th>\n",
       "      <th>day</th>\n",
       "      <th>month</th>\n",
       "      <th>year</th>\n",
       "      <th>...</th>\n",
       "      <th>sun_length</th>\n",
       "      <th>moon_phase</th>\n",
       "      <th>sun_units</th>\n",
       "      <th>wind_chill_mean</th>\n",
       "      <th>wind_chill_max</th>\n",
       "      <th>heat_index</th>\n",
       "      <th>temp_apparent</th>\n",
       "      <th>end_of_week</th>\n",
       "      <th>winter</th>\n",
       "      <th>rain</th>\n",
       "    </tr>\n",
       "  </thead>\n",
       "  <tbody>\n",
       "    <tr>\n",
       "      <th>2011-02-19</th>\n",
       "      <td>642</td>\n",
       "      <td>350</td>\n",
       "      <td>65</td>\n",
       "      <td>30</td>\n",
       "      <td>42</td>\n",
       "      <td>3</td>\n",
       "      <td>saturday</td>\n",
       "      <td>19</td>\n",
       "      <td>2</td>\n",
       "      <td>2011</td>\n",
       "      <td>...</td>\n",
       "      <td>659.533333</td>\n",
       "      <td>0.546709</td>\n",
       "      <td>85.739333</td>\n",
       "      <td>43</td>\n",
       "      <td>45</td>\n",
       "      <td>105.910373</td>\n",
       "      <td>58.363068</td>\n",
       "      <td>True</td>\n",
       "      <td>False</td>\n",
       "      <td>True</td>\n",
       "    </tr>\n",
       "    <tr>\n",
       "      <th>2005-01-13</th>\n",
       "      <td>761</td>\n",
       "      <td>400</td>\n",
       "      <td>69</td>\n",
       "      <td>35</td>\n",
       "      <td>71</td>\n",
       "      <td>3</td>\n",
       "      <td>thursday</td>\n",
       "      <td>13</td>\n",
       "      <td>1</td>\n",
       "      <td>2005</td>\n",
       "      <td>...</td>\n",
       "      <td>590.783333</td>\n",
       "      <td>0.097609</td>\n",
       "      <td>147.695833</td>\n",
       "      <td>44</td>\n",
       "      <td>46</td>\n",
       "      <td>131.917614</td>\n",
       "      <td>65.307872</td>\n",
       "      <td>False</td>\n",
       "      <td>False</td>\n",
       "      <td>False</td>\n",
       "    </tr>\n",
       "  </tbody>\n",
       "</table>\n",
       "<p>2 rows × 40 columns</p>\n",
       "</div>"
      ],
      "text/plain": [
       "            crime_level_sum  crime_count  weather_crime_count  violent_count  \\\n",
       "2011-02-19              642          350                   65             30   \n",
       "2005-01-13              761          400                   69             35   \n",
       "\n",
       "            COP_count  gun_crime_count dayofweek  day  month  year  ...    \\\n",
       "2011-02-19         42                3  saturday   19      2  2011  ...     \n",
       "2005-01-13         71                3  thursday   13      1  2005  ...     \n",
       "\n",
       "            sun_length  moon_phase   sun_units  wind_chill_mean  \\\n",
       "2011-02-19  659.533333    0.546709   85.739333               43   \n",
       "2005-01-13  590.783333    0.097609  147.695833               44   \n",
       "\n",
       "            wind_chill_max  heat_index  temp_apparent  end_of_week  winter  \\\n",
       "2011-02-19              45  105.910373      58.363068         True   False   \n",
       "2005-01-13              46  131.917614      65.307872        False   False   \n",
       "\n",
       "             rain  \n",
       "2011-02-19   True  \n",
       "2005-01-13  False  \n",
       "\n",
       "[2 rows x 40 columns]"
      ]
     },
     "execution_count": 3,
     "metadata": {},
     "output_type": "execute_result"
    }
   ],
   "source": [
    "data = pd.read_csv('sf_crime_weather_clean.csv', index_col=0)\n",
    "data.head(2)"
   ]
  },
  {
   "cell_type": "markdown",
   "metadata": {},
   "source": [
    "### Catagoricals"
   ]
  },
  {
   "cell_type": "markdown",
   "metadata": {},
   "source": [
    "[[back to top](#Sections)]\n"
   ]
  },
  {
   "cell_type": "code",
   "execution_count": 4,
   "metadata": {
    "collapsed": false
   },
   "outputs": [],
   "source": [
    "# Set the Categorical feature to the correct type\n",
    "data['events'] = data['events'].astype('category')\n",
    "data['day'] = data['day'].astype('category')\n",
    "data['month'] = data['month'].astype('category')\n",
    "data['year'] = data['year'].astype('category')\n",
    "data['dayofweek'] = data['dayofweek'].astype('category')\n",
    "data['end_of_week'] = data['end_of_week'].astype('category')\n",
    "data['rain'] = data['rain'].astype('category')\n",
    "data['winter'] = data['winter'].astype('category')"
   ]
  },
  {
   "cell_type": "code",
   "execution_count": 5,
   "metadata": {
    "collapsed": false
   },
   "outputs": [
    {
     "name": "stdout",
     "output_type": "stream",
     "text": [
      "<class 'pandas.core.frame.DataFrame'>\n",
      "Index: 4712 entries, 2011-02-19 to 2010-08-24\n",
      "Data columns (total 40 columns):\n",
      "crime_level_sum        4712 non-null int64\n",
      "crime_count            4712 non-null int64\n",
      "weather_crime_count    4712 non-null int64\n",
      "violent_count          4712 non-null float64\n",
      "COP_count              4712 non-null float64\n",
      "gun_crime_count        4712 non-null float64\n",
      "dayofweek              4712 non-null category\n",
      "day                    4712 non-null category\n",
      "month                  4712 non-null category\n",
      "year                   4712 non-null category\n",
      "temp_max               4712 non-null int64\n",
      "temp_mean              4712 non-null int64\n",
      "temp_min               4712 non-null int64\n",
      "temp_delta             4712 non-null int64\n",
      "dew_point_max          4712 non-null int64\n",
      "dew_point_mean         4712 non-null float64\n",
      "dew_point_min          4712 non-null int64\n",
      "humidity_max           4712 non-null int64\n",
      "humidity_mean          4712 non-null int64\n",
      "humidity_min           4712 non-null int64\n",
      "sl_pressure_max        4712 non-null float64\n",
      "sl_pressure_mean       4712 non-null float64\n",
      "sl_pressure_min        4712 non-null float64\n",
      "wind_speed_max         4712 non-null int64\n",
      "wind_speed_mean        4712 non-null int64\n",
      "wind_max_gust          4251 non-null float64\n",
      "precipitation          4712 non-null float64\n",
      "cloud_cover            4712 non-null int64\n",
      "events                 4712 non-null category\n",
      "wind_direction         4712 non-null int64\n",
      "sun_length             4712 non-null float64\n",
      "moon_phase             4712 non-null float64\n",
      "sun_units              4712 non-null float64\n",
      "wind_chill_mean        4712 non-null int64\n",
      "wind_chill_max         4712 non-null int64\n",
      "heat_index             4712 non-null float64\n",
      "temp_apparent          4712 non-null float64\n",
      "end_of_week            4712 non-null category\n",
      "winter                 4712 non-null category\n",
      "rain                   4712 non-null category\n",
      "dtypes: category(8), float64(14), int64(18)\n",
      "memory usage: 1.2+ MB\n"
     ]
    }
   ],
   "source": [
    "data.info()"
   ]
  },
  {
   "cell_type": "code",
   "execution_count": 6,
   "metadata": {
    "collapsed": false
   },
   "outputs": [
    {
     "data": {
      "text/html": [
       "<div>\n",
       "<table border=\"1\" class=\"dataframe\">\n",
       "  <thead>\n",
       "    <tr style=\"text-align: right;\">\n",
       "      <th></th>\n",
       "      <th>crime_level_sum</th>\n",
       "      <th>crime_count</th>\n",
       "      <th>weather_crime_count</th>\n",
       "      <th>violent_count</th>\n",
       "      <th>COP_count</th>\n",
       "      <th>gun_crime_count</th>\n",
       "      <th>temp_max</th>\n",
       "      <th>temp_mean</th>\n",
       "      <th>temp_min</th>\n",
       "      <th>temp_delta</th>\n",
       "      <th>...</th>\n",
       "      <th>precipitation</th>\n",
       "      <th>cloud_cover</th>\n",
       "      <th>wind_direction</th>\n",
       "      <th>sun_length</th>\n",
       "      <th>moon_phase</th>\n",
       "      <th>sun_units</th>\n",
       "      <th>wind_chill_mean</th>\n",
       "      <th>wind_chill_max</th>\n",
       "      <th>heat_index</th>\n",
       "      <th>temp_apparent</th>\n",
       "    </tr>\n",
       "  </thead>\n",
       "  <tbody>\n",
       "    <tr>\n",
       "      <th>count</th>\n",
       "      <td>4712.000000</td>\n",
       "      <td>4712.000000</td>\n",
       "      <td>4712.00000</td>\n",
       "      <td>4712.000000</td>\n",
       "      <td>4712.000000</td>\n",
       "      <td>4712.000000</td>\n",
       "      <td>4712.000000</td>\n",
       "      <td>4712.000000</td>\n",
       "      <td>4712.000000</td>\n",
       "      <td>4712.000000</td>\n",
       "      <td>...</td>\n",
       "      <td>4712.000000</td>\n",
       "      <td>4712.000000</td>\n",
       "      <td>4712.000000</td>\n",
       "      <td>4712.000000</td>\n",
       "      <td>4712.000000</td>\n",
       "      <td>4712.000000</td>\n",
       "      <td>4712.000000</td>\n",
       "      <td>4712.000000</td>\n",
       "      <td>4712.000000</td>\n",
       "      <td>4712.000000</td>\n",
       "    </tr>\n",
       "    <tr>\n",
       "      <th>mean</th>\n",
       "      <td>718.853141</td>\n",
       "      <td>381.088285</td>\n",
       "      <td>77.77101</td>\n",
       "      <td>39.665110</td>\n",
       "      <td>60.673387</td>\n",
       "      <td>3.312394</td>\n",
       "      <td>65.824278</td>\n",
       "      <td>58.642827</td>\n",
       "      <td>51.158531</td>\n",
       "      <td>14.665747</td>\n",
       "      <td>...</td>\n",
       "      <td>0.047507</td>\n",
       "      <td>44.982173</td>\n",
       "      <td>246.217317</td>\n",
       "      <td>732.071806</td>\n",
       "      <td>0.512521</td>\n",
       "      <td>406.461629</td>\n",
       "      <td>58.642827</td>\n",
       "      <td>65.824278</td>\n",
       "      <td>216.634454</td>\n",
       "      <td>92.981840</td>\n",
       "    </tr>\n",
       "    <tr>\n",
       "      <th>std</th>\n",
       "      <td>85.498010</td>\n",
       "      <td>45.021208</td>\n",
       "      <td>13.70592</td>\n",
       "      <td>9.156712</td>\n",
       "      <td>11.106615</td>\n",
       "      <td>2.132232</td>\n",
       "      <td>8.388321</td>\n",
       "      <td>6.517580</td>\n",
       "      <td>5.697210</td>\n",
       "      <td>5.860592</td>\n",
       "      <td>...</td>\n",
       "      <td>0.192233</td>\n",
       "      <td>28.923517</td>\n",
       "      <td>71.538046</td>\n",
       "      <td>106.860863</td>\n",
       "      <td>0.288817</td>\n",
       "      <td>223.508617</td>\n",
       "      <td>6.517580</td>\n",
       "      <td>8.388321</td>\n",
       "      <td>60.170987</td>\n",
       "      <td>18.330431</td>\n",
       "    </tr>\n",
       "    <tr>\n",
       "      <th>min</th>\n",
       "      <td>292.000000</td>\n",
       "      <td>148.000000</td>\n",
       "      <td>18.00000</td>\n",
       "      <td>6.000000</td>\n",
       "      <td>18.000000</td>\n",
       "      <td>0.000000</td>\n",
       "      <td>45.000000</td>\n",
       "      <td>40.000000</td>\n",
       "      <td>32.000000</td>\n",
       "      <td>2.000000</td>\n",
       "      <td>...</td>\n",
       "      <td>0.000000</td>\n",
       "      <td>0.000000</td>\n",
       "      <td>1.000000</td>\n",
       "      <td>575.300000</td>\n",
       "      <td>0.012958</td>\n",
       "      <td>0.000000</td>\n",
       "      <td>40.000000</td>\n",
       "      <td>45.000000</td>\n",
       "      <td>55.000000</td>\n",
       "      <td>38.602076</td>\n",
       "    </tr>\n",
       "    <tr>\n",
       "      <th>25%</th>\n",
       "      <td>662.000000</td>\n",
       "      <td>351.000000</td>\n",
       "      <td>68.00000</td>\n",
       "      <td>33.000000</td>\n",
       "      <td>53.000000</td>\n",
       "      <td>2.000000</td>\n",
       "      <td>60.000000</td>\n",
       "      <td>54.000000</td>\n",
       "      <td>47.000000</td>\n",
       "      <td>11.000000</td>\n",
       "      <td>...</td>\n",
       "      <td>0.000000</td>\n",
       "      <td>25.000000</td>\n",
       "      <td>235.000000</td>\n",
       "      <td>628.158333</td>\n",
       "      <td>0.262551</td>\n",
       "      <td>219.167042</td>\n",
       "      <td>54.000000</td>\n",
       "      <td>60.000000</td>\n",
       "      <td>173.215680</td>\n",
       "      <td>79.360176</td>\n",
       "    </tr>\n",
       "    <tr>\n",
       "      <th>50%</th>\n",
       "      <td>717.000000</td>\n",
       "      <td>381.000000</td>\n",
       "      <td>77.00000</td>\n",
       "      <td>39.000000</td>\n",
       "      <td>60.000000</td>\n",
       "      <td>3.000000</td>\n",
       "      <td>65.000000</td>\n",
       "      <td>59.000000</td>\n",
       "      <td>52.000000</td>\n",
       "      <td>14.000000</td>\n",
       "      <td>...</td>\n",
       "      <td>0.000000</td>\n",
       "      <td>50.000000</td>\n",
       "      <td>273.000000</td>\n",
       "      <td>733.458333</td>\n",
       "      <td>0.512097</td>\n",
       "      <td>412.401167</td>\n",
       "      <td>59.000000</td>\n",
       "      <td>65.000000</td>\n",
       "      <td>219.701946</td>\n",
       "      <td>92.643745</td>\n",
       "    </tr>\n",
       "    <tr>\n",
       "      <th>75%</th>\n",
       "      <td>774.000000</td>\n",
       "      <td>411.000000</td>\n",
       "      <td>86.00000</td>\n",
       "      <td>45.000000</td>\n",
       "      <td>67.000000</td>\n",
       "      <td>5.000000</td>\n",
       "      <td>71.000000</td>\n",
       "      <td>63.000000</td>\n",
       "      <td>55.000000</td>\n",
       "      <td>18.000000</td>\n",
       "      <td>...</td>\n",
       "      <td>0.000000</td>\n",
       "      <td>75.000000</td>\n",
       "      <td>290.000000</td>\n",
       "      <td>836.175000</td>\n",
       "      <td>0.762232</td>\n",
       "      <td>578.637500</td>\n",
       "      <td>63.000000</td>\n",
       "      <td>71.000000</td>\n",
       "      <td>259.600068</td>\n",
       "      <td>105.365637</td>\n",
       "    </tr>\n",
       "    <tr>\n",
       "      <th>max</th>\n",
       "      <td>1008.000000</td>\n",
       "      <td>499.000000</td>\n",
       "      <td>158.00000</td>\n",
       "      <td>81.000000</td>\n",
       "      <td>122.000000</td>\n",
       "      <td>16.000000</td>\n",
       "      <td>99.000000</td>\n",
       "      <td>82.000000</td>\n",
       "      <td>69.000000</td>\n",
       "      <td>39.000000</td>\n",
       "      <td>...</td>\n",
       "      <td>3.430000</td>\n",
       "      <td>100.000000</td>\n",
       "      <td>359.000000</td>\n",
       "      <td>885.650000</td>\n",
       "      <td>1.012482</td>\n",
       "      <td>885.633333</td>\n",
       "      <td>82.000000</td>\n",
       "      <td>99.000000</td>\n",
       "      <td>429.726716</td>\n",
       "      <td>161.898428</td>\n",
       "    </tr>\n",
       "  </tbody>\n",
       "</table>\n",
       "<p>8 rows × 32 columns</p>\n",
       "</div>"
      ],
      "text/plain": [
       "       crime_level_sum  crime_count  weather_crime_count  violent_count  \\\n",
       "count      4712.000000  4712.000000           4712.00000    4712.000000   \n",
       "mean        718.853141   381.088285             77.77101      39.665110   \n",
       "std          85.498010    45.021208             13.70592       9.156712   \n",
       "min         292.000000   148.000000             18.00000       6.000000   \n",
       "25%         662.000000   351.000000             68.00000      33.000000   \n",
       "50%         717.000000   381.000000             77.00000      39.000000   \n",
       "75%         774.000000   411.000000             86.00000      45.000000   \n",
       "max        1008.000000   499.000000            158.00000      81.000000   \n",
       "\n",
       "         COP_count  gun_crime_count     temp_max    temp_mean     temp_min  \\\n",
       "count  4712.000000      4712.000000  4712.000000  4712.000000  4712.000000   \n",
       "mean     60.673387         3.312394    65.824278    58.642827    51.158531   \n",
       "std      11.106615         2.132232     8.388321     6.517580     5.697210   \n",
       "min      18.000000         0.000000    45.000000    40.000000    32.000000   \n",
       "25%      53.000000         2.000000    60.000000    54.000000    47.000000   \n",
       "50%      60.000000         3.000000    65.000000    59.000000    52.000000   \n",
       "75%      67.000000         5.000000    71.000000    63.000000    55.000000   \n",
       "max     122.000000        16.000000    99.000000    82.000000    69.000000   \n",
       "\n",
       "        temp_delta      ...        precipitation  cloud_cover  wind_direction  \\\n",
       "count  4712.000000      ...          4712.000000  4712.000000     4712.000000   \n",
       "mean     14.665747      ...             0.047507    44.982173      246.217317   \n",
       "std       5.860592      ...             0.192233    28.923517       71.538046   \n",
       "min       2.000000      ...             0.000000     0.000000        1.000000   \n",
       "25%      11.000000      ...             0.000000    25.000000      235.000000   \n",
       "50%      14.000000      ...             0.000000    50.000000      273.000000   \n",
       "75%      18.000000      ...             0.000000    75.000000      290.000000   \n",
       "max      39.000000      ...             3.430000   100.000000      359.000000   \n",
       "\n",
       "        sun_length   moon_phase    sun_units  wind_chill_mean  wind_chill_max  \\\n",
       "count  4712.000000  4712.000000  4712.000000      4712.000000     4712.000000   \n",
       "mean    732.071806     0.512521   406.461629        58.642827       65.824278   \n",
       "std     106.860863     0.288817   223.508617         6.517580        8.388321   \n",
       "min     575.300000     0.012958     0.000000        40.000000       45.000000   \n",
       "25%     628.158333     0.262551   219.167042        54.000000       60.000000   \n",
       "50%     733.458333     0.512097   412.401167        59.000000       65.000000   \n",
       "75%     836.175000     0.762232   578.637500        63.000000       71.000000   \n",
       "max     885.650000     1.012482   885.633333        82.000000       99.000000   \n",
       "\n",
       "        heat_index  temp_apparent  \n",
       "count  4712.000000    4712.000000  \n",
       "mean    216.634454      92.981840  \n",
       "std      60.170987      18.330431  \n",
       "min      55.000000      38.602076  \n",
       "25%     173.215680      79.360176  \n",
       "50%     219.701946      92.643745  \n",
       "75%     259.600068     105.365637  \n",
       "max     429.726716     161.898428  \n",
       "\n",
       "[8 rows x 32 columns]"
      ]
     },
     "execution_count": 6,
     "metadata": {},
     "output_type": "execute_result"
    }
   ],
   "source": [
    "data.describe()"
   ]
  },
  {
   "cell_type": "code",
   "execution_count": 7,
   "metadata": {
    "collapsed": true
   },
   "outputs": [],
   "source": [
    "# Data Frame to hold results. To compare models after all are run\n",
    "results = pd.DataFrame(index=['dummy', 'RF', 'SVM', 'LR'], \n",
    "                       columns=['mean_absolute_error','time','lc_com'])"
   ]
  },
  {
   "cell_type": "markdown",
   "metadata": {},
   "source": [
    "## Select Features"
   ]
  },
  {
   "cell_type": "markdown",
   "metadata": {},
   "source": [
    "[[back to top](#Sections)]\n"
   ]
  },
  {
   "cell_type": "code",
   "execution_count": 8,
   "metadata": {
    "collapsed": false
   },
   "outputs": [
    {
     "data": {
      "text/plain": [
       "Index([u'crime_level_sum', u'crime_count', u'weather_crime_count',\n",
       "       u'violent_count', u'COP_count', u'gun_crime_count', u'dayofweek',\n",
       "       u'day', u'month', u'year', u'temp_max', u'temp_mean', u'temp_min',\n",
       "       u'temp_delta', u'dew_point_max', u'dew_point_mean', u'dew_point_min',\n",
       "       u'humidity_max', u'humidity_mean', u'humidity_min', u'sl_pressure_max',\n",
       "       u'sl_pressure_mean', u'sl_pressure_min', u'wind_speed_max',\n",
       "       u'wind_speed_mean', u'wind_max_gust', u'precipitation', u'cloud_cover',\n",
       "       u'events', u'wind_direction', u'sun_length', u'moon_phase',\n",
       "       u'sun_units', u'wind_chill_mean', u'wind_chill_max', u'heat_index',\n",
       "       u'temp_apparent', u'end_of_week', u'winter', u'rain'],\n",
       "      dtype='object')"
      ]
     },
     "execution_count": 8,
     "metadata": {},
     "output_type": "execute_result"
    }
   ],
   "source": [
    "data.columns"
   ]
  },
  {
   "cell_type": "markdown",
   "metadata": {},
   "source": [
    "### Review Correlations\n",
    "- Temperature features (temp, dewpoint, wind chill, heat index are very correlated)"
   ]
  },
  {
   "cell_type": "code",
   "execution_count": 61,
   "metadata": {
    "collapsed": false
   },
   "outputs": [
    {
     "data": {
      "text/html": [
       "<div>\n",
       "<table border=\"1\" class=\"dataframe\">\n",
       "  <thead>\n",
       "    <tr style=\"text-align: right;\">\n",
       "      <th></th>\n",
       "      <th>COP_count</th>\n",
       "      <th>temp_max</th>\n",
       "      <th>temp_mean</th>\n",
       "      <th>temp_delta</th>\n",
       "      <th>temp_apparent</th>\n",
       "      <th>dew_point_mean</th>\n",
       "      <th>humidity_mean</th>\n",
       "      <th>wind_chill_mean</th>\n",
       "      <th>heat_index</th>\n",
       "      <th>sl_pressure_mean</th>\n",
       "      <th>wind_speed_mean</th>\n",
       "    </tr>\n",
       "  </thead>\n",
       "  <tbody>\n",
       "    <tr>\n",
       "      <th>COP_count</th>\n",
       "      <td>1.000000</td>\n",
       "      <td>0.163880</td>\n",
       "      <td>0.154686</td>\n",
       "      <td>0.119358</td>\n",
       "      <td>0.140825</td>\n",
       "      <td>0.123887</td>\n",
       "      <td>-0.069148</td>\n",
       "      <td>0.154686</td>\n",
       "      <td>0.112630</td>\n",
       "      <td>-0.028393</td>\n",
       "      <td>-0.013496</td>\n",
       "    </tr>\n",
       "    <tr>\n",
       "      <th>temp_max</th>\n",
       "      <td>0.163880</td>\n",
       "      <td>1.000000</td>\n",
       "      <td>0.950763</td>\n",
       "      <td>0.734861</td>\n",
       "      <td>0.852261</td>\n",
       "      <td>0.746888</td>\n",
       "      <td>-0.439125</td>\n",
       "      <td>0.950763</td>\n",
       "      <td>0.698401</td>\n",
       "      <td>-0.363249</td>\n",
       "      <td>0.060550</td>\n",
       "    </tr>\n",
       "    <tr>\n",
       "      <th>temp_mean</th>\n",
       "      <td>0.154686</td>\n",
       "      <td>0.950763</td>\n",
       "      <td>1.000000</td>\n",
       "      <td>0.492390</td>\n",
       "      <td>0.930560</td>\n",
       "      <td>0.873312</td>\n",
       "      <td>-0.291553</td>\n",
       "      <td>1.000000</td>\n",
       "      <td>0.828870</td>\n",
       "      <td>-0.450147</td>\n",
       "      <td>0.173742</td>\n",
       "    </tr>\n",
       "    <tr>\n",
       "      <th>temp_delta</th>\n",
       "      <td>0.119358</td>\n",
       "      <td>0.734861</td>\n",
       "      <td>0.492390</td>\n",
       "      <td>1.000000</td>\n",
       "      <td>0.360484</td>\n",
       "      <td>0.185224</td>\n",
       "      <td>-0.619735</td>\n",
       "      <td>0.492390</td>\n",
       "      <td>0.144564</td>\n",
       "      <td>-0.032132</td>\n",
       "      <td>-0.210998</td>\n",
       "    </tr>\n",
       "    <tr>\n",
       "      <th>temp_apparent</th>\n",
       "      <td>0.140825</td>\n",
       "      <td>0.852261</td>\n",
       "      <td>0.930560</td>\n",
       "      <td>0.360484</td>\n",
       "      <td>1.000000</td>\n",
       "      <td>0.957080</td>\n",
       "      <td>0.014234</td>\n",
       "      <td>0.930560</td>\n",
       "      <td>0.944460</td>\n",
       "      <td>-0.408750</td>\n",
       "      <td>-0.003626</td>\n",
       "    </tr>\n",
       "    <tr>\n",
       "      <th>dew_point_mean</th>\n",
       "      <td>0.123887</td>\n",
       "      <td>0.746888</td>\n",
       "      <td>0.873312</td>\n",
       "      <td>0.185224</td>\n",
       "      <td>0.957080</td>\n",
       "      <td>1.000000</td>\n",
       "      <td>0.206199</td>\n",
       "      <td>0.873312</td>\n",
       "      <td>0.983444</td>\n",
       "      <td>-0.466297</td>\n",
       "      <td>0.180008</td>\n",
       "    </tr>\n",
       "    <tr>\n",
       "      <th>humidity_mean</th>\n",
       "      <td>-0.069148</td>\n",
       "      <td>-0.439125</td>\n",
       "      <td>-0.291553</td>\n",
       "      <td>-0.619735</td>\n",
       "      <td>0.014234</td>\n",
       "      <td>0.206199</td>\n",
       "      <td>1.000000</td>\n",
       "      <td>-0.291553</td>\n",
       "      <td>0.256156</td>\n",
       "      <td>-0.002819</td>\n",
       "      <td>-0.033022</td>\n",
       "    </tr>\n",
       "    <tr>\n",
       "      <th>wind_chill_mean</th>\n",
       "      <td>0.154686</td>\n",
       "      <td>0.950763</td>\n",
       "      <td>1.000000</td>\n",
       "      <td>0.492390</td>\n",
       "      <td>0.930560</td>\n",
       "      <td>0.873312</td>\n",
       "      <td>-0.291553</td>\n",
       "      <td>1.000000</td>\n",
       "      <td>0.828870</td>\n",
       "      <td>-0.450147</td>\n",
       "      <td>0.173742</td>\n",
       "    </tr>\n",
       "    <tr>\n",
       "      <th>heat_index</th>\n",
       "      <td>0.112630</td>\n",
       "      <td>0.698401</td>\n",
       "      <td>0.828870</td>\n",
       "      <td>0.144564</td>\n",
       "      <td>0.944460</td>\n",
       "      <td>0.983444</td>\n",
       "      <td>0.256156</td>\n",
       "      <td>0.828870</td>\n",
       "      <td>1.000000</td>\n",
       "      <td>-0.443060</td>\n",
       "      <td>0.169650</td>\n",
       "    </tr>\n",
       "    <tr>\n",
       "      <th>sl_pressure_mean</th>\n",
       "      <td>-0.028393</td>\n",
       "      <td>-0.363249</td>\n",
       "      <td>-0.450147</td>\n",
       "      <td>-0.032132</td>\n",
       "      <td>-0.408750</td>\n",
       "      <td>-0.466297</td>\n",
       "      <td>-0.002819</td>\n",
       "      <td>-0.450147</td>\n",
       "      <td>-0.443060</td>\n",
       "      <td>1.000000</td>\n",
       "      <td>-0.372329</td>\n",
       "    </tr>\n",
       "    <tr>\n",
       "      <th>wind_speed_mean</th>\n",
       "      <td>-0.013496</td>\n",
       "      <td>0.060550</td>\n",
       "      <td>0.173742</td>\n",
       "      <td>-0.210998</td>\n",
       "      <td>-0.003626</td>\n",
       "      <td>0.180008</td>\n",
       "      <td>-0.033022</td>\n",
       "      <td>0.173742</td>\n",
       "      <td>0.169650</td>\n",
       "      <td>-0.372329</td>\n",
       "      <td>1.000000</td>\n",
       "    </tr>\n",
       "  </tbody>\n",
       "</table>\n",
       "</div>"
      ],
      "text/plain": [
       "                  COP_count  temp_max  temp_mean  temp_delta  temp_apparent  \\\n",
       "COP_count          1.000000  0.163880   0.154686    0.119358       0.140825   \n",
       "temp_max           0.163880  1.000000   0.950763    0.734861       0.852261   \n",
       "temp_mean          0.154686  0.950763   1.000000    0.492390       0.930560   \n",
       "temp_delta         0.119358  0.734861   0.492390    1.000000       0.360484   \n",
       "temp_apparent      0.140825  0.852261   0.930560    0.360484       1.000000   \n",
       "dew_point_mean     0.123887  0.746888   0.873312    0.185224       0.957080   \n",
       "humidity_mean     -0.069148 -0.439125  -0.291553   -0.619735       0.014234   \n",
       "wind_chill_mean    0.154686  0.950763   1.000000    0.492390       0.930560   \n",
       "heat_index         0.112630  0.698401   0.828870    0.144564       0.944460   \n",
       "sl_pressure_mean  -0.028393 -0.363249  -0.450147   -0.032132      -0.408750   \n",
       "wind_speed_mean   -0.013496  0.060550   0.173742   -0.210998      -0.003626   \n",
       "\n",
       "                  dew_point_mean  humidity_mean  wind_chill_mean  heat_index  \\\n",
       "COP_count               0.123887      -0.069148         0.154686    0.112630   \n",
       "temp_max                0.746888      -0.439125         0.950763    0.698401   \n",
       "temp_mean               0.873312      -0.291553         1.000000    0.828870   \n",
       "temp_delta              0.185224      -0.619735         0.492390    0.144564   \n",
       "temp_apparent           0.957080       0.014234         0.930560    0.944460   \n",
       "dew_point_mean          1.000000       0.206199         0.873312    0.983444   \n",
       "humidity_mean           0.206199       1.000000        -0.291553    0.256156   \n",
       "wind_chill_mean         0.873312      -0.291553         1.000000    0.828870   \n",
       "heat_index              0.983444       0.256156         0.828870    1.000000   \n",
       "sl_pressure_mean       -0.466297      -0.002819        -0.450147   -0.443060   \n",
       "wind_speed_mean         0.180008      -0.033022         0.173742    0.169650   \n",
       "\n",
       "                  sl_pressure_mean  wind_speed_mean  \n",
       "COP_count                -0.028393        -0.013496  \n",
       "temp_max                 -0.363249         0.060550  \n",
       "temp_mean                -0.450147         0.173742  \n",
       "temp_delta               -0.032132        -0.210998  \n",
       "temp_apparent            -0.408750        -0.003626  \n",
       "dew_point_mean           -0.466297         0.180008  \n",
       "humidity_mean            -0.002819        -0.033022  \n",
       "wind_chill_mean          -0.450147         0.173742  \n",
       "heat_index               -0.443060         0.169650  \n",
       "sl_pressure_mean          1.000000        -0.372329  \n",
       "wind_speed_mean          -0.372329         1.000000  "
      ]
     },
     "execution_count": 61,
     "metadata": {},
     "output_type": "execute_result"
    }
   ],
   "source": [
    "data[[u'COP_count', u'temp_max', u'temp_mean', u'temp_delta', u'temp_apparent',\n",
    "       u'dew_point_mean', u'humidity_mean',\n",
    "       u'wind_chill_mean', u'heat_index', \n",
    "       u'sl_pressure_mean', u'wind_speed_mean']].corr()"
   ]
  },
  {
   "cell_type": "code",
   "execution_count": 10,
   "metadata": {
    "collapsed": false,
    "scrolled": true
   },
   "outputs": [
    {
     "name": "stderr",
     "output_type": "stream",
     "text": [
      "/Users/jsmithson/anaconda/lib/python2.7/site-packages/matplotlib/collections.py:590: FutureWarning: elementwise comparison failed; returning scalar instead, but in the future will perform elementwise comparison\n",
      "  if self._edgecolors == str('face'):\n"
     ]
    },
    {
     "data": {
      "image/png": "[encoded data removed]",
      "text/plain": [
       "<matplotlib.figure.Figure at 0x108bfe310>"
      ]
     },
     "metadata": {},
     "output_type": "display_data"
    }
   ],
   "source": [
    "# look at correlated features to see if I can drop any (before I impute any missing values)\n",
    "# Thanks Michelle\n",
    "# create correlation heatmap - modified from https://stanford.edu/~mwaskom/software/seaborn/examples/many_pairwise_correlations.html\n",
    "sns.set(style=\"white\")\n",
    "# Compute the correlation matrix\n",
    "corr = data.corr()\n",
    "\n",
    "# Generate a mask for the upper triangle\n",
    "mask = np.zeros_like(corr, dtype=np.bool)\n",
    "mask[np.triu_indices_from(mask)] = True\n",
    "\n",
    "# Set up the matplotlib figure\n",
    "f, ax = plt.subplots(figsize=(15, 15))\n",
    "\n",
    "# Generate a custom diverging colormap\n",
    "cmap = sns.diverging_palette(260, 10, as_cmap=True)\n",
    "\n",
    "# Draw the heatmap with the mask and correct aspect ratio\n",
    "plt.title('Heatmap of Correlated Features')\n",
    "sns.heatmap(corr, mask=mask, cmap=cmap, vmax=.3,\n",
    "            square=True, xticklabels=True, yticklabels=True,\n",
    "            linewidths=.5, cbar_kws={\"shrink\": .5}, ax=ax);"
   ]
  },
  {
   "cell_type": "markdown",
   "metadata": {},
   "source": [
    "#### Several different combinations that can be tried"
   ]
  },
  {
   "cell_type": "code",
   "execution_count": 11,
   "metadata": {
    "collapsed": true
   },
   "outputs": [],
   "source": [
    "# All numeric features + \n",
    "all_features = ['temp_max', 'temp_mean', 'temp_min',\n",
    "       'temp_delta',  'dew_point_mean', \n",
    "       'humidity_mean', 'sl_pressure_mean',\n",
    "       'wind_chill_max', 'wind_chill_mean', 'winter',\n",
    "       'wind_speed_max', 'wind_speed_mean', 'precipitation', 'cloud_cover',\n",
    "       'wind_direction', 'sun_length', 'moon_phase',\n",
    "       'sun_units', 'end_of_week', 'rain','temp_apparent', 'heat_index']"
   ]
  },
  {
   "cell_type": "code",
   "execution_count": null,
   "metadata": {
    "collapsed": true
   },
   "outputs": [],
   "source": [
    "# Add Features slowly\n",
    "temp_features = [ 'temp_mean', 'humidity_mean', 'sl_pressure_mean',\n",
    "            'wind_speed_mean', 'cloud_cover', 'sun_length',\n",
    "           'wind_chill_mean', 'heat_index', 'temp_apparent',\n",
    "           'dayofweek']"
   ]
  },
  {
   "cell_type": "code",
   "execution_count": 62,
   "metadata": {
    "collapsed": true
   },
   "outputs": [],
   "source": [
    "# Min weather features + \n",
    "min_features = ['temp_max', 'temp_delta','humidity_mean','wind_speed_mean']"
   ]
  },
  {
   "cell_type": "code",
   "execution_count": 125,
   "metadata": {
    "collapsed": true
   },
   "outputs": [],
   "source": [
    "# Min weather features + sum and clouds\n",
    "min_plus_features = ['temp_max', 'temp_delta','humidity_mean','wind_speed_mean',\n",
    "            'sun_length','cloud_cover','precipitation']"
   ]
  },
  {
   "cell_type": "code",
   "execution_count": 172,
   "metadata": {
    "collapsed": true
   },
   "outputs": [],
   "source": [
    "# Min weather features + sum and clouds + halos\n",
    "halos_features = ['temp_max', 'temp_delta','humidity_mean','wind_speed_mean',\n",
    "            'sun_length','cloud_cover','precipitation',\n",
    "            'wind_chill_mean',  'heat_index']"
   ]
  },
  {
   "cell_type": "code",
   "execution_count": 246,
   "metadata": {
    "collapsed": true
   },
   "outputs": [],
   "source": [
    "# Day and date info only\n",
    "date_features = [ 'dayofweek', 'month', 'day']\n",
    "      "
   ]
  },
  {
   "cell_type": "code",
   "execution_count": 12,
   "metadata": {
    "collapsed": true
   },
   "outputs": [],
   "source": [
    "# Current best combination to run\n",
    "old_best_features = ['temp_mean', 'temp_delta', 'dew_point_mean', 'humidity_mean', 'sl_pressure_mean',\n",
    "            'wind_speed_mean', 'cloud_cover', 'wind_direction', 'sun_length',\n",
    "            'wind_chill_mean', 'heat_index', 'temp_apparent',\n",
    "            'rain', 'dayofweek', 'month', 'day']\n"
   ]
  },
  {
   "cell_type": "markdown",
   "metadata": {},
   "source": [
    "#### The Current set of features to run"
   ]
  },
  {
   "cell_type": "code",
   "execution_count": 517,
   "metadata": {
    "collapsed": true
   },
   "outputs": [],
   "source": [
    "# min + day and rain\n",
    "features = [ 'temp_max', 'temp_delta','humidity_mean','wind_speed_mean',\n",
    "            'dayofweek', 'month', 'day', 'rain']\n",
    "      "
   ]
  },
  {
   "cell_type": "markdown",
   "metadata": {},
   "source": [
    "### Choose which Crime Variable to train to"
   ]
  },
  {
   "cell_type": "code",
   "execution_count": 518,
   "metadata": {
    "collapsed": true
   },
   "outputs": [],
   "source": [
    "# Which class to train to\n",
    "#crime_variable = 'crime_count'\n",
    "#crime_variable = 'violent_count'\n",
    "#crime_variable = 'crime_level_sum'\n",
    "crime_variable = 'COP_count'"
   ]
  },
  {
   "cell_type": "markdown",
   "metadata": {},
   "source": [
    "### Which dummy feature to drop if categoricals are in the feature set"
   ]
  },
  {
   "cell_type": "code",
   "execution_count": 519,
   "metadata": {
    "collapsed": true
   },
   "outputs": [],
   "source": [
    "#dummy_drop = ['dayofweek_monday']\n",
    "#dummy_drop = ['dayofweek_monday', 'month_1', 'rain_False', 'day_3']\n",
    "dummy_drop = ['dayofweek_monday', 'month_1', 'day_3', 'rain_False']\n",
    "#dummy_drop = ['rain_False', 'end_of_week_False']"
   ]
  },
  {
   "cell_type": "markdown",
   "metadata": {},
   "source": [
    "## Prepare data for train/Test"
   ]
  },
  {
   "cell_type": "code",
   "execution_count": 520,
   "metadata": {
    "collapsed": false
   },
   "outputs": [
    {
     "data": {
      "text/html": [
       "<div>\n",
       "<table border=\"1\" class=\"dataframe\">\n",
       "  <thead>\n",
       "    <tr style=\"text-align: right;\">\n",
       "      <th></th>\n",
       "      <th>temp_max</th>\n",
       "      <th>temp_delta</th>\n",
       "      <th>humidity_mean</th>\n",
       "      <th>wind_speed_mean</th>\n",
       "      <th>dayofweek</th>\n",
       "      <th>month</th>\n",
       "      <th>day</th>\n",
       "      <th>rain</th>\n",
       "    </tr>\n",
       "  </thead>\n",
       "  <tbody>\n",
       "    <tr>\n",
       "      <th>2011-02-19</th>\n",
       "      <td>45</td>\n",
       "      <td>5</td>\n",
       "      <td>83</td>\n",
       "      <td>6</td>\n",
       "      <td>saturday</td>\n",
       "      <td>2</td>\n",
       "      <td>19</td>\n",
       "      <td>True</td>\n",
       "    </tr>\n",
       "    <tr>\n",
       "      <th>2005-01-13</th>\n",
       "      <td>46</td>\n",
       "      <td>5</td>\n",
       "      <td>94</td>\n",
       "      <td>4</td>\n",
       "      <td>thursday</td>\n",
       "      <td>1</td>\n",
       "      <td>13</td>\n",
       "      <td>False</td>\n",
       "    </tr>\n",
       "    <tr>\n",
       "      <th>2007-01-12</th>\n",
       "      <td>46</td>\n",
       "      <td>9</td>\n",
       "      <td>49</td>\n",
       "      <td>18</td>\n",
       "      <td>friday</td>\n",
       "      <td>1</td>\n",
       "      <td>12</td>\n",
       "      <td>False</td>\n",
       "    </tr>\n",
       "    <tr>\n",
       "      <th>2008-01-24</th>\n",
       "      <td>46</td>\n",
       "      <td>5</td>\n",
       "      <td>82</td>\n",
       "      <td>10</td>\n",
       "      <td>thursday</td>\n",
       "      <td>1</td>\n",
       "      <td>24</td>\n",
       "      <td>True</td>\n",
       "    </tr>\n",
       "    <tr>\n",
       "      <th>2009-12-09</th>\n",
       "      <td>46</td>\n",
       "      <td>10</td>\n",
       "      <td>71</td>\n",
       "      <td>7</td>\n",
       "      <td>wednesday</td>\n",
       "      <td>12</td>\n",
       "      <td>9</td>\n",
       "      <td>False</td>\n",
       "    </tr>\n",
       "  </tbody>\n",
       "</table>\n",
       "</div>"
      ],
      "text/plain": [
       "            temp_max  temp_delta  humidity_mean  wind_speed_mean  dayofweek  \\\n",
       "2011-02-19        45           5             83                6   saturday   \n",
       "2005-01-13        46           5             94                4   thursday   \n",
       "2007-01-12        46           9             49               18     friday   \n",
       "2008-01-24        46           5             82               10   thursday   \n",
       "2009-12-09        46          10             71                7  wednesday   \n",
       "\n",
       "           month day   rain  \n",
       "2011-02-19     2  19   True  \n",
       "2005-01-13     1  13  False  \n",
       "2007-01-12     1  12  False  \n",
       "2008-01-24     1  24   True  \n",
       "2009-12-09    12   9  False  "
      ]
     },
     "execution_count": 520,
     "metadata": {},
     "output_type": "execute_result"
    }
   ],
   "source": [
    "# split into data and class  X, y\n",
    "X, y = data[features], data[crime_variable]\n",
    "X.head()"
   ]
  },
  {
   "cell_type": "markdown",
   "metadata": {},
   "source": [
    "### Create the dummies from the categorical features"
   ]
  },
  {
   "cell_type": "code",
   "execution_count": 521,
   "metadata": {
    "collapsed": false
   },
   "outputs": [
    {
     "data": {
      "text/html": [
       "<div>\n",
       "<table border=\"1\" class=\"dataframe\">\n",
       "  <thead>\n",
       "    <tr style=\"text-align: right;\">\n",
       "      <th></th>\n",
       "      <th>temp_max</th>\n",
       "      <th>temp_delta</th>\n",
       "      <th>humidity_mean</th>\n",
       "      <th>wind_speed_mean</th>\n",
       "      <th>dayofweek_friday</th>\n",
       "      <th>dayofweek_monday</th>\n",
       "      <th>dayofweek_saturday</th>\n",
       "      <th>dayofweek_sunday</th>\n",
       "      <th>dayofweek_thursday</th>\n",
       "      <th>dayofweek_tuesday</th>\n",
       "      <th>...</th>\n",
       "      <th>day_24</th>\n",
       "      <th>day_25</th>\n",
       "      <th>day_26</th>\n",
       "      <th>day_27</th>\n",
       "      <th>day_28</th>\n",
       "      <th>day_29</th>\n",
       "      <th>day_30</th>\n",
       "      <th>day_31</th>\n",
       "      <th>rain_False</th>\n",
       "      <th>rain_True</th>\n",
       "    </tr>\n",
       "  </thead>\n",
       "  <tbody>\n",
       "    <tr>\n",
       "      <th>2011-02-19</th>\n",
       "      <td>45</td>\n",
       "      <td>5</td>\n",
       "      <td>83</td>\n",
       "      <td>6</td>\n",
       "      <td>0</td>\n",
       "      <td>0</td>\n",
       "      <td>1</td>\n",
       "      <td>0</td>\n",
       "      <td>0</td>\n",
       "      <td>0</td>\n",
       "      <td>...</td>\n",
       "      <td>0</td>\n",
       "      <td>0</td>\n",
       "      <td>0</td>\n",
       "      <td>0</td>\n",
       "      <td>0</td>\n",
       "      <td>0</td>\n",
       "      <td>0</td>\n",
       "      <td>0</td>\n",
       "      <td>0</td>\n",
       "      <td>1</td>\n",
       "    </tr>\n",
       "    <tr>\n",
       "      <th>2005-01-13</th>\n",
       "      <td>46</td>\n",
       "      <td>5</td>\n",
       "      <td>94</td>\n",
       "      <td>4</td>\n",
       "      <td>0</td>\n",
       "      <td>0</td>\n",
       "      <td>0</td>\n",
       "      <td>0</td>\n",
       "      <td>1</td>\n",
       "      <td>0</td>\n",
       "      <td>...</td>\n",
       "      <td>0</td>\n",
       "      <td>0</td>\n",
       "      <td>0</td>\n",
       "      <td>0</td>\n",
       "      <td>0</td>\n",
       "      <td>0</td>\n",
       "      <td>0</td>\n",
       "      <td>0</td>\n",
       "      <td>1</td>\n",
       "      <td>0</td>\n",
       "    </tr>\n",
       "  </tbody>\n",
       "</table>\n",
       "<p>2 rows × 56 columns</p>\n",
       "</div>"
      ],
      "text/plain": [
       "            temp_max  temp_delta  humidity_mean  wind_speed_mean  \\\n",
       "2011-02-19        45           5             83                6   \n",
       "2005-01-13        46           5             94                4   \n",
       "\n",
       "            dayofweek_friday  dayofweek_monday  dayofweek_saturday  \\\n",
       "2011-02-19                 0                 0                   1   \n",
       "2005-01-13                 0                 0                   0   \n",
       "\n",
       "            dayofweek_sunday  dayofweek_thursday  dayofweek_tuesday  \\\n",
       "2011-02-19                 0                   0                  0   \n",
       "2005-01-13                 0                   1                  0   \n",
       "\n",
       "              ...      day_24  day_25  day_26  day_27  day_28  day_29  day_30  \\\n",
       "2011-02-19    ...           0       0       0       0       0       0       0   \n",
       "2005-01-13    ...           0       0       0       0       0       0       0   \n",
       "\n",
       "            day_31  rain_False  rain_True  \n",
       "2011-02-19       0           0          1  \n",
       "2005-01-13       0           1          0  \n",
       "\n",
       "[2 rows x 56 columns]"
      ]
     },
     "execution_count": 521,
     "metadata": {},
     "output_type": "execute_result"
    }
   ],
   "source": [
    "# use get_dummies to convert categoricals into binary features\n",
    "X = pd.get_dummies(X)\n",
    "X.head(2)"
   ]
  },
  {
   "cell_type": "code",
   "execution_count": 522,
   "metadata": {
    "collapsed": true
   },
   "outputs": [],
   "source": [
    "# save the full list if features including the new dummies\n",
    "# will be needed to create the forecast data frame to run through predictions\n",
    "full_features = X.columns"
   ]
  },
  {
   "cell_type": "code",
   "execution_count": 523,
   "metadata": {
    "collapsed": false
   },
   "outputs": [
    {
     "data": {
      "text/html": [
       "<div>\n",
       "<table border=\"1\" class=\"dataframe\">\n",
       "  <thead>\n",
       "    <tr style=\"text-align: right;\">\n",
       "      <th></th>\n",
       "      <th>temp_max</th>\n",
       "      <th>temp_delta</th>\n",
       "      <th>humidity_mean</th>\n",
       "      <th>wind_speed_mean</th>\n",
       "      <th>dayofweek_friday</th>\n",
       "      <th>dayofweek_saturday</th>\n",
       "      <th>dayofweek_sunday</th>\n",
       "      <th>dayofweek_thursday</th>\n",
       "      <th>dayofweek_tuesday</th>\n",
       "      <th>dayofweek_wednesday</th>\n",
       "      <th>...</th>\n",
       "      <th>day_23</th>\n",
       "      <th>day_24</th>\n",
       "      <th>day_25</th>\n",
       "      <th>day_26</th>\n",
       "      <th>day_27</th>\n",
       "      <th>day_28</th>\n",
       "      <th>day_29</th>\n",
       "      <th>day_30</th>\n",
       "      <th>day_31</th>\n",
       "      <th>rain_True</th>\n",
       "    </tr>\n",
       "  </thead>\n",
       "  <tbody>\n",
       "    <tr>\n",
       "      <th>2011-02-19</th>\n",
       "      <td>45</td>\n",
       "      <td>5</td>\n",
       "      <td>83</td>\n",
       "      <td>6</td>\n",
       "      <td>0</td>\n",
       "      <td>1</td>\n",
       "      <td>0</td>\n",
       "      <td>0</td>\n",
       "      <td>0</td>\n",
       "      <td>0</td>\n",
       "      <td>...</td>\n",
       "      <td>0</td>\n",
       "      <td>0</td>\n",
       "      <td>0</td>\n",
       "      <td>0</td>\n",
       "      <td>0</td>\n",
       "      <td>0</td>\n",
       "      <td>0</td>\n",
       "      <td>0</td>\n",
       "      <td>0</td>\n",
       "      <td>1</td>\n",
       "    </tr>\n",
       "    <tr>\n",
       "      <th>2005-01-13</th>\n",
       "      <td>46</td>\n",
       "      <td>5</td>\n",
       "      <td>94</td>\n",
       "      <td>4</td>\n",
       "      <td>0</td>\n",
       "      <td>0</td>\n",
       "      <td>0</td>\n",
       "      <td>1</td>\n",
       "      <td>0</td>\n",
       "      <td>0</td>\n",
       "      <td>...</td>\n",
       "      <td>0</td>\n",
       "      <td>0</td>\n",
       "      <td>0</td>\n",
       "      <td>0</td>\n",
       "      <td>0</td>\n",
       "      <td>0</td>\n",
       "      <td>0</td>\n",
       "      <td>0</td>\n",
       "      <td>0</td>\n",
       "      <td>0</td>\n",
       "    </tr>\n",
       "  </tbody>\n",
       "</table>\n",
       "<p>2 rows × 52 columns</p>\n",
       "</div>"
      ],
      "text/plain": [
       "            temp_max  temp_delta  humidity_mean  wind_speed_mean  \\\n",
       "2011-02-19        45           5             83                6   \n",
       "2005-01-13        46           5             94                4   \n",
       "\n",
       "            dayofweek_friday  dayofweek_saturday  dayofweek_sunday  \\\n",
       "2011-02-19                 0                   1                 0   \n",
       "2005-01-13                 0                   0                 0   \n",
       "\n",
       "            dayofweek_thursday  dayofweek_tuesday  dayofweek_wednesday  \\\n",
       "2011-02-19                   0                  0                    0   \n",
       "2005-01-13                   1                  0                    0   \n",
       "\n",
       "              ...      day_23  day_24  day_25  day_26  day_27  day_28  day_29  \\\n",
       "2011-02-19    ...           0       0       0       0       0       0       0   \n",
       "2005-01-13    ...           0       0       0       0       0       0       0   \n",
       "\n",
       "            day_30  day_31  rain_True  \n",
       "2011-02-19       0       0          1  \n",
       "2005-01-13       0       0          0  \n",
       "\n",
       "[2 rows x 52 columns]"
      ]
     },
     "execution_count": 523,
     "metadata": {},
     "output_type": "execute_result"
    }
   ],
   "source": [
    "# Drop one feature for each categorical\n",
    "X.drop(dummy_drop, axis=1, inplace=True)\n",
    "X.head(2)"
   ]
  },
  {
   "cell_type": "code",
   "execution_count": 524,
   "metadata": {
    "collapsed": false
   },
   "outputs": [
    {
     "name": "stdout",
     "output_type": "stream",
     "text": [
      "<class 'pandas.core.frame.DataFrame'>\n",
      "Index: 4712 entries, 2011-02-19 to 2010-08-24\n",
      "Data columns (total 52 columns):\n",
      "temp_max               4712 non-null int64\n",
      "temp_delta             4712 non-null int64\n",
      "humidity_mean          4712 non-null int64\n",
      "wind_speed_mean        4712 non-null int64\n",
      "dayofweek_friday       4712 non-null float64\n",
      "dayofweek_saturday     4712 non-null float64\n",
      "dayofweek_sunday       4712 non-null float64\n",
      "dayofweek_thursday     4712 non-null float64\n",
      "dayofweek_tuesday      4712 non-null float64\n",
      "dayofweek_wednesday    4712 non-null float64\n",
      "month_2                4712 non-null float64\n",
      "month_3                4712 non-null float64\n",
      "month_4                4712 non-null float64\n",
      "month_5                4712 non-null float64\n",
      "month_6                4712 non-null float64\n",
      "month_7                4712 non-null float64\n",
      "month_8                4712 non-null float64\n",
      "month_9                4712 non-null float64\n",
      "month_10               4712 non-null float64\n",
      "month_11               4712 non-null float64\n",
      "month_12               4712 non-null float64\n",
      "day_1                  4712 non-null float64\n",
      "day_2                  4712 non-null float64\n",
      "day_4                  4712 non-null float64\n",
      "day_5                  4712 non-null float64\n",
      "day_6                  4712 non-null float64\n",
      "day_7                  4712 non-null float64\n",
      "day_8                  4712 non-null float64\n",
      "day_9                  4712 non-null float64\n",
      "day_10                 4712 non-null float64\n",
      "day_11                 4712 non-null float64\n",
      "day_12                 4712 non-null float64\n",
      "day_13                 4712 non-null float64\n",
      "day_14                 4712 non-null float64\n",
      "day_15                 4712 non-null float64\n",
      "day_16                 4712 non-null float64\n",
      "day_17                 4712 non-null float64\n",
      "day_18                 4712 non-null float64\n",
      "day_19                 4712 non-null float64\n",
      "day_20                 4712 non-null float64\n",
      "day_21                 4712 non-null float64\n",
      "day_22                 4712 non-null float64\n",
      "day_23                 4712 non-null float64\n",
      "day_24                 4712 non-null float64\n",
      "day_25                 4712 non-null float64\n",
      "day_26                 4712 non-null float64\n",
      "day_27                 4712 non-null float64\n",
      "day_28                 4712 non-null float64\n",
      "day_29                 4712 non-null float64\n",
      "day_30                 4712 non-null float64\n",
      "day_31                 4712 non-null float64\n",
      "rain_True              4712 non-null float64\n",
      "dtypes: float64(48), int64(4)\n",
      "memory usage: 1.9+ MB\n"
     ]
    }
   ],
   "source": [
    "X.info()"
   ]
  },
  {
   "cell_type": "markdown",
   "metadata": {},
   "source": [
    "### Split into Test and Training"
   ]
  },
  {
   "cell_type": "code",
   "execution_count": 525,
   "metadata": {
    "collapsed": true
   },
   "outputs": [],
   "source": [
    "# Split up data into train and test\n",
    "X_train, X_test, y_train, y_test = train_test_split(X, y, test_size=0.2, random_state=7)"
   ]
  },
  {
   "cell_type": "code",
   "execution_count": 526,
   "metadata": {
    "collapsed": false
   },
   "outputs": [],
   "source": [
    "# Standardize data if needed\n",
    "stdsc = StandardScaler()\n",
    "X_train_std = stdsc.fit_transform(X_train)\n",
    "X_test_std = stdsc.transform(X_test)"
   ]
  },
  {
   "cell_type": "code",
   "execution_count": 527,
   "metadata": {
    "collapsed": true
   },
   "outputs": [],
   "source": [
    "# Create the cv - defines how you want to break up all the tests\n",
    "cv = ShuffleSplit(X_train.shape[0], n_iter=10, test_size=0.2, random_state=0)"
   ]
  },
  {
   "cell_type": "markdown",
   "metadata": {},
   "source": [
    "### Scoring Metric"
   ]
  },
  {
   "cell_type": "code",
   "execution_count": 528,
   "metadata": {
    "collapsed": true
   },
   "outputs": [],
   "source": [
    "# Choose the scoring metric\n",
    "scoring='mean_absolute_error'\n",
    "#scoring='median_absolute_error'\n",
    "#scoring='r2'"
   ]
  },
  {
   "cell_type": "markdown",
   "metadata": {},
   "source": [
    "## Dummy Regressor\n",
    "- used to compair models to the dummy, which just chooses the mean everytime."
   ]
  },
  {
   "cell_type": "markdown",
   "metadata": {},
   "source": [
    "[[back to top](#Sections)]\n"
   ]
  },
  {
   "cell_type": "code",
   "execution_count": 529,
   "metadata": {
    "collapsed": false
   },
   "outputs": [
    {
     "name": "stdout",
     "output_type": "stream",
     "text": [
      "CV MEA [-8.9414862  -8.2521042  -8.79256987 -8.64640282 -8.89513309 -8.24738333\n",
      " -8.7181084  -8.80883909 -8.9949303  -8.63857767], Average MEA -8.69355349688\n"
     ]
    }
   ],
   "source": [
    "dummy_model = DummyRegressor()\n",
    "dummy_model.fit(X_train_std, y_train)\n",
    "scores = cross_val_score(dummy_model, X_train_std, y_train, scoring=scoring, cv=cv)\n",
    "print('CV MEA {}, Average MEA {}'.format(scores, scores.mean()))"
   ]
  },
  {
   "cell_type": "code",
   "execution_count": 530,
   "metadata": {
    "collapsed": false
   },
   "outputs": [
    {
     "name": "stdout",
     "output_type": "stream",
     "text": [
      "Mean Absolute Error =  8.5300068905\n"
     ]
    }
   ],
   "source": [
    "# Get Mean Error of the test set\n",
    "results.loc['dummy',scoring] = mean_absolute_error(y_test, dummy_model.predict(X_test_std))\n",
    "print 'Mean Absolute Error = ', results.loc['dummy',scoring]   "
   ]
  },
  {
   "cell_type": "code",
   "execution_count": 531,
   "metadata": {
    "collapsed": false
   },
   "outputs": [
    {
     "name": "stdout",
     "output_type": "stream",
     "text": [
      "10000 loops, best of 3: 51.5 µs per loop\n",
      "<IPython.core.magics.execution.TimeitResult object at 0x1098d2f90>\n"
     ]
    }
   ],
   "source": [
    "# Check the Speed of esimator\n",
    "time = %timeit -o dummy_model.predict(X_test_std)\n",
    "print time\n",
    "results.loc['dummy','time'] = time.best * 1000000"
   ]
  },
  {
   "cell_type": "markdown",
   "metadata": {},
   "source": [
    "## Random Forests"
   ]
  },
  {
   "cell_type": "markdown",
   "metadata": {},
   "source": [
    "[[back to top](#Sections)]\n"
   ]
  },
  {
   "cell_type": "code",
   "execution_count": 532,
   "metadata": {
    "collapsed": true
   },
   "outputs": [],
   "source": [
    "# Create the cv - defines how you want to break up all the tests\n",
    "cv = ShuffleSplit(X_train.shape[0], n_iter=5, test_size=0.2, random_state=0)"
   ]
  },
  {
   "cell_type": "code",
   "execution_count": 533,
   "metadata": {
    "collapsed": false
   },
   "outputs": [
    {
     "name": "stdout",
     "output_type": "stream",
     "text": [
      "n_est 80, CV MAE [-8.60135942 -8.24502653 -8.62032493 -8.43660477 -8.63103448], Average MAE 8.50687002653\n",
      "n_est 100, CV MAE [-8.57790451 -8.25332891 -8.66590186 -8.50940318 -8.58913793], Average MAE 8.51913527851\n",
      "n_est 120, CV MAE [-8.5632405  -8.20902962 -8.65473033 -8.41341733 -8.5484527 ], Average MAE 8.47777409372\n",
      "n_est 140, CV MAE [-8.52928192 -8.24573702 -8.60246305 -8.40139257 -8.53646268], Average MAE 8.46306744979\n",
      "n_est 160, CV MAE [-8.55047248 -8.20423574 -8.62522381 -8.39800232 -8.55542109], Average MAE 8.46667108753\n"
     ]
    }
   ],
   "source": [
    "ests = range(80,161,20)\n",
    "for est in ests:\n",
    "    model = RandomForestRegressor(n_estimators = est)\n",
    "    model.fit(X_train, y_train)\n",
    "    scores = cross_val_score(model, X_train, y_train, scoring=scoring, cv=cv)\n",
    "    print('n_est {}, CV MAE {}, Average MAE {}'.format(est, scores, scores.mean() * -1))"
   ]
  },
  {
   "cell_type": "markdown",
   "metadata": {},
   "source": [
    "#### Investigate Feature Importance"
   ]
  },
  {
   "cell_type": "code",
   "execution_count": 534,
   "metadata": {
    "collapsed": false
   },
   "outputs": [
    {
     "data": {
      "text/html": [
       "<div>\n",
       "<table border=\"1\" class=\"dataframe\">\n",
       "  <thead>\n",
       "    <tr style=\"text-align: right;\">\n",
       "      <th></th>\n",
       "      <th>Features</th>\n",
       "      <th>Importance Score</th>\n",
       "    </tr>\n",
       "  </thead>\n",
       "  <tbody>\n",
       "    <tr>\n",
       "      <th>2</th>\n",
       "      <td>humidity_mean</td>\n",
       "      <td>0.137213</td>\n",
       "    </tr>\n",
       "    <tr>\n",
       "      <th>0</th>\n",
       "      <td>temp_max</td>\n",
       "      <td>0.124767</td>\n",
       "    </tr>\n",
       "    <tr>\n",
       "      <th>3</th>\n",
       "      <td>wind_speed_mean</td>\n",
       "      <td>0.113075</td>\n",
       "    </tr>\n",
       "    <tr>\n",
       "      <th>1</th>\n",
       "      <td>temp_delta</td>\n",
       "      <td>0.106133</td>\n",
       "    </tr>\n",
       "    <tr>\n",
       "      <th>21</th>\n",
       "      <td>day_1</td>\n",
       "      <td>0.026714</td>\n",
       "    </tr>\n",
       "    <tr>\n",
       "      <th>5</th>\n",
       "      <td>dayofweek_saturday</td>\n",
       "      <td>0.018959</td>\n",
       "    </tr>\n",
       "    <tr>\n",
       "      <th>6</th>\n",
       "      <td>dayofweek_sunday</td>\n",
       "      <td>0.016317</td>\n",
       "    </tr>\n",
       "    <tr>\n",
       "      <th>4</th>\n",
       "      <td>dayofweek_friday</td>\n",
       "      <td>0.015957</td>\n",
       "    </tr>\n",
       "    <tr>\n",
       "      <th>51</th>\n",
       "      <td>rain_True</td>\n",
       "      <td>0.014818</td>\n",
       "    </tr>\n",
       "    <tr>\n",
       "      <th>20</th>\n",
       "      <td>month_12</td>\n",
       "      <td>0.014493</td>\n",
       "    </tr>\n",
       "    <tr>\n",
       "      <th>19</th>\n",
       "      <td>month_11</td>\n",
       "      <td>0.012763</td>\n",
       "    </tr>\n",
       "    <tr>\n",
       "      <th>38</th>\n",
       "      <td>day_19</td>\n",
       "      <td>0.012550</td>\n",
       "    </tr>\n",
       "    <tr>\n",
       "      <th>7</th>\n",
       "      <td>dayofweek_thursday</td>\n",
       "      <td>0.012508</td>\n",
       "    </tr>\n",
       "    <tr>\n",
       "      <th>18</th>\n",
       "      <td>month_10</td>\n",
       "      <td>0.012302</td>\n",
       "    </tr>\n",
       "    <tr>\n",
       "      <th>39</th>\n",
       "      <td>day_20</td>\n",
       "      <td>0.012197</td>\n",
       "    </tr>\n",
       "    <tr>\n",
       "      <th>43</th>\n",
       "      <td>day_24</td>\n",
       "      <td>0.011972</td>\n",
       "    </tr>\n",
       "    <tr>\n",
       "      <th>12</th>\n",
       "      <td>month_4</td>\n",
       "      <td>0.011630</td>\n",
       "    </tr>\n",
       "    <tr>\n",
       "      <th>45</th>\n",
       "      <td>day_26</td>\n",
       "      <td>0.011512</td>\n",
       "    </tr>\n",
       "    <tr>\n",
       "      <th>15</th>\n",
       "      <td>month_7</td>\n",
       "      <td>0.011349</td>\n",
       "    </tr>\n",
       "    <tr>\n",
       "      <th>8</th>\n",
       "      <td>dayofweek_tuesday</td>\n",
       "      <td>0.011276</td>\n",
       "    </tr>\n",
       "    <tr>\n",
       "      <th>44</th>\n",
       "      <td>day_25</td>\n",
       "      <td>0.011143</td>\n",
       "    </tr>\n",
       "    <tr>\n",
       "      <th>41</th>\n",
       "      <td>day_22</td>\n",
       "      <td>0.011090</td>\n",
       "    </tr>\n",
       "    <tr>\n",
       "      <th>11</th>\n",
       "      <td>month_3</td>\n",
       "      <td>0.010853</td>\n",
       "    </tr>\n",
       "    <tr>\n",
       "      <th>17</th>\n",
       "      <td>month_9</td>\n",
       "      <td>0.010717</td>\n",
       "    </tr>\n",
       "    <tr>\n",
       "      <th>35</th>\n",
       "      <td>day_16</td>\n",
       "      <td>0.010446</td>\n",
       "    </tr>\n",
       "    <tr>\n",
       "      <th>26</th>\n",
       "      <td>day_7</td>\n",
       "      <td>0.010441</td>\n",
       "    </tr>\n",
       "    <tr>\n",
       "      <th>23</th>\n",
       "      <td>day_4</td>\n",
       "      <td>0.010367</td>\n",
       "    </tr>\n",
       "    <tr>\n",
       "      <th>13</th>\n",
       "      <td>month_5</td>\n",
       "      <td>0.010318</td>\n",
       "    </tr>\n",
       "    <tr>\n",
       "      <th>9</th>\n",
       "      <td>dayofweek_wednesday</td>\n",
       "      <td>0.010192</td>\n",
       "    </tr>\n",
       "    <tr>\n",
       "      <th>14</th>\n",
       "      <td>month_6</td>\n",
       "      <td>0.010158</td>\n",
       "    </tr>\n",
       "    <tr>\n",
       "      <th>42</th>\n",
       "      <td>day_23</td>\n",
       "      <td>0.010069</td>\n",
       "    </tr>\n",
       "    <tr>\n",
       "      <th>36</th>\n",
       "      <td>day_17</td>\n",
       "      <td>0.009786</td>\n",
       "    </tr>\n",
       "    <tr>\n",
       "      <th>50</th>\n",
       "      <td>day_31</td>\n",
       "      <td>0.009724</td>\n",
       "    </tr>\n",
       "    <tr>\n",
       "      <th>22</th>\n",
       "      <td>day_2</td>\n",
       "      <td>0.009541</td>\n",
       "    </tr>\n",
       "    <tr>\n",
       "      <th>48</th>\n",
       "      <td>day_29</td>\n",
       "      <td>0.009366</td>\n",
       "    </tr>\n",
       "    <tr>\n",
       "      <th>31</th>\n",
       "      <td>day_12</td>\n",
       "      <td>0.009198</td>\n",
       "    </tr>\n",
       "    <tr>\n",
       "      <th>47</th>\n",
       "      <td>day_28</td>\n",
       "      <td>0.009192</td>\n",
       "    </tr>\n",
       "    <tr>\n",
       "      <th>46</th>\n",
       "      <td>day_27</td>\n",
       "      <td>0.009079</td>\n",
       "    </tr>\n",
       "    <tr>\n",
       "      <th>27</th>\n",
       "      <td>day_8</td>\n",
       "      <td>0.008936</td>\n",
       "    </tr>\n",
       "    <tr>\n",
       "      <th>30</th>\n",
       "      <td>day_11</td>\n",
       "      <td>0.008929</td>\n",
       "    </tr>\n",
       "    <tr>\n",
       "      <th>34</th>\n",
       "      <td>day_15</td>\n",
       "      <td>0.008858</td>\n",
       "    </tr>\n",
       "    <tr>\n",
       "      <th>37</th>\n",
       "      <td>day_18</td>\n",
       "      <td>0.008350</td>\n",
       "    </tr>\n",
       "    <tr>\n",
       "      <th>24</th>\n",
       "      <td>day_5</td>\n",
       "      <td>0.008344</td>\n",
       "    </tr>\n",
       "    <tr>\n",
       "      <th>10</th>\n",
       "      <td>month_2</td>\n",
       "      <td>0.008112</td>\n",
       "    </tr>\n",
       "    <tr>\n",
       "      <th>16</th>\n",
       "      <td>month_8</td>\n",
       "      <td>0.008065</td>\n",
       "    </tr>\n",
       "    <tr>\n",
       "      <th>33</th>\n",
       "      <td>day_14</td>\n",
       "      <td>0.008037</td>\n",
       "    </tr>\n",
       "    <tr>\n",
       "      <th>49</th>\n",
       "      <td>day_30</td>\n",
       "      <td>0.007659</td>\n",
       "    </tr>\n",
       "    <tr>\n",
       "      <th>40</th>\n",
       "      <td>day_21</td>\n",
       "      <td>0.007525</td>\n",
       "    </tr>\n",
       "    <tr>\n",
       "      <th>32</th>\n",
       "      <td>day_13</td>\n",
       "      <td>0.007140</td>\n",
       "    </tr>\n",
       "    <tr>\n",
       "      <th>28</th>\n",
       "      <td>day_9</td>\n",
       "      <td>0.007134</td>\n",
       "    </tr>\n",
       "    <tr>\n",
       "      <th>25</th>\n",
       "      <td>day_6</td>\n",
       "      <td>0.006503</td>\n",
       "    </tr>\n",
       "    <tr>\n",
       "      <th>29</th>\n",
       "      <td>day_10</td>\n",
       "      <td>0.006225</td>\n",
       "    </tr>\n",
       "  </tbody>\n",
       "</table>\n",
       "</div>"
      ],
      "text/plain": [
       "               Features  Importance Score\n",
       "2         humidity_mean          0.137213\n",
       "0              temp_max          0.124767\n",
       "3       wind_speed_mean          0.113075\n",
       "1            temp_delta          0.106133\n",
       "21                day_1          0.026714\n",
       "5    dayofweek_saturday          0.018959\n",
       "6      dayofweek_sunday          0.016317\n",
       "4      dayofweek_friday          0.015957\n",
       "51            rain_True          0.014818\n",
       "20             month_12          0.014493\n",
       "19             month_11          0.012763\n",
       "38               day_19          0.012550\n",
       "7    dayofweek_thursday          0.012508\n",
       "18             month_10          0.012302\n",
       "39               day_20          0.012197\n",
       "43               day_24          0.011972\n",
       "12              month_4          0.011630\n",
       "45               day_26          0.011512\n",
       "15              month_7          0.011349\n",
       "8     dayofweek_tuesday          0.011276\n",
       "44               day_25          0.011143\n",
       "41               day_22          0.011090\n",
       "11              month_3          0.010853\n",
       "17              month_9          0.010717\n",
       "35               day_16          0.010446\n",
       "26                day_7          0.010441\n",
       "23                day_4          0.010367\n",
       "13              month_5          0.010318\n",
       "9   dayofweek_wednesday          0.010192\n",
       "14              month_6          0.010158\n",
       "42               day_23          0.010069\n",
       "36               day_17          0.009786\n",
       "50               day_31          0.009724\n",
       "22                day_2          0.009541\n",
       "48               day_29          0.009366\n",
       "31               day_12          0.009198\n",
       "47               day_28          0.009192\n",
       "46               day_27          0.009079\n",
       "27                day_8          0.008936\n",
       "30               day_11          0.008929\n",
       "34               day_15          0.008858\n",
       "37               day_18          0.008350\n",
       "24                day_5          0.008344\n",
       "10              month_2          0.008112\n",
       "16              month_8          0.008065\n",
       "33               day_14          0.008037\n",
       "49               day_30          0.007659\n",
       "40               day_21          0.007525\n",
       "32               day_13          0.007140\n",
       "28                day_9          0.007134\n",
       "25                day_6          0.006503\n",
       "29               day_10          0.006225"
      ]
     },
     "execution_count": 534,
     "metadata": {},
     "output_type": "execute_result"
    }
   ],
   "source": [
    "X_features = X.columns\n",
    "feature_importances = model.feature_importances_\n",
    "\n",
    "features_df = pd.DataFrame({'Features': X_features, 'Importance Score': feature_importances})\n",
    "features_df.sort_values('Importance Score', inplace=True, ascending=False)\n",
    "\n",
    "features_df"
   ]
  },
  {
   "cell_type": "markdown",
   "metadata": {},
   "source": [
    "### Choose final parms and fit"
   ]
  },
  {
   "cell_type": "code",
   "execution_count": 535,
   "metadata": {
    "collapsed": false
   },
   "outputs": [
    {
     "name": "stdout",
     "output_type": "stream",
     "text": [
      "n_est 160, CV MAE [-8.56988443 -8.16829291 -8.63976885 -8.40385563 -8.62896931], MAE accuracy 8.48215422509\n"
     ]
    }
   ],
   "source": [
    "RF_model = RandomForestRegressor(n_estimators = 140)\n",
    "RF_model.fit(X_train, y_train)\n",
    "scores = cross_val_score(RF_model, X_train, y_train, scoring=scoring, cv=cv)\n",
    "print('n_est {}, CV MAE {}, MAE accuracy {}'.format(est, scores, scores.mean() * -1))"
   ]
  },
  {
   "cell_type": "code",
   "execution_count": 536,
   "metadata": {
    "collapsed": false
   },
   "outputs": [
    {
     "data": {
      "image/png": "[encoded data removed]",
      "text/plain": [
       "<matplotlib.figure.Figure at 0x10abc5290>"
      ]
     },
     "metadata": {},
     "output_type": "display_data"
    }
   ],
   "source": [
    "draw_learning_curve(RF_model, X_train, y_train, estimator_titles=['Learning Curve for RF. Best'], \n",
    "                    cv=cv, scoring=scoring);"
   ]
  },
  {
   "cell_type": "code",
   "execution_count": 537,
   "metadata": {
    "collapsed": true
   },
   "outputs": [],
   "source": [
    "# Add Learning curve comments to result df\n",
    "results.loc['RF','lc_com'] = '.......'"
   ]
  },
  {
   "cell_type": "code",
   "execution_count": 538,
   "metadata": {
    "collapsed": false
   },
   "outputs": [
    {
     "name": "stdout",
     "output_type": "stream",
     "text": [
      "Mean Absolute Error =  8.1668989547\n"
     ]
    }
   ],
   "source": [
    "# Get Mean Error of the test set\n",
    "results.loc['RF', scoring] = mean_absolute_error(y_test, RF_model.predict(X_test))\n",
    "print 'Mean Absolute Error = ', results.loc['RF', scoring]   "
   ]
  },
  {
   "cell_type": "code",
   "execution_count": 539,
   "metadata": {
    "collapsed": false
   },
   "outputs": [
    {
     "name": "stdout",
     "output_type": "stream",
     "text": [
      "10 loops, best of 3: 26.6 ms per loop\n",
      "<IPython.core.magics.execution.TimeitResult object at 0x109261b90>\n"
     ]
    }
   ],
   "source": [
    "# Check the Speed of esimator\n",
    "time = %timeit -o RF_model.predict(X_test)\n",
    "print time\n",
    "results.loc['RF','time'] = time.best * 1000000"
   ]
  },
  {
   "cell_type": "markdown",
   "metadata": {},
   "source": [
    "## SVM\n"
   ]
  },
  {
   "cell_type": "markdown",
   "metadata": {},
   "source": [
    "[[back to top](#Sections)]\n"
   ]
  },
  {
   "cell_type": "code",
   "execution_count": 540,
   "metadata": {
    "collapsed": true
   },
   "outputs": [],
   "source": [
    "# Create the cv - defines how you want to break up all the tests\n",
    "cv = ShuffleSplit(X_train.shape[0], n_iter=5, test_size=0.2, random_state=0)"
   ]
  },
  {
   "cell_type": "code",
   "execution_count": 541,
   "metadata": {
    "collapsed": false
   },
   "outputs": [
    {
     "data": {
      "text/plain": [
       "GridSearchCV(cv=ShuffleSplit(3769, n_iter=5, test_size=0.2, random_state=0),\n",
       "       error_score='raise',\n",
       "       estimator=SVR(C=1.0, cache_size=200, coef0=0.0, degree=3, epsilon=0.1, gamma=0.0,\n",
       "  kernel='rbf', max_iter=-1, shrinking=True, tol=0.001, verbose=False),\n",
       "       fit_params={}, iid=True, loss_func=None, n_jobs=-1,\n",
       "       param_grid={'kernel': ['linear', 'poly', 'rbf'], 'C': array([  1.00000e-03,   4.45333e-01,   8.89667e-01,   1.33400e+00,\n",
       "         1.77833e+00,   2.22267e+00,   2.66700e+00,   3.11133e+00,\n",
       "         3.55567e+00,   4.00000e+00])},\n",
       "       pre_dispatch='2*n_jobs', refit=True, score_func=None,\n",
       "       scoring='mean_absolute_error', verbose=0)"
      ]
     },
     "execution_count": 541,
     "metadata": {},
     "output_type": "execute_result"
    }
   ],
   "source": [
    "#params = {'C': np.linspace(1, 7, 4), 'kernel': ['poly', 'rbf'],\n",
    "#         'degree': range(1,3), 'gamma': np.linspace(.001, 10, 2)}\n",
    "# 1 params = {'kernel': ['poly', 'rbf', 'sigmoid', 'linear'], 'degree': range(1,4)}\n",
    "#min params = {'C': np.linspace(.01, 2, 10), 'kernel': ['linear']}\n",
    "#np.linspace(.5, 2, 4)\n",
    "params = {'C': np.linspace(.001, 4, 10), 'kernel': ['linear', 'poly', 'rbf']}\n",
    "#params = {'C': np.linspace(.001, 2, 10), 'kernel': ['linear', 'poly', 'rbf'], \n",
    "#          'gamma': np.linspace(.001, 10, 2), 'degree': range(1,4)}\n",
    "\n",
    "clf = SVR()\n",
    "grid = GridSearchCV(clf, params, cv=cv, scoring=scoring, n_jobs=-1)\n",
    "grid.fit(X_train_std, y_train)"
   ]
  },
  {
   "cell_type": "code",
   "execution_count": 542,
   "metadata": {
    "collapsed": false
   },
   "outputs": [
    {
     "data": {
      "text/plain": [
       "{'C': 0.44533333333333336, 'kernel': 'linear'}"
      ]
     },
     "execution_count": 542,
     "metadata": {},
     "output_type": "execute_result"
    }
   ],
   "source": [
    "grid.best_params_"
   ]
  },
  {
   "cell_type": "code",
   "execution_count": 543,
   "metadata": {
    "collapsed": false
   },
   "outputs": [],
   "source": [
    "#grid.grid_scores_"
   ]
  },
  {
   "cell_type": "code",
   "execution_count": 544,
   "metadata": {
    "collapsed": true
   },
   "outputs": [],
   "source": [
    "SVM_model = grid.best_estimator_"
   ]
  },
  {
   "cell_type": "code",
   "execution_count": 545,
   "metadata": {
    "collapsed": false,
    "scrolled": true
   },
   "outputs": [
    {
     "data": {
      "image/png": "[encoded data removed]",
      "text/plain": [
       "<matplotlib.figure.Figure at 0x109cc1850>"
      ]
     },
     "metadata": {},
     "output_type": "display_data"
    }
   ],
   "source": [
    "draw_learning_curve(SVM_model, X_train_std, y_train, estimator_titles=['Learning Curve for SVC. Best'], \n",
    "                    cv=cv, scoring=scoring);"
   ]
  },
  {
   "cell_type": "code",
   "execution_count": 546,
   "metadata": {
    "collapsed": true
   },
   "outputs": [],
   "source": [
    "# Add Learning curve comments to result df\n",
    "results.loc['SVM','lc_com'] = '.......'"
   ]
  },
  {
   "cell_type": "code",
   "execution_count": 547,
   "metadata": {
    "collapsed": false
   },
   "outputs": [
    {
     "name": "stdout",
     "output_type": "stream",
     "text": [
      "Mean Absolute Error =  8.09213740202\n"
     ]
    }
   ],
   "source": [
    "# Get Mean Error of the test set\n",
    "results.loc['SVM', scoring] = mean_absolute_error(y_test, SVM_model.predict(X_test_std))\n",
    "print 'Mean Absolute Error = ', results.loc['SVM', scoring]            "
   ]
  },
  {
   "cell_type": "code",
   "execution_count": 548,
   "metadata": {
    "collapsed": false
   },
   "outputs": [
    {
     "name": "stdout",
     "output_type": "stream",
     "text": [
      "10 loops, best of 3: 156 ms per loop\n",
      "<IPython.core.magics.execution.TimeitResult object at 0x10ab9cbd0>\n"
     ]
    }
   ],
   "source": [
    "# Check the Speed of esimator\n",
    "time = %timeit -o SVM_model.predict(X_test_std)\n",
    "print time\n",
    "results.loc['SVM','time'] = time.best * 1000000"
   ]
  },
  {
   "cell_type": "markdown",
   "metadata": {},
   "source": [
    "## Lasso/Ridge"
   ]
  },
  {
   "cell_type": "markdown",
   "metadata": {},
   "source": [
    "[[back to top](#Sections)]\n"
   ]
  },
  {
   "cell_type": "code",
   "execution_count": 549,
   "metadata": {
    "collapsed": true
   },
   "outputs": [],
   "source": [
    "# Create the cv - defines how you want to break up all the tests\n",
    "cv = ShuffleSplit(X_train_std.shape[0], n_iter=20, test_size=0.2, random_state=0)"
   ]
  },
  {
   "cell_type": "code",
   "execution_count": 550,
   "metadata": {
    "collapsed": false
   },
   "outputs": [
    {
     "data": {
      "text/plain": [
       "{'alpha': 0.10535789473684211}"
      ]
     },
     "execution_count": 550,
     "metadata": {},
     "output_type": "execute_result"
    }
   ],
   "source": [
    "# using Mean Absolute scoring\n",
    "parameters = {'alpha': np.linspace(.0001,2,20)}\n",
    "#parameters = {'alpha': [.2, .3]}\n",
    "\n",
    "LR = Lasso(normalize=False)\n",
    "clf = GridSearchCV(LR, parameters, scoring=scoring, cv=cv)\n",
    "clf.fit(X_train_std, y_train)\n",
    "clf.best_params_"
   ]
  },
  {
   "cell_type": "code",
   "execution_count": 551,
   "metadata": {
    "collapsed": false
   },
   "outputs": [],
   "source": [
    "#clf.grid_scores_"
   ]
  },
  {
   "cell_type": "code",
   "execution_count": 552,
   "metadata": {
    "collapsed": true
   },
   "outputs": [],
   "source": [
    "LR_model = clf.best_estimator_"
   ]
  },
  {
   "cell_type": "code",
   "execution_count": 553,
   "metadata": {
    "collapsed": false
   },
   "outputs": [
    {
     "data": {
      "image/png": "[encoded data removed]",
      "text/plain": [
       "<matplotlib.figure.Figure at 0x109d8ee50>"
      ]
     },
     "metadata": {},
     "output_type": "display_data"
    }
   ],
   "source": [
    "draw_learning_curve(LR_model, X_train_std, y_train, estimator_titles=['Learning Curve for lasso'], \n",
    "                    cv=cv, scoring=scoring);"
   ]
  },
  {
   "cell_type": "code",
   "execution_count": 554,
   "metadata": {
    "collapsed": true
   },
   "outputs": [],
   "source": [
    "# Add Learning curve comments to result df\n",
    "results.loc['LR','lc_com'] = '.......'"
   ]
  },
  {
   "cell_type": "code",
   "execution_count": 555,
   "metadata": {
    "collapsed": false
   },
   "outputs": [
    {
     "name": "stdout",
     "output_type": "stream",
     "text": [
      "Mean Absolute Error =  7.99669205248\n"
     ]
    }
   ],
   "source": [
    "# Get Mean Error of the test set\n",
    "results.loc['LR',scoring] = mean_absolute_error(y_test, LR_model.predict(X_test_std))\n",
    "print 'Mean Absolute Error = ', results.loc['LR', scoring]             "
   ]
  },
  {
   "cell_type": "code",
   "execution_count": 556,
   "metadata": {
    "collapsed": false
   },
   "outputs": [
    {
     "name": "stdout",
     "output_type": "stream",
     "text": [
      "The slowest run took 8.53 times longer than the fastest. This could mean that an intermediate result is being cached \n",
      "10000 loops, best of 3: 67.6 µs per loop\n",
      "<IPython.core.magics.execution.TimeitResult object at 0x109f63b50>\n"
     ]
    }
   ],
   "source": [
    "# Check the Speed of esimator\n",
    "time = %timeit -o LR_model.predict(X_test_std)\n",
    "print time\n",
    "results.loc['LR','time'] = time.best * 1000000"
   ]
  },
  {
   "cell_type": "markdown",
   "metadata": {},
   "source": [
    "### Investigate Coefficients"
   ]
  },
  {
   "cell_type": "code",
   "execution_count": 557,
   "metadata": {
    "collapsed": false
   },
   "outputs": [
    {
     "data": {
      "text/html": [
       "<div>\n",
       "<table border=\"1\" class=\"dataframe\">\n",
       "  <thead>\n",
       "    <tr style=\"text-align: right;\">\n",
       "      <th></th>\n",
       "      <th>coefficients</th>\n",
       "      <th>features</th>\n",
       "    </tr>\n",
       "  </thead>\n",
       "  <tbody>\n",
       "    <tr>\n",
       "      <th>0</th>\n",
       "      <td>1.634857</td>\n",
       "      <td>temp_max</td>\n",
       "    </tr>\n",
       "    <tr>\n",
       "      <th>1</th>\n",
       "      <td>-0.197354</td>\n",
       "      <td>temp_delta</td>\n",
       "    </tr>\n",
       "    <tr>\n",
       "      <th>2</th>\n",
       "      <td>0.039777</td>\n",
       "      <td>humidity_mean</td>\n",
       "    </tr>\n",
       "    <tr>\n",
       "      <th>3</th>\n",
       "      <td>-0.222409</td>\n",
       "      <td>wind_speed_mean</td>\n",
       "    </tr>\n",
       "    <tr>\n",
       "      <th>4</th>\n",
       "      <td>1.222319</td>\n",
       "      <td>dayofweek_friday</td>\n",
       "    </tr>\n",
       "    <tr>\n",
       "      <th>5</th>\n",
       "      <td>1.666803</td>\n",
       "      <td>dayofweek_saturday</td>\n",
       "    </tr>\n",
       "    <tr>\n",
       "      <th>6</th>\n",
       "      <td>1.289869</td>\n",
       "      <td>dayofweek_sunday</td>\n",
       "    </tr>\n",
       "    <tr>\n",
       "      <th>7</th>\n",
       "      <td>-0.451354</td>\n",
       "      <td>dayofweek_thursday</td>\n",
       "    </tr>\n",
       "    <tr>\n",
       "      <th>8</th>\n",
       "      <td>-0.078297</td>\n",
       "      <td>dayofweek_tuesday</td>\n",
       "    </tr>\n",
       "    <tr>\n",
       "      <th>9</th>\n",
       "      <td>-0.000000</td>\n",
       "      <td>dayofweek_wednesday</td>\n",
       "    </tr>\n",
       "    <tr>\n",
       "      <th>10</th>\n",
       "      <td>0.018135</td>\n",
       "      <td>month_2</td>\n",
       "    </tr>\n",
       "    <tr>\n",
       "      <th>11</th>\n",
       "      <td>0.576282</td>\n",
       "      <td>month_3</td>\n",
       "    </tr>\n",
       "    <tr>\n",
       "      <th>12</th>\n",
       "      <td>0.036976</td>\n",
       "      <td>month_4</td>\n",
       "    </tr>\n",
       "    <tr>\n",
       "      <th>13</th>\n",
       "      <td>0.000000</td>\n",
       "      <td>month_5</td>\n",
       "    </tr>\n",
       "    <tr>\n",
       "      <th>14</th>\n",
       "      <td>-0.353816</td>\n",
       "      <td>month_6</td>\n",
       "    </tr>\n",
       "    <tr>\n",
       "      <th>15</th>\n",
       "      <td>-0.870677</td>\n",
       "      <td>month_7</td>\n",
       "    </tr>\n",
       "    <tr>\n",
       "      <th>16</th>\n",
       "      <td>-0.661439</td>\n",
       "      <td>month_8</td>\n",
       "    </tr>\n",
       "    <tr>\n",
       "      <th>17</th>\n",
       "      <td>-0.000000</td>\n",
       "      <td>month_9</td>\n",
       "    </tr>\n",
       "    <tr>\n",
       "      <th>18</th>\n",
       "      <td>0.000000</td>\n",
       "      <td>month_10</td>\n",
       "    </tr>\n",
       "    <tr>\n",
       "      <th>19</th>\n",
       "      <td>-0.317605</td>\n",
       "      <td>month_11</td>\n",
       "    </tr>\n",
       "    <tr>\n",
       "      <th>20</th>\n",
       "      <td>-0.824256</td>\n",
       "      <td>month_12</td>\n",
       "    </tr>\n",
       "    <tr>\n",
       "      <th>21</th>\n",
       "      <td>1.645652</td>\n",
       "      <td>day_1</td>\n",
       "    </tr>\n",
       "    <tr>\n",
       "      <th>22</th>\n",
       "      <td>-0.000000</td>\n",
       "      <td>day_2</td>\n",
       "    </tr>\n",
       "    <tr>\n",
       "      <th>23</th>\n",
       "      <td>0.000000</td>\n",
       "      <td>day_4</td>\n",
       "    </tr>\n",
       "    <tr>\n",
       "      <th>24</th>\n",
       "      <td>-0.000000</td>\n",
       "      <td>day_5</td>\n",
       "    </tr>\n",
       "    <tr>\n",
       "      <th>25</th>\n",
       "      <td>-0.165910</td>\n",
       "      <td>day_6</td>\n",
       "    </tr>\n",
       "    <tr>\n",
       "      <th>26</th>\n",
       "      <td>-0.325453</td>\n",
       "      <td>day_7</td>\n",
       "    </tr>\n",
       "    <tr>\n",
       "      <th>27</th>\n",
       "      <td>-0.364267</td>\n",
       "      <td>day_8</td>\n",
       "    </tr>\n",
       "    <tr>\n",
       "      <th>28</th>\n",
       "      <td>-0.120443</td>\n",
       "      <td>day_9</td>\n",
       "    </tr>\n",
       "    <tr>\n",
       "      <th>29</th>\n",
       "      <td>-0.188266</td>\n",
       "      <td>day_10</td>\n",
       "    </tr>\n",
       "    <tr>\n",
       "      <th>30</th>\n",
       "      <td>-0.403166</td>\n",
       "      <td>day_11</td>\n",
       "    </tr>\n",
       "    <tr>\n",
       "      <th>31</th>\n",
       "      <td>0.000000</td>\n",
       "      <td>day_12</td>\n",
       "    </tr>\n",
       "    <tr>\n",
       "      <th>32</th>\n",
       "      <td>-0.090581</td>\n",
       "      <td>day_13</td>\n",
       "    </tr>\n",
       "    <tr>\n",
       "      <th>33</th>\n",
       "      <td>0.000000</td>\n",
       "      <td>day_14</td>\n",
       "    </tr>\n",
       "    <tr>\n",
       "      <th>34</th>\n",
       "      <td>0.138133</td>\n",
       "      <td>day_15</td>\n",
       "    </tr>\n",
       "    <tr>\n",
       "      <th>35</th>\n",
       "      <td>0.000000</td>\n",
       "      <td>day_16</td>\n",
       "    </tr>\n",
       "    <tr>\n",
       "      <th>36</th>\n",
       "      <td>0.097389</td>\n",
       "      <td>day_17</td>\n",
       "    </tr>\n",
       "    <tr>\n",
       "      <th>37</th>\n",
       "      <td>-0.000000</td>\n",
       "      <td>day_18</td>\n",
       "    </tr>\n",
       "    <tr>\n",
       "      <th>38</th>\n",
       "      <td>0.026819</td>\n",
       "      <td>day_19</td>\n",
       "    </tr>\n",
       "    <tr>\n",
       "      <th>39</th>\n",
       "      <td>0.253735</td>\n",
       "      <td>day_20</td>\n",
       "    </tr>\n",
       "    <tr>\n",
       "      <th>40</th>\n",
       "      <td>0.056072</td>\n",
       "      <td>day_21</td>\n",
       "    </tr>\n",
       "    <tr>\n",
       "      <th>41</th>\n",
       "      <td>-0.055046</td>\n",
       "      <td>day_22</td>\n",
       "    </tr>\n",
       "    <tr>\n",
       "      <th>42</th>\n",
       "      <td>0.087644</td>\n",
       "      <td>day_23</td>\n",
       "    </tr>\n",
       "    <tr>\n",
       "      <th>43</th>\n",
       "      <td>0.164732</td>\n",
       "      <td>day_24</td>\n",
       "    </tr>\n",
       "    <tr>\n",
       "      <th>44</th>\n",
       "      <td>0.000000</td>\n",
       "      <td>day_25</td>\n",
       "    </tr>\n",
       "    <tr>\n",
       "      <th>45</th>\n",
       "      <td>-0.000000</td>\n",
       "      <td>day_26</td>\n",
       "    </tr>\n",
       "    <tr>\n",
       "      <th>46</th>\n",
       "      <td>-0.072686</td>\n",
       "      <td>day_27</td>\n",
       "    </tr>\n",
       "    <tr>\n",
       "      <th>47</th>\n",
       "      <td>0.138543</td>\n",
       "      <td>day_28</td>\n",
       "    </tr>\n",
       "    <tr>\n",
       "      <th>48</th>\n",
       "      <td>0.000000</td>\n",
       "      <td>day_29</td>\n",
       "    </tr>\n",
       "    <tr>\n",
       "      <th>49</th>\n",
       "      <td>-0.089976</td>\n",
       "      <td>day_30</td>\n",
       "    </tr>\n",
       "    <tr>\n",
       "      <th>50</th>\n",
       "      <td>-0.001025</td>\n",
       "      <td>day_31</td>\n",
       "    </tr>\n",
       "    <tr>\n",
       "      <th>51</th>\n",
       "      <td>-0.749091</td>\n",
       "      <td>rain_True</td>\n",
       "    </tr>\n",
       "  </tbody>\n",
       "</table>\n",
       "</div>"
      ],
      "text/plain": [
       "    coefficients             features\n",
       "0       1.634857             temp_max\n",
       "1      -0.197354           temp_delta\n",
       "2       0.039777        humidity_mean\n",
       "3      -0.222409      wind_speed_mean\n",
       "4       1.222319     dayofweek_friday\n",
       "5       1.666803   dayofweek_saturday\n",
       "6       1.289869     dayofweek_sunday\n",
       "7      -0.451354   dayofweek_thursday\n",
       "8      -0.078297    dayofweek_tuesday\n",
       "9      -0.000000  dayofweek_wednesday\n",
       "10      0.018135              month_2\n",
       "11      0.576282              month_3\n",
       "12      0.036976              month_4\n",
       "13      0.000000              month_5\n",
       "14     -0.353816              month_6\n",
       "15     -0.870677              month_7\n",
       "16     -0.661439              month_8\n",
       "17     -0.000000              month_9\n",
       "18      0.000000             month_10\n",
       "19     -0.317605             month_11\n",
       "20     -0.824256             month_12\n",
       "21      1.645652                day_1\n",
       "22     -0.000000                day_2\n",
       "23      0.000000                day_4\n",
       "24     -0.000000                day_5\n",
       "25     -0.165910                day_6\n",
       "26     -0.325453                day_7\n",
       "27     -0.364267                day_8\n",
       "28     -0.120443                day_9\n",
       "29     -0.188266               day_10\n",
       "30     -0.403166               day_11\n",
       "31      0.000000               day_12\n",
       "32     -0.090581               day_13\n",
       "33      0.000000               day_14\n",
       "34      0.138133               day_15\n",
       "35      0.000000               day_16\n",
       "36      0.097389               day_17\n",
       "37     -0.000000               day_18\n",
       "38      0.026819               day_19\n",
       "39      0.253735               day_20\n",
       "40      0.056072               day_21\n",
       "41     -0.055046               day_22\n",
       "42      0.087644               day_23\n",
       "43      0.164732               day_24\n",
       "44      0.000000               day_25\n",
       "45     -0.000000               day_26\n",
       "46     -0.072686               day_27\n",
       "47      0.138543               day_28\n",
       "48      0.000000               day_29\n",
       "49     -0.089976               day_30\n",
       "50     -0.001025               day_31\n",
       "51     -0.749091            rain_True"
      ]
     },
     "execution_count": 557,
     "metadata": {},
     "output_type": "execute_result"
    }
   ],
   "source": [
    "# create a dataframe to show our coefficients\n",
    "d = {'features': X_test.columns, 'coefficients': LR_model.coef_}\n",
    "pd.DataFrame(d)"
   ]
  },
  {
   "cell_type": "markdown",
   "metadata": {},
   "source": [
    "## Results\n",
    "[[back to top](#Sections)]"
   ]
  },
  {
   "cell_type": "code",
   "execution_count": 558,
   "metadata": {
    "collapsed": true
   },
   "outputs": [],
   "source": [
    "models = ['RF', 'SVM', 'LR']"
   ]
  },
  {
   "cell_type": "code",
   "execution_count": 559,
   "metadata": {
    "collapsed": false
   },
   "outputs": [],
   "source": [
    "for model in models:\n",
    "    dif = results.loc['dummy','mean_absolute_error'] - results.loc[model,'mean_absolute_error']\n",
    "    results.loc[model,'% improvements from dummy'] = dif / results.loc['dummy','mean_absolute_error']"
   ]
  },
  {
   "cell_type": "code",
   "execution_count": 560,
   "metadata": {
    "collapsed": false,
    "scrolled": true
   },
   "outputs": [
    {
     "data": {
      "text/html": [
       "<div>\n",
       "<table border=\"1\" class=\"dataframe\">\n",
       "  <thead>\n",
       "    <tr style=\"text-align: right;\">\n",
       "      <th></th>\n",
       "      <th>mean_absolute_error</th>\n",
       "      <th>time</th>\n",
       "      <th>lc_com</th>\n",
       "      <th>% improvements from dummy</th>\n",
       "    </tr>\n",
       "  </thead>\n",
       "  <tbody>\n",
       "    <tr>\n",
       "      <th>dummy</th>\n",
       "      <td>8.53001</td>\n",
       "      <td>51.4562</td>\n",
       "      <td>NaN</td>\n",
       "      <td>NaN</td>\n",
       "    </tr>\n",
       "    <tr>\n",
       "      <th>RF</th>\n",
       "      <td>8.1669</td>\n",
       "      <td>26638.8</td>\n",
       "      <td>.......</td>\n",
       "      <td>0.042568</td>\n",
       "    </tr>\n",
       "    <tr>\n",
       "      <th>SVM</th>\n",
       "      <td>8.09214</td>\n",
       "      <td>155673</td>\n",
       "      <td>.......</td>\n",
       "      <td>0.051333</td>\n",
       "    </tr>\n",
       "    <tr>\n",
       "      <th>LR</th>\n",
       "      <td>7.99669</td>\n",
       "      <td>67.6487</td>\n",
       "      <td>.......</td>\n",
       "      <td>0.062522</td>\n",
       "    </tr>\n",
       "  </tbody>\n",
       "</table>\n",
       "</div>"
      ],
      "text/plain": [
       "      mean_absolute_error     time   lc_com  % improvements from dummy\n",
       "dummy             8.53001  51.4562      NaN                        NaN\n",
       "RF                 8.1669  26638.8  .......                   0.042568\n",
       "SVM               8.09214   155673  .......                   0.051333\n",
       "LR                7.99669  67.6487  .......                   0.062522"
      ]
     },
     "execution_count": 560,
     "metadata": {},
     "output_type": "execute_result"
    }
   ],
   "source": [
    "# Display Results of all models\n",
    "results\n",
    "\n"
   ]
  },
  {
   "cell_type": "markdown",
   "metadata": {},
   "source": [
    "# Forecast"
   ]
  },
  {
   "cell_type": "markdown",
   "metadata": {},
   "source": [
    "[[back to top](#Sections)]\n"
   ]
  },
  {
   "cell_type": "markdown",
   "metadata": {},
   "source": [
    "## Data source for Forecast\n",
    "Data was consolidated in Notebook\n",
    "- This is done in the `'8_get_weather_forcast'` notebook. | Downloaded from Weather Underground and OpenWeatherMap\n",
    "- Data is written to file. `'forecast_10day.csv'`\n",
    "\n",
    "\n",
    "FieldName|Type|Description                             \n",
    "---------------|------------|---------------------\n",
    "Index:Date|DateTime|2003-01-01 to 2015-12-31\n",
    "date|string|Format yyyy-m-d\n",
    "dayofweek|object|Day of the week in string format\n",
    "day|int64|Day of month in numeric\n",
    "month|int64|Month of year in numeric\n",
    "year|int64|Year in numeric\n",
    "temp_max|int64|High Temperature for the day in degrees F\n",
    "temp_mean|int64|Mean Temperature for the day in degrees F\n",
    "temp_min|int64|Low Temperature for the day in degrees F\n",
    "temp_delta|int64|Temperature change for the day in degrees F\n",
    "sl_pressure_mean|float64|Mean Sea Level for the day in inches\n",
    "humidity_mean|int64|Mean Humidity for the day in percentage\n",
    "wind_speed_max|int64|Maximum maintained Wind Speed in mph\n",
    "wind_speed_mean|int64|Mean maintained Wind Speed in mph\n",
    "cloud_cover|int64|Cloud Cover in percentage.\n",
    "precipitation|float64|Amount is precipitation in inches\n",
    "events|object|Significant Events such as 'Rain', 'Fog'\n",
    "wind_direction|int64|General wind direction, numeric 0 359\n",
    "dew_point_mean|int64|Mean Dewpoint for day on day\n",
    "sun_length|float64|Number of minutes of Sun on day\n",
    "moon_phase|float64|Phase moon is in. 0.5 = full moon\n",
    "sun_units|float64|the minutes of Sun scaled by the cloud cover percentage\n",
    "rain|bool| IS there rain in the forcast\n",
    "end_of_week|bool|is it Friday or Saturday"
   ]
  },
  {
   "cell_type": "code",
   "execution_count": 561,
   "metadata": {
    "collapsed": false,
    "scrolled": false
   },
   "outputs": [
    {
     "data": {
      "text/html": [
       "<div>\n",
       "<table border=\"1\" class=\"dataframe\">\n",
       "  <thead>\n",
       "    <tr style=\"text-align: right;\">\n",
       "      <th></th>\n",
       "      <th>date</th>\n",
       "      <th>dayofweek</th>\n",
       "      <th>day</th>\n",
       "      <th>month</th>\n",
       "      <th>year</th>\n",
       "      <th>temp_max</th>\n",
       "      <th>temp_mean</th>\n",
       "      <th>temp_min</th>\n",
       "      <th>temp_delta</th>\n",
       "      <th>sl_pressure_mean</th>\n",
       "      <th>...</th>\n",
       "      <th>winter</th>\n",
       "      <th>rain</th>\n",
       "      <th>sun_length</th>\n",
       "      <th>moon_phase</th>\n",
       "      <th>sun_units</th>\n",
       "      <th>dew_point_mean</th>\n",
       "      <th>wind_chill_mean</th>\n",
       "      <th>wind_chill_max</th>\n",
       "      <th>heat_index</th>\n",
       "      <th>temp_apparent</th>\n",
       "    </tr>\n",
       "  </thead>\n",
       "  <tbody>\n",
       "    <tr>\n",
       "      <th>0</th>\n",
       "      <td>2016-3-10</td>\n",
       "      <td>thursday</td>\n",
       "      <td>10</td>\n",
       "      <td>3</td>\n",
       "      <td>2016</td>\n",
       "      <td>61</td>\n",
       "      <td>58</td>\n",
       "      <td>56</td>\n",
       "      <td>5</td>\n",
       "      <td>30.246103</td>\n",
       "      <td>...</td>\n",
       "      <td>False</td>\n",
       "      <td>True</td>\n",
       "      <td>706.183333</td>\n",
       "      <td>0.044071</td>\n",
       "      <td>56.494667</td>\n",
       "      <td>54.578390</td>\n",
       "      <td>58</td>\n",
       "      <td>61</td>\n",
       "      <td>252.393389</td>\n",
       "      <td>97.670619</td>\n",
       "    </tr>\n",
       "    <tr>\n",
       "      <th>1</th>\n",
       "      <td>2016-3-11</td>\n",
       "      <td>friday</td>\n",
       "      <td>11</td>\n",
       "      <td>3</td>\n",
       "      <td>2016</td>\n",
       "      <td>58</td>\n",
       "      <td>55</td>\n",
       "      <td>53</td>\n",
       "      <td>5</td>\n",
       "      <td>29.914481</td>\n",
       "      <td>...</td>\n",
       "      <td>False</td>\n",
       "      <td>True</td>\n",
       "      <td>708.600000</td>\n",
       "      <td>0.078090</td>\n",
       "      <td>56.688000</td>\n",
       "      <td>49.382408</td>\n",
       "      <td>55</td>\n",
       "      <td>58</td>\n",
       "      <td>191.059997</td>\n",
       "      <td>76.296685</td>\n",
       "    </tr>\n",
       "    <tr>\n",
       "      <th>2</th>\n",
       "      <td>2016-3-12</td>\n",
       "      <td>saturday</td>\n",
       "      <td>12</td>\n",
       "      <td>3</td>\n",
       "      <td>2016</td>\n",
       "      <td>58</td>\n",
       "      <td>56</td>\n",
       "      <td>55</td>\n",
       "      <td>3</td>\n",
       "      <td>30.274451</td>\n",
       "      <td>...</td>\n",
       "      <td>False</td>\n",
       "      <td>True</td>\n",
       "      <td>711.016667</td>\n",
       "      <td>0.112110</td>\n",
       "      <td>142.203333</td>\n",
       "      <td>49.806332</td>\n",
       "      <td>56</td>\n",
       "      <td>58</td>\n",
       "      <td>194.677835</td>\n",
       "      <td>77.434017</td>\n",
       "    </tr>\n",
       "  </tbody>\n",
       "</table>\n",
       "<p>3 rows × 29 columns</p>\n",
       "</div>"
      ],
      "text/plain": [
       "        date dayofweek  day  month  year  temp_max  temp_mean  temp_min  \\\n",
       "0  2016-3-10  thursday   10      3  2016        61         58        56   \n",
       "1  2016-3-11    friday   11      3  2016        58         55        53   \n",
       "2  2016-3-12  saturday   12      3  2016        58         56        55   \n",
       "\n",
       "   temp_delta  sl_pressure_mean      ...       winter  rain  sun_length  \\\n",
       "0           5         30.246103      ...        False  True  706.183333   \n",
       "1           5         29.914481      ...        False  True  708.600000   \n",
       "2           3         30.274451      ...        False  True  711.016667   \n",
       "\n",
       "   moon_phase   sun_units dew_point_mean  wind_chill_mean wind_chill_max  \\\n",
       "0    0.044071   56.494667      54.578390               58             61   \n",
       "1    0.078090   56.688000      49.382408               55             58   \n",
       "2    0.112110  142.203333      49.806332               56             58   \n",
       "\n",
       "   heat_index temp_apparent  \n",
       "0  252.393389     97.670619  \n",
       "1  191.059997     76.296685  \n",
       "2  194.677835     77.434017  \n",
       "\n",
       "[3 rows x 29 columns]"
      ]
     },
     "execution_count": 561,
     "metadata": {},
     "output_type": "execute_result"
    }
   ],
   "source": [
    "forecast = pd.read_csv('forecast_10day.csv', index_col=0)\n",
    "forecast.head(3)\n",
    "\n"
   ]
  },
  {
   "cell_type": "code",
   "execution_count": 562,
   "metadata": {
    "collapsed": false,
    "scrolled": true
   },
   "outputs": [
    {
     "name": "stdout",
     "output_type": "stream",
     "text": [
      "<class 'pandas.core.frame.DataFrame'>\n",
      "Int64Index: 10 entries, 0 to 9\n",
      "Data columns (total 29 columns):\n",
      "date                10 non-null object\n",
      "dayofweek           10 non-null object\n",
      "day                 10 non-null int64\n",
      "month               10 non-null int64\n",
      "year                10 non-null int64\n",
      "temp_max            10 non-null int64\n",
      "temp_mean           10 non-null int64\n",
      "temp_min            10 non-null int64\n",
      "temp_delta          10 non-null int64\n",
      "sl_pressure_mean    10 non-null float64\n",
      "humidity_mean       10 non-null int64\n",
      "wind_speed_max      10 non-null int64\n",
      "wind_speed_mean     10 non-null int64\n",
      "cloud_cover         10 non-null int64\n",
      "precipitation       10 non-null float64\n",
      "events              10 non-null object\n",
      "wind_direction      10 non-null int64\n",
      "owm_status          10 non-null object\n",
      "end_of_week         10 non-null bool\n",
      "winter              10 non-null bool\n",
      "rain                10 non-null bool\n",
      "sun_length          10 non-null float64\n",
      "moon_phase          10 non-null float64\n",
      "sun_units           10 non-null float64\n",
      "dew_point_mean      10 non-null float64\n",
      "wind_chill_mean     10 non-null int64\n",
      "wind_chill_max      10 non-null int64\n",
      "heat_index          10 non-null float64\n",
      "temp_apparent       10 non-null float64\n",
      "dtypes: bool(3), float64(8), int64(14), object(4)\n",
      "memory usage: 2.1+ KB\n"
     ]
    }
   ],
   "source": [
    "forecast.info()"
   ]
  },
  {
   "cell_type": "markdown",
   "metadata": {},
   "source": [
    "## Add Engineered Features"
   ]
  },
  {
   "cell_type": "markdown",
   "metadata": {},
   "source": [
    "[[back to top](#Sections)]\n"
   ]
  },
  {
   "cell_type": "code",
   "execution_count": 563,
   "metadata": {
    "collapsed": false,
    "scrolled": true
   },
   "outputs": [
    {
     "data": {
      "text/html": [
       "<div>\n",
       "<table border=\"1\" class=\"dataframe\">\n",
       "  <thead>\n",
       "    <tr style=\"text-align: right;\">\n",
       "      <th></th>\n",
       "      <th>temp_max</th>\n",
       "      <th>temp_delta</th>\n",
       "      <th>humidity_mean</th>\n",
       "      <th>wind_speed_mean</th>\n",
       "      <th>dayofweek</th>\n",
       "      <th>month</th>\n",
       "      <th>day</th>\n",
       "      <th>rain</th>\n",
       "    </tr>\n",
       "  </thead>\n",
       "  <tbody>\n",
       "    <tr>\n",
       "      <th>0</th>\n",
       "      <td>61</td>\n",
       "      <td>5</td>\n",
       "      <td>85</td>\n",
       "      <td>10</td>\n",
       "      <td>thursday</td>\n",
       "      <td>3</td>\n",
       "      <td>10</td>\n",
       "      <td>True</td>\n",
       "    </tr>\n",
       "    <tr>\n",
       "      <th>1</th>\n",
       "      <td>58</td>\n",
       "      <td>5</td>\n",
       "      <td>76</td>\n",
       "      <td>20</td>\n",
       "      <td>friday</td>\n",
       "      <td>3</td>\n",
       "      <td>11</td>\n",
       "      <td>True</td>\n",
       "    </tr>\n",
       "    <tr>\n",
       "      <th>2</th>\n",
       "      <td>58</td>\n",
       "      <td>3</td>\n",
       "      <td>74</td>\n",
       "      <td>21</td>\n",
       "      <td>saturday</td>\n",
       "      <td>3</td>\n",
       "      <td>12</td>\n",
       "      <td>True</td>\n",
       "    </tr>\n",
       "    <tr>\n",
       "      <th>3</th>\n",
       "      <td>59</td>\n",
       "      <td>5</td>\n",
       "      <td>84</td>\n",
       "      <td>18</td>\n",
       "      <td>sunday</td>\n",
       "      <td>3</td>\n",
       "      <td>13</td>\n",
       "      <td>True</td>\n",
       "    </tr>\n",
       "    <tr>\n",
       "      <th>4</th>\n",
       "      <td>58</td>\n",
       "      <td>8</td>\n",
       "      <td>66</td>\n",
       "      <td>13</td>\n",
       "      <td>monday</td>\n",
       "      <td>3</td>\n",
       "      <td>14</td>\n",
       "      <td>True</td>\n",
       "    </tr>\n",
       "  </tbody>\n",
       "</table>\n",
       "</div>"
      ],
      "text/plain": [
       "   temp_max  temp_delta  humidity_mean  wind_speed_mean dayofweek  month  day  \\\n",
       "0        61           5             85               10  thursday      3   10   \n",
       "1        58           5             76               20    friday      3   11   \n",
       "2        58           3             74               21  saturday      3   12   \n",
       "3        59           5             84               18    sunday      3   13   \n",
       "4        58           8             66               13    monday      3   14   \n",
       "\n",
       "   rain  \n",
       "0  True  \n",
       "1  True  \n",
       "2  True  \n",
       "3  True  \n",
       "4  True  "
      ]
     },
     "execution_count": 563,
     "metadata": {},
     "output_type": "execute_result"
    }
   ],
   "source": [
    "forecast2 = forecast[features]\n",
    "forecast2.head()"
   ]
  },
  {
   "cell_type": "code",
   "execution_count": 564,
   "metadata": {
    "collapsed": false
   },
   "outputs": [],
   "source": [
    "#data['events'].fillna('No', inplace=True)\n",
    "#forecast2['events'] = forecast2['events'].astype('category')\n",
    "forecast2.loc[:,'day'] = forecast2['day'].astype('category')\n",
    "forecast2.loc[:,'month'] = forecast2['month'].astype('category')\n",
    "#forecast2['year'] = forecast2['year'].astype('category')\n",
    "forecast2.loc[:,'dayofweek'] = forecast2['dayofweek'].astype('category')\n",
    "#forecast2['end_of_week'] = forecast2['end_of_week'].astype('category')\n",
    "forecast2.loc[:,'rain'] = forecast2['rain'].astype('category')\n",
    "\n"
   ]
  },
  {
   "cell_type": "code",
   "execution_count": 565,
   "metadata": {
    "collapsed": false
   },
   "outputs": [
    {
     "data": {
      "text/html": [
       "<div>\n",
       "<table border=\"1\" class=\"dataframe\">\n",
       "  <thead>\n",
       "    <tr style=\"text-align: right;\">\n",
       "      <th></th>\n",
       "      <th>temp_max</th>\n",
       "      <th>temp_delta</th>\n",
       "      <th>humidity_mean</th>\n",
       "      <th>wind_speed_mean</th>\n",
       "      <th>dayofweek_friday</th>\n",
       "      <th>dayofweek_monday</th>\n",
       "      <th>dayofweek_saturday</th>\n",
       "      <th>dayofweek_sunday</th>\n",
       "      <th>dayofweek_thursday</th>\n",
       "      <th>dayofweek_tuesday</th>\n",
       "      <th>...</th>\n",
       "      <th>day_12</th>\n",
       "      <th>day_13</th>\n",
       "      <th>day_14</th>\n",
       "      <th>day_15</th>\n",
       "      <th>day_16</th>\n",
       "      <th>day_17</th>\n",
       "      <th>day_18</th>\n",
       "      <th>day_19</th>\n",
       "      <th>rain_False</th>\n",
       "      <th>rain_True</th>\n",
       "    </tr>\n",
       "  </thead>\n",
       "  <tbody>\n",
       "    <tr>\n",
       "      <th>0</th>\n",
       "      <td>61</td>\n",
       "      <td>5</td>\n",
       "      <td>85</td>\n",
       "      <td>10</td>\n",
       "      <td>0</td>\n",
       "      <td>0</td>\n",
       "      <td>0</td>\n",
       "      <td>0</td>\n",
       "      <td>1</td>\n",
       "      <td>0</td>\n",
       "      <td>...</td>\n",
       "      <td>0</td>\n",
       "      <td>0</td>\n",
       "      <td>0</td>\n",
       "      <td>0</td>\n",
       "      <td>0</td>\n",
       "      <td>0</td>\n",
       "      <td>0</td>\n",
       "      <td>0</td>\n",
       "      <td>0</td>\n",
       "      <td>1</td>\n",
       "    </tr>\n",
       "    <tr>\n",
       "      <th>1</th>\n",
       "      <td>58</td>\n",
       "      <td>5</td>\n",
       "      <td>76</td>\n",
       "      <td>20</td>\n",
       "      <td>1</td>\n",
       "      <td>0</td>\n",
       "      <td>0</td>\n",
       "      <td>0</td>\n",
       "      <td>0</td>\n",
       "      <td>0</td>\n",
       "      <td>...</td>\n",
       "      <td>0</td>\n",
       "      <td>0</td>\n",
       "      <td>0</td>\n",
       "      <td>0</td>\n",
       "      <td>0</td>\n",
       "      <td>0</td>\n",
       "      <td>0</td>\n",
       "      <td>0</td>\n",
       "      <td>0</td>\n",
       "      <td>1</td>\n",
       "    </tr>\n",
       "  </tbody>\n",
       "</table>\n",
       "<p>2 rows × 24 columns</p>\n",
       "</div>"
      ],
      "text/plain": [
       "   temp_max  temp_delta  humidity_mean  wind_speed_mean  dayofweek_friday  \\\n",
       "0        61           5             85               10                 0   \n",
       "1        58           5             76               20                 1   \n",
       "\n",
       "   dayofweek_monday  dayofweek_saturday  dayofweek_sunday  dayofweek_thursday  \\\n",
       "0                 0                   0                 0                   1   \n",
       "1                 0                   0                 0                   0   \n",
       "\n",
       "   dayofweek_tuesday    ...      day_12  day_13  day_14  day_15  day_16  \\\n",
       "0                  0    ...           0       0       0       0       0   \n",
       "1                  0    ...           0       0       0       0       0   \n",
       "\n",
       "   day_17  day_18  day_19  rain_False  rain_True  \n",
       "0       0       0       0           0          1  \n",
       "1       0       0       0           0          1  \n",
       "\n",
       "[2 rows x 24 columns]"
      ]
     },
     "execution_count": 565,
     "metadata": {},
     "output_type": "execute_result"
    }
   ],
   "source": [
    "# use get_dummies to convert categoricals into binary features\n",
    "forecast2 = pd.get_dummies(forecast2)\n",
    "forecast2.head(2)"
   ]
  },
  {
   "cell_type": "markdown",
   "metadata": {},
   "source": [
    "### The prediction models are expecting all dummy variables\n",
    "The forecast will not have all dummies beacause not all months and days are in the 10 day forecast\n"
   ]
  },
  {
   "cell_type": "code",
   "execution_count": 566,
   "metadata": {
    "collapsed": false
   },
   "outputs": [
    {
     "data": {
      "text/plain": [
       "Index([u'temp_max', u'temp_delta', u'humidity_mean', u'wind_speed_mean',\n",
       "       u'dayofweek_friday', u'dayofweek_monday', u'dayofweek_saturday',\n",
       "       u'dayofweek_sunday', u'dayofweek_thursday', u'dayofweek_tuesday',\n",
       "       u'dayofweek_wednesday', u'month_1', u'month_2', u'month_3', u'month_4',\n",
       "       u'month_5', u'month_6', u'month_7', u'month_8', u'month_9', u'month_10',\n",
       "       u'month_11', u'month_12', u'day_1', u'day_2', u'day_3', u'day_4',\n",
       "       u'day_5', u'day_6', u'day_7', u'day_8', u'day_9', u'day_10', u'day_11',\n",
       "       u'day_12', u'day_13', u'day_14', u'day_15', u'day_16', u'day_17',\n",
       "       u'day_18', u'day_19', u'day_20', u'day_21', u'day_22', u'day_23',\n",
       "       u'day_24', u'day_25', u'day_26', u'day_27', u'day_28', u'day_29',\n",
       "       u'day_30', u'day_31', u'rain_False', u'rain_True'],\n",
       "      dtype='object')"
      ]
     },
     "execution_count": 566,
     "metadata": {},
     "output_type": "execute_result"
    }
   ],
   "source": [
    "full_features"
   ]
  },
  {
   "cell_type": "code",
   "execution_count": 567,
   "metadata": {
    "collapsed": false
   },
   "outputs": [
    {
     "data": {
      "text/plain": [
       "{'day_1',\n",
       " 'day_2',\n",
       " 'day_20',\n",
       " 'day_21',\n",
       " 'day_22',\n",
       " 'day_23',\n",
       " 'day_24',\n",
       " 'day_25',\n",
       " 'day_26',\n",
       " 'day_27',\n",
       " 'day_28',\n",
       " 'day_29',\n",
       " 'day_3',\n",
       " 'day_30',\n",
       " 'day_31',\n",
       " 'day_4',\n",
       " 'day_5',\n",
       " 'day_6',\n",
       " 'day_7',\n",
       " 'day_8',\n",
       " 'day_9',\n",
       " 'month_1',\n",
       " 'month_10',\n",
       " 'month_11',\n",
       " 'month_12',\n",
       " 'month_2',\n",
       " 'month_4',\n",
       " 'month_5',\n",
       " 'month_6',\n",
       " 'month_7',\n",
       " 'month_8',\n",
       " 'month_9'}"
      ]
     },
     "execution_count": 567,
     "metadata": {},
     "output_type": "execute_result"
    }
   ],
   "source": [
    "# Find out the missing columns\n",
    "missing_columns = set(full_features) - set(forecast2.columns)\n",
    "missing_columns"
   ]
  },
  {
   "cell_type": "code",
   "execution_count": 568,
   "metadata": {
    "collapsed": true
   },
   "outputs": [],
   "source": [
    "# create the missing columns filled with 0s\n",
    "for col in missing_columns:\n",
    "    forecast2.loc[:,col] = 0\n"
   ]
  },
  {
   "cell_type": "code",
   "execution_count": 569,
   "metadata": {
    "collapsed": false
   },
   "outputs": [
    {
     "data": {
      "text/html": [
       "<div>\n",
       "<table border=\"1\" class=\"dataframe\">\n",
       "  <thead>\n",
       "    <tr style=\"text-align: right;\">\n",
       "      <th></th>\n",
       "      <th>temp_max</th>\n",
       "      <th>temp_delta</th>\n",
       "      <th>humidity_mean</th>\n",
       "      <th>wind_speed_mean</th>\n",
       "      <th>dayofweek_friday</th>\n",
       "      <th>dayofweek_saturday</th>\n",
       "      <th>dayofweek_sunday</th>\n",
       "      <th>dayofweek_thursday</th>\n",
       "      <th>dayofweek_tuesday</th>\n",
       "      <th>dayofweek_wednesday</th>\n",
       "      <th>...</th>\n",
       "      <th>day_23</th>\n",
       "      <th>day_22</th>\n",
       "      <th>day_25</th>\n",
       "      <th>day_24</th>\n",
       "      <th>day_27</th>\n",
       "      <th>day_26</th>\n",
       "      <th>day_29</th>\n",
       "      <th>day_28</th>\n",
       "      <th>month_8</th>\n",
       "      <th>day_7</th>\n",
       "    </tr>\n",
       "  </thead>\n",
       "  <tbody>\n",
       "    <tr>\n",
       "      <th>0</th>\n",
       "      <td>61</td>\n",
       "      <td>5</td>\n",
       "      <td>85</td>\n",
       "      <td>10</td>\n",
       "      <td>0</td>\n",
       "      <td>0</td>\n",
       "      <td>0</td>\n",
       "      <td>1</td>\n",
       "      <td>0</td>\n",
       "      <td>0</td>\n",
       "      <td>...</td>\n",
       "      <td>0</td>\n",
       "      <td>0</td>\n",
       "      <td>0</td>\n",
       "      <td>0</td>\n",
       "      <td>0</td>\n",
       "      <td>0</td>\n",
       "      <td>0</td>\n",
       "      <td>0</td>\n",
       "      <td>0</td>\n",
       "      <td>0</td>\n",
       "    </tr>\n",
       "    <tr>\n",
       "      <th>1</th>\n",
       "      <td>58</td>\n",
       "      <td>5</td>\n",
       "      <td>76</td>\n",
       "      <td>20</td>\n",
       "      <td>1</td>\n",
       "      <td>0</td>\n",
       "      <td>0</td>\n",
       "      <td>0</td>\n",
       "      <td>0</td>\n",
       "      <td>0</td>\n",
       "      <td>...</td>\n",
       "      <td>0</td>\n",
       "      <td>0</td>\n",
       "      <td>0</td>\n",
       "      <td>0</td>\n",
       "      <td>0</td>\n",
       "      <td>0</td>\n",
       "      <td>0</td>\n",
       "      <td>0</td>\n",
       "      <td>0</td>\n",
       "      <td>0</td>\n",
       "    </tr>\n",
       "  </tbody>\n",
       "</table>\n",
       "<p>2 rows × 52 columns</p>\n",
       "</div>"
      ],
      "text/plain": [
       "   temp_max  temp_delta  humidity_mean  wind_speed_mean  dayofweek_friday  \\\n",
       "0        61           5             85               10                 0   \n",
       "1        58           5             76               20                 1   \n",
       "\n",
       "   dayofweek_saturday  dayofweek_sunday  dayofweek_thursday  \\\n",
       "0                   0                 0                   1   \n",
       "1                   0                 0                   0   \n",
       "\n",
       "   dayofweek_tuesday  dayofweek_wednesday  ...    day_23  day_22  day_25  \\\n",
       "0                  0                    0  ...         0       0       0   \n",
       "1                  0                    0  ...         0       0       0   \n",
       "\n",
       "   day_24  day_27  day_26  day_29  day_28  month_8  day_7  \n",
       "0       0       0       0       0       0        0      0  \n",
       "1       0       0       0       0       0        0      0  \n",
       "\n",
       "[2 rows x 52 columns]"
      ]
     },
     "execution_count": 569,
     "metadata": {},
     "output_type": "execute_result"
    }
   ],
   "source": [
    "# Drop one feature for each categorical\n",
    "# drop on day of week\n",
    "forecast2.drop(dummy_drop, axis=1, inplace=True)\n",
    "forecast2.head(2)"
   ]
  },
  {
   "cell_type": "code",
   "execution_count": 570,
   "metadata": {
    "collapsed": false
   },
   "outputs": [
    {
     "name": "stdout",
     "output_type": "stream",
     "text": [
      "Do the two Datasets have matching Features? :  True\n"
     ]
    }
   ],
   "source": [
    "print 'Do the two Datasets have matching Features? : ', (set(X) == set(forecast2)) "
   ]
  },
  {
   "cell_type": "code",
   "execution_count": 571,
   "metadata": {
    "collapsed": false
   },
   "outputs": [],
   "source": [
    "# Data Frame for results\n",
    "prediction = forecast[['dayofweek', 'month', 'day','year', 'temp_max', 'events']]"
   ]
  },
  {
   "cell_type": "code",
   "execution_count": 572,
   "metadata": {
    "collapsed": false
   },
   "outputs": [],
   "source": [
    "# Standardize the data\n",
    "forecast2_std = stdsc.transform(forecast2)"
   ]
  },
  {
   "cell_type": "markdown",
   "metadata": {},
   "source": [
    "### Run Models on Prediction"
   ]
  },
  {
   "cell_type": "markdown",
   "metadata": {},
   "source": [
    "[[back to top](#Sections)]\n"
   ]
  },
  {
   "cell_type": "code",
   "execution_count": 573,
   "metadata": {
    "collapsed": false,
    "scrolled": false
   },
   "outputs": [
    {
     "data": {
      "text/html": [
       "<div>\n",
       "<table border=\"1\" class=\"dataframe\">\n",
       "  <thead>\n",
       "    <tr style=\"text-align: right;\">\n",
       "      <th></th>\n",
       "      <th>dayofweek</th>\n",
       "      <th>month</th>\n",
       "      <th>day</th>\n",
       "      <th>year</th>\n",
       "      <th>temp_max</th>\n",
       "      <th>events</th>\n",
       "      <th>prediction_dummy</th>\n",
       "      <th>prediction_RF</th>\n",
       "      <th>prediction_SVM</th>\n",
       "      <th>prediction_LR</th>\n",
       "    </tr>\n",
       "  </thead>\n",
       "  <tbody>\n",
       "    <tr>\n",
       "      <th>0</th>\n",
       "      <td>thursday</td>\n",
       "      <td>3</td>\n",
       "      <td>10</td>\n",
       "      <td>2016</td>\n",
       "      <td>61</td>\n",
       "      <td>Rain</td>\n",
       "      <td>60.739453</td>\n",
       "      <td>73.035714</td>\n",
       "      <td>71.375672</td>\n",
       "      <td>70.581508</td>\n",
       "    </tr>\n",
       "    <tr>\n",
       "      <th>1</th>\n",
       "      <td>friday</td>\n",
       "      <td>3</td>\n",
       "      <td>11</td>\n",
       "      <td>2016</td>\n",
       "      <td>58</td>\n",
       "      <td>Rain</td>\n",
       "      <td>60.739453</td>\n",
       "      <td>72.028571</td>\n",
       "      <td>74.313201</td>\n",
       "      <td>72.396131</td>\n",
       "    </tr>\n",
       "    <tr>\n",
       "      <th>2</th>\n",
       "      <td>saturday</td>\n",
       "      <td>3</td>\n",
       "      <td>12</td>\n",
       "      <td>2016</td>\n",
       "      <td>58</td>\n",
       "      <td>Rain</td>\n",
       "      <td>60.739453</td>\n",
       "      <td>79.828571</td>\n",
       "      <td>73.493702</td>\n",
       "      <td>73.544096</td>\n",
       "    </tr>\n",
       "    <tr>\n",
       "      <th>3</th>\n",
       "      <td>sunday</td>\n",
       "      <td>3</td>\n",
       "      <td>13</td>\n",
       "      <td>2016</td>\n",
       "      <td>59</td>\n",
       "      <td>Rain</td>\n",
       "      <td>60.739453</td>\n",
       "      <td>72.300000</td>\n",
       "      <td>71.018511</td>\n",
       "      <td>71.414991</td>\n",
       "    </tr>\n",
       "    <tr>\n",
       "      <th>4</th>\n",
       "      <td>monday</td>\n",
       "      <td>3</td>\n",
       "      <td>14</td>\n",
       "      <td>2016</td>\n",
       "      <td>58</td>\n",
       "      <td>Partly Cloudy</td>\n",
       "      <td>60.739453</td>\n",
       "      <td>69.828571</td>\n",
       "      <td>64.237149</td>\n",
       "      <td>65.805211</td>\n",
       "    </tr>\n",
       "    <tr>\n",
       "      <th>5</th>\n",
       "      <td>tuesday</td>\n",
       "      <td>3</td>\n",
       "      <td>15</td>\n",
       "      <td>2016</td>\n",
       "      <td>60</td>\n",
       "      <td>Clear</td>\n",
       "      <td>60.739453</td>\n",
       "      <td>70.900000</td>\n",
       "      <td>65.291169</td>\n",
       "      <td>66.681323</td>\n",
       "    </tr>\n",
       "    <tr>\n",
       "      <th>6</th>\n",
       "      <td>wednesday</td>\n",
       "      <td>3</td>\n",
       "      <td>16</td>\n",
       "      <td>2016</td>\n",
       "      <td>65</td>\n",
       "      <td>Clear</td>\n",
       "      <td>60.739453</td>\n",
       "      <td>59.107143</td>\n",
       "      <td>60.174791</td>\n",
       "      <td>60.180884</td>\n",
       "    </tr>\n",
       "    <tr>\n",
       "      <th>7</th>\n",
       "      <td>thursday</td>\n",
       "      <td>3</td>\n",
       "      <td>17</td>\n",
       "      <td>2016</td>\n",
       "      <td>66</td>\n",
       "      <td>Clear</td>\n",
       "      <td>60.739453</td>\n",
       "      <td>59.200000</td>\n",
       "      <td>60.061323</td>\n",
       "      <td>59.286971</td>\n",
       "    </tr>\n",
       "    <tr>\n",
       "      <th>8</th>\n",
       "      <td>friday</td>\n",
       "      <td>3</td>\n",
       "      <td>18</td>\n",
       "      <td>2016</td>\n",
       "      <td>66</td>\n",
       "      <td>Clear</td>\n",
       "      <td>60.739453</td>\n",
       "      <td>56.764286</td>\n",
       "      <td>65.139014</td>\n",
       "      <td>62.968342</td>\n",
       "    </tr>\n",
       "    <tr>\n",
       "      <th>9</th>\n",
       "      <td>saturday</td>\n",
       "      <td>3</td>\n",
       "      <td>19</td>\n",
       "      <td>2016</td>\n",
       "      <td>66</td>\n",
       "      <td>Partly Cloudy</td>\n",
       "      <td>60.739453</td>\n",
       "      <td>62.021429</td>\n",
       "      <td>64.188578</td>\n",
       "      <td>62.326056</td>\n",
       "    </tr>\n",
       "  </tbody>\n",
       "</table>\n",
       "</div>"
      ],
      "text/plain": [
       "   dayofweek  month  day  year  temp_max         events  prediction_dummy  \\\n",
       "0   thursday      3   10  2016        61           Rain         60.739453   \n",
       "1     friday      3   11  2016        58           Rain         60.739453   \n",
       "2   saturday      3   12  2016        58           Rain         60.739453   \n",
       "3     sunday      3   13  2016        59           Rain         60.739453   \n",
       "4     monday      3   14  2016        58  Partly Cloudy         60.739453   \n",
       "5    tuesday      3   15  2016        60          Clear         60.739453   \n",
       "6  wednesday      3   16  2016        65          Clear         60.739453   \n",
       "7   thursday      3   17  2016        66          Clear         60.739453   \n",
       "8     friday      3   18  2016        66          Clear         60.739453   \n",
       "9   saturday      3   19  2016        66  Partly Cloudy         60.739453   \n",
       "\n",
       "   prediction_RF  prediction_SVM  prediction_LR  \n",
       "0      73.035714       71.375672      70.581508  \n",
       "1      72.028571       74.313201      72.396131  \n",
       "2      79.828571       73.493702      73.544096  \n",
       "3      72.300000       71.018511      71.414991  \n",
       "4      69.828571       64.237149      65.805211  \n",
       "5      70.900000       65.291169      66.681323  \n",
       "6      59.107143       60.174791      60.180884  \n",
       "7      59.200000       60.061323      59.286971  \n",
       "8      56.764286       65.139014      62.968342  \n",
       "9      62.021429       64.188578      62.326056  "
      ]
     },
     "execution_count": 573,
     "metadata": {},
     "output_type": "execute_result"
    }
   ],
   "source": [
    "prediction.loc[:,'prediction_dummy'] = dummy_model.predict(forecast2_std)\n",
    "prediction.loc[:,'prediction_RF'] = RF_model.predict(forecast2)\n",
    "prediction.loc[:,'prediction_SVM'] = SVM_model.predict(forecast2_std)\n",
    "prediction.loc[:,'prediction_LR'] = LR_model.predict(forecast2_std)\n",
    "prediction"
   ]
  },
  {
   "cell_type": "code",
   "execution_count": 574,
   "metadata": {
    "collapsed": false
   },
   "outputs": [
    {
     "data": {
      "text/html": [
       "<div>\n",
       "<table border=\"1\" class=\"dataframe\">\n",
       "  <thead>\n",
       "    <tr style=\"text-align: right;\">\n",
       "      <th></th>\n",
       "      <th>dayofweek</th>\n",
       "      <th>month</th>\n",
       "      <th>day</th>\n",
       "      <th>year</th>\n",
       "      <th>temp_max</th>\n",
       "      <th>events</th>\n",
       "      <th>prediction_dummy</th>\n",
       "      <th>prediction_RF</th>\n",
       "      <th>prediction_SVM</th>\n",
       "      <th>prediction_LR</th>\n",
       "      <th>mean</th>\n",
       "    </tr>\n",
       "  </thead>\n",
       "  <tbody>\n",
       "    <tr>\n",
       "      <th>0</th>\n",
       "      <td>thursday</td>\n",
       "      <td>3</td>\n",
       "      <td>10</td>\n",
       "      <td>2016</td>\n",
       "      <td>61</td>\n",
       "      <td>Rain</td>\n",
       "      <td>60.739453</td>\n",
       "      <td>73.035714</td>\n",
       "      <td>71.375672</td>\n",
       "      <td>70.581508</td>\n",
       "      <td>71.664298</td>\n",
       "    </tr>\n",
       "    <tr>\n",
       "      <th>1</th>\n",
       "      <td>friday</td>\n",
       "      <td>3</td>\n",
       "      <td>11</td>\n",
       "      <td>2016</td>\n",
       "      <td>58</td>\n",
       "      <td>Rain</td>\n",
       "      <td>60.739453</td>\n",
       "      <td>72.028571</td>\n",
       "      <td>74.313201</td>\n",
       "      <td>72.396131</td>\n",
       "      <td>72.912634</td>\n",
       "    </tr>\n",
       "    <tr>\n",
       "      <th>2</th>\n",
       "      <td>saturday</td>\n",
       "      <td>3</td>\n",
       "      <td>12</td>\n",
       "      <td>2016</td>\n",
       "      <td>58</td>\n",
       "      <td>Rain</td>\n",
       "      <td>60.739453</td>\n",
       "      <td>79.828571</td>\n",
       "      <td>73.493702</td>\n",
       "      <td>73.544096</td>\n",
       "      <td>75.622123</td>\n",
       "    </tr>\n",
       "    <tr>\n",
       "      <th>3</th>\n",
       "      <td>sunday</td>\n",
       "      <td>3</td>\n",
       "      <td>13</td>\n",
       "      <td>2016</td>\n",
       "      <td>59</td>\n",
       "      <td>Rain</td>\n",
       "      <td>60.739453</td>\n",
       "      <td>72.300000</td>\n",
       "      <td>71.018511</td>\n",
       "      <td>71.414991</td>\n",
       "      <td>71.577834</td>\n",
       "    </tr>\n",
       "    <tr>\n",
       "      <th>4</th>\n",
       "      <td>monday</td>\n",
       "      <td>3</td>\n",
       "      <td>14</td>\n",
       "      <td>2016</td>\n",
       "      <td>58</td>\n",
       "      <td>Partly Cloudy</td>\n",
       "      <td>60.739453</td>\n",
       "      <td>69.828571</td>\n",
       "      <td>64.237149</td>\n",
       "      <td>65.805211</td>\n",
       "      <td>66.623644</td>\n",
       "    </tr>\n",
       "    <tr>\n",
       "      <th>5</th>\n",
       "      <td>tuesday</td>\n",
       "      <td>3</td>\n",
       "      <td>15</td>\n",
       "      <td>2016</td>\n",
       "      <td>60</td>\n",
       "      <td>Clear</td>\n",
       "      <td>60.739453</td>\n",
       "      <td>70.900000</td>\n",
       "      <td>65.291169</td>\n",
       "      <td>66.681323</td>\n",
       "      <td>67.624164</td>\n",
       "    </tr>\n",
       "    <tr>\n",
       "      <th>6</th>\n",
       "      <td>wednesday</td>\n",
       "      <td>3</td>\n",
       "      <td>16</td>\n",
       "      <td>2016</td>\n",
       "      <td>65</td>\n",
       "      <td>Clear</td>\n",
       "      <td>60.739453</td>\n",
       "      <td>59.107143</td>\n",
       "      <td>60.174791</td>\n",
       "      <td>60.180884</td>\n",
       "      <td>59.820939</td>\n",
       "    </tr>\n",
       "    <tr>\n",
       "      <th>7</th>\n",
       "      <td>thursday</td>\n",
       "      <td>3</td>\n",
       "      <td>17</td>\n",
       "      <td>2016</td>\n",
       "      <td>66</td>\n",
       "      <td>Clear</td>\n",
       "      <td>60.739453</td>\n",
       "      <td>59.200000</td>\n",
       "      <td>60.061323</td>\n",
       "      <td>59.286971</td>\n",
       "      <td>59.516098</td>\n",
       "    </tr>\n",
       "    <tr>\n",
       "      <th>8</th>\n",
       "      <td>friday</td>\n",
       "      <td>3</td>\n",
       "      <td>18</td>\n",
       "      <td>2016</td>\n",
       "      <td>66</td>\n",
       "      <td>Clear</td>\n",
       "      <td>60.739453</td>\n",
       "      <td>56.764286</td>\n",
       "      <td>65.139014</td>\n",
       "      <td>62.968342</td>\n",
       "      <td>61.623881</td>\n",
       "    </tr>\n",
       "    <tr>\n",
       "      <th>9</th>\n",
       "      <td>saturday</td>\n",
       "      <td>3</td>\n",
       "      <td>19</td>\n",
       "      <td>2016</td>\n",
       "      <td>66</td>\n",
       "      <td>Partly Cloudy</td>\n",
       "      <td>60.739453</td>\n",
       "      <td>62.021429</td>\n",
       "      <td>64.188578</td>\n",
       "      <td>62.326056</td>\n",
       "      <td>62.845354</td>\n",
       "    </tr>\n",
       "  </tbody>\n",
       "</table>\n",
       "</div>"
      ],
      "text/plain": [
       "   dayofweek  month  day  year  temp_max         events  prediction_dummy  \\\n",
       "0   thursday      3   10  2016        61           Rain         60.739453   \n",
       "1     friday      3   11  2016        58           Rain         60.739453   \n",
       "2   saturday      3   12  2016        58           Rain         60.739453   \n",
       "3     sunday      3   13  2016        59           Rain         60.739453   \n",
       "4     monday      3   14  2016        58  Partly Cloudy         60.739453   \n",
       "5    tuesday      3   15  2016        60          Clear         60.739453   \n",
       "6  wednesday      3   16  2016        65          Clear         60.739453   \n",
       "7   thursday      3   17  2016        66          Clear         60.739453   \n",
       "8     friday      3   18  2016        66          Clear         60.739453   \n",
       "9   saturday      3   19  2016        66  Partly Cloudy         60.739453   \n",
       "\n",
       "   prediction_RF  prediction_SVM  prediction_LR       mean  \n",
       "0      73.035714       71.375672      70.581508  71.664298  \n",
       "1      72.028571       74.313201      72.396131  72.912634  \n",
       "2      79.828571       73.493702      73.544096  75.622123  \n",
       "3      72.300000       71.018511      71.414991  71.577834  \n",
       "4      69.828571       64.237149      65.805211  66.623644  \n",
       "5      70.900000       65.291169      66.681323  67.624164  \n",
       "6      59.107143       60.174791      60.180884  59.820939  \n",
       "7      59.200000       60.061323      59.286971  59.516098  \n",
       "8      56.764286       65.139014      62.968342  61.623881  \n",
       "9      62.021429       64.188578      62.326056  62.845354  "
      ]
     },
     "execution_count": 574,
     "metadata": {},
     "output_type": "execute_result"
    }
   ],
   "source": [
    "prediction.loc[:,'mean'] = (prediction['prediction_RF'] + prediction['prediction_SVM'] + prediction['prediction_LR']) / 3\n",
    "prediction"
   ]
  },
  {
   "cell_type": "code",
   "execution_count": 575,
   "metadata": {
    "collapsed": false
   },
   "outputs": [
    {
     "data": {
      "text/plain": [
       "array(['count', 'mean', 'std', 'min', '25%', '50%', '75%', 'max'], dtype=object)"
      ]
     },
     "execution_count": 575,
     "metadata": {},
     "output_type": "execute_result"
    }
   ],
   "source": [
    "data.describe().index.values"
   ]
  },
  {
   "cell_type": "code",
   "execution_count": 576,
   "metadata": {
    "collapsed": false
   },
   "outputs": [
    {
     "data": {
      "text/html": [
       "<div>\n",
       "<table border=\"1\" class=\"dataframe\">\n",
       "  <thead>\n",
       "    <tr style=\"text-align: right;\">\n",
       "      <th></th>\n",
       "      <th>crime_level_sum</th>\n",
       "      <th>crime_count</th>\n",
       "      <th>weather_crime_count</th>\n",
       "      <th>violent_count</th>\n",
       "      <th>COP_count</th>\n",
       "      <th>gun_crime_count</th>\n",
       "      <th>temp_max</th>\n",
       "      <th>temp_mean</th>\n",
       "      <th>temp_min</th>\n",
       "      <th>temp_delta</th>\n",
       "      <th>...</th>\n",
       "      <th>precipitation</th>\n",
       "      <th>cloud_cover</th>\n",
       "      <th>wind_direction</th>\n",
       "      <th>sun_length</th>\n",
       "      <th>moon_phase</th>\n",
       "      <th>sun_units</th>\n",
       "      <th>wind_chill_mean</th>\n",
       "      <th>wind_chill_max</th>\n",
       "      <th>heat_index</th>\n",
       "      <th>temp_apparent</th>\n",
       "    </tr>\n",
       "  </thead>\n",
       "  <tbody>\n",
       "    <tr>\n",
       "      <th>count</th>\n",
       "      <td>4712.000000</td>\n",
       "      <td>4712.000000</td>\n",
       "      <td>4712.00000</td>\n",
       "      <td>4712.000000</td>\n",
       "      <td>4712.000000</td>\n",
       "      <td>4712.000000</td>\n",
       "      <td>4712.000000</td>\n",
       "      <td>4712.000000</td>\n",
       "      <td>4712.000000</td>\n",
       "      <td>4712.000000</td>\n",
       "      <td>...</td>\n",
       "      <td>4712.000000</td>\n",
       "      <td>4712.000000</td>\n",
       "      <td>4712.000000</td>\n",
       "      <td>4712.000000</td>\n",
       "      <td>4712.000000</td>\n",
       "      <td>4712.000000</td>\n",
       "      <td>4712.000000</td>\n",
       "      <td>4712.000000</td>\n",
       "      <td>4712.000000</td>\n",
       "      <td>4712.000000</td>\n",
       "    </tr>\n",
       "    <tr>\n",
       "      <th>mean</th>\n",
       "      <td>718.853141</td>\n",
       "      <td>381.088285</td>\n",
       "      <td>77.77101</td>\n",
       "      <td>39.665110</td>\n",
       "      <td>60.673387</td>\n",
       "      <td>3.312394</td>\n",
       "      <td>65.824278</td>\n",
       "      <td>58.642827</td>\n",
       "      <td>51.158531</td>\n",
       "      <td>14.665747</td>\n",
       "      <td>...</td>\n",
       "      <td>0.047507</td>\n",
       "      <td>44.982173</td>\n",
       "      <td>246.217317</td>\n",
       "      <td>732.071806</td>\n",
       "      <td>0.512521</td>\n",
       "      <td>406.461629</td>\n",
       "      <td>58.642827</td>\n",
       "      <td>65.824278</td>\n",
       "      <td>216.634454</td>\n",
       "      <td>92.981840</td>\n",
       "    </tr>\n",
       "    <tr>\n",
       "      <th>std</th>\n",
       "      <td>85.498010</td>\n",
       "      <td>45.021208</td>\n",
       "      <td>13.70592</td>\n",
       "      <td>9.156712</td>\n",
       "      <td>11.106615</td>\n",
       "      <td>2.132232</td>\n",
       "      <td>8.388321</td>\n",
       "      <td>6.517580</td>\n",
       "      <td>5.697210</td>\n",
       "      <td>5.860592</td>\n",
       "      <td>...</td>\n",
       "      <td>0.192233</td>\n",
       "      <td>28.923517</td>\n",
       "      <td>71.538046</td>\n",
       "      <td>106.860863</td>\n",
       "      <td>0.288817</td>\n",
       "      <td>223.508617</td>\n",
       "      <td>6.517580</td>\n",
       "      <td>8.388321</td>\n",
       "      <td>60.170987</td>\n",
       "      <td>18.330431</td>\n",
       "    </tr>\n",
       "    <tr>\n",
       "      <th>min</th>\n",
       "      <td>292.000000</td>\n",
       "      <td>148.000000</td>\n",
       "      <td>18.00000</td>\n",
       "      <td>6.000000</td>\n",
       "      <td>18.000000</td>\n",
       "      <td>0.000000</td>\n",
       "      <td>45.000000</td>\n",
       "      <td>40.000000</td>\n",
       "      <td>32.000000</td>\n",
       "      <td>2.000000</td>\n",
       "      <td>...</td>\n",
       "      <td>0.000000</td>\n",
       "      <td>0.000000</td>\n",
       "      <td>1.000000</td>\n",
       "      <td>575.300000</td>\n",
       "      <td>0.012958</td>\n",
       "      <td>0.000000</td>\n",
       "      <td>40.000000</td>\n",
       "      <td>45.000000</td>\n",
       "      <td>55.000000</td>\n",
       "      <td>38.602076</td>\n",
       "    </tr>\n",
       "    <tr>\n",
       "      <th>30%</th>\n",
       "      <td>674.000000</td>\n",
       "      <td>358.000000</td>\n",
       "      <td>70.00000</td>\n",
       "      <td>35.000000</td>\n",
       "      <td>55.000000</td>\n",
       "      <td>2.000000</td>\n",
       "      <td>61.000000</td>\n",
       "      <td>55.000000</td>\n",
       "      <td>48.000000</td>\n",
       "      <td>11.000000</td>\n",
       "      <td>...</td>\n",
       "      <td>0.000000</td>\n",
       "      <td>25.000000</td>\n",
       "      <td>251.000000</td>\n",
       "      <td>647.621667</td>\n",
       "      <td>0.313055</td>\n",
       "      <td>264.590200</td>\n",
       "      <td>55.000000</td>\n",
       "      <td>61.000000</td>\n",
       "      <td>182.840227</td>\n",
       "      <td>82.448310</td>\n",
       "    </tr>\n",
       "    <tr>\n",
       "      <th>50%</th>\n",
       "      <td>717.000000</td>\n",
       "      <td>381.000000</td>\n",
       "      <td>77.00000</td>\n",
       "      <td>39.000000</td>\n",
       "      <td>60.000000</td>\n",
       "      <td>3.000000</td>\n",
       "      <td>65.000000</td>\n",
       "      <td>59.000000</td>\n",
       "      <td>52.000000</td>\n",
       "      <td>14.000000</td>\n",
       "      <td>...</td>\n",
       "      <td>0.000000</td>\n",
       "      <td>50.000000</td>\n",
       "      <td>273.000000</td>\n",
       "      <td>733.458333</td>\n",
       "      <td>0.512097</td>\n",
       "      <td>412.401167</td>\n",
       "      <td>59.000000</td>\n",
       "      <td>65.000000</td>\n",
       "      <td>219.701946</td>\n",
       "      <td>92.643745</td>\n",
       "    </tr>\n",
       "    <tr>\n",
       "      <th>70%</th>\n",
       "      <td>761.000000</td>\n",
       "      <td>404.000000</td>\n",
       "      <td>84.00000</td>\n",
       "      <td>44.000000</td>\n",
       "      <td>66.000000</td>\n",
       "      <td>4.000000</td>\n",
       "      <td>70.000000</td>\n",
       "      <td>62.000000</td>\n",
       "      <td>55.000000</td>\n",
       "      <td>17.000000</td>\n",
       "      <td>...</td>\n",
       "      <td>0.000000</td>\n",
       "      <td>62.000000</td>\n",
       "      <td>287.000000</td>\n",
       "      <td>817.625000</td>\n",
       "      <td>0.712135</td>\n",
       "      <td>546.989050</td>\n",
       "      <td>62.000000</td>\n",
       "      <td>70.000000</td>\n",
       "      <td>251.499201</td>\n",
       "      <td>102.705303</td>\n",
       "    </tr>\n",
       "    <tr>\n",
       "      <th>max</th>\n",
       "      <td>1008.000000</td>\n",
       "      <td>499.000000</td>\n",
       "      <td>158.00000</td>\n",
       "      <td>81.000000</td>\n",
       "      <td>122.000000</td>\n",
       "      <td>16.000000</td>\n",
       "      <td>99.000000</td>\n",
       "      <td>82.000000</td>\n",
       "      <td>69.000000</td>\n",
       "      <td>39.000000</td>\n",
       "      <td>...</td>\n",
       "      <td>3.430000</td>\n",
       "      <td>100.000000</td>\n",
       "      <td>359.000000</td>\n",
       "      <td>885.650000</td>\n",
       "      <td>1.012482</td>\n",
       "      <td>885.633333</td>\n",
       "      <td>82.000000</td>\n",
       "      <td>99.000000</td>\n",
       "      <td>429.726716</td>\n",
       "      <td>161.898428</td>\n",
       "    </tr>\n",
       "  </tbody>\n",
       "</table>\n",
       "<p>8 rows × 32 columns</p>\n",
       "</div>"
      ],
      "text/plain": [
       "       crime_level_sum  crime_count  weather_crime_count  violent_count  \\\n",
       "count      4712.000000  4712.000000           4712.00000    4712.000000   \n",
       "mean        718.853141   381.088285             77.77101      39.665110   \n",
       "std          85.498010    45.021208             13.70592       9.156712   \n",
       "min         292.000000   148.000000             18.00000       6.000000   \n",
       "30%         674.000000   358.000000             70.00000      35.000000   \n",
       "50%         717.000000   381.000000             77.00000      39.000000   \n",
       "70%         761.000000   404.000000             84.00000      44.000000   \n",
       "max        1008.000000   499.000000            158.00000      81.000000   \n",
       "\n",
       "         COP_count  gun_crime_count     temp_max    temp_mean     temp_min  \\\n",
       "count  4712.000000      4712.000000  4712.000000  4712.000000  4712.000000   \n",
       "mean     60.673387         3.312394    65.824278    58.642827    51.158531   \n",
       "std      11.106615         2.132232     8.388321     6.517580     5.697210   \n",
       "min      18.000000         0.000000    45.000000    40.000000    32.000000   \n",
       "30%      55.000000         2.000000    61.000000    55.000000    48.000000   \n",
       "50%      60.000000         3.000000    65.000000    59.000000    52.000000   \n",
       "70%      66.000000         4.000000    70.000000    62.000000    55.000000   \n",
       "max     122.000000        16.000000    99.000000    82.000000    69.000000   \n",
       "\n",
       "        temp_delta      ...        precipitation  cloud_cover  wind_direction  \\\n",
       "count  4712.000000      ...          4712.000000  4712.000000     4712.000000   \n",
       "mean     14.665747      ...             0.047507    44.982173      246.217317   \n",
       "std       5.860592      ...             0.192233    28.923517       71.538046   \n",
       "min       2.000000      ...             0.000000     0.000000        1.000000   \n",
       "30%      11.000000      ...             0.000000    25.000000      251.000000   \n",
       "50%      14.000000      ...             0.000000    50.000000      273.000000   \n",
       "70%      17.000000      ...             0.000000    62.000000      287.000000   \n",
       "max      39.000000      ...             3.430000   100.000000      359.000000   \n",
       "\n",
       "        sun_length   moon_phase    sun_units  wind_chill_mean  wind_chill_max  \\\n",
       "count  4712.000000  4712.000000  4712.000000      4712.000000     4712.000000   \n",
       "mean    732.071806     0.512521   406.461629        58.642827       65.824278   \n",
       "std     106.860863     0.288817   223.508617         6.517580        8.388321   \n",
       "min     575.300000     0.012958     0.000000        40.000000       45.000000   \n",
       "30%     647.621667     0.313055   264.590200        55.000000       61.000000   \n",
       "50%     733.458333     0.512097   412.401167        59.000000       65.000000   \n",
       "70%     817.625000     0.712135   546.989050        62.000000       70.000000   \n",
       "max     885.650000     1.012482   885.633333        82.000000       99.000000   \n",
       "\n",
       "        heat_index  temp_apparent  \n",
       "count  4712.000000    4712.000000  \n",
       "mean    216.634454      92.981840  \n",
       "std      60.170987      18.330431  \n",
       "min      55.000000      38.602076  \n",
       "30%     182.840227      82.448310  \n",
       "50%     219.701946      92.643745  \n",
       "70%     251.499201     102.705303  \n",
       "max     429.726716     161.898428  \n",
       "\n",
       "[8 rows x 32 columns]"
      ]
     },
     "execution_count": 576,
     "metadata": {},
     "output_type": "execute_result"
    }
   ],
   "source": [
    "data.describe(percentiles=[.30, .70]) \n",
    "\n"
   ]
  },
  {
   "cell_type": "code",
   "execution_count": 577,
   "metadata": {
    "collapsed": false
   },
   "outputs": [
    {
     "data": {
      "text/plain": [
       "55.0"
      ]
     },
     "execution_count": 577,
     "metadata": {},
     "output_type": "execute_result"
    }
   ],
   "source": [
    "limit_30 = data.describe(percentiles=[.30, .70]).loc['30%', crime_variable]               \n",
    "#limit_30 = lr_res.describe(percentiles=[.30, .70]).loc['30%', 0]               \n",
    "limit_30"
   ]
  },
  {
   "cell_type": "code",
   "execution_count": 578,
   "metadata": {
    "collapsed": false
   },
   "outputs": [
    {
     "data": {
      "text/plain": [
       "66.0"
      ]
     },
     "execution_count": 578,
     "metadata": {},
     "output_type": "execute_result"
    }
   ],
   "source": [
    "limit_70 = data.describe(percentiles=[.30, .70]).loc['70%', crime_variable]   \n",
    "#limit_70 = lr_res.describe(percentiles=[.30, .70]).loc['70%', 0]   \n",
    "limit_70"
   ]
  },
  {
   "cell_type": "code",
   "execution_count": 579,
   "metadata": {
    "collapsed": true
   },
   "outputs": [],
   "source": [
    "def set_class(predict):\n",
    "    if predict >= limit_70:\n",
    "        level = 'High'\n",
    "    elif predict > limit_30:\n",
    "        level = 'Average'\n",
    "    else :\n",
    "        level = 'Low'\n",
    "    return level"
   ]
  },
  {
   "cell_type": "code",
   "execution_count": 584,
   "metadata": {
    "collapsed": false
   },
   "outputs": [
    {
     "data": {
      "text/html": [
       "<div>\n",
       "<table border=\"1\" class=\"dataframe\">\n",
       "  <thead>\n",
       "    <tr style=\"text-align: right;\">\n",
       "      <th></th>\n",
       "      <th>dayofweek</th>\n",
       "      <th>month</th>\n",
       "      <th>day</th>\n",
       "      <th>year</th>\n",
       "      <th>temp_max</th>\n",
       "      <th>events</th>\n",
       "      <th>crime_stage</th>\n",
       "    </tr>\n",
       "  </thead>\n",
       "  <tbody>\n",
       "    <tr>\n",
       "      <th>0</th>\n",
       "      <td>thursday</td>\n",
       "      <td>3</td>\n",
       "      <td>10</td>\n",
       "      <td>2016</td>\n",
       "      <td>61</td>\n",
       "      <td>Rain</td>\n",
       "      <td>High</td>\n",
       "    </tr>\n",
       "    <tr>\n",
       "      <th>1</th>\n",
       "      <td>friday</td>\n",
       "      <td>3</td>\n",
       "      <td>11</td>\n",
       "      <td>2016</td>\n",
       "      <td>58</td>\n",
       "      <td>Rain</td>\n",
       "      <td>High</td>\n",
       "    </tr>\n",
       "    <tr>\n",
       "      <th>2</th>\n",
       "      <td>saturday</td>\n",
       "      <td>3</td>\n",
       "      <td>12</td>\n",
       "      <td>2016</td>\n",
       "      <td>58</td>\n",
       "      <td>Rain</td>\n",
       "      <td>High</td>\n",
       "    </tr>\n",
       "    <tr>\n",
       "      <th>3</th>\n",
       "      <td>sunday</td>\n",
       "      <td>3</td>\n",
       "      <td>13</td>\n",
       "      <td>2016</td>\n",
       "      <td>59</td>\n",
       "      <td>Rain</td>\n",
       "      <td>High</td>\n",
       "    </tr>\n",
       "    <tr>\n",
       "      <th>4</th>\n",
       "      <td>monday</td>\n",
       "      <td>3</td>\n",
       "      <td>14</td>\n",
       "      <td>2016</td>\n",
       "      <td>58</td>\n",
       "      <td>Partly Cloudy</td>\n",
       "      <td>High</td>\n",
       "    </tr>\n",
       "    <tr>\n",
       "      <th>5</th>\n",
       "      <td>tuesday</td>\n",
       "      <td>3</td>\n",
       "      <td>15</td>\n",
       "      <td>2016</td>\n",
       "      <td>60</td>\n",
       "      <td>Clear</td>\n",
       "      <td>High</td>\n",
       "    </tr>\n",
       "    <tr>\n",
       "      <th>6</th>\n",
       "      <td>wednesday</td>\n",
       "      <td>3</td>\n",
       "      <td>16</td>\n",
       "      <td>2016</td>\n",
       "      <td>65</td>\n",
       "      <td>Clear</td>\n",
       "      <td>Average</td>\n",
       "    </tr>\n",
       "    <tr>\n",
       "      <th>7</th>\n",
       "      <td>thursday</td>\n",
       "      <td>3</td>\n",
       "      <td>17</td>\n",
       "      <td>2016</td>\n",
       "      <td>66</td>\n",
       "      <td>Clear</td>\n",
       "      <td>Average</td>\n",
       "    </tr>\n",
       "    <tr>\n",
       "      <th>8</th>\n",
       "      <td>friday</td>\n",
       "      <td>3</td>\n",
       "      <td>18</td>\n",
       "      <td>2016</td>\n",
       "      <td>66</td>\n",
       "      <td>Clear</td>\n",
       "      <td>Average</td>\n",
       "    </tr>\n",
       "    <tr>\n",
       "      <th>9</th>\n",
       "      <td>saturday</td>\n",
       "      <td>3</td>\n",
       "      <td>19</td>\n",
       "      <td>2016</td>\n",
       "      <td>66</td>\n",
       "      <td>Partly Cloudy</td>\n",
       "      <td>Average</td>\n",
       "    </tr>\n",
       "  </tbody>\n",
       "</table>\n",
       "</div>"
      ],
      "text/plain": [
       "   dayofweek  month  day  year  temp_max         events crime_stage\n",
       "0   thursday      3   10  2016        61           Rain        High\n",
       "1     friday      3   11  2016        58           Rain        High\n",
       "2   saturday      3   12  2016        58           Rain        High\n",
       "3     sunday      3   13  2016        59           Rain        High\n",
       "4     monday      3   14  2016        58  Partly Cloudy        High\n",
       "5    tuesday      3   15  2016        60          Clear        High\n",
       "6  wednesday      3   16  2016        65          Clear     Average\n",
       "7   thursday      3   17  2016        66          Clear     Average\n",
       "8     friday      3   18  2016        66          Clear     Average\n",
       "9   saturday      3   19  2016        66  Partly Cloudy     Average"
      ]
     },
     "execution_count": 584,
     "metadata": {},
     "output_type": "execute_result"
    }
   ],
   "source": [
    "prediction.loc[:, 'crime_stage'] = prediction['mean'].apply(set_class)\n",
    "prediction[['dayofweek', 'month', 'day','year', 'temp_max', 'events', 'crime_stage']]"
   ]
  },
  {
   "cell_type": "code",
   "execution_count": 583,
   "metadata": {
    "collapsed": false
   },
   "outputs": [
    {
     "data": {
      "text/plain": [
       "Average    1689\n",
       "Low        1557\n",
       "High       1466\n",
       "Name: COP_count, dtype: int64"
      ]
     },
     "execution_count": 583,
     "metadata": {},
     "output_type": "execute_result"
    }
   ],
   "source": [
    "data[crime_variable].apply(set_class).value_counts()"
   ]
  },
  {
   "cell_type": "markdown",
   "metadata": {},
   "source": [
    "# Working Area....."
   ]
  },
  {
   "cell_type": "code",
   "execution_count": null,
   "metadata": {
    "collapsed": false
   },
   "outputs": [],
   "source": [
    "# look at predictions\n",
    "lr_res = pd.DataFrame(LR_model.predict(X_test_std))\n",
    "lr_res.describe()"
   ]
  },
  {
   "cell_type": "markdown",
   "metadata": {},
   "source": [
    "## PCA -  Try reducing features"
   ]
  },
  {
   "cell_type": "code",
   "execution_count": null,
   "metadata": {
    "collapsed": false
   },
   "outputs": [],
   "source": [
    "X_train.shape"
   ]
  },
  {
   "cell_type": "code",
   "execution_count": null,
   "metadata": {
    "collapsed": true
   },
   "outputs": [],
   "source": [
    "pca = PCA(n_components=0.8, whiten=True)\n",
    "#pca = PCA(n_components=22, whiten=True)"
   ]
  },
  {
   "cell_type": "code",
   "execution_count": null,
   "metadata": {
    "collapsed": false
   },
   "outputs": [],
   "source": [
    "# your code here\n",
    "pca.fit(X_train_std)\n",
    "pca.explained_variance_"
   ]
  },
  {
   "cell_type": "code",
   "execution_count": null,
   "metadata": {
    "collapsed": false
   },
   "outputs": [],
   "source": [
    "var = pca.explained_variance_ratio_\n",
    "var"
   ]
  },
  {
   "cell_type": "code",
   "execution_count": null,
   "metadata": {
    "collapsed": false
   },
   "outputs": [],
   "source": [
    "# your answer here\n",
    "plt.plot(var)\n",
    "plt.ylabel('Variance Ratio')\n",
    "plt.show()"
   ]
  },
  {
   "cell_type": "code",
   "execution_count": null,
   "metadata": {
    "collapsed": true
   },
   "outputs": [],
   "source": [
    "X_train_pca = pd.DataFrame(pca.transform(X_train_std))\n",
    "X_test_pca = pd.DataFrame(pca.transform(X_test_std))"
   ]
  },
  {
   "cell_type": "code",
   "execution_count": null,
   "metadata": {
    "collapsed": false
   },
   "outputs": [],
   "source": [
    "print X_test_pca.shape, X_train_pca.shape"
   ]
  },
  {
   "cell_type": "markdown",
   "metadata": {},
   "source": [
    "## LR"
   ]
  },
  {
   "cell_type": "markdown",
   "metadata": {},
   "source": [
    "### run with X_train_pca or with X_2"
   ]
  },
  {
   "cell_type": "code",
   "execution_count": null,
   "metadata": {
    "collapsed": false
   },
   "outputs": [],
   "source": [
    "type(X_3),type(y_2)"
   ]
  },
  {
   "cell_type": "code",
   "execution_count": null,
   "metadata": {
    "collapsed": false
   },
   "outputs": [],
   "source": [
    "X_3[0:2]"
   ]
  },
  {
   "cell_type": "code",
   "execution_count": null,
   "metadata": {
    "collapsed": false
   },
   "outputs": [],
   "source": [
    "y_2.head()"
   ]
  },
  {
   "cell_type": "code",
   "execution_count": null,
   "metadata": {
    "collapsed": false
   },
   "outputs": [],
   "source": [
    "#X_2.reset_index()\n",
    "\n",
    "#y_2.reset_index().drop(['index'], axis=1)\n",
    "y_3 = y_2.reset_index()\n",
    "\n",
    "y_3.head()"
   ]
  },
  {
   "cell_type": "code",
   "execution_count": null,
   "metadata": {
    "collapsed": false
   },
   "outputs": [],
   "source": [
    "y_4 = y_3['crime_count']\n",
    "\n",
    "y_4.head()"
   ]
  },
  {
   "cell_type": "code",
   "execution_count": null,
   "metadata": {
    "collapsed": false
   },
   "outputs": [],
   "source": [
    "X_3 = X_2.reset_index()\n",
    "X_3.head()"
   ]
  },
  {
   "cell_type": "code",
   "execution_count": null,
   "metadata": {
    "collapsed": false
   },
   "outputs": [],
   "source": [
    "X_3.drop('index', axis=1, inplace=True)\n",
    "X_3.head()"
   ]
  },
  {
   "cell_type": "code",
   "execution_count": null,
   "metadata": {
    "collapsed": false
   },
   "outputs": [],
   "source": [
    "X_3.shape, y_4.shape"
   ]
  },
  {
   "cell_type": "code",
   "execution_count": null,
   "metadata": {
    "collapsed": false
   },
   "outputs": [],
   "source": [
    "# using Mean Absolute scoring\n",
    "parameters = {'alpha': np.linspace(.01,1,20)}\n",
    "LR_2 = Lasso(normalize=False)\n",
    "clf_2 = GridSearchCV(LR_2, parameters, scoring=scoring, cv=cv)\n",
    "clf_2.fit(X_2_std, y_2)\n",
    "clf_2.best_params_"
   ]
  },
  {
   "cell_type": "code",
   "execution_count": null,
   "metadata": {
    "collapsed": true
   },
   "outputs": [],
   "source": [
    "LR_2_model = clf_2.best_estimator_"
   ]
  },
  {
   "cell_type": "code",
   "execution_count": null,
   "metadata": {
    "collapsed": false
   },
   "outputs": [],
   "source": [
    "draw_learning_curve(LR_2_model, X_2, y_2, estimator_titles=['Learning Curve for lasso'], \n",
    "                    cv=cv, scoring=scoring);"
   ]
  },
  {
   "cell_type": "code",
   "execution_count": null,
   "metadata": {
    "collapsed": false
   },
   "outputs": [],
   "source": [
    "LR_2_model.score(X_test, y_test)\n"
   ]
  },
  {
   "cell_type": "code",
   "execution_count": null,
   "metadata": {
    "collapsed": true
   },
   "outputs": [],
   "source": []
  },
  {
   "cell_type": "code",
   "execution_count": null,
   "metadata": {
    "collapsed": false
   },
   "outputs": [],
   "source": [
    "# create a dataframe to show our coefficients\n",
    "d = {'features': X_test_pca.columns, 'coefficients': LR_2_model.coef_}\n",
    "pd.DataFrame(d)"
   ]
  },
  {
   "cell_type": "markdown",
   "metadata": {},
   "source": [
    "### SVM"
   ]
  },
  {
   "cell_type": "code",
   "execution_count": null,
   "metadata": {
    "collapsed": true
   },
   "outputs": [],
   "source": []
  },
  {
   "cell_type": "code",
   "execution_count": null,
   "metadata": {
    "collapsed": true
   },
   "outputs": [],
   "source": []
  },
  {
   "cell_type": "code",
   "execution_count": null,
   "metadata": {
    "collapsed": false
   },
   "outputs": [],
   "source": [
    "params = {'C': np.linspace(.01, 5, 4), 'kernel': ['poly', 'rbf', 'sigmoid', 'linear'], 'degree': range(1,4), 'gamma': np.linspace(.01, .03, 4)}\n",
    "\n",
    "\n",
    "clf_pca = SVR()\n",
    "grid_pca = GridSearchCV(clf_pca, params, cv=cv, scoring=scoring, n_jobs=-1)\n",
    "grid_pca.fit(X_train_pca, y_train)"
   ]
  },
  {
   "cell_type": "code",
   "execution_count": null,
   "metadata": {
    "collapsed": false
   },
   "outputs": [],
   "source": [
    "grid_pca.best_params_"
   ]
  },
  {
   "cell_type": "code",
   "execution_count": null,
   "metadata": {
    "collapsed": false
   },
   "outputs": [],
   "source": [
    "SVM_model_pca = grid_pca.best_estimator_\n",
    "draw_learning_curve(SVM_model_pca, X_train_pca, y_train, estimator_titles=['Learning Curve for SVC. Best'], \n",
    "                    cv=cv, scoring=scoring);"
   ]
  },
  {
   "cell_type": "code",
   "execution_count": null,
   "metadata": {
    "collapsed": false
   },
   "outputs": [],
   "source": [
    "print  SVM_model_pca.score(X_test_pca, y_test)\n"
   ]
  },
  {
   "cell_type": "code",
   "execution_count": null,
   "metadata": {
    "collapsed": false
   },
   "outputs": [],
   "source": [
    "# Get Mean Error of the test set\n",
    "print mean_absolute_error(y_test, SVM_model_pca.predict(X_test_pca))\n",
    "  "
   ]
  },
  {
   "cell_type": "code",
   "execution_count": null,
   "metadata": {
    "collapsed": true
   },
   "outputs": [],
   "source": []
  }
 ],
 "metadata": {
  "kernelspec": {
   "display_name": "Python 2",
   "language": "python",
   "name": "python2"
  },
  "language_info": {
   "codemirror_mode": {
    "name": "ipython",
    "version": 2
   },
   "file_extension": ".py",
   "mimetype": "text/x-python",
   "name": "python",
   "nbconvert_exporter": "python",
   "pygments_lexer": "ipython2",
   "version": "2.7.11"
  }
 },
 "nbformat": 4,
 "nbformat_minor": 0
}
